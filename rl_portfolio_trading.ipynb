{
 "cells": [
  {
   "cell_type": "markdown",
   "metadata": {
    "colab_type": "text",
    "id": "view-in-github"
   },
   "source": [
    "<a href=\"https://colab.research.google.com/github/AI4Finance-LLC/FinRL-Library/blob/master/FinRL_stock_trading_NeurIPS_2018.ipynb\" target=\"_parent\"><img src=\"https://colab.research.google.com/assets/colab-badge.svg\" alt=\"Open In Colab\"/></a>"
   ]
  },
  {
   "cell_type": "markdown",
   "metadata": {
    "id": "gXaoZs2lh1hi"
   },
   "source": [
    "# Deep Reinforcement Learning for Stock Trading from Scratch: Multiple Stock Trading\n",
    "\n",
    "Tutorials to use OpenAI DRL to trade multiple stocks in one Jupyter Notebook | Presented at NeurIPS 2020: Deep RL Workshop\n",
    "\n",
    "* This blog uses FinRL to reproduce the paper: Practical Deep Reinforcement Learning Approach for Stock Trading, Workshop on Challenges and Opportunities for AI in Financial Services, NeurIPS 2018.\n",
    "* Check out medium blog for detailed explanations: https://towardsdatascience.com/finrl-for-quantitative-finance-tutorial-for-multiple-stock-trading-7b00763b7530\n",
    "* Please report any issues to our Github: https://github.com/AI4Finance-LLC/FinRL-Library/issues\n",
    "* **Pytorch Version** \n",
    "\n"
   ]
  },
  {
   "cell_type": "markdown",
   "metadata": {
    "id": "lGunVt8oLCVS"
   },
   "source": [
    "# Content"
   ]
  },
  {
   "cell_type": "markdown",
   "metadata": {
    "id": "HOzAKQ-SLGX6"
   },
   "source": [
    "* [1. Problem Definition](#0)\n",
    "* [2. Getting Started - Load Python packages](#1)\n",
    "    * [2.1. Install Packages](#1.1)    \n",
    "    * [2.2. Check Additional Packages](#1.2)\n",
    "    * [2.3. Import Packages](#1.3)\n",
    "    * [2.4. Create Folders](#1.4)\n",
    "* [3. Download Data](#2)\n",
    "* [4. Preprocess Data](#3)        \n",
    "    * [4.1. Technical Indicators](#3.1)\n",
    "    * [4.2. Perform Feature Engineering](#3.2)\n",
    "* [5.Build Environment](#4)  \n",
    "    * [5.1. Training & Trade Data Split](#4.1)\n",
    "    * [5.2. User-defined Environment](#4.2)   \n",
    "    * [5.3. Initialize Environment](#4.3)    \n",
    "* [6.Implement DRL Algorithms](#5)  \n",
    "* [7.Backtesting Performance](#6)  \n",
    "    * [7.1. BackTestStats](#6.1)\n",
    "    * [7.2. BackTestPlot](#6.2)   \n",
    "    * [7.3. Baseline Stats](#6.3)   \n",
    "    * [7.3. Compare to Stock Market Index](#6.4)             "
   ]
  },
  {
   "cell_type": "markdown",
   "metadata": {
    "id": "sApkDlD9LIZv"
   },
   "source": [
    "<a id='0'></a>\n",
    "# Part 1. Problem Definition"
   ]
  },
  {
   "cell_type": "markdown",
   "metadata": {
    "id": "HjLD2TZSLKZ-"
   },
   "source": [
    "This problem is to design an automated trading solution for single stock trading. We model the stock trading process as a Markov Decision Process (MDP). We then formulate our trading goal as a maximization problem.\n",
    "\n",
    "The algorithm is trained using Deep Reinforcement Learning (DRL) algorithms and the components of the reinforcement learning environment are:\n",
    "\n",
    "\n",
    "* Action: The action space describes the allowed actions that the agent interacts with the\n",
    "environment. Normally, a ∈ A includes three actions: a ∈ {−1, 0, 1}, where −1, 0, 1 represent\n",
    "selling, holding, and buying one stock. Also, an action can be carried upon multiple shares. We use\n",
    "an action space {−k, ..., −1, 0, 1, ..., k}, where k denotes the number of shares. For example, \"Buy\n",
    "10 shares of AAPL\" or \"Sell 10 shares of AAPL\" are 10 or −10, respectively\n",
    "\n",
    "* Reward function: r(s, a, s′) is the incentive mechanism for an agent to learn a better action. The change of the portfolio value when action a is taken at state s and arriving at new state s',  i.e., r(s, a, s′) = v′ − v, where v′ and v represent the portfolio\n",
    "values at state s′ and s, respectively\n",
    "\n",
    "* State: The state space describes the observations that the agent receives from the environment. Just as a human trader needs to analyze various information before executing a trade, so\n",
    "our trading agent observes many different features to better learn in an interactive environment.\n",
    "\n",
    "* Environment: Dow 30 consituents\n",
    "\n",
    "\n",
    "The data of the single stock that we will be using for this case study is obtained from Yahoo Finance API. The data contains Open-High-Low-Close price and volume.\n"
   ]
  },
  {
   "cell_type": "markdown",
   "metadata": {
    "id": "Ffsre789LY08"
   },
   "source": [
    "<a id='1'></a>\n",
    "# Part 2. Getting Started- Load Python Packages"
   ]
  },
  {
   "cell_type": "markdown",
   "metadata": {
    "id": "Uy5_PTmOh1hj"
   },
   "source": [
    "<a id='1.1'></a>\n",
    "## 2.1. Install all the packages through FinRL library\n"
   ]
  },
  {
   "cell_type": "code",
   "execution_count": null,
   "metadata": {
    "colab": {
     "base_uri": "https://localhost:8080/"
    },
    "id": "mPT0ipYE28wL",
    "outputId": "4a130fa7-6727-4a17-89ba-855191887f81"
   },
   "outputs": [],
   "source": []
  },
  {
   "cell_type": "markdown",
   "metadata": {
    "id": "osBHhVysOEzi"
   },
   "source": [
    "\n",
    "<a id='1.2'></a>\n",
    "## 2.2. Check if the additional packages needed are present, if not install them. \n",
    "* Yahoo Finance API\n",
    "* pandas\n",
    "* numpy\n",
    "* matplotlib\n",
    "* stockstats\n",
    "* OpenAI gym\n",
    "* stable-baselines\n",
    "* tensorflow\n",
    "* pyfolio"
   ]
  },
  {
   "cell_type": "markdown",
   "metadata": {
    "id": "nGv01K8Sh1hn"
   },
   "source": [
    "<a id='1.3'></a>\n",
    "## 2.3. Import Packages"
   ]
  },
  {
   "cell_type": "code",
   "execution_count": null,
   "metadata": {},
   "outputs": [],
   "source": [
    "!pip install yfinance\n",
    "!pip install stockstats\n",
    "!pip install pyfolio\n",
    "!pip install gym"
   ]
  },
  {
   "cell_type": "code",
   "execution_count": 1,
   "metadata": {
    "colab": {
     "base_uri": "https://localhost:8080/"
    },
    "id": "lPqeTTwoh1hn",
    "outputId": "b5fdebb3-b7d0-4fe6-b993-fc4c1efc51ff"
   },
   "outputs": [
    {
     "name": "stderr",
     "output_type": "stream",
     "text": [
      "d:\\installedsoftware\\anaconda3\\envs\\py36-notebook\\lib\\site-packages\\pyfolio\\pos.py:28: UserWarning: Module \"zipline.assets\" not found; mutltipliers will not be applied to position notionals.\n",
      "  ' to position notionals.'\n"
     ]
    }
   ],
   "source": [
    "import pandas as pd\n",
    "import numpy as np\n",
    "import matplotlib\n",
    "import matplotlib.pyplot as plt\n",
    "# matplotlib.use('Agg')\n",
    "import datetime\n",
    "\n",
    "%matplotlib inline\n",
    "from finrl.config import config\n",
    "from finrl.marketdata.yahoodownloader import YahooDownloader\n",
    "from finrl.preprocessing.preprocessors import FeatureEngineer\n",
    "from finrl.preprocessing.data import data_split\n",
    "from finrl.env.env_stocktrading import StockTradingEnv\n",
    "from finrl.model.models import DRLAgent\n",
    "from finrl.trade.backtest import backtest_stats, backtest_plot, get_daily_return, get_baseline\n",
    "\n",
    "from pprint import pprint\n",
    "\n",
    "import sys\n",
    "sys.path.append(\"../FinRL-Library\")\n",
    "\n",
    "import itertools"
   ]
  },
  {
   "cell_type": "markdown",
   "metadata": {
    "id": "T2owTj985RW4"
   },
   "source": [
    "<a id='1.4'></a>\n",
    "## 2.4. Create Folders"
   ]
  },
  {
   "cell_type": "code",
   "execution_count": 2,
   "metadata": {
    "id": "w9A8CN5R5PuZ"
   },
   "outputs": [],
   "source": [
    "import os\n",
    "if not os.path.exists(\"./\" + config.DATA_SAVE_DIR):\n",
    "    os.makedirs(\"./\" + config.DATA_SAVE_DIR)\n",
    "if not os.path.exists(\"./\" + config.TRAINED_MODEL_DIR):\n",
    "    os.makedirs(\"./\" + config.TRAINED_MODEL_DIR)\n",
    "if not os.path.exists(\"./\" + config.TENSORBOARD_LOG_DIR):\n",
    "    os.makedirs(\"./\" + config.TENSORBOARD_LOG_DIR)\n",
    "if not os.path.exists(\"./\" + config.RESULTS_DIR):\n",
    "    os.makedirs(\"./\" + config.RESULTS_DIR)"
   ]
  },
  {
   "cell_type": "markdown",
   "metadata": {
    "id": "A289rQWMh1hq"
   },
   "source": [
    "<a id='2'></a>\n",
    "# Part 3. Download Data\n",
    "Yahoo Finance is a website that provides stock data, financial news, financial reports, etc. All the data provided by Yahoo Finance is free.\n",
    "* FinRL uses a class **YahooDownloader** to fetch data from Yahoo Finance API\n",
    "* Call Limit: Using the Public API (without authentication), you are limited to 2,000 requests per hour per IP (or up to a total of 48,000 requests a day).\n"
   ]
  },
  {
   "cell_type": "markdown",
   "metadata": {
    "id": "NPeQ7iS-LoMm"
   },
   "source": [
    "\n",
    "\n",
    "-----\n",
    "class YahooDownloader:\n",
    "    Provides methods for retrieving daily stock data from\n",
    "    Yahoo Finance API\n",
    "\n",
    "    Attributes\n",
    "    ----------\n",
    "        start_date : str\n",
    "            start date of the data (modified from config.py)\n",
    "        end_date : str\n",
    "            end date of the data (modified from config.py)\n",
    "        ticker_list : list\n",
    "            a list of stock tickers (modified from config.py)\n",
    "\n",
    "    Methods\n",
    "    -------\n",
    "    fetch_data()\n",
    "        Fetches data from yahoo API\n"
   ]
  },
  {
   "cell_type": "code",
   "execution_count": 3,
   "metadata": {
    "colab": {
     "base_uri": "https://localhost:8080/",
     "height": 35
    },
    "id": "h3XJnvrbLp-C",
    "outputId": "90ad1901-fda9-46f8-80f6-083cd8d6293a"
   },
   "outputs": [
    {
     "data": {
      "text/plain": [
       "'2000-01-01'"
      ]
     },
     "execution_count": 3,
     "metadata": {},
     "output_type": "execute_result"
    }
   ],
   "source": [
    "# from config.py start_date is a string\n",
    "config.START_DATE"
   ]
  },
  {
   "cell_type": "code",
   "execution_count": 4,
   "metadata": {
    "colab": {
     "base_uri": "https://localhost:8080/",
     "height": 35
    },
    "id": "FUnY8WEfLq3C",
    "outputId": "9bd12370-a5e9-4eb3-bc2a-d0d0610f14f7"
   },
   "outputs": [
    {
     "data": {
      "text/plain": [
       "'2021-01-01'"
      ]
     },
     "execution_count": 4,
     "metadata": {},
     "output_type": "execute_result"
    }
   ],
   "source": [
    "# from config.py end_date is a string\n",
    "config.END_DATE"
   ]
  },
  {
   "cell_type": "code",
   "execution_count": 5,
   "metadata": {
    "colab": {
     "base_uri": "https://localhost:8080/"
    },
    "id": "JzqRRTOX6aFu",
    "outputId": "8acb257f-171e-4069-8ed3-1e7311ffecc2"
   },
   "outputs": [
    {
     "name": "stdout",
     "output_type": "stream",
     "text": [
      "['AAPL', 'MSFT', 'JPM', 'V', 'RTX', 'PG', 'GS', 'NKE', 'DIS', 'AXP', 'HD', 'INTC', 'WMT', 'IBM', 'MRK', 'UNH', 'KO', 'CAT', 'TRV', 'JNJ', 'CVX', 'MCD', 'VZ', 'CSCO', 'XOM', 'BA', 'MMM', 'PFE', 'WBA', 'DD']\n"
     ]
    }
   ],
   "source": [
    "print(config.DOW_30_TICKER)"
   ]
  },
  {
   "cell_type": "code",
   "execution_count": 6,
   "metadata": {
    "colab": {
     "base_uri": "https://localhost:8080/"
    },
    "id": "yCKm4om-s9kE",
    "outputId": "2ba50005-317e-4fa0-d31a-70705b58d88a"
   },
   "outputs": [
    {
     "name": "stdout",
     "output_type": "stream",
     "text": [
      "[*********************100%***********************]  1 of 1 completed\n",
      "[*********************100%***********************]  1 of 1 completed\n",
      "[*********************100%***********************]  1 of 1 completed\n",
      "[*********************100%***********************]  1 of 1 completed\n",
      "[*********************100%***********************]  1 of 1 completed\n",
      "[*********************100%***********************]  1 of 1 completed\n",
      "[*********************100%***********************]  1 of 1 completed\n",
      "[*********************100%***********************]  1 of 1 completed\n",
      "[*********************100%***********************]  1 of 1 completed\n",
      "[*********************100%***********************]  1 of 1 completed\n",
      "[*********************100%***********************]  1 of 1 completed\n",
      "[*********************100%***********************]  1 of 1 completed\n",
      "[*********************100%***********************]  1 of 1 completed\n",
      "[*********************100%***********************]  1 of 1 completed\n",
      "[*********************100%***********************]  1 of 1 completed\n",
      "[*********************100%***********************]  1 of 1 completed\n",
      "[*********************100%***********************]  1 of 1 completed\n",
      "[*********************100%***********************]  1 of 1 completed\n",
      "[*********************100%***********************]  1 of 1 completed\n",
      "[*********************100%***********************]  1 of 1 completed\n",
      "[*********************100%***********************]  1 of 1 completed\n",
      "[*********************100%***********************]  1 of 1 completed\n",
      "[*********************100%***********************]  1 of 1 completed\n",
      "[*********************100%***********************]  1 of 1 completed\n",
      "[*********************100%***********************]  1 of 1 completed\n",
      "[*********************100%***********************]  1 of 1 completed\n",
      "[*********************100%***********************]  1 of 1 completed\n",
      "[*********************100%***********************]  1 of 1 completed\n",
      "[*********************100%***********************]  1 of 1 completed\n",
      "[*********************100%***********************]  1 of 1 completed\n",
      "Shape of DataFrame:  (90630, 8)\n"
     ]
    }
   ],
   "source": [
    "df = YahooDownloader(start_date = '2009-01-01',\n",
    "                     end_date = '2021-01-01',\n",
    "                     ticker_list = config.DOW_30_TICKER).fetch_data()"
   ]
  },
  {
   "cell_type": "code",
   "execution_count": 7,
   "metadata": {
    "colab": {
     "base_uri": "https://localhost:8080/"
    },
    "id": "CV3HrZHLh1hy",
    "outputId": "a0fc1d82-5e09-4ddc-b624-24f304db7f79"
   },
   "outputs": [
    {
     "data": {
      "text/plain": [
       "(90630, 8)"
      ]
     },
     "execution_count": 7,
     "metadata": {},
     "output_type": "execute_result"
    }
   ],
   "source": [
    "df.shape"
   ]
  },
  {
   "cell_type": "code",
   "execution_count": 8,
   "metadata": {
    "colab": {
     "base_uri": "https://localhost:8080/",
     "height": 204
    },
    "id": "4hYkeaPiICHS",
    "outputId": "45c1f6a6-d7ef-4278-f0a6-1182f4c02189"
   },
   "outputs": [
    {
     "data": {
      "text/html": [
       "<div>\n",
       "<style scoped>\n",
       "    .dataframe tbody tr th:only-of-type {\n",
       "        vertical-align: middle;\n",
       "    }\n",
       "\n",
       "    .dataframe tbody tr th {\n",
       "        vertical-align: top;\n",
       "    }\n",
       "\n",
       "    .dataframe thead th {\n",
       "        text-align: right;\n",
       "    }\n",
       "</style>\n",
       "<table border=\"1\" class=\"dataframe\">\n",
       "  <thead>\n",
       "    <tr style=\"text-align: right;\">\n",
       "      <th></th>\n",
       "      <th>date</th>\n",
       "      <th>open</th>\n",
       "      <th>high</th>\n",
       "      <th>low</th>\n",
       "      <th>close</th>\n",
       "      <th>volume</th>\n",
       "      <th>tic</th>\n",
       "      <th>day</th>\n",
       "    </tr>\n",
       "  </thead>\n",
       "  <tbody>\n",
       "    <tr>\n",
       "      <th>0</th>\n",
       "      <td>2009-01-02</td>\n",
       "      <td>3.067143</td>\n",
       "      <td>3.251429</td>\n",
       "      <td>3.041429</td>\n",
       "      <td>2.787006</td>\n",
       "      <td>746015200</td>\n",
       "      <td>AAPL</td>\n",
       "      <td>4</td>\n",
       "    </tr>\n",
       "    <tr>\n",
       "      <th>1</th>\n",
       "      <td>2009-01-02</td>\n",
       "      <td>18.570000</td>\n",
       "      <td>19.520000</td>\n",
       "      <td>18.400000</td>\n",
       "      <td>15.698216</td>\n",
       "      <td>10955700</td>\n",
       "      <td>AXP</td>\n",
       "      <td>4</td>\n",
       "    </tr>\n",
       "    <tr>\n",
       "      <th>2</th>\n",
       "      <td>2009-01-02</td>\n",
       "      <td>42.799999</td>\n",
       "      <td>45.560001</td>\n",
       "      <td>42.779999</td>\n",
       "      <td>33.941101</td>\n",
       "      <td>7010200</td>\n",
       "      <td>BA</td>\n",
       "      <td>4</td>\n",
       "    </tr>\n",
       "    <tr>\n",
       "      <th>3</th>\n",
       "      <td>2009-01-02</td>\n",
       "      <td>44.910000</td>\n",
       "      <td>46.980000</td>\n",
       "      <td>44.709999</td>\n",
       "      <td>32.830360</td>\n",
       "      <td>7117200</td>\n",
       "      <td>CAT</td>\n",
       "      <td>4</td>\n",
       "    </tr>\n",
       "    <tr>\n",
       "      <th>4</th>\n",
       "      <td>2009-01-02</td>\n",
       "      <td>16.410000</td>\n",
       "      <td>17.000000</td>\n",
       "      <td>16.250000</td>\n",
       "      <td>12.592946</td>\n",
       "      <td>40980600</td>\n",
       "      <td>CSCO</td>\n",
       "      <td>4</td>\n",
       "    </tr>\n",
       "  </tbody>\n",
       "</table>\n",
       "</div>"
      ],
      "text/plain": [
       "         date       open       high        low      close     volume   tic  \\\n",
       "0  2009-01-02   3.067143   3.251429   3.041429   2.787006  746015200  AAPL   \n",
       "1  2009-01-02  18.570000  19.520000  18.400000  15.698216   10955700   AXP   \n",
       "2  2009-01-02  42.799999  45.560001  42.779999  33.941101    7010200    BA   \n",
       "3  2009-01-02  44.910000  46.980000  44.709999  32.830360    7117200   CAT   \n",
       "4  2009-01-02  16.410000  17.000000  16.250000  12.592946   40980600  CSCO   \n",
       "\n",
       "   day  \n",
       "0    4  \n",
       "1    4  \n",
       "2    4  \n",
       "3    4  \n",
       "4    4  "
      ]
     },
     "execution_count": 8,
     "metadata": {},
     "output_type": "execute_result"
    }
   ],
   "source": [
    "df.sort_values(['date','tic'],ignore_index=True).head()"
   ]
  },
  {
   "cell_type": "markdown",
   "metadata": {
    "id": "uqC6c40Zh1iH"
   },
   "source": [
    "# Part 4: Preprocess Data\n",
    "Data preprocessing is a crucial step for training a high quality machine learning model. We need to check for missing data and do feature engineering in order to convert the data into a model-ready state.\n",
    "* Add technical indicators. In practical trading, various information needs to be taken into account, for example the historical stock prices, current holding shares, technical indicators, etc. In this article, we demonstrate two trend-following technical indicators: MACD and RSI.\n",
    "* Add turbulence index. Risk-aversion reflects whether an investor will choose to preserve the capital. It also influences one's trading strategy when facing different market volatility level. To control the risk in a worst-case scenario, such as financial crisis of 2007–2008, FinRL employs the financial turbulence index that measures extreme asset price fluctuation."
   ]
  },
  {
   "cell_type": "code",
   "execution_count": 9,
   "metadata": {
    "colab": {
     "base_uri": "https://localhost:8080/"
    },
    "id": "PmKP-1ii3RLS",
    "outputId": "f04f7c44-c6ad-48db-9b9c-dbc72ce47f80",
    "pycharm": {
     "name": "#%%\n"
    }
   },
   "outputs": [
    {
     "name": "stdout",
     "output_type": "stream",
     "text": [
      "Successfully added technical indicators\n",
      "Successfully added turbulence index\n"
     ]
    }
   ],
   "source": [
    "fe = FeatureEngineer(\n",
    "                    use_technical_indicator=True,\n",
    "                    tech_indicator_list = config.TECHNICAL_INDICATORS_LIST,\n",
    "                    use_turbulence=True,\n",
    "                    user_defined_feature = False)\n",
    "\n",
    "processed = fe.preprocess_data(df)"
   ]
  },
  {
   "cell_type": "code",
   "execution_count": 10,
   "metadata": {},
   "outputs": [
    {
     "data": {
      "text/html": [
       "<div>\n",
       "<style scoped>\n",
       "    .dataframe tbody tr th:only-of-type {\n",
       "        vertical-align: middle;\n",
       "    }\n",
       "\n",
       "    .dataframe tbody tr th {\n",
       "        vertical-align: top;\n",
       "    }\n",
       "\n",
       "    .dataframe thead th {\n",
       "        text-align: right;\n",
       "    }\n",
       "</style>\n",
       "<table border=\"1\" class=\"dataframe\">\n",
       "  <thead>\n",
       "    <tr style=\"text-align: right;\">\n",
       "      <th></th>\n",
       "      <th>date</th>\n",
       "      <th>open</th>\n",
       "      <th>high</th>\n",
       "      <th>low</th>\n",
       "      <th>close</th>\n",
       "      <th>volume</th>\n",
       "      <th>tic</th>\n",
       "      <th>day</th>\n",
       "      <th>macd</th>\n",
       "      <th>boll_ub</th>\n",
       "      <th>...</th>\n",
       "      <th>rsi_30</th>\n",
       "      <th>cci_30</th>\n",
       "      <th>dx_30</th>\n",
       "      <th>close_30_sma</th>\n",
       "      <th>close_60_sma</th>\n",
       "      <th>close_120_sma</th>\n",
       "      <th>close_30_ema</th>\n",
       "      <th>close_60_ema</th>\n",
       "      <th>close_120_ema</th>\n",
       "      <th>turbulence</th>\n",
       "    </tr>\n",
       "  </thead>\n",
       "  <tbody>\n",
       "    <tr>\n",
       "      <th>0</th>\n",
       "      <td>2009-01-02</td>\n",
       "      <td>3.067143</td>\n",
       "      <td>3.251429</td>\n",
       "      <td>3.041429</td>\n",
       "      <td>2.787006</td>\n",
       "      <td>746015200</td>\n",
       "      <td>AAPL</td>\n",
       "      <td>4</td>\n",
       "      <td>0.0</td>\n",
       "      <td>3.012162</td>\n",
       "      <td>...</td>\n",
       "      <td>100.0</td>\n",
       "      <td>66.666667</td>\n",
       "      <td>100.0</td>\n",
       "      <td>2.787006</td>\n",
       "      <td>2.787006</td>\n",
       "      <td>2.787006</td>\n",
       "      <td>2.787006</td>\n",
       "      <td>2.787006</td>\n",
       "      <td>2.787006</td>\n",
       "      <td>0.0</td>\n",
       "    </tr>\n",
       "    <tr>\n",
       "      <th>1</th>\n",
       "      <td>2009-01-02</td>\n",
       "      <td>18.570000</td>\n",
       "      <td>19.520000</td>\n",
       "      <td>18.400000</td>\n",
       "      <td>15.698216</td>\n",
       "      <td>10955700</td>\n",
       "      <td>AXP</td>\n",
       "      <td>4</td>\n",
       "      <td>0.0</td>\n",
       "      <td>3.012162</td>\n",
       "      <td>...</td>\n",
       "      <td>100.0</td>\n",
       "      <td>66.666667</td>\n",
       "      <td>100.0</td>\n",
       "      <td>15.698216</td>\n",
       "      <td>15.698216</td>\n",
       "      <td>15.698216</td>\n",
       "      <td>15.698216</td>\n",
       "      <td>15.698216</td>\n",
       "      <td>15.698216</td>\n",
       "      <td>0.0</td>\n",
       "    </tr>\n",
       "    <tr>\n",
       "      <th>2</th>\n",
       "      <td>2009-01-02</td>\n",
       "      <td>42.799999</td>\n",
       "      <td>45.560001</td>\n",
       "      <td>42.779999</td>\n",
       "      <td>33.941101</td>\n",
       "      <td>7010200</td>\n",
       "      <td>BA</td>\n",
       "      <td>4</td>\n",
       "      <td>0.0</td>\n",
       "      <td>3.012162</td>\n",
       "      <td>...</td>\n",
       "      <td>100.0</td>\n",
       "      <td>66.666667</td>\n",
       "      <td>100.0</td>\n",
       "      <td>33.941101</td>\n",
       "      <td>33.941101</td>\n",
       "      <td>33.941101</td>\n",
       "      <td>33.941101</td>\n",
       "      <td>33.941101</td>\n",
       "      <td>33.941101</td>\n",
       "      <td>0.0</td>\n",
       "    </tr>\n",
       "    <tr>\n",
       "      <th>3</th>\n",
       "      <td>2009-01-02</td>\n",
       "      <td>44.910000</td>\n",
       "      <td>46.980000</td>\n",
       "      <td>44.709999</td>\n",
       "      <td>32.830360</td>\n",
       "      <td>7117200</td>\n",
       "      <td>CAT</td>\n",
       "      <td>4</td>\n",
       "      <td>0.0</td>\n",
       "      <td>3.012162</td>\n",
       "      <td>...</td>\n",
       "      <td>100.0</td>\n",
       "      <td>66.666667</td>\n",
       "      <td>100.0</td>\n",
       "      <td>32.830360</td>\n",
       "      <td>32.830360</td>\n",
       "      <td>32.830360</td>\n",
       "      <td>32.830360</td>\n",
       "      <td>32.830360</td>\n",
       "      <td>32.830360</td>\n",
       "      <td>0.0</td>\n",
       "    </tr>\n",
       "    <tr>\n",
       "      <th>4</th>\n",
       "      <td>2009-01-02</td>\n",
       "      <td>16.410000</td>\n",
       "      <td>17.000000</td>\n",
       "      <td>16.250000</td>\n",
       "      <td>12.592946</td>\n",
       "      <td>40980600</td>\n",
       "      <td>CSCO</td>\n",
       "      <td>4</td>\n",
       "      <td>0.0</td>\n",
       "      <td>3.012162</td>\n",
       "      <td>...</td>\n",
       "      <td>100.0</td>\n",
       "      <td>66.666667</td>\n",
       "      <td>100.0</td>\n",
       "      <td>12.592946</td>\n",
       "      <td>12.592946</td>\n",
       "      <td>12.592946</td>\n",
       "      <td>12.592946</td>\n",
       "      <td>12.592946</td>\n",
       "      <td>12.592946</td>\n",
       "      <td>0.0</td>\n",
       "    </tr>\n",
       "  </tbody>\n",
       "</table>\n",
       "<p>5 rows × 21 columns</p>\n",
       "</div>"
      ],
      "text/plain": [
       "         date       open       high        low      close     volume   tic  \\\n",
       "0  2009-01-02   3.067143   3.251429   3.041429   2.787006  746015200  AAPL   \n",
       "1  2009-01-02  18.570000  19.520000  18.400000  15.698216   10955700   AXP   \n",
       "2  2009-01-02  42.799999  45.560001  42.779999  33.941101    7010200    BA   \n",
       "3  2009-01-02  44.910000  46.980000  44.709999  32.830360    7117200   CAT   \n",
       "4  2009-01-02  16.410000  17.000000  16.250000  12.592946   40980600  CSCO   \n",
       "\n",
       "   day  macd   boll_ub  ...  rsi_30     cci_30  dx_30  close_30_sma  \\\n",
       "0    4   0.0  3.012162  ...   100.0  66.666667  100.0      2.787006   \n",
       "1    4   0.0  3.012162  ...   100.0  66.666667  100.0     15.698216   \n",
       "2    4   0.0  3.012162  ...   100.0  66.666667  100.0     33.941101   \n",
       "3    4   0.0  3.012162  ...   100.0  66.666667  100.0     32.830360   \n",
       "4    4   0.0  3.012162  ...   100.0  66.666667  100.0     12.592946   \n",
       "\n",
       "   close_60_sma  close_120_sma  close_30_ema  close_60_ema  close_120_ema  \\\n",
       "0      2.787006       2.787006      2.787006      2.787006       2.787006   \n",
       "1     15.698216      15.698216     15.698216     15.698216      15.698216   \n",
       "2     33.941101      33.941101     33.941101     33.941101      33.941101   \n",
       "3     32.830360      32.830360     32.830360     32.830360      32.830360   \n",
       "4     12.592946      12.592946     12.592946     12.592946      12.592946   \n",
       "\n",
       "   turbulence  \n",
       "0         0.0  \n",
       "1         0.0  \n",
       "2         0.0  \n",
       "3         0.0  \n",
       "4         0.0  \n",
       "\n",
       "[5 rows x 21 columns]"
      ]
     },
     "execution_count": 10,
     "metadata": {},
     "output_type": "execute_result"
    }
   ],
   "source": [
    "processed.shape\n",
    "processed.head()"
   ]
  },
  {
   "cell_type": "code",
   "execution_count": 11,
   "metadata": {
    "id": "Kixon2tR3RLT"
   },
   "outputs": [],
   "source": [
    "list_ticker = processed[\"tic\"].unique().tolist()\n",
    "list_date = list(pd.date_range(processed['date'].min(),processed['date'].max()).astype(str))\n",
    "combination = list(itertools.product(list_date,list_ticker))\n",
    "\n",
    "processed_full = pd.DataFrame(combination,columns=[\"date\",\"tic\"]).merge(processed,on=[\"date\",\"tic\"],how=\"left\")\n",
    "processed_full = processed_full[processed_full['date'].isin(processed['date'])]\n",
    "processed_full = processed_full.sort_values(['date','tic'])\n",
    "processed_full = processed_full.fillna(0)"
   ]
  },
  {
   "cell_type": "code",
   "execution_count": 12,
   "metadata": {
    "colab": {
     "base_uri": "https://localhost:8080/",
     "height": 549
    },
    "id": "grvhGJJII3Xn",
    "outputId": "0523691f-99d7-4f11-d72f-cf20622f5f28"
   },
   "outputs": [
    {
     "data": {
      "text/html": [
       "<div>\n",
       "<style scoped>\n",
       "    .dataframe tbody tr th:only-of-type {\n",
       "        vertical-align: middle;\n",
       "    }\n",
       "\n",
       "    .dataframe tbody tr th {\n",
       "        vertical-align: top;\n",
       "    }\n",
       "\n",
       "    .dataframe thead th {\n",
       "        text-align: right;\n",
       "    }\n",
       "</style>\n",
       "<table border=\"1\" class=\"dataframe\">\n",
       "  <thead>\n",
       "    <tr style=\"text-align: right;\">\n",
       "      <th></th>\n",
       "      <th>date</th>\n",
       "      <th>tic</th>\n",
       "      <th>open</th>\n",
       "      <th>high</th>\n",
       "      <th>low</th>\n",
       "      <th>close</th>\n",
       "      <th>volume</th>\n",
       "      <th>day</th>\n",
       "      <th>macd</th>\n",
       "      <th>boll_ub</th>\n",
       "      <th>...</th>\n",
       "      <th>rsi_30</th>\n",
       "      <th>cci_30</th>\n",
       "      <th>dx_30</th>\n",
       "      <th>close_30_sma</th>\n",
       "      <th>close_60_sma</th>\n",
       "      <th>close_120_sma</th>\n",
       "      <th>close_30_ema</th>\n",
       "      <th>close_60_ema</th>\n",
       "      <th>close_120_ema</th>\n",
       "      <th>turbulence</th>\n",
       "    </tr>\n",
       "  </thead>\n",
       "  <tbody>\n",
       "    <tr>\n",
       "      <th>0</th>\n",
       "      <td>2009-01-02</td>\n",
       "      <td>AAPL</td>\n",
       "      <td>3.067143</td>\n",
       "      <td>3.251429</td>\n",
       "      <td>3.041429</td>\n",
       "      <td>2.787006</td>\n",
       "      <td>746015200.0</td>\n",
       "      <td>4.0</td>\n",
       "      <td>0.0</td>\n",
       "      <td>3.012162</td>\n",
       "      <td>...</td>\n",
       "      <td>100.0</td>\n",
       "      <td>66.666667</td>\n",
       "      <td>100.0</td>\n",
       "      <td>2.787006</td>\n",
       "      <td>2.787006</td>\n",
       "      <td>2.787006</td>\n",
       "      <td>2.787006</td>\n",
       "      <td>2.787006</td>\n",
       "      <td>2.787006</td>\n",
       "      <td>0.0</td>\n",
       "    </tr>\n",
       "    <tr>\n",
       "      <th>1</th>\n",
       "      <td>2009-01-02</td>\n",
       "      <td>AXP</td>\n",
       "      <td>18.570000</td>\n",
       "      <td>19.520000</td>\n",
       "      <td>18.400000</td>\n",
       "      <td>15.698216</td>\n",
       "      <td>10955700.0</td>\n",
       "      <td>4.0</td>\n",
       "      <td>0.0</td>\n",
       "      <td>3.012162</td>\n",
       "      <td>...</td>\n",
       "      <td>100.0</td>\n",
       "      <td>66.666667</td>\n",
       "      <td>100.0</td>\n",
       "      <td>15.698216</td>\n",
       "      <td>15.698216</td>\n",
       "      <td>15.698216</td>\n",
       "      <td>15.698216</td>\n",
       "      <td>15.698216</td>\n",
       "      <td>15.698216</td>\n",
       "      <td>0.0</td>\n",
       "    </tr>\n",
       "    <tr>\n",
       "      <th>2</th>\n",
       "      <td>2009-01-02</td>\n",
       "      <td>BA</td>\n",
       "      <td>42.799999</td>\n",
       "      <td>45.560001</td>\n",
       "      <td>42.779999</td>\n",
       "      <td>33.941101</td>\n",
       "      <td>7010200.0</td>\n",
       "      <td>4.0</td>\n",
       "      <td>0.0</td>\n",
       "      <td>3.012162</td>\n",
       "      <td>...</td>\n",
       "      <td>100.0</td>\n",
       "      <td>66.666667</td>\n",
       "      <td>100.0</td>\n",
       "      <td>33.941101</td>\n",
       "      <td>33.941101</td>\n",
       "      <td>33.941101</td>\n",
       "      <td>33.941101</td>\n",
       "      <td>33.941101</td>\n",
       "      <td>33.941101</td>\n",
       "      <td>0.0</td>\n",
       "    </tr>\n",
       "    <tr>\n",
       "      <th>3</th>\n",
       "      <td>2009-01-02</td>\n",
       "      <td>CAT</td>\n",
       "      <td>44.910000</td>\n",
       "      <td>46.980000</td>\n",
       "      <td>44.709999</td>\n",
       "      <td>32.830360</td>\n",
       "      <td>7117200.0</td>\n",
       "      <td>4.0</td>\n",
       "      <td>0.0</td>\n",
       "      <td>3.012162</td>\n",
       "      <td>...</td>\n",
       "      <td>100.0</td>\n",
       "      <td>66.666667</td>\n",
       "      <td>100.0</td>\n",
       "      <td>32.830360</td>\n",
       "      <td>32.830360</td>\n",
       "      <td>32.830360</td>\n",
       "      <td>32.830360</td>\n",
       "      <td>32.830360</td>\n",
       "      <td>32.830360</td>\n",
       "      <td>0.0</td>\n",
       "    </tr>\n",
       "    <tr>\n",
       "      <th>4</th>\n",
       "      <td>2009-01-02</td>\n",
       "      <td>CSCO</td>\n",
       "      <td>16.410000</td>\n",
       "      <td>17.000000</td>\n",
       "      <td>16.250000</td>\n",
       "      <td>12.592946</td>\n",
       "      <td>40980600.0</td>\n",
       "      <td>4.0</td>\n",
       "      <td>0.0</td>\n",
       "      <td>3.012162</td>\n",
       "      <td>...</td>\n",
       "      <td>100.0</td>\n",
       "      <td>66.666667</td>\n",
       "      <td>100.0</td>\n",
       "      <td>12.592946</td>\n",
       "      <td>12.592946</td>\n",
       "      <td>12.592946</td>\n",
       "      <td>12.592946</td>\n",
       "      <td>12.592946</td>\n",
       "      <td>12.592946</td>\n",
       "      <td>0.0</td>\n",
       "    </tr>\n",
       "    <tr>\n",
       "      <th>5</th>\n",
       "      <td>2009-01-02</td>\n",
       "      <td>CVX</td>\n",
       "      <td>74.230003</td>\n",
       "      <td>77.300003</td>\n",
       "      <td>73.580002</td>\n",
       "      <td>47.373642</td>\n",
       "      <td>13695900.0</td>\n",
       "      <td>4.0</td>\n",
       "      <td>0.0</td>\n",
       "      <td>3.012162</td>\n",
       "      <td>...</td>\n",
       "      <td>100.0</td>\n",
       "      <td>66.666667</td>\n",
       "      <td>100.0</td>\n",
       "      <td>47.373642</td>\n",
       "      <td>47.373642</td>\n",
       "      <td>47.373642</td>\n",
       "      <td>47.373642</td>\n",
       "      <td>47.373642</td>\n",
       "      <td>47.373642</td>\n",
       "      <td>0.0</td>\n",
       "    </tr>\n",
       "    <tr>\n",
       "      <th>6</th>\n",
       "      <td>2009-01-02</td>\n",
       "      <td>DD</td>\n",
       "      <td>21.605234</td>\n",
       "      <td>22.060680</td>\n",
       "      <td>20.993229</td>\n",
       "      <td>15.336650</td>\n",
       "      <td>13251037.0</td>\n",
       "      <td>4.0</td>\n",
       "      <td>0.0</td>\n",
       "      <td>3.012162</td>\n",
       "      <td>...</td>\n",
       "      <td>100.0</td>\n",
       "      <td>66.666667</td>\n",
       "      <td>100.0</td>\n",
       "      <td>15.336650</td>\n",
       "      <td>15.336650</td>\n",
       "      <td>15.336650</td>\n",
       "      <td>15.336650</td>\n",
       "      <td>15.336650</td>\n",
       "      <td>15.336650</td>\n",
       "      <td>0.0</td>\n",
       "    </tr>\n",
       "    <tr>\n",
       "      <th>7</th>\n",
       "      <td>2009-01-02</td>\n",
       "      <td>DIS</td>\n",
       "      <td>22.760000</td>\n",
       "      <td>24.030001</td>\n",
       "      <td>22.500000</td>\n",
       "      <td>20.597496</td>\n",
       "      <td>9796600.0</td>\n",
       "      <td>4.0</td>\n",
       "      <td>0.0</td>\n",
       "      <td>3.012162</td>\n",
       "      <td>...</td>\n",
       "      <td>100.0</td>\n",
       "      <td>66.666667</td>\n",
       "      <td>100.0</td>\n",
       "      <td>20.597496</td>\n",
       "      <td>20.597496</td>\n",
       "      <td>20.597496</td>\n",
       "      <td>20.597496</td>\n",
       "      <td>20.597496</td>\n",
       "      <td>20.597496</td>\n",
       "      <td>0.0</td>\n",
       "    </tr>\n",
       "    <tr>\n",
       "      <th>8</th>\n",
       "      <td>2009-01-02</td>\n",
       "      <td>GS</td>\n",
       "      <td>84.019997</td>\n",
       "      <td>87.620003</td>\n",
       "      <td>82.190002</td>\n",
       "      <td>72.559456</td>\n",
       "      <td>14088500.0</td>\n",
       "      <td>4.0</td>\n",
       "      <td>0.0</td>\n",
       "      <td>3.012162</td>\n",
       "      <td>...</td>\n",
       "      <td>100.0</td>\n",
       "      <td>66.666667</td>\n",
       "      <td>100.0</td>\n",
       "      <td>72.559456</td>\n",
       "      <td>72.559456</td>\n",
       "      <td>72.559456</td>\n",
       "      <td>72.559456</td>\n",
       "      <td>72.559456</td>\n",
       "      <td>72.559456</td>\n",
       "      <td>0.0</td>\n",
       "    </tr>\n",
       "    <tr>\n",
       "      <th>9</th>\n",
       "      <td>2009-01-02</td>\n",
       "      <td>HD</td>\n",
       "      <td>23.070000</td>\n",
       "      <td>24.190001</td>\n",
       "      <td>22.959999</td>\n",
       "      <td>17.797922</td>\n",
       "      <td>14902500.0</td>\n",
       "      <td>4.0</td>\n",
       "      <td>0.0</td>\n",
       "      <td>3.012162</td>\n",
       "      <td>...</td>\n",
       "      <td>100.0</td>\n",
       "      <td>66.666667</td>\n",
       "      <td>100.0</td>\n",
       "      <td>17.797922</td>\n",
       "      <td>17.797922</td>\n",
       "      <td>17.797922</td>\n",
       "      <td>17.797922</td>\n",
       "      <td>17.797922</td>\n",
       "      <td>17.797922</td>\n",
       "      <td>0.0</td>\n",
       "    </tr>\n",
       "  </tbody>\n",
       "</table>\n",
       "<p>10 rows × 21 columns</p>\n",
       "</div>"
      ],
      "text/plain": [
       "         date   tic       open       high        low      close       volume  \\\n",
       "0  2009-01-02  AAPL   3.067143   3.251429   3.041429   2.787006  746015200.0   \n",
       "1  2009-01-02   AXP  18.570000  19.520000  18.400000  15.698216   10955700.0   \n",
       "2  2009-01-02    BA  42.799999  45.560001  42.779999  33.941101    7010200.0   \n",
       "3  2009-01-02   CAT  44.910000  46.980000  44.709999  32.830360    7117200.0   \n",
       "4  2009-01-02  CSCO  16.410000  17.000000  16.250000  12.592946   40980600.0   \n",
       "5  2009-01-02   CVX  74.230003  77.300003  73.580002  47.373642   13695900.0   \n",
       "6  2009-01-02    DD  21.605234  22.060680  20.993229  15.336650   13251037.0   \n",
       "7  2009-01-02   DIS  22.760000  24.030001  22.500000  20.597496    9796600.0   \n",
       "8  2009-01-02    GS  84.019997  87.620003  82.190002  72.559456   14088500.0   \n",
       "9  2009-01-02    HD  23.070000  24.190001  22.959999  17.797922   14902500.0   \n",
       "\n",
       "   day  macd   boll_ub  ...  rsi_30     cci_30  dx_30  close_30_sma  \\\n",
       "0  4.0   0.0  3.012162  ...   100.0  66.666667  100.0      2.787006   \n",
       "1  4.0   0.0  3.012162  ...   100.0  66.666667  100.0     15.698216   \n",
       "2  4.0   0.0  3.012162  ...   100.0  66.666667  100.0     33.941101   \n",
       "3  4.0   0.0  3.012162  ...   100.0  66.666667  100.0     32.830360   \n",
       "4  4.0   0.0  3.012162  ...   100.0  66.666667  100.0     12.592946   \n",
       "5  4.0   0.0  3.012162  ...   100.0  66.666667  100.0     47.373642   \n",
       "6  4.0   0.0  3.012162  ...   100.0  66.666667  100.0     15.336650   \n",
       "7  4.0   0.0  3.012162  ...   100.0  66.666667  100.0     20.597496   \n",
       "8  4.0   0.0  3.012162  ...   100.0  66.666667  100.0     72.559456   \n",
       "9  4.0   0.0  3.012162  ...   100.0  66.666667  100.0     17.797922   \n",
       "\n",
       "   close_60_sma  close_120_sma  close_30_ema  close_60_ema  close_120_ema  \\\n",
       "0      2.787006       2.787006      2.787006      2.787006       2.787006   \n",
       "1     15.698216      15.698216     15.698216     15.698216      15.698216   \n",
       "2     33.941101      33.941101     33.941101     33.941101      33.941101   \n",
       "3     32.830360      32.830360     32.830360     32.830360      32.830360   \n",
       "4     12.592946      12.592946     12.592946     12.592946      12.592946   \n",
       "5     47.373642      47.373642     47.373642     47.373642      47.373642   \n",
       "6     15.336650      15.336650     15.336650     15.336650      15.336650   \n",
       "7     20.597496      20.597496     20.597496     20.597496      20.597496   \n",
       "8     72.559456      72.559456     72.559456     72.559456      72.559456   \n",
       "9     17.797922      17.797922     17.797922     17.797922      17.797922   \n",
       "\n",
       "   turbulence  \n",
       "0         0.0  \n",
       "1         0.0  \n",
       "2         0.0  \n",
       "3         0.0  \n",
       "4         0.0  \n",
       "5         0.0  \n",
       "6         0.0  \n",
       "7         0.0  \n",
       "8         0.0  \n",
       "9         0.0  \n",
       "\n",
       "[10 rows x 21 columns]"
      ]
     },
     "execution_count": 12,
     "metadata": {},
     "output_type": "execute_result"
    }
   ],
   "source": [
    "processed_full.sort_values(['date','tic'],ignore_index=True).head(10)"
   ]
  },
  {
   "cell_type": "markdown",
   "metadata": {
    "id": "-QsYaY0Dh1iw"
   },
   "source": [
    "<a id='4'></a>\n",
    "# Part 5. Design Environment\n",
    "Considering the stochastic and interactive nature of the automated stock trading tasks, a financial task is modeled as a **Markov Decision Process (MDP)** problem. The training process involves observing stock price change, taking an action and reward's calculation to have the agent adjusting its strategy accordingly. By interacting with the environment, the trading agent will derive a trading strategy with the maximized rewards as time proceeds.\n",
    "\n",
    "Our trading environments, based on OpenAI Gym framework, simulate live stock markets with real market data according to the principle of time-driven simulation.\n",
    "\n",
    "The action space describes the allowed actions that the agent interacts with the environment. Normally, action a includes three actions: {-1, 0, 1}, where -1, 0, 1 represent selling, holding, and buying one share. Also, an action can be carried upon multiple shares. We use an action space {-k,…,-1, 0, 1, …, k}, where k denotes the number of shares to buy and -k denotes the number of shares to sell. For example, \"Buy 10 shares of AAPL\" or \"Sell 10 shares of AAPL\" are 10 or -10, respectively. The continuous action space needs to be normalized to [-1, 1], since the policy is defined on a Gaussian distribution, which needs to be normalized and symmetric."
   ]
  },
  {
   "cell_type": "markdown",
   "metadata": {
    "id": "5TOhcryx44bb"
   },
   "source": [
    "## Training data split: 2009-01-01 to 2018-12-31\n",
    "## Trade data split: 2019-01-01 to 2020-09-30"
   ]
  },
  {
   "cell_type": "code",
   "execution_count": 13,
   "metadata": {
    "colab": {
     "base_uri": "https://localhost:8080/"
    },
    "id": "W0qaVGjLtgbI",
    "outputId": "f7dd4f68-51b0-4497-867d-e6cb462f9474"
   },
   "outputs": [
    {
     "name": "stdout",
     "output_type": "stream",
     "text": [
      "75480\n",
      "15150\n"
     ]
    }
   ],
   "source": [
    "train = data_split(processed_full, '2009-01-01','2019-01-01')\n",
    "trade = data_split(processed_full, '2019-01-01','2021-01-01')\n",
    "print(len(train))\n",
    "print(len(trade))"
   ]
  },
  {
   "cell_type": "code",
   "execution_count": 14,
   "metadata": {
    "colab": {
     "base_uri": "https://localhost:8080/",
     "height": 309
    },
    "id": "p52zNCOhTtLR",
    "outputId": "ef026856-f15e-49e3-d3d9-b45eaed9f3bb"
   },
   "outputs": [
    {
     "name": "stdout",
     "output_type": "stream",
     "text": [
      "         date   tic       open       high        low      close       volume  \\\n",
      "0  2009-01-02  AAPL   3.067143   3.251429   3.041429   2.787006  746015200.0   \n",
      "0  2009-01-02   AXP  18.570000  19.520000  18.400000  15.698216   10955700.0   \n",
      "0  2009-01-02    BA  42.799999  45.560001  42.779999  33.941101    7010200.0   \n",
      "0  2009-01-02   CAT  44.910000  46.980000  44.709999  32.830360    7117200.0   \n",
      "0  2009-01-02  CSCO  16.410000  17.000000  16.250000  12.592946   40980600.0   \n",
      "0  2009-01-02   CVX  74.230003  77.300003  73.580002  47.373642   13695900.0   \n",
      "0  2009-01-02    DD  21.605234  22.060680  20.993229  15.336650   13251037.0   \n",
      "0  2009-01-02   DIS  22.760000  24.030001  22.500000  20.597496    9796600.0   \n",
      "0  2009-01-02    GS  84.019997  87.620003  82.190002  72.559456   14088500.0   \n",
      "0  2009-01-02    HD  23.070000  24.190001  22.959999  17.797922   14902500.0   \n",
      "0  2009-01-02   IBM  83.889999  87.589996  83.889999  59.180256    7558200.0   \n",
      "0  2009-01-02  INTC  14.690000  15.250000  14.470000  10.399736   52208200.0   \n",
      "0  2009-01-02   JNJ  60.130001  61.000000  59.040001  42.003609   11638900.0   \n",
      "0  2009-01-02   JPM  31.190001  31.639999  30.469999  23.343863   32494900.0   \n",
      "0  2009-01-02    KO  22.700001  23.000000  22.520000  15.628469   16355800.0   \n",
      "0  2009-01-02   MCD  62.380001  64.129997  62.200001  44.312187    8652700.0   \n",
      "0  2009-01-02   MMM  57.549999  59.389999  57.520000  42.266518    5313900.0   \n",
      "0  2009-01-02   MRK  30.459999  31.120001  30.309999  19.942875   12207400.0   \n",
      "0  2009-01-02  MSFT  19.530001  20.400000  19.370001  15.435610   50084000.0   \n",
      "0  2009-01-02   NKE  12.737500  13.400000  12.577500  11.325711   12028800.0   \n",
      "0  2009-01-02   PFE  16.963947  17.362429  16.793169  10.714820   30274042.0   \n",
      "0  2009-01-02    PG  61.689999  62.970001  61.060001  42.827297   11135700.0   \n",
      "0  2009-01-02   RTX  33.643803  34.764004  33.373192  25.695541    7452887.0   \n",
      "0  2009-01-02   TRV  45.259998  45.910000  44.130001  33.274017    3279700.0   \n",
      "0  2009-01-02   UNH  26.700001  27.719999  26.540001  23.234612    4885900.0   \n",
      "0  2009-01-02     V  13.230000  13.427500  13.060000  12.232618   13199200.0   \n",
      "0  2009-01-02    VZ  32.000774  32.601021  31.466175  17.803312   14848985.0   \n",
      "0  2009-01-02   WBA  24.650000  25.670000  24.610001  19.097235    5266700.0   \n",
      "0  2009-01-02   WMT  55.980000  57.509998  55.779999  42.599510   16054800.0   \n",
      "0  2009-01-02   XOM  80.059998  82.110001  78.900002  51.835583   35803700.0   \n",
      "\n",
      "   day  macd   boll_ub  ...  rsi_30     cci_30  dx_30  close_30_sma  \\\n",
      "0  4.0   0.0  3.012162  ...   100.0  66.666667  100.0      2.787006   \n",
      "0  4.0   0.0  3.012162  ...   100.0  66.666667  100.0     15.698216   \n",
      "0  4.0   0.0  3.012162  ...   100.0  66.666667  100.0     33.941101   \n",
      "0  4.0   0.0  3.012162  ...   100.0  66.666667  100.0     32.830360   \n",
      "0  4.0   0.0  3.012162  ...   100.0  66.666667  100.0     12.592946   \n",
      "0  4.0   0.0  3.012162  ...   100.0  66.666667  100.0     47.373642   \n",
      "0  4.0   0.0  3.012162  ...   100.0  66.666667  100.0     15.336650   \n",
      "0  4.0   0.0  3.012162  ...   100.0  66.666667  100.0     20.597496   \n",
      "0  4.0   0.0  3.012162  ...   100.0  66.666667  100.0     72.559456   \n",
      "0  4.0   0.0  3.012162  ...   100.0  66.666667  100.0     17.797922   \n",
      "0  4.0   0.0  3.012162  ...   100.0  66.666667  100.0     59.180256   \n",
      "0  4.0   0.0  3.012162  ...   100.0  66.666667  100.0     10.399736   \n",
      "0  4.0   0.0  3.012162  ...   100.0  66.666667  100.0     42.003609   \n",
      "0  4.0   0.0  3.012162  ...   100.0  66.666667  100.0     23.343863   \n",
      "0  4.0   0.0  3.012162  ...   100.0  66.666667  100.0     15.628469   \n",
      "0  4.0   0.0  3.012162  ...   100.0  66.666667  100.0     44.312187   \n",
      "0  4.0   0.0  3.012162  ...   100.0  66.666667  100.0     42.266518   \n",
      "0  4.0   0.0  3.012162  ...   100.0  66.666667  100.0     19.942875   \n",
      "0  4.0   0.0  3.012162  ...   100.0  66.666667  100.0     15.435610   \n",
      "0  4.0   0.0  3.012162  ...   100.0  66.666667  100.0     11.325711   \n",
      "0  4.0   0.0  3.012162  ...   100.0  66.666667  100.0     10.714820   \n",
      "0  4.0   0.0  3.012162  ...   100.0  66.666667  100.0     42.827297   \n",
      "0  4.0   0.0  3.012162  ...   100.0  66.666667  100.0     25.695541   \n",
      "0  4.0   0.0  3.012162  ...   100.0  66.666667  100.0     33.274017   \n",
      "0  4.0   0.0  3.012162  ...   100.0  66.666667  100.0     23.234612   \n",
      "0  4.0   0.0  3.012162  ...   100.0  66.666667  100.0     12.232618   \n",
      "0  4.0   0.0  3.012162  ...   100.0  66.666667  100.0     17.803312   \n",
      "0  4.0   0.0  3.012162  ...   100.0  66.666667  100.0     19.097235   \n",
      "0  4.0   0.0  3.012162  ...   100.0  66.666667  100.0     42.599510   \n",
      "0  4.0   0.0  3.012162  ...   100.0  66.666667  100.0     51.835583   \n",
      "\n",
      "   close_60_sma  close_120_sma  close_30_ema  close_60_ema  close_120_ema  \\\n",
      "0      2.787006       2.787006      2.787006      2.787006       2.787006   \n",
      "0     15.698216      15.698216     15.698216     15.698216      15.698216   \n",
      "0     33.941101      33.941101     33.941101     33.941101      33.941101   \n",
      "0     32.830360      32.830360     32.830360     32.830360      32.830360   \n",
      "0     12.592946      12.592946     12.592946     12.592946      12.592946   \n",
      "0     47.373642      47.373642     47.373642     47.373642      47.373642   \n",
      "0     15.336650      15.336650     15.336650     15.336650      15.336650   \n",
      "0     20.597496      20.597496     20.597496     20.597496      20.597496   \n",
      "0     72.559456      72.559456     72.559456     72.559456      72.559456   \n",
      "0     17.797922      17.797922     17.797922     17.797922      17.797922   \n",
      "0     59.180256      59.180256     59.180256     59.180256      59.180256   \n",
      "0     10.399736      10.399736     10.399736     10.399736      10.399736   \n",
      "0     42.003609      42.003609     42.003609     42.003609      42.003609   \n",
      "0     23.343863      23.343863     23.343863     23.343863      23.343863   \n",
      "0     15.628469      15.628469     15.628469     15.628469      15.628469   \n",
      "0     44.312187      44.312187     44.312187     44.312187      44.312187   \n",
      "0     42.266518      42.266518     42.266518     42.266518      42.266518   \n",
      "0     19.942875      19.942875     19.942875     19.942875      19.942875   \n",
      "0     15.435610      15.435610     15.435610     15.435610      15.435610   \n",
      "0     11.325711      11.325711     11.325711     11.325711      11.325711   \n",
      "0     10.714820      10.714820     10.714820     10.714820      10.714820   \n",
      "0     42.827297      42.827297     42.827297     42.827297      42.827297   \n",
      "0     25.695541      25.695541     25.695541     25.695541      25.695541   \n",
      "0     33.274017      33.274017     33.274017     33.274017      33.274017   \n",
      "0     23.234612      23.234612     23.234612     23.234612      23.234612   \n",
      "0     12.232618      12.232618     12.232618     12.232618      12.232618   \n",
      "0     17.803312      17.803312     17.803312     17.803312      17.803312   \n",
      "0     19.097235      19.097235     19.097235     19.097235      19.097235   \n",
      "0     42.599510      42.599510     42.599510     42.599510      42.599510   \n",
      "0     51.835583      51.835583     51.835583     51.835583      51.835583   \n",
      "\n",
      "   turbulence  \n",
      "0         0.0  \n",
      "0         0.0  \n",
      "0         0.0  \n",
      "0         0.0  \n",
      "0         0.0  \n",
      "0         0.0  \n",
      "0         0.0  \n",
      "0         0.0  \n",
      "0         0.0  \n",
      "0         0.0  \n",
      "0         0.0  \n",
      "0         0.0  \n",
      "0         0.0  \n",
      "0         0.0  \n",
      "0         0.0  \n",
      "0         0.0  \n",
      "0         0.0  \n",
      "0         0.0  \n",
      "0         0.0  \n",
      "0         0.0  \n",
      "0         0.0  \n",
      "0         0.0  \n",
      "0         0.0  \n",
      "0         0.0  \n",
      "0         0.0  \n",
      "0         0.0  \n",
      "0         0.0  \n",
      "0         0.0  \n",
      "0         0.0  \n",
      "0         0.0  \n",
      "\n",
      "[30 rows x 21 columns]\n"
     ]
    }
   ],
   "source": [
    "initialData = train.loc[0,:]\n",
    "print(initialData)"
   ]
  },
  {
   "cell_type": "code",
   "execution_count": 15,
   "metadata": {
    "colab": {
     "base_uri": "https://localhost:8080/",
     "height": 309
    },
    "id": "k9zU9YaTTvFq",
    "outputId": "a449c5b4-b244-44b8-b756-10c82fe9546b"
   },
   "outputs": [
    {
     "data": {
      "text/html": [
       "<div>\n",
       "<style scoped>\n",
       "    .dataframe tbody tr th:only-of-type {\n",
       "        vertical-align: middle;\n",
       "    }\n",
       "\n",
       "    .dataframe tbody tr th {\n",
       "        vertical-align: top;\n",
       "    }\n",
       "\n",
       "    .dataframe thead th {\n",
       "        text-align: right;\n",
       "    }\n",
       "</style>\n",
       "<table border=\"1\" class=\"dataframe\">\n",
       "  <thead>\n",
       "    <tr style=\"text-align: right;\">\n",
       "      <th></th>\n",
       "      <th>date</th>\n",
       "      <th>tic</th>\n",
       "      <th>open</th>\n",
       "      <th>high</th>\n",
       "      <th>low</th>\n",
       "      <th>close</th>\n",
       "      <th>volume</th>\n",
       "      <th>day</th>\n",
       "      <th>macd</th>\n",
       "      <th>boll_ub</th>\n",
       "      <th>...</th>\n",
       "      <th>rsi_30</th>\n",
       "      <th>cci_30</th>\n",
       "      <th>dx_30</th>\n",
       "      <th>close_30_sma</th>\n",
       "      <th>close_60_sma</th>\n",
       "      <th>close_120_sma</th>\n",
       "      <th>close_30_ema</th>\n",
       "      <th>close_60_ema</th>\n",
       "      <th>close_120_ema</th>\n",
       "      <th>turbulence</th>\n",
       "    </tr>\n",
       "  </thead>\n",
       "  <tbody>\n",
       "    <tr>\n",
       "      <th>0</th>\n",
       "      <td>2019-01-02</td>\n",
       "      <td>AAPL</td>\n",
       "      <td>38.722500</td>\n",
       "      <td>39.712502</td>\n",
       "      <td>38.557499</td>\n",
       "      <td>38.439735</td>\n",
       "      <td>148158800.0</td>\n",
       "      <td>2.0</td>\n",
       "      <td>-2.013469</td>\n",
       "      <td>44.430054</td>\n",
       "      <td>...</td>\n",
       "      <td>37.867359</td>\n",
       "      <td>-91.575723</td>\n",
       "      <td>42.250808</td>\n",
       "      <td>41.155815</td>\n",
       "      <td>46.409359</td>\n",
       "      <td>48.900092</td>\n",
       "      <td>41.352494</td>\n",
       "      <td>44.458658</td>\n",
       "      <td>46.304234</td>\n",
       "      <td>51.409187</td>\n",
       "    </tr>\n",
       "    <tr>\n",
       "      <th>0</th>\n",
       "      <td>2019-01-02</td>\n",
       "      <td>AXP</td>\n",
       "      <td>93.910004</td>\n",
       "      <td>96.269997</td>\n",
       "      <td>93.769997</td>\n",
       "      <td>92.042946</td>\n",
       "      <td>4175400.0</td>\n",
       "      <td>2.0</td>\n",
       "      <td>-3.403805</td>\n",
       "      <td>109.907410</td>\n",
       "      <td>...</td>\n",
       "      <td>41.204998</td>\n",
       "      <td>-97.759092</td>\n",
       "      <td>26.709417</td>\n",
       "      <td>99.719922</td>\n",
       "      <td>100.286694</td>\n",
       "      <td>100.394721</td>\n",
       "      <td>97.239951</td>\n",
       "      <td>99.212594</td>\n",
       "      <td>99.167165</td>\n",
       "      <td>51.409187</td>\n",
       "    </tr>\n",
       "    <tr>\n",
       "      <th>0</th>\n",
       "      <td>2019-01-02</td>\n",
       "      <td>BA</td>\n",
       "      <td>316.190002</td>\n",
       "      <td>323.950012</td>\n",
       "      <td>313.709991</td>\n",
       "      <td>314.645142</td>\n",
       "      <td>3292200.0</td>\n",
       "      <td>2.0</td>\n",
       "      <td>-5.550592</td>\n",
       "      <td>339.116375</td>\n",
       "      <td>...</td>\n",
       "      <td>47.010000</td>\n",
       "      <td>-21.712382</td>\n",
       "      <td>13.611972</td>\n",
       "      <td>314.427160</td>\n",
       "      <td>331.956148</td>\n",
       "      <td>337.512527</td>\n",
       "      <td>316.591202</td>\n",
       "      <td>325.615852</td>\n",
       "      <td>330.278999</td>\n",
       "      <td>51.409187</td>\n",
       "    </tr>\n",
       "    <tr>\n",
       "      <th>0</th>\n",
       "      <td>2019-01-02</td>\n",
       "      <td>CAT</td>\n",
       "      <td>124.029999</td>\n",
       "      <td>127.879997</td>\n",
       "      <td>123.000000</td>\n",
       "      <td>118.137177</td>\n",
       "      <td>4783200.0</td>\n",
       "      <td>2.0</td>\n",
       "      <td>-0.680049</td>\n",
       "      <td>125.145761</td>\n",
       "      <td>...</td>\n",
       "      <td>48.229091</td>\n",
       "      <td>-5.147002</td>\n",
       "      <td>0.873482</td>\n",
       "      <td>117.640500</td>\n",
       "      <td>119.834356</td>\n",
       "      <td>126.242992</td>\n",
       "      <td>117.688802</td>\n",
       "      <td>120.504942</td>\n",
       "      <td>124.644566</td>\n",
       "      <td>51.409187</td>\n",
       "    </tr>\n",
       "    <tr>\n",
       "      <th>0</th>\n",
       "      <td>2019-01-02</td>\n",
       "      <td>CSCO</td>\n",
       "      <td>42.279999</td>\n",
       "      <td>43.200001</td>\n",
       "      <td>42.209999</td>\n",
       "      <td>39.772106</td>\n",
       "      <td>23833500.0</td>\n",
       "      <td>2.0</td>\n",
       "      <td>-0.945558</td>\n",
       "      <td>46.120801</td>\n",
       "      <td>...</td>\n",
       "      <td>44.872560</td>\n",
       "      <td>-87.538213</td>\n",
       "      <td>29.529377</td>\n",
       "      <td>41.863034</td>\n",
       "      <td>42.137596</td>\n",
       "      <td>41.998078</td>\n",
       "      <td>41.287111</td>\n",
       "      <td>41.840720</td>\n",
       "      <td>41.620403</td>\n",
       "      <td>51.409187</td>\n",
       "    </tr>\n",
       "  </tbody>\n",
       "</table>\n",
       "<p>5 rows × 21 columns</p>\n",
       "</div>"
      ],
      "text/plain": [
       "         date   tic        open        high         low       close  \\\n",
       "0  2019-01-02  AAPL   38.722500   39.712502   38.557499   38.439735   \n",
       "0  2019-01-02   AXP   93.910004   96.269997   93.769997   92.042946   \n",
       "0  2019-01-02    BA  316.190002  323.950012  313.709991  314.645142   \n",
       "0  2019-01-02   CAT  124.029999  127.879997  123.000000  118.137177   \n",
       "0  2019-01-02  CSCO   42.279999   43.200001   42.209999   39.772106   \n",
       "\n",
       "        volume  day      macd     boll_ub  ...     rsi_30     cci_30  \\\n",
       "0  148158800.0  2.0 -2.013469   44.430054  ...  37.867359 -91.575723   \n",
       "0    4175400.0  2.0 -3.403805  109.907410  ...  41.204998 -97.759092   \n",
       "0    3292200.0  2.0 -5.550592  339.116375  ...  47.010000 -21.712382   \n",
       "0    4783200.0  2.0 -0.680049  125.145761  ...  48.229091  -5.147002   \n",
       "0   23833500.0  2.0 -0.945558   46.120801  ...  44.872560 -87.538213   \n",
       "\n",
       "       dx_30  close_30_sma  close_60_sma  close_120_sma  close_30_ema  \\\n",
       "0  42.250808     41.155815     46.409359      48.900092     41.352494   \n",
       "0  26.709417     99.719922    100.286694     100.394721     97.239951   \n",
       "0  13.611972    314.427160    331.956148     337.512527    316.591202   \n",
       "0   0.873482    117.640500    119.834356     126.242992    117.688802   \n",
       "0  29.529377     41.863034     42.137596      41.998078     41.287111   \n",
       "\n",
       "   close_60_ema  close_120_ema  turbulence  \n",
       "0     44.458658      46.304234   51.409187  \n",
       "0     99.212594      99.167165   51.409187  \n",
       "0    325.615852     330.278999   51.409187  \n",
       "0    120.504942     124.644566   51.409187  \n",
       "0     41.840720      41.620403   51.409187  \n",
       "\n",
       "[5 rows x 21 columns]"
      ]
     },
     "execution_count": 15,
     "metadata": {},
     "output_type": "execute_result"
    }
   ],
   "source": [
    "trade.head()"
   ]
  },
  {
   "cell_type": "code",
   "execution_count": 16,
   "metadata": {
    "colab": {
     "base_uri": "https://localhost:8080/"
    },
    "id": "zYN573SOHhxG",
    "outputId": "0c82387b-5820-4825-8a66-9d67f024f88e"
   },
   "outputs": [
    {
     "data": {
      "text/plain": [
       "['macd',\n",
       " 'boll_ub',\n",
       " 'boll_lb',\n",
       " 'rsi_30',\n",
       " 'cci_30',\n",
       " 'dx_30',\n",
       " 'close_30_sma',\n",
       " 'close_60_sma',\n",
       " 'close_120_sma',\n",
       " 'close_30_ema',\n",
       " 'close_60_ema',\n",
       " 'close_120_ema']"
      ]
     },
     "execution_count": 16,
     "metadata": {},
     "output_type": "execute_result"
    }
   ],
   "source": [
    "config.TECHNICAL_INDICATORS_LIST"
   ]
  },
  {
   "cell_type": "code",
   "execution_count": 17,
   "metadata": {
    "colab": {
     "base_uri": "https://localhost:8080/"
    },
    "id": "Q2zqII8rMIqn",
    "outputId": "de67ad03-fec4-4d1b-fcc5-2873406dde70"
   },
   "outputs": [
    {
     "name": "stdout",
     "output_type": "stream",
     "text": [
      "Stock Dimension: 30, State Space: 421\n"
     ]
    }
   ],
   "source": [
    "stock_dimension = len(train.tic.unique())\n",
    "state_space = 1 + 2*stock_dimension + len(config.TECHNICAL_INDICATORS_LIST)*stock_dimension\n",
    "print(f\"Stock Dimension: {stock_dimension}, State Space: {state_space}\")\n"
   ]
  },
  {
   "cell_type": "code",
   "execution_count": 18,
   "metadata": {
    "id": "AWyp84Ltto19"
   },
   "outputs": [
    {
     "name": "stdout",
     "output_type": "stream",
     "text": [
      "[1000000, 2.78700590133667, 15.698216438293457, 33.94110107421875, 32.830360412597656, 12.59294605255127, 47.37364196777344, 15.336649894714355, 20.597496032714844, 72.55945587158203, 17.797922134399414, 59.18025588989258, 10.399736404418945, 42.00360870361328, 23.343862533569336, 15.628469467163086, 44.31218719482422, 42.266517639160156, 19.942874908447266, 15.435609817504883, 11.325711250305176, 10.71481990814209, 42.82729721069336, 25.695541381835938, 33.274017333984375, 23.23461151123047, 12.23261833190918, 17.803312301635742, 19.09723472595215, 42.599510192871094, 51.8355827331543, 0, 0, 0, 0, 0, 0, 0, 0, 0, 0, 0, 0, 0, 0, 0, 0, 0, 0, 0, 0, 0, 0, 0, 0, 0, 0, 0, 0, 0, 0, 0.0, 0.0, 0.0, 0.0, 0.0, 0.0, 0.0, 0.0, 0.0, 0.0, 0.0, 0.0, 0.0, 0.0, 0.0, 0.0, 0.0, 0.0, 0.0, 0.0, 0.0, 0.0, 0.0, 0.0, 0.0, 0.0, 0.0, 0.0, 0.0, 0.0, 3.0121616168871115, 3.0121616168871115, 3.0121616168871115, 3.0121616168871115, 3.0121616168871115, 3.0121616168871115, 3.0121616168871115, 3.0121616168871115, 3.0121616168871115, 3.0121616168871115, 3.0121616168871115, 3.0121616168871115, 3.0121616168871115, 3.0121616168871115, 3.0121616168871115, 3.0121616168871115, 3.0121616168871115, 3.0121616168871115, 3.0121616168871115, 3.0121616168871115, 3.0121616168871115, 3.0121616168871115, 3.0121616168871115, 3.0121616168871115, 3.0121616168871115, 3.0121616168871115, 3.0121616168871115, 3.0121616168871115, 3.0121616168871115, 3.0121616168871115, 2.679473276530247, 2.679473276530247, 2.679473276530247, 2.679473276530247, 2.679473276530247, 2.679473276530247, 2.679473276530247, 2.679473276530247, 2.679473276530247, 2.679473276530247, 2.679473276530247, 2.679473276530247, 2.679473276530247, 2.679473276530247, 2.679473276530247, 2.679473276530247, 2.679473276530247, 2.679473276530247, 2.679473276530247, 2.679473276530247, 2.679473276530247, 2.679473276530247, 2.679473276530247, 2.679473276530247, 2.679473276530247, 2.679473276530247, 2.679473276530247, 2.679473276530247, 2.679473276530247, 2.679473276530247, 100.0, 100.0, 100.0, 100.0, 100.0, 100.0, 100.0, 100.0, 100.0, 100.0, 100.0, 100.0, 100.0, 100.0, 100.0, 100.0, 100.0, 100.0, 100.0, 100.0, 100.0, 100.0, 100.0, 100.0, 100.0, 100.0, 100.0, 100.0, 100.0, 100.0, 66.66666666666652, 66.66666666666652, 66.66666666666652, 66.66666666666652, 66.66666666666652, 66.66666666666652, 66.66666666666652, 66.66666666666652, 66.66666666666652, 66.66666666666652, 66.66666666666652, 66.66666666666652, 66.66666666666652, 66.66666666666652, 66.66666666666652, 66.66666666666652, 66.66666666666652, 66.66666666666652, 66.66666666666652, 66.66666666666652, 66.66666666666652, 66.66666666666652, 66.66666666666652, 66.66666666666652, 66.66666666666652, 66.66666666666652, 66.66666666666652, 66.66666666666652, 66.66666666666652, 66.66666666666652, 100.0, 100.0, 100.0, 100.0, 100.0, 100.0, 100.0, 100.0, 100.0, 100.0, 100.0, 100.0, 100.0, 100.0, 100.0, 100.0, 100.0, 100.0, 100.0, 100.0, 100.0, 100.0, 100.0, 100.0, 100.0, 100.0, 100.0, 100.0, 100.0, 100.0, 2.78700590133667, 15.698216438293457, 33.94110107421875, 32.830360412597656, 12.59294605255127, 47.37364196777344, 15.336649894714355, 20.597496032714844, 72.55945587158203, 17.797922134399414, 59.18025588989258, 10.399736404418945, 42.00360870361328, 23.343862533569336, 15.628469467163086, 44.31218719482422, 42.266517639160156, 19.942874908447266, 15.435609817504883, 11.325711250305176, 10.71481990814209, 42.82729721069336, 25.695541381835938, 33.274017333984375, 23.23461151123047, 12.23261833190918, 17.803312301635742, 19.09723472595215, 42.599510192871094, 51.8355827331543, 2.78700590133667, 15.698216438293457, 33.94110107421875, 32.830360412597656, 12.59294605255127, 47.37364196777344, 15.336649894714355, 20.597496032714844, 72.55945587158203, 17.797922134399414, 59.18025588989258, 10.399736404418945, 42.00360870361328, 23.343862533569336, 15.628469467163086, 44.31218719482422, 42.266517639160156, 19.942874908447266, 15.435609817504883, 11.325711250305176, 10.71481990814209, 42.82729721069336, 25.695541381835938, 33.274017333984375, 23.23461151123047, 12.23261833190918, 17.803312301635742, 19.09723472595215, 42.599510192871094, 51.8355827331543, 2.78700590133667, 15.698216438293457, 33.94110107421875, 32.830360412597656, 12.59294605255127, 47.37364196777344, 15.336649894714355, 20.597496032714844, 72.55945587158203, 17.797922134399414, 59.18025588989258, 10.399736404418945, 42.00360870361328, 23.343862533569336, 15.628469467163086, 44.31218719482422, 42.266517639160156, 19.942874908447266, 15.435609817504883, 11.325711250305176, 10.71481990814209, 42.82729721069336, 25.695541381835938, 33.274017333984375, 23.23461151123047, 12.23261833190918, 17.803312301635742, 19.09723472595215, 42.599510192871094, 51.8355827331543, 2.78700590133667, 15.698216438293457, 33.94110107421875, 32.830360412597656, 12.59294605255127, 47.37364196777344, 15.336649894714355, 20.597496032714844, 72.55945587158203, 17.797922134399414, 59.18025588989258, 10.399736404418945, 42.00360870361328, 23.343862533569336, 15.628469467163086, 44.31218719482422, 42.266517639160156, 19.942874908447266, 15.435609817504883, 11.325711250305176, 10.71481990814209, 42.82729721069336, 25.695541381835938, 33.274017333984375, 23.23461151123047, 12.23261833190918, 17.803312301635742, 19.09723472595215, 42.599510192871094, 51.8355827331543, 2.78700590133667, 15.698216438293457, 33.94110107421875, 32.830360412597656, 12.59294605255127, 47.37364196777344, 15.336649894714355, 20.597496032714844, 72.55945587158203, 17.797922134399414, 59.18025588989258, 10.399736404418945, 42.00360870361328, 23.343862533569336, 15.628469467163086, 44.31218719482422, 42.266517639160156, 19.942874908447266, 15.435609817504883, 11.325711250305176, 10.71481990814209, 42.82729721069336, 25.695541381835938, 33.274017333984375, 23.23461151123047, 12.23261833190918, 17.803312301635742, 19.09723472595215, 42.599510192871094, 51.8355827331543, 2.78700590133667, 15.698216438293457, 33.94110107421875, 32.830360412597656, 12.59294605255127, 47.37364196777344, 15.336649894714355, 20.597496032714844, 72.55945587158203, 17.797922134399414, 59.18025588989258, 10.399736404418945, 42.00360870361328, 23.343862533569336, 15.628469467163086, 44.31218719482422, 42.266517639160156, 19.942874908447266, 15.435609817504883, 11.325711250305176, 10.71481990814209, 42.82729721069336, 25.695541381835938, 33.274017333984375, 23.23461151123047, 12.23261833190918, 17.803312301635742, 19.09723472595215, 42.599510192871094, 51.8355827331543]\n"
     ]
    }
   ],
   "source": [
    "env_kwargs = {\n",
    "    \"hmax\": 100, \n",
    "    \"initial_amount\": 1000000, \n",
    "    \"buy_cost_pct\": 0.001,\n",
    "    \"sell_cost_pct\": 0.001,\n",
    "    \"state_space\": state_space, \n",
    "    \"stock_dim\": stock_dimension, \n",
    "    \"tech_indicator_list\": config.TECHNICAL_INDICATORS_LIST, \n",
    "    \"action_space\": stock_dimension, \n",
    "    \"reward_scaling\": 1e-4\n",
    "    \n",
    "}\n",
    "\n",
    "e_train_gym = StockTradingEnv(df = train, **env_kwargs)"
   ]
  },
  {
   "cell_type": "markdown",
   "metadata": {
    "id": "64EoqOrQjiVf"
   },
   "source": [
    "## Environment for Training\n",
    "\n"
   ]
  },
  {
   "cell_type": "code",
   "execution_count": 19,
   "metadata": {
    "colab": {
     "base_uri": "https://localhost:8080/"
    },
    "id": "xwSvvPjutpqS",
    "outputId": "259bc17b-f03a-498e-87f5-ab3406413096"
   },
   "outputs": [
    {
     "name": "stdout",
     "output_type": "stream",
     "text": [
      "[1000000, 2.78700590133667, 15.698216438293457, 33.94110107421875, 32.830360412597656, 12.59294605255127, 47.37364196777344, 15.336649894714355, 20.597496032714844, 72.55945587158203, 17.797922134399414, 59.18025588989258, 10.399736404418945, 42.00360870361328, 23.343862533569336, 15.628469467163086, 44.31218719482422, 42.266517639160156, 19.942874908447266, 15.435609817504883, 11.325711250305176, 10.71481990814209, 42.82729721069336, 25.695541381835938, 33.274017333984375, 23.23461151123047, 12.23261833190918, 17.803312301635742, 19.09723472595215, 42.599510192871094, 51.8355827331543, 0, 0, 0, 0, 0, 0, 0, 0, 0, 0, 0, 0, 0, 0, 0, 0, 0, 0, 0, 0, 0, 0, 0, 0, 0, 0, 0, 0, 0, 0, 0.0, 0.0, 0.0, 0.0, 0.0, 0.0, 0.0, 0.0, 0.0, 0.0, 0.0, 0.0, 0.0, 0.0, 0.0, 0.0, 0.0, 0.0, 0.0, 0.0, 0.0, 0.0, 0.0, 0.0, 0.0, 0.0, 0.0, 0.0, 0.0, 0.0, 3.0121616168871115, 3.0121616168871115, 3.0121616168871115, 3.0121616168871115, 3.0121616168871115, 3.0121616168871115, 3.0121616168871115, 3.0121616168871115, 3.0121616168871115, 3.0121616168871115, 3.0121616168871115, 3.0121616168871115, 3.0121616168871115, 3.0121616168871115, 3.0121616168871115, 3.0121616168871115, 3.0121616168871115, 3.0121616168871115, 3.0121616168871115, 3.0121616168871115, 3.0121616168871115, 3.0121616168871115, 3.0121616168871115, 3.0121616168871115, 3.0121616168871115, 3.0121616168871115, 3.0121616168871115, 3.0121616168871115, 3.0121616168871115, 3.0121616168871115, 2.679473276530247, 2.679473276530247, 2.679473276530247, 2.679473276530247, 2.679473276530247, 2.679473276530247, 2.679473276530247, 2.679473276530247, 2.679473276530247, 2.679473276530247, 2.679473276530247, 2.679473276530247, 2.679473276530247, 2.679473276530247, 2.679473276530247, 2.679473276530247, 2.679473276530247, 2.679473276530247, 2.679473276530247, 2.679473276530247, 2.679473276530247, 2.679473276530247, 2.679473276530247, 2.679473276530247, 2.679473276530247, 2.679473276530247, 2.679473276530247, 2.679473276530247, 2.679473276530247, 2.679473276530247, 100.0, 100.0, 100.0, 100.0, 100.0, 100.0, 100.0, 100.0, 100.0, 100.0, 100.0, 100.0, 100.0, 100.0, 100.0, 100.0, 100.0, 100.0, 100.0, 100.0, 100.0, 100.0, 100.0, 100.0, 100.0, 100.0, 100.0, 100.0, 100.0, 100.0, 66.66666666666652, 66.66666666666652, 66.66666666666652, 66.66666666666652, 66.66666666666652, 66.66666666666652, 66.66666666666652, 66.66666666666652, 66.66666666666652, 66.66666666666652, 66.66666666666652, 66.66666666666652, 66.66666666666652, 66.66666666666652, 66.66666666666652, 66.66666666666652, 66.66666666666652, 66.66666666666652, 66.66666666666652, 66.66666666666652, 66.66666666666652, 66.66666666666652, 66.66666666666652, 66.66666666666652, 66.66666666666652, 66.66666666666652, 66.66666666666652, 66.66666666666652, 66.66666666666652, 66.66666666666652, 100.0, 100.0, 100.0, 100.0, 100.0, 100.0, 100.0, 100.0, 100.0, 100.0, 100.0, 100.0, 100.0, 100.0, 100.0, 100.0, 100.0, 100.0, 100.0, 100.0, 100.0, 100.0, 100.0, 100.0, 100.0, 100.0, 100.0, 100.0, 100.0, 100.0, 2.78700590133667, 15.698216438293457, 33.94110107421875, 32.830360412597656, 12.59294605255127, 47.37364196777344, 15.336649894714355, 20.597496032714844, 72.55945587158203, 17.797922134399414, 59.18025588989258, 10.399736404418945, 42.00360870361328, 23.343862533569336, 15.628469467163086, 44.31218719482422, 42.266517639160156, 19.942874908447266, 15.435609817504883, 11.325711250305176, 10.71481990814209, 42.82729721069336, 25.695541381835938, 33.274017333984375, 23.23461151123047, 12.23261833190918, 17.803312301635742, 19.09723472595215, 42.599510192871094, 51.8355827331543, 2.78700590133667, 15.698216438293457, 33.94110107421875, 32.830360412597656, 12.59294605255127, 47.37364196777344, 15.336649894714355, 20.597496032714844, 72.55945587158203, 17.797922134399414, 59.18025588989258, 10.399736404418945, 42.00360870361328, 23.343862533569336, 15.628469467163086, 44.31218719482422, 42.266517639160156, 19.942874908447266, 15.435609817504883, 11.325711250305176, 10.71481990814209, 42.82729721069336, 25.695541381835938, 33.274017333984375, 23.23461151123047, 12.23261833190918, 17.803312301635742, 19.09723472595215, 42.599510192871094, 51.8355827331543, 2.78700590133667, 15.698216438293457, 33.94110107421875, 32.830360412597656, 12.59294605255127, 47.37364196777344, 15.336649894714355, 20.597496032714844, 72.55945587158203, 17.797922134399414, 59.18025588989258, 10.399736404418945, 42.00360870361328, 23.343862533569336, 15.628469467163086, 44.31218719482422, 42.266517639160156, 19.942874908447266, 15.435609817504883, 11.325711250305176, 10.71481990814209, 42.82729721069336, 25.695541381835938, 33.274017333984375, 23.23461151123047, 12.23261833190918, 17.803312301635742, 19.09723472595215, 42.599510192871094, 51.8355827331543, 2.78700590133667, 15.698216438293457, 33.94110107421875, 32.830360412597656, 12.59294605255127, 47.37364196777344, 15.336649894714355, 20.597496032714844, 72.55945587158203, 17.797922134399414, 59.18025588989258, 10.399736404418945, 42.00360870361328, 23.343862533569336, 15.628469467163086, 44.31218719482422, 42.266517639160156, 19.942874908447266, 15.435609817504883, 11.325711250305176, 10.71481990814209, 42.82729721069336, 25.695541381835938, 33.274017333984375, 23.23461151123047, 12.23261833190918, 17.803312301635742, 19.09723472595215, 42.599510192871094, 51.8355827331543, 2.78700590133667, 15.698216438293457, 33.94110107421875, 32.830360412597656, 12.59294605255127, 47.37364196777344, 15.336649894714355, 20.597496032714844, 72.55945587158203, 17.797922134399414, 59.18025588989258, 10.399736404418945, 42.00360870361328, 23.343862533569336, 15.628469467163086, 44.31218719482422, 42.266517639160156, 19.942874908447266, 15.435609817504883, 11.325711250305176, 10.71481990814209, 42.82729721069336, 25.695541381835938, 33.274017333984375, 23.23461151123047, 12.23261833190918, 17.803312301635742, 19.09723472595215, 42.599510192871094, 51.8355827331543, 2.78700590133667, 15.698216438293457, 33.94110107421875, 32.830360412597656, 12.59294605255127, 47.37364196777344, 15.336649894714355, 20.597496032714844, 72.55945587158203, 17.797922134399414, 59.18025588989258, 10.399736404418945, 42.00360870361328, 23.343862533569336, 15.628469467163086, 44.31218719482422, 42.266517639160156, 19.942874908447266, 15.435609817504883, 11.325711250305176, 10.71481990814209, 42.82729721069336, 25.695541381835938, 33.274017333984375, 23.23461151123047, 12.23261833190918, 17.803312301635742, 19.09723472595215, 42.599510192871094, 51.8355827331543]\n",
      "<class 'stable_baselines3.common.vec_env.dummy_vec_env.DummyVecEnv'>\n"
     ]
    }
   ],
   "source": [
    "env_train, _ = e_train_gym.get_sb_env()\n",
    "print(type(env_train))"
   ]
  },
  {
   "cell_type": "markdown",
   "metadata": {
    "id": "HMNR5nHjh1iz"
   },
   "source": [
    "<a id='5'></a>\n",
    "# Part 6: Implement DRL Algorithms\n",
    "* The implementation of the DRL algorithms are based on **OpenAI Baselines** and **Stable Baselines**. Stable Baselines is a fork of OpenAI Baselines, with a major structural refactoring, and code cleanups.\n",
    "* FinRL library includes fine-tuned standard DRL algorithms, such as DQN, DDPG,\n",
    "Multi-Agent DDPG, PPO, SAC, A2C and TD3. We also allow users to\n",
    "design their own DRL algorithms by adapting these DRL algorithms."
   ]
  },
  {
   "cell_type": "code",
   "execution_count": 20,
   "metadata": {
    "id": "364PsqckttcQ"
   },
   "outputs": [],
   "source": [
    "agent = DRLAgent(env = env_train)"
   ]
  },
  {
   "cell_type": "markdown",
   "metadata": {
    "id": "YDmqOyF9h1iz"
   },
   "source": [
    "### Model Training: 5 models, A2C DDPG, PPO, TD3, SAC\n"
   ]
  },
  {
   "cell_type": "markdown",
   "metadata": {
    "id": "uijiWgkuh1jB"
   },
   "source": [
    "### Model 1: A2C\n"
   ]
  },
  {
   "cell_type": "code",
   "execution_count": 25,
   "metadata": {
    "colab": {
     "base_uri": "https://localhost:8080/"
    },
    "id": "GUCnkn-HIbmj",
    "outputId": "2fdb297a-8d35-4c7e-806f-de859d70e19e"
   },
   "outputs": [
    {
     "name": "stdout",
     "output_type": "stream",
     "text": [
      "{'n_steps': 5, 'ent_coef': 0.01, 'learning_rate': 0.0007}\n",
      "Using cpu device\n"
     ]
    }
   ],
   "source": [
    "agent = DRLAgent(env = env_train)\n",
    "model_a2c = agent.get_model(\"a2c\")"
   ]
  },
  {
   "cell_type": "code",
   "execution_count": 26,
   "metadata": {
    "colab": {
     "base_uri": "https://localhost:8080/"
    },
    "id": "0GVpkWGqH4-D",
    "outputId": "9eb09ba2-fc4b-46a1-ea3d-bd9b3bfefffd"
   },
   "outputs": [
    {
     "name": "stdout",
     "output_type": "stream",
     "text": [
      "[1000000, 2.78700590133667, 15.698216438293457, 33.94110107421875, 32.830360412597656, 12.59294605255127, 47.37364196777344, 15.336649894714355, 20.597496032714844, 72.55945587158203, 17.797922134399414, 59.18025588989258, 10.399736404418945, 42.00360870361328, 23.343862533569336, 15.628469467163086, 44.31218719482422, 42.266517639160156, 19.942874908447266, 15.435609817504883, 11.325711250305176, 10.71481990814209, 42.82729721069336, 25.695541381835938, 33.274017333984375, 23.23461151123047, 12.23261833190918, 17.803312301635742, 19.09723472595215, 42.599510192871094, 51.8355827331543, 0, 0, 0, 0, 0, 0, 0, 0, 0, 0, 0, 0, 0, 0, 0, 0, 0, 0, 0, 0, 0, 0, 0, 0, 0, 0, 0, 0, 0, 0, 0.0, 0.0, 0.0, 0.0, 0.0, 0.0, 0.0, 0.0, 0.0, 0.0, 0.0, 0.0, 0.0, 0.0, 0.0, 0.0, 0.0, 0.0, 0.0, 0.0, 0.0, 0.0, 0.0, 0.0, 0.0, 0.0, 0.0, 0.0, 0.0, 0.0, 3.0121616168871115, 3.0121616168871115, 3.0121616168871115, 3.0121616168871115, 3.0121616168871115, 3.0121616168871115, 3.0121616168871115, 3.0121616168871115, 3.0121616168871115, 3.0121616168871115, 3.0121616168871115, 3.0121616168871115, 3.0121616168871115, 3.0121616168871115, 3.0121616168871115, 3.0121616168871115, 3.0121616168871115, 3.0121616168871115, 3.0121616168871115, 3.0121616168871115, 3.0121616168871115, 3.0121616168871115, 3.0121616168871115, 3.0121616168871115, 3.0121616168871115, 3.0121616168871115, 3.0121616168871115, 3.0121616168871115, 3.0121616168871115, 3.0121616168871115, 2.679473276530247, 2.679473276530247, 2.679473276530247, 2.679473276530247, 2.679473276530247, 2.679473276530247, 2.679473276530247, 2.679473276530247, 2.679473276530247, 2.679473276530247, 2.679473276530247, 2.679473276530247, 2.679473276530247, 2.679473276530247, 2.679473276530247, 2.679473276530247, 2.679473276530247, 2.679473276530247, 2.679473276530247, 2.679473276530247, 2.679473276530247, 2.679473276530247, 2.679473276530247, 2.679473276530247, 2.679473276530247, 2.679473276530247, 2.679473276530247, 2.679473276530247, 2.679473276530247, 2.679473276530247, 100.0, 100.0, 100.0, 100.0, 100.0, 100.0, 100.0, 100.0, 100.0, 100.0, 100.0, 100.0, 100.0, 100.0, 100.0, 100.0, 100.0, 100.0, 100.0, 100.0, 100.0, 100.0, 100.0, 100.0, 100.0, 100.0, 100.0, 100.0, 100.0, 100.0, 66.66666666666652, 66.66666666666652, 66.66666666666652, 66.66666666666652, 66.66666666666652, 66.66666666666652, 66.66666666666652, 66.66666666666652, 66.66666666666652, 66.66666666666652, 66.66666666666652, 66.66666666666652, 66.66666666666652, 66.66666666666652, 66.66666666666652, 66.66666666666652, 66.66666666666652, 66.66666666666652, 66.66666666666652, 66.66666666666652, 66.66666666666652, 66.66666666666652, 66.66666666666652, 66.66666666666652, 66.66666666666652, 66.66666666666652, 66.66666666666652, 66.66666666666652, 66.66666666666652, 66.66666666666652, 100.0, 100.0, 100.0, 100.0, 100.0, 100.0, 100.0, 100.0, 100.0, 100.0, 100.0, 100.0, 100.0, 100.0, 100.0, 100.0, 100.0, 100.0, 100.0, 100.0, 100.0, 100.0, 100.0, 100.0, 100.0, 100.0, 100.0, 100.0, 100.0, 100.0, 2.78700590133667, 15.698216438293457, 33.94110107421875, 32.830360412597656, 12.59294605255127, 47.37364196777344, 15.336649894714355, 20.597496032714844, 72.55945587158203, 17.797922134399414, 59.18025588989258, 10.399736404418945, 42.00360870361328, 23.343862533569336, 15.628469467163086, 44.31218719482422, 42.266517639160156, 19.942874908447266, 15.435609817504883, 11.325711250305176, 10.71481990814209, 42.82729721069336, 25.695541381835938, 33.274017333984375, 23.23461151123047, 12.23261833190918, 17.803312301635742, 19.09723472595215, 42.599510192871094, 51.8355827331543, 2.78700590133667, 15.698216438293457, 33.94110107421875, 32.830360412597656, 12.59294605255127, 47.37364196777344, 15.336649894714355, 20.597496032714844, 72.55945587158203, 17.797922134399414, 59.18025588989258, 10.399736404418945, 42.00360870361328, 23.343862533569336, 15.628469467163086, 44.31218719482422, 42.266517639160156, 19.942874908447266, 15.435609817504883, 11.325711250305176, 10.71481990814209, 42.82729721069336, 25.695541381835938, 33.274017333984375, 23.23461151123047, 12.23261833190918, 17.803312301635742, 19.09723472595215, 42.599510192871094, 51.8355827331543, 2.78700590133667, 15.698216438293457, 33.94110107421875, 32.830360412597656, 12.59294605255127, 47.37364196777344, 15.336649894714355, 20.597496032714844, 72.55945587158203, 17.797922134399414, 59.18025588989258, 10.399736404418945, 42.00360870361328, 23.343862533569336, 15.628469467163086, 44.31218719482422, 42.266517639160156, 19.942874908447266, 15.435609817504883, 11.325711250305176, 10.71481990814209, 42.82729721069336, 25.695541381835938, 33.274017333984375, 23.23461151123047, 12.23261833190918, 17.803312301635742, 19.09723472595215, 42.599510192871094, 51.8355827331543, 2.78700590133667, 15.698216438293457, 33.94110107421875, 32.830360412597656, 12.59294605255127, 47.37364196777344, 15.336649894714355, 20.597496032714844, 72.55945587158203, 17.797922134399414, 59.18025588989258, 10.399736404418945, 42.00360870361328, 23.343862533569336, 15.628469467163086, 44.31218719482422, 42.266517639160156, 19.942874908447266, 15.435609817504883, 11.325711250305176, 10.71481990814209, 42.82729721069336, 25.695541381835938, 33.274017333984375, 23.23461151123047, 12.23261833190918, 17.803312301635742, 19.09723472595215, 42.599510192871094, 51.8355827331543, 2.78700590133667, 15.698216438293457, 33.94110107421875, 32.830360412597656, 12.59294605255127, 47.37364196777344, 15.336649894714355, 20.597496032714844, 72.55945587158203, 17.797922134399414, 59.18025588989258, 10.399736404418945, 42.00360870361328, 23.343862533569336, 15.628469467163086, 44.31218719482422, 42.266517639160156, 19.942874908447266, 15.435609817504883, 11.325711250305176, 10.71481990814209, 42.82729721069336, 25.695541381835938, 33.274017333984375, 23.23461151123047, 12.23261833190918, 17.803312301635742, 19.09723472595215, 42.599510192871094, 51.8355827331543, 2.78700590133667, 15.698216438293457, 33.94110107421875, 32.830360412597656, 12.59294605255127, 47.37364196777344, 15.336649894714355, 20.597496032714844, 72.55945587158203, 17.797922134399414, 59.18025588989258, 10.399736404418945, 42.00360870361328, 23.343862533569336, 15.628469467163086, 44.31218719482422, 42.266517639160156, 19.942874908447266, 15.435609817504883, 11.325711250305176, 10.71481990814209, 42.82729721069336, 25.695541381835938, 33.274017333984375, 23.23461151123047, 12.23261833190918, 17.803312301635742, 19.09723472595215, 42.599510192871094, 51.8355827331543]\n",
      "Logging to tensorboard_log/a2c\\a2c_3\n",
      "------------------------------------\n",
      "| time/                 |          |\n",
      "|    fps                | 134      |\n",
      "|    iterations         | 100      |\n",
      "|    time_elapsed       | 3        |\n",
      "|    total_timesteps    | 500      |\n",
      "| train/                |          |\n",
      "|    entropy_loss       | -42.7    |\n",
      "|    explained_variance | -0.193   |\n",
      "|    learning_rate      | 0.0007   |\n",
      "|    n_updates          | 99       |\n",
      "|    policy_loss        | -38.3    |\n",
      "|    std                | 1        |\n",
      "|    value_loss         | 0.958    |\n",
      "------------------------------------\n",
      "------------------------------------\n",
      "| time/                 |          |\n",
      "|    fps                | 135      |\n",
      "|    iterations         | 200      |\n",
      "|    time_elapsed       | 7        |\n",
      "|    total_timesteps    | 1000     |\n",
      "| train/                |          |\n",
      "|    entropy_loss       | -42.7    |\n",
      "|    explained_variance | -0.346   |\n",
      "|    learning_rate      | 0.0007   |\n",
      "|    n_updates          | 199      |\n",
      "|    policy_loss        | 23.6     |\n",
      "|    std                | 1        |\n",
      "|    value_loss         | 1.49     |\n",
      "------------------------------------\n"
     ]
    }
   ],
   "source": [
    "trained_a2c = agent.train_model(model=model_a2c, \n",
    "                             tb_log_name='a2c',\n",
    "                             total_timesteps=1000)"
   ]
  },
  {
   "cell_type": "markdown",
   "metadata": {
    "id": "MRiOtrywfAo1"
   },
   "source": [
    "### Model 2: DDPG"
   ]
  },
  {
   "cell_type": "code",
   "execution_count": 27,
   "metadata": {
    "colab": {
     "base_uri": "https://localhost:8080/"
    },
    "id": "M2YadjfnLwgt",
    "outputId": "3b2a8f89-0561-4083-a015-fbee11693037"
   },
   "outputs": [
    {
     "name": "stdout",
     "output_type": "stream",
     "text": [
      "{'batch_size': 128, 'buffer_size': 50000, 'learning_rate': 0.001}\n",
      "Using cpu device\n"
     ]
    }
   ],
   "source": [
    "agent = DRLAgent(env = env_train)\n",
    "model_ddpg = agent.get_model(\"ddpg\")"
   ]
  },
  {
   "cell_type": "code",
   "execution_count": 28,
   "metadata": {
    "colab": {
     "background_save": true,
     "base_uri": "https://localhost:8080/"
    },
    "id": "tCDa78rqfO_a",
    "outputId": "f651f8be-4c93-4b1e-c88a-7e3a09976693",
    "tags": []
   },
   "outputs": [
    {
     "name": "stdout",
     "output_type": "stream",
     "text": [
      "[1000000, 16.090686798095703, 50.84724807739258, 63.82965850830078, 68.9310302734375, 15.391002655029297, 78.00062561035156, 36.09136199951172, 45.454647064208984, 112.89419555664062, 50.98896408081055, 140.82015991210938, 16.230836868286133, 55.96622848510742, 34.79741287231445, 28.365230560302734, 71.26537322998047, 74.27186584472656, 32.05595016479492, 22.98516845703125, 23.8995361328125, 17.483909606933594, 53.18644332885742, 42.709110260009766, 60.0010986328125, 48.292266845703125, 35.528656005859375, 29.847227096557617, 29.557008743286133, 56.27716064453125, 61.08891677856445, 0, 0, 0, 0, 0, 0, 0, 0, 0, 0, 0, 0, 0, 0, 0, 0, 0, 0, 0, 0, 0, 0, 0, 0, 0, 0, 0, 0, 0, 0, -0.4790281612272622, 0.352971743064856, 0.7102643955258543, 1.0782265988359399, 0.40539747734638176, 0.5972740143129016, 0.9219816875346467, 0.34665957292345695, 2.1366686254966396, -0.1299040345792477, 0.37170635738817737, 0.06575029680240618, 0.28206866616658743, 0.6303649480151137, 0.0011612970931587085, 0.7613384652741502, 0.7665065875549857, -0.28322156842286006, -0.05803875957229465, 0.3239120131836728, 0.1341645434343839, 0.1949259150776399, 0.6147185986336581, 0.821139460764627, 0.2572196596564851, 0.4300346023826336, 0.01917796401935945, 0.6972581868390364, -0.5950708325603173, -0.022759044881091484, 18.766851064121614, 51.46229717032732, 63.97484438366516, 71.35299394457584, 15.853625027448315, 79.05470712300173, 36.998827544787176, 46.01939340204985, 113.47526807233835, 54.68987472862803, 142.8113246466208, 16.622217892935883, 57.02249027675158, 35.37459273887569, 29.29476660120206, 72.40493967241464, 75.45127250719851, 35.004858112955624, 23.288018782185453, 23.17975548633983, 18.131614329027087, 54.79109799751072, 43.047700421193134, 62.19818194088255, 48.901438190058805, 35.70396457807665, 30.75062809963491, 31.520002323880945, 59.6787453528391, 62.78347829516775, 15.262377337062471, 48.309434778525215, 61.306250358156134, 64.4892530647015, 14.274498351305349, 73.08952886942991, 31.68034878577923, 43.37127432255952, 98.22855806901906, 50.86444389014639, 136.9746036981058, 15.068938494393219, 54.779368625225956, 31.380293888321575, 28.262307182672455, 67.03255574994863, 71.11001289319212, 32.64224729475922, 21.97726651902304, 21.53858977428029, 17.023037503553482, 53.19625055900784, 40.45186279596995, 57.14450604739871, 45.999433468266396, 34.33583186967725, 29.494589223668314, 26.428332942232338, 55.39318381586207, 60.89024683300608, 39.90701806064099, 53.39988440665971, 59.508500442426666, 53.96632631157408, 61.978759641470106, 53.1158970166131, 60.04727421397511, 53.14634910909783, 61.73422657985111, 49.295606728709814, 49.240679903009415, 46.917950112169805, 54.601114604481126, 61.094788400121345, 47.08765473383627, 57.02345629548367, 55.28791899929445, 39.39148370930392, 47.2210095327293, 63.44424226775815, 52.999916825439854, 50.15300541311099, 60.32179790569709, 58.29419086696586, 52.227151438891674, 61.02569578006179, 48.427514458620536, 56.96975342564665, 42.50246216183435, 46.36384793144969, -106.12097507452754, 90.2233320580288, 115.8032458361101, 58.12482574817948, 77.34560313462546, 125.63172910237785, 125.13779108906384, 113.43698606651927, 218.8027101086643, -124.65187140207816, 70.46766044398885, 77.63043779278469, 48.80088122137165, 129.28864149923768, -43.270949055832396, 96.98818689089896, 91.94102512853945, -246.65700359670643, 35.635179780267165, 213.21269137937497, 45.131011009684755, 0.06978217938607773, 102.46665475970785, 59.716087291169394, 105.8272258110339, 118.25035073363792, 11.920913258665287, 68.26679164495236, -78.17690291465843, -25.956285689136283, 39.57024414326078, 2.0603514616361682, 7.904944710359101, 1.6647758319601944, 20.443207134471262, 9.54382696299508, 28.864826199911363, 15.849633076867553, 39.12008330817743, 20.429454160041978, 7.822200280830111, 11.135487726492961, 10.916442748327098, 32.90081846054223, 26.243489016507716, 14.554274117875043, 22.599357453265277, 38.918232776846054, 1.008480763223858, 47.49350842624092, 8.476455787471867, 20.69585780169737, 26.421453587326084, 23.395779132435564, 22.100773864357233, 40.82193943552737, 12.331130520273145, 11.713519294670379, 25.54219905477061, 6.290465635203263, 17.005638758341473, 49.4642697652181, 62.005912399291994, 66.90150260925293, 14.586292362213134, 75.32239201863607, 33.56708291371663, 44.08717104593913, 104.69639104207357, 52.469109853108726, 139.10120646158853, 15.796085993448893, 55.56378313700358, 32.86378345489502, 28.536625607808432, 68.6921770731608, 72.3777842203776, 33.656415685017905, 22.674371083577473, 21.958126958211263, 17.31753069559733, 53.40701649983724, 40.97851587931315, 58.65112419128418, 46.935533650716145, 34.634588623046874, 29.80086924235026, 28.15363686879476, 57.42779808044433, 61.57890739440918, 18.15871680577596, 49.89872792561849, 60.70291913350423, 66.51293481191, 14.245338964462281, 77.55474230448405, 33.16898361841837, 44.970503107706705, 105.02033551534016, 51.53552392323812, 142.44609731038412, 16.40804605484009, 55.39906323750814, 32.901474984486896, 28.652877680460612, 69.6290168762207, 72.581058883667, 34.3874490737915, 23.474988746643067, 21.700367577870686, 17.355986499786376, 53.23530642191569, 40.49510669708252, 58.0850892384847, 48.09623959859212, 33.66630016962687, 30.300603580474853, 28.464025433858236, 59.17839050292969, 62.575775210062666, 18.915828720728555, 50.24619490305583, 60.48436991373698, 66.63141695658366, 13.853931816418966, 77.79458955128987, 33.23125754992167, 44.82556962966919, 98.12000802357991, 48.329270108540854, 142.41075375874837, 17.911523421605427, 54.496478176116945, 31.019279384613036, 29.052919387817383, 69.84936186472575, 72.35890560150146, 33.731218083699545, 24.278371858596802, 21.61985402107239, 16.85381358464559, 51.93590971628825, 40.03567641576131, 55.338093217213945, 47.58584664662679, 31.936597712834676, 30.17728810310364, 28.09343277613322, 59.33123099009196, 61.711981773376465, 17.08385146119392, 49.94422206305832, 62.10514669955518, 67.76728074127826, 14.81123670001708, 76.53643226636147, 34.21093536515769, 44.73678515885705, 106.12798960055491, 52.11780941238433, 140.38315380549471, 16.084927809900368, 55.810108775718625, 33.356135141054395, 28.646544565956667, 69.67910288233385, 73.04798828774496, 33.809993468553806, 22.919668507850066, 22.15360773790975, 17.47065459270443, 53.64920257208467, 41.390330063562, 59.227054395988866, 47.597497182915745, 34.626042084504526, 30.06183149222012, 28.888378218296044, 57.72897022953453, 61.96728581383642, 17.800833458434685, 49.91946788663409, 61.28517086380645, 67.26612913435005, 14.432784197201999, 76.9038221564748, 33.67387168869852, 44.708485248882575, 104.00103272196249, 51.14590968005707, 141.2778258710306, 16.560282157410498, 55.32444855637651, 32.67900325198403, 28.688039735348088, 69.59345087456722, 72.61560900560669, 33.877894688571686, 23.382689554297706, 21.94261074626218, 17.263801028844604, 53.14180677003709, 40.84331743600606, 57.9628528866825, 47.681722720925166, 33.715114608082764, 30.06708223968191, 28.491193543376333, 58.36697764389197, 62.01623104988158, 18.142352973896404, 49.788936929392385, 60.65740838571819, 67.86956759945028, 14.128996636388463, 76.6890126996634, 33.6038419165365, 44.01395068855242, 100.56130312781181, 48.73085723488799, 141.82641914138944, 17.47438028913539, 54.350498300296145, 31.686600036739627, 28.638624340356145, 69.9677910140887, 71.86216514464516, 33.19851150497841, 23.886013823065614, 21.988617457169884, 16.81967730524292, 52.15833800081091, 40.35197446734565, 55.88360796851513, 47.719060866259014, 32.165303407781025, 29.69643415832381, 28.057096762321063, 57.78479066791788, 61.38526407986806]\n",
      "Logging to tensorboard_log/ddpg\\ddpg_3\n",
      "[1000000, 38.39591979980469, 91.69662475585938, 313.3722229003906, 118.78218841552734, 40.123985290527344, 97.55754852294922, 72.68486785888672, 108.32612609863281, 159.20101928710938, 162.39141845703125, 100.57974243164062, 44.13541793823242, 121.43285369873047, 90.1629638671875, 44.01080322265625, 168.1305389404297, 176.2595672607422, 71.46668243408203, 98.81327819824219, 72.5230484008789, 37.58075714111328, 86.1761703491211, 63.318092346191406, 113.30058288574219, 240.15750122070312, 129.90611267089844, 50.585201263427734, 62.84025573730469, 89.07861328125, 58.40364074707031, 0, 0, 0, 0, 0, 0, 0, 0, 0, 0, 0, 0, 0, 0, 0, 0, 0, 0, 0, 0, 0, 0, 0, 0, 0, 0, 0, 0, 0, 0, -2.141041777965299, -3.552996723704098, -6.5322711673567255, -0.8822167825157834, -0.9799449674846201, -2.1934933168446946, -1.5881746002519037, -1.8656878145195321, -9.081052234113486, -2.2328399684980695, -2.5064249292951075, -0.32983955379442875, -4.102228793422313, -2.889179649527293, -0.37578329318664316, -1.5821942612953137, -3.034807609728148, -0.045701227715255754, -1.989642958275212, -0.4748045008294781, -0.31164924659512394, -0.15894413380489425, -3.133430619057208, -2.131574045626138, -6.482025623390342, -2.418196932413707, -0.7203707316276251, -3.300559169558241, -1.471619326161104, -2.482863766377193, 44.892229370622374, 111.36300186108146, 342.32881024668274, 126.67958024706923, 46.44073180391158, 109.87818312548303, 79.24678590247319, 116.00920992711988, 183.72168296998487, 172.42401221238305, 112.84118430770026, 47.09376750857173, 146.13142281352287, 102.4620881119527, 47.24138996033042, 180.68020637252658, 194.9722010671581, 74.85048747981278, 111.03721923065258, 76.32536173026133, 40.01830623171521, 90.78252295363262, 76.30022868521363, 122.41246286213173, 280.5934039928979, 143.48348987803158, 54.110994390695424, 82.90719216848024, 94.16250629297494, 71.2504424269772, 35.425199981184264, 84.31483017016855, 286.2696272533173, 108.3496510151378, 36.98808708952104, 90.8505697736869, 66.18410704186275, 101.20333890100511, 146.34521766478073, 150.74925286330057, 95.16874611222163, 41.39900478451909, 110.47156562031499, 83.03143300621137, 42.87990406127602, 161.07342979690702, 165.57457627659193, 67.0375336078337, 92.71542816924976, 66.07668294747305, 34.950357937596316, 82.9179569352834, 59.85034428231566, 106.48336691081748, 220.07980462526615, 120.76131984486882, 47.78192667558875, 57.189871659034424, 82.19729747899771, 54.73835189980503, 37.75982395986877, 40.71624994037739, 46.64540885675644, 48.70144022030136, 45.64467817344928, 44.26132208143357, 44.25409807748751, 47.83996928295028, 35.63770200737305, 46.11224841619744, 40.96224776697351, 49.89366863333349, 41.26482814247898, 40.52048034036802, 48.47799005016877, 50.88586612857365, 45.978325437708534, 55.80481396385381, 46.14623869121712, 49.76676606841861, 51.63699466969182, 53.62612687484355, 34.35809840118678, 45.04135387279997, 44.5684146391877, 46.509202260278585, 49.63783502247345, 38.307205284058206, 48.35169659019782, 36.543217733002415, -91.67054593629406, -109.83834793357164, -17.475572612222297, 12.329529747670817, -77.4732468109483, -77.33962585106951, -42.732092003422395, -58.14510275150944, -84.41152060393604, 4.262368100545784, -97.52338683742215, -24.206099345356787, -89.21712725299025, -72.56607081986824, -120.1604296897402, -88.61097854653659, -82.70331590720843, 18.67840660810269, -71.41982391968268, 50.30535743909069, -8.022870249083393, -49.06712720073917, -130.13339802496432, -66.7844621268324, -82.54308811269136, -59.798289371468904, -70.49851911199725, -124.28460705024048, -17.692497586316556, -120.0778555984407, 39.21273713115692, 30.453011992404555, 9.047314956629457, 5.499285014878643, 24.349465497595983, 18.674706573890372, 0.5037544821377812, 13.997383580478868, 29.32770159143419, 1.9913665820095818, 28.430069581600943, 1.8729404826432607, 38.63512730261832, 22.315559742186643, 13.005381083863785, 19.81702222548818, 15.178812041846507, 0.6113816125882416, 16.71149438381473, 8.357815156369787, 6.498120288227792, 8.013845497751616, 55.39295086435475, 35.542858223546276, 22.914261916465172, 15.829087664939708, 14.948583054220851, 57.4119284443266, 1.9382079525904927, 38.68347837075397, 41.427544657389326, 100.1662841796875, 315.0024037679037, 117.73522415161133, 41.98094584147135, 101.87928746541341, 74.36122589111328, 109.81524073282877, 172.00625762939453, 162.00941111246746, 104.7405616760254, 44.481499354044594, 130.70966313680012, 95.50019989013671, 45.252423731486004, 172.0068593343099, 182.44998118082682, 70.7762446085612, 102.38918431599934, 71.21157328287761, 37.573584111531574, 86.85305226643881, 70.41919021606445, 116.69815724690756, 252.94693857828776, 133.03675867716473, 51.85478057861328, 71.89152615865072, 89.29732182820638, 64.20575040181478, 46.69040864308675, 100.4800532023112, 332.99889882405597, 120.29204368591309, 42.22139949798584, 102.97162348429362, 76.19156150817871, 111.52368125915527, 190.53668238321941, 167.6039156595866, 109.24550806681314, 43.884673500061034, 130.74426816304523, 98.05444679260253, 44.338623428344725, 167.7947914123535, 182.2012171427409, 68.91559403737386, 103.5944315592448, 72.6252488454183, 37.520247840881346, 83.96607894897461, 73.4315902709961, 117.68082796732584, 253.82371215820314, 135.27827339172364, 51.14293855031331, 71.3548786799113, 91.69127909342448, 66.56452528635661, 48.9582116762797, 100.42886555989584, 337.6223083496094, 126.31065222422282, 41.99293937683105, 105.04002825419109, 83.81094640096029, 110.75350697835286, 205.73003145853679, 178.4878739674886, 118.57227821350098, 44.509608364105226, 127.81590468088785, 101.48819834391276, 43.173673216501875, 159.22659797668456, 185.979651260376, 65.65668007532756, 104.76256472269694, 75.65125401814778, 36.29720401763916, 80.13823388417562, 76.4165605545044, 119.52889347076416, 252.29484774271648, 138.06977723439533, 49.23769283294678, 67.01916990280151, 89.77974789937338, 67.87399905522665, 41.55337418471094, 97.5983646829555, 316.72541312632495, 117.65787947517018, 41.391593736623435, 100.38052805799904, 73.66882330629643, 108.92849268602549, 171.51145458454621, 162.56079924365588, 104.41490560764949, 44.03972226734474, 127.62666713937763, 93.88273325195334, 44.717486117265295, 169.45284113620485, 179.7718513128005, 70.07365534819736, 101.50673185245806, 71.41635306536446, 37.256110324186615, 85.95326549064625, 69.05013183444571, 115.138749959081, 248.58012469364277, 132.17200286887038, 50.92697129884003, 69.33304415706453, 89.02785611081511, 63.19592462962367, 44.66268963472359, 99.45563301911282, 325.9877404437506, 120.58520542216081, 41.910842118772045, 102.34534518536968, 76.87606920670427, 110.05344598439336, 184.94087510218046, 167.70998042141247, 109.05669862546735, 44.19126502623335, 129.03063302297122, 96.95326635447339, 44.32696453885032, 167.17622276283024, 182.32343011558615, 68.81759043787164, 102.93025572890909, 72.74337637319837, 37.132954335438555, 84.24098365612112, 72.14826705151098, 117.11490245316384, 251.4370629888189, 134.56764684762345, 50.68441156962193, 69.76813763123022, 90.06675482799233, 65.38410172248817, 46.436410821906605, 99.286899875849, 330.54175250697693, 124.7539336485887, 41.651466900995025, 103.9912238007686, 81.1402121662288, 109.35324194651628, 198.7913904087784, 172.59762516992996, 114.97972975244448, 44.56612541367987, 127.60236966688139, 99.08638449002554, 43.33669064788692, 162.35573215858727, 185.08637850595395, 65.8742127071641, 102.30060963816815, 73.19315772578021, 36.07251721804503, 81.23024704486006, 74.17681133747142, 118.8128975661018, 248.95207274534806, 134.71165973512655, 49.26067608982605, 67.88801890256853, 89.30185984379379, 66.71880747623682]\n"
     ]
    }
   ],
   "source": [
    "trained_ddpg = agent.train_model(model=model_ddpg, \n",
    "                             tb_log_name='ddpg',\n",
    "                             total_timesteps=1000)"
   ]
  },
  {
   "cell_type": "markdown",
   "metadata": {
    "id": "_gDkU-j-fCmZ"
   },
   "source": [
    "### Model 3: PPO"
   ]
  },
  {
   "cell_type": "code",
   "execution_count": 29,
   "metadata": {
    "colab": {
     "base_uri": "https://localhost:8080/"
    },
    "id": "y5D5PFUhMzSV",
    "outputId": "1bd9a8e4-b094-4649-b0af-d6ae6562221f"
   },
   "outputs": [
    {
     "name": "stdout",
     "output_type": "stream",
     "text": [
      "{'n_steps': 2048, 'ent_coef': 0.01, 'learning_rate': 0.00025, 'batch_size': 128}\n",
      "Using cpu device\n"
     ]
    }
   ],
   "source": [
    "agent = DRLAgent(env = env_train)\n",
    "PPO_PARAMS = {\n",
    "    \"n_steps\": 2048,\n",
    "    \"ent_coef\": 0.01,\n",
    "    \"learning_rate\": 0.00025,\n",
    "    \"batch_size\": 128,\n",
    "}\n",
    "model_ppo = agent.get_model(\"ppo\",model_kwargs = PPO_PARAMS)"
   ]
  },
  {
   "cell_type": "code",
   "execution_count": 30,
   "metadata": {
    "colab": {
     "base_uri": "https://localhost:8080/",
     "height": 477
    },
    "id": "Gt8eIQKYM4G3",
    "jupyter": {
     "outputs_hidden": true
    },
    "outputId": "f0cdbe05-8c27-4c20-bd5e-a34c7c5923b0"
   },
   "outputs": [
    {
     "name": "stdout",
     "output_type": "stream",
     "text": [
      "[1000000, 2.78700590133667, 15.698216438293457, 33.94110107421875, 32.830360412597656, 12.59294605255127, 47.37364196777344, 15.336649894714355, 20.597496032714844, 72.55945587158203, 17.797922134399414, 59.18025588989258, 10.399736404418945, 42.00360870361328, 23.343862533569336, 15.628469467163086, 44.31218719482422, 42.266517639160156, 19.942874908447266, 15.435609817504883, 11.325711250305176, 10.71481990814209, 42.82729721069336, 25.695541381835938, 33.274017333984375, 23.23461151123047, 12.23261833190918, 17.803312301635742, 19.09723472595215, 42.599510192871094, 51.8355827331543, 0, 0, 0, 0, 0, 0, 0, 0, 0, 0, 0, 0, 0, 0, 0, 0, 0, 0, 0, 0, 0, 0, 0, 0, 0, 0, 0, 0, 0, 0, 0.0, 0.0, 0.0, 0.0, 0.0, 0.0, 0.0, 0.0, 0.0, 0.0, 0.0, 0.0, 0.0, 0.0, 0.0, 0.0, 0.0, 0.0, 0.0, 0.0, 0.0, 0.0, 0.0, 0.0, 0.0, 0.0, 0.0, 0.0, 0.0, 0.0, 3.0121616168871115, 3.0121616168871115, 3.0121616168871115, 3.0121616168871115, 3.0121616168871115, 3.0121616168871115, 3.0121616168871115, 3.0121616168871115, 3.0121616168871115, 3.0121616168871115, 3.0121616168871115, 3.0121616168871115, 3.0121616168871115, 3.0121616168871115, 3.0121616168871115, 3.0121616168871115, 3.0121616168871115, 3.0121616168871115, 3.0121616168871115, 3.0121616168871115, 3.0121616168871115, 3.0121616168871115, 3.0121616168871115, 3.0121616168871115, 3.0121616168871115, 3.0121616168871115, 3.0121616168871115, 3.0121616168871115, 3.0121616168871115, 3.0121616168871115, 2.679473276530247, 2.679473276530247, 2.679473276530247, 2.679473276530247, 2.679473276530247, 2.679473276530247, 2.679473276530247, 2.679473276530247, 2.679473276530247, 2.679473276530247, 2.679473276530247, 2.679473276530247, 2.679473276530247, 2.679473276530247, 2.679473276530247, 2.679473276530247, 2.679473276530247, 2.679473276530247, 2.679473276530247, 2.679473276530247, 2.679473276530247, 2.679473276530247, 2.679473276530247, 2.679473276530247, 2.679473276530247, 2.679473276530247, 2.679473276530247, 2.679473276530247, 2.679473276530247, 2.679473276530247, 100.0, 100.0, 100.0, 100.0, 100.0, 100.0, 100.0, 100.0, 100.0, 100.0, 100.0, 100.0, 100.0, 100.0, 100.0, 100.0, 100.0, 100.0, 100.0, 100.0, 100.0, 100.0, 100.0, 100.0, 100.0, 100.0, 100.0, 100.0, 100.0, 100.0, 66.66666666666652, 66.66666666666652, 66.66666666666652, 66.66666666666652, 66.66666666666652, 66.66666666666652, 66.66666666666652, 66.66666666666652, 66.66666666666652, 66.66666666666652, 66.66666666666652, 66.66666666666652, 66.66666666666652, 66.66666666666652, 66.66666666666652, 66.66666666666652, 66.66666666666652, 66.66666666666652, 66.66666666666652, 66.66666666666652, 66.66666666666652, 66.66666666666652, 66.66666666666652, 66.66666666666652, 66.66666666666652, 66.66666666666652, 66.66666666666652, 66.66666666666652, 66.66666666666652, 66.66666666666652, 100.0, 100.0, 100.0, 100.0, 100.0, 100.0, 100.0, 100.0, 100.0, 100.0, 100.0, 100.0, 100.0, 100.0, 100.0, 100.0, 100.0, 100.0, 100.0, 100.0, 100.0, 100.0, 100.0, 100.0, 100.0, 100.0, 100.0, 100.0, 100.0, 100.0, 2.78700590133667, 15.698216438293457, 33.94110107421875, 32.830360412597656, 12.59294605255127, 47.37364196777344, 15.336649894714355, 20.597496032714844, 72.55945587158203, 17.797922134399414, 59.18025588989258, 10.399736404418945, 42.00360870361328, 23.343862533569336, 15.628469467163086, 44.31218719482422, 42.266517639160156, 19.942874908447266, 15.435609817504883, 11.325711250305176, 10.71481990814209, 42.82729721069336, 25.695541381835938, 33.274017333984375, 23.23461151123047, 12.23261833190918, 17.803312301635742, 19.09723472595215, 42.599510192871094, 51.8355827331543, 2.78700590133667, 15.698216438293457, 33.94110107421875, 32.830360412597656, 12.59294605255127, 47.37364196777344, 15.336649894714355, 20.597496032714844, 72.55945587158203, 17.797922134399414, 59.18025588989258, 10.399736404418945, 42.00360870361328, 23.343862533569336, 15.628469467163086, 44.31218719482422, 42.266517639160156, 19.942874908447266, 15.435609817504883, 11.325711250305176, 10.71481990814209, 42.82729721069336, 25.695541381835938, 33.274017333984375, 23.23461151123047, 12.23261833190918, 17.803312301635742, 19.09723472595215, 42.599510192871094, 51.8355827331543, 2.78700590133667, 15.698216438293457, 33.94110107421875, 32.830360412597656, 12.59294605255127, 47.37364196777344, 15.336649894714355, 20.597496032714844, 72.55945587158203, 17.797922134399414, 59.18025588989258, 10.399736404418945, 42.00360870361328, 23.343862533569336, 15.628469467163086, 44.31218719482422, 42.266517639160156, 19.942874908447266, 15.435609817504883, 11.325711250305176, 10.71481990814209, 42.82729721069336, 25.695541381835938, 33.274017333984375, 23.23461151123047, 12.23261833190918, 17.803312301635742, 19.09723472595215, 42.599510192871094, 51.8355827331543, 2.78700590133667, 15.698216438293457, 33.94110107421875, 32.830360412597656, 12.59294605255127, 47.37364196777344, 15.336649894714355, 20.597496032714844, 72.55945587158203, 17.797922134399414, 59.18025588989258, 10.399736404418945, 42.00360870361328, 23.343862533569336, 15.628469467163086, 44.31218719482422, 42.266517639160156, 19.942874908447266, 15.435609817504883, 11.325711250305176, 10.71481990814209, 42.82729721069336, 25.695541381835938, 33.274017333984375, 23.23461151123047, 12.23261833190918, 17.803312301635742, 19.09723472595215, 42.599510192871094, 51.8355827331543, 2.78700590133667, 15.698216438293457, 33.94110107421875, 32.830360412597656, 12.59294605255127, 47.37364196777344, 15.336649894714355, 20.597496032714844, 72.55945587158203, 17.797922134399414, 59.18025588989258, 10.399736404418945, 42.00360870361328, 23.343862533569336, 15.628469467163086, 44.31218719482422, 42.266517639160156, 19.942874908447266, 15.435609817504883, 11.325711250305176, 10.71481990814209, 42.82729721069336, 25.695541381835938, 33.274017333984375, 23.23461151123047, 12.23261833190918, 17.803312301635742, 19.09723472595215, 42.599510192871094, 51.8355827331543, 2.78700590133667, 15.698216438293457, 33.94110107421875, 32.830360412597656, 12.59294605255127, 47.37364196777344, 15.336649894714355, 20.597496032714844, 72.55945587158203, 17.797922134399414, 59.18025588989258, 10.399736404418945, 42.00360870361328, 23.343862533569336, 15.628469467163086, 44.31218719482422, 42.266517639160156, 19.942874908447266, 15.435609817504883, 11.325711250305176, 10.71481990814209, 42.82729721069336, 25.695541381835938, 33.274017333984375, 23.23461151123047, 12.23261833190918, 17.803312301635742, 19.09723472595215, 42.599510192871094, 51.8355827331543]\n",
      "Logging to tensorboard_log/ppo\\ppo_2\n",
      "-----------------------------\n",
      "| time/              |      |\n",
      "|    fps             | 154  |\n",
      "|    iterations      | 1    |\n",
      "|    time_elapsed    | 13   |\n",
      "|    total_timesteps | 2048 |\n",
      "-----------------------------\n"
     ]
    }
   ],
   "source": [
    "trained_ppo = agent.train_model(model=model_ppo, \n",
    "                             tb_log_name='ppo',\n",
    "                             total_timesteps=1000)"
   ]
  },
  {
   "cell_type": "markdown",
   "metadata": {
    "id": "3Zpv4S0-fDBv"
   },
   "source": [
    "### Model 4: TD3"
   ]
  },
  {
   "cell_type": "code",
   "execution_count": 39,
   "metadata": {
    "colab": {
     "base_uri": "https://localhost:8080/"
    },
    "id": "JSAHhV4Xc-bh",
    "outputId": "e531db14-aab4-47d1-cc15-02c893ec66c9"
   },
   "outputs": [
    {
     "name": "stdout",
     "output_type": "stream",
     "text": [
      "{'batch_size': 100, 'buffer_size': 1000000, 'learning_rate': 0.001}\n",
      "Using cpu device\n"
     ]
    }
   ],
   "source": [
    "agent = DRLAgent(env = env_train)\n",
    "TD3_PARAMS = {\"batch_size\": 100, \n",
    "              \"buffer_size\": 1000000, \n",
    "              \"learning_rate\": 0.001}\n",
    "\n",
    "model_td3 = agent.get_model(\"td3\",model_kwargs = TD3_PARAMS)"
   ]
  },
  {
   "cell_type": "code",
   "execution_count": 40,
   "metadata": {
    "colab": {
     "base_uri": "https://localhost:8080/"
    },
    "id": "OSRxNYAxdKpU",
    "outputId": "ddc4193c-884b-4a2c-9e49-31397e2cfbec"
   },
   "outputs": [
    {
     "name": "stdout",
     "output_type": "stream",
     "text": [
      "[1000000, 32.50059127807617, 74.83963775634766, 163.9823455810547, 87.8850326538086, 29.833024978637695, 92.54185485839844, 82.32376861572266, 105.45314025878906, 233.69862365722656, 131.2222900390625, 148.79367065429688, 32.40830993652344, 106.72248840332031, 80.83092498779297, 36.15778732299805, 115.09774780273438, 164.869384765625, 57.48778533935547, 60.56845474243164, 55.59139633178711, 27.138832092285156, 80.93218994140625, 64.38614654541016, 110.1478500366211, 150.4595947265625, 85.43305206298828, 41.12411117553711, 76.33426666259766, 65.29778289794922, 64.70258331298828, 0, 0, 0, 0, 0, 0, 0, 0, 0, 0, 0, 0, 0, 0, 0, 0, 0, 0, 0, 0, 0, 0, 0, 0, 0, 0, 0, 0, 0, 0, 1.079358096913154, 0.9969893240458418, 3.7708223412194286, 1.041743360226974, 0.7820935349617777, -0.6173242681077653, 1.2651806649912345, 0.7687065547034564, 3.8854876907754488, 1.950526936667245, 2.6415959580452864, -0.059886542566353285, 1.111709737361167, 1.3723485776938844, -0.051027585668855124, 1.381668797651102, 1.9650875355973767, 0.9336904371044739, 0.46895163214750113, 1.193041907724826, 0.375893822668278, 1.3602015217359025, 0.45052033205360686, 0.8728445021653357, 0.12603363044624416, 1.6151889635733312, -0.4274922617014525, 0.8174733439113311, 0.5817025413104346, -0.8311174992318229, 33.502040829700626, 75.51820846204505, 164.03032469933262, 90.33718283474688, 29.9531652264997, 96.5109935902255, 81.1307655366892, 106.86181228578904, 237.88419795898847, 130.87811018505818, 150.51120238480257, 33.839695877166456, 107.04873016207321, 81.57539351312585, 36.77862898232246, 115.87178573009686, 164.56054834820773, 59.038443688130165, 61.54678482113305, 55.79602621672666, 27.600583233730397, 81.34942127855727, 64.75381425512084, 110.75965962095945, 154.216607827193, 86.72874812657513, 41.3505062817515, 76.79960389014057, 64.81040385291324, 67.90286214649191, 28.038681635814513, 70.91952804918542, 147.6239263993002, 82.15284325778241, 25.7625724978045, 90.94487341416902, 76.09767150554713, 103.48713790952347, 210.53809055419515, 121.22228196582074, 140.79131684127162, 31.61587720480376, 98.32421219022171, 73.93226334722573, 35.09540856955742, 108.67278290393634, 150.36905675433135, 53.403932639384486, 58.800908812900154, 48.600109876412986, 24.547048792941965, 75.30979731885485, 61.24215017664186, 104.38645320252688, 148.52702620601013, 79.20674610560262, 39.457095265489706, 69.2235703957481, 58.71814572289243, 64.43540765941628, 81.27285180210238, 66.28525841581734, 71.96442961138501, 57.95180945164259, 73.94619001437943, 46.98398736260412, 67.76720154015779, 62.09450512627886, 64.74174651856927, 68.10140676228484, 67.16946638567094, 49.67611100359192, 62.71839580013858, 66.79700172092828, 51.54135644599117, 67.20131110396633, 67.93631887739083, 59.38564197566714, 58.81931457344421, 67.0779592094834, 61.02788390546496, 65.01481595447996, 59.83953513622295, 61.46737964422415, 53.09032846951869, 65.41164865458555, 48.20641530835949, 60.75036076759066, 59.11713442926757, 38.92997072656886, 110.32960761290207, 145.34876157217113, 173.0512454801283, 89.63942029965531, 194.83147192926924, -91.62356705646535, 167.00529912409942, 52.452558034965435, 133.20240501101787, 219.31301945661897, 97.86617790036102, -75.26588420708894, 206.22838791880304, 171.1414477536474, 52.697548889367866, 133.13070199693627, 214.785795136743, 100.84743824180121, 56.7323695207299, 184.89388350925563, 133.9804215565094, 167.37699915521864, 146.67085430243375, 185.35946558668087, -21.48566753840922, 118.89221050599615, -14.18649601886943, 158.96893575962625, 263.7891727246807, -120.46070225704041, 82.54681438693764, 47.79978722187838, 57.417109012374624, 25.21732379424903, 74.75865896624913, 13.947213588019618, 41.368559480391234, 22.816145471347355, 28.236074025251096, 67.76423779788733, 35.98902281548128, 11.947381826639553, 45.552185016529265, 43.512922130820584, 7.580478482414719, 37.23243654034668, 39.69699409689774, 33.02920628951298, 24.344550780537972, 51.94683812388989, 26.468033679960158, 54.98171268253521, 9.768288136324378, 12.39906835495467, 9.986675677742438, 49.64816257994105, 6.135807855647317, 47.70958207019212, 53.76868727758587, 47.991241793876846, 29.930415916442872, 72.7857536315918, 152.97698211669922, 85.4981096903483, 27.370132319132487, 94.5567731221517, 77.33417205810547, 104.5746846516927, 223.01525065104167, 125.02240219116212, 142.9423060099284, 32.77518342336019, 102.49895807902018, 76.96691207885742, 35.9010924021403, 111.37037938435873, 157.12091267903645, 55.52016436258952, 59.68701273600261, 51.68930727640788, 25.955286852518718, 77.26456247965494, 62.9655958811442, 107.12171300252278, 150.9799819946289, 81.77522048950195, 41.3711191813151, 73.0731824239095, 61.73225339253744, 66.81714172363282, 28.465654786427816, 70.98234265645345, 148.4289357503255, 84.63539174397786, 26.792400805155435, 95.35820617675782, 75.50529238382975, 101.79076690673828, 220.68607915242512, 122.81405881245931, 138.98608957926433, 32.46692403157552, 102.32141545613607, 75.84486389160156, 35.9222687403361, 110.25434557596843, 156.25739440917968, 54.39075724283854, 58.83567746480306, 50.46862195332845, 25.915671094258627, 75.53420931498209, 62.638922119140624, 107.29317092895508, 150.50015233357746, 79.12039794921876, 42.088396581013996, 73.8513256072998, 62.812313334147134, 68.75518531799317, 27.421978123982747, 66.04681180318197, 137.20116132100424, 80.34876079559326, 26.779606358210245, 90.07461395263672, 71.84755249023438, 95.38795026143391, 192.20773264567057, 118.49967225392659, 132.6275868097941, 32.23027722040812, 103.1892297744751, 68.49989137649536, 36.10134534835815, 106.48688151041667, 153.8352013905843, 54.2653239885966, 56.561751461029054, 50.357619253794354, 26.0205371538798, 75.71982949574789, 60.37446988423665, 104.25694166819254, 140.85268014272054, 79.28730233510335, 41.438725248972574, 72.57077433268229, 63.27476895650228, 68.18501885732015, 30.304058774145506, 72.76827165901055, 153.94295081249757, 85.71996659131516, 27.74356880713996, 94.17956131355588, 77.6658654215156, 104.18055562079117, 224.14678993316488, 125.47912960043378, 143.73265033114473, 32.60841716554283, 103.19345858909462, 77.41084478153546, 35.896017436138244, 111.90014062940921, 157.94350921153975, 55.87286557519292, 59.758190933943254, 52.08192528848666, 26.2124903802676, 77.76785592773325, 63.078440375391764, 107.74413226158255, 150.76421146043674, 82.19320339517576, 41.104346478459604, 73.60972659620842, 62.36263250356084, 66.83200967133821, 29.048785613543213, 70.74770712612602, 148.51171210278048, 84.07207223234761, 27.1903814759315, 93.64892441090255, 75.66697153054031, 101.64263426318387, 215.62797918957838, 123.06999060892197, 139.74827529431823, 32.4469318737266, 102.89442369242785, 74.8519052916421, 35.97599109736387, 110.13734105981474, 156.32783490876926, 54.986006165504975, 58.748904033258626, 51.168964989168174, 26.052008593524388, 76.5486745526617, 62.34091372609706, 106.66054949162046, 148.47259860385455, 80.57623703678449, 41.46531006011194, 73.30832881849089, 62.5798141502787, 67.71985288731749, 27.70703803480725, 67.60359659126483, 140.8020847108473, 80.69809279895178, 26.67084119608475, 91.00201699148546, 72.91295215795182, 98.31988720654809, 199.13249509299877, 120.60389380431042, 134.73523123616084, 31.914132342455186, 102.79836844950114, 70.18071546964366, 36.23019684932433, 108.26866232455377, 154.29662536214204, 53.96256038793114, 56.82968431981055, 51.10876353142071, 26.095489030959452, 75.53299576080094, 61.05756502150219, 105.15791234198339, 143.03183686070216, 79.20809160179994, 41.588169039172286, 72.77488749152614, 62.91373543708177, 68.11208870697168]\n",
      "Logging to tensorboard_log/td3\\td3_2\n",
      "[1000000, 38.39591979980469, 91.69662475585938, 313.3722229003906, 118.78218841552734, 40.123985290527344, 97.55754852294922, 72.68486785888672, 108.32612609863281, 159.20101928710938, 162.39141845703125, 100.57974243164062, 44.13541793823242, 121.43285369873047, 90.1629638671875, 44.01080322265625, 168.1305389404297, 176.2595672607422, 71.46668243408203, 98.81327819824219, 72.5230484008789, 37.58075714111328, 86.1761703491211, 63.318092346191406, 113.30058288574219, 240.15750122070312, 129.90611267089844, 50.585201263427734, 62.84025573730469, 89.07861328125, 58.40364074707031, 0, 0, 0, 0, 0, 0, 0, 0, 0, 0, 0, 0, 0, 0, 0, 0, 0, 0, 0, 0, 0, 0, 0, 0, 0, 0, 0, 0, 0, 0, -2.141041777965299, -3.552996723704098, -6.5322711673567255, -0.8822167825157834, -0.9799449674846201, -2.1934933168446946, -1.5881746002519037, -1.8656878145195321, -9.081052234113486, -2.2328399684980695, -2.5064249292951075, -0.32983955379442875, -4.102228793422313, -2.889179649527293, -0.37578329318664316, -1.5821942612953137, -3.034807609728148, -0.045701227715255754, -1.989642958275212, -0.4748045008294781, -0.31164924659512394, -0.15894413380489425, -3.133430619057208, -2.131574045626138, -6.482025623390342, -2.418196932413707, -0.7203707316276251, -3.300559169558241, -1.471619326161104, -2.482863766377193, 44.892229370622374, 111.36300186108146, 342.32881024668274, 126.67958024706923, 46.44073180391158, 109.87818312548303, 79.24678590247319, 116.00920992711988, 183.72168296998487, 172.42401221238305, 112.84118430770026, 47.09376750857173, 146.13142281352287, 102.4620881119527, 47.24138996033042, 180.68020637252658, 194.9722010671581, 74.85048747981278, 111.03721923065258, 76.32536173026133, 40.01830623171521, 90.78252295363262, 76.30022868521363, 122.41246286213173, 280.5934039928979, 143.48348987803158, 54.110994390695424, 82.90719216848024, 94.16250629297494, 71.2504424269772, 35.425199981184264, 84.31483017016855, 286.2696272533173, 108.3496510151378, 36.98808708952104, 90.8505697736869, 66.18410704186275, 101.20333890100511, 146.34521766478073, 150.74925286330057, 95.16874611222163, 41.39900478451909, 110.47156562031499, 83.03143300621137, 42.87990406127602, 161.07342979690702, 165.57457627659193, 67.0375336078337, 92.71542816924976, 66.07668294747305, 34.950357937596316, 82.9179569352834, 59.85034428231566, 106.48336691081748, 220.07980462526615, 120.76131984486882, 47.78192667558875, 57.189871659034424, 82.19729747899771, 54.73835189980503, 37.75982395986877, 40.71624994037739, 46.64540885675644, 48.70144022030136, 45.64467817344928, 44.26132208143357, 44.25409807748751, 47.83996928295028, 35.63770200737305, 46.11224841619744, 40.96224776697351, 49.89366863333349, 41.26482814247898, 40.52048034036802, 48.47799005016877, 50.88586612857365, 45.978325437708534, 55.80481396385381, 46.14623869121712, 49.76676606841861, 51.63699466969182, 53.62612687484355, 34.35809840118678, 45.04135387279997, 44.5684146391877, 46.509202260278585, 49.63783502247345, 38.307205284058206, 48.35169659019782, 36.543217733002415, -91.67054593629406, -109.83834793357164, -17.475572612222297, 12.329529747670817, -77.4732468109483, -77.33962585106951, -42.732092003422395, -58.14510275150944, -84.41152060393604, 4.262368100545784, -97.52338683742215, -24.206099345356787, -89.21712725299025, -72.56607081986824, -120.1604296897402, -88.61097854653659, -82.70331590720843, 18.67840660810269, -71.41982391968268, 50.30535743909069, -8.022870249083393, -49.06712720073917, -130.13339802496432, -66.7844621268324, -82.54308811269136, -59.798289371468904, -70.49851911199725, -124.28460705024048, -17.692497586316556, -120.0778555984407, 39.21273713115692, 30.453011992404555, 9.047314956629457, 5.499285014878643, 24.349465497595983, 18.674706573890372, 0.5037544821377812, 13.997383580478868, 29.32770159143419, 1.9913665820095818, 28.430069581600943, 1.8729404826432607, 38.63512730261832, 22.315559742186643, 13.005381083863785, 19.81702222548818, 15.178812041846507, 0.6113816125882416, 16.71149438381473, 8.357815156369787, 6.498120288227792, 8.013845497751616, 55.39295086435475, 35.542858223546276, 22.914261916465172, 15.829087664939708, 14.948583054220851, 57.4119284443266, 1.9382079525904927, 38.68347837075397, 41.427544657389326, 100.1662841796875, 315.0024037679037, 117.73522415161133, 41.98094584147135, 101.87928746541341, 74.36122589111328, 109.81524073282877, 172.00625762939453, 162.00941111246746, 104.7405616760254, 44.481499354044594, 130.70966313680012, 95.50019989013671, 45.252423731486004, 172.0068593343099, 182.44998118082682, 70.7762446085612, 102.38918431599934, 71.21157328287761, 37.573584111531574, 86.85305226643881, 70.41919021606445, 116.69815724690756, 252.94693857828776, 133.03675867716473, 51.85478057861328, 71.89152615865072, 89.29732182820638, 64.20575040181478, 46.69040864308675, 100.4800532023112, 332.99889882405597, 120.29204368591309, 42.22139949798584, 102.97162348429362, 76.19156150817871, 111.52368125915527, 190.53668238321941, 167.6039156595866, 109.24550806681314, 43.884673500061034, 130.74426816304523, 98.05444679260253, 44.338623428344725, 167.7947914123535, 182.2012171427409, 68.91559403737386, 103.5944315592448, 72.6252488454183, 37.520247840881346, 83.96607894897461, 73.4315902709961, 117.68082796732584, 253.82371215820314, 135.27827339172364, 51.14293855031331, 71.3548786799113, 91.69127909342448, 66.56452528635661, 48.9582116762797, 100.42886555989584, 337.6223083496094, 126.31065222422282, 41.99293937683105, 105.04002825419109, 83.81094640096029, 110.75350697835286, 205.73003145853679, 178.4878739674886, 118.57227821350098, 44.509608364105226, 127.81590468088785, 101.48819834391276, 43.173673216501875, 159.22659797668456, 185.979651260376, 65.65668007532756, 104.76256472269694, 75.65125401814778, 36.29720401763916, 80.13823388417562, 76.4165605545044, 119.52889347076416, 252.29484774271648, 138.06977723439533, 49.23769283294678, 67.01916990280151, 89.77974789937338, 67.87399905522665, 41.55337418471094, 97.5983646829555, 316.72541312632495, 117.65787947517018, 41.391593736623435, 100.38052805799904, 73.66882330629643, 108.92849268602549, 171.51145458454621, 162.56079924365588, 104.41490560764949, 44.03972226734474, 127.62666713937763, 93.88273325195334, 44.717486117265295, 169.45284113620485, 179.7718513128005, 70.07365534819736, 101.50673185245806, 71.41635306536446, 37.256110324186615, 85.95326549064625, 69.05013183444571, 115.138749959081, 248.58012469364277, 132.17200286887038, 50.92697129884003, 69.33304415706453, 89.02785611081511, 63.19592462962367, 44.66268963472359, 99.45563301911282, 325.9877404437506, 120.58520542216081, 41.910842118772045, 102.34534518536968, 76.87606920670427, 110.05344598439336, 184.94087510218046, 167.70998042141247, 109.05669862546735, 44.19126502623335, 129.03063302297122, 96.95326635447339, 44.32696453885032, 167.17622276283024, 182.32343011558615, 68.81759043787164, 102.93025572890909, 72.74337637319837, 37.132954335438555, 84.24098365612112, 72.14826705151098, 117.11490245316384, 251.4370629888189, 134.56764684762345, 50.68441156962193, 69.76813763123022, 90.06675482799233, 65.38410172248817, 46.436410821906605, 99.286899875849, 330.54175250697693, 124.7539336485887, 41.651466900995025, 103.9912238007686, 81.1402121662288, 109.35324194651628, 198.7913904087784, 172.59762516992996, 114.97972975244448, 44.56612541367987, 127.60236966688139, 99.08638449002554, 43.33669064788692, 162.35573215858727, 185.08637850595395, 65.8742127071641, 102.30060963816815, 73.19315772578021, 36.07251721804503, 81.23024704486006, 74.17681133747142, 118.8128975661018, 248.95207274534806, 134.71165973512655, 49.26067608982605, 67.88801890256853, 89.30185984379379, 66.71880747623682]\n"
     ]
    }
   ],
   "source": [
    "trained_td3 = agent.train_model(model=model_td3, \n",
    "                             tb_log_name='td3',\n",
    "                             total_timesteps=1000)"
   ]
  },
  {
   "cell_type": "markdown",
   "metadata": {
    "id": "Dr49PotrfG01"
   },
   "source": [
    "### Model 5: SAC"
   ]
  },
  {
   "cell_type": "code",
   "execution_count": 41,
   "metadata": {
    "colab": {
     "base_uri": "https://localhost:8080/"
    },
    "id": "xwOhVjqRkCdM",
    "outputId": "44fcd5ee-7ce3-4c21-b2c8-131b7bba8127"
   },
   "outputs": [
    {
     "name": "stdout",
     "output_type": "stream",
     "text": [
      "{'batch_size': 128, 'buffer_size': 1000000, 'learning_rate': 0.0001, 'learning_starts': 100, 'ent_coef': 'auto_0.1'}\n",
      "Using cpu device\n"
     ]
    }
   ],
   "source": [
    "agent = DRLAgent(env = env_train)\n",
    "SAC_PARAMS = {\n",
    "    \"batch_size\": 128,\n",
    "    \"buffer_size\": 1000000,\n",
    "    \"learning_rate\": 0.0001,\n",
    "    \"learning_starts\": 100,\n",
    "    \"ent_coef\": \"auto_0.1\",\n",
    "}\n",
    "\n",
    "model_sac = agent.get_model(\"sac\",model_kwargs = SAC_PARAMS)"
   ]
  },
  {
   "cell_type": "code",
   "execution_count": 42,
   "metadata": {
    "colab": {
     "base_uri": "https://localhost:8080/"
    },
    "id": "K8RSdKCckJyH",
    "outputId": "89e2ae3c-2559-4f93-82d4-168f9853db9e"
   },
   "outputs": [
    {
     "name": "stdout",
     "output_type": "stream",
     "text": [
      "[1000000, 2.78700590133667, 15.698216438293457, 33.94110107421875, 32.830360412597656, 12.59294605255127, 47.37364196777344, 15.336649894714355, 20.597496032714844, 72.55945587158203, 17.797922134399414, 59.18025588989258, 10.399736404418945, 42.00360870361328, 23.343862533569336, 15.628469467163086, 44.31218719482422, 42.266517639160156, 19.942874908447266, 15.435609817504883, 11.325711250305176, 10.71481990814209, 42.82729721069336, 25.695541381835938, 33.274017333984375, 23.23461151123047, 12.23261833190918, 17.803312301635742, 19.09723472595215, 42.599510192871094, 51.8355827331543, 0, 0, 0, 0, 0, 0, 0, 0, 0, 0, 0, 0, 0, 0, 0, 0, 0, 0, 0, 0, 0, 0, 0, 0, 0, 0, 0, 0, 0, 0, 0.0, 0.0, 0.0, 0.0, 0.0, 0.0, 0.0, 0.0, 0.0, 0.0, 0.0, 0.0, 0.0, 0.0, 0.0, 0.0, 0.0, 0.0, 0.0, 0.0, 0.0, 0.0, 0.0, 0.0, 0.0, 0.0, 0.0, 0.0, 0.0, 0.0, 3.0121616168871115, 3.0121616168871115, 3.0121616168871115, 3.0121616168871115, 3.0121616168871115, 3.0121616168871115, 3.0121616168871115, 3.0121616168871115, 3.0121616168871115, 3.0121616168871115, 3.0121616168871115, 3.0121616168871115, 3.0121616168871115, 3.0121616168871115, 3.0121616168871115, 3.0121616168871115, 3.0121616168871115, 3.0121616168871115, 3.0121616168871115, 3.0121616168871115, 3.0121616168871115, 3.0121616168871115, 3.0121616168871115, 3.0121616168871115, 3.0121616168871115, 3.0121616168871115, 3.0121616168871115, 3.0121616168871115, 3.0121616168871115, 3.0121616168871115, 2.679473276530247, 2.679473276530247, 2.679473276530247, 2.679473276530247, 2.679473276530247, 2.679473276530247, 2.679473276530247, 2.679473276530247, 2.679473276530247, 2.679473276530247, 2.679473276530247, 2.679473276530247, 2.679473276530247, 2.679473276530247, 2.679473276530247, 2.679473276530247, 2.679473276530247, 2.679473276530247, 2.679473276530247, 2.679473276530247, 2.679473276530247, 2.679473276530247, 2.679473276530247, 2.679473276530247, 2.679473276530247, 2.679473276530247, 2.679473276530247, 2.679473276530247, 2.679473276530247, 2.679473276530247, 100.0, 100.0, 100.0, 100.0, 100.0, 100.0, 100.0, 100.0, 100.0, 100.0, 100.0, 100.0, 100.0, 100.0, 100.0, 100.0, 100.0, 100.0, 100.0, 100.0, 100.0, 100.0, 100.0, 100.0, 100.0, 100.0, 100.0, 100.0, 100.0, 100.0, 66.66666666666652, 66.66666666666652, 66.66666666666652, 66.66666666666652, 66.66666666666652, 66.66666666666652, 66.66666666666652, 66.66666666666652, 66.66666666666652, 66.66666666666652, 66.66666666666652, 66.66666666666652, 66.66666666666652, 66.66666666666652, 66.66666666666652, 66.66666666666652, 66.66666666666652, 66.66666666666652, 66.66666666666652, 66.66666666666652, 66.66666666666652, 66.66666666666652, 66.66666666666652, 66.66666666666652, 66.66666666666652, 66.66666666666652, 66.66666666666652, 66.66666666666652, 66.66666666666652, 66.66666666666652, 100.0, 100.0, 100.0, 100.0, 100.0, 100.0, 100.0, 100.0, 100.0, 100.0, 100.0, 100.0, 100.0, 100.0, 100.0, 100.0, 100.0, 100.0, 100.0, 100.0, 100.0, 100.0, 100.0, 100.0, 100.0, 100.0, 100.0, 100.0, 100.0, 100.0, 2.78700590133667, 15.698216438293457, 33.94110107421875, 32.830360412597656, 12.59294605255127, 47.37364196777344, 15.336649894714355, 20.597496032714844, 72.55945587158203, 17.797922134399414, 59.18025588989258, 10.399736404418945, 42.00360870361328, 23.343862533569336, 15.628469467163086, 44.31218719482422, 42.266517639160156, 19.942874908447266, 15.435609817504883, 11.325711250305176, 10.71481990814209, 42.82729721069336, 25.695541381835938, 33.274017333984375, 23.23461151123047, 12.23261833190918, 17.803312301635742, 19.09723472595215, 42.599510192871094, 51.8355827331543, 2.78700590133667, 15.698216438293457, 33.94110107421875, 32.830360412597656, 12.59294605255127, 47.37364196777344, 15.336649894714355, 20.597496032714844, 72.55945587158203, 17.797922134399414, 59.18025588989258, 10.399736404418945, 42.00360870361328, 23.343862533569336, 15.628469467163086, 44.31218719482422, 42.266517639160156, 19.942874908447266, 15.435609817504883, 11.325711250305176, 10.71481990814209, 42.82729721069336, 25.695541381835938, 33.274017333984375, 23.23461151123047, 12.23261833190918, 17.803312301635742, 19.09723472595215, 42.599510192871094, 51.8355827331543, 2.78700590133667, 15.698216438293457, 33.94110107421875, 32.830360412597656, 12.59294605255127, 47.37364196777344, 15.336649894714355, 20.597496032714844, 72.55945587158203, 17.797922134399414, 59.18025588989258, 10.399736404418945, 42.00360870361328, 23.343862533569336, 15.628469467163086, 44.31218719482422, 42.266517639160156, 19.942874908447266, 15.435609817504883, 11.325711250305176, 10.71481990814209, 42.82729721069336, 25.695541381835938, 33.274017333984375, 23.23461151123047, 12.23261833190918, 17.803312301635742, 19.09723472595215, 42.599510192871094, 51.8355827331543, 2.78700590133667, 15.698216438293457, 33.94110107421875, 32.830360412597656, 12.59294605255127, 47.37364196777344, 15.336649894714355, 20.597496032714844, 72.55945587158203, 17.797922134399414, 59.18025588989258, 10.399736404418945, 42.00360870361328, 23.343862533569336, 15.628469467163086, 44.31218719482422, 42.266517639160156, 19.942874908447266, 15.435609817504883, 11.325711250305176, 10.71481990814209, 42.82729721069336, 25.695541381835938, 33.274017333984375, 23.23461151123047, 12.23261833190918, 17.803312301635742, 19.09723472595215, 42.599510192871094, 51.8355827331543, 2.78700590133667, 15.698216438293457, 33.94110107421875, 32.830360412597656, 12.59294605255127, 47.37364196777344, 15.336649894714355, 20.597496032714844, 72.55945587158203, 17.797922134399414, 59.18025588989258, 10.399736404418945, 42.00360870361328, 23.343862533569336, 15.628469467163086, 44.31218719482422, 42.266517639160156, 19.942874908447266, 15.435609817504883, 11.325711250305176, 10.71481990814209, 42.82729721069336, 25.695541381835938, 33.274017333984375, 23.23461151123047, 12.23261833190918, 17.803312301635742, 19.09723472595215, 42.599510192871094, 51.8355827331543, 2.78700590133667, 15.698216438293457, 33.94110107421875, 32.830360412597656, 12.59294605255127, 47.37364196777344, 15.336649894714355, 20.597496032714844, 72.55945587158203, 17.797922134399414, 59.18025588989258, 10.399736404418945, 42.00360870361328, 23.343862533569336, 15.628469467163086, 44.31218719482422, 42.266517639160156, 19.942874908447266, 15.435609817504883, 11.325711250305176, 10.71481990814209, 42.82729721069336, 25.695541381835938, 33.274017333984375, 23.23461151123047, 12.23261833190918, 17.803312301635742, 19.09723472595215, 42.599510192871094, 51.8355827331543]\n",
      "Logging to tensorboard_log/sac\\sac_2\n"
     ]
    }
   ],
   "source": [
    "trained_sac = agent.train_model(model=model_sac, \n",
    "                             tb_log_name='sac',\n",
    "                             total_timesteps=1000)"
   ]
  },
  {
   "cell_type": "markdown",
   "metadata": {
    "id": "f2wZgkQXh1jE"
   },
   "source": [
    "## Trading\n",
    "Assume that we have $1,000,000 initial capital at 2019-01-01. We use the DDPG model to trade Dow jones 30 stocks."
   ]
  },
  {
   "cell_type": "markdown",
   "metadata": {
    "id": "bEv5KGC8h1jE"
   },
   "source": [
    "### Set turbulence threshold\n",
    "Set the turbulence threshold to be greater than the maximum of insample turbulence data, if current turbulence index is greater than the threshold, then we assume that the current market is volatile"
   ]
  },
  {
   "cell_type": "code",
   "execution_count": 43,
   "metadata": {
    "id": "efwBi84ch1jE"
   },
   "outputs": [],
   "source": [
    "data_turbulence = processed_full[(processed_full.date<'2019-01-01') & (processed_full.date>='2009-01-01')]\n",
    "insample_turbulence = data_turbulence.drop_duplicates(subset=['date'])"
   ]
  },
  {
   "cell_type": "code",
   "execution_count": 44,
   "metadata": {
    "colab": {
     "base_uri": "https://localhost:8080/"
    },
    "id": "VHZMBpSqh1jG",
    "outputId": "6dd6e5d6-38d1-4f60-ae70-1168757eb1fc"
   },
   "outputs": [
    {
     "data": {
      "text/plain": [
       "count    2516.000000\n",
       "mean       33.278196\n",
       "std        33.999877\n",
       "min         0.000000\n",
       "25%        15.233733\n",
       "50%        25.167097\n",
       "75%        39.290279\n",
       "max       332.849213\n",
       "Name: turbulence, dtype: float64"
      ]
     },
     "execution_count": 44,
     "metadata": {},
     "output_type": "execute_result"
    }
   ],
   "source": [
    "insample_turbulence.turbulence.describe()"
   ]
  },
  {
   "cell_type": "code",
   "execution_count": 45,
   "metadata": {
    "id": "yuwDPkV9h1jL"
   },
   "outputs": [],
   "source": [
    "turbulence_threshold = np.quantile(insample_turbulence.turbulence.values,1)"
   ]
  },
  {
   "cell_type": "code",
   "execution_count": 46,
   "metadata": {
    "colab": {
     "base_uri": "https://localhost:8080/"
    },
    "id": "wwoz_7VSh1jO",
    "outputId": "a22d3e00-8a19-4b18-dd3e-9d072a0f6aca"
   },
   "outputs": [
    {
     "data": {
      "text/plain": [
       "332.8492127964834"
      ]
     },
     "execution_count": 46,
     "metadata": {},
     "output_type": "execute_result"
    }
   ],
   "source": [
    "turbulence_threshold"
   ]
  },
  {
   "cell_type": "markdown",
   "metadata": {
    "id": "U5mmgQF_h1jQ"
   },
   "source": [
    "### Trade\n",
    "\n",
    "DRL model needs to update periodically in order to take full advantage of the data, ideally we need to retrain our model yearly, quarterly, or monthly. We also need to tune the parameters along the way, in this notebook I only use the in-sample data from 2009-01 to 2018-12 to tune the parameters once, so there is some alpha decay here as the length of trade date extends. \n",
    "\n",
    "Numerous hyperparameters – e.g. the learning rate, the total number of samples to train on – influence the learning process and are usually determined by testing some variations."
   ]
  },
  {
   "cell_type": "code",
   "execution_count": 47,
   "metadata": {
    "id": "cIqoV0GSI52v"
   },
   "outputs": [
    {
     "name": "stdout",
     "output_type": "stream",
     "text": [
      "[1000000, 38.439735412597656, 92.0429458618164, 314.6451416015625, 118.13717651367188, 39.7721061706543, 99.26136779785156, 74.09832763671875, 107.65434265136719, 163.94699096679688, 162.94903564453125, 101.94241333007812, 44.27648162841797, 120.20957946777344, 91.72384643554688, 43.620418548583984, 166.7007598876953, 176.6388397216797, 70.6997299194336, 98.37548065185547, 72.4448013305664, 37.23637771606445, 85.57616424560547, 64.40036010742188, 111.04877471923828, 234.7300567626953, 130.8709716796875, 50.405242919921875, 62.57354736328125, 89.26032257080078, 59.68837356567383, 0, 0, 0, 0, 0, 0, 0, 0, 0, 0, 0, 0, 0, 0, 0, 0, 0, 0, 0, 0, 0, 0, 0, 0, 0, 0, 0, 0, 0, 0, -2.01346910769135, -3.403804612767189, -5.5505923876932, -0.6800493576991471, -0.9455581149819992, -1.91175117903758, -1.2729275169320005, -1.651912931269365, -8.096245348729553, -1.7997391293691862, -2.2648934134193013, -0.2572228966760548, -4.013110074480451, -2.5660852949502413, -0.4048977948138841, -1.5590910367507433, -2.774189923635788, 0.003932935425268624, -1.9043699674799228, -0.30397542886021256, -0.26204783597102477, -0.17511634955393163, -2.970334503121208, -2.094982133142736, -6.5089857720333555, -2.1081863336865183, -0.6448272151559422, -3.297879502094915, -1.199409620099999, -2.3416385499996792, 44.43005367394104, 109.90741049688123, 339.1163745658215, 125.14576140331492, 46.12080095288543, 109.04153751776946, 78.44694798723769, 115.41276062735767, 181.0994720499936, 171.2530411663419, 112.02045387358139, 46.80774990304466, 144.93687028397983, 100.71280492636237, 46.99985698701848, 179.5673010786956, 193.11213727397168, 74.48104669240412, 110.23070023308297, 76.19676921418744, 39.64379742495154, 90.57959317550998, 75.78306768498263, 120.97735322705964, 277.8498133800429, 142.50990651167993, 53.513176120538375, 82.00293586145752, 93.59010884306092, 70.59007696485179, 35.38448451880799, 84.17448494989611, 287.2520153267566, 109.01506089282766, 36.852422542597964, 90.94739604546297, 66.53136164410996, 101.24348098030833, 147.18910064287746, 151.17263022037687, 95.18781181245377, 41.475301397004166, 109.86415129194789, 83.6834650626513, 42.7989078140069, 161.00751886759343, 165.86482348042287, 67.10789144846503, 92.57146270026665, 66.10158665129109, 35.06830165036584, 82.8180699409451, 59.56235238948026, 106.76422849901459, 219.17264297982038, 120.86944758377908, 47.994642482977255, 56.56473496068604, 82.40821497896057, 54.558507019523205, 37.86735914598463, 41.20499819277922, 47.00999953113829, 48.229090830266784, 44.8725598631141, 46.46915125327022, 46.380824293213315, 47.045441735448065, 38.9165236036083, 46.55999047129957, 42.655674268205175, 50.19544838339111, 40.13626058186111, 43.02885164897344, 46.8119066870673, 49.4275651587938, 46.25146147977327, 53.95673899366663, 45.76923473359724, 49.670242678815946, 50.33355435295983, 52.408677790370156, 36.800152361330525, 42.52266853921618, 42.35096165693539, 47.27851681528227, 49.10141141327524, 37.96652519839796, 48.66448599144904, 39.55687993301925, -91.57572274553536, -97.75909207689975, -21.712381855099203, -5.147001772115913, -87.53821297855757, -58.787287961289415, -24.819879473819313, -60.257985707732395, -62.14529319762999, 0.5393039059969074, -75.90928425841172, -37.56804117708566, -90.88721354561643, -61.18134748425406, -133.8170755362403, -103.80853487615317, -83.30233417884862, -21.373589539398218, -81.40820271803672, 33.09297468852238, -33.68006504960127, -90.77866678194574, -109.4285997861159, -88.6434799438204, -102.30154075497877, -46.73703307057854, -65.9950749669937, -117.34701116181334, -13.79725393852279, -99.49280350374684, 42.250808130450245, 26.709416907858223, 13.611971735226405, 0.8734820911322487, 29.529376708333828, 12.402189501116395, 6.143790897057993, 13.997383580478873, 15.405786122881205, 2.3417145518652855, 19.746436149091654, 9.423171192104842, 41.06731684022472, 16.14741791946928, 18.244360423779344, 24.257938347578236, 19.1624270474599, 8.82054690360689, 21.611851783432602, 14.156233083111273, 12.488069072861324, 15.123752864499727, 44.007800886874904, 41.41754582375914, 29.77892653768423, 11.039624603798941, 14.948583054220851, 59.94325356869549, 5.448461840985518, 32.33472560981127, 41.15581487019857, 99.71992212931315, 314.4271596272786, 117.64050013224283, 41.86303393046061, 101.69216537475586, 74.18816808064778, 109.5768674214681, 171.0250249226888, 161.88669128417968, 104.55681025187174, 44.44921048482259, 130.21296513875325, 95.16893107096354, 45.177452850341794, 171.80565745035807, 182.0623779296875, 70.8158696492513, 102.18942362467448, 71.20994237263997, 37.57473233540853, 86.7733642578125, 69.99441350301107, 116.4632344563802, 252.28478088378907, 132.7440071105957, 51.76300366719564, 71.45468864440917, 89.11690928141276, 63.963080088297524, 46.40935916900635, 100.2866938273112, 331.9561482747396, 119.83435605367025, 42.13759568532308, 102.77657000223796, 75.98622563680013, 111.42050666809082, 189.6705113728841, 167.20605595906576, 108.74119186401367, 43.872933578491214, 130.5761745452881, 97.80876604715984, 44.3609265645345, 167.97273737589518, 181.87067133585612, 68.99144369761149, 103.41307703653972, 72.52934214274089, 37.50435307820638, 84.1235424041748, 73.12148742675781, 117.48187103271485, 253.43850021362306, 135.05547828674315, 51.16697731018066, 71.27968069712321, 91.68556238810221, 66.34995969136556, 48.90009202957153, 100.39472052256266, 337.5125274658203, 126.24299170176188, 41.99807783762614, 104.96176516215006, 83.68648211161296, 110.76800969441732, 205.3172331492106, 178.3116830190023, 118.37777900695801, 44.4822393099467, 127.84052098592123, 101.4393995920817, 43.195873800913496, 159.3795934041341, 185.94818458557128, 65.76998805999756, 104.76230462392171, 75.62776489257813, 36.344819974899295, 80.24385299682618, 76.34119803110758, 119.48008569081624, 252.2190461476644, 138.0305954615275, 49.27700284322103, 67.058424949646, 89.8417204538981, 67.79380048116049, 41.35249426392944, 97.23995056546266, 316.5912020602113, 117.68880186475093, 41.28711066785123, 100.30832417024759, 73.69653326309788, 108.84628945798302, 171.02342467372367, 162.58584675338977, 104.25538997683844, 44.05499706483334, 127.14814535411284, 93.74345023154002, 44.64670756444714, 169.27528750726873, 179.56972153272818, 70.11404725601906, 101.30471564596756, 71.48270456634523, 37.25483725269486, 85.92893637806297, 68.7501465617345, 114.87488058876856, 247.6865719239042, 132.08806537279406, 50.893311403425955, 68.89694758972368, 89.04285394694321, 62.96963101259465, 44.458658348752245, 99.21259409592277, 325.6158519571215, 120.50494217925954, 41.840719628669824, 102.24423117266417, 76.78499571260637, 109.97478685872036, 184.25255103216787, 167.55388387135076, 108.8234433698808, 44.19405901319023, 128.741418152309, 96.7818099636889, 44.303799096546506, 167.1606338161045, 182.13705010267117, 68.8792999290704, 102.78091884113684, 72.73358702753832, 37.13634526595088, 84.2847600688911, 71.89423731563922, 116.91601301926464, 250.8892922928804, 134.44644438310095, 50.675258499139964, 69.53224942572369, 90.04031442611719, 65.19735653701885, 46.30423436886018, 99.16716509875756, 330.2789986077139, 124.64456576206115, 41.62040308727038, 103.91304436270386, 81.02381738061706, 109.32516096643117, 198.21544992213407, 172.43814435132833, 114.76423691901694, 44.561337913097034, 127.48017478755729, 98.96468964614986, 43.34138036525381, 162.42755079873783, 184.946749765718, 65.95397332224294, 102.23573147310513, 73.1807881985866, 36.09175458164865, 81.30208038702115, 74.01521710226399, 118.68456495706272, 248.7169981010067, 134.6481772879292, 49.279594549827635, 67.80017639778693, 89.30117327729805, 66.60260195705396]\n"
     ]
    }
   ],
   "source": [
    "trade = data_split(processed_full, '2019-01-01','2021-01-01')\n",
    "e_trade_gym = StockTradingEnv(df = trade, turbulence_threshold = 380, **env_kwargs)\n",
    "# env_trade, obs_trade = e_trade_gym.get_sb_env()"
   ]
  },
  {
   "cell_type": "code",
   "execution_count": 48,
   "metadata": {
    "colab": {
     "base_uri": "https://localhost:8080/",
     "height": 309
    },
    "id": "W_XNgGsBMeVw",
    "outputId": "9bd9af7b-9e2b-4c30-bd3d-b1459d189a41"
   },
   "outputs": [
    {
     "data": {
      "text/html": [
       "<div>\n",
       "<style scoped>\n",
       "    .dataframe tbody tr th:only-of-type {\n",
       "        vertical-align: middle;\n",
       "    }\n",
       "\n",
       "    .dataframe tbody tr th {\n",
       "        vertical-align: top;\n",
       "    }\n",
       "\n",
       "    .dataframe thead th {\n",
       "        text-align: right;\n",
       "    }\n",
       "</style>\n",
       "<table border=\"1\" class=\"dataframe\">\n",
       "  <thead>\n",
       "    <tr style=\"text-align: right;\">\n",
       "      <th></th>\n",
       "      <th>date</th>\n",
       "      <th>tic</th>\n",
       "      <th>open</th>\n",
       "      <th>high</th>\n",
       "      <th>low</th>\n",
       "      <th>close</th>\n",
       "      <th>volume</th>\n",
       "      <th>day</th>\n",
       "      <th>macd</th>\n",
       "      <th>boll_ub</th>\n",
       "      <th>...</th>\n",
       "      <th>rsi_30</th>\n",
       "      <th>cci_30</th>\n",
       "      <th>dx_30</th>\n",
       "      <th>close_30_sma</th>\n",
       "      <th>close_60_sma</th>\n",
       "      <th>close_120_sma</th>\n",
       "      <th>close_30_ema</th>\n",
       "      <th>close_60_ema</th>\n",
       "      <th>close_120_ema</th>\n",
       "      <th>turbulence</th>\n",
       "    </tr>\n",
       "  </thead>\n",
       "  <tbody>\n",
       "    <tr>\n",
       "      <th>0</th>\n",
       "      <td>2019-01-02</td>\n",
       "      <td>AAPL</td>\n",
       "      <td>38.722500</td>\n",
       "      <td>39.712502</td>\n",
       "      <td>38.557499</td>\n",
       "      <td>38.439735</td>\n",
       "      <td>148158800.0</td>\n",
       "      <td>2.0</td>\n",
       "      <td>-2.013469</td>\n",
       "      <td>44.430054</td>\n",
       "      <td>...</td>\n",
       "      <td>37.867359</td>\n",
       "      <td>-91.575723</td>\n",
       "      <td>42.250808</td>\n",
       "      <td>41.155815</td>\n",
       "      <td>46.409359</td>\n",
       "      <td>48.900092</td>\n",
       "      <td>41.352494</td>\n",
       "      <td>44.458658</td>\n",
       "      <td>46.304234</td>\n",
       "      <td>51.409187</td>\n",
       "    </tr>\n",
       "    <tr>\n",
       "      <th>0</th>\n",
       "      <td>2019-01-02</td>\n",
       "      <td>AXP</td>\n",
       "      <td>93.910004</td>\n",
       "      <td>96.269997</td>\n",
       "      <td>93.769997</td>\n",
       "      <td>92.042946</td>\n",
       "      <td>4175400.0</td>\n",
       "      <td>2.0</td>\n",
       "      <td>-3.403805</td>\n",
       "      <td>109.907410</td>\n",
       "      <td>...</td>\n",
       "      <td>41.204998</td>\n",
       "      <td>-97.759092</td>\n",
       "      <td>26.709417</td>\n",
       "      <td>99.719922</td>\n",
       "      <td>100.286694</td>\n",
       "      <td>100.394721</td>\n",
       "      <td>97.239951</td>\n",
       "      <td>99.212594</td>\n",
       "      <td>99.167165</td>\n",
       "      <td>51.409187</td>\n",
       "    </tr>\n",
       "    <tr>\n",
       "      <th>0</th>\n",
       "      <td>2019-01-02</td>\n",
       "      <td>BA</td>\n",
       "      <td>316.190002</td>\n",
       "      <td>323.950012</td>\n",
       "      <td>313.709991</td>\n",
       "      <td>314.645142</td>\n",
       "      <td>3292200.0</td>\n",
       "      <td>2.0</td>\n",
       "      <td>-5.550592</td>\n",
       "      <td>339.116375</td>\n",
       "      <td>...</td>\n",
       "      <td>47.010000</td>\n",
       "      <td>-21.712382</td>\n",
       "      <td>13.611972</td>\n",
       "      <td>314.427160</td>\n",
       "      <td>331.956148</td>\n",
       "      <td>337.512527</td>\n",
       "      <td>316.591202</td>\n",
       "      <td>325.615852</td>\n",
       "      <td>330.278999</td>\n",
       "      <td>51.409187</td>\n",
       "    </tr>\n",
       "    <tr>\n",
       "      <th>0</th>\n",
       "      <td>2019-01-02</td>\n",
       "      <td>CAT</td>\n",
       "      <td>124.029999</td>\n",
       "      <td>127.879997</td>\n",
       "      <td>123.000000</td>\n",
       "      <td>118.137177</td>\n",
       "      <td>4783200.0</td>\n",
       "      <td>2.0</td>\n",
       "      <td>-0.680049</td>\n",
       "      <td>125.145761</td>\n",
       "      <td>...</td>\n",
       "      <td>48.229091</td>\n",
       "      <td>-5.147002</td>\n",
       "      <td>0.873482</td>\n",
       "      <td>117.640500</td>\n",
       "      <td>119.834356</td>\n",
       "      <td>126.242992</td>\n",
       "      <td>117.688802</td>\n",
       "      <td>120.504942</td>\n",
       "      <td>124.644566</td>\n",
       "      <td>51.409187</td>\n",
       "    </tr>\n",
       "    <tr>\n",
       "      <th>0</th>\n",
       "      <td>2019-01-02</td>\n",
       "      <td>CSCO</td>\n",
       "      <td>42.279999</td>\n",
       "      <td>43.200001</td>\n",
       "      <td>42.209999</td>\n",
       "      <td>39.772106</td>\n",
       "      <td>23833500.0</td>\n",
       "      <td>2.0</td>\n",
       "      <td>-0.945558</td>\n",
       "      <td>46.120801</td>\n",
       "      <td>...</td>\n",
       "      <td>44.872560</td>\n",
       "      <td>-87.538213</td>\n",
       "      <td>29.529377</td>\n",
       "      <td>41.863034</td>\n",
       "      <td>42.137596</td>\n",
       "      <td>41.998078</td>\n",
       "      <td>41.287111</td>\n",
       "      <td>41.840720</td>\n",
       "      <td>41.620403</td>\n",
       "      <td>51.409187</td>\n",
       "    </tr>\n",
       "  </tbody>\n",
       "</table>\n",
       "<p>5 rows × 21 columns</p>\n",
       "</div>"
      ],
      "text/plain": [
       "         date   tic        open        high         low       close  \\\n",
       "0  2019-01-02  AAPL   38.722500   39.712502   38.557499   38.439735   \n",
       "0  2019-01-02   AXP   93.910004   96.269997   93.769997   92.042946   \n",
       "0  2019-01-02    BA  316.190002  323.950012  313.709991  314.645142   \n",
       "0  2019-01-02   CAT  124.029999  127.879997  123.000000  118.137177   \n",
       "0  2019-01-02  CSCO   42.279999   43.200001   42.209999   39.772106   \n",
       "\n",
       "        volume  day      macd     boll_ub  ...     rsi_30     cci_30  \\\n",
       "0  148158800.0  2.0 -2.013469   44.430054  ...  37.867359 -91.575723   \n",
       "0    4175400.0  2.0 -3.403805  109.907410  ...  41.204998 -97.759092   \n",
       "0    3292200.0  2.0 -5.550592  339.116375  ...  47.010000 -21.712382   \n",
       "0    4783200.0  2.0 -0.680049  125.145761  ...  48.229091  -5.147002   \n",
       "0   23833500.0  2.0 -0.945558   46.120801  ...  44.872560 -87.538213   \n",
       "\n",
       "       dx_30  close_30_sma  close_60_sma  close_120_sma  close_30_ema  \\\n",
       "0  42.250808     41.155815     46.409359      48.900092     41.352494   \n",
       "0  26.709417     99.719922    100.286694     100.394721     97.239951   \n",
       "0  13.611972    314.427160    331.956148     337.512527    316.591202   \n",
       "0   0.873482    117.640500    119.834356     126.242992    117.688802   \n",
       "0  29.529377     41.863034     42.137596      41.998078     41.287111   \n",
       "\n",
       "   close_60_ema  close_120_ema  turbulence  \n",
       "0     44.458658      46.304234   51.409187  \n",
       "0     99.212594      99.167165   51.409187  \n",
       "0    325.615852     330.278999   51.409187  \n",
       "0    120.504942     124.644566   51.409187  \n",
       "0     41.840720      41.620403   51.409187  \n",
       "\n",
       "[5 rows x 21 columns]"
      ]
     },
     "execution_count": 48,
     "metadata": {},
     "output_type": "execute_result"
    }
   ],
   "source": [
    "trade.head()"
   ]
  },
  {
   "cell_type": "code",
   "execution_count": 49,
   "metadata": {
    "colab": {
     "base_uri": "https://localhost:8080/"
    },
    "id": "eLOnL5eYh1jR",
    "outputId": "f9c2b3bf-cdfb-45f4-dbbf-2451163da1cc"
   },
   "outputs": [
    {
     "name": "stdout",
     "output_type": "stream",
     "text": [
      "[1000000, 38.439735412597656, 92.0429458618164, 314.6451416015625, 118.13717651367188, 39.7721061706543, 99.26136779785156, 74.09832763671875, 107.65434265136719, 163.94699096679688, 162.94903564453125, 101.94241333007812, 44.27648162841797, 120.20957946777344, 91.72384643554688, 43.620418548583984, 166.7007598876953, 176.6388397216797, 70.6997299194336, 98.37548065185547, 72.4448013305664, 37.23637771606445, 85.57616424560547, 64.40036010742188, 111.04877471923828, 234.7300567626953, 130.8709716796875, 50.405242919921875, 62.57354736328125, 89.26032257080078, 59.68837356567383, 0, 0, 0, 0, 0, 0, 0, 0, 0, 0, 0, 0, 0, 0, 0, 0, 0, 0, 0, 0, 0, 0, 0, 0, 0, 0, 0, 0, 0, 0, -2.01346910769135, -3.403804612767189, -5.5505923876932, -0.6800493576991471, -0.9455581149819992, -1.91175117903758, -1.2729275169320005, -1.651912931269365, -8.096245348729553, -1.7997391293691862, -2.2648934134193013, -0.2572228966760548, -4.013110074480451, -2.5660852949502413, -0.4048977948138841, -1.5590910367507433, -2.774189923635788, 0.003932935425268624, -1.9043699674799228, -0.30397542886021256, -0.26204783597102477, -0.17511634955393163, -2.970334503121208, -2.094982133142736, -6.5089857720333555, -2.1081863336865183, -0.6448272151559422, -3.297879502094915, -1.199409620099999, -2.3416385499996792, 44.43005367394104, 109.90741049688123, 339.1163745658215, 125.14576140331492, 46.12080095288543, 109.04153751776946, 78.44694798723769, 115.41276062735767, 181.0994720499936, 171.2530411663419, 112.02045387358139, 46.80774990304466, 144.93687028397983, 100.71280492636237, 46.99985698701848, 179.5673010786956, 193.11213727397168, 74.48104669240412, 110.23070023308297, 76.19676921418744, 39.64379742495154, 90.57959317550998, 75.78306768498263, 120.97735322705964, 277.8498133800429, 142.50990651167993, 53.513176120538375, 82.00293586145752, 93.59010884306092, 70.59007696485179, 35.38448451880799, 84.17448494989611, 287.2520153267566, 109.01506089282766, 36.852422542597964, 90.94739604546297, 66.53136164410996, 101.24348098030833, 147.18910064287746, 151.17263022037687, 95.18781181245377, 41.475301397004166, 109.86415129194789, 83.6834650626513, 42.7989078140069, 161.00751886759343, 165.86482348042287, 67.10789144846503, 92.57146270026665, 66.10158665129109, 35.06830165036584, 82.8180699409451, 59.56235238948026, 106.76422849901459, 219.17264297982038, 120.86944758377908, 47.994642482977255, 56.56473496068604, 82.40821497896057, 54.558507019523205, 37.86735914598463, 41.20499819277922, 47.00999953113829, 48.229090830266784, 44.8725598631141, 46.46915125327022, 46.380824293213315, 47.045441735448065, 38.9165236036083, 46.55999047129957, 42.655674268205175, 50.19544838339111, 40.13626058186111, 43.02885164897344, 46.8119066870673, 49.4275651587938, 46.25146147977327, 53.95673899366663, 45.76923473359724, 49.670242678815946, 50.33355435295983, 52.408677790370156, 36.800152361330525, 42.52266853921618, 42.35096165693539, 47.27851681528227, 49.10141141327524, 37.96652519839796, 48.66448599144904, 39.55687993301925, -91.57572274553536, -97.75909207689975, -21.712381855099203, -5.147001772115913, -87.53821297855757, -58.787287961289415, -24.819879473819313, -60.257985707732395, -62.14529319762999, 0.5393039059969074, -75.90928425841172, -37.56804117708566, -90.88721354561643, -61.18134748425406, -133.8170755362403, -103.80853487615317, -83.30233417884862, -21.373589539398218, -81.40820271803672, 33.09297468852238, -33.68006504960127, -90.77866678194574, -109.4285997861159, -88.6434799438204, -102.30154075497877, -46.73703307057854, -65.9950749669937, -117.34701116181334, -13.79725393852279, -99.49280350374684, 42.250808130450245, 26.709416907858223, 13.611971735226405, 0.8734820911322487, 29.529376708333828, 12.402189501116395, 6.143790897057993, 13.997383580478873, 15.405786122881205, 2.3417145518652855, 19.746436149091654, 9.423171192104842, 41.06731684022472, 16.14741791946928, 18.244360423779344, 24.257938347578236, 19.1624270474599, 8.82054690360689, 21.611851783432602, 14.156233083111273, 12.488069072861324, 15.123752864499727, 44.007800886874904, 41.41754582375914, 29.77892653768423, 11.039624603798941, 14.948583054220851, 59.94325356869549, 5.448461840985518, 32.33472560981127, 41.15581487019857, 99.71992212931315, 314.4271596272786, 117.64050013224283, 41.86303393046061, 101.69216537475586, 74.18816808064778, 109.5768674214681, 171.0250249226888, 161.88669128417968, 104.55681025187174, 44.44921048482259, 130.21296513875325, 95.16893107096354, 45.177452850341794, 171.80565745035807, 182.0623779296875, 70.8158696492513, 102.18942362467448, 71.20994237263997, 37.57473233540853, 86.7733642578125, 69.99441350301107, 116.4632344563802, 252.28478088378907, 132.7440071105957, 51.76300366719564, 71.45468864440917, 89.11690928141276, 63.963080088297524, 46.40935916900635, 100.2866938273112, 331.9561482747396, 119.83435605367025, 42.13759568532308, 102.77657000223796, 75.98622563680013, 111.42050666809082, 189.6705113728841, 167.20605595906576, 108.74119186401367, 43.872933578491214, 130.5761745452881, 97.80876604715984, 44.3609265645345, 167.97273737589518, 181.87067133585612, 68.99144369761149, 103.41307703653972, 72.52934214274089, 37.50435307820638, 84.1235424041748, 73.12148742675781, 117.48187103271485, 253.43850021362306, 135.05547828674315, 51.16697731018066, 71.27968069712321, 91.68556238810221, 66.34995969136556, 48.90009202957153, 100.39472052256266, 337.5125274658203, 126.24299170176188, 41.99807783762614, 104.96176516215006, 83.68648211161296, 110.76800969441732, 205.3172331492106, 178.3116830190023, 118.37777900695801, 44.4822393099467, 127.84052098592123, 101.4393995920817, 43.195873800913496, 159.3795934041341, 185.94818458557128, 65.76998805999756, 104.76230462392171, 75.62776489257813, 36.344819974899295, 80.24385299682618, 76.34119803110758, 119.48008569081624, 252.2190461476644, 138.0305954615275, 49.27700284322103, 67.058424949646, 89.8417204538981, 67.79380048116049, 41.35249426392944, 97.23995056546266, 316.5912020602113, 117.68880186475093, 41.28711066785123, 100.30832417024759, 73.69653326309788, 108.84628945798302, 171.02342467372367, 162.58584675338977, 104.25538997683844, 44.05499706483334, 127.14814535411284, 93.74345023154002, 44.64670756444714, 169.27528750726873, 179.56972153272818, 70.11404725601906, 101.30471564596756, 71.48270456634523, 37.25483725269486, 85.92893637806297, 68.7501465617345, 114.87488058876856, 247.6865719239042, 132.08806537279406, 50.893311403425955, 68.89694758972368, 89.04285394694321, 62.96963101259465, 44.458658348752245, 99.21259409592277, 325.6158519571215, 120.50494217925954, 41.840719628669824, 102.24423117266417, 76.78499571260637, 109.97478685872036, 184.25255103216787, 167.55388387135076, 108.8234433698808, 44.19405901319023, 128.741418152309, 96.7818099636889, 44.303799096546506, 167.1606338161045, 182.13705010267117, 68.8792999290704, 102.78091884113684, 72.73358702753832, 37.13634526595088, 84.2847600688911, 71.89423731563922, 116.91601301926464, 250.8892922928804, 134.44644438310095, 50.675258499139964, 69.53224942572369, 90.04031442611719, 65.19735653701885, 46.30423436886018, 99.16716509875756, 330.2789986077139, 124.64456576206115, 41.62040308727038, 103.91304436270386, 81.02381738061706, 109.32516096643117, 198.21544992213407, 172.43814435132833, 114.76423691901694, 44.561337913097034, 127.48017478755729, 98.96468964614986, 43.34138036525381, 162.42755079873783, 184.946749765718, 65.95397332224294, 102.23573147310513, 73.1807881985866, 36.09175458164865, 81.30208038702115, 74.01521710226399, 118.68456495706272, 248.7169981010067, 134.6481772879292, 49.279594549827635, 67.80017639778693, 89.30117327729805, 66.60260195705396]\n",
      "[1000000, 38.439735412597656, 92.0429458618164, 314.6451416015625, 118.13717651367188, 39.7721061706543, 99.26136779785156, 74.09832763671875, 107.65434265136719, 163.94699096679688, 162.94903564453125, 101.94241333007812, 44.27648162841797, 120.20957946777344, 91.72384643554688, 43.620418548583984, 166.7007598876953, 176.6388397216797, 70.6997299194336, 98.37548065185547, 72.4448013305664, 37.23637771606445, 85.57616424560547, 64.40036010742188, 111.04877471923828, 234.7300567626953, 130.8709716796875, 50.405242919921875, 62.57354736328125, 89.26032257080078, 59.68837356567383, 0, 0, 0, 0, 0, 0, 0, 0, 0, 0, 0, 0, 0, 0, 0, 0, 0, 0, 0, 0, 0, 0, 0, 0, 0, 0, 0, 0, 0, 0, -2.01346910769135, -3.403804612767189, -5.5505923876932, -0.6800493576991471, -0.9455581149819992, -1.91175117903758, -1.2729275169320005, -1.651912931269365, -8.096245348729553, -1.7997391293691862, -2.2648934134193013, -0.2572228966760548, -4.013110074480451, -2.5660852949502413, -0.4048977948138841, -1.5590910367507433, -2.774189923635788, 0.003932935425268624, -1.9043699674799228, -0.30397542886021256, -0.26204783597102477, -0.17511634955393163, -2.970334503121208, -2.094982133142736, -6.5089857720333555, -2.1081863336865183, -0.6448272151559422, -3.297879502094915, -1.199409620099999, -2.3416385499996792, 44.43005367394104, 109.90741049688123, 339.1163745658215, 125.14576140331492, 46.12080095288543, 109.04153751776946, 78.44694798723769, 115.41276062735767, 181.0994720499936, 171.2530411663419, 112.02045387358139, 46.80774990304466, 144.93687028397983, 100.71280492636237, 46.99985698701848, 179.5673010786956, 193.11213727397168, 74.48104669240412, 110.23070023308297, 76.19676921418744, 39.64379742495154, 90.57959317550998, 75.78306768498263, 120.97735322705964, 277.8498133800429, 142.50990651167993, 53.513176120538375, 82.00293586145752, 93.59010884306092, 70.59007696485179, 35.38448451880799, 84.17448494989611, 287.2520153267566, 109.01506089282766, 36.852422542597964, 90.94739604546297, 66.53136164410996, 101.24348098030833, 147.18910064287746, 151.17263022037687, 95.18781181245377, 41.475301397004166, 109.86415129194789, 83.6834650626513, 42.7989078140069, 161.00751886759343, 165.86482348042287, 67.10789144846503, 92.57146270026665, 66.10158665129109, 35.06830165036584, 82.8180699409451, 59.56235238948026, 106.76422849901459, 219.17264297982038, 120.86944758377908, 47.994642482977255, 56.56473496068604, 82.40821497896057, 54.558507019523205, 37.86735914598463, 41.20499819277922, 47.00999953113829, 48.229090830266784, 44.8725598631141, 46.46915125327022, 46.380824293213315, 47.045441735448065, 38.9165236036083, 46.55999047129957, 42.655674268205175, 50.19544838339111, 40.13626058186111, 43.02885164897344, 46.8119066870673, 49.4275651587938, 46.25146147977327, 53.95673899366663, 45.76923473359724, 49.670242678815946, 50.33355435295983, 52.408677790370156, 36.800152361330525, 42.52266853921618, 42.35096165693539, 47.27851681528227, 49.10141141327524, 37.96652519839796, 48.66448599144904, 39.55687993301925, -91.57572274553536, -97.75909207689975, -21.712381855099203, -5.147001772115913, -87.53821297855757, -58.787287961289415, -24.819879473819313, -60.257985707732395, -62.14529319762999, 0.5393039059969074, -75.90928425841172, -37.56804117708566, -90.88721354561643, -61.18134748425406, -133.8170755362403, -103.80853487615317, -83.30233417884862, -21.373589539398218, -81.40820271803672, 33.09297468852238, -33.68006504960127, -90.77866678194574, -109.4285997861159, -88.6434799438204, -102.30154075497877, -46.73703307057854, -65.9950749669937, -117.34701116181334, -13.79725393852279, -99.49280350374684, 42.250808130450245, 26.709416907858223, 13.611971735226405, 0.8734820911322487, 29.529376708333828, 12.402189501116395, 6.143790897057993, 13.997383580478873, 15.405786122881205, 2.3417145518652855, 19.746436149091654, 9.423171192104842, 41.06731684022472, 16.14741791946928, 18.244360423779344, 24.257938347578236, 19.1624270474599, 8.82054690360689, 21.611851783432602, 14.156233083111273, 12.488069072861324, 15.123752864499727, 44.007800886874904, 41.41754582375914, 29.77892653768423, 11.039624603798941, 14.948583054220851, 59.94325356869549, 5.448461840985518, 32.33472560981127, 41.15581487019857, 99.71992212931315, 314.4271596272786, 117.64050013224283, 41.86303393046061, 101.69216537475586, 74.18816808064778, 109.5768674214681, 171.0250249226888, 161.88669128417968, 104.55681025187174, 44.44921048482259, 130.21296513875325, 95.16893107096354, 45.177452850341794, 171.80565745035807, 182.0623779296875, 70.8158696492513, 102.18942362467448, 71.20994237263997, 37.57473233540853, 86.7733642578125, 69.99441350301107, 116.4632344563802, 252.28478088378907, 132.7440071105957, 51.76300366719564, 71.45468864440917, 89.11690928141276, 63.963080088297524, 46.40935916900635, 100.2866938273112, 331.9561482747396, 119.83435605367025, 42.13759568532308, 102.77657000223796, 75.98622563680013, 111.42050666809082, 189.6705113728841, 167.20605595906576, 108.74119186401367, 43.872933578491214, 130.5761745452881, 97.80876604715984, 44.3609265645345, 167.97273737589518, 181.87067133585612, 68.99144369761149, 103.41307703653972, 72.52934214274089, 37.50435307820638, 84.1235424041748, 73.12148742675781, 117.48187103271485, 253.43850021362306, 135.05547828674315, 51.16697731018066, 71.27968069712321, 91.68556238810221, 66.34995969136556, 48.90009202957153, 100.39472052256266, 337.5125274658203, 126.24299170176188, 41.99807783762614, 104.96176516215006, 83.68648211161296, 110.76800969441732, 205.3172331492106, 178.3116830190023, 118.37777900695801, 44.4822393099467, 127.84052098592123, 101.4393995920817, 43.195873800913496, 159.3795934041341, 185.94818458557128, 65.76998805999756, 104.76230462392171, 75.62776489257813, 36.344819974899295, 80.24385299682618, 76.34119803110758, 119.48008569081624, 252.2190461476644, 138.0305954615275, 49.27700284322103, 67.058424949646, 89.8417204538981, 67.79380048116049, 41.35249426392944, 97.23995056546266, 316.5912020602113, 117.68880186475093, 41.28711066785123, 100.30832417024759, 73.69653326309788, 108.84628945798302, 171.02342467372367, 162.58584675338977, 104.25538997683844, 44.05499706483334, 127.14814535411284, 93.74345023154002, 44.64670756444714, 169.27528750726873, 179.56972153272818, 70.11404725601906, 101.30471564596756, 71.48270456634523, 37.25483725269486, 85.92893637806297, 68.7501465617345, 114.87488058876856, 247.6865719239042, 132.08806537279406, 50.893311403425955, 68.89694758972368, 89.04285394694321, 62.96963101259465, 44.458658348752245, 99.21259409592277, 325.6158519571215, 120.50494217925954, 41.840719628669824, 102.24423117266417, 76.78499571260637, 109.97478685872036, 184.25255103216787, 167.55388387135076, 108.8234433698808, 44.19405901319023, 128.741418152309, 96.7818099636889, 44.303799096546506, 167.1606338161045, 182.13705010267117, 68.8792999290704, 102.78091884113684, 72.73358702753832, 37.13634526595088, 84.2847600688911, 71.89423731563922, 116.91601301926464, 250.8892922928804, 134.44644438310095, 50.675258499139964, 69.53224942572369, 90.04031442611719, 65.19735653701885, 46.30423436886018, 99.16716509875756, 330.2789986077139, 124.64456576206115, 41.62040308727038, 103.91304436270386, 81.02381738061706, 109.32516096643117, 198.21544992213407, 172.43814435132833, 114.76423691901694, 44.561337913097034, 127.48017478755729, 98.96468964614986, 43.34138036525381, 162.42755079873783, 184.946749765718, 65.95397332224294, 102.23573147310513, 73.1807881985866, 36.09175458164865, 81.30208038702115, 74.01521710226399, 118.68456495706272, 248.7169981010067, 134.6481772879292, 49.279594549827635, 67.80017639778693, 89.30117327729805, 66.60260195705396]\n"
     ]
    },
    {
     "name": "stdout",
     "output_type": "stream",
     "text": [
      "[1000000, 132.26734924316406, 120.12644958496094, 214.05999755859375, 180.24192810058594, 44.07402801513672, 83.27289581298828, 70.80415344238281, 181.17999267578125, 262.6781921386719, 263.96588134765625, 122.84745788574219, 49.21628952026367, 156.4047088623047, 125.42272186279297, 54.38731384277344, 213.26780700683594, 173.3614044189453, 81.08755493164062, 221.90890502929688, 141.18296813964844, 36.05856704711914, 137.426513671875, 71.07267761230469, 139.6039276123047, 349.43853759765625, 218.07418823242188, 57.509002685546875, 39.50341033935547, 142.9890899658203, 39.9496955871582, 0, 0, 0, 0, 0, 0, 0, 0, 0, 0, 0, 0, 0, 0, 0, 0, 0, 0, 0, 0, 0, 0, 0, 0, 0, 0, 0, 0, 0, 0, 3.8535854042010413, 1.053287663230492, 2.7831664269158125, 1.966865798358782, 0.7341816780368688, -0.13418687362631943, 1.8908233196613082, 8.849684867275954, 9.300764588233164, -1.1098969575164688, 0.9907869217878016, 0.028844635174799294, 2.211265218575562, 2.755051524216597, 0.5908858835766395, -0.2915981586465648, 1.057941676886827, 0.1691308307730992, 2.5596409289634323, 2.422345026638311, -0.2622567906135984, -0.16889812725571574, 0.5877204185187423, 2.1992158617473194, 2.021413399247706, 2.242560614981585, -0.4053104425782337, 0.00893728793948867, -0.8501919545908834, 0.7209080106379417, 136.90610810832, 124.46834576220729, 241.53202460126184, 181.1466976374478, 44.513597451956386, 93.10677763875249, 72.07198910564827, 188.89366332416975, 264.48389421256707, 272.0857295380684, 124.07885253308368, 52.267270688759986, 155.92849705553505, 125.52355236565856, 54.1806011388681, 215.0710705200967, 175.81084107742674, 82.37185170564379, 226.85886025590457, 143.9829864099368, 41.95876370362036, 137.74568204152422, 74.18390190921127, 140.2429406891785, 351.262515466175, 217.36211449476014, 60.92701684493164, 42.95340549706468, 148.20811343672239, 42.893084834236966, 117.73918989583038, 113.32359912304662, 208.91297356768345, 173.73444555102878, 43.31534770795572, 80.98042252604243, 63.835936309390796, 148.04133576030293, 228.633145277179, 259.29244123829875, 119.71110260607648, 45.08852192903786, 146.82759883069542, 115.70518985235901, 51.8736656000235, 205.71987644035252, 169.57797728194828, 77.90170252409254, 208.499431370072, 134.8695862218991, 34.12176646300561, 133.6869916034953, 68.05089347042741, 131.9856283415832, 331.09329813245785, 202.26495764879456, 56.56559217911621, 38.08801677466384, 141.32327084062138, 38.82836711583628, 60.05102138548685, 57.946587718435296, 55.189807850911436, 59.19009702859244, 60.12248346825681, 50.72978517367377, 63.42775125499256, 70.63527650700411, 67.5396639084113, 46.28896603511306, 55.29876653280804, 52.39769541073382, 61.4764003570358, 63.03370520228559, 60.793424757817384, 51.177319682090776, 55.439896734379346, 54.3163794713751, 55.254561129343834, 61.68502489749481, 49.203584777438564, 51.99042933255606, 56.76775354081255, 61.254180067925994, 57.80567190514476, 59.43699320068481, 46.77078899702114, 51.53187759299077, 49.32196576327904, 54.29960179988638, 109.88845782142467, 38.862625283059664, -57.736644953011556, 97.96894872512935, 52.06110774325835, -103.91446694095823, 118.81515583560201, 109.0719080979707, 151.68002800049408, -88.0920400067699, 59.217369907874755, 40.069714602828434, 147.7510670171751, 158.36769886528097, 204.69647189005872, 5.946989804510444, 16.127530746799824, 40.49315279020816, 90.089986473037, 78.8835611325616, -68.71383803171132, 46.486740332714426, -18.0009842193849, 136.1060449918284, 104.6374961507553, 232.3750980413181, -155.67878319218306, -22.893981672808522, -105.74810633891761, 6.692482620259776, 30.069064309651157, 8.05161269274836, 5.306017531378637, 22.924336834833113, 26.46623448619328, 4.107920321450552, 47.31391193012619, 67.32278271107836, 65.99395049699574, 21.075396353473984, 15.707053956304911, 23.216646540239598, 41.33097934840272, 53.03167333937529, 19.88855790459253, 7.1601216162227646, 7.37760716586608, 5.978845357040646, 13.176882247580105, 31.671306358667632, 11.556410052314362, 5.3919964984300055, 3.509523109926475, 22.53598029400413, 20.137051602981323, 29.424278822537133, 18.422304630465856, 0.4033156028958489, 14.356118427540126, 11.729468761312646, 124.10642649332682, 118.32453257242838, 220.82466634114584, 175.72648010253906, 43.17514533996582, 87.29537429809571, 66.37090810139973, 161.3596664428711, 240.76625111897786, 267.12884521484375, 120.79577840169271, 47.97650032043457, 149.06903381347655, 119.54491678873698, 52.634630584716795, 211.64327748616537, 172.4823221842448, 79.82229029337564, 216.04308217366537, 137.4659444173177, 37.59226760864258, 136.223513285319, 71.26449279785156, 134.93172607421874, 339.43311971028646, 209.35807189941406, 58.89770431518555, 39.709114456176756, 146.35939025878906, 39.85471458435059, 120.18479029337566, 110.59710350036622, 193.928667195638, 168.9931376139323, 40.643966865539554, 79.93575032552083, 62.604309209187825, 144.93366661071778, 222.49031143188478, 271.935297648112, 117.3110284169515, 47.94020118713379, 146.14378331502277, 111.23341242472331, 51.20063616434733, 214.95304743448892, 168.22583414713543, 78.92227783203126, 214.66939290364584, 132.3966910044352, 35.948058700561525, 137.94158198038738, 65.61169230143229, 128.3637976328532, 334.5777806599935, 204.05946350097656, 58.124587821960446, 38.324075063069664, 144.39113082885743, 36.29942928949992, 115.55618260701497, 104.40834630330404, 181.45383389790854, 154.7544760386149, 41.27385896046956, 80.03048814137777, 59.124896335601804, 135.5304999669393, 211.67606404622396, 271.12145970662436, 117.90525391896566, 48.94866008758545, 146.18018213907877, 103.91895160675048, 49.37024688720703, 210.47148679097492, 163.2827247619629, 79.84662418365478, 211.70572039286296, 120.8854866027832, 35.09482873280843, 135.02358938852947, 62.69777739842733, 120.50757815043131, 320.2513626098633, 201.877693939209, 57.45978628794352, 37.97004146575928, 138.85514812469484, 36.970858271916704, 125.79051445445621, 116.314831589539, 214.25512558308168, 174.6799092465524, 42.93700815383495, 84.76654079715655, 66.5973577359089, 163.0560634686045, 241.13747414803646, 267.77232033776414, 120.2924810167495, 47.90976873710202, 149.92221294695537, 118.56670269367162, 52.57708067756838, 211.88509311631648, 171.56560908554235, 79.72416568617429, 217.46484340817608, 137.3618946301451, 36.96206500968135, 136.47747551840794, 69.53423769057248, 134.4438449012027, 339.34321475274584, 208.93017954691732, 58.40171860054498, 39.52611944261335, 144.68376309340536, 39.43124789210032, 121.31317576277449, 112.25375789950208, 201.86979874826187, 168.34463343280515, 41.83981858558249, 82.59804775021183, 63.63249453972509, 151.4175295655421, 228.6850028742522, 268.9837133582607, 118.77899685902706, 48.178527992560994, 147.79199691842098, 113.21746906344158, 51.46593348343168, 212.1304921305082, 168.67678322603382, 79.56519208294014, 214.71546295790054, 132.21514601469673, 36.27756294832886, 136.31640008870397, 67.0948063815215, 129.47315939171003, 333.3284475157776, 205.9192712920545, 58.18246716651773, 38.891302159219435, 143.32537664519057, 38.03847356783377, 113.49017837213309, 107.49968628452427, 193.321598659179, 157.34079617631198, 41.52228846087897, 81.97751770408627, 60.02125352169969, 140.35521078254106, 216.85032853996861, 264.6595305959127, 117.99979197304249, 49.49964036533751, 145.8482100946498, 107.71822800115463, 50.05351786258824, 208.51941356783482, 164.24577582149522, 79.34724108989161, 208.64844380586314, 123.27125149816587, 35.269225351402575, 133.40960667065335, 65.30071887301489, 123.55465883097489, 321.5616739669943, 201.48924246677794, 57.39898013840598, 39.013374256049346, 138.7516491345826, 38.2190465527487]\n",
      "hit end!\n"
     ]
    }
   ],
   "source": [
    "df_account_value, df_actions = DRLAgent.DRL_prediction(\n",
    "    model=trained_sac, \n",
    "    environment = e_trade_gym)"
   ]
  },
  {
   "cell_type": "code",
   "execution_count": 50,
   "metadata": {
    "colab": {
     "base_uri": "https://localhost:8080/"
    },
    "id": "ERxw3KqLkcP4",
    "outputId": "cc31064c-cfa2-4bcc-ab3e-f7028744e506"
   },
   "outputs": [
    {
     "data": {
      "text/plain": [
       "(505, 2)"
      ]
     },
     "execution_count": 50,
     "metadata": {},
     "output_type": "execute_result"
    }
   ],
   "source": [
    "df_account_value.shape"
   ]
  },
  {
   "cell_type": "code",
   "execution_count": 51,
   "metadata": {
    "colab": {
     "base_uri": "https://localhost:8080/",
     "height": 204
    },
    "id": "2yRkNguY5yvp",
    "outputId": "a691cfc6-75c5-4c25-9f0e-0c7ba8274e66"
   },
   "outputs": [
    {
     "data": {
      "text/html": [
       "<div>\n",
       "<style scoped>\n",
       "    .dataframe tbody tr th:only-of-type {\n",
       "        vertical-align: middle;\n",
       "    }\n",
       "\n",
       "    .dataframe tbody tr th {\n",
       "        vertical-align: top;\n",
       "    }\n",
       "\n",
       "    .dataframe thead th {\n",
       "        text-align: right;\n",
       "    }\n",
       "</style>\n",
       "<table border=\"1\" class=\"dataframe\">\n",
       "  <thead>\n",
       "    <tr style=\"text-align: right;\">\n",
       "      <th></th>\n",
       "      <th>date</th>\n",
       "      <th>account_value</th>\n",
       "    </tr>\n",
       "  </thead>\n",
       "  <tbody>\n",
       "    <tr>\n",
       "      <th>500</th>\n",
       "      <td>2020-12-24</td>\n",
       "      <td>1.225527e+06</td>\n",
       "    </tr>\n",
       "    <tr>\n",
       "      <th>501</th>\n",
       "      <td>2020-12-28</td>\n",
       "      <td>1.238559e+06</td>\n",
       "    </tr>\n",
       "    <tr>\n",
       "      <th>502</th>\n",
       "      <td>2020-12-29</td>\n",
       "      <td>1.237790e+06</td>\n",
       "    </tr>\n",
       "    <tr>\n",
       "      <th>503</th>\n",
       "      <td>2020-12-30</td>\n",
       "      <td>1.249383e+06</td>\n",
       "    </tr>\n",
       "    <tr>\n",
       "      <th>504</th>\n",
       "      <td>2020-12-31</td>\n",
       "      <td>1.254300e+06</td>\n",
       "    </tr>\n",
       "  </tbody>\n",
       "</table>\n",
       "</div>"
      ],
      "text/plain": [
       "           date  account_value\n",
       "500  2020-12-24   1.225527e+06\n",
       "501  2020-12-28   1.238559e+06\n",
       "502  2020-12-29   1.237790e+06\n",
       "503  2020-12-30   1.249383e+06\n",
       "504  2020-12-31   1.254300e+06"
      ]
     },
     "execution_count": 51,
     "metadata": {},
     "output_type": "execute_result"
    }
   ],
   "source": [
    "df_account_value.tail()"
   ]
  },
  {
   "cell_type": "code",
   "execution_count": 52,
   "metadata": {
    "colab": {
     "base_uri": "https://localhost:8080/",
     "height": 235
    },
    "id": "nFlK5hNbWVFk",
    "outputId": "cced6c73-9f91-4838-eb7d-99c9c2b8d48c"
   },
   "outputs": [
    {
     "data": {
      "text/html": [
       "<div>\n",
       "<style scoped>\n",
       "    .dataframe tbody tr th:only-of-type {\n",
       "        vertical-align: middle;\n",
       "    }\n",
       "\n",
       "    .dataframe tbody tr th {\n",
       "        vertical-align: top;\n",
       "    }\n",
       "\n",
       "    .dataframe thead th {\n",
       "        text-align: right;\n",
       "    }\n",
       "</style>\n",
       "<table border=\"1\" class=\"dataframe\">\n",
       "  <thead>\n",
       "    <tr style=\"text-align: right;\">\n",
       "      <th></th>\n",
       "      <th>AAPL</th>\n",
       "      <th>AXP</th>\n",
       "      <th>BA</th>\n",
       "      <th>CAT</th>\n",
       "      <th>CSCO</th>\n",
       "      <th>CVX</th>\n",
       "      <th>DD</th>\n",
       "      <th>DIS</th>\n",
       "      <th>GS</th>\n",
       "      <th>HD</th>\n",
       "      <th>...</th>\n",
       "      <th>PFE</th>\n",
       "      <th>PG</th>\n",
       "      <th>RTX</th>\n",
       "      <th>TRV</th>\n",
       "      <th>UNH</th>\n",
       "      <th>V</th>\n",
       "      <th>VZ</th>\n",
       "      <th>WBA</th>\n",
       "      <th>WMT</th>\n",
       "      <th>XOM</th>\n",
       "    </tr>\n",
       "    <tr>\n",
       "      <th>date</th>\n",
       "      <th></th>\n",
       "      <th></th>\n",
       "      <th></th>\n",
       "      <th></th>\n",
       "      <th></th>\n",
       "      <th></th>\n",
       "      <th></th>\n",
       "      <th></th>\n",
       "      <th></th>\n",
       "      <th></th>\n",
       "      <th></th>\n",
       "      <th></th>\n",
       "      <th></th>\n",
       "      <th></th>\n",
       "      <th></th>\n",
       "      <th></th>\n",
       "      <th></th>\n",
       "      <th></th>\n",
       "      <th></th>\n",
       "      <th></th>\n",
       "      <th></th>\n",
       "    </tr>\n",
       "  </thead>\n",
       "  <tbody>\n",
       "    <tr>\n",
       "      <th>2019-01-02</th>\n",
       "      <td>0</td>\n",
       "      <td>0</td>\n",
       "      <td>100</td>\n",
       "      <td>0</td>\n",
       "      <td>100</td>\n",
       "      <td>100</td>\n",
       "      <td>100</td>\n",
       "      <td>0</td>\n",
       "      <td>100</td>\n",
       "      <td>0</td>\n",
       "      <td>...</td>\n",
       "      <td>0</td>\n",
       "      <td>100</td>\n",
       "      <td>0</td>\n",
       "      <td>100</td>\n",
       "      <td>0</td>\n",
       "      <td>0</td>\n",
       "      <td>0</td>\n",
       "      <td>100</td>\n",
       "      <td>100</td>\n",
       "      <td>0</td>\n",
       "    </tr>\n",
       "    <tr>\n",
       "      <th>2019-01-03</th>\n",
       "      <td>0</td>\n",
       "      <td>0</td>\n",
       "      <td>100</td>\n",
       "      <td>0</td>\n",
       "      <td>100</td>\n",
       "      <td>100</td>\n",
       "      <td>100</td>\n",
       "      <td>0</td>\n",
       "      <td>100</td>\n",
       "      <td>0</td>\n",
       "      <td>...</td>\n",
       "      <td>0</td>\n",
       "      <td>100</td>\n",
       "      <td>0</td>\n",
       "      <td>100</td>\n",
       "      <td>0</td>\n",
       "      <td>0</td>\n",
       "      <td>0</td>\n",
       "      <td>100</td>\n",
       "      <td>100</td>\n",
       "      <td>0</td>\n",
       "    </tr>\n",
       "    <tr>\n",
       "      <th>2019-01-04</th>\n",
       "      <td>0</td>\n",
       "      <td>0</td>\n",
       "      <td>100</td>\n",
       "      <td>0</td>\n",
       "      <td>100</td>\n",
       "      <td>100</td>\n",
       "      <td>100</td>\n",
       "      <td>0</td>\n",
       "      <td>100</td>\n",
       "      <td>0</td>\n",
       "      <td>...</td>\n",
       "      <td>0</td>\n",
       "      <td>100</td>\n",
       "      <td>0</td>\n",
       "      <td>100</td>\n",
       "      <td>0</td>\n",
       "      <td>0</td>\n",
       "      <td>0</td>\n",
       "      <td>100</td>\n",
       "      <td>100</td>\n",
       "      <td>0</td>\n",
       "    </tr>\n",
       "    <tr>\n",
       "      <th>2019-01-07</th>\n",
       "      <td>0</td>\n",
       "      <td>0</td>\n",
       "      <td>100</td>\n",
       "      <td>0</td>\n",
       "      <td>100</td>\n",
       "      <td>100</td>\n",
       "      <td>100</td>\n",
       "      <td>0</td>\n",
       "      <td>100</td>\n",
       "      <td>0</td>\n",
       "      <td>...</td>\n",
       "      <td>0</td>\n",
       "      <td>100</td>\n",
       "      <td>0</td>\n",
       "      <td>100</td>\n",
       "      <td>0</td>\n",
       "      <td>0</td>\n",
       "      <td>0</td>\n",
       "      <td>100</td>\n",
       "      <td>100</td>\n",
       "      <td>0</td>\n",
       "    </tr>\n",
       "    <tr>\n",
       "      <th>2019-01-08</th>\n",
       "      <td>0</td>\n",
       "      <td>0</td>\n",
       "      <td>100</td>\n",
       "      <td>0</td>\n",
       "      <td>100</td>\n",
       "      <td>100</td>\n",
       "      <td>100</td>\n",
       "      <td>0</td>\n",
       "      <td>100</td>\n",
       "      <td>0</td>\n",
       "      <td>...</td>\n",
       "      <td>0</td>\n",
       "      <td>100</td>\n",
       "      <td>0</td>\n",
       "      <td>100</td>\n",
       "      <td>0</td>\n",
       "      <td>0</td>\n",
       "      <td>0</td>\n",
       "      <td>100</td>\n",
       "      <td>100</td>\n",
       "      <td>0</td>\n",
       "    </tr>\n",
       "  </tbody>\n",
       "</table>\n",
       "<p>5 rows × 30 columns</p>\n",
       "</div>"
      ],
      "text/plain": [
       "            AAPL  AXP   BA  CAT  CSCO  CVX   DD  DIS   GS  HD  ...  PFE   PG  \\\n",
       "date                                                           ...             \n",
       "2019-01-02     0    0  100    0   100  100  100    0  100   0  ...    0  100   \n",
       "2019-01-03     0    0  100    0   100  100  100    0  100   0  ...    0  100   \n",
       "2019-01-04     0    0  100    0   100  100  100    0  100   0  ...    0  100   \n",
       "2019-01-07     0    0  100    0   100  100  100    0  100   0  ...    0  100   \n",
       "2019-01-08     0    0  100    0   100  100  100    0  100   0  ...    0  100   \n",
       "\n",
       "            RTX  TRV  UNH  V  VZ  WBA  WMT  XOM  \n",
       "date                                             \n",
       "2019-01-02    0  100    0  0   0  100  100    0  \n",
       "2019-01-03    0  100    0  0   0  100  100    0  \n",
       "2019-01-04    0  100    0  0   0  100  100    0  \n",
       "2019-01-07    0  100    0  0   0  100  100    0  \n",
       "2019-01-08    0  100    0  0   0  100  100    0  \n",
       "\n",
       "[5 rows x 30 columns]"
      ]
     },
     "execution_count": 52,
     "metadata": {},
     "output_type": "execute_result"
    }
   ],
   "source": [
    "df_actions.head()"
   ]
  },
  {
   "cell_type": "markdown",
   "metadata": {
    "id": "W6vvNSC6h1jZ"
   },
   "source": [
    "<a id='6'></a>\n",
    "# Part 7: Backtest Our Strategy\n",
    "Backtesting plays a key role in evaluating the performance of a trading strategy. Automated backtesting tool is preferred because it reduces the human error. We usually use the Quantopian pyfolio package to backtest our trading strategies. It is easy to use and consists of various individual plots that provide a comprehensive image of the performance of a trading strategy."
   ]
  },
  {
   "cell_type": "markdown",
   "metadata": {
    "id": "Lr2zX7ZxNyFQ"
   },
   "source": [
    "<a id='6.1'></a>\n",
    "## 7.1 BackTestStats\n",
    "pass in df_account_value, this information is stored in env class\n"
   ]
  },
  {
   "cell_type": "code",
   "execution_count": 53,
   "metadata": {
    "colab": {
     "base_uri": "https://localhost:8080/"
    },
    "id": "Nzkr9yv-AdV_",
    "outputId": "bd56925d-7d32-479a-da1f-8606dff1b0f8"
   },
   "outputs": [
    {
     "name": "stdout",
     "output_type": "stream",
     "text": [
      "==============Get Backtest Results===========\n",
      "Annual return          0.119704\n",
      "Cumulative returns     0.254300\n",
      "Annual volatility      0.191330\n",
      "Sharpe ratio           0.688216\n",
      "Calmar ratio           0.514461\n",
      "Stability              0.036524\n",
      "Max drawdown          -0.232679\n",
      "Omega ratio            1.136214\n",
      "Sortino ratio          0.942729\n",
      "Skew                        NaN\n",
      "Kurtosis                    NaN\n",
      "Tail ratio             0.866602\n",
      "Daily value at risk   -0.023583\n",
      "dtype: float64\n"
     ]
    }
   ],
   "source": [
    "print(\"==============Get Backtest Results===========\")\n",
    "now = datetime.datetime.now().strftime('%Y%m%d-%Hh%M')\n",
    "\n",
    "perf_stats_all = backtest_stats(account_value=df_account_value)\n",
    "perf_stats_all = pd.DataFrame(perf_stats_all)\n",
    "perf_stats_all.to_csv(\"./\"+config.RESULTS_DIR+\"/perf_stats_all_\"+now+'.csv')"
   ]
  },
  {
   "cell_type": "code",
   "execution_count": 54,
   "metadata": {
    "colab": {
     "base_uri": "https://localhost:8080/"
    },
    "id": "QkV-LB66iwhD",
    "outputId": "061ac7da-3c70-4790-cd95-7627855bbe21"
   },
   "outputs": [
    {
     "name": "stdout",
     "output_type": "stream",
     "text": [
      "==============Get Baseline Stats===========\n",
      "[*********************100%***********************]  1 of 1 completed\n",
      "Shape of DataFrame:  (505, 8)\n",
      "Annual return          0.144674\n",
      "Cumulative returns     0.310981\n",
      "Annual volatility      0.274619\n",
      "Sharpe ratio           0.631418\n",
      "Calmar ratio           0.390102\n",
      "Stability              0.116677\n",
      "Max drawdown          -0.370862\n",
      "Omega ratio            1.149365\n",
      "Sortino ratio          0.870084\n",
      "Skew                        NaN\n",
      "Kurtosis                    NaN\n",
      "Tail ratio             0.860710\n",
      "Daily value at risk   -0.033911\n",
      "dtype: float64\n"
     ]
    }
   ],
   "source": [
    "#baseline stats\n",
    "print(\"==============Get Baseline Stats===========\")\n",
    "baseline_df = get_baseline(\n",
    "        ticker=\"^DJI\", \n",
    "        start = '2019-01-01',\n",
    "        end = '2021-01-01')\n",
    "\n",
    "stats = backtest_stats(baseline_df, value_col_name = 'close')"
   ]
  },
  {
   "cell_type": "markdown",
   "metadata": {
    "id": "9U6Suru3h1jc"
   },
   "source": [
    "<a id='6.2'></a>\n",
    "## 7.2 BackTestPlot"
   ]
  },
  {
   "cell_type": "code",
   "execution_count": 63,
   "metadata": {},
   "outputs": [
    {
     "name": "stdout",
     "output_type": "stream",
     "text": [
      "Collecting git+https://github.com/quantopian/pyfolio\n",
      "  Cloning https://github.com/quantopian/pyfolio to c:\\users\\user\\appdata\\local\\temp\\pip-req-build-8ghjcsdd\n",
      "Requirement already satisfied: ipython>=3.2.3 in d:\\installedsoftware\\anaconda3\\envs\\py36-notebook\\lib\\site-packages (from pyfolio==0.9.2+75.g4b901f6) (7.16.1)\n",
      "Requirement already satisfied: matplotlib>=1.4.0 in d:\\installedsoftware\\anaconda3\\envs\\py36-notebook\\lib\\site-packages (from pyfolio==0.9.2+75.g4b901f6) (3.3.4)\n",
      "Requirement already satisfied: numpy>=1.11.1 in d:\\installedsoftware\\anaconda3\\envs\\py36-notebook\\lib\\site-packages (from pyfolio==0.9.2+75.g4b901f6) (1.19.5)\n",
      "Requirement already satisfied: pandas>=0.18.1 in d:\\installedsoftware\\anaconda3\\envs\\py36-notebook\\lib\\site-packages (from pyfolio==0.9.2+75.g4b901f6) (1.1.5)\n",
      "Requirement already satisfied: pytz>=2014.10 in d:\\installedsoftware\\anaconda3\\envs\\py36-notebook\\lib\\site-packages (from pyfolio==0.9.2+75.g4b901f6) (2021.1)\n",
      "Requirement already satisfied: scipy>=0.14.0 in d:\\installedsoftware\\anaconda3\\envs\\py36-notebook\\lib\\site-packages (from pyfolio==0.9.2+75.g4b901f6) (1.5.4)\n",
      "Requirement already satisfied: scikit-learn>=0.16.1 in d:\\installedsoftware\\anaconda3\\envs\\py36-notebook\\lib\\site-packages (from pyfolio==0.9.2+75.g4b901f6) (0.24.2)\n",
      "Requirement already satisfied: seaborn>=0.7.1 in d:\\installedsoftware\\anaconda3\\envs\\py36-notebook\\lib\\site-packages (from pyfolio==0.9.2+75.g4b901f6) (0.11.1)\n",
      "Requirement already satisfied: empyrical>=0.5.0 in d:\\installedsoftware\\anaconda3\\envs\\py36-notebook\\lib\\site-packages (from pyfolio==0.9.2+75.g4b901f6) (0.5.5)\n",
      "Requirement already satisfied: pandas-datareader>=0.2 in d:\\installedsoftware\\anaconda3\\envs\\py36-notebook\\lib\\site-packages (from empyrical>=0.5.0->pyfolio==0.9.2+75.g4b901f6) (0.9.0)\n",
      "Requirement already satisfied: jedi>=0.10 in d:\\installedsoftware\\anaconda3\\envs\\py36-notebook\\lib\\site-packages (from ipython>=3.2.3->pyfolio==0.9.2+75.g4b901f6) (0.18.0)\n",
      "Requirement already satisfied: traitlets>=4.2 in d:\\installedsoftware\\anaconda3\\envs\\py36-notebook\\lib\\site-packages (from ipython>=3.2.3->pyfolio==0.9.2+75.g4b901f6) (4.3.3)\n",
      "Requirement already satisfied: decorator in d:\\installedsoftware\\anaconda3\\envs\\py36-notebook\\lib\\site-packages (from ipython>=3.2.3->pyfolio==0.9.2+75.g4b901f6) (5.0.9)\n",
      "Requirement already satisfied: pickleshare in d:\\installedsoftware\\anaconda3\\envs\\py36-notebook\\lib\\site-packages (from ipython>=3.2.3->pyfolio==0.9.2+75.g4b901f6) (0.7.5)\n",
      "Requirement already satisfied: prompt-toolkit!=3.0.0,!=3.0.1,<3.1.0,>=2.0.0 in d:\\installedsoftware\\anaconda3\\envs\\py36-notebook\\lib\\site-packages (from ipython>=3.2.3->pyfolio==0.9.2+75.g4b901f6) (3.0.18)\n",
      "Requirement already satisfied: backcall in d:\\installedsoftware\\anaconda3\\envs\\py36-notebook\\lib\\site-packages (from ipython>=3.2.3->pyfolio==0.9.2+75.g4b901f6) (0.2.0)\n",
      "Requirement already satisfied: colorama in d:\\installedsoftware\\anaconda3\\envs\\py36-notebook\\lib\\site-packages (from ipython>=3.2.3->pyfolio==0.9.2+75.g4b901f6) (0.4.4)\n",
      "Requirement already satisfied: pygments in d:\\installedsoftware\\anaconda3\\envs\\py36-notebook\\lib\\site-packages (from ipython>=3.2.3->pyfolio==0.9.2+75.g4b901f6) (2.9.0)\n",
      "Requirement already satisfied: setuptools>=18.5 in d:\\installedsoftware\\anaconda3\\envs\\py36-notebook\\lib\\site-packages (from ipython>=3.2.3->pyfolio==0.9.2+75.g4b901f6) (49.6.0.post20210108)\n",
      "Requirement already satisfied: parso<0.9.0,>=0.8.0 in d:\\installedsoftware\\anaconda3\\envs\\py36-notebook\\lib\\site-packages (from jedi>=0.10->ipython>=3.2.3->pyfolio==0.9.2+75.g4b901f6) (0.8.2)\n",
      "Requirement already satisfied: pyparsing!=2.0.4,!=2.1.2,!=2.1.6,>=2.0.3 in d:\\installedsoftware\\anaconda3\\envs\\py36-notebook\\lib\\site-packages (from matplotlib>=1.4.0->pyfolio==0.9.2+75.g4b901f6) (2.4.7)\n",
      "Requirement already satisfied: kiwisolver>=1.0.1 in d:\\installedsoftware\\anaconda3\\envs\\py36-notebook\\lib\\site-packages (from matplotlib>=1.4.0->pyfolio==0.9.2+75.g4b901f6) (1.3.1)\n",
      "Requirement already satisfied: cycler>=0.10 in d:\\installedsoftware\\anaconda3\\envs\\py36-notebook\\lib\\site-packages (from matplotlib>=1.4.0->pyfolio==0.9.2+75.g4b901f6) (0.10.0)\n",
      "Requirement already satisfied: pillow>=6.2.0 in d:\\installedsoftware\\anaconda3\\envs\\py36-notebook\\lib\\site-packages (from matplotlib>=1.4.0->pyfolio==0.9.2+75.g4b901f6) (7.2.0)\n",
      "Requirement already satisfied: python-dateutil>=2.1 in d:\\installedsoftware\\anaconda3\\envs\\py36-notebook\\lib\\site-packages (from matplotlib>=1.4.0->pyfolio==0.9.2+75.g4b901f6) (2.8.1)\n",
      "Requirement already satisfied: six in d:\\installedsoftware\\anaconda3\\envs\\py36-notebook\\lib\\site-packages (from cycler>=0.10->matplotlib>=1.4.0->pyfolio==0.9.2+75.g4b901f6) (1.16.0)\n",
      "Requirement already satisfied: requests>=2.19.0 in d:\\installedsoftware\\anaconda3\\envs\\py36-notebook\\lib\\site-packages (from pandas-datareader>=0.2->empyrical>=0.5.0->pyfolio==0.9.2+75.g4b901f6) (2.25.1)\n",
      "Requirement already satisfied: lxml in d:\\installedsoftware\\anaconda3\\envs\\py36-notebook\\lib\\site-packages (from pandas-datareader>=0.2->empyrical>=0.5.0->pyfolio==0.9.2+75.g4b901f6) (4.6.3)\n",
      "Requirement already satisfied: wcwidth in d:\\installedsoftware\\anaconda3\\envs\\py36-notebook\\lib\\site-packages (from prompt-toolkit!=3.0.0,!=3.0.1,<3.1.0,>=2.0.0->ipython>=3.2.3->pyfolio==0.9.2+75.g4b901f6) (0.2.5)\n",
      "Requirement already satisfied: idna<3,>=2.5 in d:\\installedsoftware\\anaconda3\\envs\\py36-notebook\\lib\\site-packages (from requests>=2.19.0->pandas-datareader>=0.2->empyrical>=0.5.0->pyfolio==0.9.2+75.g4b901f6) (2.10)\n",
      "Requirement already satisfied: chardet<5,>=3.0.2 in d:\\installedsoftware\\anaconda3\\envs\\py36-notebook\\lib\\site-packages (from requests>=2.19.0->pandas-datareader>=0.2->empyrical>=0.5.0->pyfolio==0.9.2+75.g4b901f6) (4.0.0)\n",
      "Requirement already satisfied: certifi>=2017.4.17 in d:\\installedsoftware\\anaconda3\\envs\\py36-notebook\\lib\\site-packages (from requests>=2.19.0->pandas-datareader>=0.2->empyrical>=0.5.0->pyfolio==0.9.2+75.g4b901f6) (2020.12.5)\n",
      "Requirement already satisfied: urllib3<1.27,>=1.21.1 in d:\\installedsoftware\\anaconda3\\envs\\py36-notebook\\lib\\site-packages (from requests>=2.19.0->pandas-datareader>=0.2->empyrical>=0.5.0->pyfolio==0.9.2+75.g4b901f6) (1.26.4)\n",
      "Requirement already satisfied: joblib>=0.11 in d:\\installedsoftware\\anaconda3\\envs\\py36-notebook\\lib\\site-packages (from scikit-learn>=0.16.1->pyfolio==0.9.2+75.g4b901f6) (1.0.1)\n",
      "Requirement already satisfied: threadpoolctl>=2.0.0 in d:\\installedsoftware\\anaconda3\\envs\\py36-notebook\\lib\\site-packages (from scikit-learn>=0.16.1->pyfolio==0.9.2+75.g4b901f6) (2.1.0)\n",
      "Requirement already satisfied: ipython-genutils in d:\\installedsoftware\\anaconda3\\envs\\py36-notebook\\lib\\site-packages (from traitlets>=4.2->ipython>=3.2.3->pyfolio==0.9.2+75.g4b901f6) (0.2.0)\n"
     ]
    },
    {
     "name": "stderr",
     "output_type": "stream",
     "text": [
      "  Running command git clone -q https://github.com/quantopian/pyfolio 'C:\\Users\\User\\AppData\\Local\\Temp\\pip-req-build-8ghjcsdd'\n"
     ]
    },
    {
     "name": "stdout",
     "output_type": "stream",
     "text": [
      "Requirement already satisfied: empyrical in d:\\installedsoftware\\anaconda3\\envs\\py36-notebook\\lib\\site-packages (0.5.5)\n",
      "Requirement already satisfied: pandas-datareader>=0.2 in d:\\installedsoftware\\anaconda3\\envs\\py36-notebook\\lib\\site-packages (from empyrical) (0.9.0)\n",
      "Requirement already satisfied: scipy>=0.15.1 in d:\\installedsoftware\\anaconda3\\envs\\py36-notebook\\lib\\site-packages (from empyrical) (1.5.4)\n",
      "Requirement already satisfied: pandas>=0.16.1 in d:\\installedsoftware\\anaconda3\\envs\\py36-notebook\\lib\\site-packages (from empyrical) (1.1.5)\n",
      "Requirement already satisfied: numpy>=1.9.2 in d:\\installedsoftware\\anaconda3\\envs\\py36-notebook\\lib\\site-packages (from empyrical) (1.19.5)\n",
      "Requirement already satisfied: pytz>=2017.2 in d:\\installedsoftware\\anaconda3\\envs\\py36-notebook\\lib\\site-packages (from pandas>=0.16.1->empyrical) (2021.1)\n",
      "Requirement already satisfied: python-dateutil>=2.7.3 in d:\\installedsoftware\\anaconda3\\envs\\py36-notebook\\lib\\site-packages (from pandas>=0.16.1->empyrical) (2.8.1)\n",
      "Requirement already satisfied: lxml in d:\\installedsoftware\\anaconda3\\envs\\py36-notebook\\lib\\site-packages (from pandas-datareader>=0.2->empyrical) (4.6.3)\n",
      "Requirement already satisfied: requests>=2.19.0 in d:\\installedsoftware\\anaconda3\\envs\\py36-notebook\\lib\\site-packages (from pandas-datareader>=0.2->empyrical) (2.25.1)\n",
      "Requirement already satisfied: six>=1.5 in d:\\installedsoftware\\anaconda3\\envs\\py36-notebook\\lib\\site-packages (from python-dateutil>=2.7.3->pandas>=0.16.1->empyrical) (1.16.0)\n",
      "Requirement already satisfied: urllib3<1.27,>=1.21.1 in d:\\installedsoftware\\anaconda3\\envs\\py36-notebook\\lib\\site-packages (from requests>=2.19.0->pandas-datareader>=0.2->empyrical) (1.26.4)\n",
      "Requirement already satisfied: certifi>=2017.4.17 in d:\\installedsoftware\\anaconda3\\envs\\py36-notebook\\lib\\site-packages (from requests>=2.19.0->pandas-datareader>=0.2->empyrical) (2020.12.5)\n",
      "Requirement already satisfied: idna<3,>=2.5 in d:\\installedsoftware\\anaconda3\\envs\\py36-notebook\\lib\\site-packages (from requests>=2.19.0->pandas-datareader>=0.2->empyrical) (2.10)\n",
      "Requirement already satisfied: chardet<5,>=3.0.2 in d:\\installedsoftware\\anaconda3\\envs\\py36-notebook\\lib\\site-packages (from requests>=2.19.0->pandas-datareader>=0.2->empyrical) (4.0.0)\n"
     ]
    }
   ],
   "source": [
    "!pip install git+https://github.com/quantopian/pyfolio\n",
    "!pip install empyrical"
   ]
  },
  {
   "cell_type": "code",
   "execution_count": 64,
   "metadata": {
    "colab": {
     "base_uri": "https://localhost:8080/",
     "height": 1000
    },
    "id": "lKRGftSS7pNM",
    "outputId": "00deee41-f99f-4aaf-a389-e66315de1ff6"
   },
   "outputs": [
    {
     "name": "stdout",
     "output_type": "stream",
     "text": [
      "==============Compare to DJIA===========\n",
      "[*********************100%***********************]  1 of 1 completed\n",
      "Shape of DataFrame:  (505, 8)\n"
     ]
    },
    {
     "data": {
      "text/html": [
       "<table border=\"1\" class=\"dataframe\">\n",
       "  <thead>\n",
       "    <tr style=\"text-align: right;\"><th>Start date</th><td colspan=2>2019-01-02</td></tr>\n",
       "    <tr style=\"text-align: right;\"><th>End date</th><td colspan=2>2020-12-31</td></tr>\n",
       "    <tr style=\"text-align: right;\"><th>Total months</th><td colspan=2>24</td></tr>\n",
       "    <tr style=\"text-align: right;\">\n",
       "      <th></th>\n",
       "      <th>Backtest</th>\n",
       "    </tr>\n",
       "  </thead>\n",
       "  <tbody>\n",
       "    <tr>\n",
       "      <th>Annual return</th>\n",
       "      <td>12.0%</td>\n",
       "    </tr>\n",
       "    <tr>\n",
       "      <th>Cumulative returns</th>\n",
       "      <td>25.4%</td>\n",
       "    </tr>\n",
       "    <tr>\n",
       "      <th>Annual volatility</th>\n",
       "      <td>19.1%</td>\n",
       "    </tr>\n",
       "    <tr>\n",
       "      <th>Sharpe ratio</th>\n",
       "      <td>0.69</td>\n",
       "    </tr>\n",
       "    <tr>\n",
       "      <th>Calmar ratio</th>\n",
       "      <td>0.51</td>\n",
       "    </tr>\n",
       "    <tr>\n",
       "      <th>Stability</th>\n",
       "      <td>0.04</td>\n",
       "    </tr>\n",
       "    <tr>\n",
       "      <th>Max drawdown</th>\n",
       "      <td>-23.3%</td>\n",
       "    </tr>\n",
       "    <tr>\n",
       "      <th>Omega ratio</th>\n",
       "      <td>1.14</td>\n",
       "    </tr>\n",
       "    <tr>\n",
       "      <th>Sortino ratio</th>\n",
       "      <td>0.94</td>\n",
       "    </tr>\n",
       "    <tr>\n",
       "      <th>Skew</th>\n",
       "      <td>NaN</td>\n",
       "    </tr>\n",
       "    <tr>\n",
       "      <th>Kurtosis</th>\n",
       "      <td>NaN</td>\n",
       "    </tr>\n",
       "    <tr>\n",
       "      <th>Tail ratio</th>\n",
       "      <td>0.87</td>\n",
       "    </tr>\n",
       "    <tr>\n",
       "      <th>Daily value at risk</th>\n",
       "      <td>-2.4%</td>\n",
       "    </tr>\n",
       "    <tr>\n",
       "      <th>Alpha</th>\n",
       "      <td>0.05</td>\n",
       "    </tr>\n",
       "    <tr>\n",
       "      <th>Beta</th>\n",
       "      <td>0.50</td>\n",
       "    </tr>\n",
       "  </tbody>\n",
       "</table>"
      ],
      "text/plain": [
       "<IPython.core.display.HTML object>"
      ]
     },
     "metadata": {},
     "output_type": "display_data"
    },
    {
     "ename": "AttributeError",
     "evalue": "'numpy.int64' object has no attribute 'to_pydatetime'",
     "output_type": "error",
     "traceback": [
      "\u001B[1;31m---------------------------------------------------------------------------\u001B[0m",
      "\u001B[1;31mAttributeError\u001B[0m                            Traceback (most recent call last)",
      "\u001B[1;32m<ipython-input-64-c60b393434bd>\u001B[0m in \u001B[0;36m<module>\u001B[1;34m\u001B[0m\n\u001B[0;32m      7\u001B[0m              \u001B[0mbaseline_ticker\u001B[0m \u001B[1;33m=\u001B[0m \u001B[1;34m'^DJI'\u001B[0m\u001B[1;33m,\u001B[0m\u001B[1;33m\u001B[0m\u001B[1;33m\u001B[0m\u001B[0m\n\u001B[0;32m      8\u001B[0m              \u001B[0mbaseline_start\u001B[0m \u001B[1;33m=\u001B[0m \u001B[1;34m'2019-01-01'\u001B[0m\u001B[1;33m,\u001B[0m\u001B[1;33m\u001B[0m\u001B[1;33m\u001B[0m\u001B[0m\n\u001B[1;32m----> 9\u001B[1;33m              baseline_end = '2021-01-01')\n\u001B[0m",
      "\u001B[1;32mD:\\codes\\python\\RL_stock_trading\\finrl\\trade\\backtest.py\u001B[0m in \u001B[0;36mbacktest_plot\u001B[1;34m(account_value, baseline_start, baseline_end, baseline_ticker, value_col_name)\u001B[0m\n\u001B[0;32m     59\u001B[0m     \u001B[1;32mwith\u001B[0m \u001B[0mpyfolio\u001B[0m\u001B[1;33m.\u001B[0m\u001B[0mplotting\u001B[0m\u001B[1;33m.\u001B[0m\u001B[0mplotting_context\u001B[0m\u001B[1;33m(\u001B[0m\u001B[0mfont_scale\u001B[0m\u001B[1;33m=\u001B[0m\u001B[1;36m1.1\u001B[0m\u001B[1;33m)\u001B[0m\u001B[1;33m:\u001B[0m\u001B[1;33m\u001B[0m\u001B[1;33m\u001B[0m\u001B[0m\n\u001B[0;32m     60\u001B[0m         pyfolio.create_full_tear_sheet(\n\u001B[1;32m---> 61\u001B[1;33m             \u001B[0mreturns\u001B[0m\u001B[1;33m=\u001B[0m\u001B[0mtest_returns\u001B[0m\u001B[1;33m,\u001B[0m \u001B[0mbenchmark_rets\u001B[0m\u001B[1;33m=\u001B[0m\u001B[0mbaseline_returns\u001B[0m\u001B[1;33m,\u001B[0m \u001B[0mset_context\u001B[0m\u001B[1;33m=\u001B[0m\u001B[1;32mFalse\u001B[0m\u001B[1;33m\u001B[0m\u001B[1;33m\u001B[0m\u001B[0m\n\u001B[0m\u001B[0;32m     62\u001B[0m         )\n\u001B[0;32m     63\u001B[0m \u001B[1;33m\u001B[0m\u001B[0m\n",
      "\u001B[1;32md:\\installedsoftware\\anaconda3\\envs\\py36-notebook\\lib\\site-packages\\pyfolio\\tears.py\u001B[0m in \u001B[0;36mcreate_full_tear_sheet\u001B[1;34m(returns, positions, transactions, market_data, benchmark_rets, slippage, live_start_date, sector_mappings, bayesian, round_trips, estimate_intraday, hide_positions, cone_std, bootstrap, unadjusted_returns, style_factor_panel, sectors, caps, shares_held, volumes, percentile, turnover_denom, set_context, factor_returns, factor_loadings, pos_in_dollars, header_rows, factor_partitions)\u001B[0m\n\u001B[0;32m    209\u001B[0m                 create_round_trip_tear_sheet(\n\u001B[0;32m    210\u001B[0m                     \u001B[0mreturns\u001B[0m\u001B[1;33m=\u001B[0m\u001B[0mreturns\u001B[0m\u001B[1;33m,\u001B[0m\u001B[1;33m\u001B[0m\u001B[1;33m\u001B[0m\u001B[0m\n\u001B[1;32m--> 211\u001B[1;33m                     \u001B[0mpositions\u001B[0m\u001B[1;33m=\u001B[0m\u001B[0mpositions\u001B[0m\u001B[1;33m,\u001B[0m\u001B[1;33m\u001B[0m\u001B[1;33m\u001B[0m\u001B[0m\n\u001B[0m\u001B[0;32m    212\u001B[0m                     \u001B[0mtransactions\u001B[0m\u001B[1;33m=\u001B[0m\u001B[0mtransactions\u001B[0m\u001B[1;33m,\u001B[0m\u001B[1;33m\u001B[0m\u001B[1;33m\u001B[0m\u001B[0m\n\u001B[0;32m    213\u001B[0m                     \u001B[0msector_mappings\u001B[0m\u001B[1;33m=\u001B[0m\u001B[0msector_mappings\u001B[0m\u001B[1;33m,\u001B[0m\u001B[1;33m\u001B[0m\u001B[1;33m\u001B[0m\u001B[0m\n",
      "\u001B[1;32md:\\installedsoftware\\anaconda3\\envs\\py36-notebook\\lib\\site-packages\\pyfolio\\plotting.py\u001B[0m in \u001B[0;36mcall_w_context\u001B[1;34m(*args, **kwargs)\u001B[0m\n\u001B[0;32m     52\u001B[0m                 \u001B[1;32mreturn\u001B[0m \u001B[0mfunc\u001B[0m\u001B[1;33m(\u001B[0m\u001B[1;33m*\u001B[0m\u001B[0margs\u001B[0m\u001B[1;33m,\u001B[0m \u001B[1;33m**\u001B[0m\u001B[0mkwargs\u001B[0m\u001B[1;33m)\u001B[0m\u001B[1;33m\u001B[0m\u001B[1;33m\u001B[0m\u001B[0m\n\u001B[0;32m     53\u001B[0m         \u001B[1;32melse\u001B[0m\u001B[1;33m:\u001B[0m\u001B[1;33m\u001B[0m\u001B[1;33m\u001B[0m\u001B[0m\n\u001B[1;32m---> 54\u001B[1;33m             \u001B[1;32mreturn\u001B[0m \u001B[0mfunc\u001B[0m\u001B[1;33m(\u001B[0m\u001B[1;33m*\u001B[0m\u001B[0margs\u001B[0m\u001B[1;33m,\u001B[0m \u001B[1;33m**\u001B[0m\u001B[0mkwargs\u001B[0m\u001B[1;33m)\u001B[0m\u001B[1;33m\u001B[0m\u001B[1;33m\u001B[0m\u001B[0m\n\u001B[0m\u001B[0;32m     55\u001B[0m     \u001B[1;32mreturn\u001B[0m \u001B[0mcall_w_context\u001B[0m\u001B[1;33m\u001B[0m\u001B[1;33m\u001B[0m\u001B[0m\n\u001B[0;32m     56\u001B[0m \u001B[1;33m\u001B[0m\u001B[0m\n",
      "\u001B[1;32md:\\installedsoftware\\anaconda3\\envs\\py36-notebook\\lib\\site-packages\\pyfolio\\tears.py\u001B[0m in \u001B[0;36mcreate_returns_tear_sheet\u001B[1;34m(returns, positions, transactions, live_start_date, cone_std, benchmark_rets, bootstrap, turnover_denom, header_rows, return_fig)\u001B[0m\n\u001B[0;32m    502\u001B[0m     \u001B[1;32mif\u001B[0m \u001B[0mbenchmark_rets\u001B[0m \u001B[1;32mis\u001B[0m \u001B[1;32mnot\u001B[0m \u001B[1;32mNone\u001B[0m\u001B[1;33m:\u001B[0m\u001B[1;33m\u001B[0m\u001B[1;33m\u001B[0m\u001B[0m\n\u001B[0;32m    503\u001B[0m         \u001B[0max_rolling_beta\u001B[0m \u001B[1;33m=\u001B[0m \u001B[0mplt\u001B[0m\u001B[1;33m.\u001B[0m\u001B[0msubplot\u001B[0m\u001B[1;33m(\u001B[0m\u001B[0mgs\u001B[0m\u001B[1;33m[\u001B[0m\u001B[0mi\u001B[0m\u001B[1;33m,\u001B[0m \u001B[1;33m:\u001B[0m\u001B[1;33m]\u001B[0m\u001B[1;33m,\u001B[0m \u001B[0msharex\u001B[0m\u001B[1;33m=\u001B[0m\u001B[0max_rolling_returns\u001B[0m\u001B[1;33m)\u001B[0m\u001B[1;33m\u001B[0m\u001B[1;33m\u001B[0m\u001B[0m\n\u001B[1;32m--> 504\u001B[1;33m         \u001B[0mi\u001B[0m \u001B[1;33m+=\u001B[0m \u001B[1;36m1\u001B[0m\u001B[1;33m\u001B[0m\u001B[1;33m\u001B[0m\u001B[0m\n\u001B[0m\u001B[0;32m    505\u001B[0m     \u001B[0max_rolling_volatility\u001B[0m \u001B[1;33m=\u001B[0m \u001B[0mplt\u001B[0m\u001B[1;33m.\u001B[0m\u001B[0msubplot\u001B[0m\u001B[1;33m(\u001B[0m\u001B[0mgs\u001B[0m\u001B[1;33m[\u001B[0m\u001B[0mi\u001B[0m\u001B[1;33m,\u001B[0m \u001B[1;33m:\u001B[0m\u001B[1;33m]\u001B[0m\u001B[1;33m,\u001B[0m \u001B[0msharex\u001B[0m\u001B[1;33m=\u001B[0m\u001B[0max_rolling_returns\u001B[0m\u001B[1;33m)\u001B[0m\u001B[1;33m\u001B[0m\u001B[1;33m\u001B[0m\u001B[0m\n\u001B[0;32m    506\u001B[0m     \u001B[0mi\u001B[0m \u001B[1;33m+=\u001B[0m \u001B[1;36m1\u001B[0m\u001B[1;33m\u001B[0m\u001B[1;33m\u001B[0m\u001B[0m\n",
      "\u001B[1;32md:\\installedsoftware\\anaconda3\\envs\\py36-notebook\\lib\\site-packages\\pyfolio\\plotting.py\u001B[0m in \u001B[0;36mshow_worst_drawdown_periods\u001B[1;34m(returns, top)\u001B[0m\n\u001B[0;32m   1662\u001B[0m     \u001B[0mParameters\u001B[0m\u001B[1;33m\u001B[0m\u001B[1;33m\u001B[0m\u001B[0m\n\u001B[0;32m   1663\u001B[0m     \u001B[1;33m-\u001B[0m\u001B[1;33m-\u001B[0m\u001B[1;33m-\u001B[0m\u001B[1;33m-\u001B[0m\u001B[1;33m-\u001B[0m\u001B[1;33m-\u001B[0m\u001B[1;33m-\u001B[0m\u001B[1;33m-\u001B[0m\u001B[1;33m-\u001B[0m\u001B[1;33m-\u001B[0m\u001B[1;33m\u001B[0m\u001B[1;33m\u001B[0m\u001B[0m\n\u001B[1;32m-> 1664\u001B[1;33m     \u001B[0mreturns\u001B[0m \u001B[1;33m:\u001B[0m \u001B[0mpd\u001B[0m\u001B[1;33m.\u001B[0m\u001B[0mSeries\u001B[0m\u001B[1;33m\u001B[0m\u001B[1;33m\u001B[0m\u001B[0m\n\u001B[0m\u001B[0;32m   1665\u001B[0m         \u001B[0mDaily\u001B[0m \u001B[0mreturns\u001B[0m \u001B[0mof\u001B[0m \u001B[0mthe\u001B[0m \u001B[0mstrategy\u001B[0m\u001B[1;33m,\u001B[0m \u001B[0mnoncumulative\u001B[0m\u001B[1;33m.\u001B[0m\u001B[1;33m\u001B[0m\u001B[1;33m\u001B[0m\u001B[0m\n\u001B[0;32m   1666\u001B[0m          \u001B[1;33m-\u001B[0m \u001B[0mSee\u001B[0m \u001B[0mfull\u001B[0m \u001B[0mexplanation\u001B[0m \u001B[1;32min\u001B[0m \u001B[0mtears\u001B[0m\u001B[1;33m.\u001B[0m\u001B[0mcreate_full_tear_sheet\u001B[0m\u001B[1;33m.\u001B[0m\u001B[1;33m\u001B[0m\u001B[1;33m\u001B[0m\u001B[0m\n",
      "\u001B[1;32md:\\installedsoftware\\anaconda3\\envs\\py36-notebook\\lib\\site-packages\\pyfolio\\timeseries.py\u001B[0m in \u001B[0;36mgen_drawdown_table\u001B[1;34m(returns, top)\u001B[0m\n\u001B[0;32m   1006\u001B[0m                                                                 \u001B[0mrecovery\u001B[0m\u001B[1;33m,\u001B[0m\u001B[1;33m\u001B[0m\u001B[1;33m\u001B[0m\u001B[0m\n\u001B[0;32m   1007\u001B[0m                                                                 freq='B'))\n\u001B[1;32m-> 1008\u001B[1;33m         df_drawdowns.loc[i, 'Peak date'] = (peak.to_pydatetime()\n\u001B[0m\u001B[0;32m   1009\u001B[0m                                             .strftime('%Y-%m-%d'))\n\u001B[0;32m   1010\u001B[0m         df_drawdowns.loc[i, 'Valley date'] = (valley.to_pydatetime()\n",
      "\u001B[1;31mAttributeError\u001B[0m: 'numpy.int64' object has no attribute 'to_pydatetime'"
     ]
    }
   ],
   "source": [
    "print(\"==============Compare to DJIA===========\")\n",
    "%matplotlib inline\n",
    "# S&P 500: ^GSPC\n",
    "# Dow Jones Index: ^DJI\n",
    "# NASDAQ 100: ^NDX\n",
    "backtest_plot(df_account_value, \n",
    "             baseline_ticker = '^DJI', \n",
    "             baseline_start = '2019-01-01',\n",
    "             baseline_end = '2021-01-01')"
   ]
  },
  {
   "cell_type": "code",
   "execution_count": null,
   "metadata": {
    "id": "BzBaE63H3RLc"
   },
   "outputs": [],
   "source": []
  },
  {
   "cell_type": "code",
   "execution_count": null,
   "metadata": {},
   "outputs": [],
   "source": []
  },
  {
   "cell_type": "code",
   "execution_count": null,
   "metadata": {},
   "outputs": [],
   "source": []
  },
  {
   "cell_type": "code",
   "execution_count": null,
   "metadata": {},
   "outputs": [],
   "source": []
  },
  {
   "cell_type": "code",
   "execution_count": null,
   "metadata": {},
   "outputs": [],
   "source": []
  }
 ],
 "metadata": {
  "colab": {
   "collapsed_sections": [
    "uijiWgkuh1jB",
    "MRiOtrywfAo1",
    "_gDkU-j-fCmZ",
    "3Zpv4S0-fDBv"
   ],
   "include_colab_link": true,
   "name": "FinRL_stock_trading_NeurIPS_2018.ipynb",
   "provenance": [],
   "toc_visible": true
  },
  "kernelspec": {
   "display_name": "Python 3",
   "language": "python",
   "name": "python3"
  },
  "language_info": {
   "codemirror_mode": {
    "name": "ipython",
    "version": 3
   },
   "file_extension": ".py",
   "mimetype": "text/x-python",
   "name": "python",
   "nbconvert_exporter": "python",
   "pygments_lexer": "ipython3",
   "version": "3.6.13"
  },
  "pycharm": {
   "stem_cell": {
    "cell_type": "raw",
    "metadata": {
     "collapsed": false
    },
    "source": []
   }
  }
 },
 "nbformat": 4,
 "nbformat_minor": 4
}