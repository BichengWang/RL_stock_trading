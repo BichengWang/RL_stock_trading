{
 "cells": [
  {
   "cell_type": "markdown",
   "id": "tough-phoenix",
   "metadata": {},
   "source": [
    "# LSTM"
   ]
  },
  {
   "cell_type": "code",
   "execution_count": 281,
   "id": "advised-lexington",
   "metadata": {},
   "outputs": [],
   "source": [
    "import pandas as pd\n",
    "import numpy as np\n",
    "import matplotlib\n",
    "import matplotlib.pyplot as plt\n",
    "import datetime\n",
    "\n",
    "%matplotlib inline\n",
    "from rl.config import config\n",
    "from rl.marketdata.yahoodownloader import YahooDownloader\n",
    "from rl.preprocessing.preprocessors import FeatureEngineer\n",
    "from rl.preprocessing.data import data_split\n",
    "from rl.env.env_stocktrading import StockTradingEnv\n",
    "from rl.model.models import DRLAgent\n",
    "from rl.trade.backtest import backtest_stats, backtest_plot, get_daily_return, get_baseline\n",
    "\n",
    "from pprint import pprint\n",
    "\n",
    "import itertools\n",
    "import seaborn as sns"
   ]
  },
  {
   "cell_type": "code",
   "execution_count": 282,
   "id": "conscious-midwest",
   "metadata": {},
   "outputs": [],
   "source": [
    "import os\n",
    "if not os.path.exists(\"./\" + config.DATA_SAVE_DIR):\n",
    "    os.makedirs(\"./\" + config.DATA_SAVE_DIR)\n",
    "if not os.path.exists(\"./\" + config.TRAINED_MODEL_DIR):\n",
    "    os.makedirs(\"./\" + config.TRAINED_MODEL_DIR)\n",
    "if not os.path.exists(\"./\" + config.TENSORBOARD_LOG_DIR):\n",
    "    os.makedirs(\"./\" + config.TENSORBOARD_LOG_DIR)\n",
    "if not os.path.exists(\"./\" + config.RESULTS_DIR):\n",
    "    os.makedirs(\"./\" + config.RESULTS_DIR)"
   ]
  },
  {
   "cell_type": "code",
   "execution_count": 283,
   "id": "convinced-business",
   "metadata": {},
   "outputs": [
    {
     "name": "stdout",
     "output_type": "stream",
     "text": [
      "training period: 2000-01-01-2019-01-01, testing period: 2019-01-01-2021-01-01\n",
      "\n",
      "target ticker list:\n",
      " ['AAPL', 'MSFT', 'AMZN', 'BRK-B', 'JPM', 'JNJ', 'UNH', 'HD', 'PG', 'NVDA', 'DIS', 'BAC', 'CMCSA', 'XOM', 'VZ', 'T', 'ADBE', 'PFE', 'CSCO', 'INTC']\n",
      "\n",
      "tech_indicator_list:\n",
      " ['macd', 'boll_ub', 'boll_lb', 'rsi_10', 'rsi_20', 'cci_10', 'cci_20', 'dx_30', 'close_20_sma', 'close_60_sma', 'close_120_sma', 'close_20_ema', 'close_60_ema', 'close_120_ema']\n",
      "\n"
     ]
    }
   ],
   "source": [
    "# from config.py start_date is a string\n",
    "start_date = config.START_DATE\n",
    "# from config.py end_date is a string\n",
    "end_date = config.END_DATE\n",
    "# from config.py split_date is a string\n",
    "split_date = config.SPLIT_DATE\n",
    "# config target ticker\n",
    "target_ticker = config.SP500_20_TICKER\n",
    "# config tech_indicator_list\n",
    "tech_indicator_list = config.TECHNICAL_INDICATORS_LIST\n",
    "print(\"training period: {}-{}, testing period: {}-{}\\n\".format(start_date, split_date, split_date, end_date))\n",
    "print(\"target ticker list:\\n {}\\n\".format(target_ticker))\n",
    "print(\"tech_indicator_list:\\n {}\\n\".format(tech_indicator_list))"
   ]
  },
  {
   "cell_type": "markdown",
   "id": "oriental-substitute",
   "metadata": {},
   "source": [
    "## Dataset"
   ]
  },
  {
   "cell_type": "code",
   "execution_count": 284,
   "id": "prerequisite-workstation",
   "metadata": {},
   "outputs": [
    {
     "name": "stdout",
     "output_type": "stream",
     "text": [
      "[*********************100%***********************]  1 of 1 completed\n",
      "[*********************100%***********************]  1 of 1 completed\n",
      "[*********************100%***********************]  1 of 1 completed\n",
      "[*********************100%***********************]  1 of 1 completed\n",
      "[*********************100%***********************]  1 of 1 completed\n",
      "[*********************100%***********************]  1 of 1 completed\n",
      "[*********************100%***********************]  1 of 1 completed\n",
      "[*********************100%***********************]  1 of 1 completed\n",
      "[*********************100%***********************]  1 of 1 completed\n",
      "[*********************100%***********************]  1 of 1 completed\n",
      "[*********************100%***********************]  1 of 1 completed\n",
      "[*********************100%***********************]  1 of 1 completed\n",
      "[*********************100%***********************]  1 of 1 completed\n",
      "[*********************100%***********************]  1 of 1 completed\n",
      "[*********************100%***********************]  1 of 1 completed\n",
      "[*********************100%***********************]  1 of 1 completed\n",
      "[*********************100%***********************]  1 of 1 completed\n",
      "[*********************100%***********************]  1 of 1 completed\n",
      "[*********************100%***********************]  1 of 1 completed\n",
      "[*********************100%***********************]  1 of 1 completed\n",
      "Shape of DataFrame:  (105680, 8)\n"
     ]
    }
   ],
   "source": [
    "df = YahooDownloader(start_date = start_date,\n",
    "                     end_date = end_date,\n",
    "                     ticker_list = target_ticker).fetch_data()"
   ]
  },
  {
   "cell_type": "code",
   "execution_count": 285,
   "id": "opponent-hardwood",
   "metadata": {},
   "outputs": [
    {
     "data": {
      "text/plain": [
       "(105680, 8)"
      ]
     },
     "execution_count": 285,
     "metadata": {},
     "output_type": "execute_result"
    }
   ],
   "source": [
    "df.shape"
   ]
  },
  {
   "cell_type": "code",
   "execution_count": 286,
   "id": "adolescent-mambo",
   "metadata": {},
   "outputs": [
    {
     "data": {
      "text/html": [
       "<div>\n",
       "<style scoped>\n",
       "    .dataframe tbody tr th:only-of-type {\n",
       "        vertical-align: middle;\n",
       "    }\n",
       "\n",
       "    .dataframe tbody tr th {\n",
       "        vertical-align: top;\n",
       "    }\n",
       "\n",
       "    .dataframe thead th {\n",
       "        text-align: right;\n",
       "    }\n",
       "</style>\n",
       "<table border=\"1\" class=\"dataframe\">\n",
       "  <thead>\n",
       "    <tr style=\"text-align: right;\">\n",
       "      <th></th>\n",
       "      <th>date</th>\n",
       "      <th>open</th>\n",
       "      <th>high</th>\n",
       "      <th>low</th>\n",
       "      <th>close</th>\n",
       "      <th>volume</th>\n",
       "      <th>tic</th>\n",
       "      <th>day</th>\n",
       "    </tr>\n",
       "  </thead>\n",
       "  <tbody>\n",
       "    <tr>\n",
       "      <th>0</th>\n",
       "      <td>2000-01-03</td>\n",
       "      <td>0.936384</td>\n",
       "      <td>1.004464</td>\n",
       "      <td>0.907924</td>\n",
       "      <td>0.859423</td>\n",
       "      <td>535796800.0</td>\n",
       "      <td>AAPL</td>\n",
       "      <td>0</td>\n",
       "    </tr>\n",
       "    <tr>\n",
       "      <th>1</th>\n",
       "      <td>2000-01-03</td>\n",
       "      <td>16.812500</td>\n",
       "      <td>16.875000</td>\n",
       "      <td>16.062500</td>\n",
       "      <td>16.274673</td>\n",
       "      <td>7384400.0</td>\n",
       "      <td>ADBE</td>\n",
       "      <td>0</td>\n",
       "    </tr>\n",
       "    <tr>\n",
       "      <th>2</th>\n",
       "      <td>2000-01-03</td>\n",
       "      <td>81.500000</td>\n",
       "      <td>89.562500</td>\n",
       "      <td>79.046875</td>\n",
       "      <td>89.375000</td>\n",
       "      <td>16117600.0</td>\n",
       "      <td>AMZN</td>\n",
       "      <td>0</td>\n",
       "    </tr>\n",
       "    <tr>\n",
       "      <th>3</th>\n",
       "      <td>2000-01-03</td>\n",
       "      <td>25.125000</td>\n",
       "      <td>25.125000</td>\n",
       "      <td>24.000000</td>\n",
       "      <td>13.952057</td>\n",
       "      <td>13705800.0</td>\n",
       "      <td>BAC</td>\n",
       "      <td>0</td>\n",
       "    </tr>\n",
       "    <tr>\n",
       "      <th>4</th>\n",
       "      <td>2000-01-03</td>\n",
       "      <td>36.500000</td>\n",
       "      <td>36.580002</td>\n",
       "      <td>34.820000</td>\n",
       "      <td>35.299999</td>\n",
       "      <td>875000.0</td>\n",
       "      <td>BRK-B</td>\n",
       "      <td>0</td>\n",
       "    </tr>\n",
       "  </tbody>\n",
       "</table>\n",
       "</div>"
      ],
      "text/plain": [
       "         date       open       high        low      close       volume    tic  \\\n",
       "0  2000-01-03   0.936384   1.004464   0.907924   0.859423  535796800.0   AAPL   \n",
       "1  2000-01-03  16.812500  16.875000  16.062500  16.274673    7384400.0   ADBE   \n",
       "2  2000-01-03  81.500000  89.562500  79.046875  89.375000   16117600.0   AMZN   \n",
       "3  2000-01-03  25.125000  25.125000  24.000000  13.952057   13705800.0    BAC   \n",
       "4  2000-01-03  36.500000  36.580002  34.820000  35.299999     875000.0  BRK-B   \n",
       "\n",
       "   day  \n",
       "0    0  \n",
       "1    0  \n",
       "2    0  \n",
       "3    0  \n",
       "4    0  "
      ]
     },
     "execution_count": 286,
     "metadata": {},
     "output_type": "execute_result"
    }
   ],
   "source": [
    "df.sort_values(['date','tic'],ignore_index=True).head()"
   ]
  },
  {
   "cell_type": "code",
   "execution_count": 287,
   "id": "related-sculpture",
   "metadata": {},
   "outputs": [],
   "source": [
    "from dl.preprocessing.data_windowing import WindowGenerator"
   ]
  },
  {
   "cell_type": "code",
   "execution_count": 288,
   "id": "formed-savannah",
   "metadata": {},
   "outputs": [],
   "source": [
    "aapl = df[df['tic']=='AAPL']"
   ]
  },
  {
   "cell_type": "code",
   "execution_count": 289,
   "id": "attended-strategy",
   "metadata": {},
   "outputs": [
    {
     "data": {
      "text/plain": [
       "(5284, 8)"
      ]
     },
     "execution_count": 289,
     "metadata": {},
     "output_type": "execute_result"
    }
   ],
   "source": [
    "aapl.shape"
   ]
  },
  {
   "cell_type": "code",
   "execution_count": 290,
   "id": "cleared-google",
   "metadata": {},
   "outputs": [
    {
     "data": {
      "text/html": [
       "<div>\n",
       "<style scoped>\n",
       "    .dataframe tbody tr th:only-of-type {\n",
       "        vertical-align: middle;\n",
       "    }\n",
       "\n",
       "    .dataframe tbody tr th {\n",
       "        vertical-align: top;\n",
       "    }\n",
       "\n",
       "    .dataframe thead th {\n",
       "        text-align: right;\n",
       "    }\n",
       "</style>\n",
       "<table border=\"1\" class=\"dataframe\">\n",
       "  <thead>\n",
       "    <tr style=\"text-align: right;\">\n",
       "      <th></th>\n",
       "      <th>date</th>\n",
       "      <th>open</th>\n",
       "      <th>high</th>\n",
       "      <th>low</th>\n",
       "      <th>close</th>\n",
       "      <th>volume</th>\n",
       "      <th>tic</th>\n",
       "      <th>day</th>\n",
       "    </tr>\n",
       "  </thead>\n",
       "  <tbody>\n",
       "    <tr>\n",
       "      <th>0</th>\n",
       "      <td>2000-01-03</td>\n",
       "      <td>0.936384</td>\n",
       "      <td>1.004464</td>\n",
       "      <td>0.907924</td>\n",
       "      <td>0.859423</td>\n",
       "      <td>535796800.0</td>\n",
       "      <td>AAPL</td>\n",
       "      <td>0</td>\n",
       "    </tr>\n",
       "    <tr>\n",
       "      <th>20</th>\n",
       "      <td>2000-01-04</td>\n",
       "      <td>0.966518</td>\n",
       "      <td>0.987723</td>\n",
       "      <td>0.903460</td>\n",
       "      <td>0.786965</td>\n",
       "      <td>512377600.0</td>\n",
       "      <td>AAPL</td>\n",
       "      <td>1</td>\n",
       "    </tr>\n",
       "    <tr>\n",
       "      <th>40</th>\n",
       "      <td>2000-01-05</td>\n",
       "      <td>0.926339</td>\n",
       "      <td>0.987165</td>\n",
       "      <td>0.919643</td>\n",
       "      <td>0.798481</td>\n",
       "      <td>778321600.0</td>\n",
       "      <td>AAPL</td>\n",
       "      <td>2</td>\n",
       "    </tr>\n",
       "    <tr>\n",
       "      <th>60</th>\n",
       "      <td>2000-01-06</td>\n",
       "      <td>0.947545</td>\n",
       "      <td>0.955357</td>\n",
       "      <td>0.848214</td>\n",
       "      <td>0.729382</td>\n",
       "      <td>767972800.0</td>\n",
       "      <td>AAPL</td>\n",
       "      <td>3</td>\n",
       "    </tr>\n",
       "    <tr>\n",
       "      <th>80</th>\n",
       "      <td>2000-01-07</td>\n",
       "      <td>0.861607</td>\n",
       "      <td>0.901786</td>\n",
       "      <td>0.852679</td>\n",
       "      <td>0.763932</td>\n",
       "      <td>460734400.0</td>\n",
       "      <td>AAPL</td>\n",
       "      <td>4</td>\n",
       "    </tr>\n",
       "    <tr>\n",
       "      <th>...</th>\n",
       "      <td>...</td>\n",
       "      <td>...</td>\n",
       "      <td>...</td>\n",
       "      <td>...</td>\n",
       "      <td>...</td>\n",
       "      <td>...</td>\n",
       "      <td>...</td>\n",
       "      <td>...</td>\n",
       "    </tr>\n",
       "    <tr>\n",
       "      <th>105580</th>\n",
       "      <td>2020-12-24</td>\n",
       "      <td>131.320007</td>\n",
       "      <td>133.460007</td>\n",
       "      <td>131.100006</td>\n",
       "      <td>131.549637</td>\n",
       "      <td>54930100.0</td>\n",
       "      <td>AAPL</td>\n",
       "      <td>3</td>\n",
       "    </tr>\n",
       "    <tr>\n",
       "      <th>105600</th>\n",
       "      <td>2020-12-28</td>\n",
       "      <td>133.990005</td>\n",
       "      <td>137.339996</td>\n",
       "      <td>133.509995</td>\n",
       "      <td>136.254608</td>\n",
       "      <td>124486200.0</td>\n",
       "      <td>AAPL</td>\n",
       "      <td>0</td>\n",
       "    </tr>\n",
       "    <tr>\n",
       "      <th>105620</th>\n",
       "      <td>2020-12-29</td>\n",
       "      <td>138.050003</td>\n",
       "      <td>138.789993</td>\n",
       "      <td>134.339996</td>\n",
       "      <td>134.440399</td>\n",
       "      <td>121047300.0</td>\n",
       "      <td>AAPL</td>\n",
       "      <td>1</td>\n",
       "    </tr>\n",
       "    <tr>\n",
       "      <th>105640</th>\n",
       "      <td>2020-12-30</td>\n",
       "      <td>135.580002</td>\n",
       "      <td>135.990005</td>\n",
       "      <td>133.399994</td>\n",
       "      <td>133.294067</td>\n",
       "      <td>96452100.0</td>\n",
       "      <td>AAPL</td>\n",
       "      <td>2</td>\n",
       "    </tr>\n",
       "    <tr>\n",
       "      <th>105660</th>\n",
       "      <td>2020-12-31</td>\n",
       "      <td>134.080002</td>\n",
       "      <td>134.740005</td>\n",
       "      <td>131.720001</td>\n",
       "      <td>132.267349</td>\n",
       "      <td>99116600.0</td>\n",
       "      <td>AAPL</td>\n",
       "      <td>3</td>\n",
       "    </tr>\n",
       "  </tbody>\n",
       "</table>\n",
       "<p>5284 rows × 8 columns</p>\n",
       "</div>"
      ],
      "text/plain": [
       "              date        open        high         low       close  \\\n",
       "0       2000-01-03    0.936384    1.004464    0.907924    0.859423   \n",
       "20      2000-01-04    0.966518    0.987723    0.903460    0.786965   \n",
       "40      2000-01-05    0.926339    0.987165    0.919643    0.798481   \n",
       "60      2000-01-06    0.947545    0.955357    0.848214    0.729382   \n",
       "80      2000-01-07    0.861607    0.901786    0.852679    0.763932   \n",
       "...            ...         ...         ...         ...         ...   \n",
       "105580  2020-12-24  131.320007  133.460007  131.100006  131.549637   \n",
       "105600  2020-12-28  133.990005  137.339996  133.509995  136.254608   \n",
       "105620  2020-12-29  138.050003  138.789993  134.339996  134.440399   \n",
       "105640  2020-12-30  135.580002  135.990005  133.399994  133.294067   \n",
       "105660  2020-12-31  134.080002  134.740005  131.720001  132.267349   \n",
       "\n",
       "             volume   tic  day  \n",
       "0       535796800.0  AAPL    0  \n",
       "20      512377600.0  AAPL    1  \n",
       "40      778321600.0  AAPL    2  \n",
       "60      767972800.0  AAPL    3  \n",
       "80      460734400.0  AAPL    4  \n",
       "...             ...   ...  ...  \n",
       "105580   54930100.0  AAPL    3  \n",
       "105600  124486200.0  AAPL    0  \n",
       "105620  121047300.0  AAPL    1  \n",
       "105640   96452100.0  AAPL    2  \n",
       "105660   99116600.0  AAPL    3  \n",
       "\n",
       "[5284 rows x 8 columns]"
      ]
     },
     "execution_count": 290,
     "metadata": {},
     "output_type": "execute_result"
    }
   ],
   "source": [
    "aapl"
   ]
  },
  {
   "cell_type": "code",
   "execution_count": 291,
   "id": "breathing-philippines",
   "metadata": {},
   "outputs": [
    {
     "data": {
      "text/plain": [
       "Total window size: 61\n",
       "Input indices: [ 0  1  2  3  4  5  6  7  8  9 10 11 12 13 14 15 16 17 18 19 20 21 22 23\n",
       " 24 25 26 27 28 29 30 31 32 33 34 35 36 37 38 39 40 41 42 43 44 45 46 47\n",
       " 48 49 50 51 52 53 54 55 56 57 58 59]\n",
       "Label indices: [60]\n",
       "Label column name(s): None"
      ]
     },
     "execution_count": 291,
     "metadata": {},
     "output_type": "execute_result"
    }
   ],
   "source": [
    "WindowGenerator(aapl, aapl, aapl,input_width=60, label_width=1, shift=1)"
   ]
  },
  {
   "cell_type": "code",
   "execution_count": 292,
   "id": "surprising-appendix",
   "metadata": {},
   "outputs": [],
   "source": [
    "df=aapl"
   ]
  },
  {
   "cell_type": "code",
   "execution_count": 293,
   "id": "mature-alias",
   "metadata": {},
   "outputs": [
    {
     "data": {
      "image/png": "[encoded data removed]",
      "text/plain": [
       "<Figure size 1152x432 with 1 Axes>"
      ]
     },
     "metadata": {
      "needs_background": "light"
     },
     "output_type": "display_data"
    }
   ],
   "source": [
    "plt.figure(figsize=(16,6))\n",
    "plt.title('Close Price History')\n",
    "plt.plot(df['close'])\n",
    "plt.xlabel('date', fontsize=18)\n",
    "plt.ylabel('Close Price USD ($)', fontsize=18)\n",
    "plt.show()"
   ]
  },
  {
   "cell_type": "code",
   "execution_count": 294,
   "id": "happy-thomas",
   "metadata": {},
   "outputs": [],
   "source": [
    "# Create a new dataframe with only the 'Close column \n",
    "data = df.filter(['open','high','low','close','volume'])\n",
    "# Convert the dataframe to a numpy array\n",
    "dataset = data.values\n"
   ]
  },
  {
   "cell_type": "code",
   "execution_count": 295,
   "id": "fitted-grass",
   "metadata": {},
   "outputs": [
    {
     "name": "stdout",
     "output_type": "stream",
     "text": [
      "Training data from 0 to 4845\n"
     ]
    }
   ],
   "source": [
    "# Hyperparameters Define:\n",
    "training_data_ratio = 0.9\n",
    "shift = 1\n",
    "input_width = 90 # per quarter\n",
    "\n",
    "# Get the number of rows to train the model on\n",
    "training_data_len = int(np.ceil( len(dataset) * .9 ))\n",
    "train_idx = training_data_len + input_width - 1\n",
    "print(\"Training data from 0 to {}\".format(train_idx))"
   ]
  },
  {
   "cell_type": "code",
   "execution_count": 296,
   "id": "honest-lender",
   "metadata": {},
   "outputs": [
    {
     "data": {
      "text/plain": [
       "array([[0.20204449, 0.20221986, 0.20203047, 0.20193442, 0.22689984],\n",
       "       [0.20213195, 0.20217153, 0.20201716, 0.20172139, 0.2256309 ],\n",
       "       [0.20201534, 0.20216992, 0.20206542, 0.20175525, 0.24004072],\n",
       "       ...,\n",
       "       [0.6       , 0.6       , 0.6       , 0.59466618, 0.2044272 ],\n",
       "       [0.59283112, 0.59191657, 0.59719638, 0.59129593, 0.20309454],\n",
       "       [0.58847756, 0.58830788, 0.5921857 , 0.58827735, 0.20323891]])"
      ]
     },
     "execution_count": 296,
     "metadata": {},
     "output_type": "execute_result"
    }
   ],
   "source": [
    "# Scale the data\n",
    "from sklearn.preprocessing import MinMaxScaler\n",
    "\n",
    "# reserve the 0.5 range for future stock increase space\n",
    "scaler = MinMaxScaler(feature_range=(0.2,0.6))\n",
    "scaled_data = scaler.fit_transform(dataset)\n",
    "\n",
    "scaled_data"
   ]
  },
  {
   "cell_type": "code",
   "execution_count": 297,
   "id": "severe-cowboy",
   "metadata": {},
   "outputs": [
    {
     "name": "stdout",
     "output_type": "stream",
     "text": [
      "(4756, 90, 1) (4756,) (438, 90, 1) (438,)\n"
     ]
    }
   ],
   "source": [
    "# Create the training data set \n",
    "# Create the scaled training data set\n",
    "# Split the data into x_train and y_train data sets\n",
    "def data_prepare(df, train_i, input_width, shift):\n",
    "    \"\"\"\n",
    "    df: data frame\n",
    "    train_len: training dataset length\n",
    "    input_width: training time series length\n",
    "    shift: offset between x and y\n",
    "    \"\"\"\n",
    "    x_train = []\n",
    "    y_train = []\n",
    "    x_test = []\n",
    "    y_test = []\n",
    "    for i in range(input_width - 1, len(df) - shift):\n",
    "        if i < train_i:\n",
    "            x_train.append(df[i - input_width + 1: i + 1, 0])\n",
    "            y_train.append(df[i + shift, 0])\n",
    "        else:\n",
    "            x_test.append(df[i - input_width + 1: i + 1, 0])\n",
    "            y_test.append(df[i + shift, 0])\n",
    "    \n",
    "    # Convert the x_train and y_train to numpy arrays \n",
    "    x_train, y_train, x_test, y_test = np.array(x_train), np.array(y_train), np.array(x_test), np.array(y_test)\n",
    "\n",
    "    # Reshape the data\n",
    "    x_train = np.reshape(x_train, (x_train.shape[0], x_train.shape[1], 1))\n",
    "\n",
    "    # Reshape the data\n",
    "    x_test = np.reshape(x_test, (x_test.shape[0], x_test.shape[1], 1 ))\n",
    "    print(x_train.shape, y_train.shape, x_test.shape, y_test.shape)\n",
    "    return x_train, y_train, x_test, y_test\n",
    "\n",
    "x_train, y_train, x_test, y_test = data_prepare(scaled_data, train_idx, input_width, shift)"
   ]
  },
  {
   "cell_type": "code",
   "execution_count": 298,
   "id": "superb-thanks",
   "metadata": {},
   "outputs": [],
   "source": [
    "from keras.models import Sequential\n",
    "from keras.layers import Dense, LSTM\n"
   ]
  },
  {
   "cell_type": "code",
   "execution_count": 299,
   "id": "signal-textbook",
   "metadata": {},
   "outputs": [],
   "source": [
    "def compile_and_fit(x_train, y_train, model, batch_size, epochs, optimizer='adam', loss='mean_squared_error'):\n",
    "    if optimizer is None:\n",
    "        optimizer = get_optimizer()\n",
    "    model.compile(\n",
    "        optimizer=optimizer, loss=loss\n",
    "    )\n",
    "    \n",
    "    model.summary()\n",
    "    \n",
    "    history = model.fit(\n",
    "        x_train, y_train, \n",
    "        batch_size=batch_size,\n",
    "        epochs = epochs\n",
    "    )\n",
    "    \n",
    "    return model, history"
   ]
  },
  {
   "cell_type": "code",
   "execution_count": 300,
   "id": "thirty-slave",
   "metadata": {},
   "outputs": [
    {
     "name": "stdout",
     "output_type": "stream",
     "text": [
      "Model: \"sequential_10\"\n",
      "_________________________________________________________________\n",
      "Layer (type)                 Output Shape              Param #   \n",
      "=================================================================\n",
      "lstm_20 (LSTM)               (None, 90, 128)           66560     \n",
      "_________________________________________________________________\n",
      "lstm_21 (LSTM)               (None, 128)               131584    \n",
      "_________________________________________________________________\n",
      "dense_20 (Dense)             (None, 64)                8256      \n",
      "_________________________________________________________________\n",
      "dense_21 (Dense)             (None, 1)                 65        \n",
      "=================================================================\n",
      "Total params: 206,465\n",
      "Trainable params: 206,465\n",
      "Non-trainable params: 0\n",
      "_________________________________________________________________\n",
      "Epoch 1/5\n",
      "149/149 [==============================] - 5s 14ms/step - loss: 8.4980e-06\n",
      "Epoch 2/5\n",
      "149/149 [==============================] - 2s 14ms/step - loss: 1.3216e-06\n",
      "Epoch 3/5\n",
      "149/149 [==============================] - 2s 14ms/step - loss: 1.6850e-06\n",
      "Epoch 4/5\n",
      "149/149 [==============================] - 2s 14ms/step - loss: 1.1390e-06: 0s - \n",
      "Epoch 5/5\n",
      "149/149 [==============================] - 2s 14ms/step - loss: 1.1927e-06\n"
     ]
    }
   ],
   "source": [
    "models = {}\n",
    "histories = {}\n",
    "# Build the LSTM model\n",
    "def build_simple_lstm():\n",
    "    model = Sequential()\n",
    "    model.add(LSTM(128, return_sequences=True, input_shape= (input_width, 1)))\n",
    "    model.add(LSTM(128, return_sequences=False))\n",
    "    model.add(Dense(32))\n",
    "    model.add(Dense(1))\n",
    "    return model\n",
    "models['simple_lstm'] = build_simple_lstm()\n",
    "# # Compile the model\n",
    "# model.compile(optimizer='adam', loss='mean_squared_error')\n",
    "\n",
    "# # Train the model\n",
    "# model.fit(x_train, y_train, batch_size=64, epochs=10)\n",
    "models['simple_lstm'], histories['simple_lstm'] = compile_and_fit(x_train, y_train, model, batch_size=32, epochs=5)"
   ]
  },
  {
   "cell_type": "code",
   "execution_count": 301,
   "id": "compound-resolution",
   "metadata": {},
   "outputs": [
    {
     "name": "stdout",
     "output_type": "stream",
     "text": [
      "{'loss': [3.3759467896743445e-06, 1.3000694707443472e-06, 1.4167231938699842e-06, 1.2047822792737861e-06, 1.3124906672601355e-06]}\n"
     ]
    },
    {
     "data": {
      "image/png": "[encoded data removed]",
      "text/plain": [
       "<Figure size 432x288 with 1 Axes>"
      ]
     },
     "metadata": {
      "needs_background": "light"
     },
     "output_type": "display_data"
    }
   ],
   "source": [
    "import tensorflow_docs as tfdocs\n",
    "import tensorflow_docs.modeling\n",
    "import tensorflow_docs.plots\n",
    "# plotter = tfdocs.plots.HistoryPlotter(smoothing_std=10)\n",
    "# plotter.plot(histories['simple_lstm'])\n",
    "# plt.ylim([0.5, 0.7])\n",
    "plt.plot(histories['simple_lstm'].history['loss'], label='MAE (training data)')\n",
    "print(histories['simple_lstm'].history)"
   ]
  },
  {
   "cell_type": "code",
   "execution_count": 302,
   "id": "processed-syracuse",
   "metadata": {},
   "outputs": [
    {
     "name": "stdout",
     "output_type": "stream",
     "text": [
      "(4756, 90, 1) (4756,) (438, 90, 1) (438,)\n"
     ]
    }
   ],
   "source": [
    "print(x_train.shape, y_train.shape, x_test.shape, y_test.shape)"
   ]
  },
  {
   "cell_type": "code",
   "execution_count": 303,
   "id": "retained-intermediate",
   "metadata": {},
   "outputs": [
    {
     "name": "stdout",
     "output_type": "stream",
     "text": [
      "(4756, 1)\n",
      "0.05909097561961517\n"
     ]
    },
    {
     "ename": "ValueError",
     "evalue": "non-broadcastable output operand with shape (4756,1) doesn't match the broadcast shape (4756,5)",
     "output_type": "error",
     "traceback": [
      "\u001b[1;31m---------------------------------------------------------------------------\u001b[0m",
      "\u001b[1;31mValueError\u001b[0m                                Traceback (most recent call last)",
      "\u001b[1;32m<ipython-input-303-69cb2cef202f>\u001b[0m in \u001b[0;36m<module>\u001b[1;34m\u001b[0m\n\u001b[0;32m      5\u001b[0m \u001b[0mrmse\u001b[0m \u001b[1;33m=\u001b[0m \u001b[0mnp\u001b[0m\u001b[1;33m.\u001b[0m\u001b[0msqrt\u001b[0m\u001b[1;33m(\u001b[0m\u001b[0mnp\u001b[0m\u001b[1;33m.\u001b[0m\u001b[0mmean\u001b[0m\u001b[1;33m(\u001b[0m\u001b[1;33m(\u001b[0m\u001b[1;33m(\u001b[0m\u001b[0my_train_predict\u001b[0m \u001b[1;33m-\u001b[0m \u001b[0my_train\u001b[0m\u001b[1;33m)\u001b[0m \u001b[1;33m**\u001b[0m \u001b[1;36m2\u001b[0m\u001b[1;33m)\u001b[0m\u001b[1;33m)\u001b[0m\u001b[1;33m)\u001b[0m\u001b[1;33m\u001b[0m\u001b[1;33m\u001b[0m\u001b[0m\n\u001b[0;32m      6\u001b[0m \u001b[0mprint\u001b[0m\u001b[1;33m(\u001b[0m\u001b[0mrmse\u001b[0m\u001b[1;33m)\u001b[0m\u001b[1;33m\u001b[0m\u001b[1;33m\u001b[0m\u001b[0m\n\u001b[1;32m----> 7\u001b[1;33m \u001b[0mtrain_predict\u001b[0m \u001b[1;33m=\u001b[0m \u001b[0mscaler\u001b[0m\u001b[1;33m.\u001b[0m\u001b[0minverse_transform\u001b[0m\u001b[1;33m(\u001b[0m\u001b[0my_train_predict\u001b[0m\u001b[1;33m)\u001b[0m\u001b[1;33m\u001b[0m\u001b[1;33m\u001b[0m\u001b[0m\n\u001b[0m\u001b[0;32m      8\u001b[0m \u001b[0mtrain_val\u001b[0m \u001b[1;33m=\u001b[0m \u001b[0mscaler\u001b[0m\u001b[1;33m.\u001b[0m\u001b[0minverse_transform\u001b[0m\u001b[1;33m(\u001b[0m\u001b[0mnp\u001b[0m\u001b[1;33m.\u001b[0m\u001b[0mreshape\u001b[0m\u001b[1;33m(\u001b[0m\u001b[0my_train\u001b[0m\u001b[1;33m,\u001b[0m \u001b[1;33m(\u001b[0m\u001b[0my_train\u001b[0m\u001b[1;33m.\u001b[0m\u001b[0mshape\u001b[0m\u001b[1;33m[\u001b[0m\u001b[1;36m0\u001b[0m\u001b[1;33m]\u001b[0m\u001b[1;33m,\u001b[0m \u001b[1;36m1\u001b[0m\u001b[1;33m)\u001b[0m\u001b[1;33m)\u001b[0m\u001b[1;33m)\u001b[0m\u001b[1;33m[\u001b[0m\u001b[1;33m:\u001b[0m\u001b[1;33m,\u001b[0m \u001b[1;36m0\u001b[0m\u001b[1;33m]\u001b[0m\u001b[1;33m\u001b[0m\u001b[1;33m\u001b[0m\u001b[0m\n\u001b[0;32m      9\u001b[0m \u001b[0mprint\u001b[0m\u001b[1;33m(\u001b[0m\u001b[0mtrain_predict\u001b[0m\u001b[1;33m.\u001b[0m\u001b[0mshape\u001b[0m\u001b[1;33m)\u001b[0m\u001b[1;33m\u001b[0m\u001b[1;33m\u001b[0m\u001b[0m\n",
      "\u001b[1;32mD:\\InstalledSoftware\\anaconda3\\envs\\py37-python-notebook\\lib\\site-packages\\sklearn\\preprocessing\\_data.py\u001b[0m in \u001b[0;36minverse_transform\u001b[1;34m(self, X)\u001b[0m\n\u001b[0;32m    459\u001b[0m                         force_all_finite=\"allow-nan\")\n\u001b[0;32m    460\u001b[0m \u001b[1;33m\u001b[0m\u001b[0m\n\u001b[1;32m--> 461\u001b[1;33m         \u001b[0mX\u001b[0m \u001b[1;33m-=\u001b[0m \u001b[0mself\u001b[0m\u001b[1;33m.\u001b[0m\u001b[0mmin_\u001b[0m\u001b[1;33m\u001b[0m\u001b[1;33m\u001b[0m\u001b[0m\n\u001b[0m\u001b[0;32m    462\u001b[0m         \u001b[0mX\u001b[0m \u001b[1;33m/=\u001b[0m \u001b[0mself\u001b[0m\u001b[1;33m.\u001b[0m\u001b[0mscale_\u001b[0m\u001b[1;33m\u001b[0m\u001b[1;33m\u001b[0m\u001b[0m\n\u001b[0;32m    463\u001b[0m         \u001b[1;32mreturn\u001b[0m \u001b[0mX\u001b[0m\u001b[1;33m\u001b[0m\u001b[1;33m\u001b[0m\u001b[0m\n",
      "\u001b[1;31mValueError\u001b[0m: non-broadcastable output operand with shape (4756,1) doesn't match the broadcast shape (4756,5)"
     ]
    }
   ],
   "source": [
    "# Get the models predicted price values \n",
    "y_train_predict = model.predict(x_train)\n",
    "print(y_train_predict.shape)\n",
    "# Get the root mean squared error (RMSE)\n",
    "rmse = np.sqrt(np.mean(((y_train_predict - y_train) ** 2)))\n",
    "print(rmse)\n",
    "train_predict = scaler.inverse_transform(y_train_predict)\n",
    "train_val = scaler.inverse_transform(np.reshape(y_train, (y_train.shape[0], 1)))[:, 0]\n",
    "print(train_predict.shape)"
   ]
  },
  {
   "cell_type": "code",
   "execution_count": null,
   "id": "neutral-sitting",
   "metadata": {},
   "outputs": [],
   "source": [
    "# Get the models predicted price values \n",
    "y_test_predict = model.predict(x_test)\n",
    "print(y_test_predict.shape)\n",
    "# Get the root mean squared error (RMSE)\n",
    "rmse = np.sqrt(np.mean(((y_test_predict - y_test) ** 2)))\n",
    "print(rmse)\n",
    "test_predict = scaler.inverse_transform(y_test_predict)\n",
    "test_val = scaler.inverse_transform(np.reshape(y_test, (y_test.shape[0], 1)))[:, 0]\n",
    "print(test_predict.shape)"
   ]
  },
  {
   "cell_type": "code",
   "execution_count": null,
   "id": "infrared-premises",
   "metadata": {},
   "outputs": [],
   "source": [
    "train = data[input_width + shift - 1 : len(y_train) + input_width + shift - 1]\n",
    "train['predict']=train_predict\n",
    "train['val']=train_val\n",
    "valid = data[len(y_train) + input_width + shift - 1 :]\n",
    "valid['predict'] = test_predict\n",
    "valid['val']=test_val"
   ]
  },
  {
   "cell_type": "code",
   "execution_count": 246,
   "id": "cross-removal",
   "metadata": {},
   "outputs": [
    {
     "data": {
      "image/png": "[encoded data removed]",
      "text/plain": [
       "<Figure size 1152x432 with 1 Axes>"
      ]
     },
     "metadata": {
      "needs_background": "light"
     },
     "output_type": "display_data"
    }
   ],
   "source": [
    "# Visualize the data\n",
    "plt.figure(figsize=(16,6))\n",
    "plt.title('Model')\n",
    "plt.xlabel('Date', fontsize=18)\n",
    "plt.ylabel('Close Price USD ($)', fontsize=18)\n",
    "plt.plot(train[['val','predict']])\n",
    "plt.plot(valid[['val','predict']])\n",
    "plt.legend(['Train', 'Train_Predict' 'Test', 'Test_Predict'], loc='lower right')\n",
    "plt.show()"
   ]
  },
  {
   "cell_type": "code",
   "execution_count": null,
   "id": "alone-vatican",
   "metadata": {},
   "outputs": [],
   "source": [
    "# Show the valid and predicted prices\n",
    "valid"
   ]
  },
  {
   "cell_type": "code",
   "execution_count": 255,
   "id": "dedicated-forest",
   "metadata": {},
   "outputs": [
    {
     "data": {
      "text/html": [
       "<div>\n",
       "<style scoped>\n",
       "    .dataframe tbody tr th:only-of-type {\n",
       "        vertical-align: middle;\n",
       "    }\n",
       "\n",
       "    .dataframe tbody tr th {\n",
       "        vertical-align: top;\n",
       "    }\n",
       "\n",
       "    .dataframe thead th {\n",
       "        text-align: right;\n",
       "    }\n",
       "</style>\n",
       "<table border=\"1\" class=\"dataframe\">\n",
       "  <thead>\n",
       "    <tr style=\"text-align: right;\">\n",
       "      <th></th>\n",
       "      <th>date</th>\n",
       "      <th>open</th>\n",
       "      <th>high</th>\n",
       "      <th>low</th>\n",
       "      <th>close</th>\n",
       "      <th>volume</th>\n",
       "      <th>tic</th>\n",
       "      <th>day</th>\n",
       "    </tr>\n",
       "  </thead>\n",
       "  <tbody>\n",
       "    <tr>\n",
       "      <th>0</th>\n",
       "      <td>2000-01-03</td>\n",
       "      <td>0.936384</td>\n",
       "      <td>1.004464</td>\n",
       "      <td>0.907924</td>\n",
       "      <td>0.859423</td>\n",
       "      <td>535796800.0</td>\n",
       "      <td>AAPL</td>\n",
       "      <td>0</td>\n",
       "    </tr>\n",
       "    <tr>\n",
       "      <th>20</th>\n",
       "      <td>2000-01-04</td>\n",
       "      <td>0.966518</td>\n",
       "      <td>0.987723</td>\n",
       "      <td>0.903460</td>\n",
       "      <td>0.786965</td>\n",
       "      <td>512377600.0</td>\n",
       "      <td>AAPL</td>\n",
       "      <td>1</td>\n",
       "    </tr>\n",
       "    <tr>\n",
       "      <th>40</th>\n",
       "      <td>2000-01-05</td>\n",
       "      <td>0.926339</td>\n",
       "      <td>0.987165</td>\n",
       "      <td>0.919643</td>\n",
       "      <td>0.798481</td>\n",
       "      <td>778321600.0</td>\n",
       "      <td>AAPL</td>\n",
       "      <td>2</td>\n",
       "    </tr>\n",
       "    <tr>\n",
       "      <th>60</th>\n",
       "      <td>2000-01-06</td>\n",
       "      <td>0.947545</td>\n",
       "      <td>0.955357</td>\n",
       "      <td>0.848214</td>\n",
       "      <td>0.729382</td>\n",
       "      <td>767972800.0</td>\n",
       "      <td>AAPL</td>\n",
       "      <td>3</td>\n",
       "    </tr>\n",
       "    <tr>\n",
       "      <th>80</th>\n",
       "      <td>2000-01-07</td>\n",
       "      <td>0.861607</td>\n",
       "      <td>0.901786</td>\n",
       "      <td>0.852679</td>\n",
       "      <td>0.763932</td>\n",
       "      <td>460734400.0</td>\n",
       "      <td>AAPL</td>\n",
       "      <td>4</td>\n",
       "    </tr>\n",
       "    <tr>\n",
       "      <th>...</th>\n",
       "      <td>...</td>\n",
       "      <td>...</td>\n",
       "      <td>...</td>\n",
       "      <td>...</td>\n",
       "      <td>...</td>\n",
       "      <td>...</td>\n",
       "      <td>...</td>\n",
       "      <td>...</td>\n",
       "    </tr>\n",
       "    <tr>\n",
       "      <th>105580</th>\n",
       "      <td>2020-12-24</td>\n",
       "      <td>131.320007</td>\n",
       "      <td>133.460007</td>\n",
       "      <td>131.100006</td>\n",
       "      <td>131.549637</td>\n",
       "      <td>54930100.0</td>\n",
       "      <td>AAPL</td>\n",
       "      <td>3</td>\n",
       "    </tr>\n",
       "    <tr>\n",
       "      <th>105600</th>\n",
       "      <td>2020-12-28</td>\n",
       "      <td>133.990005</td>\n",
       "      <td>137.339996</td>\n",
       "      <td>133.509995</td>\n",
       "      <td>136.254608</td>\n",
       "      <td>124486200.0</td>\n",
       "      <td>AAPL</td>\n",
       "      <td>0</td>\n",
       "    </tr>\n",
       "    <tr>\n",
       "      <th>105620</th>\n",
       "      <td>2020-12-29</td>\n",
       "      <td>138.050003</td>\n",
       "      <td>138.789993</td>\n",
       "      <td>134.339996</td>\n",
       "      <td>134.440399</td>\n",
       "      <td>121047300.0</td>\n",
       "      <td>AAPL</td>\n",
       "      <td>1</td>\n",
       "    </tr>\n",
       "    <tr>\n",
       "      <th>105640</th>\n",
       "      <td>2020-12-30</td>\n",
       "      <td>135.580002</td>\n",
       "      <td>135.990005</td>\n",
       "      <td>133.399994</td>\n",
       "      <td>133.294067</td>\n",
       "      <td>96452100.0</td>\n",
       "      <td>AAPL</td>\n",
       "      <td>2</td>\n",
       "    </tr>\n",
       "    <tr>\n",
       "      <th>105660</th>\n",
       "      <td>2020-12-31</td>\n",
       "      <td>134.080002</td>\n",
       "      <td>134.740005</td>\n",
       "      <td>131.720001</td>\n",
       "      <td>132.267349</td>\n",
       "      <td>99116600.0</td>\n",
       "      <td>AAPL</td>\n",
       "      <td>3</td>\n",
       "    </tr>\n",
       "  </tbody>\n",
       "</table>\n",
       "<p>5284 rows × 8 columns</p>\n",
       "</div>"
      ],
      "text/plain": [
       "              date        open        high         low       close  \\\n",
       "0       2000-01-03    0.936384    1.004464    0.907924    0.859423   \n",
       "20      2000-01-04    0.966518    0.987723    0.903460    0.786965   \n",
       "40      2000-01-05    0.926339    0.987165    0.919643    0.798481   \n",
       "60      2000-01-06    0.947545    0.955357    0.848214    0.729382   \n",
       "80      2000-01-07    0.861607    0.901786    0.852679    0.763932   \n",
       "...            ...         ...         ...         ...         ...   \n",
       "105580  2020-12-24  131.320007  133.460007  131.100006  131.549637   \n",
       "105600  2020-12-28  133.990005  137.339996  133.509995  136.254608   \n",
       "105620  2020-12-29  138.050003  138.789993  134.339996  134.440399   \n",
       "105640  2020-12-30  135.580002  135.990005  133.399994  133.294067   \n",
       "105660  2020-12-31  134.080002  134.740005  131.720001  132.267349   \n",
       "\n",
       "             volume   tic  day  \n",
       "0       535796800.0  AAPL    0  \n",
       "20      512377600.0  AAPL    1  \n",
       "40      778321600.0  AAPL    2  \n",
       "60      767972800.0  AAPL    3  \n",
       "80      460734400.0  AAPL    4  \n",
       "...             ...   ...  ...  \n",
       "105580   54930100.0  AAPL    3  \n",
       "105600  124486200.0  AAPL    0  \n",
       "105620  121047300.0  AAPL    1  \n",
       "105640   96452100.0  AAPL    2  \n",
       "105660   99116600.0  AAPL    3  \n",
       "\n",
       "[5284 rows x 8 columns]"
      ]
     },
     "execution_count": 255,
     "metadata": {},
     "output_type": "execute_result"
    }
   ],
   "source": [
    "aapl"
   ]
  },
  {
   "cell_type": "markdown",
   "id": "wrapped-single",
   "metadata": {},
   "source": [
    "predict target 2019-2021 2 years\n",
    "predict_ds train_ds\n",
    "2019-01    2000-2018-12\n",
    "2019-02    2000-2019-01\n",
    "2019-03    2000-2019-02\n",
    "2019-04    2000-2019-03\n",
    "\n",
    "\n",
    "input: ds, model, predict_time_period\n",
    "\n",
    "logic: how to choose suitable train_dataset\n",
    "\n",
    "output: predict_output\n"
   ]
  },
  {
   "cell_type": "code",
   "execution_count": 266,
   "id": "challenging-diamond",
   "metadata": {},
   "outputs": [],
   "source": [
    "import tensorflow as tf"
   ]
  },
  {
   "cell_type": "code",
   "execution_count": 267,
   "id": "positive-lottery",
   "metadata": {},
   "outputs": [],
   "source": [
    "class NewGen:\n",
    "    \"\"\"\n",
    "    train_df\n",
    "    input_width: the length of time series input\n",
    "    label_width: the\n",
    "\n",
    "    \"\"\"\n",
    "    \n",
    "    def __init__(self, train_df, test_df,\n",
    "                 input_width, label_width, shift,\n",
    "                 label_columns=None):\n",
    "        # Store the raw data.\n",
    "        self.train_df = train_df\n",
    "        self.test_df = test_df\n",
    "\n",
    "        # Work out the label column indices.\n",
    "        self.label_columns = label_columns\n",
    "        if label_columns is not None:\n",
    "            self.label_columns_indices = {name: i for i, name in\n",
    "                                          enumerate(label_columns)}\n",
    "        self.column_indices = {name: i for i, name in\n",
    "                           enumerate(train_df.columns)}\n",
    "\n",
    "        # Work out the window parameters.\n",
    "        self.input_width = input_width\n",
    "        self.label_width = label_width\n",
    "        self.shift = shift\n",
    "\n",
    "        self.total_window_size = input_width + shift\n",
    "\n",
    "        self.input_slice = slice(0, input_width)\n",
    "        self.input_indices = np.arange(self.total_window_size)[self.input_slice]\n",
    "\n",
    "        self.label_start = self.total_window_size - self.label_width\n",
    "        self.labels_slice = slice(self.label_start, None)\n",
    "        self.label_indices = np.arange(self.total_window_size)[self.labels_slice]\n",
    "\n",
    "    def __repr__(self):\n",
    "        return '\\n'.join([\n",
    "            f'Total window size: {self.total_window_size}',\n",
    "            f'Input indices: {self.input_indices}',\n",
    "            f'Label indices: {self.label_indices}',\n",
    "            f'Label column name(s): {self.label_columns}'])\n",
    "\n",
    "    def split_window(self, features):\n",
    "        inputs = features[:, self.input_slice, :]\n",
    "        labels = features[:, self.labels_slice, :]\n",
    "        if self.label_columns is not None:\n",
    "            labels = tf.stack(\n",
    "                [labels[:, :, self.column_indices[name]] for name in self.label_columns],\n",
    "                axis=-1)\n",
    "\n",
    "        # Slicing doesn't preserve static shape information, so set the shapes\n",
    "        # manually. This way the `tf.data.Datasets` are easier to inspect.\n",
    "        inputs.set_shape([None, self.input_width, None])\n",
    "        labels.set_shape([None, self.label_width, None])\n",
    "\n",
    "        return inputs, labels\n",
    "\n",
    "    def plot(self, model=None, plot_col='T (degC)', max_subplots=3):\n",
    "        inputs, labels = self.example\n",
    "        plt.figure(figsize=(12, 8))\n",
    "        plot_col_index = self.column_indices[plot_col]\n",
    "        max_n = min(max_subplots, len(inputs))\n",
    "        for n in range(max_n):\n",
    "            plt.subplot(max_n, 1, n + 1)\n",
    "            plt.ylabel(f'{plot_col} [normed]')\n",
    "            plt.plot(self.input_indices, inputs[n, :, plot_col_index],\n",
    "                     label='Inputs', marker='.', zorder=-10)\n",
    "\n",
    "            if self.label_columns:\n",
    "                label_col_index = self.label_columns_indices.get(plot_col, None)\n",
    "            else:\n",
    "                label_col_index = plot_col_index\n",
    "\n",
    "            if label_col_index is None:\n",
    "                continue\n",
    "\n",
    "            plt.scatter(self.label_indices, labels[n, :, label_col_index],\n",
    "                        edgecolors='k', label='Labels', c='#2ca02c', s=64)\n",
    "            if model is not None:\n",
    "                predictions = model(inputs)\n",
    "                plt.scatter(self.label_indices, predictions[n, :, label_col_index],\n",
    "                            marker='X', edgecolors='k', label='Predictions',\n",
    "                            c='#ff7f0e', s=64)\n",
    "\n",
    "            if n == 0:\n",
    "                plt.legend()\n",
    "\n",
    "        plt.xlabel('Time [h]')\n",
    "\n",
    "    def make_dataset(self, data):\n",
    "        data = np.array(data, dtype=np.float32)\n",
    "        ds = tf.keras.preprocessing.timeseries_dataset_from_array(\n",
    "            data=data,\n",
    "            targets=None,\n",
    "            sequence_length=self.total_window_size,\n",
    "            sequence_stride=1,\n",
    "            shuffle=False,\n",
    "            batch_size=32, )\n",
    "\n",
    "        ds = ds.map(self.split_window)\n",
    "\n",
    "        return ds\n",
    "\n",
    "    @property\n",
    "    def train(self):\n",
    "        return self.make_dataset(self.train_df)\n",
    "\n",
    "    @property\n",
    "    def test(self):\n",
    "        return self.make_dataset(self.test_df)\n",
    "\n",
    "    @property\n",
    "    def example(self):\n",
    "        \"\"\"Get and cache an example batch of `inputs, labels` for plotting.\"\"\"\n",
    "        result = getattr(self, '_example', None)\n",
    "        if result is None:\n",
    "            # No example batch was found, so get one from the `.train` dataset\n",
    "            result = next(iter(self.train))\n",
    "            # And cache it for next time\n",
    "            self._example = result\n",
    "        return result"
   ]
  },
  {
   "cell_type": "code",
   "execution_count": 268,
   "id": "comparable-dragon",
   "metadata": {},
   "outputs": [],
   "source": [
    "data\n",
    "n=len(data)\n",
    "w1 = NewGen(data[0:int(n*0.7)], data[int(n*0.7):], 30, 1, 1, ['close'])"
   ]
  },
  {
   "cell_type": "code",
   "execution_count": 269,
   "id": "special-passion",
   "metadata": {},
   "outputs": [
    {
     "name": "stdout",
     "output_type": "stream",
     "text": [
      "WARNING:tensorflow:AutoGraph could not transform <bound method NewGen.split_window of Total window size: 31\n",
      "Input indices: [ 0  1  2  3  4  5  6  7  8  9 10 11 12 13 14 15 16 17 18 19 20 21 22 23\n",
      " 24 25 26 27 28 29]\n",
      "Label indices: [30]\n",
      "Label column name(s): ['close']> and will run it as-is.\n",
      "Please report this to the TensorFlow team. When filing the bug, set the verbosity to 10 (on Linux, `export AUTOGRAPH_VERBOSITY=10`) and attach the full output.\n",
      "Cause: module 'gast' has no attribute 'Index'\n",
      "To silence this warning, decorate the function with @tf.autograph.experimental.do_not_convert\n",
      "WARNING: AutoGraph could not transform <bound method NewGen.split_window of Total window size: 31\n",
      "Input indices: [ 0  1  2  3  4  5  6  7  8  9 10 11 12 13 14 15 16 17 18 19 20 21 22 23\n",
      " 24 25 26 27 28 29]\n",
      "Label indices: [30]\n",
      "Label column name(s): ['close']> and will run it as-is.\n",
      "Please report this to the TensorFlow team. When filing the bug, set the verbosity to 10 (on Linux, `export AUTOGRAPH_VERBOSITY=10`) and attach the full output.\n",
      "Cause: module 'gast' has no attribute 'Index'\n",
      "To silence this warning, decorate the function with @tf.autograph.experimental.do_not_convert\n"
     ]
    },
    {
     "data": {
      "text/plain": [
       "<MapDataset shapes: ((None, 30, 5), (None, 1, 1)), types: (tf.float32, tf.float32)>"
      ]
     },
     "execution_count": 269,
     "metadata": {},
     "output_type": "execute_result"
    }
   ],
   "source": [
    "w1.train"
   ]
  },
  {
   "cell_type": "code",
   "execution_count": 270,
   "id": "downtown-execution",
   "metadata": {},
   "outputs": [
    {
     "name": "stdout",
     "output_type": "stream",
     "text": [
      "Inputs shape (batch, time, features): (32, 30, 5)\n",
      "Labels shape (batch, time, features): (32, 1, 1)\n"
     ]
    }
   ],
   "source": [
    "for example_inputs, example_labels in w1.train.take(1):\n",
    "  print(f'Inputs shape (batch, time, features): {example_inputs.shape}')\n",
    "  print(f'Labels shape (batch, time, features): {example_labels.shape}')"
   ]
  },
  {
   "cell_type": "code",
   "execution_count": null,
   "id": "blessed-olive",
   "metadata": {},
   "outputs": [],
   "source": []
  },
  {
   "cell_type": "code",
   "execution_count": null,
   "id": "operating-guarantee",
   "metadata": {},
   "outputs": [],
   "source": []
  },
  {
   "cell_type": "code",
   "execution_count": null,
   "id": "ongoing-gateway",
   "metadata": {},
   "outputs": [],
   "source": []
  },
  {
   "cell_type": "code",
   "execution_count": null,
   "id": "asian-marina",
   "metadata": {},
   "outputs": [],
   "source": []
  },
  {
   "cell_type": "code",
   "execution_count": null,
   "id": "empirical-semester",
   "metadata": {},
   "outputs": [],
   "source": []
  }
 ],
 "metadata": {
  "kernelspec": {
   "display_name": "Python 3",
   "language": "python",
   "name": "python3"
  },
  "language_info": {
   "codemirror_mode": {
    "name": "ipython",
    "version": 3
   },
   "file_extension": ".py",
   "mimetype": "text/x-python",
   "name": "python",
   "nbconvert_exporter": "python",
   "pygments_lexer": "ipython3",
   "version": "3.8.8"
  }
 },
 "nbformat": 4,
 "nbformat_minor": 5
}
