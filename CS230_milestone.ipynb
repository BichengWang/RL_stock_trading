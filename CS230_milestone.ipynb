{
 "cells": [
  {
   "cell_type": "markdown",
   "id": "incoming-sequence",
   "metadata": {},
   "source": [
    "# Deep Reinforcement Learning on Stock Trading (CS230 Milestone)"
   ]
  },
  {
   "cell_type": "markdown",
   "id": "minus-camel",
   "metadata": {},
   "source": [
    "ZZ\n",
    "## Metadata\n",
    "author: Bicheng Wang, Xinyi Zhang   \n",
    "email:\n"
   ]
  },
  {
   "cell_type": "markdown",
   "id": "scientific-trauma",
   "metadata": {},
   "source": [
    "## Dataset"
   ]
  },
  {
   "cell_type": "markdown",
   "id": "interesting-packing",
   "metadata": {},
   "source": [
    "We choose basic market data of top 20 sp companies (exclude companies ipo after 2000) from 2000 to 2021."
   ]
  },
  {
   "cell_type": "code",
   "execution_count": null,
   "id": "historic-seafood",
   "metadata": {},
   "outputs": [],
   "source": []
  }
 ],
 "metadata": {
  "kernelspec": {
   "display_name": "Python 3",
   "language": "python",
   "name": "python3"
  },
  "language_info": {
   "codemirror_mode": {
    "name": "ipython",
    "version": 3
   },
   "file_extension": ".py",
   "mimetype": "text/x-python",
   "name": "python",
   "nbconvert_exporter": "python",
   "pygments_lexer": "ipython3",
   "version": "3.8.8"
  }
 },
 "nbformat": 4,
 "nbformat_minor": 5
}
