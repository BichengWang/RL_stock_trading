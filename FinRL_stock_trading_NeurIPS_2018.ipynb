{
 "cells": [
  {
   "cell_type": "markdown",
   "metadata": {
    "colab_type": "text",
    "id": "view-in-github"
   },
   "source": [
    "<a href=\"https://colab.research.google.com/github/AI4Finance-LLC/FinRL-Library/blob/master/FinRL_stock_trading_NeurIPS_2018.ipynb\" target=\"_parent\"><img src=\"https://colab.research.google.com/assets/colab-badge.svg\" alt=\"Open In Colab\"/></a>"
   ]
  },
  {
   "cell_type": "markdown",
   "metadata": {
    "id": "gXaoZs2lh1hi"
   },
   "source": [
    "# Deep Reinforcement Learning for Stock Trading from Scratch: Multiple Stock Trading\n",
    "\n",
    "Tutorials to use OpenAI DRL to trade multiple stocks in one Jupyter Notebook | Presented at NeurIPS 2020: Deep RL Workshop\n",
    "\n",
    "* This blog uses FinRL to reproduce the paper: Practical Deep Reinforcement Learning Approach for Stock Trading, Workshop on Challenges and Opportunities for AI in Financial Services, NeurIPS 2018.\n",
    "* Check out medium blog for detailed explanations: https://towardsdatascience.com/finrl-for-quantitative-finance-tutorial-for-multiple-stock-trading-7b00763b7530\n",
    "* Please report any issues to our Github: https://github.com/AI4Finance-LLC/FinRL-Library/issues\n",
    "* **Pytorch Version** \n",
    "\n"
   ]
  },
  {
   "cell_type": "markdown",
   "metadata": {
    "id": "lGunVt8oLCVS"
   },
   "source": [
    "# Content"
   ]
  },
  {
   "cell_type": "markdown",
   "metadata": {
    "id": "HOzAKQ-SLGX6"
   },
   "source": [
    "* [1. Problem Definition](#0)\n",
    "* [2. Getting Started - Load Python packages](#1)\n",
    "    * [2.1. Install Packages](#1.1)    \n",
    "    * [2.2. Check Additional Packages](#1.2)\n",
    "    * [2.3. Import Packages](#1.3)\n",
    "    * [2.4. Create Folders](#1.4)\n",
    "* [3. Download Data](#2)\n",
    "* [4. Preprocess Data](#3)        \n",
    "    * [4.1. Technical Indicators](#3.1)\n",
    "    * [4.2. Perform Feature Engineering](#3.2)\n",
    "* [5.Build Environment](#4)  \n",
    "    * [5.1. Training & Trade Data Split](#4.1)\n",
    "    * [5.2. User-defined Environment](#4.2)   \n",
    "    * [5.3. Initialize Environment](#4.3)    \n",
    "* [6.Implement DRL Algorithms](#5)  \n",
    "* [7.Backtesting Performance](#6)  \n",
    "    * [7.1. BackTestStats](#6.1)\n",
    "    * [7.2. BackTestPlot](#6.2)   \n",
    "    * [7.3. Baseline Stats](#6.3)   \n",
    "    * [7.3. Compare to Stock Market Index](#6.4)             "
   ]
  },
  {
   "cell_type": "markdown",
   "metadata": {
    "id": "sApkDlD9LIZv"
   },
   "source": [
    "<a id='0'></a>\n",
    "# Part 1. Problem Definition"
   ]
  },
  {
   "cell_type": "markdown",
   "metadata": {
    "id": "HjLD2TZSLKZ-"
   },
   "source": [
    "This problem is to design an automated trading solution for single stock trading. We model the stock trading process as a Markov Decision Process (MDP). We then formulate our trading goal as a maximization problem.\n",
    "\n",
    "The algorithm is trained using Deep Reinforcement Learning (DRL) algorithms and the components of the reinforcement learning environment are:\n",
    "\n",
    "\n",
    "* Action: The action space describes the allowed actions that the agent interacts with the\n",
    "environment. Normally, a ∈ A includes three actions: a ∈ {−1, 0, 1}, where −1, 0, 1 represent\n",
    "selling, holding, and buying one stock. Also, an action can be carried upon multiple shares. We use\n",
    "an action space {−k, ..., −1, 0, 1, ..., k}, where k denotes the number of shares. For example, \"Buy\n",
    "10 shares of AAPL\" or \"Sell 10 shares of AAPL\" are 10 or −10, respectively\n",
    "\n",
    "* Reward function: r(s, a, s′) is the incentive mechanism for an agent to learn a better action. The change of the portfolio value when action a is taken at state s and arriving at new state s',  i.e., r(s, a, s′) = v′ − v, where v′ and v represent the portfolio\n",
    "values at state s′ and s, respectively\n",
    "\n",
    "* State: The state space describes the observations that the agent receives from the environment. Just as a human trader needs to analyze various information before executing a trade, so\n",
    "our trading agent observes many different features to better learn in an interactive environment.\n",
    "\n",
    "* Environment: Dow 30 consituents\n",
    "\n",
    "\n",
    "The data of the single stock that we will be using for this case study is obtained from Yahoo Finance API. The data contains Open-High-Low-Close price and volume.\n"
   ]
  },
  {
   "cell_type": "markdown",
   "metadata": {
    "id": "Ffsre789LY08"
   },
   "source": [
    "<a id='1'></a>\n",
    "# Part 2. Getting Started- Load Python Packages"
   ]
  },
  {
   "cell_type": "markdown",
   "metadata": {
    "id": "Uy5_PTmOh1hj"
   },
   "source": [
    "<a id='1.1'></a>\n",
    "## 2.1. Install all the packages through FinRL library\n"
   ]
  },
  {
   "cell_type": "code",
   "execution_count": 1,
   "metadata": {
    "colab": {
     "base_uri": "https://localhost:8080/"
    },
    "id": "mPT0ipYE28wL",
    "outputId": "4a130fa7-6727-4a17-89ba-855191887f81"
   },
   "outputs": [
    {
     "name": "stdout",
     "output_type": "stream",
     "text": [
      "Collecting git+https://github.com/AI4Finance-LLC/FinRL-Library.git"
     ]
    },
    {
     "name": "stderr",
     "output_type": "stream",
     "text": [
      "  Running command git clone -q https://github.com/AI4Finance-LLC/FinRL-Library.git 'C:\\Users\\User\\AppData\\Local\\Temp\\pip-req-build-mwwbxx1r'\n",
      "  Running command git clone -q https://github.com/quantopian/pyfolio.git 'C:\\Users\\User\\AppData\\Local\\Temp\\pip-install-nv2ypccs\\pyfolio_ad819aacd1a04de490a11f0bc98583c8'\n",
      "ERROR: Could not install packages due to an OSError: [WinError 5] 拒绝访问。: 'D:\\\\InstalledSoftware\\\\anaconda3\\\\envs\\\\python-notebook\\\\Lib\\\\site-packages\\\\cv2\\\\cv2.cp38-win_amd64.pyd'\n",
      "Consider using the `--user` option or check the permissions.\n",
      "\n"
     ]
    },
    {
     "name": "stdout",
     "output_type": "stream",
     "text": [
      "\n",
      "  Cloning https://github.com/AI4Finance-LLC/FinRL-Library.git to c:\\users\\user\\appdata\\local\\temp\\pip-req-build-mwwbxx1r\n",
      "Collecting pyfolio@ git+https://github.com/quantopian/pyfolio.git#egg=pyfolio-0.9.2\n",
      "  Cloning https://github.com/quantopian/pyfolio.git to c:\\users\\user\\appdata\\local\\temp\\pip-install-nv2ypccs\\pyfolio_ad819aacd1a04de490a11f0bc98583c8\n",
      "Requirement already satisfied: numpy in c:\\users\\user\\appdata\\roaming\\python\\python38\\site-packages (from finrl==0.3.0) (1.19.4)\n",
      "Requirement already satisfied: pandas>=1.1.5 in d:\\installedsoftware\\anaconda3\\envs\\python-notebook\\lib\\site-packages (from finrl==0.3.0) (1.2.0)\n",
      "Collecting stockstats\n",
      "  Using cached stockstats-0.3.2-py2.py3-none-any.whl (13 kB)\n",
      "Collecting yfinance\n",
      "  Using cached yfinance-0.1.59.tar.gz (25 kB)\n",
      "Requirement already satisfied: matplotlib in c:\\users\\user\\appdata\\roaming\\python\\python38\\site-packages (from finrl==0.3.0) (3.3.3)\n",
      "Requirement already satisfied: scikit-learn>=0.21.0 in d:\\installedsoftware\\anaconda3\\envs\\python-notebook\\lib\\site-packages (from finrl==0.3.0) (0.24.1)\n",
      "Requirement already satisfied: gym>=0.17 in d:\\installedsoftware\\anaconda3\\envs\\python-notebook\\lib\\site-packages (from finrl==0.3.0) (0.18.0)\n",
      "Collecting stable-baselines3[extra]\n",
      "  Using cached stable_baselines3-1.0-py3-none-any.whl (152 kB)\n",
      "Requirement already satisfied: pytest in c:\\users\\user\\appdata\\roaming\\python\\python38\\site-packages (from finrl==0.3.0) (6.2.1)\n",
      "Requirement already satisfied: setuptools>=41.4.0 in d:\\installedsoftware\\anaconda3\\envs\\python-notebook\\lib\\site-packages (from finrl==0.3.0) (52.0.0.post20210125)\n",
      "Requirement already satisfied: wheel>=0.33.6 in d:\\installedsoftware\\anaconda3\\envs\\python-notebook\\lib\\site-packages (from finrl==0.3.0) (0.36.2)\n",
      "Requirement already satisfied: ipython>=3.2.3 in d:\\installedsoftware\\anaconda3\\envs\\python-notebook\\lib\\site-packages (from pyfolio@ git+https://github.com/quantopian/pyfolio.git#egg=pyfolio-0.9.2->finrl==0.3.0) (7.21.0)\n",
      "Requirement already satisfied: pytz>=2014.10 in d:\\installedsoftware\\anaconda3\\envs\\python-notebook\\lib\\site-packages (from pyfolio@ git+https://github.com/quantopian/pyfolio.git#egg=pyfolio-0.9.2->finrl==0.3.0) (2020.5)\n",
      "Requirement already satisfied: scipy>=0.14.0 in c:\\users\\user\\appdata\\roaming\\python\\python38\\site-packages (from pyfolio@ git+https://github.com/quantopian/pyfolio.git#egg=pyfolio-0.9.2->finrl==0.3.0) (1.5.4)\n",
      "Requirement already satisfied: seaborn>=0.7.1 in d:\\installedsoftware\\anaconda3\\envs\\python-notebook\\lib\\site-packages (from pyfolio@ git+https://github.com/quantopian/pyfolio.git#egg=pyfolio-0.9.2->finrl==0.3.0) (0.11.1)\n",
      "Collecting empyrical>=0.5.0\n",
      "  Downloading empyrical-0.5.5.tar.gz (52 kB)\n",
      "Collecting pandas-datareader>=0.2\n",
      "  Downloading pandas_datareader-0.9.0-py3-none-any.whl (107 kB)\n",
      "Requirement already satisfied: pyglet<=1.5.0,>=1.4.0 in d:\\installedsoftware\\anaconda3\\envs\\python-notebook\\lib\\site-packages (from gym>=0.17->finrl==0.3.0) (1.5.0)\n",
      "Requirement already satisfied: Pillow<=7.2.0 in d:\\installedsoftware\\anaconda3\\envs\\python-notebook\\lib\\site-packages (from gym>=0.17->finrl==0.3.0) (7.2.0)\n",
      "Requirement already satisfied: cloudpickle<1.7.0,>=1.2.0 in d:\\installedsoftware\\anaconda3\\envs\\python-notebook\\lib\\site-packages (from gym>=0.17->finrl==0.3.0) (1.6.0)\n",
      "Requirement already satisfied: jedi>=0.16 in c:\\users\\user\\appdata\\roaming\\python\\python38\\site-packages (from ipython>=3.2.3->pyfolio@ git+https://github.com/quantopian/pyfolio.git#egg=pyfolio-0.9.2->finrl==0.3.0) (0.18.0)\n",
      "Requirement already satisfied: pickleshare in d:\\installedsoftware\\anaconda3\\envs\\python-notebook\\lib\\site-packages (from ipython>=3.2.3->pyfolio@ git+https://github.com/quantopian/pyfolio.git#egg=pyfolio-0.9.2->finrl==0.3.0) (0.7.5)\n",
      "Requirement already satisfied: colorama in d:\\installedsoftware\\anaconda3\\envs\\python-notebook\\lib\\site-packages (from ipython>=3.2.3->pyfolio@ git+https://github.com/quantopian/pyfolio.git#egg=pyfolio-0.9.2->finrl==0.3.0) (0.4.4)\n",
      "Requirement already satisfied: prompt-toolkit!=3.0.0,!=3.0.1,<3.1.0,>=2.0.0 in c:\\users\\user\\appdata\\roaming\\python\\python38\\site-packages (from ipython>=3.2.3->pyfolio@ git+https://github.com/quantopian/pyfolio.git#egg=pyfolio-0.9.2->finrl==0.3.0) (3.0.16)\n",
      "Requirement already satisfied: pygments in d:\\installedsoftware\\anaconda3\\envs\\python-notebook\\lib\\site-packages (from ipython>=3.2.3->pyfolio@ git+https://github.com/quantopian/pyfolio.git#egg=pyfolio-0.9.2->finrl==0.3.0) (2.8.1)\n",
      "Requirement already satisfied: decorator in d:\\installedsoftware\\anaconda3\\envs\\python-notebook\\lib\\site-packages (from ipython>=3.2.3->pyfolio@ git+https://github.com/quantopian/pyfolio.git#egg=pyfolio-0.9.2->finrl==0.3.0) (4.4.2)\n",
      "Requirement already satisfied: backcall in d:\\installedsoftware\\anaconda3\\envs\\python-notebook\\lib\\site-packages (from ipython>=3.2.3->pyfolio@ git+https://github.com/quantopian/pyfolio.git#egg=pyfolio-0.9.2->finrl==0.3.0) (0.2.0)\n",
      "Requirement already satisfied: traitlets>=4.2 in d:\\installedsoftware\\anaconda3\\envs\\python-notebook\\lib\\site-packages (from ipython>=3.2.3->pyfolio@ git+https://github.com/quantopian/pyfolio.git#egg=pyfolio-0.9.2->finrl==0.3.0) (5.0.5)\n",
      "Requirement already satisfied: parso<0.9.0,>=0.8.0 in d:\\installedsoftware\\anaconda3\\envs\\python-notebook\\lib\\site-packages (from jedi>=0.16->ipython>=3.2.3->pyfolio@ git+https://github.com/quantopian/pyfolio.git#egg=pyfolio-0.9.2->finrl==0.3.0) (0.8.1)\n",
      "Requirement already satisfied: python-dateutil>=2.1 in d:\\installedsoftware\\anaconda3\\envs\\python-notebook\\lib\\site-packages (from matplotlib->finrl==0.3.0) (2.8.1)\n",
      "Requirement already satisfied: kiwisolver>=1.0.1 in d:\\installedsoftware\\anaconda3\\envs\\python-notebook\\lib\\site-packages (from matplotlib->finrl==0.3.0) (1.3.1)\n",
      "Requirement already satisfied: pyparsing!=2.0.4,!=2.1.2,!=2.1.6,>=2.0.3 in d:\\installedsoftware\\anaconda3\\envs\\python-notebook\\lib\\site-packages (from matplotlib->finrl==0.3.0) (2.4.7)\n",
      "Requirement already satisfied: cycler>=0.10 in d:\\installedsoftware\\anaconda3\\envs\\python-notebook\\lib\\site-packages (from matplotlib->finrl==0.3.0) (0.10.0)\n",
      "Requirement already satisfied: six in d:\\installedsoftware\\anaconda3\\envs\\python-notebook\\lib\\site-packages (from cycler>=0.10->matplotlib->finrl==0.3.0) (1.15.0)\n",
      "Requirement already satisfied: requests>=2.19.0 in d:\\installedsoftware\\anaconda3\\envs\\python-notebook\\lib\\site-packages (from pandas-datareader>=0.2->empyrical>=0.5.0->pyfolio@ git+https://github.com/quantopian/pyfolio.git#egg=pyfolio-0.9.2->finrl==0.3.0) (2.25.1)\n",
      "Collecting lxml\n",
      "  Downloading lxml-4.6.3-cp38-cp38-win_amd64.whl (3.5 MB)\n",
      "Requirement already satisfied: wcwidth in d:\\installedsoftware\\anaconda3\\envs\\python-notebook\\lib\\site-packages (from prompt-toolkit!=3.0.0,!=3.0.1,<3.1.0,>=2.0.0->ipython>=3.2.3->pyfolio@ git+https://github.com/quantopian/pyfolio.git#egg=pyfolio-0.9.2->finrl==0.3.0) (0.2.5)\n",
      "Requirement already satisfied: future in d:\\installedsoftware\\anaconda3\\envs\\python-notebook\\lib\\site-packages (from pyglet<=1.5.0,>=1.4.0->gym>=0.17->finrl==0.3.0) (0.18.2)\n",
      "Requirement already satisfied: chardet<5,>=3.0.2 in d:\\installedsoftware\\anaconda3\\envs\\python-notebook\\lib\\site-packages (from requests>=2.19.0->pandas-datareader>=0.2->empyrical>=0.5.0->pyfolio@ git+https://github.com/quantopian/pyfolio.git#egg=pyfolio-0.9.2->finrl==0.3.0) (4.0.0)\n",
      "Requirement already satisfied: idna<3,>=2.5 in d:\\installedsoftware\\anaconda3\\envs\\python-notebook\\lib\\site-packages (from requests>=2.19.0->pandas-datareader>=0.2->empyrical>=0.5.0->pyfolio@ git+https://github.com/quantopian/pyfolio.git#egg=pyfolio-0.9.2->finrl==0.3.0) (2.10)\n",
      "Requirement already satisfied: certifi>=2017.4.17 in d:\\installedsoftware\\anaconda3\\envs\\python-notebook\\lib\\site-packages (from requests>=2.19.0->pandas-datareader>=0.2->empyrical>=0.5.0->pyfolio@ git+https://github.com/quantopian/pyfolio.git#egg=pyfolio-0.9.2->finrl==0.3.0) (2020.12.5)\n",
      "Requirement already satisfied: urllib3<1.27,>=1.21.1 in d:\\installedsoftware\\anaconda3\\envs\\python-notebook\\lib\\site-packages (from requests>=2.19.0->pandas-datareader>=0.2->empyrical>=0.5.0->pyfolio@ git+https://github.com/quantopian/pyfolio.git#egg=pyfolio-0.9.2->finrl==0.3.0) (1.26.2)\n",
      "Requirement already satisfied: joblib>=0.11 in d:\\installedsoftware\\anaconda3\\envs\\python-notebook\\lib\\site-packages (from scikit-learn>=0.21.0->finrl==0.3.0) (1.0.1)\n",
      "Requirement already satisfied: threadpoolctl>=2.0.0 in d:\\installedsoftware\\anaconda3\\envs\\python-notebook\\lib\\site-packages (from scikit-learn>=0.21.0->finrl==0.3.0) (2.1.0)\n",
      "Requirement already satisfied: ipython-genutils in d:\\installedsoftware\\anaconda3\\envs\\python-notebook\\lib\\site-packages (from traitlets>=4.2->ipython>=3.2.3->pyfolio@ git+https://github.com/quantopian/pyfolio.git#egg=pyfolio-0.9.2->finrl==0.3.0) (0.2.0)\n",
      "Requirement already satisfied: atomicwrites>=1.0 in d:\\installedsoftware\\anaconda3\\envs\\python-notebook\\lib\\site-packages (from pytest->finrl==0.3.0) (1.4.0)\n",
      "Requirement already satisfied: packaging in d:\\installedsoftware\\anaconda3\\envs\\python-notebook\\lib\\site-packages (from pytest->finrl==0.3.0) (20.8)\n",
      "Requirement already satisfied: iniconfig in d:\\installedsoftware\\anaconda3\\envs\\python-notebook\\lib\\site-packages (from pytest->finrl==0.3.0) (1.1.1)\n",
      "Requirement already satisfied: py>=1.8.2 in d:\\installedsoftware\\anaconda3\\envs\\python-notebook\\lib\\site-packages (from pytest->finrl==0.3.0) (1.10.0)\n",
      "Requirement already satisfied: attrs>=19.2.0 in d:\\installedsoftware\\anaconda3\\envs\\python-notebook\\lib\\site-packages (from pytest->finrl==0.3.0) (20.3.0)\n",
      "Requirement already satisfied: toml in c:\\users\\user\\appdata\\roaming\\python\\python38\\site-packages (from pytest->finrl==0.3.0) (0.10.2)\n",
      "Requirement already satisfied: pluggy<1.0.0a1,>=0.12 in d:\\installedsoftware\\anaconda3\\envs\\python-notebook\\lib\\site-packages (from pytest->finrl==0.3.0) (0.13.1)\n",
      "Collecting torch>=1.4.0\n",
      "  Downloading torch-1.8.1-cp38-cp38-win_amd64.whl (190.5 MB)\n",
      "Requirement already satisfied: tensorboard>=2.2.0 in c:\\users\\user\\appdata\\roaming\\python\\python38\\site-packages (from stable-baselines3[extra]->finrl==0.3.0) (2.4.1)\n",
      "Collecting opencv-python\n",
      "  Downloading opencv_python-4.5.2.52-cp38-cp38-win_amd64.whl (34.7 MB)\n",
      "Collecting atari-py~=0.2.0\n",
      "  Downloading atari-py-0.2.6.tar.gz (790 kB)\n",
      "Requirement already satisfied: psutil in d:\\installedsoftware\\anaconda3\\envs\\python-notebook\\lib\\site-packages (from stable-baselines3[extra]->finrl==0.3.0) (5.8.0)\n",
      "Requirement already satisfied: google-auth-oauthlib<0.5,>=0.4.1 in d:\\installedsoftware\\anaconda3\\envs\\python-notebook\\lib\\site-packages (from tensorboard>=2.2.0->stable-baselines3[extra]->finrl==0.3.0) (0.4.2)\n",
      "Requirement already satisfied: google-auth<2,>=1.6.3 in c:\\users\\user\\appdata\\roaming\\python\\python38\\site-packages (from tensorboard>=2.2.0->stable-baselines3[extra]->finrl==0.3.0) (1.27.0)\n",
      "Requirement already satisfied: absl-py>=0.4 in d:\\installedsoftware\\anaconda3\\envs\\python-notebook\\lib\\site-packages (from tensorboard>=2.2.0->stable-baselines3[extra]->finrl==0.3.0) (0.11.0)\n",
      "Requirement already satisfied: tensorboard-plugin-wit>=1.6.0 in d:\\installedsoftware\\anaconda3\\envs\\python-notebook\\lib\\site-packages (from tensorboard>=2.2.0->stable-baselines3[extra]->finrl==0.3.0) (1.8.0)\n",
      "Requirement already satisfied: werkzeug>=0.11.15 in d:\\installedsoftware\\anaconda3\\envs\\python-notebook\\lib\\site-packages (from tensorboard>=2.2.0->stable-baselines3[extra]->finrl==0.3.0) (1.0.1)\n",
      "Requirement already satisfied: markdown>=2.6.8 in d:\\installedsoftware\\anaconda3\\envs\\python-notebook\\lib\\site-packages (from tensorboard>=2.2.0->stable-baselines3[extra]->finrl==0.3.0) (3.3.3)\n",
      "Requirement already satisfied: protobuf>=3.6.0 in c:\\users\\user\\appdata\\roaming\\python\\python38\\site-packages (from tensorboard>=2.2.0->stable-baselines3[extra]->finrl==0.3.0) (3.15.1)\n",
      "Requirement already satisfied: grpcio>=1.24.3 in c:\\users\\user\\appdata\\roaming\\python\\python38\\site-packages (from tensorboard>=2.2.0->stable-baselines3[extra]->finrl==0.3.0) (1.32.0)\n",
      "Requirement already satisfied: pyasn1-modules>=0.2.1 in d:\\installedsoftware\\anaconda3\\envs\\python-notebook\\lib\\site-packages (from google-auth<2,>=1.6.3->tensorboard>=2.2.0->stable-baselines3[extra]->finrl==0.3.0) (0.2.8)\n",
      "Requirement already satisfied: cachetools<5.0,>=2.0.0 in d:\\installedsoftware\\anaconda3\\envs\\python-notebook\\lib\\site-packages (from google-auth<2,>=1.6.3->tensorboard>=2.2.0->stable-baselines3[extra]->finrl==0.3.0) (4.2.1)\n",
      "Requirement already satisfied: rsa<5,>=3.1.4 in d:\\installedsoftware\\anaconda3\\envs\\python-notebook\\lib\\site-packages (from google-auth<2,>=1.6.3->tensorboard>=2.2.0->stable-baselines3[extra]->finrl==0.3.0) (4.7.1)\n",
      "Requirement already satisfied: requests-oauthlib>=0.7.0 in d:\\installedsoftware\\anaconda3\\envs\\python-notebook\\lib\\site-packages (from google-auth-oauthlib<0.5,>=0.4.1->tensorboard>=2.2.0->stable-baselines3[extra]->finrl==0.3.0) (1.3.0)\n",
      "Requirement already satisfied: pyasn1<0.5.0,>=0.4.6 in d:\\installedsoftware\\anaconda3\\envs\\python-notebook\\lib\\site-packages (from pyasn1-modules>=0.2.1->google-auth<2,>=1.6.3->tensorboard>=2.2.0->stable-baselines3[extra]->finrl==0.3.0) (0.4.8)\n",
      "Requirement already satisfied: oauthlib>=3.0.0 in d:\\installedsoftware\\anaconda3\\envs\\python-notebook\\lib\\site-packages (from requests-oauthlib>=0.7.0->google-auth-oauthlib<0.5,>=0.4.1->tensorboard>=2.2.0->stable-baselines3[extra]->finrl==0.3.0) (3.1.0)\n",
      "Requirement already satisfied: typing-extensions in d:\\installedsoftware\\anaconda3\\envs\\python-notebook\\lib\\site-packages (from torch>=1.4.0->stable-baselines3[extra]->finrl==0.3.0) (3.7.4.3)\n",
      "Collecting int-date>=0.1.7\n",
      "  Using cached int_date-0.1.8-py2.py3-none-any.whl (5.0 kB)\n",
      "Collecting multitasking>=0.0.7\n",
      "  Using cached multitasking-0.0.9.tar.gz (8.1 kB)\n",
      "Building wheels for collected packages: finrl, pyfolio, empyrical, atari-py, yfinance, multitasking\n",
      "  Building wheel for finrl (setup.py): started\n",
      "  Building wheel for finrl (setup.py): finished with status 'done'\n",
      "  Created wheel for finrl: filename=finrl-0.3.0-py3-none-any.whl size=38613 sha256=3ccf134adc24d48a9065db8565c2bb837b3e8b53677ad20b95d16a848df211f9\n",
      "  Stored in directory: C:\\Users\\User\\AppData\\Local\\Temp\\pip-ephem-wheel-cache-713fwcwc\\wheels\\e8\\19\\74\\11261997d6bdca44ba73e8eeedb94a3e3d340259516a0887eb\n",
      "  Building wheel for pyfolio (setup.py): started\n",
      "  Building wheel for pyfolio (setup.py): finished with status 'done'\n",
      "  Created wheel for pyfolio: filename=pyfolio-0.9.2+75.g4b901f6-py3-none-any.whl size=76260 sha256=8e97991000c289f87defd8fb45d928c8f15ff5a61bb8086b7542f9c980f224ad\n",
      "  Stored in directory: C:\\Users\\User\\AppData\\Local\\Temp\\pip-ephem-wheel-cache-713fwcwc\\wheels\\7b\\59\\8b\\3c276a18b58c04a1fd0e1351e979fb5396f93fbde5b5438df1\n",
      "  Building wheel for empyrical (setup.py): started\n",
      "  Building wheel for empyrical (setup.py): finished with status 'done'\n",
      "  Created wheel for empyrical: filename=empyrical-0.5.5-py3-none-any.whl size=39777 sha256=3f25acdb79a848e9859077b2d9778b059ce12f5aa2279042fcfb8f76b452a18d\n",
      "  Stored in directory: c:\\users\\user\\appdata\\local\\pip\\cache\\wheels\\0d\\68\\bb\\926065fb744e7d7cb67334cb1a9c696722abc8303e5dc9a8d0\n",
      "  Building wheel for atari-py (setup.py): started\n",
      "  Building wheel for atari-py (setup.py): finished with status 'done'\n",
      "  Created wheel for atari-py: filename=atari_py-0.2.6-cp38-cp38-win_amd64.whl size=1155035 sha256=5b8b06da52ca8f740124aa577c11774e02d06504b60047a9a7e4e6fc1eef0d97\n",
      "  Stored in directory: c:\\users\\user\\appdata\\local\\pip\\cache\\wheels\\7f\\5e\\27\\2e90b9887063d82ee2f9f8b2f8db76bb2290aa281dc40449c8\n",
      "  Building wheel for yfinance (setup.py): started\n",
      "  Building wheel for yfinance (setup.py): finished with status 'done'\n",
      "  Created wheel for yfinance: filename=yfinance-0.1.59-py2.py3-none-any.whl size=23442 sha256=15a777f57c8fd603474b3f5b00d338e9d2bcdaa1380dfd9130b071aaeb8cd8aa\n",
      "  Stored in directory: c:\\users\\user\\appdata\\local\\pip\\cache\\wheels\\7e\\d5\\f4\\f628965651f61ae35c2bdc73571ce1a2026e1550a336b5ad4b\n",
      "  Building wheel for multitasking (setup.py): started\n",
      "  Building wheel for multitasking (setup.py): finished with status 'done'\n",
      "  Created wheel for multitasking: filename=multitasking-0.0.9-py3-none-any.whl size=8368 sha256=cba4dc08693368fe1bc29511adb17383067210db3802c3b621e135a850643797\n",
      "  Stored in directory: c:\\users\\user\\appdata\\local\\pip\\cache\\wheels\\57\\6d\\a3\\a39b839cc75274d2acfb1c58bfead2f726c6577fe8c4723f13\n",
      "Successfully built finrl pyfolio empyrical atari-py yfinance multitasking\n",
      "Installing collected packages: lxml, torch, pandas-datareader, stable-baselines3, opencv-python, multitasking, int-date, empyrical, atari-py, yfinance, stockstats, pyfolio, finrl\n"
     ]
    }
   ],
   "source": [
    "## install finrl library\n",
    "!pip install git+https://github.com/AI4Finance-LLC/FinRL-Library.git"
   ]
  },
  {
   "cell_type": "markdown",
   "metadata": {
    "id": "osBHhVysOEzi"
   },
   "source": [
    "\n",
    "<a id='1.2'></a>\n",
    "## 2.2. Check if the additional packages needed are present, if not install them. \n",
    "* Yahoo Finance API\n",
    "* pandas\n",
    "* numpy\n",
    "* matplotlib\n",
    "* stockstats\n",
    "* OpenAI gym\n",
    "* stable-baselines\n",
    "* tensorflow\n",
    "* pyfolio"
   ]
  },
  {
   "cell_type": "markdown",
   "metadata": {
    "id": "nGv01K8Sh1hn"
   },
   "source": [
    "<a id='1.3'></a>\n",
    "## 2.3. Import Packages"
   ]
  },
  {
   "cell_type": "code",
   "execution_count": 8,
   "metadata": {},
   "outputs": [
    {
     "name": "stdout",
     "output_type": "stream",
     "text": [
      "Requirement already satisfied: yfinance in d:\\installedsoftware\\anaconda3\\envs\\python-notebook\\lib\\site-packages (0.1.59)\n",
      "Requirement already satisfied: lxml>=4.5.1 in d:\\installedsoftware\\anaconda3\\envs\\python-notebook\\lib\\site-packages (from yfinance) (4.6.3)\n",
      "Requirement already satisfied: requests>=2.20 in d:\\installedsoftware\\anaconda3\\envs\\python-notebook\\lib\\site-packages (from yfinance) (2.25.1)\n",
      "Requirement already satisfied: numpy>=1.15 in c:\\users\\user\\appdata\\roaming\\python\\python38\\site-packages (from yfinance) (1.19.4)\n",
      "Requirement already satisfied: pandas>=0.24 in d:\\installedsoftware\\anaconda3\\envs\\python-notebook\\lib\\site-packages (from yfinance) (1.2.0)\n",
      "Requirement already satisfied: multitasking>=0.0.7 in d:\\installedsoftware\\anaconda3\\envs\\python-notebook\\lib\\site-packages (from yfinance) (0.0.9)\n",
      "Requirement already satisfied: python-dateutil>=2.7.3 in d:\\installedsoftware\\anaconda3\\envs\\python-notebook\\lib\\site-packages (from pandas>=0.24->yfinance) (2.8.1)\n",
      "Requirement already satisfied: pytz>=2017.3 in d:\\installedsoftware\\anaconda3\\envs\\python-notebook\\lib\\site-packages (from pandas>=0.24->yfinance) (2020.5)\n",
      "Requirement already satisfied: six>=1.5 in d:\\installedsoftware\\anaconda3\\envs\\python-notebook\\lib\\site-packages (from python-dateutil>=2.7.3->pandas>=0.24->yfinance) (1.15.0)\n",
      "Requirement already satisfied: idna<3,>=2.5 in d:\\installedsoftware\\anaconda3\\envs\\python-notebook\\lib\\site-packages (from requests>=2.20->yfinance) (2.10)\n",
      "Requirement already satisfied: urllib3<1.27,>=1.21.1 in d:\\installedsoftware\\anaconda3\\envs\\python-notebook\\lib\\site-packages (from requests>=2.20->yfinance) (1.26.2)\n",
      "Requirement already satisfied: chardet<5,>=3.0.2 in d:\\installedsoftware\\anaconda3\\envs\\python-notebook\\lib\\site-packages (from requests>=2.20->yfinance) (4.0.0)\n",
      "Requirement already satisfied: certifi>=2017.4.17 in d:\\installedsoftware\\anaconda3\\envs\\python-notebook\\lib\\site-packages (from requests>=2.20->yfinance) (2020.12.5)\n",
      "Requirement already satisfied: stockstats in d:\\installedsoftware\\anaconda3\\envs\\python-notebook\\lib\\site-packages (0.3.2)\n",
      "Requirement already satisfied: pandas>=0.18.1 in d:\\installedsoftware\\anaconda3\\envs\\python-notebook\\lib\\site-packages (from stockstats) (1.2.0)\n",
      "Requirement already satisfied: numpy>=1.9.2 in c:\\users\\user\\appdata\\roaming\\python\\python38\\site-packages (from stockstats) (1.19.4)\n",
      "Requirement already satisfied: int-date>=0.1.7 in d:\\installedsoftware\\anaconda3\\envs\\python-notebook\\lib\\site-packages (from stockstats) (0.1.8)\n",
      "Requirement already satisfied: python-dateutil>=2.4.2 in d:\\installedsoftware\\anaconda3\\envs\\python-notebook\\lib\\site-packages (from int-date>=0.1.7->stockstats) (2.8.1)\n",
      "Requirement already satisfied: six>=1.9.0 in d:\\installedsoftware\\anaconda3\\envs\\python-notebook\\lib\\site-packages (from int-date>=0.1.7->stockstats) (1.15.0)\n",
      "Requirement already satisfied: pytz>=2017.3 in d:\\installedsoftware\\anaconda3\\envs\\python-notebook\\lib\\site-packages (from pandas>=0.18.1->stockstats) (2020.5)\n",
      "Collecting pyfolio\n",
      "  Downloading pyfolio-0.9.2.tar.gz (91 kB)\n",
      "Requirement already satisfied: ipython>=3.2.3 in d:\\installedsoftware\\anaconda3\\envs\\python-notebook\\lib\\site-packages (from pyfolio) (7.21.0)\n",
      "Requirement already satisfied: matplotlib>=1.4.0 in c:\\users\\user\\appdata\\roaming\\python\\python38\\site-packages (from pyfolio) (3.3.3)\n",
      "Requirement already satisfied: numpy>=1.11.1 in c:\\users\\user\\appdata\\roaming\\python\\python38\\site-packages (from pyfolio) (1.19.4)\n",
      "Requirement already satisfied: pandas>=0.18.1 in d:\\installedsoftware\\anaconda3\\envs\\python-notebook\\lib\\site-packages (from pyfolio) (1.2.0)\n",
      "Requirement already satisfied: pytz>=2014.10 in d:\\installedsoftware\\anaconda3\\envs\\python-notebook\\lib\\site-packages (from pyfolio) (2020.5)\n",
      "Requirement already satisfied: scipy>=0.14.0 in c:\\users\\user\\appdata\\roaming\\python\\python38\\site-packages (from pyfolio) (1.5.4)\n",
      "Requirement already satisfied: scikit-learn>=0.16.1 in d:\\installedsoftware\\anaconda3\\envs\\python-notebook\\lib\\site-packages (from pyfolio) (0.24.1)\n",
      "Requirement already satisfied: seaborn>=0.7.1 in d:\\installedsoftware\\anaconda3\\envs\\python-notebook\\lib\\site-packages (from pyfolio) (0.11.1)\n",
      "Collecting empyrical>=0.5.0\n",
      "  Using cached empyrical-0.5.5-py3-none-any.whl\n",
      "Requirement already satisfied: pandas-datareader>=0.2 in d:\\installedsoftware\\anaconda3\\envs\\python-notebook\\lib\\site-packages (from empyrical>=0.5.0->pyfolio) (0.9.0)\n",
      "Requirement already satisfied: colorama in d:\\installedsoftware\\anaconda3\\envs\\python-notebook\\lib\\site-packages (from ipython>=3.2.3->pyfolio) (0.4.4)\n",
      "Requirement already satisfied: pygments in d:\\installedsoftware\\anaconda3\\envs\\python-notebook\\lib\\site-packages (from ipython>=3.2.3->pyfolio) (2.8.1)\n",
      "Requirement already satisfied: traitlets>=4.2 in d:\\installedsoftware\\anaconda3\\envs\\python-notebook\\lib\\site-packages (from ipython>=3.2.3->pyfolio) (5.0.5)\n",
      "Requirement already satisfied: pickleshare in d:\\installedsoftware\\anaconda3\\envs\\python-notebook\\lib\\site-packages (from ipython>=3.2.3->pyfolio) (0.7.5)\n",
      "Requirement already satisfied: setuptools>=18.5 in d:\\installedsoftware\\anaconda3\\envs\\python-notebook\\lib\\site-packages (from ipython>=3.2.3->pyfolio) (52.0.0.post20210125)\n",
      "Requirement already satisfied: prompt-toolkit!=3.0.0,!=3.0.1,<3.1.0,>=2.0.0 in c:\\users\\user\\appdata\\roaming\\python\\python38\\site-packages (from ipython>=3.2.3->pyfolio) (3.0.16)\n",
      "Requirement already satisfied: decorator in d:\\installedsoftware\\anaconda3\\envs\\python-notebook\\lib\\site-packages (from ipython>=3.2.3->pyfolio) (4.4.2)\n",
      "Requirement already satisfied: backcall in d:\\installedsoftware\\anaconda3\\envs\\python-notebook\\lib\\site-packages (from ipython>=3.2.3->pyfolio) (0.2.0)\n",
      "Requirement already satisfied: jedi>=0.16 in c:\\users\\user\\appdata\\roaming\\python\\python38\\site-packages (from ipython>=3.2.3->pyfolio) (0.18.0)\n",
      "Requirement already satisfied: parso<0.9.0,>=0.8.0 in d:\\installedsoftware\\anaconda3\\envs\\python-notebook\\lib\\site-packages (from jedi>=0.16->ipython>=3.2.3->pyfolio) (0.8.1)\n",
      "Requirement already satisfied: cycler>=0.10 in d:\\installedsoftware\\anaconda3\\envs\\python-notebook\\lib\\site-packages (from matplotlib>=1.4.0->pyfolio) (0.10.0)\n",
      "Requirement already satisfied: python-dateutil>=2.1 in d:\\installedsoftware\\anaconda3\\envs\\python-notebook\\lib\\site-packages (from matplotlib>=1.4.0->pyfolio) (2.8.1)\n",
      "Requirement already satisfied: kiwisolver>=1.0.1 in d:\\installedsoftware\\anaconda3\\envs\\python-notebook\\lib\\site-packages (from matplotlib>=1.4.0->pyfolio) (1.3.1)\n",
      "Requirement already satisfied: pillow>=6.2.0 in d:\\installedsoftware\\anaconda3\\envs\\python-notebook\\lib\\site-packages (from matplotlib>=1.4.0->pyfolio) (7.2.0)\n",
      "Requirement already satisfied: pyparsing!=2.0.4,!=2.1.2,!=2.1.6,>=2.0.3 in d:\\installedsoftware\\anaconda3\\envs\\python-notebook\\lib\\site-packages (from matplotlib>=1.4.0->pyfolio) (2.4.7)\n",
      "Requirement already satisfied: six in d:\\installedsoftware\\anaconda3\\envs\\python-notebook\\lib\\site-packages (from cycler>=0.10->matplotlib>=1.4.0->pyfolio) (1.15.0)\n",
      "Requirement already satisfied: requests>=2.19.0 in d:\\installedsoftware\\anaconda3\\envs\\python-notebook\\lib\\site-packages (from pandas-datareader>=0.2->empyrical>=0.5.0->pyfolio) (2.25.1)\n",
      "Requirement already satisfied: lxml in d:\\installedsoftware\\anaconda3\\envs\\python-notebook\\lib\\site-packages (from pandas-datareader>=0.2->empyrical>=0.5.0->pyfolio) (4.6.3)\n",
      "Requirement already satisfied: wcwidth in d:\\installedsoftware\\anaconda3\\envs\\python-notebook\\lib\\site-packages (from prompt-toolkit!=3.0.0,!=3.0.1,<3.1.0,>=2.0.0->ipython>=3.2.3->pyfolio) (0.2.5)\n",
      "Requirement already satisfied: certifi>=2017.4.17 in d:\\installedsoftware\\anaconda3\\envs\\python-notebook\\lib\\site-packages (from requests>=2.19.0->pandas-datareader>=0.2->empyrical>=0.5.0->pyfolio) (2020.12.5)\n",
      "Requirement already satisfied: idna<3,>=2.5 in d:\\installedsoftware\\anaconda3\\envs\\python-notebook\\lib\\site-packages (from requests>=2.19.0->pandas-datareader>=0.2->empyrical>=0.5.0->pyfolio) (2.10)\n",
      "Requirement already satisfied: chardet<5,>=3.0.2 in d:\\installedsoftware\\anaconda3\\envs\\python-notebook\\lib\\site-packages (from requests>=2.19.0->pandas-datareader>=0.2->empyrical>=0.5.0->pyfolio) (4.0.0)\n",
      "Requirement already satisfied: urllib3<1.27,>=1.21.1 in d:\\installedsoftware\\anaconda3\\envs\\python-notebook\\lib\\site-packages (from requests>=2.19.0->pandas-datareader>=0.2->empyrical>=0.5.0->pyfolio) (1.26.2)\n",
      "Requirement already satisfied: threadpoolctl>=2.0.0 in d:\\installedsoftware\\anaconda3\\envs\\python-notebook\\lib\\site-packages (from scikit-learn>=0.16.1->pyfolio) (2.1.0)\n",
      "Requirement already satisfied: joblib>=0.11 in d:\\installedsoftware\\anaconda3\\envs\\python-notebook\\lib\\site-packages (from scikit-learn>=0.16.1->pyfolio) (1.0.1)\n",
      "Requirement already satisfied: ipython-genutils in d:\\installedsoftware\\anaconda3\\envs\\python-notebook\\lib\\site-packages (from traitlets>=4.2->ipython>=3.2.3->pyfolio) (0.2.0)\n",
      "Building wheels for collected packages: pyfolio\n",
      "  Building wheel for pyfolio (setup.py): started\n",
      "  Building wheel for pyfolio (setup.py): finished with status 'done'\n",
      "  Created wheel for pyfolio: filename=pyfolio-0.9.2-py3-none-any.whl size=88681 sha256=886e210cbcecd29e2f020b9273be5ae2a55c524fdc4f55932beccc03daf06864\n",
      "  Stored in directory: c:\\users\\user\\appdata\\local\\pip\\cache\\wheels\\42\\16\\92\\9c9d49efccc497040268960f0825101cc9b1c6e41cdc5a409e\n",
      "Successfully built pyfolio\n",
      "Installing collected packages: empyrical, pyfolio\n",
      "Successfully installed empyrical-0.5.5 pyfolio-0.9.2\n"
     ]
    },
    {
     "name": "stdout",
     "output_type": "stream",
     "text": [
      "Requirement already satisfied: gym in d:\\installedsoftware\\anaconda3\\envs\\python-notebook\\lib\\site-packages (0.18.0)\n",
      "Requirement already satisfied: scipy in c:\\users\\user\\appdata\\roaming\\python\\python38\\site-packages (from gym) (1.5.4)\n",
      "Requirement already satisfied: cloudpickle<1.7.0,>=1.2.0 in d:\\installedsoftware\\anaconda3\\envs\\python-notebook\\lib\\site-packages (from gym) (1.6.0)\n",
      "Requirement already satisfied: numpy>=1.10.4 in c:\\users\\user\\appdata\\roaming\\python\\python38\\site-packages (from gym) (1.19.4)\n",
      "Requirement already satisfied: pyglet<=1.5.0,>=1.4.0 in d:\\installedsoftware\\anaconda3\\envs\\python-notebook\\lib\\site-packages (from gym) (1.5.0)\n",
      "Requirement already satisfied: Pillow<=7.2.0 in d:\\installedsoftware\\anaconda3\\envs\\python-notebook\\lib\\site-packages (from gym) (7.2.0)\n",
      "Requirement already satisfied: future in d:\\installedsoftware\\anaconda3\\envs\\python-notebook\\lib\\site-packages (from pyglet<=1.5.0,>=1.4.0->gym) (0.18.2)\n"
     ]
    }
   ],
   "source": [
    "!pip install yfinance\n",
    "!pip install stockstats\n",
    "!pip install pyfolio\n",
    "!pip install gym"
   ]
  },
  {
   "cell_type": "code",
   "execution_count": 9,
   "metadata": {
    "colab": {
     "base_uri": "https://localhost:8080/"
    },
    "id": "lPqeTTwoh1hn",
    "outputId": "b5fdebb3-b7d0-4fe6-b993-fc4c1efc51ff"
   },
   "outputs": [
    {
     "name": "stderr",
     "output_type": "stream",
     "text": [
      "D:\\InstalledSoftware\\anaconda3\\envs\\python-notebook\\lib\\site-packages\\pyfolio\\pos.py:26: UserWarning: Module \"zipline.assets\" not found; mutltipliers will not be applied to position notionals.\n",
      "  warnings.warn(\n"
     ]
    }
   ],
   "source": [
    "import pandas as pd\n",
    "import numpy as np\n",
    "import matplotlib\n",
    "import matplotlib.pyplot as plt\n",
    "# matplotlib.use('Agg')\n",
    "import datetime\n",
    "\n",
    "%matplotlib inline\n",
    "from finrl.config import config\n",
    "from finrl.marketdata.yahoodownloader import YahooDownloader\n",
    "from finrl.preprocessing.preprocessors import FeatureEngineer\n",
    "from finrl.preprocessing.data import data_split\n",
    "from finrl.env.env_stocktrading import StockTradingEnv\n",
    "from finrl.model.models import DRLAgent\n",
    "from finrl.trade.backtest import backtest_stats, backtest_plot, get_daily_return, get_baseline\n",
    "\n",
    "from pprint import pprint\n",
    "\n",
    "import sys\n",
    "sys.path.append(\"../FinRL-Library\")\n",
    "\n",
    "import itertools"
   ]
  },
  {
   "cell_type": "markdown",
   "metadata": {
    "id": "T2owTj985RW4"
   },
   "source": [
    "<a id='1.4'></a>\n",
    "## 2.4. Create Folders"
   ]
  },
  {
   "cell_type": "code",
   "execution_count": 10,
   "metadata": {
    "id": "w9A8CN5R5PuZ"
   },
   "outputs": [],
   "source": [
    "import os\n",
    "if not os.path.exists(\"./\" + config.DATA_SAVE_DIR):\n",
    "    os.makedirs(\"./\" + config.DATA_SAVE_DIR)\n",
    "if not os.path.exists(\"./\" + config.TRAINED_MODEL_DIR):\n",
    "    os.makedirs(\"./\" + config.TRAINED_MODEL_DIR)\n",
    "if not os.path.exists(\"./\" + config.TENSORBOARD_LOG_DIR):\n",
    "    os.makedirs(\"./\" + config.TENSORBOARD_LOG_DIR)\n",
    "if not os.path.exists(\"./\" + config.RESULTS_DIR):\n",
    "    os.makedirs(\"./\" + config.RESULTS_DIR)"
   ]
  },
  {
   "cell_type": "markdown",
   "metadata": {
    "id": "A289rQWMh1hq"
   },
   "source": [
    "<a id='2'></a>\n",
    "# Part 3. Download Data\n",
    "Yahoo Finance is a website that provides stock data, financial news, financial reports, etc. All the data provided by Yahoo Finance is free.\n",
    "* FinRL uses a class **YahooDownloader** to fetch data from Yahoo Finance API\n",
    "* Call Limit: Using the Public API (without authentication), you are limited to 2,000 requests per hour per IP (or up to a total of 48,000 requests a day).\n"
   ]
  },
  {
   "cell_type": "markdown",
   "metadata": {
    "id": "NPeQ7iS-LoMm"
   },
   "source": [
    "\n",
    "\n",
    "-----\n",
    "class YahooDownloader:\n",
    "    Provides methods for retrieving daily stock data from\n",
    "    Yahoo Finance API\n",
    "\n",
    "    Attributes\n",
    "    ----------\n",
    "        start_date : str\n",
    "            start date of the data (modified from config.py)\n",
    "        end_date : str\n",
    "            end date of the data (modified from config.py)\n",
    "        ticker_list : list\n",
    "            a list of stock tickers (modified from config.py)\n",
    "\n",
    "    Methods\n",
    "    -------\n",
    "    fetch_data()\n",
    "        Fetches data from yahoo API\n"
   ]
  },
  {
   "cell_type": "code",
   "execution_count": 11,
   "metadata": {
    "colab": {
     "base_uri": "https://localhost:8080/",
     "height": 35
    },
    "id": "h3XJnvrbLp-C",
    "outputId": "90ad1901-fda9-46f8-80f6-083cd8d6293a"
   },
   "outputs": [
    {
     "data": {
      "text/plain": [
       "'2000-01-01'"
      ]
     },
     "execution_count": 11,
     "metadata": {},
     "output_type": "execute_result"
    }
   ],
   "source": [
    "# from config.py start_date is a string\n",
    "config.START_DATE"
   ]
  },
  {
   "cell_type": "code",
   "execution_count": 12,
   "metadata": {
    "colab": {
     "base_uri": "https://localhost:8080/",
     "height": 35
    },
    "id": "FUnY8WEfLq3C",
    "outputId": "9bd12370-a5e9-4eb3-bc2a-d0d0610f14f7"
   },
   "outputs": [
    {
     "data": {
      "text/plain": [
       "'2021-01-01'"
      ]
     },
     "execution_count": 12,
     "metadata": {},
     "output_type": "execute_result"
    }
   ],
   "source": [
    "# from config.py end_date is a string\n",
    "config.END_DATE"
   ]
  },
  {
   "cell_type": "code",
   "execution_count": 13,
   "metadata": {
    "colab": {
     "base_uri": "https://localhost:8080/"
    },
    "id": "JzqRRTOX6aFu",
    "outputId": "8acb257f-171e-4069-8ed3-1e7311ffecc2"
   },
   "outputs": [
    {
     "name": "stdout",
     "output_type": "stream",
     "text": [
      "['AAPL', 'MSFT', 'JPM', 'V', 'RTX', 'PG', 'GS', 'NKE', 'DIS', 'AXP', 'HD', 'INTC', 'WMT', 'IBM', 'MRK', 'UNH', 'KO', 'CAT', 'TRV', 'JNJ', 'CVX', 'MCD', 'VZ', 'CSCO', 'XOM', 'BA', 'MMM', 'PFE', 'WBA', 'DD']\n"
     ]
    }
   ],
   "source": [
    "print(config.SP500_20_TICKER)"
   ]
  },
  {
   "cell_type": "code",
   "execution_count": 14,
   "metadata": {
    "colab": {
     "base_uri": "https://localhost:8080/"
    },
    "id": "yCKm4om-s9kE",
    "outputId": "2ba50005-317e-4fa0-d31a-70705b58d88a"
   },
   "outputs": [
    {
     "name": "stdout",
     "output_type": "stream",
     "text": [
      "[*********************100%***********************]  1 of 1 completed\n",
      "[*********************100%***********************]  1 of 1 completed\n",
      "[*********************100%***********************]  1 of 1 completed\n",
      "[*********************100%***********************]  1 of 1 completed\n",
      "[*********************100%***********************]  1 of 1 completed\n",
      "[*********************100%***********************]  1 of 1 completed\n",
      "[*********************100%***********************]  1 of 1 completed\n",
      "[*********************100%***********************]  1 of 1 completed\n",
      "[*********************100%***********************]  1 of 1 completed\n",
      "[*********************100%***********************]  1 of 1 completed\n",
      "[*********************100%***********************]  1 of 1 completed\n",
      "[*********************100%***********************]  1 of 1 completed\n",
      "[*********************100%***********************]  1 of 1 completed\n",
      "[*********************100%***********************]  1 of 1 completed\n",
      "[*********************100%***********************]  1 of 1 completed\n",
      "[*********************100%***********************]  1 of 1 completed\n",
      "[*********************100%***********************]  1 of 1 completed\n",
      "[*********************100%***********************]  1 of 1 completed\n",
      "[*********************100%***********************]  1 of 1 completed\n",
      "[*********************100%***********************]  1 of 1 completed\n",
      "Shape of DataFrame:  (20, 8)\n",
      "[*********************100%***********************]  1 of 1 completed\n",
      "Shape of DataFrame:  (1, 8)\n",
      "[*********************100%***********************]  1 of 1 completed\n",
      "[*********************100%***********************]  1 of 1 completed\n",
      "[*********************100%***********************]  1 of 1 completed\n",
      "[*********************100%***********************]  1 of 1 completed\n",
      "[*********************100%***********************]  1 of 1 completed\n",
      "[*********************100%***********************]  1 of 1 completed\n",
      "[*********************100%***********************]  1 of 1 completed\n",
      "[*********************100%***********************]  1 of 1 completed\n",
      "[*********************100%***********************]  1 of 1 completed\n",
      "[*********************100%***********************]  1 of 1 completed\n",
      "[*********************100%***********************]  1 of 1 completed\n",
      "[*********************100%***********************]  1 of 1 completed\n",
      "[*********************100%***********************]  1 of 1 completed\n",
      "[*********************100%***********************]  1 of 1 completed\n",
      "[*********************100%***********************]  1 of 1 completed\n",
      "[*********************100%***********************]  1 of 1 completed\n",
      "[*********************100%***********************]  1 of 1 completed\n",
      "[*********************100%***********************]  1 of 1 completed\n",
      "[*********************100%***********************]  1 of 1 completed\n",
      "[*********************100%***********************]  1 of 1 completed\n",
      "Shape of DataFrame:  (20, 8)\n",
      "[*********************100%***********************]  1 of 1 completed\n",
      "Shape of DataFrame:  (1, 8)\n"
     ]
    }
   ],
   "source": [
    "sp500_20_df = YahooDownloader(start_date = config.START_DATE,\n",
    "                     end_date = config.END_DATE,\n",
    "                     ticker_list = config.SP500_20_TICKER).fetch_data()\n",
    "\n",
    "sp_df = YahooDownloader(start_date = config.START_DATE,\n",
    "                     end_date = config.END_DATE,\n",
    "                     ticker_list = config.SP500_TICKER).fetch_data()\n",
    "\n",
    "nas_20_df = YahooDownloader(start_date = config.START_DATE,\n",
    "                     end_date = config.END_DATE,\n",
    "                     ticker_list = config.NAS_20_TICKER).fetch_data()\n",
    "qqq_df = YahooDownloader(start_date = config.START_DATE,\n",
    "                     end_date = config.END_DATE,\n",
    "                     ticker_list = config.QQQ_TICKER).fetch_data()"
   ]
  },
  {
   "cell_type": "code",
   "execution_count": 15,
   "metadata": {
    "colab": {
     "base_uri": "https://localhost:8080/"
    },
    "id": "CV3HrZHLh1hy",
    "outputId": "a0fc1d82-5e09-4ddc-b624-24f304db7f79"
   },
   "outputs": [
    {
     "data": {
      "text/plain": [
       "(90630, 8)"
      ]
     },
     "execution_count": 15,
     "metadata": {},
     "output_type": "execute_result"
    }
   ],
   "source": [
    "sp500_20_df.head()"
   ]
  },
  {
   "cell_type": "code",
   "execution_count": 16,
   "metadata": {
    "colab": {
     "base_uri": "https://localhost:8080/",
     "height": 204
    },
    "id": "4hYkeaPiICHS",
    "outputId": "45c1f6a6-d7ef-4278-f0a6-1182f4c02189"
   },
   "outputs": [
    {
     "data": {
      "text/html": [
       "<div>\n",
       "<style scoped>\n",
       "    .dataframe tbody tr th:only-of-type {\n",
       "        vertical-align: middle;\n",
       "    }\n",
       "\n",
       "    .dataframe tbody tr th {\n",
       "        vertical-align: top;\n",
       "    }\n",
       "\n",
       "    .dataframe thead th {\n",
       "        text-align: right;\n",
       "    }\n",
       "</style>\n",
       "<table border=\"1\" class=\"dataframe\">\n",
       "  <thead>\n",
       "    <tr style=\"text-align: right;\">\n",
       "      <th></th>\n",
       "      <th>date</th>\n",
       "      <th>open</th>\n",
       "      <th>high</th>\n",
       "      <th>low</th>\n",
       "      <th>close</th>\n",
       "      <th>volume</th>\n",
       "      <th>tic</th>\n",
       "      <th>day</th>\n",
       "    </tr>\n",
       "  </thead>\n",
       "  <tbody>\n",
       "    <tr>\n",
       "      <th>0</th>\n",
       "      <td>2009-01-02</td>\n",
       "      <td>3.067143</td>\n",
       "      <td>3.251429</td>\n",
       "      <td>3.041429</td>\n",
       "      <td>2.787006</td>\n",
       "      <td>746015200</td>\n",
       "      <td>AAPL</td>\n",
       "      <td>4</td>\n",
       "    </tr>\n",
       "    <tr>\n",
       "      <th>1</th>\n",
       "      <td>2009-01-02</td>\n",
       "      <td>18.570000</td>\n",
       "      <td>19.520000</td>\n",
       "      <td>18.400000</td>\n",
       "      <td>15.698216</td>\n",
       "      <td>10955700</td>\n",
       "      <td>AXP</td>\n",
       "      <td>4</td>\n",
       "    </tr>\n",
       "    <tr>\n",
       "      <th>2</th>\n",
       "      <td>2009-01-02</td>\n",
       "      <td>42.799999</td>\n",
       "      <td>45.560001</td>\n",
       "      <td>42.779999</td>\n",
       "      <td>33.941101</td>\n",
       "      <td>7010200</td>\n",
       "      <td>BA</td>\n",
       "      <td>4</td>\n",
       "    </tr>\n",
       "    <tr>\n",
       "      <th>3</th>\n",
       "      <td>2009-01-02</td>\n",
       "      <td>44.910000</td>\n",
       "      <td>46.980000</td>\n",
       "      <td>44.709999</td>\n",
       "      <td>32.830360</td>\n",
       "      <td>7117200</td>\n",
       "      <td>CAT</td>\n",
       "      <td>4</td>\n",
       "    </tr>\n",
       "    <tr>\n",
       "      <th>4</th>\n",
       "      <td>2009-01-02</td>\n",
       "      <td>16.410000</td>\n",
       "      <td>17.000000</td>\n",
       "      <td>16.250000</td>\n",
       "      <td>12.592946</td>\n",
       "      <td>40980600</td>\n",
       "      <td>CSCO</td>\n",
       "      <td>4</td>\n",
       "    </tr>\n",
       "  </tbody>\n",
       "</table>\n",
       "</div>"
      ],
      "text/plain": [
       "         date       open       high        low      close     volume   tic  \\\n",
       "0  2009-01-02   3.067143   3.251429   3.041429   2.787006  746015200  AAPL   \n",
       "1  2009-01-02  18.570000  19.520000  18.400000  15.698216   10955700   AXP   \n",
       "2  2009-01-02  42.799999  45.560001  42.779999  33.941101    7010200    BA   \n",
       "3  2009-01-02  44.910000  46.980000  44.709999  32.830360    7117200   CAT   \n",
       "4  2009-01-02  16.410000  17.000000  16.250000  12.592946   40980600  CSCO   \n",
       "\n",
       "   day  \n",
       "0    4  \n",
       "1    4  \n",
       "2    4  \n",
       "3    4  \n",
       "4    4  "
      ]
     },
     "execution_count": 16,
     "metadata": {},
     "output_type": "execute_result"
    }
   ],
   "source": [
    "df.sort_values(['date','tic'],ignore_index=True).head()"
   ]
  },
  {
   "cell_type": "markdown",
   "metadata": {
    "id": "uqC6c40Zh1iH"
   },
   "source": [
    "# Part 4: Preprocess Data\n",
    "Data preprocessing is a crucial step for training a high quality machine learning model. We need to check for missing data and do feature engineering in order to convert the data into a model-ready state.\n",
    "* Add technical indicators. In practical trading, various information needs to be taken into account, for example the historical stock prices, current holding shares, technical indicators, etc. In this article, we demonstrate two trend-following technical indicators: MACD and RSI.\n",
    "* Add turbulence index. Risk-aversion reflects whether an investor will choose to preserve the capital. It also influences one's trading strategy when facing different market volatility level. To control the risk in a worst-case scenario, such as financial crisis of 2007–2008, FinRL employs the financial turbulence index that measures extreme asset price fluctuation."
   ]
  },
  {
   "cell_type": "code",
   "execution_count": 17,
   "metadata": {
    "colab": {
     "base_uri": "https://localhost:8080/"
    },
    "id": "PmKP-1ii3RLS",
    "outputId": "f04f7c44-c6ad-48db-9b9c-dbc72ce47f80",
    "pycharm": {
     "name": "#%%\n"
    }
   },
   "outputs": [
    {
     "name": "stdout",
     "output_type": "stream",
     "text": [
      "Successfully added technical indicators\n",
      "Successfully added turbulence index\n"
     ]
    }
   ],
   "source": [
    "fe = FeatureEngineer(\n",
    "                    use_technical_indicator=True,\n",
    "                    tech_indicator_list = config.TECHNICAL_INDICATORS_LIST,\n",
    "                    use_turbulence=True,\n",
    "                    user_defined_feature = False)\n",
    "\n",
    "processed = fe.preprocess_data(df)"
   ]
  },
  {
   "cell_type": "code",
   "execution_count": 18,
   "metadata": {},
   "outputs": [
    {
     "data": {
      "text/html": [
       "<div>\n",
       "<style scoped>\n",
       "    .dataframe tbody tr th:only-of-type {\n",
       "        vertical-align: middle;\n",
       "    }\n",
       "\n",
       "    .dataframe tbody tr th {\n",
       "        vertical-align: top;\n",
       "    }\n",
       "\n",
       "    .dataframe thead th {\n",
       "        text-align: right;\n",
       "    }\n",
       "</style>\n",
       "<table border=\"1\" class=\"dataframe\">\n",
       "  <thead>\n",
       "    <tr style=\"text-align: right;\">\n",
       "      <th></th>\n",
       "      <th>date</th>\n",
       "      <th>open</th>\n",
       "      <th>high</th>\n",
       "      <th>low</th>\n",
       "      <th>close</th>\n",
       "      <th>volume</th>\n",
       "      <th>tic</th>\n",
       "      <th>day</th>\n",
       "      <th>macd</th>\n",
       "      <th>boll_ub</th>\n",
       "      <th>boll_lb</th>\n",
       "      <th>rsi_30</th>\n",
       "      <th>cci_30</th>\n",
       "      <th>dx_30</th>\n",
       "      <th>close_30_sma</th>\n",
       "      <th>close_60_sma</th>\n",
       "      <th>turbulence</th>\n",
       "    </tr>\n",
       "  </thead>\n",
       "  <tbody>\n",
       "    <tr>\n",
       "      <th>0</th>\n",
       "      <td>2009-01-02</td>\n",
       "      <td>3.067143</td>\n",
       "      <td>3.251429</td>\n",
       "      <td>3.041429</td>\n",
       "      <td>2.787006</td>\n",
       "      <td>746015200</td>\n",
       "      <td>AAPL</td>\n",
       "      <td>4</td>\n",
       "      <td>0.0</td>\n",
       "      <td>3.012162</td>\n",
       "      <td>2.679473</td>\n",
       "      <td>100.0</td>\n",
       "      <td>66.666667</td>\n",
       "      <td>100.0</td>\n",
       "      <td>2.787006</td>\n",
       "      <td>2.787006</td>\n",
       "      <td>0.0</td>\n",
       "    </tr>\n",
       "    <tr>\n",
       "      <th>1</th>\n",
       "      <td>2009-01-02</td>\n",
       "      <td>18.570000</td>\n",
       "      <td>19.520000</td>\n",
       "      <td>18.400000</td>\n",
       "      <td>15.698216</td>\n",
       "      <td>10955700</td>\n",
       "      <td>AXP</td>\n",
       "      <td>4</td>\n",
       "      <td>0.0</td>\n",
       "      <td>3.012162</td>\n",
       "      <td>2.679473</td>\n",
       "      <td>100.0</td>\n",
       "      <td>66.666667</td>\n",
       "      <td>100.0</td>\n",
       "      <td>15.698216</td>\n",
       "      <td>15.698216</td>\n",
       "      <td>0.0</td>\n",
       "    </tr>\n",
       "    <tr>\n",
       "      <th>2</th>\n",
       "      <td>2009-01-02</td>\n",
       "      <td>42.799999</td>\n",
       "      <td>45.560001</td>\n",
       "      <td>42.779999</td>\n",
       "      <td>33.941101</td>\n",
       "      <td>7010200</td>\n",
       "      <td>BA</td>\n",
       "      <td>4</td>\n",
       "      <td>0.0</td>\n",
       "      <td>3.012162</td>\n",
       "      <td>2.679473</td>\n",
       "      <td>100.0</td>\n",
       "      <td>66.666667</td>\n",
       "      <td>100.0</td>\n",
       "      <td>33.941101</td>\n",
       "      <td>33.941101</td>\n",
       "      <td>0.0</td>\n",
       "    </tr>\n",
       "    <tr>\n",
       "      <th>3</th>\n",
       "      <td>2009-01-02</td>\n",
       "      <td>44.910000</td>\n",
       "      <td>46.980000</td>\n",
       "      <td>44.709999</td>\n",
       "      <td>32.830360</td>\n",
       "      <td>7117200</td>\n",
       "      <td>CAT</td>\n",
       "      <td>4</td>\n",
       "      <td>0.0</td>\n",
       "      <td>3.012162</td>\n",
       "      <td>2.679473</td>\n",
       "      <td>100.0</td>\n",
       "      <td>66.666667</td>\n",
       "      <td>100.0</td>\n",
       "      <td>32.830360</td>\n",
       "      <td>32.830360</td>\n",
       "      <td>0.0</td>\n",
       "    </tr>\n",
       "    <tr>\n",
       "      <th>4</th>\n",
       "      <td>2009-01-02</td>\n",
       "      <td>16.410000</td>\n",
       "      <td>17.000000</td>\n",
       "      <td>16.250000</td>\n",
       "      <td>12.592946</td>\n",
       "      <td>40980600</td>\n",
       "      <td>CSCO</td>\n",
       "      <td>4</td>\n",
       "      <td>0.0</td>\n",
       "      <td>3.012162</td>\n",
       "      <td>2.679473</td>\n",
       "      <td>100.0</td>\n",
       "      <td>66.666667</td>\n",
       "      <td>100.0</td>\n",
       "      <td>12.592946</td>\n",
       "      <td>12.592946</td>\n",
       "      <td>0.0</td>\n",
       "    </tr>\n",
       "  </tbody>\n",
       "</table>\n",
       "</div>"
      ],
      "text/plain": [
       "         date       open       high        low      close     volume   tic  \\\n",
       "0  2009-01-02   3.067143   3.251429   3.041429   2.787006  746015200  AAPL   \n",
       "1  2009-01-02  18.570000  19.520000  18.400000  15.698216   10955700   AXP   \n",
       "2  2009-01-02  42.799999  45.560001  42.779999  33.941101    7010200    BA   \n",
       "3  2009-01-02  44.910000  46.980000  44.709999  32.830360    7117200   CAT   \n",
       "4  2009-01-02  16.410000  17.000000  16.250000  12.592946   40980600  CSCO   \n",
       "\n",
       "   day  macd   boll_ub   boll_lb  rsi_30     cci_30  dx_30  close_30_sma  \\\n",
       "0    4   0.0  3.012162  2.679473   100.0  66.666667  100.0      2.787006   \n",
       "1    4   0.0  3.012162  2.679473   100.0  66.666667  100.0     15.698216   \n",
       "2    4   0.0  3.012162  2.679473   100.0  66.666667  100.0     33.941101   \n",
       "3    4   0.0  3.012162  2.679473   100.0  66.666667  100.0     32.830360   \n",
       "4    4   0.0  3.012162  2.679473   100.0  66.666667  100.0     12.592946   \n",
       "\n",
       "   close_60_sma  turbulence  \n",
       "0      2.787006         0.0  \n",
       "1     15.698216         0.0  \n",
       "2     33.941101         0.0  \n",
       "3     32.830360         0.0  \n",
       "4     12.592946         0.0  "
      ]
     },
     "execution_count": 18,
     "metadata": {},
     "output_type": "execute_result"
    }
   ],
   "source": [
    "processed.shape\n",
    "processed.head()"
   ]
  },
  {
   "cell_type": "code",
   "execution_count": 19,
   "metadata": {
    "id": "Kixon2tR3RLT"
   },
   "outputs": [],
   "source": [
    "list_ticker = processed[\"tic\"].unique().tolist()\n",
    "list_date = list(pd.date_range(processed['date'].min(),processed['date'].max()).astype(str))\n",
    "combination = list(itertools.product(list_date,list_ticker))\n",
    "\n",
    "processed_full = pd.DataFrame(combination,columns=[\"date\",\"tic\"]).merge(processed,on=[\"date\",\"tic\"],how=\"left\")\n",
    "processed_full = processed_full[processed_full['date'].isin(processed['date'])]\n",
    "processed_full = processed_full.sort_values(['date','tic'])\n",
    "processed_full = processed_full.fillna(0)"
   ]
  },
  {
   "cell_type": "code",
   "execution_count": 20,
   "metadata": {
    "colab": {
     "base_uri": "https://localhost:8080/",
     "height": 549
    },
    "id": "grvhGJJII3Xn",
    "outputId": "0523691f-99d7-4f11-d72f-cf20622f5f28"
   },
   "outputs": [
    {
     "data": {
      "text/html": [
       "<div>\n",
       "<style scoped>\n",
       "    .dataframe tbody tr th:only-of-type {\n",
       "        vertical-align: middle;\n",
       "    }\n",
       "\n",
       "    .dataframe tbody tr th {\n",
       "        vertical-align: top;\n",
       "    }\n",
       "\n",
       "    .dataframe thead th {\n",
       "        text-align: right;\n",
       "    }\n",
       "</style>\n",
       "<table border=\"1\" class=\"dataframe\">\n",
       "  <thead>\n",
       "    <tr style=\"text-align: right;\">\n",
       "      <th></th>\n",
       "      <th>date</th>\n",
       "      <th>tic</th>\n",
       "      <th>open</th>\n",
       "      <th>high</th>\n",
       "      <th>low</th>\n",
       "      <th>close</th>\n",
       "      <th>volume</th>\n",
       "      <th>day</th>\n",
       "      <th>macd</th>\n",
       "      <th>boll_ub</th>\n",
       "      <th>boll_lb</th>\n",
       "      <th>rsi_30</th>\n",
       "      <th>cci_30</th>\n",
       "      <th>dx_30</th>\n",
       "      <th>close_30_sma</th>\n",
       "      <th>close_60_sma</th>\n",
       "      <th>turbulence</th>\n",
       "    </tr>\n",
       "  </thead>\n",
       "  <tbody>\n",
       "    <tr>\n",
       "      <th>0</th>\n",
       "      <td>2009-01-02</td>\n",
       "      <td>AAPL</td>\n",
       "      <td>3.067143</td>\n",
       "      <td>3.251429</td>\n",
       "      <td>3.041429</td>\n",
       "      <td>2.787006</td>\n",
       "      <td>746015200.0</td>\n",
       "      <td>4.0</td>\n",
       "      <td>0.0</td>\n",
       "      <td>3.012162</td>\n",
       "      <td>2.679473</td>\n",
       "      <td>100.0</td>\n",
       "      <td>66.666667</td>\n",
       "      <td>100.0</td>\n",
       "      <td>2.787006</td>\n",
       "      <td>2.787006</td>\n",
       "      <td>0.0</td>\n",
       "    </tr>\n",
       "    <tr>\n",
       "      <th>1</th>\n",
       "      <td>2009-01-02</td>\n",
       "      <td>AXP</td>\n",
       "      <td>18.570000</td>\n",
       "      <td>19.520000</td>\n",
       "      <td>18.400000</td>\n",
       "      <td>15.698216</td>\n",
       "      <td>10955700.0</td>\n",
       "      <td>4.0</td>\n",
       "      <td>0.0</td>\n",
       "      <td>3.012162</td>\n",
       "      <td>2.679473</td>\n",
       "      <td>100.0</td>\n",
       "      <td>66.666667</td>\n",
       "      <td>100.0</td>\n",
       "      <td>15.698216</td>\n",
       "      <td>15.698216</td>\n",
       "      <td>0.0</td>\n",
       "    </tr>\n",
       "    <tr>\n",
       "      <th>2</th>\n",
       "      <td>2009-01-02</td>\n",
       "      <td>BA</td>\n",
       "      <td>42.799999</td>\n",
       "      <td>45.560001</td>\n",
       "      <td>42.779999</td>\n",
       "      <td>33.941101</td>\n",
       "      <td>7010200.0</td>\n",
       "      <td>4.0</td>\n",
       "      <td>0.0</td>\n",
       "      <td>3.012162</td>\n",
       "      <td>2.679473</td>\n",
       "      <td>100.0</td>\n",
       "      <td>66.666667</td>\n",
       "      <td>100.0</td>\n",
       "      <td>33.941101</td>\n",
       "      <td>33.941101</td>\n",
       "      <td>0.0</td>\n",
       "    </tr>\n",
       "    <tr>\n",
       "      <th>3</th>\n",
       "      <td>2009-01-02</td>\n",
       "      <td>CAT</td>\n",
       "      <td>44.910000</td>\n",
       "      <td>46.980000</td>\n",
       "      <td>44.709999</td>\n",
       "      <td>32.830360</td>\n",
       "      <td>7117200.0</td>\n",
       "      <td>4.0</td>\n",
       "      <td>0.0</td>\n",
       "      <td>3.012162</td>\n",
       "      <td>2.679473</td>\n",
       "      <td>100.0</td>\n",
       "      <td>66.666667</td>\n",
       "      <td>100.0</td>\n",
       "      <td>32.830360</td>\n",
       "      <td>32.830360</td>\n",
       "      <td>0.0</td>\n",
       "    </tr>\n",
       "    <tr>\n",
       "      <th>4</th>\n",
       "      <td>2009-01-02</td>\n",
       "      <td>CSCO</td>\n",
       "      <td>16.410000</td>\n",
       "      <td>17.000000</td>\n",
       "      <td>16.250000</td>\n",
       "      <td>12.592946</td>\n",
       "      <td>40980600.0</td>\n",
       "      <td>4.0</td>\n",
       "      <td>0.0</td>\n",
       "      <td>3.012162</td>\n",
       "      <td>2.679473</td>\n",
       "      <td>100.0</td>\n",
       "      <td>66.666667</td>\n",
       "      <td>100.0</td>\n",
       "      <td>12.592946</td>\n",
       "      <td>12.592946</td>\n",
       "      <td>0.0</td>\n",
       "    </tr>\n",
       "    <tr>\n",
       "      <th>5</th>\n",
       "      <td>2009-01-02</td>\n",
       "      <td>CVX</td>\n",
       "      <td>74.230003</td>\n",
       "      <td>77.300003</td>\n",
       "      <td>73.580002</td>\n",
       "      <td>47.373642</td>\n",
       "      <td>13695900.0</td>\n",
       "      <td>4.0</td>\n",
       "      <td>0.0</td>\n",
       "      <td>3.012162</td>\n",
       "      <td>2.679473</td>\n",
       "      <td>100.0</td>\n",
       "      <td>66.666667</td>\n",
       "      <td>100.0</td>\n",
       "      <td>47.373642</td>\n",
       "      <td>47.373642</td>\n",
       "      <td>0.0</td>\n",
       "    </tr>\n",
       "    <tr>\n",
       "      <th>6</th>\n",
       "      <td>2009-01-02</td>\n",
       "      <td>DD</td>\n",
       "      <td>21.605234</td>\n",
       "      <td>22.060680</td>\n",
       "      <td>20.993229</td>\n",
       "      <td>15.336650</td>\n",
       "      <td>13251037.0</td>\n",
       "      <td>4.0</td>\n",
       "      <td>0.0</td>\n",
       "      <td>3.012162</td>\n",
       "      <td>2.679473</td>\n",
       "      <td>100.0</td>\n",
       "      <td>66.666667</td>\n",
       "      <td>100.0</td>\n",
       "      <td>15.336650</td>\n",
       "      <td>15.336650</td>\n",
       "      <td>0.0</td>\n",
       "    </tr>\n",
       "    <tr>\n",
       "      <th>7</th>\n",
       "      <td>2009-01-02</td>\n",
       "      <td>DIS</td>\n",
       "      <td>22.760000</td>\n",
       "      <td>24.030001</td>\n",
       "      <td>22.500000</td>\n",
       "      <td>20.597496</td>\n",
       "      <td>9796600.0</td>\n",
       "      <td>4.0</td>\n",
       "      <td>0.0</td>\n",
       "      <td>3.012162</td>\n",
       "      <td>2.679473</td>\n",
       "      <td>100.0</td>\n",
       "      <td>66.666667</td>\n",
       "      <td>100.0</td>\n",
       "      <td>20.597496</td>\n",
       "      <td>20.597496</td>\n",
       "      <td>0.0</td>\n",
       "    </tr>\n",
       "    <tr>\n",
       "      <th>8</th>\n",
       "      <td>2009-01-02</td>\n",
       "      <td>GS</td>\n",
       "      <td>84.019997</td>\n",
       "      <td>87.620003</td>\n",
       "      <td>82.190002</td>\n",
       "      <td>72.559456</td>\n",
       "      <td>14088500.0</td>\n",
       "      <td>4.0</td>\n",
       "      <td>0.0</td>\n",
       "      <td>3.012162</td>\n",
       "      <td>2.679473</td>\n",
       "      <td>100.0</td>\n",
       "      <td>66.666667</td>\n",
       "      <td>100.0</td>\n",
       "      <td>72.559456</td>\n",
       "      <td>72.559456</td>\n",
       "      <td>0.0</td>\n",
       "    </tr>\n",
       "    <tr>\n",
       "      <th>9</th>\n",
       "      <td>2009-01-02</td>\n",
       "      <td>HD</td>\n",
       "      <td>23.070000</td>\n",
       "      <td>24.190001</td>\n",
       "      <td>22.959999</td>\n",
       "      <td>17.797922</td>\n",
       "      <td>14902500.0</td>\n",
       "      <td>4.0</td>\n",
       "      <td>0.0</td>\n",
       "      <td>3.012162</td>\n",
       "      <td>2.679473</td>\n",
       "      <td>100.0</td>\n",
       "      <td>66.666667</td>\n",
       "      <td>100.0</td>\n",
       "      <td>17.797922</td>\n",
       "      <td>17.797922</td>\n",
       "      <td>0.0</td>\n",
       "    </tr>\n",
       "  </tbody>\n",
       "</table>\n",
       "</div>"
      ],
      "text/plain": [
       "         date   tic       open       high        low      close       volume  \\\n",
       "0  2009-01-02  AAPL   3.067143   3.251429   3.041429   2.787006  746015200.0   \n",
       "1  2009-01-02   AXP  18.570000  19.520000  18.400000  15.698216   10955700.0   \n",
       "2  2009-01-02    BA  42.799999  45.560001  42.779999  33.941101    7010200.0   \n",
       "3  2009-01-02   CAT  44.910000  46.980000  44.709999  32.830360    7117200.0   \n",
       "4  2009-01-02  CSCO  16.410000  17.000000  16.250000  12.592946   40980600.0   \n",
       "5  2009-01-02   CVX  74.230003  77.300003  73.580002  47.373642   13695900.0   \n",
       "6  2009-01-02    DD  21.605234  22.060680  20.993229  15.336650   13251037.0   \n",
       "7  2009-01-02   DIS  22.760000  24.030001  22.500000  20.597496    9796600.0   \n",
       "8  2009-01-02    GS  84.019997  87.620003  82.190002  72.559456   14088500.0   \n",
       "9  2009-01-02    HD  23.070000  24.190001  22.959999  17.797922   14902500.0   \n",
       "\n",
       "   day  macd   boll_ub   boll_lb  rsi_30     cci_30  dx_30  close_30_sma  \\\n",
       "0  4.0   0.0  3.012162  2.679473   100.0  66.666667  100.0      2.787006   \n",
       "1  4.0   0.0  3.012162  2.679473   100.0  66.666667  100.0     15.698216   \n",
       "2  4.0   0.0  3.012162  2.679473   100.0  66.666667  100.0     33.941101   \n",
       "3  4.0   0.0  3.012162  2.679473   100.0  66.666667  100.0     32.830360   \n",
       "4  4.0   0.0  3.012162  2.679473   100.0  66.666667  100.0     12.592946   \n",
       "5  4.0   0.0  3.012162  2.679473   100.0  66.666667  100.0     47.373642   \n",
       "6  4.0   0.0  3.012162  2.679473   100.0  66.666667  100.0     15.336650   \n",
       "7  4.0   0.0  3.012162  2.679473   100.0  66.666667  100.0     20.597496   \n",
       "8  4.0   0.0  3.012162  2.679473   100.0  66.666667  100.0     72.559456   \n",
       "9  4.0   0.0  3.012162  2.679473   100.0  66.666667  100.0     17.797922   \n",
       "\n",
       "   close_60_sma  turbulence  \n",
       "0      2.787006         0.0  \n",
       "1     15.698216         0.0  \n",
       "2     33.941101         0.0  \n",
       "3     32.830360         0.0  \n",
       "4     12.592946         0.0  \n",
       "5     47.373642         0.0  \n",
       "6     15.336650         0.0  \n",
       "7     20.597496         0.0  \n",
       "8     72.559456         0.0  \n",
       "9     17.797922         0.0  "
      ]
     },
     "execution_count": 20,
     "metadata": {},
     "output_type": "execute_result"
    }
   ],
   "source": [
    "processed_full.sort_values(['date','tic'],ignore_index=True).head(10)"
   ]
  },
  {
   "cell_type": "markdown",
   "metadata": {
    "id": "-QsYaY0Dh1iw"
   },
   "source": [
    "<a id='4'></a>\n",
    "# Part 5. Design Environment\n",
    "Considering the stochastic and interactive nature of the automated stock trading tasks, a financial task is modeled as a **Markov Decision Process (MDP)** problem. The training process involves observing stock price change, taking an action and reward's calculation to have the agent adjusting its strategy accordingly. By interacting with the environment, the trading agent will derive a trading strategy with the maximized rewards as time proceeds.\n",
    "\n",
    "Our trading environments, based on OpenAI Gym framework, simulate live stock markets with real market data according to the principle of time-driven simulation.\n",
    "\n",
    "The action space describes the allowed actions that the agent interacts with the environment. Normally, action a includes three actions: {-1, 0, 1}, where -1, 0, 1 represent selling, holding, and buying one share. Also, an action can be carried upon multiple shares. We use an action space {-k,…,-1, 0, 1, …, k}, where k denotes the number of shares to buy and -k denotes the number of shares to sell. For example, \"Buy 10 shares of AAPL\" or \"Sell 10 shares of AAPL\" are 10 or -10, respectively. The continuous action space needs to be normalized to [-1, 1], since the policy is defined on a Gaussian distribution, which needs to be normalized and symmetric."
   ]
  },
  {
   "cell_type": "markdown",
   "metadata": {
    "id": "5TOhcryx44bb"
   },
   "source": [
    "## Training data split: 2009-01-01 to 2018-12-31\n",
    "## Trade data split: 2019-01-01 to 2020-09-30"
   ]
  },
  {
   "cell_type": "code",
   "execution_count": 21,
   "metadata": {
    "colab": {
     "base_uri": "https://localhost:8080/"
    },
    "id": "W0qaVGjLtgbI",
    "outputId": "f7dd4f68-51b0-4497-867d-e6cb462f9474"
   },
   "outputs": [
    {
     "name": "stdout",
     "output_type": "stream",
     "text": [
      "75480\n",
      "15150\n"
     ]
    }
   ],
   "source": [
    "train = data_split(processed_full, '2009-01-01','2019-01-01')\n",
    "trade = data_split(processed_full, '2019-01-01','2021-01-01')\n",
    "print(len(train))\n",
    "print(len(trade))"
   ]
  },
  {
   "cell_type": "code",
   "execution_count": 22,
   "metadata": {
    "colab": {
     "base_uri": "https://localhost:8080/",
     "height": 309
    },
    "id": "p52zNCOhTtLR",
    "outputId": "ef026856-f15e-49e3-d3d9-b45eaed9f3bb"
   },
   "outputs": [
    {
     "name": "stdout",
     "output_type": "stream",
     "text": [
      "         date   tic       open       high        low      close       volume  \\\n",
      "0  2009-01-02  AAPL   3.067143   3.251429   3.041429   2.787006  746015200.0   \n",
      "0  2009-01-02   AXP  18.570000  19.520000  18.400000  15.698216   10955700.0   \n",
      "0  2009-01-02    BA  42.799999  45.560001  42.779999  33.941101    7010200.0   \n",
      "0  2009-01-02   CAT  44.910000  46.980000  44.709999  32.830360    7117200.0   \n",
      "0  2009-01-02  CSCO  16.410000  17.000000  16.250000  12.592946   40980600.0   \n",
      "0  2009-01-02   CVX  74.230003  77.300003  73.580002  47.373642   13695900.0   \n",
      "0  2009-01-02    DD  21.605234  22.060680  20.993229  15.336650   13251037.0   \n",
      "0  2009-01-02   DIS  22.760000  24.030001  22.500000  20.597496    9796600.0   \n",
      "0  2009-01-02    GS  84.019997  87.620003  82.190002  72.559456   14088500.0   \n",
      "0  2009-01-02    HD  23.070000  24.190001  22.959999  17.797922   14902500.0   \n",
      "0  2009-01-02   IBM  83.889999  87.589996  83.889999  59.180256    7558200.0   \n",
      "0  2009-01-02  INTC  14.690000  15.250000  14.470000  10.399736   52208200.0   \n",
      "0  2009-01-02   JNJ  60.130001  61.000000  59.040001  42.003609   11638900.0   \n",
      "0  2009-01-02   JPM  31.190001  31.639999  30.469999  23.343863   32494900.0   \n",
      "0  2009-01-02    KO  22.700001  23.000000  22.520000  15.628469   16355800.0   \n",
      "0  2009-01-02   MCD  62.380001  64.129997  62.200001  44.312187    8652700.0   \n",
      "0  2009-01-02   MMM  57.549999  59.389999  57.520000  42.266518    5313900.0   \n",
      "0  2009-01-02   MRK  30.459999  31.120001  30.309999  19.942875   12207400.0   \n",
      "0  2009-01-02  MSFT  19.530001  20.400000  19.370001  15.435610   50084000.0   \n",
      "0  2009-01-02   NKE  12.737500  13.400000  12.577500  11.325711   12028800.0   \n",
      "0  2009-01-02   PFE  16.963947  17.362429  16.793169  10.714820   30274042.0   \n",
      "0  2009-01-02    PG  61.689999  62.970001  61.060001  42.827297   11135700.0   \n",
      "0  2009-01-02   RTX  33.643803  34.764004  33.373192  25.695541    7452887.0   \n",
      "0  2009-01-02   TRV  45.259998  45.910000  44.130001  33.274017    3279700.0   \n",
      "0  2009-01-02   UNH  26.700001  27.719999  26.540001  23.234612    4885900.0   \n",
      "0  2009-01-02     V  13.230000  13.427500  13.060000  12.232618   13199200.0   \n",
      "0  2009-01-02    VZ  32.000774  32.601021  31.466175  17.803312   14848985.0   \n",
      "0  2009-01-02   WBA  24.650000  25.670000  24.610001  19.097235    5266700.0   \n",
      "0  2009-01-02   WMT  55.980000  57.509998  55.779999  42.599510   16054800.0   \n",
      "0  2009-01-02   XOM  80.059998  82.110001  78.900002  51.835583   35803700.0   \n",
      "\n",
      "   day  macd   boll_ub   boll_lb  rsi_30     cci_30  dx_30  close_30_sma  \\\n",
      "0  4.0   0.0  3.012162  2.679473   100.0  66.666667  100.0      2.787006   \n",
      "0  4.0   0.0  3.012162  2.679473   100.0  66.666667  100.0     15.698216   \n",
      "0  4.0   0.0  3.012162  2.679473   100.0  66.666667  100.0     33.941101   \n",
      "0  4.0   0.0  3.012162  2.679473   100.0  66.666667  100.0     32.830360   \n",
      "0  4.0   0.0  3.012162  2.679473   100.0  66.666667  100.0     12.592946   \n",
      "0  4.0   0.0  3.012162  2.679473   100.0  66.666667  100.0     47.373642   \n",
      "0  4.0   0.0  3.012162  2.679473   100.0  66.666667  100.0     15.336650   \n",
      "0  4.0   0.0  3.012162  2.679473   100.0  66.666667  100.0     20.597496   \n",
      "0  4.0   0.0  3.012162  2.679473   100.0  66.666667  100.0     72.559456   \n",
      "0  4.0   0.0  3.012162  2.679473   100.0  66.666667  100.0     17.797922   \n",
      "0  4.0   0.0  3.012162  2.679473   100.0  66.666667  100.0     59.180256   \n",
      "0  4.0   0.0  3.012162  2.679473   100.0  66.666667  100.0     10.399736   \n",
      "0  4.0   0.0  3.012162  2.679473   100.0  66.666667  100.0     42.003609   \n",
      "0  4.0   0.0  3.012162  2.679473   100.0  66.666667  100.0     23.343863   \n",
      "0  4.0   0.0  3.012162  2.679473   100.0  66.666667  100.0     15.628469   \n",
      "0  4.0   0.0  3.012162  2.679473   100.0  66.666667  100.0     44.312187   \n",
      "0  4.0   0.0  3.012162  2.679473   100.0  66.666667  100.0     42.266518   \n",
      "0  4.0   0.0  3.012162  2.679473   100.0  66.666667  100.0     19.942875   \n",
      "0  4.0   0.0  3.012162  2.679473   100.0  66.666667  100.0     15.435610   \n",
      "0  4.0   0.0  3.012162  2.679473   100.0  66.666667  100.0     11.325711   \n",
      "0  4.0   0.0  3.012162  2.679473   100.0  66.666667  100.0     10.714820   \n",
      "0  4.0   0.0  3.012162  2.679473   100.0  66.666667  100.0     42.827297   \n",
      "0  4.0   0.0  3.012162  2.679473   100.0  66.666667  100.0     25.695541   \n",
      "0  4.0   0.0  3.012162  2.679473   100.0  66.666667  100.0     33.274017   \n",
      "0  4.0   0.0  3.012162  2.679473   100.0  66.666667  100.0     23.234612   \n",
      "0  4.0   0.0  3.012162  2.679473   100.0  66.666667  100.0     12.232618   \n",
      "0  4.0   0.0  3.012162  2.679473   100.0  66.666667  100.0     17.803312   \n",
      "0  4.0   0.0  3.012162  2.679473   100.0  66.666667  100.0     19.097235   \n",
      "0  4.0   0.0  3.012162  2.679473   100.0  66.666667  100.0     42.599510   \n",
      "0  4.0   0.0  3.012162  2.679473   100.0  66.666667  100.0     51.835583   \n",
      "\n",
      "   close_60_sma  turbulence  \n",
      "0      2.787006         0.0  \n",
      "0     15.698216         0.0  \n",
      "0     33.941101         0.0  \n",
      "0     32.830360         0.0  \n",
      "0     12.592946         0.0  \n",
      "0     47.373642         0.0  \n",
      "0     15.336650         0.0  \n",
      "0     20.597496         0.0  \n",
      "0     72.559456         0.0  \n",
      "0     17.797922         0.0  \n",
      "0     59.180256         0.0  \n",
      "0     10.399736         0.0  \n",
      "0     42.003609         0.0  \n",
      "0     23.343863         0.0  \n",
      "0     15.628469         0.0  \n",
      "0     44.312187         0.0  \n",
      "0     42.266518         0.0  \n",
      "0     19.942875         0.0  \n",
      "0     15.435610         0.0  \n",
      "0     11.325711         0.0  \n",
      "0     10.714820         0.0  \n",
      "0     42.827297         0.0  \n",
      "0     25.695541         0.0  \n",
      "0     33.274017         0.0  \n",
      "0     23.234612         0.0  \n",
      "0     12.232618         0.0  \n",
      "0     17.803312         0.0  \n",
      "0     19.097235         0.0  \n",
      "0     42.599510         0.0  \n",
      "0     51.835583         0.0  \n"
     ]
    }
   ],
   "source": [
    "initialData = train.loc[0,:]\n",
    "print(initialData)"
   ]
  },
  {
   "cell_type": "code",
   "execution_count": 23,
   "metadata": {
    "colab": {
     "base_uri": "https://localhost:8080/",
     "height": 309
    },
    "id": "k9zU9YaTTvFq",
    "outputId": "a449c5b4-b244-44b8-b756-10c82fe9546b"
   },
   "outputs": [
    {
     "data": {
      "text/html": [
       "<div>\n",
       "<style scoped>\n",
       "    .dataframe tbody tr th:only-of-type {\n",
       "        vertical-align: middle;\n",
       "    }\n",
       "\n",
       "    .dataframe tbody tr th {\n",
       "        vertical-align: top;\n",
       "    }\n",
       "\n",
       "    .dataframe thead th {\n",
       "        text-align: right;\n",
       "    }\n",
       "</style>\n",
       "<table border=\"1\" class=\"dataframe\">\n",
       "  <thead>\n",
       "    <tr style=\"text-align: right;\">\n",
       "      <th></th>\n",
       "      <th>date</th>\n",
       "      <th>tic</th>\n",
       "      <th>open</th>\n",
       "      <th>high</th>\n",
       "      <th>low</th>\n",
       "      <th>close</th>\n",
       "      <th>volume</th>\n",
       "      <th>day</th>\n",
       "      <th>macd</th>\n",
       "      <th>boll_ub</th>\n",
       "      <th>boll_lb</th>\n",
       "      <th>rsi_30</th>\n",
       "      <th>cci_30</th>\n",
       "      <th>dx_30</th>\n",
       "      <th>close_30_sma</th>\n",
       "      <th>close_60_sma</th>\n",
       "      <th>turbulence</th>\n",
       "    </tr>\n",
       "  </thead>\n",
       "  <tbody>\n",
       "    <tr>\n",
       "      <th>0</th>\n",
       "      <td>2019-01-02</td>\n",
       "      <td>AAPL</td>\n",
       "      <td>38.722500</td>\n",
       "      <td>39.712502</td>\n",
       "      <td>38.557499</td>\n",
       "      <td>38.439735</td>\n",
       "      <td>148158800.0</td>\n",
       "      <td>2.0</td>\n",
       "      <td>-2.013469</td>\n",
       "      <td>44.430054</td>\n",
       "      <td>35.384485</td>\n",
       "      <td>37.867359</td>\n",
       "      <td>-91.575723</td>\n",
       "      <td>42.250808</td>\n",
       "      <td>41.155815</td>\n",
       "      <td>46.409359</td>\n",
       "      <td>51.409187</td>\n",
       "    </tr>\n",
       "    <tr>\n",
       "      <th>0</th>\n",
       "      <td>2019-01-02</td>\n",
       "      <td>AXP</td>\n",
       "      <td>93.910004</td>\n",
       "      <td>96.269997</td>\n",
       "      <td>93.769997</td>\n",
       "      <td>92.042946</td>\n",
       "      <td>4175400.0</td>\n",
       "      <td>2.0</td>\n",
       "      <td>-3.403805</td>\n",
       "      <td>109.907410</td>\n",
       "      <td>84.174485</td>\n",
       "      <td>41.204998</td>\n",
       "      <td>-97.759092</td>\n",
       "      <td>26.709417</td>\n",
       "      <td>99.719922</td>\n",
       "      <td>100.286694</td>\n",
       "      <td>51.409187</td>\n",
       "    </tr>\n",
       "    <tr>\n",
       "      <th>0</th>\n",
       "      <td>2019-01-02</td>\n",
       "      <td>BA</td>\n",
       "      <td>316.190002</td>\n",
       "      <td>323.950012</td>\n",
       "      <td>313.709991</td>\n",
       "      <td>314.645142</td>\n",
       "      <td>3292200.0</td>\n",
       "      <td>2.0</td>\n",
       "      <td>-5.550592</td>\n",
       "      <td>339.116375</td>\n",
       "      <td>287.252015</td>\n",
       "      <td>47.010000</td>\n",
       "      <td>-21.712382</td>\n",
       "      <td>13.611972</td>\n",
       "      <td>314.427160</td>\n",
       "      <td>331.956148</td>\n",
       "      <td>51.409187</td>\n",
       "    </tr>\n",
       "    <tr>\n",
       "      <th>0</th>\n",
       "      <td>2019-01-02</td>\n",
       "      <td>CAT</td>\n",
       "      <td>124.029999</td>\n",
       "      <td>127.879997</td>\n",
       "      <td>123.000000</td>\n",
       "      <td>118.137177</td>\n",
       "      <td>4783200.0</td>\n",
       "      <td>2.0</td>\n",
       "      <td>-0.680049</td>\n",
       "      <td>125.145761</td>\n",
       "      <td>109.015061</td>\n",
       "      <td>48.229091</td>\n",
       "      <td>-5.147002</td>\n",
       "      <td>0.873482</td>\n",
       "      <td>117.640500</td>\n",
       "      <td>119.834356</td>\n",
       "      <td>51.409187</td>\n",
       "    </tr>\n",
       "    <tr>\n",
       "      <th>0</th>\n",
       "      <td>2019-01-02</td>\n",
       "      <td>CSCO</td>\n",
       "      <td>42.279999</td>\n",
       "      <td>43.200001</td>\n",
       "      <td>42.209999</td>\n",
       "      <td>39.772106</td>\n",
       "      <td>23833500.0</td>\n",
       "      <td>2.0</td>\n",
       "      <td>-0.945558</td>\n",
       "      <td>46.120801</td>\n",
       "      <td>36.852423</td>\n",
       "      <td>44.872560</td>\n",
       "      <td>-87.538213</td>\n",
       "      <td>29.529377</td>\n",
       "      <td>41.863034</td>\n",
       "      <td>42.137596</td>\n",
       "      <td>51.409187</td>\n",
       "    </tr>\n",
       "  </tbody>\n",
       "</table>\n",
       "</div>"
      ],
      "text/plain": [
       "         date   tic        open        high         low       close  \\\n",
       "0  2019-01-02  AAPL   38.722500   39.712502   38.557499   38.439735   \n",
       "0  2019-01-02   AXP   93.910004   96.269997   93.769997   92.042946   \n",
       "0  2019-01-02    BA  316.190002  323.950012  313.709991  314.645142   \n",
       "0  2019-01-02   CAT  124.029999  127.879997  123.000000  118.137177   \n",
       "0  2019-01-02  CSCO   42.279999   43.200001   42.209999   39.772106   \n",
       "\n",
       "        volume  day      macd     boll_ub     boll_lb     rsi_30     cci_30  \\\n",
       "0  148158800.0  2.0 -2.013469   44.430054   35.384485  37.867359 -91.575723   \n",
       "0    4175400.0  2.0 -3.403805  109.907410   84.174485  41.204998 -97.759092   \n",
       "0    3292200.0  2.0 -5.550592  339.116375  287.252015  47.010000 -21.712382   \n",
       "0    4783200.0  2.0 -0.680049  125.145761  109.015061  48.229091  -5.147002   \n",
       "0   23833500.0  2.0 -0.945558   46.120801   36.852423  44.872560 -87.538213   \n",
       "\n",
       "       dx_30  close_30_sma  close_60_sma  turbulence  \n",
       "0  42.250808     41.155815     46.409359   51.409187  \n",
       "0  26.709417     99.719922    100.286694   51.409187  \n",
       "0  13.611972    314.427160    331.956148   51.409187  \n",
       "0   0.873482    117.640500    119.834356   51.409187  \n",
       "0  29.529377     41.863034     42.137596   51.409187  "
      ]
     },
     "execution_count": 23,
     "metadata": {},
     "output_type": "execute_result"
    }
   ],
   "source": [
    "trade.head()"
   ]
  },
  {
   "cell_type": "code",
   "execution_count": 24,
   "metadata": {
    "colab": {
     "base_uri": "https://localhost:8080/"
    },
    "id": "zYN573SOHhxG",
    "outputId": "0c82387b-5820-4825-8a66-9d67f024f88e"
   },
   "outputs": [
    {
     "data": {
      "text/plain": [
       "['macd',\n",
       " 'boll_ub',\n",
       " 'boll_lb',\n",
       " 'rsi_30',\n",
       " 'cci_30',\n",
       " 'dx_30',\n",
       " 'close_30_sma',\n",
       " 'close_60_sma']"
      ]
     },
     "execution_count": 24,
     "metadata": {},
     "output_type": "execute_result"
    }
   ],
   "source": [
    "config.TECHNICAL_INDICATORS_LIST"
   ]
  },
  {
   "cell_type": "code",
   "execution_count": 25,
   "metadata": {
    "colab": {
     "base_uri": "https://localhost:8080/"
    },
    "id": "Q2zqII8rMIqn",
    "outputId": "de67ad03-fec4-4d1b-fcc5-2873406dde70"
   },
   "outputs": [
    {
     "name": "stdout",
     "output_type": "stream",
     "text": [
      "Stock Dimension: 30, State Space: 301\n"
     ]
    }
   ],
   "source": [
    "stock_dimension = len(train.tic.unique())\n",
    "state_space = 1 + 2*stock_dimension + len(config.TECHNICAL_INDICATORS_LIST)*stock_dimension\n",
    "print(f\"Stock Dimension: {stock_dimension}, State Space: {state_space}\")\n"
   ]
  },
  {
   "cell_type": "code",
   "execution_count": 26,
   "metadata": {
    "id": "AWyp84Ltto19"
   },
   "outputs": [
    {
     "name": "stdout",
     "output_type": "stream",
     "text": [
      "[1000000, 2.78700590133667, 15.698216438293457, 33.94110107421875, 32.830360412597656, 12.59294605255127, 47.37364196777344, 15.336649894714355, 20.597496032714844, 72.55945587158203, 17.797922134399414, 59.18025588989258, 10.399736404418945, 42.00360870361328, 23.343862533569336, 15.628469467163086, 44.31218719482422, 42.266517639160156, 19.942874908447266, 15.435609817504883, 11.325711250305176, 10.71481990814209, 42.82729721069336, 25.695541381835938, 33.274017333984375, 23.23461151123047, 12.23261833190918, 17.803312301635742, 19.09723472595215, 42.599510192871094, 51.8355827331543, 0, 0, 0, 0, 0, 0, 0, 0, 0, 0, 0, 0, 0, 0, 0, 0, 0, 0, 0, 0, 0, 0, 0, 0, 0, 0, 0, 0, 0, 0, 0.0, 0.0, 0.0, 0.0, 0.0, 0.0, 0.0, 0.0, 0.0, 0.0, 0.0, 0.0, 0.0, 0.0, 0.0, 0.0, 0.0, 0.0, 0.0, 0.0, 0.0, 0.0, 0.0, 0.0, 0.0, 0.0, 0.0, 0.0, 0.0, 0.0, 3.0121616168871115, 3.0121616168871115, 3.0121616168871115, 3.0121616168871115, 3.0121616168871115, 3.0121616168871115, 3.0121616168871115, 3.0121616168871115, 3.0121616168871115, 3.0121616168871115, 3.0121616168871115, 3.0121616168871115, 3.0121616168871115, 3.0121616168871115, 3.0121616168871115, 3.0121616168871115, 3.0121616168871115, 3.0121616168871115, 3.0121616168871115, 3.0121616168871115, 3.0121616168871115, 3.0121616168871115, 3.0121616168871115, 3.0121616168871115, 3.0121616168871115, 3.0121616168871115, 3.0121616168871115, 3.0121616168871115, 3.0121616168871115, 3.0121616168871115, 2.679473276530247, 2.679473276530247, 2.679473276530247, 2.679473276530247, 2.679473276530247, 2.679473276530247, 2.679473276530247, 2.679473276530247, 2.679473276530247, 2.679473276530247, 2.679473276530247, 2.679473276530247, 2.679473276530247, 2.679473276530247, 2.679473276530247, 2.679473276530247, 2.679473276530247, 2.679473276530247, 2.679473276530247, 2.679473276530247, 2.679473276530247, 2.679473276530247, 2.679473276530247, 2.679473276530247, 2.679473276530247, 2.679473276530247, 2.679473276530247, 2.679473276530247, 2.679473276530247, 2.679473276530247, 100.0, 100.0, 100.0, 100.0, 100.0, 100.0, 100.0, 100.0, 100.0, 100.0, 100.0, 100.0, 100.0, 100.0, 100.0, 100.0, 100.0, 100.0, 100.0, 100.0, 100.0, 100.0, 100.0, 100.0, 100.0, 100.0, 100.0, 100.0, 100.0, 100.0, 66.66666666666652, 66.66666666666652, 66.66666666666652, 66.66666666666652, 66.66666666666652, 66.66666666666652, 66.66666666666652, 66.66666666666652, 66.66666666666652, 66.66666666666652, 66.66666666666652, 66.66666666666652, 66.66666666666652, 66.66666666666652, 66.66666666666652, 66.66666666666652, 66.66666666666652, 66.66666666666652, 66.66666666666652, 66.66666666666652, 66.66666666666652, 66.66666666666652, 66.66666666666652, 66.66666666666652, 66.66666666666652, 66.66666666666652, 66.66666666666652, 66.66666666666652, 66.66666666666652, 66.66666666666652, 100.0, 100.0, 100.0, 100.0, 100.0, 100.0, 100.0, 100.0, 100.0, 100.0, 100.0, 100.0, 100.0, 100.0, 100.0, 100.0, 100.0, 100.0, 100.0, 100.0, 100.0, 100.0, 100.0, 100.0, 100.0, 100.0, 100.0, 100.0, 100.0, 100.0, 2.78700590133667, 15.698216438293457, 33.94110107421875, 32.830360412597656, 12.59294605255127, 47.37364196777344, 15.336649894714355, 20.597496032714844, 72.55945587158203, 17.797922134399414, 59.18025588989258, 10.399736404418945, 42.00360870361328, 23.343862533569336, 15.628469467163086, 44.31218719482422, 42.266517639160156, 19.942874908447266, 15.435609817504883, 11.325711250305176, 10.71481990814209, 42.82729721069336, 25.695541381835938, 33.274017333984375, 23.23461151123047, 12.23261833190918, 17.803312301635742, 19.09723472595215, 42.599510192871094, 51.8355827331543, 2.78700590133667, 15.698216438293457, 33.94110107421875, 32.830360412597656, 12.59294605255127, 47.37364196777344, 15.336649894714355, 20.597496032714844, 72.55945587158203, 17.797922134399414, 59.18025588989258, 10.399736404418945, 42.00360870361328, 23.343862533569336, 15.628469467163086, 44.31218719482422, 42.266517639160156, 19.942874908447266, 15.435609817504883, 11.325711250305176, 10.71481990814209, 42.82729721069336, 25.695541381835938, 33.274017333984375, 23.23461151123047, 12.23261833190918, 17.803312301635742, 19.09723472595215, 42.599510192871094, 51.8355827331543]\n"
     ]
    }
   ],
   "source": [
    "env_kwargs = {\n",
    "    \"hmax\": 100, \n",
    "    \"initial_amount\": 1000000, \n",
    "    \"buy_cost_pct\": 0.001,\n",
    "    \"sell_cost_pct\": 0.001,\n",
    "    \"state_space\": state_space, \n",
    "    \"stock_dim\": stock_dimension, \n",
    "    \"tech_indicator_list\": config.TECHNICAL_INDICATORS_LIST, \n",
    "    \"action_space\": stock_dimension, \n",
    "    \"reward_scaling\": 1e-4\n",
    "    \n",
    "}\n",
    "\n",
    "e_train_gym = StockTradingEnv(df = train, **env_kwargs)"
   ]
  },
  {
   "cell_type": "markdown",
   "metadata": {
    "id": "64EoqOrQjiVf"
   },
   "source": [
    "## Environment for Training\n",
    "\n"
   ]
  },
  {
   "cell_type": "code",
   "execution_count": 27,
   "metadata": {
    "colab": {
     "base_uri": "https://localhost:8080/"
    },
    "id": "xwSvvPjutpqS",
    "outputId": "259bc17b-f03a-498e-87f5-ab3406413096"
   },
   "outputs": [
    {
     "name": "stdout",
     "output_type": "stream",
     "text": [
      "[1000000, 2.78700590133667, 15.698216438293457, 33.94110107421875, 32.830360412597656, 12.59294605255127, 47.37364196777344, 15.336649894714355, 20.597496032714844, 72.55945587158203, 17.797922134399414, 59.18025588989258, 10.399736404418945, 42.00360870361328, 23.343862533569336, 15.628469467163086, 44.31218719482422, 42.266517639160156, 19.942874908447266, 15.435609817504883, 11.325711250305176, 10.71481990814209, 42.82729721069336, 25.695541381835938, 33.274017333984375, 23.23461151123047, 12.23261833190918, 17.803312301635742, 19.09723472595215, 42.599510192871094, 51.8355827331543, 0, 0, 0, 0, 0, 0, 0, 0, 0, 0, 0, 0, 0, 0, 0, 0, 0, 0, 0, 0, 0, 0, 0, 0, 0, 0, 0, 0, 0, 0, 0.0, 0.0, 0.0, 0.0, 0.0, 0.0, 0.0, 0.0, 0.0, 0.0, 0.0, 0.0, 0.0, 0.0, 0.0, 0.0, 0.0, 0.0, 0.0, 0.0, 0.0, 0.0, 0.0, 0.0, 0.0, 0.0, 0.0, 0.0, 0.0, 0.0, 3.0121616168871115, 3.0121616168871115, 3.0121616168871115, 3.0121616168871115, 3.0121616168871115, 3.0121616168871115, 3.0121616168871115, 3.0121616168871115, 3.0121616168871115, 3.0121616168871115, 3.0121616168871115, 3.0121616168871115, 3.0121616168871115, 3.0121616168871115, 3.0121616168871115, 3.0121616168871115, 3.0121616168871115, 3.0121616168871115, 3.0121616168871115, 3.0121616168871115, 3.0121616168871115, 3.0121616168871115, 3.0121616168871115, 3.0121616168871115, 3.0121616168871115, 3.0121616168871115, 3.0121616168871115, 3.0121616168871115, 3.0121616168871115, 3.0121616168871115, 2.679473276530247, 2.679473276530247, 2.679473276530247, 2.679473276530247, 2.679473276530247, 2.679473276530247, 2.679473276530247, 2.679473276530247, 2.679473276530247, 2.679473276530247, 2.679473276530247, 2.679473276530247, 2.679473276530247, 2.679473276530247, 2.679473276530247, 2.679473276530247, 2.679473276530247, 2.679473276530247, 2.679473276530247, 2.679473276530247, 2.679473276530247, 2.679473276530247, 2.679473276530247, 2.679473276530247, 2.679473276530247, 2.679473276530247, 2.679473276530247, 2.679473276530247, 2.679473276530247, 2.679473276530247, 100.0, 100.0, 100.0, 100.0, 100.0, 100.0, 100.0, 100.0, 100.0, 100.0, 100.0, 100.0, 100.0, 100.0, 100.0, 100.0, 100.0, 100.0, 100.0, 100.0, 100.0, 100.0, 100.0, 100.0, 100.0, 100.0, 100.0, 100.0, 100.0, 100.0, 66.66666666666652, 66.66666666666652, 66.66666666666652, 66.66666666666652, 66.66666666666652, 66.66666666666652, 66.66666666666652, 66.66666666666652, 66.66666666666652, 66.66666666666652, 66.66666666666652, 66.66666666666652, 66.66666666666652, 66.66666666666652, 66.66666666666652, 66.66666666666652, 66.66666666666652, 66.66666666666652, 66.66666666666652, 66.66666666666652, 66.66666666666652, 66.66666666666652, 66.66666666666652, 66.66666666666652, 66.66666666666652, 66.66666666666652, 66.66666666666652, 66.66666666666652, 66.66666666666652, 66.66666666666652, 100.0, 100.0, 100.0, 100.0, 100.0, 100.0, 100.0, 100.0, 100.0, 100.0, 100.0, 100.0, 100.0, 100.0, 100.0, 100.0, 100.0, 100.0, 100.0, 100.0, 100.0, 100.0, 100.0, 100.0, 100.0, 100.0, 100.0, 100.0, 100.0, 100.0, 2.78700590133667, 15.698216438293457, 33.94110107421875, 32.830360412597656, 12.59294605255127, 47.37364196777344, 15.336649894714355, 20.597496032714844, 72.55945587158203, 17.797922134399414, 59.18025588989258, 10.399736404418945, 42.00360870361328, 23.343862533569336, 15.628469467163086, 44.31218719482422, 42.266517639160156, 19.942874908447266, 15.435609817504883, 11.325711250305176, 10.71481990814209, 42.82729721069336, 25.695541381835938, 33.274017333984375, 23.23461151123047, 12.23261833190918, 17.803312301635742, 19.09723472595215, 42.599510192871094, 51.8355827331543, 2.78700590133667, 15.698216438293457, 33.94110107421875, 32.830360412597656, 12.59294605255127, 47.37364196777344, 15.336649894714355, 20.597496032714844, 72.55945587158203, 17.797922134399414, 59.18025588989258, 10.399736404418945, 42.00360870361328, 23.343862533569336, 15.628469467163086, 44.31218719482422, 42.266517639160156, 19.942874908447266, 15.435609817504883, 11.325711250305176, 10.71481990814209, 42.82729721069336, 25.695541381835938, 33.274017333984375, 23.23461151123047, 12.23261833190918, 17.803312301635742, 19.09723472595215, 42.599510192871094, 51.8355827331543]\n",
      "<class 'stable_baselines3.common.vec_env.dummy_vec_env.DummyVecEnv'>\n"
     ]
    }
   ],
   "source": [
    "env_train, _ = e_train_gym.get_sb_env()\n",
    "print(type(env_train))"
   ]
  },
  {
   "cell_type": "markdown",
   "metadata": {
    "id": "HMNR5nHjh1iz"
   },
   "source": [
    "<a id='5'></a>\n",
    "# Part 6: Implement DRL Algorithms\n",
    "* The implementation of the DRL algorithms are based on **OpenAI Baselines** and **Stable Baselines**. Stable Baselines is a fork of OpenAI Baselines, with a major structural refactoring, and code cleanups.\n",
    "* FinRL library includes fine-tuned standard DRL algorithms, such as DQN, DDPG,\n",
    "Multi-Agent DDPG, PPO, SAC, A2C and TD3. We also allow users to\n",
    "design their own DRL algorithms by adapting these DRL algorithms."
   ]
  },
  {
   "cell_type": "code",
   "execution_count": 28,
   "metadata": {
    "id": "364PsqckttcQ"
   },
   "outputs": [],
   "source": [
    "agent = DRLAgent(env = env_train)"
   ]
  },
  {
   "cell_type": "markdown",
   "metadata": {
    "id": "YDmqOyF9h1iz"
   },
   "source": [
    "### Model Training: 5 models, A2C DDPG, PPO, TD3, SAC\n"
   ]
  },
  {
   "cell_type": "markdown",
   "metadata": {
    "id": "uijiWgkuh1jB"
   },
   "source": [
    "### Model 1: A2C\n"
   ]
  },
  {
   "cell_type": "code",
   "execution_count": 29,
   "metadata": {
    "colab": {
     "base_uri": "https://localhost:8080/"
    },
    "id": "GUCnkn-HIbmj",
    "outputId": "2fdb297a-8d35-4c7e-806f-de859d70e19e"
   },
   "outputs": [
    {
     "name": "stdout",
     "output_type": "stream",
     "text": [
      "{'n_steps': 5, 'ent_coef': 0.01, 'learning_rate': 0.0007}\n",
      "Using cpu device\n"
     ]
    }
   ],
   "source": [
    "agent = DRLAgent(env = env_train)\n",
    "model_a2c = agent.get_model(\"a2c\")"
   ]
  },
  {
   "cell_type": "code",
   "execution_count": 30,
   "metadata": {
    "colab": {
     "base_uri": "https://localhost:8080/"
    },
    "id": "0GVpkWGqH4-D",
    "outputId": "9eb09ba2-fc4b-46a1-ea3d-bd9b3bfefffd"
   },
   "outputs": [
    {
     "name": "stdout",
     "output_type": "stream",
     "text": [
      "[1000000, 2.78700590133667, 15.698216438293457, 33.94110107421875, 32.830360412597656, 12.59294605255127, 47.37364196777344, 15.336649894714355, 20.597496032714844, 72.55945587158203, 17.797922134399414, 59.18025588989258, 10.399736404418945, 42.00360870361328, 23.343862533569336, 15.628469467163086, 44.31218719482422, 42.266517639160156, 19.942874908447266, 15.435609817504883, 11.325711250305176, 10.71481990814209, 42.82729721069336, 25.695541381835938, 33.274017333984375, 23.23461151123047, 12.23261833190918, 17.803312301635742, 19.09723472595215, 42.599510192871094, 51.8355827331543, 0, 0, 0, 0, 0, 0, 0, 0, 0, 0, 0, 0, 0, 0, 0, 0, 0, 0, 0, 0, 0, 0, 0, 0, 0, 0, 0, 0, 0, 0, 0.0, 0.0, 0.0, 0.0, 0.0, 0.0, 0.0, 0.0, 0.0, 0.0, 0.0, 0.0, 0.0, 0.0, 0.0, 0.0, 0.0, 0.0, 0.0, 0.0, 0.0, 0.0, 0.0, 0.0, 0.0, 0.0, 0.0, 0.0, 0.0, 0.0, 3.0121616168871115, 3.0121616168871115, 3.0121616168871115, 3.0121616168871115, 3.0121616168871115, 3.0121616168871115, 3.0121616168871115, 3.0121616168871115, 3.0121616168871115, 3.0121616168871115, 3.0121616168871115, 3.0121616168871115, 3.0121616168871115, 3.0121616168871115, 3.0121616168871115, 3.0121616168871115, 3.0121616168871115, 3.0121616168871115, 3.0121616168871115, 3.0121616168871115, 3.0121616168871115, 3.0121616168871115, 3.0121616168871115, 3.0121616168871115, 3.0121616168871115, 3.0121616168871115, 3.0121616168871115, 3.0121616168871115, 3.0121616168871115, 3.0121616168871115, 2.679473276530247, 2.679473276530247, 2.679473276530247, 2.679473276530247, 2.679473276530247, 2.679473276530247, 2.679473276530247, 2.679473276530247, 2.679473276530247, 2.679473276530247, 2.679473276530247, 2.679473276530247, 2.679473276530247, 2.679473276530247, 2.679473276530247, 2.679473276530247, 2.679473276530247, 2.679473276530247, 2.679473276530247, 2.679473276530247, 2.679473276530247, 2.679473276530247, 2.679473276530247, 2.679473276530247, 2.679473276530247, 2.679473276530247, 2.679473276530247, 2.679473276530247, 2.679473276530247, 2.679473276530247, 100.0, 100.0, 100.0, 100.0, 100.0, 100.0, 100.0, 100.0, 100.0, 100.0, 100.0, 100.0, 100.0, 100.0, 100.0, 100.0, 100.0, 100.0, 100.0, 100.0, 100.0, 100.0, 100.0, 100.0, 100.0, 100.0, 100.0, 100.0, 100.0, 100.0, 66.66666666666652, 66.66666666666652, 66.66666666666652, 66.66666666666652, 66.66666666666652, 66.66666666666652, 66.66666666666652, 66.66666666666652, 66.66666666666652, 66.66666666666652, 66.66666666666652, 66.66666666666652, 66.66666666666652, 66.66666666666652, 66.66666666666652, 66.66666666666652, 66.66666666666652, 66.66666666666652, 66.66666666666652, 66.66666666666652, 66.66666666666652, 66.66666666666652, 66.66666666666652, 66.66666666666652, 66.66666666666652, 66.66666666666652, 66.66666666666652, 66.66666666666652, 66.66666666666652, 66.66666666666652, 100.0, 100.0, 100.0, 100.0, 100.0, 100.0, 100.0, 100.0, 100.0, 100.0, 100.0, 100.0, 100.0, 100.0, 100.0, 100.0, 100.0, 100.0, 100.0, 100.0, 100.0, 100.0, 100.0, 100.0, 100.0, 100.0, 100.0, 100.0, 100.0, 100.0, 2.78700590133667, 15.698216438293457, 33.94110107421875, 32.830360412597656, 12.59294605255127, 47.37364196777344, 15.336649894714355, 20.597496032714844, 72.55945587158203, 17.797922134399414, 59.18025588989258, 10.399736404418945, 42.00360870361328, 23.343862533569336, 15.628469467163086, 44.31218719482422, 42.266517639160156, 19.942874908447266, 15.435609817504883, 11.325711250305176, 10.71481990814209, 42.82729721069336, 25.695541381835938, 33.274017333984375, 23.23461151123047, 12.23261833190918, 17.803312301635742, 19.09723472595215, 42.599510192871094, 51.8355827331543, 2.78700590133667, 15.698216438293457, 33.94110107421875, 32.830360412597656, 12.59294605255127, 47.37364196777344, 15.336649894714355, 20.597496032714844, 72.55945587158203, 17.797922134399414, 59.18025588989258, 10.399736404418945, 42.00360870361328, 23.343862533569336, 15.628469467163086, 44.31218719482422, 42.266517639160156, 19.942874908447266, 15.435609817504883, 11.325711250305176, 10.71481990814209, 42.82729721069336, 25.695541381835938, 33.274017333984375, 23.23461151123047, 12.23261833190918, 17.803312301635742, 19.09723472595215, 42.599510192871094, 51.8355827331543]\n",
      "Logging to tensorboard_log/a2c\\a2c_1\n"
     ]
    }
   ],
   "source": [
    "trained_a2c = agent.train_model(model=model_a2c, \n",
    "                             tb_log_name='a2c',\n",
    "                             total_timesteps=10)"
   ]
  },
  {
   "cell_type": "markdown",
   "metadata": {
    "id": "MRiOtrywfAo1"
   },
   "source": [
    "### Model 2: DDPG"
   ]
  },
  {
   "cell_type": "code",
   "execution_count": 31,
   "metadata": {
    "colab": {
     "base_uri": "https://localhost:8080/"
    },
    "id": "M2YadjfnLwgt",
    "outputId": "3b2a8f89-0561-4083-a015-fbee11693037"
   },
   "outputs": [
    {
     "name": "stdout",
     "output_type": "stream",
     "text": [
      "{'batch_size': 128, 'buffer_size': 50000, 'learning_rate': 0.001}\n",
      "Using cpu device\n"
     ]
    }
   ],
   "source": [
    "agent = DRLAgent(env = env_train)\n",
    "model_ddpg = agent.get_model(\"ddpg\")"
   ]
  },
  {
   "cell_type": "code",
   "execution_count": 32,
   "metadata": {
    "colab": {
     "background_save": true,
     "base_uri": "https://localhost:8080/"
    },
    "id": "tCDa78rqfO_a",
    "outputId": "f651f8be-4c93-4b1e-c88a-7e3a09976693",
    "tags": []
   },
   "outputs": [
    {
     "name": "stdout",
     "output_type": "stream",
     "text": [
      "[1000000, 2.5284206867218018, 13.93314266204834, 31.848371505737305, 27.9780216217041, 11.746487617492676, 44.41432189941406, 14.95845890045166, 18.479190826416016, 61.09346008300781, 17.111970901489258, 57.520748138427734, 9.400814056396484, 39.78050994873047, 16.99224281311035, 14.9270601272583, 41.4761962890625, 40.28850555419922, 18.135156631469727, 14.964872360229492, 9.989506721496582, 10.263236999511719, 39.369720458984375, 23.895219802856445, 30.21897315979004, 21.474538803100586, 10.852323532104492, 15.622865676879883, 20.113765716552734, 38.412567138671875, 49.58792495727539, 0, 0, 0, 0, 0, 0, 0, 0, 0, 0, 0, 0, 0, 0, 0, 0, 0, 0, 0, 0, 0, 0, 0, 0, 0, 0, 0, 0, 0, 0, -0.030929269621033484, -0.23612444797124077, -0.3150872449937907, -0.4335741830174662, -0.12089282699944626, -0.3251487333679819, -0.060014613611418355, -0.21986939663733196, -1.2200046143570091, -0.14673268084856872, -0.23615532837777664, -0.10919255846630094, -0.16495318449447183, -0.43376620256959697, -0.06730178643658391, -0.2830530838572898, -0.23546952736880655, -0.14312439620551487, -0.0656573422476594, -0.12500686824263063, -0.030395201000851912, -0.31174912565407453, -0.20050659983561303, -0.23746788613516046, -0.17438059707621534, -0.16526947760034183, -0.13726328620348127, 0.019302155408091437, -0.3259077237715431, -0.21943445080066937, 2.9832646813188517, 17.545702653549245, 35.69963337744526, 33.75800686084711, 13.461966312242703, 48.65687925036672, 16.24573174292728, 21.377746931949133, 78.09620540743695, 19.008015743068903, 60.71251093305158, 10.756935986470948, 42.1752245563847, 23.840820244289876, 15.785032941990087, 44.91527670868587, 43.11953042656191, 20.072360017920392, 15.872832126109541, 11.725205826127727, 10.722180396727595, 43.56771998548912, 26.335453819507, 33.42351692524727, 23.639993407346978, 13.617314293824293, 17.73839189444804, 20.53309152540247, 43.33300306658952, 52.4472894470612, 2.48912345615174, 13.594724328983602, 30.109610605043194, 26.227696694173307, 11.329722433429348, 42.113500943170216, 14.671858138276113, 17.26212795985218, 58.185052221957584, 15.902547985957199, 55.83763430287704, 8.67290600876831, 39.39293853510146, 16.245493870367437, 14.44982253647005, 39.22130401863124, 38.83501433440223, 17.37463545715507, 14.233611279041826, 9.633475072365261, 9.952511063621749, 38.40796027907054, 22.793224589029048, 28.469348342419632, 20.172665075984874, 10.790901142244156, 15.238011428638789, 19.019015852083328, 36.071205723582715, 47.155708072692, 25.527890592137, 28.896287854302443, 32.96909498952577, 13.658284934486858, 31.716730718028955, 33.160093495545794, 40.175370872595025, 27.673896597699667, 14.279079581354168, 42.14831848469724, 40.55870562492461, 32.61737976446861, 12.976173048733926, 16.370131580839313, 34.96525430691881, 30.282735281722125, 33.711824468091905, 12.063738316887665, 44.127616033072606, 19.839497914328547, 33.566838635581846, 6.803934438126419, 27.039436937680676, 29.8214628066154, 34.00606854871894, 26.067678940898986, 15.411236695765567, 67.2574916441883, 15.799962820120285, 39.55893910224881, -137.18882846268824, -149.48083189413333, -71.324998538716, -91.5941448294706, -90.01297435143542, -49.23706537151263, -70.04841444783612, -64.1841091447583, -102.8300224533231, -44.78736293833018, -70.83699203196998, -62.039396167570786, -127.69978201370222, -137.13996214138763, -39.94713006843804, -50.50495214096265, -75.45810670216353, -76.8467010721196, -42.6229669963361, -122.85952882499467, -30.983509366021657, -111.4382577653613, -75.63963611554409, -69.21377376171819, -59.71352431083127, -171.54698534868336, -120.87654111670665, 84.14938524365665, -53.12178102321955, -30.546457344457526, 40.64146579007811, 48.71735404392295, 33.02264387220059, 80.85070133789594, 29.188994738891534, 43.61740335218798, 12.491650386520476, 48.73767035535, 67.03559276436172, 10.968202663270707, 25.703909150553127, 46.236392847846254, 100.0, 91.77092957436669, 37.45920068729699, 48.52056673075243, 39.36806120248014, 46.1764880039754, 23.42129766844528, 72.42468871350671, 32.97454076529441, 57.3976707182024, 51.251958521026175, 62.16212170969758, 53.14805701660143, 61.688726847409804, 80.6426903395802, 41.835971478808716, 64.24398292065008, 35.932935901205404, 2.736194068735296, 15.570213491266424, 32.90462199124423, 29.99285177751021, 12.395844372836025, 45.38519009676847, 15.458794940601695, 19.319937445900656, 68.14062881469727, 17.45528186451305, 58.27507261796431, 9.714920997619629, 40.78408154574308, 20.043157057328656, 15.117427739230068, 42.068290363658555, 40.97727238048207, 18.72349773753773, 15.053221702575684, 10.679340449246494, 10.337345730174672, 40.98784013227983, 24.564339204268023, 30.946432633833453, 21.906329241665926, 12.204107718034225, 16.488201661543414, 19.7760536887429, 39.70210439508612, 49.8014987598766, 2.736194068735296, 15.570213491266424, 32.90462199124423, 29.99285177751021, 12.395844372836025, 45.38519009676847, 15.458794940601695, 19.319937445900656, 68.14062881469727, 17.45528186451305, 58.27507261796431, 9.714920997619629, 40.78408154574308, 20.043157057328656, 15.117427739230068, 42.068290363658555, 40.97727238048207, 18.72349773753773, 15.053221702575684, 10.679340449246494, 10.337345730174672, 40.98784013227983, 24.564339204268023, 30.946432633833453, 21.906329241665926, 12.204107718034225, 16.488201661543414, 19.7760536887429, 39.70210439508612, 49.8014987598766]\n",
      "Logging to tensorboard_log/ddpg\\ddpg_1\n",
      "[1000000, 38.39591979980469, 91.69662475585938, 313.3722229003906, 118.78218841552734, 40.123985290527344, 97.55754852294922, 72.68486785888672, 108.32612609863281, 159.20101928710938, 162.39141845703125, 100.57974243164062, 44.13541793823242, 121.43285369873047, 90.1629638671875, 44.01080322265625, 168.1305389404297, 176.2595672607422, 71.46668243408203, 98.81327819824219, 72.5230484008789, 37.58075714111328, 86.1761703491211, 63.318092346191406, 113.30058288574219, 240.15750122070312, 129.90611267089844, 50.585201263427734, 62.84025573730469, 89.07861328125, 58.40364074707031, 0, 0, 0, 0, 0, 0, 0, 0, 0, 0, 0, 0, 0, 0, 0, 0, 0, 0, 0, 0, 0, 0, 0, 0, 0, 0, 0, 0, 0, 0, -2.141041777965299, -3.552996723704098, -6.5322711673567255, -0.8822167825157834, -0.9799449674846201, -2.1934933168446946, -1.5881746002519037, -1.8656878145195321, -9.081052234113486, -2.2328399684980695, -2.5064249292951075, -0.32983955379442875, -4.102228793422313, -2.889179649527293, -0.37578329318664316, -1.5821942612953137, -3.034807609728148, -0.045701227715255754, -1.989642958275212, -0.4748045008294781, -0.31164924659512394, -0.15894413380489425, -3.133430619057208, -2.131574045626138, -6.482025623390342, -2.418196932413707, -0.7203707316276251, -3.300559169558241, -1.471619326161104, -2.482863766377193, 44.89222937062273, 111.36300186108039, 342.3288102466892, 126.67958024706634, 46.44073180391163, 109.87818312548369, 79.24678590247271, 116.00920992712938, 183.72168296997975, 172.42401221239166, 112.84118430770924, 47.093767508572306, 146.13142281352663, 102.46208811195226, 47.241389960329904, 180.68020637252235, 194.97220106715525, 74.8504874798056, 111.03721923065173, 76.32536173026364, 40.01830623171267, 90.78252295363133, 76.30022868521357, 122.41246286212751, 280.59340399289977, 143.4834898780203, 54.110994390695964, 82.90719216847779, 94.16250629297969, 71.25044242697746, 35.42519998118391, 84.31483017016961, 286.26962725331083, 108.34965101514068, 36.98808708952099, 90.85056977368625, 66.18410704186323, 101.20333890099562, 146.34521766478585, 150.74925286329196, 95.16874611221265, 41.39900478451852, 110.47156562031124, 83.03143300621181, 42.87990406127654, 161.07342979691126, 165.57457627659477, 67.03753360784088, 92.71542816925061, 66.07668294747074, 34.95035793759885, 82.91795693528469, 59.85034428231572, 106.4833669108217, 220.07980462526427, 120.76131984488012, 47.78192667558821, 57.18987165903686, 82.19729747899297, 54.73835189980477, 37.75982395986877, 40.71624994037739, 46.64540885675644, 48.70144022030136, 45.64467817344928, 44.26132208143357, 44.25409807748751, 47.83996928295028, 35.63770200737305, 46.11224841619744, 40.96224776697351, 49.89366863333349, 41.26482814247898, 40.52048034036802, 48.47799005016877, 50.88586612857365, 45.978325437708534, 55.80481396385381, 46.14623869121712, 49.76676606841861, 51.63699466969182, 53.62612687484355, 34.35809840118678, 45.04135387279997, 44.5684146391877, 46.509202260278585, 49.63783502247345, 38.307205284058206, 48.35169659019782, 36.543217733002415, -91.67054593629385, -109.8383479335725, -17.475572612221523, 12.329529747675878, -77.47324681094723, -77.33962585106755, -42.732092003419446, -58.14510275151008, -84.41152060393719, 4.262368100547874, -97.52338683742417, -24.206099345364137, -89.21712725299025, -72.56607081986824, -120.16042968973726, -88.61097854653455, -82.70331590720775, 18.678406608105853, -71.4198239196824, 50.30535743909069, -8.022870249083393, -49.06712720073598, -130.13339802496432, -66.78446212683663, -82.54308811269033, -59.798289371470325, -70.49851911199754, -124.28460705024102, -17.69249758632144, -120.07785559844123, 39.21273713115692, 30.453011992404555, 9.047314956629457, 5.499285014878643, 24.349465497595983, 18.674706573890372, 0.5037544821377812, 13.997383580478868, 29.32770159143419, 1.9913665820095818, 28.430069581600943, 1.8729404826432607, 38.63512730261832, 22.315559742186643, 13.005381083863785, 19.81702222548818, 15.178812041846507, 0.6113816125882416, 16.71149438381473, 8.357815156369787, 6.498120288227792, 8.013845497751616, 55.39295086435475, 35.542858223546276, 22.914261916465172, 15.829087664939708, 14.948583054220851, 57.4119284443266, 1.9382079525904927, 38.68347837075397, 41.427544657389326, 100.1662841796875, 315.0024037679037, 117.73522415161133, 41.98094584147135, 101.87928746541341, 74.36122589111328, 109.81524073282877, 172.00625762939453, 162.00941111246746, 104.7405616760254, 44.481499354044594, 130.70966313680012, 95.50019989013671, 45.252423731486004, 172.0068593343099, 182.44998118082682, 70.7762446085612, 102.38918431599934, 71.21157328287761, 37.573584111531574, 86.85305226643881, 70.41919021606445, 116.69815724690756, 252.94693857828776, 133.03675867716473, 51.85478057861328, 71.89152615865072, 89.29732182820638, 64.20575040181478, 46.69040864308675, 100.4800532023112, 332.99889882405597, 120.29204368591309, 42.22139949798584, 102.97162348429362, 76.19156150817871, 111.52368125915527, 190.53668238321941, 167.6039156595866, 109.24550806681314, 43.884673500061034, 130.74426816304523, 98.05444679260253, 44.338623428344725, 167.7947914123535, 182.2012171427409, 68.91559403737386, 103.5944315592448, 72.6252488454183, 37.520247840881346, 83.96607894897461, 73.4315902709961, 117.68082796732584, 253.82371215820314, 135.27827339172364, 51.14293855031331, 71.3548786799113, 91.69127909342448, 66.56452528635661]\n"
     ]
    },
    {
     "name": "stdout",
     "output_type": "stream",
     "text": [
      "[1000000, 38.39591979980469, 91.69662475585938, 313.3722229003906, 118.78218841552734, 40.123985290527344, 97.55754852294922, 72.68486785888672, 108.32612609863281, 159.20101928710938, 162.39141845703125, 100.57974243164062, 44.13541793823242, 121.43285369873047, 90.1629638671875, 44.01080322265625, 168.1305389404297, 176.2595672607422, 71.46668243408203, 98.81327819824219, 72.5230484008789, 37.58075714111328, 86.1761703491211, 63.318092346191406, 113.30058288574219, 240.15750122070312, 129.90611267089844, 50.585201263427734, 62.84025573730469, 89.07861328125, 58.40364074707031, 0, 0, 0, 0, 0, 0, 0, 0, 0, 0, 0, 0, 0, 0, 0, 0, 0, 0, 0, 0, 0, 0, 0, 0, 0, 0, 0, 0, 0, 0, -2.141041777965299, -3.552996723704098, -6.5322711673567255, -0.8822167825157834, -0.9799449674846201, -2.1934933168446946, -1.5881746002519037, -1.8656878145195321, -9.081052234113486, -2.2328399684980695, -2.5064249292951075, -0.32983955379442875, -4.102228793422313, -2.889179649527293, -0.37578329318664316, -1.5821942612953137, -3.034807609728148, -0.045701227715255754, -1.989642958275212, -0.4748045008294781, -0.31164924659512394, -0.15894413380489425, -3.133430619057208, -2.131574045626138, -6.482025623390342, -2.418196932413707, -0.7203707316276251, -3.300559169558241, -1.471619326161104, -2.482863766377193, 44.89222937062273, 111.36300186108039, 342.3288102466892, 126.67958024706634, 46.44073180391163, 109.87818312548369, 79.24678590247271, 116.00920992712938, 183.72168296997975, 172.42401221239166, 112.84118430770924, 47.093767508572306, 146.13142281352663, 102.46208811195226, 47.241389960329904, 180.68020637252235, 194.97220106715525, 74.8504874798056, 111.03721923065173, 76.32536173026364, 40.01830623171267, 90.78252295363133, 76.30022868521357, 122.41246286212751, 280.59340399289977, 143.4834898780203, 54.110994390695964, 82.90719216847779, 94.16250629297969, 71.25044242697746, 35.42519998118391, 84.31483017016961, 286.26962725331083, 108.34965101514068, 36.98808708952099, 90.85056977368625, 66.18410704186323, 101.20333890099562, 146.34521766478585, 150.74925286329196, 95.16874611221265, 41.39900478451852, 110.47156562031124, 83.03143300621181, 42.87990406127654, 161.07342979691126, 165.57457627659477, 67.03753360784088, 92.71542816925061, 66.07668294747074, 34.95035793759885, 82.91795693528469, 59.85034428231572, 106.4833669108217, 220.07980462526427, 120.76131984488012, 47.78192667558821, 57.18987165903686, 82.19729747899297, 54.73835189980477, 37.75982395986877, 40.71624994037739, 46.64540885675644, 48.70144022030136, 45.64467817344928, 44.26132208143357, 44.25409807748751, 47.83996928295028, 35.63770200737305, 46.11224841619744, 40.96224776697351, 49.89366863333349, 41.26482814247898, 40.52048034036802, 48.47799005016877, 50.88586612857365, 45.978325437708534, 55.80481396385381, 46.14623869121712, 49.76676606841861, 51.63699466969182, 53.62612687484355, 34.35809840118678, 45.04135387279997, 44.5684146391877, 46.509202260278585, 49.63783502247345, 38.307205284058206, 48.35169659019782, 36.543217733002415, -91.67054593629385, -109.8383479335725, -17.475572612221523, 12.329529747675878, -77.47324681094723, -77.33962585106755, -42.732092003419446, -58.14510275151008, -84.41152060393719, 4.262368100547874, -97.52338683742417, -24.206099345364137, -89.21712725299025, -72.56607081986824, -120.16042968973726, -88.61097854653455, -82.70331590720775, 18.678406608105853, -71.4198239196824, 50.30535743909069, -8.022870249083393, -49.06712720073598, -130.13339802496432, -66.78446212683663, -82.54308811269033, -59.798289371470325, -70.49851911199754, -124.28460705024102, -17.69249758632144, -120.07785559844123, 39.21273713115692, 30.453011992404555, 9.047314956629457, 5.499285014878643, 24.349465497595983, 18.674706573890372, 0.5037544821377812, 13.997383580478868, 29.32770159143419, 1.9913665820095818, 28.430069581600943, 1.8729404826432607, 38.63512730261832, 22.315559742186643, 13.005381083863785, 19.81702222548818, 15.178812041846507, 0.6113816125882416, 16.71149438381473, 8.357815156369787, 6.498120288227792, 8.013845497751616, 55.39295086435475, 35.542858223546276, 22.914261916465172, 15.829087664939708, 14.948583054220851, 57.4119284443266, 1.9382079525904927, 38.68347837075397, 41.427544657389326, 100.1662841796875, 315.0024037679037, 117.73522415161133, 41.98094584147135, 101.87928746541341, 74.36122589111328, 109.81524073282877, 172.00625762939453, 162.00941111246746, 104.7405616760254, 44.481499354044594, 130.70966313680012, 95.50019989013671, 45.252423731486004, 172.0068593343099, 182.44998118082682, 70.7762446085612, 102.38918431599934, 71.21157328287761, 37.573584111531574, 86.85305226643881, 70.41919021606445, 116.69815724690756, 252.94693857828776, 133.03675867716473, 51.85478057861328, 71.89152615865072, 89.29732182820638, 64.20575040181478, 46.69040864308675, 100.4800532023112, 332.99889882405597, 120.29204368591309, 42.22139949798584, 102.97162348429362, 76.19156150817871, 111.52368125915527, 190.53668238321941, 167.6039156595866, 109.24550806681314, 43.884673500061034, 130.74426816304523, 98.05444679260253, 44.338623428344725, 167.7947914123535, 182.2012171427409, 68.91559403737386, 103.5944315592448, 72.6252488454183, 37.520247840881346, 83.96607894897461, 73.4315902709961, 117.68082796732584, 253.82371215820314, 135.27827339172364, 51.14293855031331, 71.3548786799113, 91.69127909342448, 66.56452528635661]\n",
      "[1000000, 38.39591979980469, 91.69662475585938, 313.3722229003906, 118.78218841552734, 40.123985290527344, 97.55754852294922, 72.68486785888672, 108.32612609863281, 159.20101928710938, 162.39141845703125, 100.57974243164062, 44.13541793823242, 121.43285369873047, 90.1629638671875, 44.01080322265625, 168.1305389404297, 176.2595672607422, 71.46668243408203, 98.81327819824219, 72.5230484008789, 37.58075714111328, 86.1761703491211, 63.318092346191406, 113.30058288574219, 240.15750122070312, 129.90611267089844, 50.585201263427734, 62.84025573730469, 89.07861328125, 58.40364074707031, 0, 0, 0, 0, 0, 0, 0, 0, 0, 0, 0, 0, 0, 0, 0, 0, 0, 0, 0, 0, 0, 0, 0, 0, 0, 0, 0, 0, 0, 0, -2.141041777965299, -3.552996723704098, -6.5322711673567255, -0.8822167825157834, -0.9799449674846201, -2.1934933168446946, -1.5881746002519037, -1.8656878145195321, -9.081052234113486, -2.2328399684980695, -2.5064249292951075, -0.32983955379442875, -4.102228793422313, -2.889179649527293, -0.37578329318664316, -1.5821942612953137, -3.034807609728148, -0.045701227715255754, -1.989642958275212, -0.4748045008294781, -0.31164924659512394, -0.15894413380489425, -3.133430619057208, -2.131574045626138, -6.482025623390342, -2.418196932413707, -0.7203707316276251, -3.300559169558241, -1.471619326161104, -2.482863766377193, 44.89222937062273, 111.36300186108039, 342.3288102466892, 126.67958024706634, 46.44073180391163, 109.87818312548369, 79.24678590247271, 116.00920992712938, 183.72168296997975, 172.42401221239166, 112.84118430770924, 47.093767508572306, 146.13142281352663, 102.46208811195226, 47.241389960329904, 180.68020637252235, 194.97220106715525, 74.8504874798056, 111.03721923065173, 76.32536173026364, 40.01830623171267, 90.78252295363133, 76.30022868521357, 122.41246286212751, 280.59340399289977, 143.4834898780203, 54.110994390695964, 82.90719216847779, 94.16250629297969, 71.25044242697746, 35.42519998118391, 84.31483017016961, 286.26962725331083, 108.34965101514068, 36.98808708952099, 90.85056977368625, 66.18410704186323, 101.20333890099562, 146.34521766478585, 150.74925286329196, 95.16874611221265, 41.39900478451852, 110.47156562031124, 83.03143300621181, 42.87990406127654, 161.07342979691126, 165.57457627659477, 67.03753360784088, 92.71542816925061, 66.07668294747074, 34.95035793759885, 82.91795693528469, 59.85034428231572, 106.4833669108217, 220.07980462526427, 120.76131984488012, 47.78192667558821, 57.18987165903686, 82.19729747899297, 54.73835189980477, 37.75982395986877, 40.71624994037739, 46.64540885675644, 48.70144022030136, 45.64467817344928, 44.26132208143357, 44.25409807748751, 47.83996928295028, 35.63770200737305, 46.11224841619744, 40.96224776697351, 49.89366863333349, 41.26482814247898, 40.52048034036802, 48.47799005016877, 50.88586612857365, 45.978325437708534, 55.80481396385381, 46.14623869121712, 49.76676606841861, 51.63699466969182, 53.62612687484355, 34.35809840118678, 45.04135387279997, 44.5684146391877, 46.509202260278585, 49.63783502247345, 38.307205284058206, 48.35169659019782, 36.543217733002415, -91.67054593629385, -109.8383479335725, -17.475572612221523, 12.329529747675878, -77.47324681094723, -77.33962585106755, -42.732092003419446, -58.14510275151008, -84.41152060393719, 4.262368100547874, -97.52338683742417, -24.206099345364137, -89.21712725299025, -72.56607081986824, -120.16042968973726, -88.61097854653455, -82.70331590720775, 18.678406608105853, -71.4198239196824, 50.30535743909069, -8.022870249083393, -49.06712720073598, -130.13339802496432, -66.78446212683663, -82.54308811269033, -59.798289371470325, -70.49851911199754, -124.28460705024102, -17.69249758632144, -120.07785559844123, 39.21273713115692, 30.453011992404555, 9.047314956629457, 5.499285014878643, 24.349465497595983, 18.674706573890372, 0.5037544821377812, 13.997383580478868, 29.32770159143419, 1.9913665820095818, 28.430069581600943, 1.8729404826432607, 38.63512730261832, 22.315559742186643, 13.005381083863785, 19.81702222548818, 15.178812041846507, 0.6113816125882416, 16.71149438381473, 8.357815156369787, 6.498120288227792, 8.013845497751616, 55.39295086435475, 35.542858223546276, 22.914261916465172, 15.829087664939708, 14.948583054220851, 57.4119284443266, 1.9382079525904927, 38.68347837075397, 41.427544657389326, 100.1662841796875, 315.0024037679037, 117.73522415161133, 41.98094584147135, 101.87928746541341, 74.36122589111328, 109.81524073282877, 172.00625762939453, 162.00941111246746, 104.7405616760254, 44.481499354044594, 130.70966313680012, 95.50019989013671, 45.252423731486004, 172.0068593343099, 182.44998118082682, 70.7762446085612, 102.38918431599934, 71.21157328287761, 37.573584111531574, 86.85305226643881, 70.41919021606445, 116.69815724690756, 252.94693857828776, 133.03675867716473, 51.85478057861328, 71.89152615865072, 89.29732182820638, 64.20575040181478, 46.69040864308675, 100.4800532023112, 332.99889882405597, 120.29204368591309, 42.22139949798584, 102.97162348429362, 76.19156150817871, 111.52368125915527, 190.53668238321941, 167.6039156595866, 109.24550806681314, 43.884673500061034, 130.74426816304523, 98.05444679260253, 44.338623428344725, 167.7947914123535, 182.2012171427409, 68.91559403737386, 103.5944315592448, 72.6252488454183, 37.520247840881346, 83.96607894897461, 73.4315902709961, 117.68082796732584, 253.82371215820314, 135.27827339172364, 51.14293855031331, 71.3548786799113, 91.69127909342448, 66.56452528635661]\n"
     ]
    },
    {
     "name": "stdout",
     "output_type": "stream",
     "text": [
      "[1000000, 38.39591979980469, 91.69662475585938, 313.3722229003906, 118.78218841552734, 40.123985290527344, 97.55754852294922, 72.68486785888672, 108.32612609863281, 159.20101928710938, 162.39141845703125, 100.57974243164062, 44.13541793823242, 121.43285369873047, 90.1629638671875, 44.01080322265625, 168.1305389404297, 176.2595672607422, 71.46668243408203, 98.81327819824219, 72.5230484008789, 37.58075714111328, 86.1761703491211, 63.318092346191406, 113.30058288574219, 240.15750122070312, 129.90611267089844, 50.585201263427734, 62.84025573730469, 89.07861328125, 58.40364074707031, 0, 0, 0, 0, 0, 0, 0, 0, 0, 0, 0, 0, 0, 0, 0, 0, 0, 0, 0, 0, 0, 0, 0, 0, 0, 0, 0, 0, 0, 0, -2.141041777965299, -3.552996723704098, -6.5322711673567255, -0.8822167825157834, -0.9799449674846201, -2.1934933168446946, -1.5881746002519037, -1.8656878145195321, -9.081052234113486, -2.2328399684980695, -2.5064249292951075, -0.32983955379442875, -4.102228793422313, -2.889179649527293, -0.37578329318664316, -1.5821942612953137, -3.034807609728148, -0.045701227715255754, -1.989642958275212, -0.4748045008294781, -0.31164924659512394, -0.15894413380489425, -3.133430619057208, -2.131574045626138, -6.482025623390342, -2.418196932413707, -0.7203707316276251, -3.300559169558241, -1.471619326161104, -2.482863766377193, 44.89222937062273, 111.36300186108039, 342.3288102466892, 126.67958024706634, 46.44073180391163, 109.87818312548369, 79.24678590247271, 116.00920992712938, 183.72168296997975, 172.42401221239166, 112.84118430770924, 47.093767508572306, 146.13142281352663, 102.46208811195226, 47.241389960329904, 180.68020637252235, 194.97220106715525, 74.8504874798056, 111.03721923065173, 76.32536173026364, 40.01830623171267, 90.78252295363133, 76.30022868521357, 122.41246286212751, 280.59340399289977, 143.4834898780203, 54.110994390695964, 82.90719216847779, 94.16250629297969, 71.25044242697746, 35.42519998118391, 84.31483017016961, 286.26962725331083, 108.34965101514068, 36.98808708952099, 90.85056977368625, 66.18410704186323, 101.20333890099562, 146.34521766478585, 150.74925286329196, 95.16874611221265, 41.39900478451852, 110.47156562031124, 83.03143300621181, 42.87990406127654, 161.07342979691126, 165.57457627659477, 67.03753360784088, 92.71542816925061, 66.07668294747074, 34.95035793759885, 82.91795693528469, 59.85034428231572, 106.4833669108217, 220.07980462526427, 120.76131984488012, 47.78192667558821, 57.18987165903686, 82.19729747899297, 54.73835189980477, 37.75982395986877, 40.71624994037739, 46.64540885675644, 48.70144022030136, 45.64467817344928, 44.26132208143357, 44.25409807748751, 47.83996928295028, 35.63770200737305, 46.11224841619744, 40.96224776697351, 49.89366863333349, 41.26482814247898, 40.52048034036802, 48.47799005016877, 50.88586612857365, 45.978325437708534, 55.80481396385381, 46.14623869121712, 49.76676606841861, 51.63699466969182, 53.62612687484355, 34.35809840118678, 45.04135387279997, 44.5684146391877, 46.509202260278585, 49.63783502247345, 38.307205284058206, 48.35169659019782, 36.543217733002415, -91.67054593629385, -109.8383479335725, -17.475572612221523, 12.329529747675878, -77.47324681094723, -77.33962585106755, -42.732092003419446, -58.14510275151008, -84.41152060393719, 4.262368100547874, -97.52338683742417, -24.206099345364137, -89.21712725299025, -72.56607081986824, -120.16042968973726, -88.61097854653455, -82.70331590720775, 18.678406608105853, -71.4198239196824, 50.30535743909069, -8.022870249083393, -49.06712720073598, -130.13339802496432, -66.78446212683663, -82.54308811269033, -59.798289371470325, -70.49851911199754, -124.28460705024102, -17.69249758632144, -120.07785559844123, 39.21273713115692, 30.453011992404555, 9.047314956629457, 5.499285014878643, 24.349465497595983, 18.674706573890372, 0.5037544821377812, 13.997383580478868, 29.32770159143419, 1.9913665820095818, 28.430069581600943, 1.8729404826432607, 38.63512730261832, 22.315559742186643, 13.005381083863785, 19.81702222548818, 15.178812041846507, 0.6113816125882416, 16.71149438381473, 8.357815156369787, 6.498120288227792, 8.013845497751616, 55.39295086435475, 35.542858223546276, 22.914261916465172, 15.829087664939708, 14.948583054220851, 57.4119284443266, 1.9382079525904927, 38.68347837075397, 41.427544657389326, 100.1662841796875, 315.0024037679037, 117.73522415161133, 41.98094584147135, 101.87928746541341, 74.36122589111328, 109.81524073282877, 172.00625762939453, 162.00941111246746, 104.7405616760254, 44.481499354044594, 130.70966313680012, 95.50019989013671, 45.252423731486004, 172.0068593343099, 182.44998118082682, 70.7762446085612, 102.38918431599934, 71.21157328287761, 37.573584111531574, 86.85305226643881, 70.41919021606445, 116.69815724690756, 252.94693857828776, 133.03675867716473, 51.85478057861328, 71.89152615865072, 89.29732182820638, 64.20575040181478, 46.69040864308675, 100.4800532023112, 332.99889882405597, 120.29204368591309, 42.22139949798584, 102.97162348429362, 76.19156150817871, 111.52368125915527, 190.53668238321941, 167.6039156595866, 109.24550806681314, 43.884673500061034, 130.74426816304523, 98.05444679260253, 44.338623428344725, 167.7947914123535, 182.2012171427409, 68.91559403737386, 103.5944315592448, 72.6252488454183, 37.520247840881346, 83.96607894897461, 73.4315902709961, 117.68082796732584, 253.82371215820314, 135.27827339172364, 51.14293855031331, 71.3548786799113, 91.69127909342448, 66.56452528635661]\n",
      "----------------------------------\n",
      "| environment/        |          |\n",
      "|    portfolio_value  | 2.98e+06 |\n",
      "|    total_cost       | 1.07e+03 |\n",
      "|    total_reward     | 1.98e+06 |\n",
      "|    total_reward_pct | 198      |\n",
      "|    total_trades     | 35258    |\n",
      "| time/               |          |\n",
      "|    episodes         | 4        |\n",
      "|    fps              | 54       |\n",
      "|    time_elapsed     | 184      |\n",
      "|    total timesteps  | 10064    |\n",
      "| train/              |          |\n",
      "|    actor_loss       | -65.5    |\n",
      "|    critic_loss      | 7.5e+03  |\n",
      "|    learning_rate    | 0.001    |\n",
      "|    n_updates        | 7548     |\n",
      "----------------------------------\n",
      "[1000000, 38.39591979980469, 91.69662475585938, 313.3722229003906, 118.78218841552734, 40.123985290527344, 97.55754852294922, 72.68486785888672, 108.32612609863281, 159.20101928710938, 162.39141845703125, 100.57974243164062, 44.13541793823242, 121.43285369873047, 90.1629638671875, 44.01080322265625, 168.1305389404297, 176.2595672607422, 71.46668243408203, 98.81327819824219, 72.5230484008789, 37.58075714111328, 86.1761703491211, 63.318092346191406, 113.30058288574219, 240.15750122070312, 129.90611267089844, 50.585201263427734, 62.84025573730469, 89.07861328125, 58.40364074707031, 0, 0, 0, 0, 0, 0, 0, 0, 0, 0, 0, 0, 0, 0, 0, 0, 0, 0, 0, 0, 0, 0, 0, 0, 0, 0, 0, 0, 0, 0, -2.141041777965299, -3.552996723704098, -6.5322711673567255, -0.8822167825157834, -0.9799449674846201, -2.1934933168446946, -1.5881746002519037, -1.8656878145195321, -9.081052234113486, -2.2328399684980695, -2.5064249292951075, -0.32983955379442875, -4.102228793422313, -2.889179649527293, -0.37578329318664316, -1.5821942612953137, -3.034807609728148, -0.045701227715255754, -1.989642958275212, -0.4748045008294781, -0.31164924659512394, -0.15894413380489425, -3.133430619057208, -2.131574045626138, -6.482025623390342, -2.418196932413707, -0.7203707316276251, -3.300559169558241, -1.471619326161104, -2.482863766377193, 44.89222937062273, 111.36300186108039, 342.3288102466892, 126.67958024706634, 46.44073180391163, 109.87818312548369, 79.24678590247271, 116.00920992712938, 183.72168296997975, 172.42401221239166, 112.84118430770924, 47.093767508572306, 146.13142281352663, 102.46208811195226, 47.241389960329904, 180.68020637252235, 194.97220106715525, 74.8504874798056, 111.03721923065173, 76.32536173026364, 40.01830623171267, 90.78252295363133, 76.30022868521357, 122.41246286212751, 280.59340399289977, 143.4834898780203, 54.110994390695964, 82.90719216847779, 94.16250629297969, 71.25044242697746, 35.42519998118391, 84.31483017016961, 286.26962725331083, 108.34965101514068, 36.98808708952099, 90.85056977368625, 66.18410704186323, 101.20333890099562, 146.34521766478585, 150.74925286329196, 95.16874611221265, 41.39900478451852, 110.47156562031124, 83.03143300621181, 42.87990406127654, 161.07342979691126, 165.57457627659477, 67.03753360784088, 92.71542816925061, 66.07668294747074, 34.95035793759885, 82.91795693528469, 59.85034428231572, 106.4833669108217, 220.07980462526427, 120.76131984488012, 47.78192667558821, 57.18987165903686, 82.19729747899297, 54.73835189980477, 37.75982395986877, 40.71624994037739, 46.64540885675644, 48.70144022030136, 45.64467817344928, 44.26132208143357, 44.25409807748751, 47.83996928295028, 35.63770200737305, 46.11224841619744, 40.96224776697351, 49.89366863333349, 41.26482814247898, 40.52048034036802, 48.47799005016877, 50.88586612857365, 45.978325437708534, 55.80481396385381, 46.14623869121712, 49.76676606841861, 51.63699466969182, 53.62612687484355, 34.35809840118678, 45.04135387279997, 44.5684146391877, 46.509202260278585, 49.63783502247345, 38.307205284058206, 48.35169659019782, 36.543217733002415, -91.67054593629385, -109.8383479335725, -17.475572612221523, 12.329529747675878, -77.47324681094723, -77.33962585106755, -42.732092003419446, -58.14510275151008, -84.41152060393719, 4.262368100547874, -97.52338683742417, -24.206099345364137, -89.21712725299025, -72.56607081986824, -120.16042968973726, -88.61097854653455, -82.70331590720775, 18.678406608105853, -71.4198239196824, 50.30535743909069, -8.022870249083393, -49.06712720073598, -130.13339802496432, -66.78446212683663, -82.54308811269033, -59.798289371470325, -70.49851911199754, -124.28460705024102, -17.69249758632144, -120.07785559844123, 39.21273713115692, 30.453011992404555, 9.047314956629457, 5.499285014878643, 24.349465497595983, 18.674706573890372, 0.5037544821377812, 13.997383580478868, 29.32770159143419, 1.9913665820095818, 28.430069581600943, 1.8729404826432607, 38.63512730261832, 22.315559742186643, 13.005381083863785, 19.81702222548818, 15.178812041846507, 0.6113816125882416, 16.71149438381473, 8.357815156369787, 6.498120288227792, 8.013845497751616, 55.39295086435475, 35.542858223546276, 22.914261916465172, 15.829087664939708, 14.948583054220851, 57.4119284443266, 1.9382079525904927, 38.68347837075397, 41.427544657389326, 100.1662841796875, 315.0024037679037, 117.73522415161133, 41.98094584147135, 101.87928746541341, 74.36122589111328, 109.81524073282877, 172.00625762939453, 162.00941111246746, 104.7405616760254, 44.481499354044594, 130.70966313680012, 95.50019989013671, 45.252423731486004, 172.0068593343099, 182.44998118082682, 70.7762446085612, 102.38918431599934, 71.21157328287761, 37.573584111531574, 86.85305226643881, 70.41919021606445, 116.69815724690756, 252.94693857828776, 133.03675867716473, 51.85478057861328, 71.89152615865072, 89.29732182820638, 64.20575040181478, 46.69040864308675, 100.4800532023112, 332.99889882405597, 120.29204368591309, 42.22139949798584, 102.97162348429362, 76.19156150817871, 111.52368125915527, 190.53668238321941, 167.6039156595866, 109.24550806681314, 43.884673500061034, 130.74426816304523, 98.05444679260253, 44.338623428344725, 167.7947914123535, 182.2012171427409, 68.91559403737386, 103.5944315592448, 72.6252488454183, 37.520247840881346, 83.96607894897461, 73.4315902709961, 117.68082796732584, 253.82371215820314, 135.27827339172364, 51.14293855031331, 71.3548786799113, 91.69127909342448, 66.56452528635661]\n"
     ]
    },
    {
     "name": "stdout",
     "output_type": "stream",
     "text": [
      "[1000000, 38.39591979980469, 91.69662475585938, 313.3722229003906, 118.78218841552734, 40.123985290527344, 97.55754852294922, 72.68486785888672, 108.32612609863281, 159.20101928710938, 162.39141845703125, 100.57974243164062, 44.13541793823242, 121.43285369873047, 90.1629638671875, 44.01080322265625, 168.1305389404297, 176.2595672607422, 71.46668243408203, 98.81327819824219, 72.5230484008789, 37.58075714111328, 86.1761703491211, 63.318092346191406, 113.30058288574219, 240.15750122070312, 129.90611267089844, 50.585201263427734, 62.84025573730469, 89.07861328125, 58.40364074707031, 0, 0, 0, 0, 0, 0, 0, 0, 0, 0, 0, 0, 0, 0, 0, 0, 0, 0, 0, 0, 0, 0, 0, 0, 0, 0, 0, 0, 0, 0, -2.141041777965299, -3.552996723704098, -6.5322711673567255, -0.8822167825157834, -0.9799449674846201, -2.1934933168446946, -1.5881746002519037, -1.8656878145195321, -9.081052234113486, -2.2328399684980695, -2.5064249292951075, -0.32983955379442875, -4.102228793422313, -2.889179649527293, -0.37578329318664316, -1.5821942612953137, -3.034807609728148, -0.045701227715255754, -1.989642958275212, -0.4748045008294781, -0.31164924659512394, -0.15894413380489425, -3.133430619057208, -2.131574045626138, -6.482025623390342, -2.418196932413707, -0.7203707316276251, -3.300559169558241, -1.471619326161104, -2.482863766377193, 44.89222937062273, 111.36300186108039, 342.3288102466892, 126.67958024706634, 46.44073180391163, 109.87818312548369, 79.24678590247271, 116.00920992712938, 183.72168296997975, 172.42401221239166, 112.84118430770924, 47.093767508572306, 146.13142281352663, 102.46208811195226, 47.241389960329904, 180.68020637252235, 194.97220106715525, 74.8504874798056, 111.03721923065173, 76.32536173026364, 40.01830623171267, 90.78252295363133, 76.30022868521357, 122.41246286212751, 280.59340399289977, 143.4834898780203, 54.110994390695964, 82.90719216847779, 94.16250629297969, 71.25044242697746, 35.42519998118391, 84.31483017016961, 286.26962725331083, 108.34965101514068, 36.98808708952099, 90.85056977368625, 66.18410704186323, 101.20333890099562, 146.34521766478585, 150.74925286329196, 95.16874611221265, 41.39900478451852, 110.47156562031124, 83.03143300621181, 42.87990406127654, 161.07342979691126, 165.57457627659477, 67.03753360784088, 92.71542816925061, 66.07668294747074, 34.95035793759885, 82.91795693528469, 59.85034428231572, 106.4833669108217, 220.07980462526427, 120.76131984488012, 47.78192667558821, 57.18987165903686, 82.19729747899297, 54.73835189980477, 37.75982395986877, 40.71624994037739, 46.64540885675644, 48.70144022030136, 45.64467817344928, 44.26132208143357, 44.25409807748751, 47.83996928295028, 35.63770200737305, 46.11224841619744, 40.96224776697351, 49.89366863333349, 41.26482814247898, 40.52048034036802, 48.47799005016877, 50.88586612857365, 45.978325437708534, 55.80481396385381, 46.14623869121712, 49.76676606841861, 51.63699466969182, 53.62612687484355, 34.35809840118678, 45.04135387279997, 44.5684146391877, 46.509202260278585, 49.63783502247345, 38.307205284058206, 48.35169659019782, 36.543217733002415, -91.67054593629385, -109.8383479335725, -17.475572612221523, 12.329529747675878, -77.47324681094723, -77.33962585106755, -42.732092003419446, -58.14510275151008, -84.41152060393719, 4.262368100547874, -97.52338683742417, -24.206099345364137, -89.21712725299025, -72.56607081986824, -120.16042968973726, -88.61097854653455, -82.70331590720775, 18.678406608105853, -71.4198239196824, 50.30535743909069, -8.022870249083393, -49.06712720073598, -130.13339802496432, -66.78446212683663, -82.54308811269033, -59.798289371470325, -70.49851911199754, -124.28460705024102, -17.69249758632144, -120.07785559844123, 39.21273713115692, 30.453011992404555, 9.047314956629457, 5.499285014878643, 24.349465497595983, 18.674706573890372, 0.5037544821377812, 13.997383580478868, 29.32770159143419, 1.9913665820095818, 28.430069581600943, 1.8729404826432607, 38.63512730261832, 22.315559742186643, 13.005381083863785, 19.81702222548818, 15.178812041846507, 0.6113816125882416, 16.71149438381473, 8.357815156369787, 6.498120288227792, 8.013845497751616, 55.39295086435475, 35.542858223546276, 22.914261916465172, 15.829087664939708, 14.948583054220851, 57.4119284443266, 1.9382079525904927, 38.68347837075397, 41.427544657389326, 100.1662841796875, 315.0024037679037, 117.73522415161133, 41.98094584147135, 101.87928746541341, 74.36122589111328, 109.81524073282877, 172.00625762939453, 162.00941111246746, 104.7405616760254, 44.481499354044594, 130.70966313680012, 95.50019989013671, 45.252423731486004, 172.0068593343099, 182.44998118082682, 70.7762446085612, 102.38918431599934, 71.21157328287761, 37.573584111531574, 86.85305226643881, 70.41919021606445, 116.69815724690756, 252.94693857828776, 133.03675867716473, 51.85478057861328, 71.89152615865072, 89.29732182820638, 64.20575040181478, 46.69040864308675, 100.4800532023112, 332.99889882405597, 120.29204368591309, 42.22139949798584, 102.97162348429362, 76.19156150817871, 111.52368125915527, 190.53668238321941, 167.6039156595866, 109.24550806681314, 43.884673500061034, 130.74426816304523, 98.05444679260253, 44.338623428344725, 167.7947914123535, 182.2012171427409, 68.91559403737386, 103.5944315592448, 72.6252488454183, 37.520247840881346, 83.96607894897461, 73.4315902709961, 117.68082796732584, 253.82371215820314, 135.27827339172364, 51.14293855031331, 71.3548786799113, 91.69127909342448, 66.56452528635661]\n",
      "[1000000, 38.39591979980469, 91.69662475585938, 313.3722229003906, 118.78218841552734, 40.123985290527344, 97.55754852294922, 72.68486785888672, 108.32612609863281, 159.20101928710938, 162.39141845703125, 100.57974243164062, 44.13541793823242, 121.43285369873047, 90.1629638671875, 44.01080322265625, 168.1305389404297, 176.2595672607422, 71.46668243408203, 98.81327819824219, 72.5230484008789, 37.58075714111328, 86.1761703491211, 63.318092346191406, 113.30058288574219, 240.15750122070312, 129.90611267089844, 50.585201263427734, 62.84025573730469, 89.07861328125, 58.40364074707031, 0, 0, 0, 0, 0, 0, 0, 0, 0, 0, 0, 0, 0, 0, 0, 0, 0, 0, 0, 0, 0, 0, 0, 0, 0, 0, 0, 0, 0, 0, -2.141041777965299, -3.552996723704098, -6.5322711673567255, -0.8822167825157834, -0.9799449674846201, -2.1934933168446946, -1.5881746002519037, -1.8656878145195321, -9.081052234113486, -2.2328399684980695, -2.5064249292951075, -0.32983955379442875, -4.102228793422313, -2.889179649527293, -0.37578329318664316, -1.5821942612953137, -3.034807609728148, -0.045701227715255754, -1.989642958275212, -0.4748045008294781, -0.31164924659512394, -0.15894413380489425, -3.133430619057208, -2.131574045626138, -6.482025623390342, -2.418196932413707, -0.7203707316276251, -3.300559169558241, -1.471619326161104, -2.482863766377193, 44.89222937062273, 111.36300186108039, 342.3288102466892, 126.67958024706634, 46.44073180391163, 109.87818312548369, 79.24678590247271, 116.00920992712938, 183.72168296997975, 172.42401221239166, 112.84118430770924, 47.093767508572306, 146.13142281352663, 102.46208811195226, 47.241389960329904, 180.68020637252235, 194.97220106715525, 74.8504874798056, 111.03721923065173, 76.32536173026364, 40.01830623171267, 90.78252295363133, 76.30022868521357, 122.41246286212751, 280.59340399289977, 143.4834898780203, 54.110994390695964, 82.90719216847779, 94.16250629297969, 71.25044242697746, 35.42519998118391, 84.31483017016961, 286.26962725331083, 108.34965101514068, 36.98808708952099, 90.85056977368625, 66.18410704186323, 101.20333890099562, 146.34521766478585, 150.74925286329196, 95.16874611221265, 41.39900478451852, 110.47156562031124, 83.03143300621181, 42.87990406127654, 161.07342979691126, 165.57457627659477, 67.03753360784088, 92.71542816925061, 66.07668294747074, 34.95035793759885, 82.91795693528469, 59.85034428231572, 106.4833669108217, 220.07980462526427, 120.76131984488012, 47.78192667558821, 57.18987165903686, 82.19729747899297, 54.73835189980477, 37.75982395986877, 40.71624994037739, 46.64540885675644, 48.70144022030136, 45.64467817344928, 44.26132208143357, 44.25409807748751, 47.83996928295028, 35.63770200737305, 46.11224841619744, 40.96224776697351, 49.89366863333349, 41.26482814247898, 40.52048034036802, 48.47799005016877, 50.88586612857365, 45.978325437708534, 55.80481396385381, 46.14623869121712, 49.76676606841861, 51.63699466969182, 53.62612687484355, 34.35809840118678, 45.04135387279997, 44.5684146391877, 46.509202260278585, 49.63783502247345, 38.307205284058206, 48.35169659019782, 36.543217733002415, -91.67054593629385, -109.8383479335725, -17.475572612221523, 12.329529747675878, -77.47324681094723, -77.33962585106755, -42.732092003419446, -58.14510275151008, -84.41152060393719, 4.262368100547874, -97.52338683742417, -24.206099345364137, -89.21712725299025, -72.56607081986824, -120.16042968973726, -88.61097854653455, -82.70331590720775, 18.678406608105853, -71.4198239196824, 50.30535743909069, -8.022870249083393, -49.06712720073598, -130.13339802496432, -66.78446212683663, -82.54308811269033, -59.798289371470325, -70.49851911199754, -124.28460705024102, -17.69249758632144, -120.07785559844123, 39.21273713115692, 30.453011992404555, 9.047314956629457, 5.499285014878643, 24.349465497595983, 18.674706573890372, 0.5037544821377812, 13.997383580478868, 29.32770159143419, 1.9913665820095818, 28.430069581600943, 1.8729404826432607, 38.63512730261832, 22.315559742186643, 13.005381083863785, 19.81702222548818, 15.178812041846507, 0.6113816125882416, 16.71149438381473, 8.357815156369787, 6.498120288227792, 8.013845497751616, 55.39295086435475, 35.542858223546276, 22.914261916465172, 15.829087664939708, 14.948583054220851, 57.4119284443266, 1.9382079525904927, 38.68347837075397, 41.427544657389326, 100.1662841796875, 315.0024037679037, 117.73522415161133, 41.98094584147135, 101.87928746541341, 74.36122589111328, 109.81524073282877, 172.00625762939453, 162.00941111246746, 104.7405616760254, 44.481499354044594, 130.70966313680012, 95.50019989013671, 45.252423731486004, 172.0068593343099, 182.44998118082682, 70.7762446085612, 102.38918431599934, 71.21157328287761, 37.573584111531574, 86.85305226643881, 70.41919021606445, 116.69815724690756, 252.94693857828776, 133.03675867716473, 51.85478057861328, 71.89152615865072, 89.29732182820638, 64.20575040181478, 46.69040864308675, 100.4800532023112, 332.99889882405597, 120.29204368591309, 42.22139949798584, 102.97162348429362, 76.19156150817871, 111.52368125915527, 190.53668238321941, 167.6039156595866, 109.24550806681314, 43.884673500061034, 130.74426816304523, 98.05444679260253, 44.338623428344725, 167.7947914123535, 182.2012171427409, 68.91559403737386, 103.5944315592448, 72.6252488454183, 37.520247840881346, 83.96607894897461, 73.4315902709961, 117.68082796732584, 253.82371215820314, 135.27827339172364, 51.14293855031331, 71.3548786799113, 91.69127909342448, 66.56452528635661]\n"
     ]
    },
    {
     "name": "stdout",
     "output_type": "stream",
     "text": [
      "day: 2515, episode: 10\n",
      "begin_total_asset: 1000000.00\n",
      "end_total_asset: 2977875.91\n",
      "total_reward: 1977875.91\n",
      "total_cost: 1070.38\n",
      "total_trades: 35258\n",
      "Sharpe: 0.683\n",
      "=================================\n",
      "[1000000, 38.39591979980469, 91.69662475585938, 313.3722229003906, 118.78218841552734, 40.123985290527344, 97.55754852294922, 72.68486785888672, 108.32612609863281, 159.20101928710938, 162.39141845703125, 100.57974243164062, 44.13541793823242, 121.43285369873047, 90.1629638671875, 44.01080322265625, 168.1305389404297, 176.2595672607422, 71.46668243408203, 98.81327819824219, 72.5230484008789, 37.58075714111328, 86.1761703491211, 63.318092346191406, 113.30058288574219, 240.15750122070312, 129.90611267089844, 50.585201263427734, 62.84025573730469, 89.07861328125, 58.40364074707031, 0, 0, 0, 0, 0, 0, 0, 0, 0, 0, 0, 0, 0, 0, 0, 0, 0, 0, 0, 0, 0, 0, 0, 0, 0, 0, 0, 0, 0, 0, -2.141041777965299, -3.552996723704098, -6.5322711673567255, -0.8822167825157834, -0.9799449674846201, -2.1934933168446946, -1.5881746002519037, -1.8656878145195321, -9.081052234113486, -2.2328399684980695, -2.5064249292951075, -0.32983955379442875, -4.102228793422313, -2.889179649527293, -0.37578329318664316, -1.5821942612953137, -3.034807609728148, -0.045701227715255754, -1.989642958275212, -0.4748045008294781, -0.31164924659512394, -0.15894413380489425, -3.133430619057208, -2.131574045626138, -6.482025623390342, -2.418196932413707, -0.7203707316276251, -3.300559169558241, -1.471619326161104, -2.482863766377193, 44.89222937062273, 111.36300186108039, 342.3288102466892, 126.67958024706634, 46.44073180391163, 109.87818312548369, 79.24678590247271, 116.00920992712938, 183.72168296997975, 172.42401221239166, 112.84118430770924, 47.093767508572306, 146.13142281352663, 102.46208811195226, 47.241389960329904, 180.68020637252235, 194.97220106715525, 74.8504874798056, 111.03721923065173, 76.32536173026364, 40.01830623171267, 90.78252295363133, 76.30022868521357, 122.41246286212751, 280.59340399289977, 143.4834898780203, 54.110994390695964, 82.90719216847779, 94.16250629297969, 71.25044242697746, 35.42519998118391, 84.31483017016961, 286.26962725331083, 108.34965101514068, 36.98808708952099, 90.85056977368625, 66.18410704186323, 101.20333890099562, 146.34521766478585, 150.74925286329196, 95.16874611221265, 41.39900478451852, 110.47156562031124, 83.03143300621181, 42.87990406127654, 161.07342979691126, 165.57457627659477, 67.03753360784088, 92.71542816925061, 66.07668294747074, 34.95035793759885, 82.91795693528469, 59.85034428231572, 106.4833669108217, 220.07980462526427, 120.76131984488012, 47.78192667558821, 57.18987165903686, 82.19729747899297, 54.73835189980477, 37.75982395986877, 40.71624994037739, 46.64540885675644, 48.70144022030136, 45.64467817344928, 44.26132208143357, 44.25409807748751, 47.83996928295028, 35.63770200737305, 46.11224841619744, 40.96224776697351, 49.89366863333349, 41.26482814247898, 40.52048034036802, 48.47799005016877, 50.88586612857365, 45.978325437708534, 55.80481396385381, 46.14623869121712, 49.76676606841861, 51.63699466969182, 53.62612687484355, 34.35809840118678, 45.04135387279997, 44.5684146391877, 46.509202260278585, 49.63783502247345, 38.307205284058206, 48.35169659019782, 36.543217733002415, -91.67054593629385, -109.8383479335725, -17.475572612221523, 12.329529747675878, -77.47324681094723, -77.33962585106755, -42.732092003419446, -58.14510275151008, -84.41152060393719, 4.262368100547874, -97.52338683742417, -24.206099345364137, -89.21712725299025, -72.56607081986824, -120.16042968973726, -88.61097854653455, -82.70331590720775, 18.678406608105853, -71.4198239196824, 50.30535743909069, -8.022870249083393, -49.06712720073598, -130.13339802496432, -66.78446212683663, -82.54308811269033, -59.798289371470325, -70.49851911199754, -124.28460705024102, -17.69249758632144, -120.07785559844123, 39.21273713115692, 30.453011992404555, 9.047314956629457, 5.499285014878643, 24.349465497595983, 18.674706573890372, 0.5037544821377812, 13.997383580478868, 29.32770159143419, 1.9913665820095818, 28.430069581600943, 1.8729404826432607, 38.63512730261832, 22.315559742186643, 13.005381083863785, 19.81702222548818, 15.178812041846507, 0.6113816125882416, 16.71149438381473, 8.357815156369787, 6.498120288227792, 8.013845497751616, 55.39295086435475, 35.542858223546276, 22.914261916465172, 15.829087664939708, 14.948583054220851, 57.4119284443266, 1.9382079525904927, 38.68347837075397, 41.427544657389326, 100.1662841796875, 315.0024037679037, 117.73522415161133, 41.98094584147135, 101.87928746541341, 74.36122589111328, 109.81524073282877, 172.00625762939453, 162.00941111246746, 104.7405616760254, 44.481499354044594, 130.70966313680012, 95.50019989013671, 45.252423731486004, 172.0068593343099, 182.44998118082682, 70.7762446085612, 102.38918431599934, 71.21157328287761, 37.573584111531574, 86.85305226643881, 70.41919021606445, 116.69815724690756, 252.94693857828776, 133.03675867716473, 51.85478057861328, 71.89152615865072, 89.29732182820638, 64.20575040181478, 46.69040864308675, 100.4800532023112, 332.99889882405597, 120.29204368591309, 42.22139949798584, 102.97162348429362, 76.19156150817871, 111.52368125915527, 190.53668238321941, 167.6039156595866, 109.24550806681314, 43.884673500061034, 130.74426816304523, 98.05444679260253, 44.338623428344725, 167.7947914123535, 182.2012171427409, 68.91559403737386, 103.5944315592448, 72.6252488454183, 37.520247840881346, 83.96607894897461, 73.4315902709961, 117.68082796732584, 253.82371215820314, 135.27827339172364, 51.14293855031331, 71.3548786799113, 91.69127909342448, 66.56452528635661]\n",
      "----------------------------------\n",
      "| environment/        |          |\n",
      "|    portfolio_value  | 2.98e+06 |\n",
      "|    total_cost       | 1.07e+03 |\n",
      "|    total_reward     | 1.98e+06 |\n",
      "|    total_reward_pct | 198      |\n",
      "|    total_trades     | 35258    |\n",
      "| time/               |          |\n",
      "|    episodes         | 8        |\n",
      "|    fps              | 53       |\n",
      "|    time_elapsed     | 372      |\n",
      "|    total timesteps  | 20128    |\n",
      "| train/              |          |\n",
      "|    actor_loss       | 21.8     |\n",
      "|    critic_loss      | 64       |\n",
      "|    learning_rate    | 0.001    |\n",
      "|    n_updates        | 17612    |\n",
      "----------------------------------\n",
      "[1000000, 38.39591979980469, 91.69662475585938, 313.3722229003906, 118.78218841552734, 40.123985290527344, 97.55754852294922, 72.68486785888672, 108.32612609863281, 159.20101928710938, 162.39141845703125, 100.57974243164062, 44.13541793823242, 121.43285369873047, 90.1629638671875, 44.01080322265625, 168.1305389404297, 176.2595672607422, 71.46668243408203, 98.81327819824219, 72.5230484008789, 37.58075714111328, 86.1761703491211, 63.318092346191406, 113.30058288574219, 240.15750122070312, 129.90611267089844, 50.585201263427734, 62.84025573730469, 89.07861328125, 58.40364074707031, 0, 0, 0, 0, 0, 0, 0, 0, 0, 0, 0, 0, 0, 0, 0, 0, 0, 0, 0, 0, 0, 0, 0, 0, 0, 0, 0, 0, 0, 0, -2.141041777965299, -3.552996723704098, -6.5322711673567255, -0.8822167825157834, -0.9799449674846201, -2.1934933168446946, -1.5881746002519037, -1.8656878145195321, -9.081052234113486, -2.2328399684980695, -2.5064249292951075, -0.32983955379442875, -4.102228793422313, -2.889179649527293, -0.37578329318664316, -1.5821942612953137, -3.034807609728148, -0.045701227715255754, -1.989642958275212, -0.4748045008294781, -0.31164924659512394, -0.15894413380489425, -3.133430619057208, -2.131574045626138, -6.482025623390342, -2.418196932413707, -0.7203707316276251, -3.300559169558241, -1.471619326161104, -2.482863766377193, 44.89222937062273, 111.36300186108039, 342.3288102466892, 126.67958024706634, 46.44073180391163, 109.87818312548369, 79.24678590247271, 116.00920992712938, 183.72168296997975, 172.42401221239166, 112.84118430770924, 47.093767508572306, 146.13142281352663, 102.46208811195226, 47.241389960329904, 180.68020637252235, 194.97220106715525, 74.8504874798056, 111.03721923065173, 76.32536173026364, 40.01830623171267, 90.78252295363133, 76.30022868521357, 122.41246286212751, 280.59340399289977, 143.4834898780203, 54.110994390695964, 82.90719216847779, 94.16250629297969, 71.25044242697746, 35.42519998118391, 84.31483017016961, 286.26962725331083, 108.34965101514068, 36.98808708952099, 90.85056977368625, 66.18410704186323, 101.20333890099562, 146.34521766478585, 150.74925286329196, 95.16874611221265, 41.39900478451852, 110.47156562031124, 83.03143300621181, 42.87990406127654, 161.07342979691126, 165.57457627659477, 67.03753360784088, 92.71542816925061, 66.07668294747074, 34.95035793759885, 82.91795693528469, 59.85034428231572, 106.4833669108217, 220.07980462526427, 120.76131984488012, 47.78192667558821, 57.18987165903686, 82.19729747899297, 54.73835189980477, 37.75982395986877, 40.71624994037739, 46.64540885675644, 48.70144022030136, 45.64467817344928, 44.26132208143357, 44.25409807748751, 47.83996928295028, 35.63770200737305, 46.11224841619744, 40.96224776697351, 49.89366863333349, 41.26482814247898, 40.52048034036802, 48.47799005016877, 50.88586612857365, 45.978325437708534, 55.80481396385381, 46.14623869121712, 49.76676606841861, 51.63699466969182, 53.62612687484355, 34.35809840118678, 45.04135387279997, 44.5684146391877, 46.509202260278585, 49.63783502247345, 38.307205284058206, 48.35169659019782, 36.543217733002415, -91.67054593629385, -109.8383479335725, -17.475572612221523, 12.329529747675878, -77.47324681094723, -77.33962585106755, -42.732092003419446, -58.14510275151008, -84.41152060393719, 4.262368100547874, -97.52338683742417, -24.206099345364137, -89.21712725299025, -72.56607081986824, -120.16042968973726, -88.61097854653455, -82.70331590720775, 18.678406608105853, -71.4198239196824, 50.30535743909069, -8.022870249083393, -49.06712720073598, -130.13339802496432, -66.78446212683663, -82.54308811269033, -59.798289371470325, -70.49851911199754, -124.28460705024102, -17.69249758632144, -120.07785559844123, 39.21273713115692, 30.453011992404555, 9.047314956629457, 5.499285014878643, 24.349465497595983, 18.674706573890372, 0.5037544821377812, 13.997383580478868, 29.32770159143419, 1.9913665820095818, 28.430069581600943, 1.8729404826432607, 38.63512730261832, 22.315559742186643, 13.005381083863785, 19.81702222548818, 15.178812041846507, 0.6113816125882416, 16.71149438381473, 8.357815156369787, 6.498120288227792, 8.013845497751616, 55.39295086435475, 35.542858223546276, 22.914261916465172, 15.829087664939708, 14.948583054220851, 57.4119284443266, 1.9382079525904927, 38.68347837075397, 41.427544657389326, 100.1662841796875, 315.0024037679037, 117.73522415161133, 41.98094584147135, 101.87928746541341, 74.36122589111328, 109.81524073282877, 172.00625762939453, 162.00941111246746, 104.7405616760254, 44.481499354044594, 130.70966313680012, 95.50019989013671, 45.252423731486004, 172.0068593343099, 182.44998118082682, 70.7762446085612, 102.38918431599934, 71.21157328287761, 37.573584111531574, 86.85305226643881, 70.41919021606445, 116.69815724690756, 252.94693857828776, 133.03675867716473, 51.85478057861328, 71.89152615865072, 89.29732182820638, 64.20575040181478, 46.69040864308675, 100.4800532023112, 332.99889882405597, 120.29204368591309, 42.22139949798584, 102.97162348429362, 76.19156150817871, 111.52368125915527, 190.53668238321941, 167.6039156595866, 109.24550806681314, 43.884673500061034, 130.74426816304523, 98.05444679260253, 44.338623428344725, 167.7947914123535, 182.2012171427409, 68.91559403737386, 103.5944315592448, 72.6252488454183, 37.520247840881346, 83.96607894897461, 73.4315902709961, 117.68082796732584, 253.82371215820314, 135.27827339172364, 51.14293855031331, 71.3548786799113, 91.69127909342448, 66.56452528635661]\n"
     ]
    },
    {
     "name": "stdout",
     "output_type": "stream",
     "text": [
      "[1000000, 38.39591979980469, 91.69662475585938, 313.3722229003906, 118.78218841552734, 40.123985290527344, 97.55754852294922, 72.68486785888672, 108.32612609863281, 159.20101928710938, 162.39141845703125, 100.57974243164062, 44.13541793823242, 121.43285369873047, 90.1629638671875, 44.01080322265625, 168.1305389404297, 176.2595672607422, 71.46668243408203, 98.81327819824219, 72.5230484008789, 37.58075714111328, 86.1761703491211, 63.318092346191406, 113.30058288574219, 240.15750122070312, 129.90611267089844, 50.585201263427734, 62.84025573730469, 89.07861328125, 58.40364074707031, 0, 0, 0, 0, 0, 0, 0, 0, 0, 0, 0, 0, 0, 0, 0, 0, 0, 0, 0, 0, 0, 0, 0, 0, 0, 0, 0, 0, 0, 0, -2.141041777965299, -3.552996723704098, -6.5322711673567255, -0.8822167825157834, -0.9799449674846201, -2.1934933168446946, -1.5881746002519037, -1.8656878145195321, -9.081052234113486, -2.2328399684980695, -2.5064249292951075, -0.32983955379442875, -4.102228793422313, -2.889179649527293, -0.37578329318664316, -1.5821942612953137, -3.034807609728148, -0.045701227715255754, -1.989642958275212, -0.4748045008294781, -0.31164924659512394, -0.15894413380489425, -3.133430619057208, -2.131574045626138, -6.482025623390342, -2.418196932413707, -0.7203707316276251, -3.300559169558241, -1.471619326161104, -2.482863766377193, 44.89222937062273, 111.36300186108039, 342.3288102466892, 126.67958024706634, 46.44073180391163, 109.87818312548369, 79.24678590247271, 116.00920992712938, 183.72168296997975, 172.42401221239166, 112.84118430770924, 47.093767508572306, 146.13142281352663, 102.46208811195226, 47.241389960329904, 180.68020637252235, 194.97220106715525, 74.8504874798056, 111.03721923065173, 76.32536173026364, 40.01830623171267, 90.78252295363133, 76.30022868521357, 122.41246286212751, 280.59340399289977, 143.4834898780203, 54.110994390695964, 82.90719216847779, 94.16250629297969, 71.25044242697746, 35.42519998118391, 84.31483017016961, 286.26962725331083, 108.34965101514068, 36.98808708952099, 90.85056977368625, 66.18410704186323, 101.20333890099562, 146.34521766478585, 150.74925286329196, 95.16874611221265, 41.39900478451852, 110.47156562031124, 83.03143300621181, 42.87990406127654, 161.07342979691126, 165.57457627659477, 67.03753360784088, 92.71542816925061, 66.07668294747074, 34.95035793759885, 82.91795693528469, 59.85034428231572, 106.4833669108217, 220.07980462526427, 120.76131984488012, 47.78192667558821, 57.18987165903686, 82.19729747899297, 54.73835189980477, 37.75982395986877, 40.71624994037739, 46.64540885675644, 48.70144022030136, 45.64467817344928, 44.26132208143357, 44.25409807748751, 47.83996928295028, 35.63770200737305, 46.11224841619744, 40.96224776697351, 49.89366863333349, 41.26482814247898, 40.52048034036802, 48.47799005016877, 50.88586612857365, 45.978325437708534, 55.80481396385381, 46.14623869121712, 49.76676606841861, 51.63699466969182, 53.62612687484355, 34.35809840118678, 45.04135387279997, 44.5684146391877, 46.509202260278585, 49.63783502247345, 38.307205284058206, 48.35169659019782, 36.543217733002415, -91.67054593629385, -109.8383479335725, -17.475572612221523, 12.329529747675878, -77.47324681094723, -77.33962585106755, -42.732092003419446, -58.14510275151008, -84.41152060393719, 4.262368100547874, -97.52338683742417, -24.206099345364137, -89.21712725299025, -72.56607081986824, -120.16042968973726, -88.61097854653455, -82.70331590720775, 18.678406608105853, -71.4198239196824, 50.30535743909069, -8.022870249083393, -49.06712720073598, -130.13339802496432, -66.78446212683663, -82.54308811269033, -59.798289371470325, -70.49851911199754, -124.28460705024102, -17.69249758632144, -120.07785559844123, 39.21273713115692, 30.453011992404555, 9.047314956629457, 5.499285014878643, 24.349465497595983, 18.674706573890372, 0.5037544821377812, 13.997383580478868, 29.32770159143419, 1.9913665820095818, 28.430069581600943, 1.8729404826432607, 38.63512730261832, 22.315559742186643, 13.005381083863785, 19.81702222548818, 15.178812041846507, 0.6113816125882416, 16.71149438381473, 8.357815156369787, 6.498120288227792, 8.013845497751616, 55.39295086435475, 35.542858223546276, 22.914261916465172, 15.829087664939708, 14.948583054220851, 57.4119284443266, 1.9382079525904927, 38.68347837075397, 41.427544657389326, 100.1662841796875, 315.0024037679037, 117.73522415161133, 41.98094584147135, 101.87928746541341, 74.36122589111328, 109.81524073282877, 172.00625762939453, 162.00941111246746, 104.7405616760254, 44.481499354044594, 130.70966313680012, 95.50019989013671, 45.252423731486004, 172.0068593343099, 182.44998118082682, 70.7762446085612, 102.38918431599934, 71.21157328287761, 37.573584111531574, 86.85305226643881, 70.41919021606445, 116.69815724690756, 252.94693857828776, 133.03675867716473, 51.85478057861328, 71.89152615865072, 89.29732182820638, 64.20575040181478, 46.69040864308675, 100.4800532023112, 332.99889882405597, 120.29204368591309, 42.22139949798584, 102.97162348429362, 76.19156150817871, 111.52368125915527, 190.53668238321941, 167.6039156595866, 109.24550806681314, 43.884673500061034, 130.74426816304523, 98.05444679260253, 44.338623428344725, 167.7947914123535, 182.2012171427409, 68.91559403737386, 103.5944315592448, 72.6252488454183, 37.520247840881346, 83.96607894897461, 73.4315902709961, 117.68082796732584, 253.82371215820314, 135.27827339172364, 51.14293855031331, 71.3548786799113, 91.69127909342448, 66.56452528635661]\n",
      "[1000000, 38.39591979980469, 91.69662475585938, 313.3722229003906, 118.78218841552734, 40.123985290527344, 97.55754852294922, 72.68486785888672, 108.32612609863281, 159.20101928710938, 162.39141845703125, 100.57974243164062, 44.13541793823242, 121.43285369873047, 90.1629638671875, 44.01080322265625, 168.1305389404297, 176.2595672607422, 71.46668243408203, 98.81327819824219, 72.5230484008789, 37.58075714111328, 86.1761703491211, 63.318092346191406, 113.30058288574219, 240.15750122070312, 129.90611267089844, 50.585201263427734, 62.84025573730469, 89.07861328125, 58.40364074707031, 0, 0, 0, 0, 0, 0, 0, 0, 0, 0, 0, 0, 0, 0, 0, 0, 0, 0, 0, 0, 0, 0, 0, 0, 0, 0, 0, 0, 0, 0, -2.141041777965299, -3.552996723704098, -6.5322711673567255, -0.8822167825157834, -0.9799449674846201, -2.1934933168446946, -1.5881746002519037, -1.8656878145195321, -9.081052234113486, -2.2328399684980695, -2.5064249292951075, -0.32983955379442875, -4.102228793422313, -2.889179649527293, -0.37578329318664316, -1.5821942612953137, -3.034807609728148, -0.045701227715255754, -1.989642958275212, -0.4748045008294781, -0.31164924659512394, -0.15894413380489425, -3.133430619057208, -2.131574045626138, -6.482025623390342, -2.418196932413707, -0.7203707316276251, -3.300559169558241, -1.471619326161104, -2.482863766377193, 44.89222937062273, 111.36300186108039, 342.3288102466892, 126.67958024706634, 46.44073180391163, 109.87818312548369, 79.24678590247271, 116.00920992712938, 183.72168296997975, 172.42401221239166, 112.84118430770924, 47.093767508572306, 146.13142281352663, 102.46208811195226, 47.241389960329904, 180.68020637252235, 194.97220106715525, 74.8504874798056, 111.03721923065173, 76.32536173026364, 40.01830623171267, 90.78252295363133, 76.30022868521357, 122.41246286212751, 280.59340399289977, 143.4834898780203, 54.110994390695964, 82.90719216847779, 94.16250629297969, 71.25044242697746, 35.42519998118391, 84.31483017016961, 286.26962725331083, 108.34965101514068, 36.98808708952099, 90.85056977368625, 66.18410704186323, 101.20333890099562, 146.34521766478585, 150.74925286329196, 95.16874611221265, 41.39900478451852, 110.47156562031124, 83.03143300621181, 42.87990406127654, 161.07342979691126, 165.57457627659477, 67.03753360784088, 92.71542816925061, 66.07668294747074, 34.95035793759885, 82.91795693528469, 59.85034428231572, 106.4833669108217, 220.07980462526427, 120.76131984488012, 47.78192667558821, 57.18987165903686, 82.19729747899297, 54.73835189980477, 37.75982395986877, 40.71624994037739, 46.64540885675644, 48.70144022030136, 45.64467817344928, 44.26132208143357, 44.25409807748751, 47.83996928295028, 35.63770200737305, 46.11224841619744, 40.96224776697351, 49.89366863333349, 41.26482814247898, 40.52048034036802, 48.47799005016877, 50.88586612857365, 45.978325437708534, 55.80481396385381, 46.14623869121712, 49.76676606841861, 51.63699466969182, 53.62612687484355, 34.35809840118678, 45.04135387279997, 44.5684146391877, 46.509202260278585, 49.63783502247345, 38.307205284058206, 48.35169659019782, 36.543217733002415, -91.67054593629385, -109.8383479335725, -17.475572612221523, 12.329529747675878, -77.47324681094723, -77.33962585106755, -42.732092003419446, -58.14510275151008, -84.41152060393719, 4.262368100547874, -97.52338683742417, -24.206099345364137, -89.21712725299025, -72.56607081986824, -120.16042968973726, -88.61097854653455, -82.70331590720775, 18.678406608105853, -71.4198239196824, 50.30535743909069, -8.022870249083393, -49.06712720073598, -130.13339802496432, -66.78446212683663, -82.54308811269033, -59.798289371470325, -70.49851911199754, -124.28460705024102, -17.69249758632144, -120.07785559844123, 39.21273713115692, 30.453011992404555, 9.047314956629457, 5.499285014878643, 24.349465497595983, 18.674706573890372, 0.5037544821377812, 13.997383580478868, 29.32770159143419, 1.9913665820095818, 28.430069581600943, 1.8729404826432607, 38.63512730261832, 22.315559742186643, 13.005381083863785, 19.81702222548818, 15.178812041846507, 0.6113816125882416, 16.71149438381473, 8.357815156369787, 6.498120288227792, 8.013845497751616, 55.39295086435475, 35.542858223546276, 22.914261916465172, 15.829087664939708, 14.948583054220851, 57.4119284443266, 1.9382079525904927, 38.68347837075397, 41.427544657389326, 100.1662841796875, 315.0024037679037, 117.73522415161133, 41.98094584147135, 101.87928746541341, 74.36122589111328, 109.81524073282877, 172.00625762939453, 162.00941111246746, 104.7405616760254, 44.481499354044594, 130.70966313680012, 95.50019989013671, 45.252423731486004, 172.0068593343099, 182.44998118082682, 70.7762446085612, 102.38918431599934, 71.21157328287761, 37.573584111531574, 86.85305226643881, 70.41919021606445, 116.69815724690756, 252.94693857828776, 133.03675867716473, 51.85478057861328, 71.89152615865072, 89.29732182820638, 64.20575040181478, 46.69040864308675, 100.4800532023112, 332.99889882405597, 120.29204368591309, 42.22139949798584, 102.97162348429362, 76.19156150817871, 111.52368125915527, 190.53668238321941, 167.6039156595866, 109.24550806681314, 43.884673500061034, 130.74426816304523, 98.05444679260253, 44.338623428344725, 167.7947914123535, 182.2012171427409, 68.91559403737386, 103.5944315592448, 72.6252488454183, 37.520247840881346, 83.96607894897461, 73.4315902709961, 117.68082796732584, 253.82371215820314, 135.27827339172364, 51.14293855031331, 71.3548786799113, 91.69127909342448, 66.56452528635661]\n"
     ]
    },
    {
     "name": "stdout",
     "output_type": "stream",
     "text": [
      "[1000000, 38.39591979980469, 91.69662475585938, 313.3722229003906, 118.78218841552734, 40.123985290527344, 97.55754852294922, 72.68486785888672, 108.32612609863281, 159.20101928710938, 162.39141845703125, 100.57974243164062, 44.13541793823242, 121.43285369873047, 90.1629638671875, 44.01080322265625, 168.1305389404297, 176.2595672607422, 71.46668243408203, 98.81327819824219, 72.5230484008789, 37.58075714111328, 86.1761703491211, 63.318092346191406, 113.30058288574219, 240.15750122070312, 129.90611267089844, 50.585201263427734, 62.84025573730469, 89.07861328125, 58.40364074707031, 0, 0, 0, 0, 0, 0, 0, 0, 0, 0, 0, 0, 0, 0, 0, 0, 0, 0, 0, 0, 0, 0, 0, 0, 0, 0, 0, 0, 0, 0, -2.141041777965299, -3.552996723704098, -6.5322711673567255, -0.8822167825157834, -0.9799449674846201, -2.1934933168446946, -1.5881746002519037, -1.8656878145195321, -9.081052234113486, -2.2328399684980695, -2.5064249292951075, -0.32983955379442875, -4.102228793422313, -2.889179649527293, -0.37578329318664316, -1.5821942612953137, -3.034807609728148, -0.045701227715255754, -1.989642958275212, -0.4748045008294781, -0.31164924659512394, -0.15894413380489425, -3.133430619057208, -2.131574045626138, -6.482025623390342, -2.418196932413707, -0.7203707316276251, -3.300559169558241, -1.471619326161104, -2.482863766377193, 44.89222937062273, 111.36300186108039, 342.3288102466892, 126.67958024706634, 46.44073180391163, 109.87818312548369, 79.24678590247271, 116.00920992712938, 183.72168296997975, 172.42401221239166, 112.84118430770924, 47.093767508572306, 146.13142281352663, 102.46208811195226, 47.241389960329904, 180.68020637252235, 194.97220106715525, 74.8504874798056, 111.03721923065173, 76.32536173026364, 40.01830623171267, 90.78252295363133, 76.30022868521357, 122.41246286212751, 280.59340399289977, 143.4834898780203, 54.110994390695964, 82.90719216847779, 94.16250629297969, 71.25044242697746, 35.42519998118391, 84.31483017016961, 286.26962725331083, 108.34965101514068, 36.98808708952099, 90.85056977368625, 66.18410704186323, 101.20333890099562, 146.34521766478585, 150.74925286329196, 95.16874611221265, 41.39900478451852, 110.47156562031124, 83.03143300621181, 42.87990406127654, 161.07342979691126, 165.57457627659477, 67.03753360784088, 92.71542816925061, 66.07668294747074, 34.95035793759885, 82.91795693528469, 59.85034428231572, 106.4833669108217, 220.07980462526427, 120.76131984488012, 47.78192667558821, 57.18987165903686, 82.19729747899297, 54.73835189980477, 37.75982395986877, 40.71624994037739, 46.64540885675644, 48.70144022030136, 45.64467817344928, 44.26132208143357, 44.25409807748751, 47.83996928295028, 35.63770200737305, 46.11224841619744, 40.96224776697351, 49.89366863333349, 41.26482814247898, 40.52048034036802, 48.47799005016877, 50.88586612857365, 45.978325437708534, 55.80481396385381, 46.14623869121712, 49.76676606841861, 51.63699466969182, 53.62612687484355, 34.35809840118678, 45.04135387279997, 44.5684146391877, 46.509202260278585, 49.63783502247345, 38.307205284058206, 48.35169659019782, 36.543217733002415, -91.67054593629385, -109.8383479335725, -17.475572612221523, 12.329529747675878, -77.47324681094723, -77.33962585106755, -42.732092003419446, -58.14510275151008, -84.41152060393719, 4.262368100547874, -97.52338683742417, -24.206099345364137, -89.21712725299025, -72.56607081986824, -120.16042968973726, -88.61097854653455, -82.70331590720775, 18.678406608105853, -71.4198239196824, 50.30535743909069, -8.022870249083393, -49.06712720073598, -130.13339802496432, -66.78446212683663, -82.54308811269033, -59.798289371470325, -70.49851911199754, -124.28460705024102, -17.69249758632144, -120.07785559844123, 39.21273713115692, 30.453011992404555, 9.047314956629457, 5.499285014878643, 24.349465497595983, 18.674706573890372, 0.5037544821377812, 13.997383580478868, 29.32770159143419, 1.9913665820095818, 28.430069581600943, 1.8729404826432607, 38.63512730261832, 22.315559742186643, 13.005381083863785, 19.81702222548818, 15.178812041846507, 0.6113816125882416, 16.71149438381473, 8.357815156369787, 6.498120288227792, 8.013845497751616, 55.39295086435475, 35.542858223546276, 22.914261916465172, 15.829087664939708, 14.948583054220851, 57.4119284443266, 1.9382079525904927, 38.68347837075397, 41.427544657389326, 100.1662841796875, 315.0024037679037, 117.73522415161133, 41.98094584147135, 101.87928746541341, 74.36122589111328, 109.81524073282877, 172.00625762939453, 162.00941111246746, 104.7405616760254, 44.481499354044594, 130.70966313680012, 95.50019989013671, 45.252423731486004, 172.0068593343099, 182.44998118082682, 70.7762446085612, 102.38918431599934, 71.21157328287761, 37.573584111531574, 86.85305226643881, 70.41919021606445, 116.69815724690756, 252.94693857828776, 133.03675867716473, 51.85478057861328, 71.89152615865072, 89.29732182820638, 64.20575040181478, 46.69040864308675, 100.4800532023112, 332.99889882405597, 120.29204368591309, 42.22139949798584, 102.97162348429362, 76.19156150817871, 111.52368125915527, 190.53668238321941, 167.6039156595866, 109.24550806681314, 43.884673500061034, 130.74426816304523, 98.05444679260253, 44.338623428344725, 167.7947914123535, 182.2012171427409, 68.91559403737386, 103.5944315592448, 72.6252488454183, 37.520247840881346, 83.96607894897461, 73.4315902709961, 117.68082796732584, 253.82371215820314, 135.27827339172364, 51.14293855031331, 71.3548786799113, 91.69127909342448, 66.56452528635661]\n",
      "----------------------------------\n",
      "| environment/        |          |\n",
      "|    portfolio_value  | 2.98e+06 |\n",
      "|    total_cost       | 1.07e+03 |\n",
      "|    total_reward     | 1.98e+06 |\n",
      "|    total_reward_pct | 198      |\n",
      "|    total_trades     | 35258    |\n",
      "| time/               |          |\n",
      "|    episodes         | 12       |\n",
      "|    fps              | 53       |\n",
      "|    time_elapsed     | 563      |\n",
      "|    total timesteps  | 30192    |\n",
      "| train/              |          |\n",
      "|    actor_loss       | 12.4     |\n",
      "|    critic_loss      | 7.49     |\n",
      "|    learning_rate    | 0.001    |\n",
      "|    n_updates        | 27676    |\n",
      "----------------------------------\n",
      "[1000000, 38.39591979980469, 91.69662475585938, 313.3722229003906, 118.78218841552734, 40.123985290527344, 97.55754852294922, 72.68486785888672, 108.32612609863281, 159.20101928710938, 162.39141845703125, 100.57974243164062, 44.13541793823242, 121.43285369873047, 90.1629638671875, 44.01080322265625, 168.1305389404297, 176.2595672607422, 71.46668243408203, 98.81327819824219, 72.5230484008789, 37.58075714111328, 86.1761703491211, 63.318092346191406, 113.30058288574219, 240.15750122070312, 129.90611267089844, 50.585201263427734, 62.84025573730469, 89.07861328125, 58.40364074707031, 0, 0, 0, 0, 0, 0, 0, 0, 0, 0, 0, 0, 0, 0, 0, 0, 0, 0, 0, 0, 0, 0, 0, 0, 0, 0, 0, 0, 0, 0, -2.141041777965299, -3.552996723704098, -6.5322711673567255, -0.8822167825157834, -0.9799449674846201, -2.1934933168446946, -1.5881746002519037, -1.8656878145195321, -9.081052234113486, -2.2328399684980695, -2.5064249292951075, -0.32983955379442875, -4.102228793422313, -2.889179649527293, -0.37578329318664316, -1.5821942612953137, -3.034807609728148, -0.045701227715255754, -1.989642958275212, -0.4748045008294781, -0.31164924659512394, -0.15894413380489425, -3.133430619057208, -2.131574045626138, -6.482025623390342, -2.418196932413707, -0.7203707316276251, -3.300559169558241, -1.471619326161104, -2.482863766377193, 44.89222937062273, 111.36300186108039, 342.3288102466892, 126.67958024706634, 46.44073180391163, 109.87818312548369, 79.24678590247271, 116.00920992712938, 183.72168296997975, 172.42401221239166, 112.84118430770924, 47.093767508572306, 146.13142281352663, 102.46208811195226, 47.241389960329904, 180.68020637252235, 194.97220106715525, 74.8504874798056, 111.03721923065173, 76.32536173026364, 40.01830623171267, 90.78252295363133, 76.30022868521357, 122.41246286212751, 280.59340399289977, 143.4834898780203, 54.110994390695964, 82.90719216847779, 94.16250629297969, 71.25044242697746, 35.42519998118391, 84.31483017016961, 286.26962725331083, 108.34965101514068, 36.98808708952099, 90.85056977368625, 66.18410704186323, 101.20333890099562, 146.34521766478585, 150.74925286329196, 95.16874611221265, 41.39900478451852, 110.47156562031124, 83.03143300621181, 42.87990406127654, 161.07342979691126, 165.57457627659477, 67.03753360784088, 92.71542816925061, 66.07668294747074, 34.95035793759885, 82.91795693528469, 59.85034428231572, 106.4833669108217, 220.07980462526427, 120.76131984488012, 47.78192667558821, 57.18987165903686, 82.19729747899297, 54.73835189980477, 37.75982395986877, 40.71624994037739, 46.64540885675644, 48.70144022030136, 45.64467817344928, 44.26132208143357, 44.25409807748751, 47.83996928295028, 35.63770200737305, 46.11224841619744, 40.96224776697351, 49.89366863333349, 41.26482814247898, 40.52048034036802, 48.47799005016877, 50.88586612857365, 45.978325437708534, 55.80481396385381, 46.14623869121712, 49.76676606841861, 51.63699466969182, 53.62612687484355, 34.35809840118678, 45.04135387279997, 44.5684146391877, 46.509202260278585, 49.63783502247345, 38.307205284058206, 48.35169659019782, 36.543217733002415, -91.67054593629385, -109.8383479335725, -17.475572612221523, 12.329529747675878, -77.47324681094723, -77.33962585106755, -42.732092003419446, -58.14510275151008, -84.41152060393719, 4.262368100547874, -97.52338683742417, -24.206099345364137, -89.21712725299025, -72.56607081986824, -120.16042968973726, -88.61097854653455, -82.70331590720775, 18.678406608105853, -71.4198239196824, 50.30535743909069, -8.022870249083393, -49.06712720073598, -130.13339802496432, -66.78446212683663, -82.54308811269033, -59.798289371470325, -70.49851911199754, -124.28460705024102, -17.69249758632144, -120.07785559844123, 39.21273713115692, 30.453011992404555, 9.047314956629457, 5.499285014878643, 24.349465497595983, 18.674706573890372, 0.5037544821377812, 13.997383580478868, 29.32770159143419, 1.9913665820095818, 28.430069581600943, 1.8729404826432607, 38.63512730261832, 22.315559742186643, 13.005381083863785, 19.81702222548818, 15.178812041846507, 0.6113816125882416, 16.71149438381473, 8.357815156369787, 6.498120288227792, 8.013845497751616, 55.39295086435475, 35.542858223546276, 22.914261916465172, 15.829087664939708, 14.948583054220851, 57.4119284443266, 1.9382079525904927, 38.68347837075397, 41.427544657389326, 100.1662841796875, 315.0024037679037, 117.73522415161133, 41.98094584147135, 101.87928746541341, 74.36122589111328, 109.81524073282877, 172.00625762939453, 162.00941111246746, 104.7405616760254, 44.481499354044594, 130.70966313680012, 95.50019989013671, 45.252423731486004, 172.0068593343099, 182.44998118082682, 70.7762446085612, 102.38918431599934, 71.21157328287761, 37.573584111531574, 86.85305226643881, 70.41919021606445, 116.69815724690756, 252.94693857828776, 133.03675867716473, 51.85478057861328, 71.89152615865072, 89.29732182820638, 64.20575040181478, 46.69040864308675, 100.4800532023112, 332.99889882405597, 120.29204368591309, 42.22139949798584, 102.97162348429362, 76.19156150817871, 111.52368125915527, 190.53668238321941, 167.6039156595866, 109.24550806681314, 43.884673500061034, 130.74426816304523, 98.05444679260253, 44.338623428344725, 167.7947914123535, 182.2012171427409, 68.91559403737386, 103.5944315592448, 72.6252488454183, 37.520247840881346, 83.96607894897461, 73.4315902709961, 117.68082796732584, 253.82371215820314, 135.27827339172364, 51.14293855031331, 71.3548786799113, 91.69127909342448, 66.56452528635661]\n"
     ]
    },
    {
     "name": "stdout",
     "output_type": "stream",
     "text": [
      "[1000000, 38.39591979980469, 91.69662475585938, 313.3722229003906, 118.78218841552734, 40.123985290527344, 97.55754852294922, 72.68486785888672, 108.32612609863281, 159.20101928710938, 162.39141845703125, 100.57974243164062, 44.13541793823242, 121.43285369873047, 90.1629638671875, 44.01080322265625, 168.1305389404297, 176.2595672607422, 71.46668243408203, 98.81327819824219, 72.5230484008789, 37.58075714111328, 86.1761703491211, 63.318092346191406, 113.30058288574219, 240.15750122070312, 129.90611267089844, 50.585201263427734, 62.84025573730469, 89.07861328125, 58.40364074707031, 0, 0, 0, 0, 0, 0, 0, 0, 0, 0, 0, 0, 0, 0, 0, 0, 0, 0, 0, 0, 0, 0, 0, 0, 0, 0, 0, 0, 0, 0, -2.141041777965299, -3.552996723704098, -6.5322711673567255, -0.8822167825157834, -0.9799449674846201, -2.1934933168446946, -1.5881746002519037, -1.8656878145195321, -9.081052234113486, -2.2328399684980695, -2.5064249292951075, -0.32983955379442875, -4.102228793422313, -2.889179649527293, -0.37578329318664316, -1.5821942612953137, -3.034807609728148, -0.045701227715255754, -1.989642958275212, -0.4748045008294781, -0.31164924659512394, -0.15894413380489425, -3.133430619057208, -2.131574045626138, -6.482025623390342, -2.418196932413707, -0.7203707316276251, -3.300559169558241, -1.471619326161104, -2.482863766377193, 44.89222937062273, 111.36300186108039, 342.3288102466892, 126.67958024706634, 46.44073180391163, 109.87818312548369, 79.24678590247271, 116.00920992712938, 183.72168296997975, 172.42401221239166, 112.84118430770924, 47.093767508572306, 146.13142281352663, 102.46208811195226, 47.241389960329904, 180.68020637252235, 194.97220106715525, 74.8504874798056, 111.03721923065173, 76.32536173026364, 40.01830623171267, 90.78252295363133, 76.30022868521357, 122.41246286212751, 280.59340399289977, 143.4834898780203, 54.110994390695964, 82.90719216847779, 94.16250629297969, 71.25044242697746, 35.42519998118391, 84.31483017016961, 286.26962725331083, 108.34965101514068, 36.98808708952099, 90.85056977368625, 66.18410704186323, 101.20333890099562, 146.34521766478585, 150.74925286329196, 95.16874611221265, 41.39900478451852, 110.47156562031124, 83.03143300621181, 42.87990406127654, 161.07342979691126, 165.57457627659477, 67.03753360784088, 92.71542816925061, 66.07668294747074, 34.95035793759885, 82.91795693528469, 59.85034428231572, 106.4833669108217, 220.07980462526427, 120.76131984488012, 47.78192667558821, 57.18987165903686, 82.19729747899297, 54.73835189980477, 37.75982395986877, 40.71624994037739, 46.64540885675644, 48.70144022030136, 45.64467817344928, 44.26132208143357, 44.25409807748751, 47.83996928295028, 35.63770200737305, 46.11224841619744, 40.96224776697351, 49.89366863333349, 41.26482814247898, 40.52048034036802, 48.47799005016877, 50.88586612857365, 45.978325437708534, 55.80481396385381, 46.14623869121712, 49.76676606841861, 51.63699466969182, 53.62612687484355, 34.35809840118678, 45.04135387279997, 44.5684146391877, 46.509202260278585, 49.63783502247345, 38.307205284058206, 48.35169659019782, 36.543217733002415, -91.67054593629385, -109.8383479335725, -17.475572612221523, 12.329529747675878, -77.47324681094723, -77.33962585106755, -42.732092003419446, -58.14510275151008, -84.41152060393719, 4.262368100547874, -97.52338683742417, -24.206099345364137, -89.21712725299025, -72.56607081986824, -120.16042968973726, -88.61097854653455, -82.70331590720775, 18.678406608105853, -71.4198239196824, 50.30535743909069, -8.022870249083393, -49.06712720073598, -130.13339802496432, -66.78446212683663, -82.54308811269033, -59.798289371470325, -70.49851911199754, -124.28460705024102, -17.69249758632144, -120.07785559844123, 39.21273713115692, 30.453011992404555, 9.047314956629457, 5.499285014878643, 24.349465497595983, 18.674706573890372, 0.5037544821377812, 13.997383580478868, 29.32770159143419, 1.9913665820095818, 28.430069581600943, 1.8729404826432607, 38.63512730261832, 22.315559742186643, 13.005381083863785, 19.81702222548818, 15.178812041846507, 0.6113816125882416, 16.71149438381473, 8.357815156369787, 6.498120288227792, 8.013845497751616, 55.39295086435475, 35.542858223546276, 22.914261916465172, 15.829087664939708, 14.948583054220851, 57.4119284443266, 1.9382079525904927, 38.68347837075397, 41.427544657389326, 100.1662841796875, 315.0024037679037, 117.73522415161133, 41.98094584147135, 101.87928746541341, 74.36122589111328, 109.81524073282877, 172.00625762939453, 162.00941111246746, 104.7405616760254, 44.481499354044594, 130.70966313680012, 95.50019989013671, 45.252423731486004, 172.0068593343099, 182.44998118082682, 70.7762446085612, 102.38918431599934, 71.21157328287761, 37.573584111531574, 86.85305226643881, 70.41919021606445, 116.69815724690756, 252.94693857828776, 133.03675867716473, 51.85478057861328, 71.89152615865072, 89.29732182820638, 64.20575040181478, 46.69040864308675, 100.4800532023112, 332.99889882405597, 120.29204368591309, 42.22139949798584, 102.97162348429362, 76.19156150817871, 111.52368125915527, 190.53668238321941, 167.6039156595866, 109.24550806681314, 43.884673500061034, 130.74426816304523, 98.05444679260253, 44.338623428344725, 167.7947914123535, 182.2012171427409, 68.91559403737386, 103.5944315592448, 72.6252488454183, 37.520247840881346, 83.96607894897461, 73.4315902709961, 117.68082796732584, 253.82371215820314, 135.27827339172364, 51.14293855031331, 71.3548786799113, 91.69127909342448, 66.56452528635661]\n",
      "[1000000, 38.39591979980469, 91.69662475585938, 313.3722229003906, 118.78218841552734, 40.123985290527344, 97.55754852294922, 72.68486785888672, 108.32612609863281, 159.20101928710938, 162.39141845703125, 100.57974243164062, 44.13541793823242, 121.43285369873047, 90.1629638671875, 44.01080322265625, 168.1305389404297, 176.2595672607422, 71.46668243408203, 98.81327819824219, 72.5230484008789, 37.58075714111328, 86.1761703491211, 63.318092346191406, 113.30058288574219, 240.15750122070312, 129.90611267089844, 50.585201263427734, 62.84025573730469, 89.07861328125, 58.40364074707031, 0, 0, 0, 0, 0, 0, 0, 0, 0, 0, 0, 0, 0, 0, 0, 0, 0, 0, 0, 0, 0, 0, 0, 0, 0, 0, 0, 0, 0, 0, -2.141041777965299, -3.552996723704098, -6.5322711673567255, -0.8822167825157834, -0.9799449674846201, -2.1934933168446946, -1.5881746002519037, -1.8656878145195321, -9.081052234113486, -2.2328399684980695, -2.5064249292951075, -0.32983955379442875, -4.102228793422313, -2.889179649527293, -0.37578329318664316, -1.5821942612953137, -3.034807609728148, -0.045701227715255754, -1.989642958275212, -0.4748045008294781, -0.31164924659512394, -0.15894413380489425, -3.133430619057208, -2.131574045626138, -6.482025623390342, -2.418196932413707, -0.7203707316276251, -3.300559169558241, -1.471619326161104, -2.482863766377193, 44.89222937062273, 111.36300186108039, 342.3288102466892, 126.67958024706634, 46.44073180391163, 109.87818312548369, 79.24678590247271, 116.00920992712938, 183.72168296997975, 172.42401221239166, 112.84118430770924, 47.093767508572306, 146.13142281352663, 102.46208811195226, 47.241389960329904, 180.68020637252235, 194.97220106715525, 74.8504874798056, 111.03721923065173, 76.32536173026364, 40.01830623171267, 90.78252295363133, 76.30022868521357, 122.41246286212751, 280.59340399289977, 143.4834898780203, 54.110994390695964, 82.90719216847779, 94.16250629297969, 71.25044242697746, 35.42519998118391, 84.31483017016961, 286.26962725331083, 108.34965101514068, 36.98808708952099, 90.85056977368625, 66.18410704186323, 101.20333890099562, 146.34521766478585, 150.74925286329196, 95.16874611221265, 41.39900478451852, 110.47156562031124, 83.03143300621181, 42.87990406127654, 161.07342979691126, 165.57457627659477, 67.03753360784088, 92.71542816925061, 66.07668294747074, 34.95035793759885, 82.91795693528469, 59.85034428231572, 106.4833669108217, 220.07980462526427, 120.76131984488012, 47.78192667558821, 57.18987165903686, 82.19729747899297, 54.73835189980477, 37.75982395986877, 40.71624994037739, 46.64540885675644, 48.70144022030136, 45.64467817344928, 44.26132208143357, 44.25409807748751, 47.83996928295028, 35.63770200737305, 46.11224841619744, 40.96224776697351, 49.89366863333349, 41.26482814247898, 40.52048034036802, 48.47799005016877, 50.88586612857365, 45.978325437708534, 55.80481396385381, 46.14623869121712, 49.76676606841861, 51.63699466969182, 53.62612687484355, 34.35809840118678, 45.04135387279997, 44.5684146391877, 46.509202260278585, 49.63783502247345, 38.307205284058206, 48.35169659019782, 36.543217733002415, -91.67054593629385, -109.8383479335725, -17.475572612221523, 12.329529747675878, -77.47324681094723, -77.33962585106755, -42.732092003419446, -58.14510275151008, -84.41152060393719, 4.262368100547874, -97.52338683742417, -24.206099345364137, -89.21712725299025, -72.56607081986824, -120.16042968973726, -88.61097854653455, -82.70331590720775, 18.678406608105853, -71.4198239196824, 50.30535743909069, -8.022870249083393, -49.06712720073598, -130.13339802496432, -66.78446212683663, -82.54308811269033, -59.798289371470325, -70.49851911199754, -124.28460705024102, -17.69249758632144, -120.07785559844123, 39.21273713115692, 30.453011992404555, 9.047314956629457, 5.499285014878643, 24.349465497595983, 18.674706573890372, 0.5037544821377812, 13.997383580478868, 29.32770159143419, 1.9913665820095818, 28.430069581600943, 1.8729404826432607, 38.63512730261832, 22.315559742186643, 13.005381083863785, 19.81702222548818, 15.178812041846507, 0.6113816125882416, 16.71149438381473, 8.357815156369787, 6.498120288227792, 8.013845497751616, 55.39295086435475, 35.542858223546276, 22.914261916465172, 15.829087664939708, 14.948583054220851, 57.4119284443266, 1.9382079525904927, 38.68347837075397, 41.427544657389326, 100.1662841796875, 315.0024037679037, 117.73522415161133, 41.98094584147135, 101.87928746541341, 74.36122589111328, 109.81524073282877, 172.00625762939453, 162.00941111246746, 104.7405616760254, 44.481499354044594, 130.70966313680012, 95.50019989013671, 45.252423731486004, 172.0068593343099, 182.44998118082682, 70.7762446085612, 102.38918431599934, 71.21157328287761, 37.573584111531574, 86.85305226643881, 70.41919021606445, 116.69815724690756, 252.94693857828776, 133.03675867716473, 51.85478057861328, 71.89152615865072, 89.29732182820638, 64.20575040181478, 46.69040864308675, 100.4800532023112, 332.99889882405597, 120.29204368591309, 42.22139949798584, 102.97162348429362, 76.19156150817871, 111.52368125915527, 190.53668238321941, 167.6039156595866, 109.24550806681314, 43.884673500061034, 130.74426816304523, 98.05444679260253, 44.338623428344725, 167.7947914123535, 182.2012171427409, 68.91559403737386, 103.5944315592448, 72.6252488454183, 37.520247840881346, 83.96607894897461, 73.4315902709961, 117.68082796732584, 253.82371215820314, 135.27827339172364, 51.14293855031331, 71.3548786799113, 91.69127909342448, 66.56452528635661]\n"
     ]
    },
    {
     "name": "stdout",
     "output_type": "stream",
     "text": [
      "[1000000, 38.39591979980469, 91.69662475585938, 313.3722229003906, 118.78218841552734, 40.123985290527344, 97.55754852294922, 72.68486785888672, 108.32612609863281, 159.20101928710938, 162.39141845703125, 100.57974243164062, 44.13541793823242, 121.43285369873047, 90.1629638671875, 44.01080322265625, 168.1305389404297, 176.2595672607422, 71.46668243408203, 98.81327819824219, 72.5230484008789, 37.58075714111328, 86.1761703491211, 63.318092346191406, 113.30058288574219, 240.15750122070312, 129.90611267089844, 50.585201263427734, 62.84025573730469, 89.07861328125, 58.40364074707031, 0, 0, 0, 0, 0, 0, 0, 0, 0, 0, 0, 0, 0, 0, 0, 0, 0, 0, 0, 0, 0, 0, 0, 0, 0, 0, 0, 0, 0, 0, -2.141041777965299, -3.552996723704098, -6.5322711673567255, -0.8822167825157834, -0.9799449674846201, -2.1934933168446946, -1.5881746002519037, -1.8656878145195321, -9.081052234113486, -2.2328399684980695, -2.5064249292951075, -0.32983955379442875, -4.102228793422313, -2.889179649527293, -0.37578329318664316, -1.5821942612953137, -3.034807609728148, -0.045701227715255754, -1.989642958275212, -0.4748045008294781, -0.31164924659512394, -0.15894413380489425, -3.133430619057208, -2.131574045626138, -6.482025623390342, -2.418196932413707, -0.7203707316276251, -3.300559169558241, -1.471619326161104, -2.482863766377193, 44.89222937062273, 111.36300186108039, 342.3288102466892, 126.67958024706634, 46.44073180391163, 109.87818312548369, 79.24678590247271, 116.00920992712938, 183.72168296997975, 172.42401221239166, 112.84118430770924, 47.093767508572306, 146.13142281352663, 102.46208811195226, 47.241389960329904, 180.68020637252235, 194.97220106715525, 74.8504874798056, 111.03721923065173, 76.32536173026364, 40.01830623171267, 90.78252295363133, 76.30022868521357, 122.41246286212751, 280.59340399289977, 143.4834898780203, 54.110994390695964, 82.90719216847779, 94.16250629297969, 71.25044242697746, 35.42519998118391, 84.31483017016961, 286.26962725331083, 108.34965101514068, 36.98808708952099, 90.85056977368625, 66.18410704186323, 101.20333890099562, 146.34521766478585, 150.74925286329196, 95.16874611221265, 41.39900478451852, 110.47156562031124, 83.03143300621181, 42.87990406127654, 161.07342979691126, 165.57457627659477, 67.03753360784088, 92.71542816925061, 66.07668294747074, 34.95035793759885, 82.91795693528469, 59.85034428231572, 106.4833669108217, 220.07980462526427, 120.76131984488012, 47.78192667558821, 57.18987165903686, 82.19729747899297, 54.73835189980477, 37.75982395986877, 40.71624994037739, 46.64540885675644, 48.70144022030136, 45.64467817344928, 44.26132208143357, 44.25409807748751, 47.83996928295028, 35.63770200737305, 46.11224841619744, 40.96224776697351, 49.89366863333349, 41.26482814247898, 40.52048034036802, 48.47799005016877, 50.88586612857365, 45.978325437708534, 55.80481396385381, 46.14623869121712, 49.76676606841861, 51.63699466969182, 53.62612687484355, 34.35809840118678, 45.04135387279997, 44.5684146391877, 46.509202260278585, 49.63783502247345, 38.307205284058206, 48.35169659019782, 36.543217733002415, -91.67054593629385, -109.8383479335725, -17.475572612221523, 12.329529747675878, -77.47324681094723, -77.33962585106755, -42.732092003419446, -58.14510275151008, -84.41152060393719, 4.262368100547874, -97.52338683742417, -24.206099345364137, -89.21712725299025, -72.56607081986824, -120.16042968973726, -88.61097854653455, -82.70331590720775, 18.678406608105853, -71.4198239196824, 50.30535743909069, -8.022870249083393, -49.06712720073598, -130.13339802496432, -66.78446212683663, -82.54308811269033, -59.798289371470325, -70.49851911199754, -124.28460705024102, -17.69249758632144, -120.07785559844123, 39.21273713115692, 30.453011992404555, 9.047314956629457, 5.499285014878643, 24.349465497595983, 18.674706573890372, 0.5037544821377812, 13.997383580478868, 29.32770159143419, 1.9913665820095818, 28.430069581600943, 1.8729404826432607, 38.63512730261832, 22.315559742186643, 13.005381083863785, 19.81702222548818, 15.178812041846507, 0.6113816125882416, 16.71149438381473, 8.357815156369787, 6.498120288227792, 8.013845497751616, 55.39295086435475, 35.542858223546276, 22.914261916465172, 15.829087664939708, 14.948583054220851, 57.4119284443266, 1.9382079525904927, 38.68347837075397, 41.427544657389326, 100.1662841796875, 315.0024037679037, 117.73522415161133, 41.98094584147135, 101.87928746541341, 74.36122589111328, 109.81524073282877, 172.00625762939453, 162.00941111246746, 104.7405616760254, 44.481499354044594, 130.70966313680012, 95.50019989013671, 45.252423731486004, 172.0068593343099, 182.44998118082682, 70.7762446085612, 102.38918431599934, 71.21157328287761, 37.573584111531574, 86.85305226643881, 70.41919021606445, 116.69815724690756, 252.94693857828776, 133.03675867716473, 51.85478057861328, 71.89152615865072, 89.29732182820638, 64.20575040181478, 46.69040864308675, 100.4800532023112, 332.99889882405597, 120.29204368591309, 42.22139949798584, 102.97162348429362, 76.19156150817871, 111.52368125915527, 190.53668238321941, 167.6039156595866, 109.24550806681314, 43.884673500061034, 130.74426816304523, 98.05444679260253, 44.338623428344725, 167.7947914123535, 182.2012171427409, 68.91559403737386, 103.5944315592448, 72.6252488454183, 37.520247840881346, 83.96607894897461, 73.4315902709961, 117.68082796732584, 253.82371215820314, 135.27827339172364, 51.14293855031331, 71.3548786799113, 91.69127909342448, 66.56452528635661]\n",
      "----------------------------------\n",
      "| environment/        |          |\n",
      "|    portfolio_value  | 2.98e+06 |\n",
      "|    total_cost       | 1.07e+03 |\n",
      "|    total_reward     | 1.98e+06 |\n",
      "|    total_reward_pct | 198      |\n",
      "|    total_trades     | 35258    |\n",
      "| time/               |          |\n",
      "|    episodes         | 16       |\n",
      "|    fps              | 52       |\n",
      "|    time_elapsed     | 765      |\n",
      "|    total timesteps  | 40256    |\n",
      "| train/              |          |\n",
      "|    actor_loss       | 4.2      |\n",
      "|    critic_loss      | 3.21     |\n",
      "|    learning_rate    | 0.001    |\n",
      "|    n_updates        | 37740    |\n",
      "----------------------------------\n",
      "[1000000, 38.39591979980469, 91.69662475585938, 313.3722229003906, 118.78218841552734, 40.123985290527344, 97.55754852294922, 72.68486785888672, 108.32612609863281, 159.20101928710938, 162.39141845703125, 100.57974243164062, 44.13541793823242, 121.43285369873047, 90.1629638671875, 44.01080322265625, 168.1305389404297, 176.2595672607422, 71.46668243408203, 98.81327819824219, 72.5230484008789, 37.58075714111328, 86.1761703491211, 63.318092346191406, 113.30058288574219, 240.15750122070312, 129.90611267089844, 50.585201263427734, 62.84025573730469, 89.07861328125, 58.40364074707031, 0, 0, 0, 0, 0, 0, 0, 0, 0, 0, 0, 0, 0, 0, 0, 0, 0, 0, 0, 0, 0, 0, 0, 0, 0, 0, 0, 0, 0, 0, -2.141041777965299, -3.552996723704098, -6.5322711673567255, -0.8822167825157834, -0.9799449674846201, -2.1934933168446946, -1.5881746002519037, -1.8656878145195321, -9.081052234113486, -2.2328399684980695, -2.5064249292951075, -0.32983955379442875, -4.102228793422313, -2.889179649527293, -0.37578329318664316, -1.5821942612953137, -3.034807609728148, -0.045701227715255754, -1.989642958275212, -0.4748045008294781, -0.31164924659512394, -0.15894413380489425, -3.133430619057208, -2.131574045626138, -6.482025623390342, -2.418196932413707, -0.7203707316276251, -3.300559169558241, -1.471619326161104, -2.482863766377193, 44.89222937062273, 111.36300186108039, 342.3288102466892, 126.67958024706634, 46.44073180391163, 109.87818312548369, 79.24678590247271, 116.00920992712938, 183.72168296997975, 172.42401221239166, 112.84118430770924, 47.093767508572306, 146.13142281352663, 102.46208811195226, 47.241389960329904, 180.68020637252235, 194.97220106715525, 74.8504874798056, 111.03721923065173, 76.32536173026364, 40.01830623171267, 90.78252295363133, 76.30022868521357, 122.41246286212751, 280.59340399289977, 143.4834898780203, 54.110994390695964, 82.90719216847779, 94.16250629297969, 71.25044242697746, 35.42519998118391, 84.31483017016961, 286.26962725331083, 108.34965101514068, 36.98808708952099, 90.85056977368625, 66.18410704186323, 101.20333890099562, 146.34521766478585, 150.74925286329196, 95.16874611221265, 41.39900478451852, 110.47156562031124, 83.03143300621181, 42.87990406127654, 161.07342979691126, 165.57457627659477, 67.03753360784088, 92.71542816925061, 66.07668294747074, 34.95035793759885, 82.91795693528469, 59.85034428231572, 106.4833669108217, 220.07980462526427, 120.76131984488012, 47.78192667558821, 57.18987165903686, 82.19729747899297, 54.73835189980477, 37.75982395986877, 40.71624994037739, 46.64540885675644, 48.70144022030136, 45.64467817344928, 44.26132208143357, 44.25409807748751, 47.83996928295028, 35.63770200737305, 46.11224841619744, 40.96224776697351, 49.89366863333349, 41.26482814247898, 40.52048034036802, 48.47799005016877, 50.88586612857365, 45.978325437708534, 55.80481396385381, 46.14623869121712, 49.76676606841861, 51.63699466969182, 53.62612687484355, 34.35809840118678, 45.04135387279997, 44.5684146391877, 46.509202260278585, 49.63783502247345, 38.307205284058206, 48.35169659019782, 36.543217733002415, -91.67054593629385, -109.8383479335725, -17.475572612221523, 12.329529747675878, -77.47324681094723, -77.33962585106755, -42.732092003419446, -58.14510275151008, -84.41152060393719, 4.262368100547874, -97.52338683742417, -24.206099345364137, -89.21712725299025, -72.56607081986824, -120.16042968973726, -88.61097854653455, -82.70331590720775, 18.678406608105853, -71.4198239196824, 50.30535743909069, -8.022870249083393, -49.06712720073598, -130.13339802496432, -66.78446212683663, -82.54308811269033, -59.798289371470325, -70.49851911199754, -124.28460705024102, -17.69249758632144, -120.07785559844123, 39.21273713115692, 30.453011992404555, 9.047314956629457, 5.499285014878643, 24.349465497595983, 18.674706573890372, 0.5037544821377812, 13.997383580478868, 29.32770159143419, 1.9913665820095818, 28.430069581600943, 1.8729404826432607, 38.63512730261832, 22.315559742186643, 13.005381083863785, 19.81702222548818, 15.178812041846507, 0.6113816125882416, 16.71149438381473, 8.357815156369787, 6.498120288227792, 8.013845497751616, 55.39295086435475, 35.542858223546276, 22.914261916465172, 15.829087664939708, 14.948583054220851, 57.4119284443266, 1.9382079525904927, 38.68347837075397, 41.427544657389326, 100.1662841796875, 315.0024037679037, 117.73522415161133, 41.98094584147135, 101.87928746541341, 74.36122589111328, 109.81524073282877, 172.00625762939453, 162.00941111246746, 104.7405616760254, 44.481499354044594, 130.70966313680012, 95.50019989013671, 45.252423731486004, 172.0068593343099, 182.44998118082682, 70.7762446085612, 102.38918431599934, 71.21157328287761, 37.573584111531574, 86.85305226643881, 70.41919021606445, 116.69815724690756, 252.94693857828776, 133.03675867716473, 51.85478057861328, 71.89152615865072, 89.29732182820638, 64.20575040181478, 46.69040864308675, 100.4800532023112, 332.99889882405597, 120.29204368591309, 42.22139949798584, 102.97162348429362, 76.19156150817871, 111.52368125915527, 190.53668238321941, 167.6039156595866, 109.24550806681314, 43.884673500061034, 130.74426816304523, 98.05444679260253, 44.338623428344725, 167.7947914123535, 182.2012171427409, 68.91559403737386, 103.5944315592448, 72.6252488454183, 37.520247840881346, 83.96607894897461, 73.4315902709961, 117.68082796732584, 253.82371215820314, 135.27827339172364, 51.14293855031331, 71.3548786799113, 91.69127909342448, 66.56452528635661]\n"
     ]
    },
    {
     "name": "stdout",
     "output_type": "stream",
     "text": [
      "day: 2515, episode: 20\n",
      "begin_total_asset: 1000000.00\n",
      "end_total_asset: 2977875.91\n",
      "total_reward: 1977875.91\n",
      "total_cost: 1070.38\n",
      "total_trades: 35258\n",
      "Sharpe: 0.683\n",
      "=================================\n",
      "[1000000, 38.39591979980469, 91.69662475585938, 313.3722229003906, 118.78218841552734, 40.123985290527344, 97.55754852294922, 72.68486785888672, 108.32612609863281, 159.20101928710938, 162.39141845703125, 100.57974243164062, 44.13541793823242, 121.43285369873047, 90.1629638671875, 44.01080322265625, 168.1305389404297, 176.2595672607422, 71.46668243408203, 98.81327819824219, 72.5230484008789, 37.58075714111328, 86.1761703491211, 63.318092346191406, 113.30058288574219, 240.15750122070312, 129.90611267089844, 50.585201263427734, 62.84025573730469, 89.07861328125, 58.40364074707031, 0, 0, 0, 0, 0, 0, 0, 0, 0, 0, 0, 0, 0, 0, 0, 0, 0, 0, 0, 0, 0, 0, 0, 0, 0, 0, 0, 0, 0, 0, -2.141041777965299, -3.552996723704098, -6.5322711673567255, -0.8822167825157834, -0.9799449674846201, -2.1934933168446946, -1.5881746002519037, -1.8656878145195321, -9.081052234113486, -2.2328399684980695, -2.5064249292951075, -0.32983955379442875, -4.102228793422313, -2.889179649527293, -0.37578329318664316, -1.5821942612953137, -3.034807609728148, -0.045701227715255754, -1.989642958275212, -0.4748045008294781, -0.31164924659512394, -0.15894413380489425, -3.133430619057208, -2.131574045626138, -6.482025623390342, -2.418196932413707, -0.7203707316276251, -3.300559169558241, -1.471619326161104, -2.482863766377193, 44.89222937062273, 111.36300186108039, 342.3288102466892, 126.67958024706634, 46.44073180391163, 109.87818312548369, 79.24678590247271, 116.00920992712938, 183.72168296997975, 172.42401221239166, 112.84118430770924, 47.093767508572306, 146.13142281352663, 102.46208811195226, 47.241389960329904, 180.68020637252235, 194.97220106715525, 74.8504874798056, 111.03721923065173, 76.32536173026364, 40.01830623171267, 90.78252295363133, 76.30022868521357, 122.41246286212751, 280.59340399289977, 143.4834898780203, 54.110994390695964, 82.90719216847779, 94.16250629297969, 71.25044242697746, 35.42519998118391, 84.31483017016961, 286.26962725331083, 108.34965101514068, 36.98808708952099, 90.85056977368625, 66.18410704186323, 101.20333890099562, 146.34521766478585, 150.74925286329196, 95.16874611221265, 41.39900478451852, 110.47156562031124, 83.03143300621181, 42.87990406127654, 161.07342979691126, 165.57457627659477, 67.03753360784088, 92.71542816925061, 66.07668294747074, 34.95035793759885, 82.91795693528469, 59.85034428231572, 106.4833669108217, 220.07980462526427, 120.76131984488012, 47.78192667558821, 57.18987165903686, 82.19729747899297, 54.73835189980477, 37.75982395986877, 40.71624994037739, 46.64540885675644, 48.70144022030136, 45.64467817344928, 44.26132208143357, 44.25409807748751, 47.83996928295028, 35.63770200737305, 46.11224841619744, 40.96224776697351, 49.89366863333349, 41.26482814247898, 40.52048034036802, 48.47799005016877, 50.88586612857365, 45.978325437708534, 55.80481396385381, 46.14623869121712, 49.76676606841861, 51.63699466969182, 53.62612687484355, 34.35809840118678, 45.04135387279997, 44.5684146391877, 46.509202260278585, 49.63783502247345, 38.307205284058206, 48.35169659019782, 36.543217733002415, -91.67054593629385, -109.8383479335725, -17.475572612221523, 12.329529747675878, -77.47324681094723, -77.33962585106755, -42.732092003419446, -58.14510275151008, -84.41152060393719, 4.262368100547874, -97.52338683742417, -24.206099345364137, -89.21712725299025, -72.56607081986824, -120.16042968973726, -88.61097854653455, -82.70331590720775, 18.678406608105853, -71.4198239196824, 50.30535743909069, -8.022870249083393, -49.06712720073598, -130.13339802496432, -66.78446212683663, -82.54308811269033, -59.798289371470325, -70.49851911199754, -124.28460705024102, -17.69249758632144, -120.07785559844123, 39.21273713115692, 30.453011992404555, 9.047314956629457, 5.499285014878643, 24.349465497595983, 18.674706573890372, 0.5037544821377812, 13.997383580478868, 29.32770159143419, 1.9913665820095818, 28.430069581600943, 1.8729404826432607, 38.63512730261832, 22.315559742186643, 13.005381083863785, 19.81702222548818, 15.178812041846507, 0.6113816125882416, 16.71149438381473, 8.357815156369787, 6.498120288227792, 8.013845497751616, 55.39295086435475, 35.542858223546276, 22.914261916465172, 15.829087664939708, 14.948583054220851, 57.4119284443266, 1.9382079525904927, 38.68347837075397, 41.427544657389326, 100.1662841796875, 315.0024037679037, 117.73522415161133, 41.98094584147135, 101.87928746541341, 74.36122589111328, 109.81524073282877, 172.00625762939453, 162.00941111246746, 104.7405616760254, 44.481499354044594, 130.70966313680012, 95.50019989013671, 45.252423731486004, 172.0068593343099, 182.44998118082682, 70.7762446085612, 102.38918431599934, 71.21157328287761, 37.573584111531574, 86.85305226643881, 70.41919021606445, 116.69815724690756, 252.94693857828776, 133.03675867716473, 51.85478057861328, 71.89152615865072, 89.29732182820638, 64.20575040181478, 46.69040864308675, 100.4800532023112, 332.99889882405597, 120.29204368591309, 42.22139949798584, 102.97162348429362, 76.19156150817871, 111.52368125915527, 190.53668238321941, 167.6039156595866, 109.24550806681314, 43.884673500061034, 130.74426816304523, 98.05444679260253, 44.338623428344725, 167.7947914123535, 182.2012171427409, 68.91559403737386, 103.5944315592448, 72.6252488454183, 37.520247840881346, 83.96607894897461, 73.4315902709961, 117.68082796732584, 253.82371215820314, 135.27827339172364, 51.14293855031331, 71.3548786799113, 91.69127909342448, 66.56452528635661]\n",
      "[1000000, 38.39591979980469, 91.69662475585938, 313.3722229003906, 118.78218841552734, 40.123985290527344, 97.55754852294922, 72.68486785888672, 108.32612609863281, 159.20101928710938, 162.39141845703125, 100.57974243164062, 44.13541793823242, 121.43285369873047, 90.1629638671875, 44.01080322265625, 168.1305389404297, 176.2595672607422, 71.46668243408203, 98.81327819824219, 72.5230484008789, 37.58075714111328, 86.1761703491211, 63.318092346191406, 113.30058288574219, 240.15750122070312, 129.90611267089844, 50.585201263427734, 62.84025573730469, 89.07861328125, 58.40364074707031, 0, 0, 0, 0, 0, 0, 0, 0, 0, 0, 0, 0, 0, 0, 0, 0, 0, 0, 0, 0, 0, 0, 0, 0, 0, 0, 0, 0, 0, 0, -2.141041777965299, -3.552996723704098, -6.5322711673567255, -0.8822167825157834, -0.9799449674846201, -2.1934933168446946, -1.5881746002519037, -1.8656878145195321, -9.081052234113486, -2.2328399684980695, -2.5064249292951075, -0.32983955379442875, -4.102228793422313, -2.889179649527293, -0.37578329318664316, -1.5821942612953137, -3.034807609728148, -0.045701227715255754, -1.989642958275212, -0.4748045008294781, -0.31164924659512394, -0.15894413380489425, -3.133430619057208, -2.131574045626138, -6.482025623390342, -2.418196932413707, -0.7203707316276251, -3.300559169558241, -1.471619326161104, -2.482863766377193, 44.89222937062273, 111.36300186108039, 342.3288102466892, 126.67958024706634, 46.44073180391163, 109.87818312548369, 79.24678590247271, 116.00920992712938, 183.72168296997975, 172.42401221239166, 112.84118430770924, 47.093767508572306, 146.13142281352663, 102.46208811195226, 47.241389960329904, 180.68020637252235, 194.97220106715525, 74.8504874798056, 111.03721923065173, 76.32536173026364, 40.01830623171267, 90.78252295363133, 76.30022868521357, 122.41246286212751, 280.59340399289977, 143.4834898780203, 54.110994390695964, 82.90719216847779, 94.16250629297969, 71.25044242697746, 35.42519998118391, 84.31483017016961, 286.26962725331083, 108.34965101514068, 36.98808708952099, 90.85056977368625, 66.18410704186323, 101.20333890099562, 146.34521766478585, 150.74925286329196, 95.16874611221265, 41.39900478451852, 110.47156562031124, 83.03143300621181, 42.87990406127654, 161.07342979691126, 165.57457627659477, 67.03753360784088, 92.71542816925061, 66.07668294747074, 34.95035793759885, 82.91795693528469, 59.85034428231572, 106.4833669108217, 220.07980462526427, 120.76131984488012, 47.78192667558821, 57.18987165903686, 82.19729747899297, 54.73835189980477, 37.75982395986877, 40.71624994037739, 46.64540885675644, 48.70144022030136, 45.64467817344928, 44.26132208143357, 44.25409807748751, 47.83996928295028, 35.63770200737305, 46.11224841619744, 40.96224776697351, 49.89366863333349, 41.26482814247898, 40.52048034036802, 48.47799005016877, 50.88586612857365, 45.978325437708534, 55.80481396385381, 46.14623869121712, 49.76676606841861, 51.63699466969182, 53.62612687484355, 34.35809840118678, 45.04135387279997, 44.5684146391877, 46.509202260278585, 49.63783502247345, 38.307205284058206, 48.35169659019782, 36.543217733002415, -91.67054593629385, -109.8383479335725, -17.475572612221523, 12.329529747675878, -77.47324681094723, -77.33962585106755, -42.732092003419446, -58.14510275151008, -84.41152060393719, 4.262368100547874, -97.52338683742417, -24.206099345364137, -89.21712725299025, -72.56607081986824, -120.16042968973726, -88.61097854653455, -82.70331590720775, 18.678406608105853, -71.4198239196824, 50.30535743909069, -8.022870249083393, -49.06712720073598, -130.13339802496432, -66.78446212683663, -82.54308811269033, -59.798289371470325, -70.49851911199754, -124.28460705024102, -17.69249758632144, -120.07785559844123, 39.21273713115692, 30.453011992404555, 9.047314956629457, 5.499285014878643, 24.349465497595983, 18.674706573890372, 0.5037544821377812, 13.997383580478868, 29.32770159143419, 1.9913665820095818, 28.430069581600943, 1.8729404826432607, 38.63512730261832, 22.315559742186643, 13.005381083863785, 19.81702222548818, 15.178812041846507, 0.6113816125882416, 16.71149438381473, 8.357815156369787, 6.498120288227792, 8.013845497751616, 55.39295086435475, 35.542858223546276, 22.914261916465172, 15.829087664939708, 14.948583054220851, 57.4119284443266, 1.9382079525904927, 38.68347837075397, 41.427544657389326, 100.1662841796875, 315.0024037679037, 117.73522415161133, 41.98094584147135, 101.87928746541341, 74.36122589111328, 109.81524073282877, 172.00625762939453, 162.00941111246746, 104.7405616760254, 44.481499354044594, 130.70966313680012, 95.50019989013671, 45.252423731486004, 172.0068593343099, 182.44998118082682, 70.7762446085612, 102.38918431599934, 71.21157328287761, 37.573584111531574, 86.85305226643881, 70.41919021606445, 116.69815724690756, 252.94693857828776, 133.03675867716473, 51.85478057861328, 71.89152615865072, 89.29732182820638, 64.20575040181478, 46.69040864308675, 100.4800532023112, 332.99889882405597, 120.29204368591309, 42.22139949798584, 102.97162348429362, 76.19156150817871, 111.52368125915527, 190.53668238321941, 167.6039156595866, 109.24550806681314, 43.884673500061034, 130.74426816304523, 98.05444679260253, 44.338623428344725, 167.7947914123535, 182.2012171427409, 68.91559403737386, 103.5944315592448, 72.6252488454183, 37.520247840881346, 83.96607894897461, 73.4315902709961, 117.68082796732584, 253.82371215820314, 135.27827339172364, 51.14293855031331, 71.3548786799113, 91.69127909342448, 66.56452528635661]\n"
     ]
    },
    {
     "name": "stdout",
     "output_type": "stream",
     "text": [
      "[1000000, 38.39591979980469, 91.69662475585938, 313.3722229003906, 118.78218841552734, 40.123985290527344, 97.55754852294922, 72.68486785888672, 108.32612609863281, 159.20101928710938, 162.39141845703125, 100.57974243164062, 44.13541793823242, 121.43285369873047, 90.1629638671875, 44.01080322265625, 168.1305389404297, 176.2595672607422, 71.46668243408203, 98.81327819824219, 72.5230484008789, 37.58075714111328, 86.1761703491211, 63.318092346191406, 113.30058288574219, 240.15750122070312, 129.90611267089844, 50.585201263427734, 62.84025573730469, 89.07861328125, 58.40364074707031, 0, 0, 0, 0, 0, 0, 0, 0, 0, 0, 0, 0, 0, 0, 0, 0, 0, 0, 0, 0, 0, 0, 0, 0, 0, 0, 0, 0, 0, 0, -2.141041777965299, -3.552996723704098, -6.5322711673567255, -0.8822167825157834, -0.9799449674846201, -2.1934933168446946, -1.5881746002519037, -1.8656878145195321, -9.081052234113486, -2.2328399684980695, -2.5064249292951075, -0.32983955379442875, -4.102228793422313, -2.889179649527293, -0.37578329318664316, -1.5821942612953137, -3.034807609728148, -0.045701227715255754, -1.989642958275212, -0.4748045008294781, -0.31164924659512394, -0.15894413380489425, -3.133430619057208, -2.131574045626138, -6.482025623390342, -2.418196932413707, -0.7203707316276251, -3.300559169558241, -1.471619326161104, -2.482863766377193, 44.89222937062273, 111.36300186108039, 342.3288102466892, 126.67958024706634, 46.44073180391163, 109.87818312548369, 79.24678590247271, 116.00920992712938, 183.72168296997975, 172.42401221239166, 112.84118430770924, 47.093767508572306, 146.13142281352663, 102.46208811195226, 47.241389960329904, 180.68020637252235, 194.97220106715525, 74.8504874798056, 111.03721923065173, 76.32536173026364, 40.01830623171267, 90.78252295363133, 76.30022868521357, 122.41246286212751, 280.59340399289977, 143.4834898780203, 54.110994390695964, 82.90719216847779, 94.16250629297969, 71.25044242697746, 35.42519998118391, 84.31483017016961, 286.26962725331083, 108.34965101514068, 36.98808708952099, 90.85056977368625, 66.18410704186323, 101.20333890099562, 146.34521766478585, 150.74925286329196, 95.16874611221265, 41.39900478451852, 110.47156562031124, 83.03143300621181, 42.87990406127654, 161.07342979691126, 165.57457627659477, 67.03753360784088, 92.71542816925061, 66.07668294747074, 34.95035793759885, 82.91795693528469, 59.85034428231572, 106.4833669108217, 220.07980462526427, 120.76131984488012, 47.78192667558821, 57.18987165903686, 82.19729747899297, 54.73835189980477, 37.75982395986877, 40.71624994037739, 46.64540885675644, 48.70144022030136, 45.64467817344928, 44.26132208143357, 44.25409807748751, 47.83996928295028, 35.63770200737305, 46.11224841619744, 40.96224776697351, 49.89366863333349, 41.26482814247898, 40.52048034036802, 48.47799005016877, 50.88586612857365, 45.978325437708534, 55.80481396385381, 46.14623869121712, 49.76676606841861, 51.63699466969182, 53.62612687484355, 34.35809840118678, 45.04135387279997, 44.5684146391877, 46.509202260278585, 49.63783502247345, 38.307205284058206, 48.35169659019782, 36.543217733002415, -91.67054593629385, -109.8383479335725, -17.475572612221523, 12.329529747675878, -77.47324681094723, -77.33962585106755, -42.732092003419446, -58.14510275151008, -84.41152060393719, 4.262368100547874, -97.52338683742417, -24.206099345364137, -89.21712725299025, -72.56607081986824, -120.16042968973726, -88.61097854653455, -82.70331590720775, 18.678406608105853, -71.4198239196824, 50.30535743909069, -8.022870249083393, -49.06712720073598, -130.13339802496432, -66.78446212683663, -82.54308811269033, -59.798289371470325, -70.49851911199754, -124.28460705024102, -17.69249758632144, -120.07785559844123, 39.21273713115692, 30.453011992404555, 9.047314956629457, 5.499285014878643, 24.349465497595983, 18.674706573890372, 0.5037544821377812, 13.997383580478868, 29.32770159143419, 1.9913665820095818, 28.430069581600943, 1.8729404826432607, 38.63512730261832, 22.315559742186643, 13.005381083863785, 19.81702222548818, 15.178812041846507, 0.6113816125882416, 16.71149438381473, 8.357815156369787, 6.498120288227792, 8.013845497751616, 55.39295086435475, 35.542858223546276, 22.914261916465172, 15.829087664939708, 14.948583054220851, 57.4119284443266, 1.9382079525904927, 38.68347837075397, 41.427544657389326, 100.1662841796875, 315.0024037679037, 117.73522415161133, 41.98094584147135, 101.87928746541341, 74.36122589111328, 109.81524073282877, 172.00625762939453, 162.00941111246746, 104.7405616760254, 44.481499354044594, 130.70966313680012, 95.50019989013671, 45.252423731486004, 172.0068593343099, 182.44998118082682, 70.7762446085612, 102.38918431599934, 71.21157328287761, 37.573584111531574, 86.85305226643881, 70.41919021606445, 116.69815724690756, 252.94693857828776, 133.03675867716473, 51.85478057861328, 71.89152615865072, 89.29732182820638, 64.20575040181478, 46.69040864308675, 100.4800532023112, 332.99889882405597, 120.29204368591309, 42.22139949798584, 102.97162348429362, 76.19156150817871, 111.52368125915527, 190.53668238321941, 167.6039156595866, 109.24550806681314, 43.884673500061034, 130.74426816304523, 98.05444679260253, 44.338623428344725, 167.7947914123535, 182.2012171427409, 68.91559403737386, 103.5944315592448, 72.6252488454183, 37.520247840881346, 83.96607894897461, 73.4315902709961, 117.68082796732584, 253.82371215820314, 135.27827339172364, 51.14293855031331, 71.3548786799113, 91.69127909342448, 66.56452528635661]\n",
      "----------------------------------\n",
      "| environment/        |          |\n",
      "|    portfolio_value  | 2.98e+06 |\n",
      "|    total_cost       | 1.07e+03 |\n",
      "|    total_reward     | 1.98e+06 |\n",
      "|    total_reward_pct | 198      |\n",
      "|    total_trades     | 35258    |\n",
      "| time/               |          |\n",
      "|    episodes         | 20       |\n",
      "|    fps              | 51       |\n",
      "|    time_elapsed     | 984      |\n",
      "|    total timesteps  | 50320    |\n",
      "| train/              |          |\n",
      "|    actor_loss       | -0.559   |\n",
      "|    critic_loss      | 2.03     |\n",
      "|    learning_rate    | 0.001    |\n",
      "|    n_updates        | 47804    |\n",
      "----------------------------------\n"
     ]
    }
   ],
   "source": [
    "trained_ddpg = agent.train_model(model=model_ddpg, \n",
    "                             tb_log_name='ddpg',\n",
    "                             total_timesteps=50000)"
   ]
  },
  {
   "cell_type": "markdown",
   "metadata": {
    "id": "_gDkU-j-fCmZ"
   },
   "source": [
    "### Model 3: PPO"
   ]
  },
  {
   "cell_type": "code",
   "execution_count": 33,
   "metadata": {
    "colab": {
     "base_uri": "https://localhost:8080/"
    },
    "id": "y5D5PFUhMzSV",
    "outputId": "1bd9a8e4-b094-4649-b0af-d6ae6562221f"
   },
   "outputs": [
    {
     "name": "stdout",
     "output_type": "stream",
     "text": [
      "{'n_steps': 2048, 'ent_coef': 0.01, 'learning_rate': 0.00025, 'batch_size': 128}\n",
      "Using cpu device\n"
     ]
    }
   ],
   "source": [
    "agent = DRLAgent(env = env_train)\n",
    "PPO_PARAMS = {\n",
    "    \"n_steps\": 2048,\n",
    "    \"ent_coef\": 0.01,\n",
    "    \"learning_rate\": 0.00025,\n",
    "    \"batch_size\": 128,\n",
    "}\n",
    "model_ppo = agent.get_model(\"ppo\",model_kwargs = PPO_PARAMS)"
   ]
  },
  {
   "cell_type": "code",
   "execution_count": 34,
   "metadata": {
    "colab": {
     "base_uri": "https://localhost:8080/",
     "height": 477
    },
    "id": "Gt8eIQKYM4G3",
    "jupyter": {
     "outputs_hidden": true
    },
    "outputId": "f0cdbe05-8c27-4c20-bd5e-a34c7c5923b0"
   },
   "outputs": [
    {
     "name": "stdout",
     "output_type": "stream",
     "text": [
      "[1000000, 2.78700590133667, 15.698216438293457, 33.94110107421875, 32.830360412597656, 12.59294605255127, 47.37364196777344, 15.336649894714355, 20.597496032714844, 72.55945587158203, 17.797922134399414, 59.18025588989258, 10.399736404418945, 42.00360870361328, 23.343862533569336, 15.628469467163086, 44.31218719482422, 42.266517639160156, 19.942874908447266, 15.435609817504883, 11.325711250305176, 10.71481990814209, 42.82729721069336, 25.695541381835938, 33.274017333984375, 23.23461151123047, 12.23261833190918, 17.803312301635742, 19.09723472595215, 42.599510192871094, 51.8355827331543, 0, 0, 0, 0, 0, 0, 0, 0, 0, 0, 0, 0, 0, 0, 0, 0, 0, 0, 0, 0, 0, 0, 0, 0, 0, 0, 0, 0, 0, 0, 0.0, 0.0, 0.0, 0.0, 0.0, 0.0, 0.0, 0.0, 0.0, 0.0, 0.0, 0.0, 0.0, 0.0, 0.0, 0.0, 0.0, 0.0, 0.0, 0.0, 0.0, 0.0, 0.0, 0.0, 0.0, 0.0, 0.0, 0.0, 0.0, 0.0, 3.0121616168871115, 3.0121616168871115, 3.0121616168871115, 3.0121616168871115, 3.0121616168871115, 3.0121616168871115, 3.0121616168871115, 3.0121616168871115, 3.0121616168871115, 3.0121616168871115, 3.0121616168871115, 3.0121616168871115, 3.0121616168871115, 3.0121616168871115, 3.0121616168871115, 3.0121616168871115, 3.0121616168871115, 3.0121616168871115, 3.0121616168871115, 3.0121616168871115, 3.0121616168871115, 3.0121616168871115, 3.0121616168871115, 3.0121616168871115, 3.0121616168871115, 3.0121616168871115, 3.0121616168871115, 3.0121616168871115, 3.0121616168871115, 3.0121616168871115, 2.679473276530247, 2.679473276530247, 2.679473276530247, 2.679473276530247, 2.679473276530247, 2.679473276530247, 2.679473276530247, 2.679473276530247, 2.679473276530247, 2.679473276530247, 2.679473276530247, 2.679473276530247, 2.679473276530247, 2.679473276530247, 2.679473276530247, 2.679473276530247, 2.679473276530247, 2.679473276530247, 2.679473276530247, 2.679473276530247, 2.679473276530247, 2.679473276530247, 2.679473276530247, 2.679473276530247, 2.679473276530247, 2.679473276530247, 2.679473276530247, 2.679473276530247, 2.679473276530247, 2.679473276530247, 100.0, 100.0, 100.0, 100.0, 100.0, 100.0, 100.0, 100.0, 100.0, 100.0, 100.0, 100.0, 100.0, 100.0, 100.0, 100.0, 100.0, 100.0, 100.0, 100.0, 100.0, 100.0, 100.0, 100.0, 100.0, 100.0, 100.0, 100.0, 100.0, 100.0, 66.66666666666652, 66.66666666666652, 66.66666666666652, 66.66666666666652, 66.66666666666652, 66.66666666666652, 66.66666666666652, 66.66666666666652, 66.66666666666652, 66.66666666666652, 66.66666666666652, 66.66666666666652, 66.66666666666652, 66.66666666666652, 66.66666666666652, 66.66666666666652, 66.66666666666652, 66.66666666666652, 66.66666666666652, 66.66666666666652, 66.66666666666652, 66.66666666666652, 66.66666666666652, 66.66666666666652, 66.66666666666652, 66.66666666666652, 66.66666666666652, 66.66666666666652, 66.66666666666652, 66.66666666666652, 100.0, 100.0, 100.0, 100.0, 100.0, 100.0, 100.0, 100.0, 100.0, 100.0, 100.0, 100.0, 100.0, 100.0, 100.0, 100.0, 100.0, 100.0, 100.0, 100.0, 100.0, 100.0, 100.0, 100.0, 100.0, 100.0, 100.0, 100.0, 100.0, 100.0, 2.78700590133667, 15.698216438293457, 33.94110107421875, 32.830360412597656, 12.59294605255127, 47.37364196777344, 15.336649894714355, 20.597496032714844, 72.55945587158203, 17.797922134399414, 59.18025588989258, 10.399736404418945, 42.00360870361328, 23.343862533569336, 15.628469467163086, 44.31218719482422, 42.266517639160156, 19.942874908447266, 15.435609817504883, 11.325711250305176, 10.71481990814209, 42.82729721069336, 25.695541381835938, 33.274017333984375, 23.23461151123047, 12.23261833190918, 17.803312301635742, 19.09723472595215, 42.599510192871094, 51.8355827331543, 2.78700590133667, 15.698216438293457, 33.94110107421875, 32.830360412597656, 12.59294605255127, 47.37364196777344, 15.336649894714355, 20.597496032714844, 72.55945587158203, 17.797922134399414, 59.18025588989258, 10.399736404418945, 42.00360870361328, 23.343862533569336, 15.628469467163086, 44.31218719482422, 42.266517639160156, 19.942874908447266, 15.435609817504883, 11.325711250305176, 10.71481990814209, 42.82729721069336, 25.695541381835938, 33.274017333984375, 23.23461151123047, 12.23261833190918, 17.803312301635742, 19.09723472595215, 42.599510192871094, 51.8355827331543]\n",
      "Logging to tensorboard_log/ppo\\ppo_1\n",
      "-----------------------------\n",
      "| time/              |      |\n",
      "|    fps             | 158  |\n",
      "|    iterations      | 1    |\n",
      "|    time_elapsed    | 12   |\n",
      "|    total_timesteps | 2048 |\n",
      "-----------------------------\n",
      "[1000000, 38.39591979980469, 91.69662475585938, 313.3722229003906, 118.78218841552734, 40.123985290527344, 97.55754852294922, 72.68486785888672, 108.32612609863281, 159.20101928710938, 162.39141845703125, 100.57974243164062, 44.13541793823242, 121.43285369873047, 90.1629638671875, 44.01080322265625, 168.1305389404297, 176.2595672607422, 71.46668243408203, 98.81327819824219, 72.5230484008789, 37.58075714111328, 86.1761703491211, 63.318092346191406, 113.30058288574219, 240.15750122070312, 129.90611267089844, 50.585201263427734, 62.84025573730469, 89.07861328125, 58.40364074707031, 0, 0, 0, 0, 0, 0, 0, 0, 0, 0, 0, 0, 0, 0, 0, 0, 0, 0, 0, 0, 0, 0, 0, 0, 0, 0, 0, 0, 0, 0, -2.141041777965299, -3.552996723704098, -6.5322711673567255, -0.8822167825157834, -0.9799449674846201, -2.1934933168446946, -1.5881746002519037, -1.8656878145195321, -9.081052234113486, -2.2328399684980695, -2.5064249292951075, -0.32983955379442875, -4.102228793422313, -2.889179649527293, -0.37578329318664316, -1.5821942612953137, -3.034807609728148, -0.045701227715255754, -1.989642958275212, -0.4748045008294781, -0.31164924659512394, -0.15894413380489425, -3.133430619057208, -2.131574045626138, -6.482025623390342, -2.418196932413707, -0.7203707316276251, -3.300559169558241, -1.471619326161104, -2.482863766377193, 44.89222937062273, 111.36300186108039, 342.3288102466892, 126.67958024706634, 46.44073180391163, 109.87818312548369, 79.24678590247271, 116.00920992712938, 183.72168296997975, 172.42401221239166, 112.84118430770924, 47.093767508572306, 146.13142281352663, 102.46208811195226, 47.241389960329904, 180.68020637252235, 194.97220106715525, 74.8504874798056, 111.03721923065173, 76.32536173026364, 40.01830623171267, 90.78252295363133, 76.30022868521357, 122.41246286212751, 280.59340399289977, 143.4834898780203, 54.110994390695964, 82.90719216847779, 94.16250629297969, 71.25044242697746, 35.42519998118391, 84.31483017016961, 286.26962725331083, 108.34965101514068, 36.98808708952099, 90.85056977368625, 66.18410704186323, 101.20333890099562, 146.34521766478585, 150.74925286329196, 95.16874611221265, 41.39900478451852, 110.47156562031124, 83.03143300621181, 42.87990406127654, 161.07342979691126, 165.57457627659477, 67.03753360784088, 92.71542816925061, 66.07668294747074, 34.95035793759885, 82.91795693528469, 59.85034428231572, 106.4833669108217, 220.07980462526427, 120.76131984488012, 47.78192667558821, 57.18987165903686, 82.19729747899297, 54.73835189980477, 37.75982395986877, 40.71624994037739, 46.64540885675644, 48.70144022030136, 45.64467817344928, 44.26132208143357, 44.25409807748751, 47.83996928295028, 35.63770200737305, 46.11224841619744, 40.96224776697351, 49.89366863333349, 41.26482814247898, 40.52048034036802, 48.47799005016877, 50.88586612857365, 45.978325437708534, 55.80481396385381, 46.14623869121712, 49.76676606841861, 51.63699466969182, 53.62612687484355, 34.35809840118678, 45.04135387279997, 44.5684146391877, 46.509202260278585, 49.63783502247345, 38.307205284058206, 48.35169659019782, 36.543217733002415, -91.67054593629385, -109.8383479335725, -17.475572612221523, 12.329529747675878, -77.47324681094723, -77.33962585106755, -42.732092003419446, -58.14510275151008, -84.41152060393719, 4.262368100547874, -97.52338683742417, -24.206099345364137, -89.21712725299025, -72.56607081986824, -120.16042968973726, -88.61097854653455, -82.70331590720775, 18.678406608105853, -71.4198239196824, 50.30535743909069, -8.022870249083393, -49.06712720073598, -130.13339802496432, -66.78446212683663, -82.54308811269033, -59.798289371470325, -70.49851911199754, -124.28460705024102, -17.69249758632144, -120.07785559844123, 39.21273713115692, 30.453011992404555, 9.047314956629457, 5.499285014878643, 24.349465497595983, 18.674706573890372, 0.5037544821377812, 13.997383580478868, 29.32770159143419, 1.9913665820095818, 28.430069581600943, 1.8729404826432607, 38.63512730261832, 22.315559742186643, 13.005381083863785, 19.81702222548818, 15.178812041846507, 0.6113816125882416, 16.71149438381473, 8.357815156369787, 6.498120288227792, 8.013845497751616, 55.39295086435475, 35.542858223546276, 22.914261916465172, 15.829087664939708, 14.948583054220851, 57.4119284443266, 1.9382079525904927, 38.68347837075397, 41.427544657389326, 100.1662841796875, 315.0024037679037, 117.73522415161133, 41.98094584147135, 101.87928746541341, 74.36122589111328, 109.81524073282877, 172.00625762939453, 162.00941111246746, 104.7405616760254, 44.481499354044594, 130.70966313680012, 95.50019989013671, 45.252423731486004, 172.0068593343099, 182.44998118082682, 70.7762446085612, 102.38918431599934, 71.21157328287761, 37.573584111531574, 86.85305226643881, 70.41919021606445, 116.69815724690756, 252.94693857828776, 133.03675867716473, 51.85478057861328, 71.89152615865072, 89.29732182820638, 64.20575040181478, 46.69040864308675, 100.4800532023112, 332.99889882405597, 120.29204368591309, 42.22139949798584, 102.97162348429362, 76.19156150817871, 111.52368125915527, 190.53668238321941, 167.6039156595866, 109.24550806681314, 43.884673500061034, 130.74426816304523, 98.05444679260253, 44.338623428344725, 167.7947914123535, 182.2012171427409, 68.91559403737386, 103.5944315592448, 72.6252488454183, 37.520247840881346, 83.96607894897461, 73.4315902709961, 117.68082796732584, 253.82371215820314, 135.27827339172364, 51.14293855031331, 71.3548786799113, 91.69127909342448, 66.56452528635661]\n"
     ]
    },
    {
     "name": "stdout",
     "output_type": "stream",
     "text": [
      "-----------------------------------------\n",
      "| environment/            |             |\n",
      "|    portfolio_value      | 3.24e+06    |\n",
      "|    total_cost           | 2.8e+05     |\n",
      "|    total_reward         | 2.24e+06    |\n",
      "|    total_reward_pct     | 224         |\n",
      "|    total_trades         | 73342       |\n",
      "| time/                   |             |\n",
      "|    fps                  | 156         |\n",
      "|    iterations           | 2           |\n",
      "|    time_elapsed         | 26          |\n",
      "|    total_timesteps      | 4096        |\n",
      "| train/                  |             |\n",
      "|    approx_kl            | 0.014255486 |\n",
      "|    clip_fraction        | 0.216       |\n",
      "|    clip_range           | 0.2         |\n",
      "|    entropy_loss         | -42.6       |\n",
      "|    explained_variance   | -0.0121     |\n",
      "|    learning_rate        | 0.00025     |\n",
      "|    loss                 | 5.85        |\n",
      "|    n_updates            | 10          |\n",
      "|    policy_gradient_loss | -0.0249     |\n",
      "|    std                  | 1           |\n",
      "|    value_loss           | 14.6        |\n",
      "-----------------------------------------\n",
      "[1000000, 38.39591979980469, 91.69662475585938, 313.3722229003906, 118.78218841552734, 40.123985290527344, 97.55754852294922, 72.68486785888672, 108.32612609863281, 159.20101928710938, 162.39141845703125, 100.57974243164062, 44.13541793823242, 121.43285369873047, 90.1629638671875, 44.01080322265625, 168.1305389404297, 176.2595672607422, 71.46668243408203, 98.81327819824219, 72.5230484008789, 37.58075714111328, 86.1761703491211, 63.318092346191406, 113.30058288574219, 240.15750122070312, 129.90611267089844, 50.585201263427734, 62.84025573730469, 89.07861328125, 58.40364074707031, 0, 0, 0, 0, 0, 0, 0, 0, 0, 0, 0, 0, 0, 0, 0, 0, 0, 0, 0, 0, 0, 0, 0, 0, 0, 0, 0, 0, 0, 0, -2.141041777965299, -3.552996723704098, -6.5322711673567255, -0.8822167825157834, -0.9799449674846201, -2.1934933168446946, -1.5881746002519037, -1.8656878145195321, -9.081052234113486, -2.2328399684980695, -2.5064249292951075, -0.32983955379442875, -4.102228793422313, -2.889179649527293, -0.37578329318664316, -1.5821942612953137, -3.034807609728148, -0.045701227715255754, -1.989642958275212, -0.4748045008294781, -0.31164924659512394, -0.15894413380489425, -3.133430619057208, -2.131574045626138, -6.482025623390342, -2.418196932413707, -0.7203707316276251, -3.300559169558241, -1.471619326161104, -2.482863766377193, 44.89222937062273, 111.36300186108039, 342.3288102466892, 126.67958024706634, 46.44073180391163, 109.87818312548369, 79.24678590247271, 116.00920992712938, 183.72168296997975, 172.42401221239166, 112.84118430770924, 47.093767508572306, 146.13142281352663, 102.46208811195226, 47.241389960329904, 180.68020637252235, 194.97220106715525, 74.8504874798056, 111.03721923065173, 76.32536173026364, 40.01830623171267, 90.78252295363133, 76.30022868521357, 122.41246286212751, 280.59340399289977, 143.4834898780203, 54.110994390695964, 82.90719216847779, 94.16250629297969, 71.25044242697746, 35.42519998118391, 84.31483017016961, 286.26962725331083, 108.34965101514068, 36.98808708952099, 90.85056977368625, 66.18410704186323, 101.20333890099562, 146.34521766478585, 150.74925286329196, 95.16874611221265, 41.39900478451852, 110.47156562031124, 83.03143300621181, 42.87990406127654, 161.07342979691126, 165.57457627659477, 67.03753360784088, 92.71542816925061, 66.07668294747074, 34.95035793759885, 82.91795693528469, 59.85034428231572, 106.4833669108217, 220.07980462526427, 120.76131984488012, 47.78192667558821, 57.18987165903686, 82.19729747899297, 54.73835189980477, 37.75982395986877, 40.71624994037739, 46.64540885675644, 48.70144022030136, 45.64467817344928, 44.26132208143357, 44.25409807748751, 47.83996928295028, 35.63770200737305, 46.11224841619744, 40.96224776697351, 49.89366863333349, 41.26482814247898, 40.52048034036802, 48.47799005016877, 50.88586612857365, 45.978325437708534, 55.80481396385381, 46.14623869121712, 49.76676606841861, 51.63699466969182, 53.62612687484355, 34.35809840118678, 45.04135387279997, 44.5684146391877, 46.509202260278585, 49.63783502247345, 38.307205284058206, 48.35169659019782, 36.543217733002415, -91.67054593629385, -109.8383479335725, -17.475572612221523, 12.329529747675878, -77.47324681094723, -77.33962585106755, -42.732092003419446, -58.14510275151008, -84.41152060393719, 4.262368100547874, -97.52338683742417, -24.206099345364137, -89.21712725299025, -72.56607081986824, -120.16042968973726, -88.61097854653455, -82.70331590720775, 18.678406608105853, -71.4198239196824, 50.30535743909069, -8.022870249083393, -49.06712720073598, -130.13339802496432, -66.78446212683663, -82.54308811269033, -59.798289371470325, -70.49851911199754, -124.28460705024102, -17.69249758632144, -120.07785559844123, 39.21273713115692, 30.453011992404555, 9.047314956629457, 5.499285014878643, 24.349465497595983, 18.674706573890372, 0.5037544821377812, 13.997383580478868, 29.32770159143419, 1.9913665820095818, 28.430069581600943, 1.8729404826432607, 38.63512730261832, 22.315559742186643, 13.005381083863785, 19.81702222548818, 15.178812041846507, 0.6113816125882416, 16.71149438381473, 8.357815156369787, 6.498120288227792, 8.013845497751616, 55.39295086435475, 35.542858223546276, 22.914261916465172, 15.829087664939708, 14.948583054220851, 57.4119284443266, 1.9382079525904927, 38.68347837075397, 41.427544657389326, 100.1662841796875, 315.0024037679037, 117.73522415161133, 41.98094584147135, 101.87928746541341, 74.36122589111328, 109.81524073282877, 172.00625762939453, 162.00941111246746, 104.7405616760254, 44.481499354044594, 130.70966313680012, 95.50019989013671, 45.252423731486004, 172.0068593343099, 182.44998118082682, 70.7762446085612, 102.38918431599934, 71.21157328287761, 37.573584111531574, 86.85305226643881, 70.41919021606445, 116.69815724690756, 252.94693857828776, 133.03675867716473, 51.85478057861328, 71.89152615865072, 89.29732182820638, 64.20575040181478, 46.69040864308675, 100.4800532023112, 332.99889882405597, 120.29204368591309, 42.22139949798584, 102.97162348429362, 76.19156150817871, 111.52368125915527, 190.53668238321941, 167.6039156595866, 109.24550806681314, 43.884673500061034, 130.74426816304523, 98.05444679260253, 44.338623428344725, 167.7947914123535, 182.2012171427409, 68.91559403737386, 103.5944315592448, 72.6252488454183, 37.520247840881346, 83.96607894897461, 73.4315902709961, 117.68082796732584, 253.82371215820314, 135.27827339172364, 51.14293855031331, 71.3548786799113, 91.69127909342448, 66.56452528635661]\n",
      "-----------------------------------------\n",
      "| environment/            |             |\n",
      "|    portfolio_value      | 2.32e+06    |\n",
      "|    total_cost           | 2.7e+05     |\n",
      "|    total_reward         | 1.32e+06    |\n",
      "|    total_reward_pct     | 132         |\n",
      "|    total_trades         | 72133       |\n",
      "| time/                   |             |\n",
      "|    fps                  | 153         |\n",
      "|    iterations           | 3           |\n",
      "|    time_elapsed         | 40          |\n",
      "|    total_timesteps      | 6144        |\n",
      "| train/                  |             |\n",
      "|    approx_kl            | 0.008676296 |\n",
      "|    clip_fraction        | 0.143       |\n",
      "|    clip_range           | 0.2         |\n",
      "|    entropy_loss         | -42.6       |\n",
      "|    explained_variance   | 0.00317     |\n",
      "|    learning_rate        | 0.00025     |\n",
      "|    loss                 | 9.47        |\n",
      "|    n_updates            | 20          |\n",
      "|    policy_gradient_loss | -0.0184     |\n",
      "|    std                  | 1           |\n",
      "|    value_loss           | 17.1        |\n",
      "-----------------------------------------\n",
      "[1000000, 38.39591979980469, 91.69662475585938, 313.3722229003906, 118.78218841552734, 40.123985290527344, 97.55754852294922, 72.68486785888672, 108.32612609863281, 159.20101928710938, 162.39141845703125, 100.57974243164062, 44.13541793823242, 121.43285369873047, 90.1629638671875, 44.01080322265625, 168.1305389404297, 176.2595672607422, 71.46668243408203, 98.81327819824219, 72.5230484008789, 37.58075714111328, 86.1761703491211, 63.318092346191406, 113.30058288574219, 240.15750122070312, 129.90611267089844, 50.585201263427734, 62.84025573730469, 89.07861328125, 58.40364074707031, 0, 0, 0, 0, 0, 0, 0, 0, 0, 0, 0, 0, 0, 0, 0, 0, 0, 0, 0, 0, 0, 0, 0, 0, 0, 0, 0, 0, 0, 0, -2.141041777965299, -3.552996723704098, -6.5322711673567255, -0.8822167825157834, -0.9799449674846201, -2.1934933168446946, -1.5881746002519037, -1.8656878145195321, -9.081052234113486, -2.2328399684980695, -2.5064249292951075, -0.32983955379442875, -4.102228793422313, -2.889179649527293, -0.37578329318664316, -1.5821942612953137, -3.034807609728148, -0.045701227715255754, -1.989642958275212, -0.4748045008294781, -0.31164924659512394, -0.15894413380489425, -3.133430619057208, -2.131574045626138, -6.482025623390342, -2.418196932413707, -0.7203707316276251, -3.300559169558241, -1.471619326161104, -2.482863766377193, 44.89222937062273, 111.36300186108039, 342.3288102466892, 126.67958024706634, 46.44073180391163, 109.87818312548369, 79.24678590247271, 116.00920992712938, 183.72168296997975, 172.42401221239166, 112.84118430770924, 47.093767508572306, 146.13142281352663, 102.46208811195226, 47.241389960329904, 180.68020637252235, 194.97220106715525, 74.8504874798056, 111.03721923065173, 76.32536173026364, 40.01830623171267, 90.78252295363133, 76.30022868521357, 122.41246286212751, 280.59340399289977, 143.4834898780203, 54.110994390695964, 82.90719216847779, 94.16250629297969, 71.25044242697746, 35.42519998118391, 84.31483017016961, 286.26962725331083, 108.34965101514068, 36.98808708952099, 90.85056977368625, 66.18410704186323, 101.20333890099562, 146.34521766478585, 150.74925286329196, 95.16874611221265, 41.39900478451852, 110.47156562031124, 83.03143300621181, 42.87990406127654, 161.07342979691126, 165.57457627659477, 67.03753360784088, 92.71542816925061, 66.07668294747074, 34.95035793759885, 82.91795693528469, 59.85034428231572, 106.4833669108217, 220.07980462526427, 120.76131984488012, 47.78192667558821, 57.18987165903686, 82.19729747899297, 54.73835189980477, 37.75982395986877, 40.71624994037739, 46.64540885675644, 48.70144022030136, 45.64467817344928, 44.26132208143357, 44.25409807748751, 47.83996928295028, 35.63770200737305, 46.11224841619744, 40.96224776697351, 49.89366863333349, 41.26482814247898, 40.52048034036802, 48.47799005016877, 50.88586612857365, 45.978325437708534, 55.80481396385381, 46.14623869121712, 49.76676606841861, 51.63699466969182, 53.62612687484355, 34.35809840118678, 45.04135387279997, 44.5684146391877, 46.509202260278585, 49.63783502247345, 38.307205284058206, 48.35169659019782, 36.543217733002415, -91.67054593629385, -109.8383479335725, -17.475572612221523, 12.329529747675878, -77.47324681094723, -77.33962585106755, -42.732092003419446, -58.14510275151008, -84.41152060393719, 4.262368100547874, -97.52338683742417, -24.206099345364137, -89.21712725299025, -72.56607081986824, -120.16042968973726, -88.61097854653455, -82.70331590720775, 18.678406608105853, -71.4198239196824, 50.30535743909069, -8.022870249083393, -49.06712720073598, -130.13339802496432, -66.78446212683663, -82.54308811269033, -59.798289371470325, -70.49851911199754, -124.28460705024102, -17.69249758632144, -120.07785559844123, 39.21273713115692, 30.453011992404555, 9.047314956629457, 5.499285014878643, 24.349465497595983, 18.674706573890372, 0.5037544821377812, 13.997383580478868, 29.32770159143419, 1.9913665820095818, 28.430069581600943, 1.8729404826432607, 38.63512730261832, 22.315559742186643, 13.005381083863785, 19.81702222548818, 15.178812041846507, 0.6113816125882416, 16.71149438381473, 8.357815156369787, 6.498120288227792, 8.013845497751616, 55.39295086435475, 35.542858223546276, 22.914261916465172, 15.829087664939708, 14.948583054220851, 57.4119284443266, 1.9382079525904927, 38.68347837075397, 41.427544657389326, 100.1662841796875, 315.0024037679037, 117.73522415161133, 41.98094584147135, 101.87928746541341, 74.36122589111328, 109.81524073282877, 172.00625762939453, 162.00941111246746, 104.7405616760254, 44.481499354044594, 130.70966313680012, 95.50019989013671, 45.252423731486004, 172.0068593343099, 182.44998118082682, 70.7762446085612, 102.38918431599934, 71.21157328287761, 37.573584111531574, 86.85305226643881, 70.41919021606445, 116.69815724690756, 252.94693857828776, 133.03675867716473, 51.85478057861328, 71.89152615865072, 89.29732182820638, 64.20575040181478, 46.69040864308675, 100.4800532023112, 332.99889882405597, 120.29204368591309, 42.22139949798584, 102.97162348429362, 76.19156150817871, 111.52368125915527, 190.53668238321941, 167.6039156595866, 109.24550806681314, 43.884673500061034, 130.74426816304523, 98.05444679260253, 44.338623428344725, 167.7947914123535, 182.2012171427409, 68.91559403737386, 103.5944315592448, 72.6252488454183, 37.520247840881346, 83.96607894897461, 73.4315902709961, 117.68082796732584, 253.82371215820314, 135.27827339172364, 51.14293855031331, 71.3548786799113, 91.69127909342448, 66.56452528635661]\n"
     ]
    },
    {
     "name": "stdout",
     "output_type": "stream",
     "text": [
      "-----------------------------------------\n",
      "| environment/            |             |\n",
      "|    portfolio_value      | 2.56e+06    |\n",
      "|    total_cost           | 2.69e+05    |\n",
      "|    total_reward         | 1.56e+06    |\n",
      "|    total_reward_pct     | 156         |\n",
      "|    total_trades         | 72108       |\n",
      "| time/                   |             |\n",
      "|    fps                  | 152         |\n",
      "|    iterations           | 4           |\n",
      "|    time_elapsed         | 53          |\n",
      "|    total_timesteps      | 8192        |\n",
      "| train/                  |             |\n",
      "|    approx_kl            | 0.009366335 |\n",
      "|    clip_fraction        | 0.227       |\n",
      "|    clip_range           | 0.2         |\n",
      "|    entropy_loss         | -42.7       |\n",
      "|    explained_variance   | -0.0214     |\n",
      "|    learning_rate        | 0.00025     |\n",
      "|    loss                 | 5.04        |\n",
      "|    n_updates            | 30          |\n",
      "|    policy_gradient_loss | -0.0292     |\n",
      "|    std                  | 1.01        |\n",
      "|    value_loss           | 14.7        |\n",
      "-----------------------------------------\n",
      "[1000000, 38.39591979980469, 91.69662475585938, 313.3722229003906, 118.78218841552734, 40.123985290527344, 97.55754852294922, 72.68486785888672, 108.32612609863281, 159.20101928710938, 162.39141845703125, 100.57974243164062, 44.13541793823242, 121.43285369873047, 90.1629638671875, 44.01080322265625, 168.1305389404297, 176.2595672607422, 71.46668243408203, 98.81327819824219, 72.5230484008789, 37.58075714111328, 86.1761703491211, 63.318092346191406, 113.30058288574219, 240.15750122070312, 129.90611267089844, 50.585201263427734, 62.84025573730469, 89.07861328125, 58.40364074707031, 0, 0, 0, 0, 0, 0, 0, 0, 0, 0, 0, 0, 0, 0, 0, 0, 0, 0, 0, 0, 0, 0, 0, 0, 0, 0, 0, 0, 0, 0, -2.141041777965299, -3.552996723704098, -6.5322711673567255, -0.8822167825157834, -0.9799449674846201, -2.1934933168446946, -1.5881746002519037, -1.8656878145195321, -9.081052234113486, -2.2328399684980695, -2.5064249292951075, -0.32983955379442875, -4.102228793422313, -2.889179649527293, -0.37578329318664316, -1.5821942612953137, -3.034807609728148, -0.045701227715255754, -1.989642958275212, -0.4748045008294781, -0.31164924659512394, -0.15894413380489425, -3.133430619057208, -2.131574045626138, -6.482025623390342, -2.418196932413707, -0.7203707316276251, -3.300559169558241, -1.471619326161104, -2.482863766377193, 44.89222937062273, 111.36300186108039, 342.3288102466892, 126.67958024706634, 46.44073180391163, 109.87818312548369, 79.24678590247271, 116.00920992712938, 183.72168296997975, 172.42401221239166, 112.84118430770924, 47.093767508572306, 146.13142281352663, 102.46208811195226, 47.241389960329904, 180.68020637252235, 194.97220106715525, 74.8504874798056, 111.03721923065173, 76.32536173026364, 40.01830623171267, 90.78252295363133, 76.30022868521357, 122.41246286212751, 280.59340399289977, 143.4834898780203, 54.110994390695964, 82.90719216847779, 94.16250629297969, 71.25044242697746, 35.42519998118391, 84.31483017016961, 286.26962725331083, 108.34965101514068, 36.98808708952099, 90.85056977368625, 66.18410704186323, 101.20333890099562, 146.34521766478585, 150.74925286329196, 95.16874611221265, 41.39900478451852, 110.47156562031124, 83.03143300621181, 42.87990406127654, 161.07342979691126, 165.57457627659477, 67.03753360784088, 92.71542816925061, 66.07668294747074, 34.95035793759885, 82.91795693528469, 59.85034428231572, 106.4833669108217, 220.07980462526427, 120.76131984488012, 47.78192667558821, 57.18987165903686, 82.19729747899297, 54.73835189980477, 37.75982395986877, 40.71624994037739, 46.64540885675644, 48.70144022030136, 45.64467817344928, 44.26132208143357, 44.25409807748751, 47.83996928295028, 35.63770200737305, 46.11224841619744, 40.96224776697351, 49.89366863333349, 41.26482814247898, 40.52048034036802, 48.47799005016877, 50.88586612857365, 45.978325437708534, 55.80481396385381, 46.14623869121712, 49.76676606841861, 51.63699466969182, 53.62612687484355, 34.35809840118678, 45.04135387279997, 44.5684146391877, 46.509202260278585, 49.63783502247345, 38.307205284058206, 48.35169659019782, 36.543217733002415, -91.67054593629385, -109.8383479335725, -17.475572612221523, 12.329529747675878, -77.47324681094723, -77.33962585106755, -42.732092003419446, -58.14510275151008, -84.41152060393719, 4.262368100547874, -97.52338683742417, -24.206099345364137, -89.21712725299025, -72.56607081986824, -120.16042968973726, -88.61097854653455, -82.70331590720775, 18.678406608105853, -71.4198239196824, 50.30535743909069, -8.022870249083393, -49.06712720073598, -130.13339802496432, -66.78446212683663, -82.54308811269033, -59.798289371470325, -70.49851911199754, -124.28460705024102, -17.69249758632144, -120.07785559844123, 39.21273713115692, 30.453011992404555, 9.047314956629457, 5.499285014878643, 24.349465497595983, 18.674706573890372, 0.5037544821377812, 13.997383580478868, 29.32770159143419, 1.9913665820095818, 28.430069581600943, 1.8729404826432607, 38.63512730261832, 22.315559742186643, 13.005381083863785, 19.81702222548818, 15.178812041846507, 0.6113816125882416, 16.71149438381473, 8.357815156369787, 6.498120288227792, 8.013845497751616, 55.39295086435475, 35.542858223546276, 22.914261916465172, 15.829087664939708, 14.948583054220851, 57.4119284443266, 1.9382079525904927, 38.68347837075397, 41.427544657389326, 100.1662841796875, 315.0024037679037, 117.73522415161133, 41.98094584147135, 101.87928746541341, 74.36122589111328, 109.81524073282877, 172.00625762939453, 162.00941111246746, 104.7405616760254, 44.481499354044594, 130.70966313680012, 95.50019989013671, 45.252423731486004, 172.0068593343099, 182.44998118082682, 70.7762446085612, 102.38918431599934, 71.21157328287761, 37.573584111531574, 86.85305226643881, 70.41919021606445, 116.69815724690756, 252.94693857828776, 133.03675867716473, 51.85478057861328, 71.89152615865072, 89.29732182820638, 64.20575040181478, 46.69040864308675, 100.4800532023112, 332.99889882405597, 120.29204368591309, 42.22139949798584, 102.97162348429362, 76.19156150817871, 111.52368125915527, 190.53668238321941, 167.6039156595866, 109.24550806681314, 43.884673500061034, 130.74426816304523, 98.05444679260253, 44.338623428344725, 167.7947914123535, 182.2012171427409, 68.91559403737386, 103.5944315592448, 72.6252488454183, 37.520247840881346, 83.96607894897461, 73.4315902709961, 117.68082796732584, 253.82371215820314, 135.27827339172364, 51.14293855031331, 71.3548786799113, 91.69127909342448, 66.56452528635661]\n",
      "-----------------------------------------\n",
      "| environment/            |             |\n",
      "|    portfolio_value      | 3.09e+06    |\n",
      "|    total_cost           | 2.66e+05    |\n",
      "|    total_reward         | 2.09e+06    |\n",
      "|    total_reward_pct     | 209         |\n",
      "|    total_trades         | 71990       |\n",
      "| time/                   |             |\n",
      "|    fps                  | 152         |\n",
      "|    iterations           | 5           |\n",
      "|    time_elapsed         | 67          |\n",
      "|    total_timesteps      | 10240       |\n",
      "| train/                  |             |\n",
      "|    approx_kl            | 0.022265581 |\n",
      "|    clip_fraction        | 0.234       |\n",
      "|    clip_range           | 0.2         |\n",
      "|    entropy_loss         | -42.8       |\n",
      "|    explained_variance   | 0.0106      |\n",
      "|    learning_rate        | 0.00025     |\n",
      "|    loss                 | 7.15        |\n",
      "|    n_updates            | 40          |\n",
      "|    policy_gradient_loss | -0.0223     |\n",
      "|    std                  | 1.01        |\n",
      "|    value_loss           | 15.9        |\n",
      "-----------------------------------------\n",
      "-----------------------------------------\n",
      "| time/                   |             |\n",
      "|    fps                  | 152         |\n",
      "|    iterations           | 6           |\n",
      "|    time_elapsed         | 80          |\n",
      "|    total_timesteps      | 12288       |\n",
      "| train/                  |             |\n",
      "|    approx_kl            | 0.025597597 |\n",
      "|    clip_fraction        | 0.216       |\n",
      "|    clip_range           | 0.2         |\n",
      "|    entropy_loss         | -42.8       |\n",
      "|    explained_variance   | 0.0037      |\n",
      "|    learning_rate        | 0.00025     |\n",
      "|    loss                 | 15.4        |\n",
      "|    n_updates            | 50          |\n",
      "|    policy_gradient_loss | -0.0145     |\n",
      "|    std                  | 1.01        |\n",
      "|    value_loss           | 23.5        |\n",
      "-----------------------------------------\n"
     ]
    },
    {
     "name": "stdout",
     "output_type": "stream",
     "text": [
      "[1000000, 38.39591979980469, 91.69662475585938, 313.3722229003906, 118.78218841552734, 40.123985290527344, 97.55754852294922, 72.68486785888672, 108.32612609863281, 159.20101928710938, 162.39141845703125, 100.57974243164062, 44.13541793823242, 121.43285369873047, 90.1629638671875, 44.01080322265625, 168.1305389404297, 176.2595672607422, 71.46668243408203, 98.81327819824219, 72.5230484008789, 37.58075714111328, 86.1761703491211, 63.318092346191406, 113.30058288574219, 240.15750122070312, 129.90611267089844, 50.585201263427734, 62.84025573730469, 89.07861328125, 58.40364074707031, 0, 0, 0, 0, 0, 0, 0, 0, 0, 0, 0, 0, 0, 0, 0, 0, 0, 0, 0, 0, 0, 0, 0, 0, 0, 0, 0, 0, 0, 0, -2.141041777965299, -3.552996723704098, -6.5322711673567255, -0.8822167825157834, -0.9799449674846201, -2.1934933168446946, -1.5881746002519037, -1.8656878145195321, -9.081052234113486, -2.2328399684980695, -2.5064249292951075, -0.32983955379442875, -4.102228793422313, -2.889179649527293, -0.37578329318664316, -1.5821942612953137, -3.034807609728148, -0.045701227715255754, -1.989642958275212, -0.4748045008294781, -0.31164924659512394, -0.15894413380489425, -3.133430619057208, -2.131574045626138, -6.482025623390342, -2.418196932413707, -0.7203707316276251, -3.300559169558241, -1.471619326161104, -2.482863766377193, 44.89222937062273, 111.36300186108039, 342.3288102466892, 126.67958024706634, 46.44073180391163, 109.87818312548369, 79.24678590247271, 116.00920992712938, 183.72168296997975, 172.42401221239166, 112.84118430770924, 47.093767508572306, 146.13142281352663, 102.46208811195226, 47.241389960329904, 180.68020637252235, 194.97220106715525, 74.8504874798056, 111.03721923065173, 76.32536173026364, 40.01830623171267, 90.78252295363133, 76.30022868521357, 122.41246286212751, 280.59340399289977, 143.4834898780203, 54.110994390695964, 82.90719216847779, 94.16250629297969, 71.25044242697746, 35.42519998118391, 84.31483017016961, 286.26962725331083, 108.34965101514068, 36.98808708952099, 90.85056977368625, 66.18410704186323, 101.20333890099562, 146.34521766478585, 150.74925286329196, 95.16874611221265, 41.39900478451852, 110.47156562031124, 83.03143300621181, 42.87990406127654, 161.07342979691126, 165.57457627659477, 67.03753360784088, 92.71542816925061, 66.07668294747074, 34.95035793759885, 82.91795693528469, 59.85034428231572, 106.4833669108217, 220.07980462526427, 120.76131984488012, 47.78192667558821, 57.18987165903686, 82.19729747899297, 54.73835189980477, 37.75982395986877, 40.71624994037739, 46.64540885675644, 48.70144022030136, 45.64467817344928, 44.26132208143357, 44.25409807748751, 47.83996928295028, 35.63770200737305, 46.11224841619744, 40.96224776697351, 49.89366863333349, 41.26482814247898, 40.52048034036802, 48.47799005016877, 50.88586612857365, 45.978325437708534, 55.80481396385381, 46.14623869121712, 49.76676606841861, 51.63699466969182, 53.62612687484355, 34.35809840118678, 45.04135387279997, 44.5684146391877, 46.509202260278585, 49.63783502247345, 38.307205284058206, 48.35169659019782, 36.543217733002415, -91.67054593629385, -109.8383479335725, -17.475572612221523, 12.329529747675878, -77.47324681094723, -77.33962585106755, -42.732092003419446, -58.14510275151008, -84.41152060393719, 4.262368100547874, -97.52338683742417, -24.206099345364137, -89.21712725299025, -72.56607081986824, -120.16042968973726, -88.61097854653455, -82.70331590720775, 18.678406608105853, -71.4198239196824, 50.30535743909069, -8.022870249083393, -49.06712720073598, -130.13339802496432, -66.78446212683663, -82.54308811269033, -59.798289371470325, -70.49851911199754, -124.28460705024102, -17.69249758632144, -120.07785559844123, 39.21273713115692, 30.453011992404555, 9.047314956629457, 5.499285014878643, 24.349465497595983, 18.674706573890372, 0.5037544821377812, 13.997383580478868, 29.32770159143419, 1.9913665820095818, 28.430069581600943, 1.8729404826432607, 38.63512730261832, 22.315559742186643, 13.005381083863785, 19.81702222548818, 15.178812041846507, 0.6113816125882416, 16.71149438381473, 8.357815156369787, 6.498120288227792, 8.013845497751616, 55.39295086435475, 35.542858223546276, 22.914261916465172, 15.829087664939708, 14.948583054220851, 57.4119284443266, 1.9382079525904927, 38.68347837075397, 41.427544657389326, 100.1662841796875, 315.0024037679037, 117.73522415161133, 41.98094584147135, 101.87928746541341, 74.36122589111328, 109.81524073282877, 172.00625762939453, 162.00941111246746, 104.7405616760254, 44.481499354044594, 130.70966313680012, 95.50019989013671, 45.252423731486004, 172.0068593343099, 182.44998118082682, 70.7762446085612, 102.38918431599934, 71.21157328287761, 37.573584111531574, 86.85305226643881, 70.41919021606445, 116.69815724690756, 252.94693857828776, 133.03675867716473, 51.85478057861328, 71.89152615865072, 89.29732182820638, 64.20575040181478, 46.69040864308675, 100.4800532023112, 332.99889882405597, 120.29204368591309, 42.22139949798584, 102.97162348429362, 76.19156150817871, 111.52368125915527, 190.53668238321941, 167.6039156595866, 109.24550806681314, 43.884673500061034, 130.74426816304523, 98.05444679260253, 44.338623428344725, 167.7947914123535, 182.2012171427409, 68.91559403737386, 103.5944315592448, 72.6252488454183, 37.520247840881346, 83.96607894897461, 73.4315902709961, 117.68082796732584, 253.82371215820314, 135.27827339172364, 51.14293855031331, 71.3548786799113, 91.69127909342448, 66.56452528635661]\n",
      "----------------------------------------\n",
      "| environment/            |            |\n",
      "|    portfolio_value      | 2.98e+06   |\n",
      "|    total_cost           | 2.58e+05   |\n",
      "|    total_reward         | 1.98e+06   |\n",
      "|    total_reward_pct     | 198        |\n",
      "|    total_trades         | 71320      |\n",
      "| time/                   |            |\n",
      "|    fps                  | 152        |\n",
      "|    iterations           | 7          |\n",
      "|    time_elapsed         | 93         |\n",
      "|    total_timesteps      | 14336      |\n",
      "| train/                  |            |\n",
      "|    approx_kl            | 0.01965062 |\n",
      "|    clip_fraction        | 0.201      |\n",
      "|    clip_range           | 0.2        |\n",
      "|    entropy_loss         | -42.8      |\n",
      "|    explained_variance   | -0.0412    |\n",
      "|    learning_rate        | 0.00025    |\n",
      "|    loss                 | 7.82       |\n",
      "|    n_updates            | 60         |\n",
      "|    policy_gradient_loss | -0.0205    |\n",
      "|    std                  | 1.01       |\n",
      "|    value_loss           | 13.3       |\n",
      "----------------------------------------\n",
      "[1000000, 38.39591979980469, 91.69662475585938, 313.3722229003906, 118.78218841552734, 40.123985290527344, 97.55754852294922, 72.68486785888672, 108.32612609863281, 159.20101928710938, 162.39141845703125, 100.57974243164062, 44.13541793823242, 121.43285369873047, 90.1629638671875, 44.01080322265625, 168.1305389404297, 176.2595672607422, 71.46668243408203, 98.81327819824219, 72.5230484008789, 37.58075714111328, 86.1761703491211, 63.318092346191406, 113.30058288574219, 240.15750122070312, 129.90611267089844, 50.585201263427734, 62.84025573730469, 89.07861328125, 58.40364074707031, 0, 0, 0, 0, 0, 0, 0, 0, 0, 0, 0, 0, 0, 0, 0, 0, 0, 0, 0, 0, 0, 0, 0, 0, 0, 0, 0, 0, 0, 0, -2.141041777965299, -3.552996723704098, -6.5322711673567255, -0.8822167825157834, -0.9799449674846201, -2.1934933168446946, -1.5881746002519037, -1.8656878145195321, -9.081052234113486, -2.2328399684980695, -2.5064249292951075, -0.32983955379442875, -4.102228793422313, -2.889179649527293, -0.37578329318664316, -1.5821942612953137, -3.034807609728148, -0.045701227715255754, -1.989642958275212, -0.4748045008294781, -0.31164924659512394, -0.15894413380489425, -3.133430619057208, -2.131574045626138, -6.482025623390342, -2.418196932413707, -0.7203707316276251, -3.300559169558241, -1.471619326161104, -2.482863766377193, 44.89222937062273, 111.36300186108039, 342.3288102466892, 126.67958024706634, 46.44073180391163, 109.87818312548369, 79.24678590247271, 116.00920992712938, 183.72168296997975, 172.42401221239166, 112.84118430770924, 47.093767508572306, 146.13142281352663, 102.46208811195226, 47.241389960329904, 180.68020637252235, 194.97220106715525, 74.8504874798056, 111.03721923065173, 76.32536173026364, 40.01830623171267, 90.78252295363133, 76.30022868521357, 122.41246286212751, 280.59340399289977, 143.4834898780203, 54.110994390695964, 82.90719216847779, 94.16250629297969, 71.25044242697746, 35.42519998118391, 84.31483017016961, 286.26962725331083, 108.34965101514068, 36.98808708952099, 90.85056977368625, 66.18410704186323, 101.20333890099562, 146.34521766478585, 150.74925286329196, 95.16874611221265, 41.39900478451852, 110.47156562031124, 83.03143300621181, 42.87990406127654, 161.07342979691126, 165.57457627659477, 67.03753360784088, 92.71542816925061, 66.07668294747074, 34.95035793759885, 82.91795693528469, 59.85034428231572, 106.4833669108217, 220.07980462526427, 120.76131984488012, 47.78192667558821, 57.18987165903686, 82.19729747899297, 54.73835189980477, 37.75982395986877, 40.71624994037739, 46.64540885675644, 48.70144022030136, 45.64467817344928, 44.26132208143357, 44.25409807748751, 47.83996928295028, 35.63770200737305, 46.11224841619744, 40.96224776697351, 49.89366863333349, 41.26482814247898, 40.52048034036802, 48.47799005016877, 50.88586612857365, 45.978325437708534, 55.80481396385381, 46.14623869121712, 49.76676606841861, 51.63699466969182, 53.62612687484355, 34.35809840118678, 45.04135387279997, 44.5684146391877, 46.509202260278585, 49.63783502247345, 38.307205284058206, 48.35169659019782, 36.543217733002415, -91.67054593629385, -109.8383479335725, -17.475572612221523, 12.329529747675878, -77.47324681094723, -77.33962585106755, -42.732092003419446, -58.14510275151008, -84.41152060393719, 4.262368100547874, -97.52338683742417, -24.206099345364137, -89.21712725299025, -72.56607081986824, -120.16042968973726, -88.61097854653455, -82.70331590720775, 18.678406608105853, -71.4198239196824, 50.30535743909069, -8.022870249083393, -49.06712720073598, -130.13339802496432, -66.78446212683663, -82.54308811269033, -59.798289371470325, -70.49851911199754, -124.28460705024102, -17.69249758632144, -120.07785559844123, 39.21273713115692, 30.453011992404555, 9.047314956629457, 5.499285014878643, 24.349465497595983, 18.674706573890372, 0.5037544821377812, 13.997383580478868, 29.32770159143419, 1.9913665820095818, 28.430069581600943, 1.8729404826432607, 38.63512730261832, 22.315559742186643, 13.005381083863785, 19.81702222548818, 15.178812041846507, 0.6113816125882416, 16.71149438381473, 8.357815156369787, 6.498120288227792, 8.013845497751616, 55.39295086435475, 35.542858223546276, 22.914261916465172, 15.829087664939708, 14.948583054220851, 57.4119284443266, 1.9382079525904927, 38.68347837075397, 41.427544657389326, 100.1662841796875, 315.0024037679037, 117.73522415161133, 41.98094584147135, 101.87928746541341, 74.36122589111328, 109.81524073282877, 172.00625762939453, 162.00941111246746, 104.7405616760254, 44.481499354044594, 130.70966313680012, 95.50019989013671, 45.252423731486004, 172.0068593343099, 182.44998118082682, 70.7762446085612, 102.38918431599934, 71.21157328287761, 37.573584111531574, 86.85305226643881, 70.41919021606445, 116.69815724690756, 252.94693857828776, 133.03675867716473, 51.85478057861328, 71.89152615865072, 89.29732182820638, 64.20575040181478, 46.69040864308675, 100.4800532023112, 332.99889882405597, 120.29204368591309, 42.22139949798584, 102.97162348429362, 76.19156150817871, 111.52368125915527, 190.53668238321941, 167.6039156595866, 109.24550806681314, 43.884673500061034, 130.74426816304523, 98.05444679260253, 44.338623428344725, 167.7947914123535, 182.2012171427409, 68.91559403737386, 103.5944315592448, 72.6252488454183, 37.520247840881346, 83.96607894897461, 73.4315902709961, 117.68082796732584, 253.82371215820314, 135.27827339172364, 51.14293855031331, 71.3548786799113, 91.69127909342448, 66.56452528635661]\n"
     ]
    },
    {
     "name": "stdout",
     "output_type": "stream",
     "text": [
      "----------------------------------------\n",
      "| environment/            |            |\n",
      "|    portfolio_value      | 3.23e+06   |\n",
      "|    total_cost           | 2.65e+05   |\n",
      "|    total_reward         | 2.23e+06   |\n",
      "|    total_reward_pct     | 223        |\n",
      "|    total_trades         | 71914      |\n",
      "| time/                   |            |\n",
      "|    fps                  | 152        |\n",
      "|    iterations           | 8          |\n",
      "|    time_elapsed         | 107        |\n",
      "|    total_timesteps      | 16384      |\n",
      "| train/                  |            |\n",
      "|    approx_kl            | 0.01284576 |\n",
      "|    clip_fraction        | 0.181      |\n",
      "|    clip_range           | 0.2        |\n",
      "|    entropy_loss         | -42.9      |\n",
      "|    explained_variance   | -0.00645   |\n",
      "|    learning_rate        | 0.00025    |\n",
      "|    loss                 | 7.57       |\n",
      "|    n_updates            | 70         |\n",
      "|    policy_gradient_loss | -0.0222    |\n",
      "|    std                  | 1.01       |\n",
      "|    value_loss           | 17.9       |\n",
      "----------------------------------------\n",
      "day: 2515, episode: 30\n",
      "begin_total_asset: 1000000.00\n",
      "end_total_asset: 3731432.92\n",
      "total_reward: 2731432.92\n",
      "total_cost: 254592.55\n",
      "total_trades: 71057\n",
      "Sharpe: 0.954\n",
      "=================================\n",
      "[1000000, 38.39591979980469, 91.69662475585938, 313.3722229003906, 118.78218841552734, 40.123985290527344, 97.55754852294922, 72.68486785888672, 108.32612609863281, 159.20101928710938, 162.39141845703125, 100.57974243164062, 44.13541793823242, 121.43285369873047, 90.1629638671875, 44.01080322265625, 168.1305389404297, 176.2595672607422, 71.46668243408203, 98.81327819824219, 72.5230484008789, 37.58075714111328, 86.1761703491211, 63.318092346191406, 113.30058288574219, 240.15750122070312, 129.90611267089844, 50.585201263427734, 62.84025573730469, 89.07861328125, 58.40364074707031, 0, 0, 0, 0, 0, 0, 0, 0, 0, 0, 0, 0, 0, 0, 0, 0, 0, 0, 0, 0, 0, 0, 0, 0, 0, 0, 0, 0, 0, 0, -2.141041777965299, -3.552996723704098, -6.5322711673567255, -0.8822167825157834, -0.9799449674846201, -2.1934933168446946, -1.5881746002519037, -1.8656878145195321, -9.081052234113486, -2.2328399684980695, -2.5064249292951075, -0.32983955379442875, -4.102228793422313, -2.889179649527293, -0.37578329318664316, -1.5821942612953137, -3.034807609728148, -0.045701227715255754, -1.989642958275212, -0.4748045008294781, -0.31164924659512394, -0.15894413380489425, -3.133430619057208, -2.131574045626138, -6.482025623390342, -2.418196932413707, -0.7203707316276251, -3.300559169558241, -1.471619326161104, -2.482863766377193, 44.89222937062273, 111.36300186108039, 342.3288102466892, 126.67958024706634, 46.44073180391163, 109.87818312548369, 79.24678590247271, 116.00920992712938, 183.72168296997975, 172.42401221239166, 112.84118430770924, 47.093767508572306, 146.13142281352663, 102.46208811195226, 47.241389960329904, 180.68020637252235, 194.97220106715525, 74.8504874798056, 111.03721923065173, 76.32536173026364, 40.01830623171267, 90.78252295363133, 76.30022868521357, 122.41246286212751, 280.59340399289977, 143.4834898780203, 54.110994390695964, 82.90719216847779, 94.16250629297969, 71.25044242697746, 35.42519998118391, 84.31483017016961, 286.26962725331083, 108.34965101514068, 36.98808708952099, 90.85056977368625, 66.18410704186323, 101.20333890099562, 146.34521766478585, 150.74925286329196, 95.16874611221265, 41.39900478451852, 110.47156562031124, 83.03143300621181, 42.87990406127654, 161.07342979691126, 165.57457627659477, 67.03753360784088, 92.71542816925061, 66.07668294747074, 34.95035793759885, 82.91795693528469, 59.85034428231572, 106.4833669108217, 220.07980462526427, 120.76131984488012, 47.78192667558821, 57.18987165903686, 82.19729747899297, 54.73835189980477, 37.75982395986877, 40.71624994037739, 46.64540885675644, 48.70144022030136, 45.64467817344928, 44.26132208143357, 44.25409807748751, 47.83996928295028, 35.63770200737305, 46.11224841619744, 40.96224776697351, 49.89366863333349, 41.26482814247898, 40.52048034036802, 48.47799005016877, 50.88586612857365, 45.978325437708534, 55.80481396385381, 46.14623869121712, 49.76676606841861, 51.63699466969182, 53.62612687484355, 34.35809840118678, 45.04135387279997, 44.5684146391877, 46.509202260278585, 49.63783502247345, 38.307205284058206, 48.35169659019782, 36.543217733002415, -91.67054593629385, -109.8383479335725, -17.475572612221523, 12.329529747675878, -77.47324681094723, -77.33962585106755, -42.732092003419446, -58.14510275151008, -84.41152060393719, 4.262368100547874, -97.52338683742417, -24.206099345364137, -89.21712725299025, -72.56607081986824, -120.16042968973726, -88.61097854653455, -82.70331590720775, 18.678406608105853, -71.4198239196824, 50.30535743909069, -8.022870249083393, -49.06712720073598, -130.13339802496432, -66.78446212683663, -82.54308811269033, -59.798289371470325, -70.49851911199754, -124.28460705024102, -17.69249758632144, -120.07785559844123, 39.21273713115692, 30.453011992404555, 9.047314956629457, 5.499285014878643, 24.349465497595983, 18.674706573890372, 0.5037544821377812, 13.997383580478868, 29.32770159143419, 1.9913665820095818, 28.430069581600943, 1.8729404826432607, 38.63512730261832, 22.315559742186643, 13.005381083863785, 19.81702222548818, 15.178812041846507, 0.6113816125882416, 16.71149438381473, 8.357815156369787, 6.498120288227792, 8.013845497751616, 55.39295086435475, 35.542858223546276, 22.914261916465172, 15.829087664939708, 14.948583054220851, 57.4119284443266, 1.9382079525904927, 38.68347837075397, 41.427544657389326, 100.1662841796875, 315.0024037679037, 117.73522415161133, 41.98094584147135, 101.87928746541341, 74.36122589111328, 109.81524073282877, 172.00625762939453, 162.00941111246746, 104.7405616760254, 44.481499354044594, 130.70966313680012, 95.50019989013671, 45.252423731486004, 172.0068593343099, 182.44998118082682, 70.7762446085612, 102.38918431599934, 71.21157328287761, 37.573584111531574, 86.85305226643881, 70.41919021606445, 116.69815724690756, 252.94693857828776, 133.03675867716473, 51.85478057861328, 71.89152615865072, 89.29732182820638, 64.20575040181478, 46.69040864308675, 100.4800532023112, 332.99889882405597, 120.29204368591309, 42.22139949798584, 102.97162348429362, 76.19156150817871, 111.52368125915527, 190.53668238321941, 167.6039156595866, 109.24550806681314, 43.884673500061034, 130.74426816304523, 98.05444679260253, 44.338623428344725, 167.7947914123535, 182.2012171427409, 68.91559403737386, 103.5944315592448, 72.6252488454183, 37.520247840881346, 83.96607894897461, 73.4315902709961, 117.68082796732584, 253.82371215820314, 135.27827339172364, 51.14293855031331, 71.3548786799113, 91.69127909342448, 66.56452528635661]\n",
      "-----------------------------------------\n",
      "| environment/            |             |\n",
      "|    portfolio_value      | 3.73e+06    |\n",
      "|    total_cost           | 2.55e+05    |\n",
      "|    total_reward         | 2.73e+06    |\n",
      "|    total_reward_pct     | 273         |\n",
      "|    total_trades         | 71057       |\n",
      "| time/                   |             |\n",
      "|    fps                  | 151         |\n",
      "|    iterations           | 9           |\n",
      "|    time_elapsed         | 121         |\n",
      "|    total_timesteps      | 18432       |\n",
      "| train/                  |             |\n",
      "|    approx_kl            | 0.028598413 |\n",
      "|    clip_fraction        | 0.229       |\n",
      "|    clip_range           | 0.2         |\n",
      "|    entropy_loss         | -42.9       |\n",
      "|    explained_variance   | -0.0253     |\n",
      "|    learning_rate        | 0.00025     |\n",
      "|    loss                 | 11.1        |\n",
      "|    n_updates            | 80          |\n",
      "|    policy_gradient_loss | -0.0167     |\n",
      "|    std                  | 1.01        |\n",
      "|    value_loss           | 19.1        |\n",
      "-----------------------------------------\n",
      "[1000000, 38.39591979980469, 91.69662475585938, 313.3722229003906, 118.78218841552734, 40.123985290527344, 97.55754852294922, 72.68486785888672, 108.32612609863281, 159.20101928710938, 162.39141845703125, 100.57974243164062, 44.13541793823242, 121.43285369873047, 90.1629638671875, 44.01080322265625, 168.1305389404297, 176.2595672607422, 71.46668243408203, 98.81327819824219, 72.5230484008789, 37.58075714111328, 86.1761703491211, 63.318092346191406, 113.30058288574219, 240.15750122070312, 129.90611267089844, 50.585201263427734, 62.84025573730469, 89.07861328125, 58.40364074707031, 0, 0, 0, 0, 0, 0, 0, 0, 0, 0, 0, 0, 0, 0, 0, 0, 0, 0, 0, 0, 0, 0, 0, 0, 0, 0, 0, 0, 0, 0, -2.141041777965299, -3.552996723704098, -6.5322711673567255, -0.8822167825157834, -0.9799449674846201, -2.1934933168446946, -1.5881746002519037, -1.8656878145195321, -9.081052234113486, -2.2328399684980695, -2.5064249292951075, -0.32983955379442875, -4.102228793422313, -2.889179649527293, -0.37578329318664316, -1.5821942612953137, -3.034807609728148, -0.045701227715255754, -1.989642958275212, -0.4748045008294781, -0.31164924659512394, -0.15894413380489425, -3.133430619057208, -2.131574045626138, -6.482025623390342, -2.418196932413707, -0.7203707316276251, -3.300559169558241, -1.471619326161104, -2.482863766377193, 44.89222937062273, 111.36300186108039, 342.3288102466892, 126.67958024706634, 46.44073180391163, 109.87818312548369, 79.24678590247271, 116.00920992712938, 183.72168296997975, 172.42401221239166, 112.84118430770924, 47.093767508572306, 146.13142281352663, 102.46208811195226, 47.241389960329904, 180.68020637252235, 194.97220106715525, 74.8504874798056, 111.03721923065173, 76.32536173026364, 40.01830623171267, 90.78252295363133, 76.30022868521357, 122.41246286212751, 280.59340399289977, 143.4834898780203, 54.110994390695964, 82.90719216847779, 94.16250629297969, 71.25044242697746, 35.42519998118391, 84.31483017016961, 286.26962725331083, 108.34965101514068, 36.98808708952099, 90.85056977368625, 66.18410704186323, 101.20333890099562, 146.34521766478585, 150.74925286329196, 95.16874611221265, 41.39900478451852, 110.47156562031124, 83.03143300621181, 42.87990406127654, 161.07342979691126, 165.57457627659477, 67.03753360784088, 92.71542816925061, 66.07668294747074, 34.95035793759885, 82.91795693528469, 59.85034428231572, 106.4833669108217, 220.07980462526427, 120.76131984488012, 47.78192667558821, 57.18987165903686, 82.19729747899297, 54.73835189980477, 37.75982395986877, 40.71624994037739, 46.64540885675644, 48.70144022030136, 45.64467817344928, 44.26132208143357, 44.25409807748751, 47.83996928295028, 35.63770200737305, 46.11224841619744, 40.96224776697351, 49.89366863333349, 41.26482814247898, 40.52048034036802, 48.47799005016877, 50.88586612857365, 45.978325437708534, 55.80481396385381, 46.14623869121712, 49.76676606841861, 51.63699466969182, 53.62612687484355, 34.35809840118678, 45.04135387279997, 44.5684146391877, 46.509202260278585, 49.63783502247345, 38.307205284058206, 48.35169659019782, 36.543217733002415, -91.67054593629385, -109.8383479335725, -17.475572612221523, 12.329529747675878, -77.47324681094723, -77.33962585106755, -42.732092003419446, -58.14510275151008, -84.41152060393719, 4.262368100547874, -97.52338683742417, -24.206099345364137, -89.21712725299025, -72.56607081986824, -120.16042968973726, -88.61097854653455, -82.70331590720775, 18.678406608105853, -71.4198239196824, 50.30535743909069, -8.022870249083393, -49.06712720073598, -130.13339802496432, -66.78446212683663, -82.54308811269033, -59.798289371470325, -70.49851911199754, -124.28460705024102, -17.69249758632144, -120.07785559844123, 39.21273713115692, 30.453011992404555, 9.047314956629457, 5.499285014878643, 24.349465497595983, 18.674706573890372, 0.5037544821377812, 13.997383580478868, 29.32770159143419, 1.9913665820095818, 28.430069581600943, 1.8729404826432607, 38.63512730261832, 22.315559742186643, 13.005381083863785, 19.81702222548818, 15.178812041846507, 0.6113816125882416, 16.71149438381473, 8.357815156369787, 6.498120288227792, 8.013845497751616, 55.39295086435475, 35.542858223546276, 22.914261916465172, 15.829087664939708, 14.948583054220851, 57.4119284443266, 1.9382079525904927, 38.68347837075397, 41.427544657389326, 100.1662841796875, 315.0024037679037, 117.73522415161133, 41.98094584147135, 101.87928746541341, 74.36122589111328, 109.81524073282877, 172.00625762939453, 162.00941111246746, 104.7405616760254, 44.481499354044594, 130.70966313680012, 95.50019989013671, 45.252423731486004, 172.0068593343099, 182.44998118082682, 70.7762446085612, 102.38918431599934, 71.21157328287761, 37.573584111531574, 86.85305226643881, 70.41919021606445, 116.69815724690756, 252.94693857828776, 133.03675867716473, 51.85478057861328, 71.89152615865072, 89.29732182820638, 64.20575040181478, 46.69040864308675, 100.4800532023112, 332.99889882405597, 120.29204368591309, 42.22139949798584, 102.97162348429362, 76.19156150817871, 111.52368125915527, 190.53668238321941, 167.6039156595866, 109.24550806681314, 43.884673500061034, 130.74426816304523, 98.05444679260253, 44.338623428344725, 167.7947914123535, 182.2012171427409, 68.91559403737386, 103.5944315592448, 72.6252488454183, 37.520247840881346, 83.96607894897461, 73.4315902709961, 117.68082796732584, 253.82371215820314, 135.27827339172364, 51.14293855031331, 71.3548786799113, 91.69127909342448, 66.56452528635661]\n"
     ]
    },
    {
     "name": "stdout",
     "output_type": "stream",
     "text": [
      "-----------------------------------------\n",
      "| environment/            |             |\n",
      "|    portfolio_value      | 2.81e+06    |\n",
      "|    total_cost           | 2.57e+05    |\n",
      "|    total_reward         | 1.81e+06    |\n",
      "|    total_reward_pct     | 181         |\n",
      "|    total_trades         | 71132       |\n",
      "| time/                   |             |\n",
      "|    fps                  | 151         |\n",
      "|    iterations           | 10          |\n",
      "|    time_elapsed         | 135         |\n",
      "|    total_timesteps      | 20480       |\n",
      "| train/                  |             |\n",
      "|    approx_kl            | 0.025722485 |\n",
      "|    clip_fraction        | 0.223       |\n",
      "|    clip_range           | 0.2         |\n",
      "|    entropy_loss         | -43         |\n",
      "|    explained_variance   | -0.00815    |\n",
      "|    learning_rate        | 0.00025     |\n",
      "|    loss                 | 13.6        |\n",
      "|    n_updates            | 90          |\n",
      "|    policy_gradient_loss | -0.0175     |\n",
      "|    std                  | 1.01        |\n",
      "|    value_loss           | 34.5        |\n",
      "-----------------------------------------\n",
      "-----------------------------------------\n",
      "| time/                   |             |\n",
      "|    fps                  | 151         |\n",
      "|    iterations           | 11          |\n",
      "|    time_elapsed         | 148         |\n",
      "|    total_timesteps      | 22528       |\n",
      "| train/                  |             |\n",
      "|    approx_kl            | 0.014126083 |\n",
      "|    clip_fraction        | 0.211       |\n",
      "|    clip_range           | 0.2         |\n",
      "|    entropy_loss         | -43         |\n",
      "|    explained_variance   | -0.0301     |\n",
      "|    learning_rate        | 0.00025     |\n",
      "|    loss                 | 7.04        |\n",
      "|    n_updates            | 100         |\n",
      "|    policy_gradient_loss | -0.0158     |\n",
      "|    std                  | 1.01        |\n",
      "|    value_loss           | 16          |\n",
      "-----------------------------------------\n",
      "[1000000, 38.39591979980469, 91.69662475585938, 313.3722229003906, 118.78218841552734, 40.123985290527344, 97.55754852294922, 72.68486785888672, 108.32612609863281, 159.20101928710938, 162.39141845703125, 100.57974243164062, 44.13541793823242, 121.43285369873047, 90.1629638671875, 44.01080322265625, 168.1305389404297, 176.2595672607422, 71.46668243408203, 98.81327819824219, 72.5230484008789, 37.58075714111328, 86.1761703491211, 63.318092346191406, 113.30058288574219, 240.15750122070312, 129.90611267089844, 50.585201263427734, 62.84025573730469, 89.07861328125, 58.40364074707031, 0, 0, 0, 0, 0, 0, 0, 0, 0, 0, 0, 0, 0, 0, 0, 0, 0, 0, 0, 0, 0, 0, 0, 0, 0, 0, 0, 0, 0, 0, -2.141041777965299, -3.552996723704098, -6.5322711673567255, -0.8822167825157834, -0.9799449674846201, -2.1934933168446946, -1.5881746002519037, -1.8656878145195321, -9.081052234113486, -2.2328399684980695, -2.5064249292951075, -0.32983955379442875, -4.102228793422313, -2.889179649527293, -0.37578329318664316, -1.5821942612953137, -3.034807609728148, -0.045701227715255754, -1.989642958275212, -0.4748045008294781, -0.31164924659512394, -0.15894413380489425, -3.133430619057208, -2.131574045626138, -6.482025623390342, -2.418196932413707, -0.7203707316276251, -3.300559169558241, -1.471619326161104, -2.482863766377193, 44.89222937062273, 111.36300186108039, 342.3288102466892, 126.67958024706634, 46.44073180391163, 109.87818312548369, 79.24678590247271, 116.00920992712938, 183.72168296997975, 172.42401221239166, 112.84118430770924, 47.093767508572306, 146.13142281352663, 102.46208811195226, 47.241389960329904, 180.68020637252235, 194.97220106715525, 74.8504874798056, 111.03721923065173, 76.32536173026364, 40.01830623171267, 90.78252295363133, 76.30022868521357, 122.41246286212751, 280.59340399289977, 143.4834898780203, 54.110994390695964, 82.90719216847779, 94.16250629297969, 71.25044242697746, 35.42519998118391, 84.31483017016961, 286.26962725331083, 108.34965101514068, 36.98808708952099, 90.85056977368625, 66.18410704186323, 101.20333890099562, 146.34521766478585, 150.74925286329196, 95.16874611221265, 41.39900478451852, 110.47156562031124, 83.03143300621181, 42.87990406127654, 161.07342979691126, 165.57457627659477, 67.03753360784088, 92.71542816925061, 66.07668294747074, 34.95035793759885, 82.91795693528469, 59.85034428231572, 106.4833669108217, 220.07980462526427, 120.76131984488012, 47.78192667558821, 57.18987165903686, 82.19729747899297, 54.73835189980477, 37.75982395986877, 40.71624994037739, 46.64540885675644, 48.70144022030136, 45.64467817344928, 44.26132208143357, 44.25409807748751, 47.83996928295028, 35.63770200737305, 46.11224841619744, 40.96224776697351, 49.89366863333349, 41.26482814247898, 40.52048034036802, 48.47799005016877, 50.88586612857365, 45.978325437708534, 55.80481396385381, 46.14623869121712, 49.76676606841861, 51.63699466969182, 53.62612687484355, 34.35809840118678, 45.04135387279997, 44.5684146391877, 46.509202260278585, 49.63783502247345, 38.307205284058206, 48.35169659019782, 36.543217733002415, -91.67054593629385, -109.8383479335725, -17.475572612221523, 12.329529747675878, -77.47324681094723, -77.33962585106755, -42.732092003419446, -58.14510275151008, -84.41152060393719, 4.262368100547874, -97.52338683742417, -24.206099345364137, -89.21712725299025, -72.56607081986824, -120.16042968973726, -88.61097854653455, -82.70331590720775, 18.678406608105853, -71.4198239196824, 50.30535743909069, -8.022870249083393, -49.06712720073598, -130.13339802496432, -66.78446212683663, -82.54308811269033, -59.798289371470325, -70.49851911199754, -124.28460705024102, -17.69249758632144, -120.07785559844123, 39.21273713115692, 30.453011992404555, 9.047314956629457, 5.499285014878643, 24.349465497595983, 18.674706573890372, 0.5037544821377812, 13.997383580478868, 29.32770159143419, 1.9913665820095818, 28.430069581600943, 1.8729404826432607, 38.63512730261832, 22.315559742186643, 13.005381083863785, 19.81702222548818, 15.178812041846507, 0.6113816125882416, 16.71149438381473, 8.357815156369787, 6.498120288227792, 8.013845497751616, 55.39295086435475, 35.542858223546276, 22.914261916465172, 15.829087664939708, 14.948583054220851, 57.4119284443266, 1.9382079525904927, 38.68347837075397, 41.427544657389326, 100.1662841796875, 315.0024037679037, 117.73522415161133, 41.98094584147135, 101.87928746541341, 74.36122589111328, 109.81524073282877, 172.00625762939453, 162.00941111246746, 104.7405616760254, 44.481499354044594, 130.70966313680012, 95.50019989013671, 45.252423731486004, 172.0068593343099, 182.44998118082682, 70.7762446085612, 102.38918431599934, 71.21157328287761, 37.573584111531574, 86.85305226643881, 70.41919021606445, 116.69815724690756, 252.94693857828776, 133.03675867716473, 51.85478057861328, 71.89152615865072, 89.29732182820638, 64.20575040181478, 46.69040864308675, 100.4800532023112, 332.99889882405597, 120.29204368591309, 42.22139949798584, 102.97162348429362, 76.19156150817871, 111.52368125915527, 190.53668238321941, 167.6039156595866, 109.24550806681314, 43.884673500061034, 130.74426816304523, 98.05444679260253, 44.338623428344725, 167.7947914123535, 182.2012171427409, 68.91559403737386, 103.5944315592448, 72.6252488454183, 37.520247840881346, 83.96607894897461, 73.4315902709961, 117.68082796732584, 253.82371215820314, 135.27827339172364, 51.14293855031331, 71.3548786799113, 91.69127909342448, 66.56452528635661]\n",
      "-----------------------------------------\n",
      "| environment/            |             |\n",
      "|    portfolio_value      | 3.12e+06    |\n",
      "|    total_cost           | 2.63e+05    |\n",
      "|    total_reward         | 2.12e+06    |\n",
      "|    total_reward_pct     | 212         |\n",
      "|    total_trades         | 71360       |\n",
      "| time/                   |             |\n",
      "|    fps                  | 151         |\n",
      "|    iterations           | 12          |\n",
      "|    time_elapsed         | 162         |\n",
      "|    total_timesteps      | 24576       |\n",
      "| train/                  |             |\n",
      "|    approx_kl            | 0.025425687 |\n",
      "|    clip_fraction        | 0.178       |\n",
      "|    clip_range           | 0.2         |\n",
      "|    entropy_loss         | -43         |\n",
      "|    explained_variance   | -0.0198     |\n",
      "|    learning_rate        | 0.00025     |\n",
      "|    loss                 | 8.63        |\n",
      "|    n_updates            | 110         |\n",
      "|    policy_gradient_loss | -0.0114     |\n",
      "|    std                  | 1.02        |\n",
      "|    value_loss           | 19.7        |\n",
      "-----------------------------------------\n"
     ]
    },
    {
     "name": "stdout",
     "output_type": "stream",
     "text": [
      "[1000000, 38.39591979980469, 91.69662475585938, 313.3722229003906, 118.78218841552734, 40.123985290527344, 97.55754852294922, 72.68486785888672, 108.32612609863281, 159.20101928710938, 162.39141845703125, 100.57974243164062, 44.13541793823242, 121.43285369873047, 90.1629638671875, 44.01080322265625, 168.1305389404297, 176.2595672607422, 71.46668243408203, 98.81327819824219, 72.5230484008789, 37.58075714111328, 86.1761703491211, 63.318092346191406, 113.30058288574219, 240.15750122070312, 129.90611267089844, 50.585201263427734, 62.84025573730469, 89.07861328125, 58.40364074707031, 0, 0, 0, 0, 0, 0, 0, 0, 0, 0, 0, 0, 0, 0, 0, 0, 0, 0, 0, 0, 0, 0, 0, 0, 0, 0, 0, 0, 0, 0, -2.141041777965299, -3.552996723704098, -6.5322711673567255, -0.8822167825157834, -0.9799449674846201, -2.1934933168446946, -1.5881746002519037, -1.8656878145195321, -9.081052234113486, -2.2328399684980695, -2.5064249292951075, -0.32983955379442875, -4.102228793422313, -2.889179649527293, -0.37578329318664316, -1.5821942612953137, -3.034807609728148, -0.045701227715255754, -1.989642958275212, -0.4748045008294781, -0.31164924659512394, -0.15894413380489425, -3.133430619057208, -2.131574045626138, -6.482025623390342, -2.418196932413707, -0.7203707316276251, -3.300559169558241, -1.471619326161104, -2.482863766377193, 44.89222937062273, 111.36300186108039, 342.3288102466892, 126.67958024706634, 46.44073180391163, 109.87818312548369, 79.24678590247271, 116.00920992712938, 183.72168296997975, 172.42401221239166, 112.84118430770924, 47.093767508572306, 146.13142281352663, 102.46208811195226, 47.241389960329904, 180.68020637252235, 194.97220106715525, 74.8504874798056, 111.03721923065173, 76.32536173026364, 40.01830623171267, 90.78252295363133, 76.30022868521357, 122.41246286212751, 280.59340399289977, 143.4834898780203, 54.110994390695964, 82.90719216847779, 94.16250629297969, 71.25044242697746, 35.42519998118391, 84.31483017016961, 286.26962725331083, 108.34965101514068, 36.98808708952099, 90.85056977368625, 66.18410704186323, 101.20333890099562, 146.34521766478585, 150.74925286329196, 95.16874611221265, 41.39900478451852, 110.47156562031124, 83.03143300621181, 42.87990406127654, 161.07342979691126, 165.57457627659477, 67.03753360784088, 92.71542816925061, 66.07668294747074, 34.95035793759885, 82.91795693528469, 59.85034428231572, 106.4833669108217, 220.07980462526427, 120.76131984488012, 47.78192667558821, 57.18987165903686, 82.19729747899297, 54.73835189980477, 37.75982395986877, 40.71624994037739, 46.64540885675644, 48.70144022030136, 45.64467817344928, 44.26132208143357, 44.25409807748751, 47.83996928295028, 35.63770200737305, 46.11224841619744, 40.96224776697351, 49.89366863333349, 41.26482814247898, 40.52048034036802, 48.47799005016877, 50.88586612857365, 45.978325437708534, 55.80481396385381, 46.14623869121712, 49.76676606841861, 51.63699466969182, 53.62612687484355, 34.35809840118678, 45.04135387279997, 44.5684146391877, 46.509202260278585, 49.63783502247345, 38.307205284058206, 48.35169659019782, 36.543217733002415, -91.67054593629385, -109.8383479335725, -17.475572612221523, 12.329529747675878, -77.47324681094723, -77.33962585106755, -42.732092003419446, -58.14510275151008, -84.41152060393719, 4.262368100547874, -97.52338683742417, -24.206099345364137, -89.21712725299025, -72.56607081986824, -120.16042968973726, -88.61097854653455, -82.70331590720775, 18.678406608105853, -71.4198239196824, 50.30535743909069, -8.022870249083393, -49.06712720073598, -130.13339802496432, -66.78446212683663, -82.54308811269033, -59.798289371470325, -70.49851911199754, -124.28460705024102, -17.69249758632144, -120.07785559844123, 39.21273713115692, 30.453011992404555, 9.047314956629457, 5.499285014878643, 24.349465497595983, 18.674706573890372, 0.5037544821377812, 13.997383580478868, 29.32770159143419, 1.9913665820095818, 28.430069581600943, 1.8729404826432607, 38.63512730261832, 22.315559742186643, 13.005381083863785, 19.81702222548818, 15.178812041846507, 0.6113816125882416, 16.71149438381473, 8.357815156369787, 6.498120288227792, 8.013845497751616, 55.39295086435475, 35.542858223546276, 22.914261916465172, 15.829087664939708, 14.948583054220851, 57.4119284443266, 1.9382079525904927, 38.68347837075397, 41.427544657389326, 100.1662841796875, 315.0024037679037, 117.73522415161133, 41.98094584147135, 101.87928746541341, 74.36122589111328, 109.81524073282877, 172.00625762939453, 162.00941111246746, 104.7405616760254, 44.481499354044594, 130.70966313680012, 95.50019989013671, 45.252423731486004, 172.0068593343099, 182.44998118082682, 70.7762446085612, 102.38918431599934, 71.21157328287761, 37.573584111531574, 86.85305226643881, 70.41919021606445, 116.69815724690756, 252.94693857828776, 133.03675867716473, 51.85478057861328, 71.89152615865072, 89.29732182820638, 64.20575040181478, 46.69040864308675, 100.4800532023112, 332.99889882405597, 120.29204368591309, 42.22139949798584, 102.97162348429362, 76.19156150817871, 111.52368125915527, 190.53668238321941, 167.6039156595866, 109.24550806681314, 43.884673500061034, 130.74426816304523, 98.05444679260253, 44.338623428344725, 167.7947914123535, 182.2012171427409, 68.91559403737386, 103.5944315592448, 72.6252488454183, 37.520247840881346, 83.96607894897461, 73.4315902709961, 117.68082796732584, 253.82371215820314, 135.27827339172364, 51.14293855031331, 71.3548786799113, 91.69127909342448, 66.56452528635661]\n",
      "-----------------------------------------\n",
      "| environment/            |             |\n",
      "|    portfolio_value      | 2.73e+06    |\n",
      "|    total_cost           | 2.47e+05    |\n",
      "|    total_reward         | 1.73e+06    |\n",
      "|    total_reward_pct     | 173         |\n",
      "|    total_trades         | 70317       |\n",
      "| time/                   |             |\n",
      "|    fps                  | 150         |\n",
      "|    iterations           | 13          |\n",
      "|    time_elapsed         | 176         |\n",
      "|    total_timesteps      | 26624       |\n",
      "| train/                  |             |\n",
      "|    approx_kl            | 0.017967867 |\n",
      "|    clip_fraction        | 0.23        |\n",
      "|    clip_range           | 0.2         |\n",
      "|    entropy_loss         | -43.1       |\n",
      "|    explained_variance   | -0.0253     |\n",
      "|    learning_rate        | 0.00025     |\n",
      "|    loss                 | 6.35        |\n",
      "|    n_updates            | 120         |\n",
      "|    policy_gradient_loss | -0.0274     |\n",
      "|    std                  | 1.02        |\n",
      "|    value_loss           | 15.4        |\n",
      "-----------------------------------------\n",
      "[1000000, 38.39591979980469, 91.69662475585938, 313.3722229003906, 118.78218841552734, 40.123985290527344, 97.55754852294922, 72.68486785888672, 108.32612609863281, 159.20101928710938, 162.39141845703125, 100.57974243164062, 44.13541793823242, 121.43285369873047, 90.1629638671875, 44.01080322265625, 168.1305389404297, 176.2595672607422, 71.46668243408203, 98.81327819824219, 72.5230484008789, 37.58075714111328, 86.1761703491211, 63.318092346191406, 113.30058288574219, 240.15750122070312, 129.90611267089844, 50.585201263427734, 62.84025573730469, 89.07861328125, 58.40364074707031, 0, 0, 0, 0, 0, 0, 0, 0, 0, 0, 0, 0, 0, 0, 0, 0, 0, 0, 0, 0, 0, 0, 0, 0, 0, 0, 0, 0, 0, 0, -2.141041777965299, -3.552996723704098, -6.5322711673567255, -0.8822167825157834, -0.9799449674846201, -2.1934933168446946, -1.5881746002519037, -1.8656878145195321, -9.081052234113486, -2.2328399684980695, -2.5064249292951075, -0.32983955379442875, -4.102228793422313, -2.889179649527293, -0.37578329318664316, -1.5821942612953137, -3.034807609728148, -0.045701227715255754, -1.989642958275212, -0.4748045008294781, -0.31164924659512394, -0.15894413380489425, -3.133430619057208, -2.131574045626138, -6.482025623390342, -2.418196932413707, -0.7203707316276251, -3.300559169558241, -1.471619326161104, -2.482863766377193, 44.89222937062273, 111.36300186108039, 342.3288102466892, 126.67958024706634, 46.44073180391163, 109.87818312548369, 79.24678590247271, 116.00920992712938, 183.72168296997975, 172.42401221239166, 112.84118430770924, 47.093767508572306, 146.13142281352663, 102.46208811195226, 47.241389960329904, 180.68020637252235, 194.97220106715525, 74.8504874798056, 111.03721923065173, 76.32536173026364, 40.01830623171267, 90.78252295363133, 76.30022868521357, 122.41246286212751, 280.59340399289977, 143.4834898780203, 54.110994390695964, 82.90719216847779, 94.16250629297969, 71.25044242697746, 35.42519998118391, 84.31483017016961, 286.26962725331083, 108.34965101514068, 36.98808708952099, 90.85056977368625, 66.18410704186323, 101.20333890099562, 146.34521766478585, 150.74925286329196, 95.16874611221265, 41.39900478451852, 110.47156562031124, 83.03143300621181, 42.87990406127654, 161.07342979691126, 165.57457627659477, 67.03753360784088, 92.71542816925061, 66.07668294747074, 34.95035793759885, 82.91795693528469, 59.85034428231572, 106.4833669108217, 220.07980462526427, 120.76131984488012, 47.78192667558821, 57.18987165903686, 82.19729747899297, 54.73835189980477, 37.75982395986877, 40.71624994037739, 46.64540885675644, 48.70144022030136, 45.64467817344928, 44.26132208143357, 44.25409807748751, 47.83996928295028, 35.63770200737305, 46.11224841619744, 40.96224776697351, 49.89366863333349, 41.26482814247898, 40.52048034036802, 48.47799005016877, 50.88586612857365, 45.978325437708534, 55.80481396385381, 46.14623869121712, 49.76676606841861, 51.63699466969182, 53.62612687484355, 34.35809840118678, 45.04135387279997, 44.5684146391877, 46.509202260278585, 49.63783502247345, 38.307205284058206, 48.35169659019782, 36.543217733002415, -91.67054593629385, -109.8383479335725, -17.475572612221523, 12.329529747675878, -77.47324681094723, -77.33962585106755, -42.732092003419446, -58.14510275151008, -84.41152060393719, 4.262368100547874, -97.52338683742417, -24.206099345364137, -89.21712725299025, -72.56607081986824, -120.16042968973726, -88.61097854653455, -82.70331590720775, 18.678406608105853, -71.4198239196824, 50.30535743909069, -8.022870249083393, -49.06712720073598, -130.13339802496432, -66.78446212683663, -82.54308811269033, -59.798289371470325, -70.49851911199754, -124.28460705024102, -17.69249758632144, -120.07785559844123, 39.21273713115692, 30.453011992404555, 9.047314956629457, 5.499285014878643, 24.349465497595983, 18.674706573890372, 0.5037544821377812, 13.997383580478868, 29.32770159143419, 1.9913665820095818, 28.430069581600943, 1.8729404826432607, 38.63512730261832, 22.315559742186643, 13.005381083863785, 19.81702222548818, 15.178812041846507, 0.6113816125882416, 16.71149438381473, 8.357815156369787, 6.498120288227792, 8.013845497751616, 55.39295086435475, 35.542858223546276, 22.914261916465172, 15.829087664939708, 14.948583054220851, 57.4119284443266, 1.9382079525904927, 38.68347837075397, 41.427544657389326, 100.1662841796875, 315.0024037679037, 117.73522415161133, 41.98094584147135, 101.87928746541341, 74.36122589111328, 109.81524073282877, 172.00625762939453, 162.00941111246746, 104.7405616760254, 44.481499354044594, 130.70966313680012, 95.50019989013671, 45.252423731486004, 172.0068593343099, 182.44998118082682, 70.7762446085612, 102.38918431599934, 71.21157328287761, 37.573584111531574, 86.85305226643881, 70.41919021606445, 116.69815724690756, 252.94693857828776, 133.03675867716473, 51.85478057861328, 71.89152615865072, 89.29732182820638, 64.20575040181478, 46.69040864308675, 100.4800532023112, 332.99889882405597, 120.29204368591309, 42.22139949798584, 102.97162348429362, 76.19156150817871, 111.52368125915527, 190.53668238321941, 167.6039156595866, 109.24550806681314, 43.884673500061034, 130.74426816304523, 98.05444679260253, 44.338623428344725, 167.7947914123535, 182.2012171427409, 68.91559403737386, 103.5944315592448, 72.6252488454183, 37.520247840881346, 83.96607894897461, 73.4315902709961, 117.68082796732584, 253.82371215820314, 135.27827339172364, 51.14293855031331, 71.3548786799113, 91.69127909342448, 66.56452528635661]\n"
     ]
    },
    {
     "name": "stdout",
     "output_type": "stream",
     "text": [
      "-----------------------------------------\n",
      "| environment/            |             |\n",
      "|    portfolio_value      | 3.69e+06    |\n",
      "|    total_cost           | 2.5e+05     |\n",
      "|    total_reward         | 2.69e+06    |\n",
      "|    total_reward_pct     | 269         |\n",
      "|    total_trades         | 70253       |\n",
      "| time/                   |             |\n",
      "|    fps                  | 150         |\n",
      "|    iterations           | 14          |\n",
      "|    time_elapsed         | 190         |\n",
      "|    total_timesteps      | 28672       |\n",
      "| train/                  |             |\n",
      "|    approx_kl            | 0.023096588 |\n",
      "|    clip_fraction        | 0.227       |\n",
      "|    clip_range           | 0.2         |\n",
      "|    entropy_loss         | -43.1       |\n",
      "|    explained_variance   | 0.00741     |\n",
      "|    learning_rate        | 0.00025     |\n",
      "|    loss                 | 11.2        |\n",
      "|    n_updates            | 130         |\n",
      "|    policy_gradient_loss | -0.0223     |\n",
      "|    std                  | 1.02        |\n",
      "|    value_loss           | 19.5        |\n",
      "-----------------------------------------\n",
      "[1000000, 38.39591979980469, 91.69662475585938, 313.3722229003906, 118.78218841552734, 40.123985290527344, 97.55754852294922, 72.68486785888672, 108.32612609863281, 159.20101928710938, 162.39141845703125, 100.57974243164062, 44.13541793823242, 121.43285369873047, 90.1629638671875, 44.01080322265625, 168.1305389404297, 176.2595672607422, 71.46668243408203, 98.81327819824219, 72.5230484008789, 37.58075714111328, 86.1761703491211, 63.318092346191406, 113.30058288574219, 240.15750122070312, 129.90611267089844, 50.585201263427734, 62.84025573730469, 89.07861328125, 58.40364074707031, 0, 0, 0, 0, 0, 0, 0, 0, 0, 0, 0, 0, 0, 0, 0, 0, 0, 0, 0, 0, 0, 0, 0, 0, 0, 0, 0, 0, 0, 0, -2.141041777965299, -3.552996723704098, -6.5322711673567255, -0.8822167825157834, -0.9799449674846201, -2.1934933168446946, -1.5881746002519037, -1.8656878145195321, -9.081052234113486, -2.2328399684980695, -2.5064249292951075, -0.32983955379442875, -4.102228793422313, -2.889179649527293, -0.37578329318664316, -1.5821942612953137, -3.034807609728148, -0.045701227715255754, -1.989642958275212, -0.4748045008294781, -0.31164924659512394, -0.15894413380489425, -3.133430619057208, -2.131574045626138, -6.482025623390342, -2.418196932413707, -0.7203707316276251, -3.300559169558241, -1.471619326161104, -2.482863766377193, 44.89222937062273, 111.36300186108039, 342.3288102466892, 126.67958024706634, 46.44073180391163, 109.87818312548369, 79.24678590247271, 116.00920992712938, 183.72168296997975, 172.42401221239166, 112.84118430770924, 47.093767508572306, 146.13142281352663, 102.46208811195226, 47.241389960329904, 180.68020637252235, 194.97220106715525, 74.8504874798056, 111.03721923065173, 76.32536173026364, 40.01830623171267, 90.78252295363133, 76.30022868521357, 122.41246286212751, 280.59340399289977, 143.4834898780203, 54.110994390695964, 82.90719216847779, 94.16250629297969, 71.25044242697746, 35.42519998118391, 84.31483017016961, 286.26962725331083, 108.34965101514068, 36.98808708952099, 90.85056977368625, 66.18410704186323, 101.20333890099562, 146.34521766478585, 150.74925286329196, 95.16874611221265, 41.39900478451852, 110.47156562031124, 83.03143300621181, 42.87990406127654, 161.07342979691126, 165.57457627659477, 67.03753360784088, 92.71542816925061, 66.07668294747074, 34.95035793759885, 82.91795693528469, 59.85034428231572, 106.4833669108217, 220.07980462526427, 120.76131984488012, 47.78192667558821, 57.18987165903686, 82.19729747899297, 54.73835189980477, 37.75982395986877, 40.71624994037739, 46.64540885675644, 48.70144022030136, 45.64467817344928, 44.26132208143357, 44.25409807748751, 47.83996928295028, 35.63770200737305, 46.11224841619744, 40.96224776697351, 49.89366863333349, 41.26482814247898, 40.52048034036802, 48.47799005016877, 50.88586612857365, 45.978325437708534, 55.80481396385381, 46.14623869121712, 49.76676606841861, 51.63699466969182, 53.62612687484355, 34.35809840118678, 45.04135387279997, 44.5684146391877, 46.509202260278585, 49.63783502247345, 38.307205284058206, 48.35169659019782, 36.543217733002415, -91.67054593629385, -109.8383479335725, -17.475572612221523, 12.329529747675878, -77.47324681094723, -77.33962585106755, -42.732092003419446, -58.14510275151008, -84.41152060393719, 4.262368100547874, -97.52338683742417, -24.206099345364137, -89.21712725299025, -72.56607081986824, -120.16042968973726, -88.61097854653455, -82.70331590720775, 18.678406608105853, -71.4198239196824, 50.30535743909069, -8.022870249083393, -49.06712720073598, -130.13339802496432, -66.78446212683663, -82.54308811269033, -59.798289371470325, -70.49851911199754, -124.28460705024102, -17.69249758632144, -120.07785559844123, 39.21273713115692, 30.453011992404555, 9.047314956629457, 5.499285014878643, 24.349465497595983, 18.674706573890372, 0.5037544821377812, 13.997383580478868, 29.32770159143419, 1.9913665820095818, 28.430069581600943, 1.8729404826432607, 38.63512730261832, 22.315559742186643, 13.005381083863785, 19.81702222548818, 15.178812041846507, 0.6113816125882416, 16.71149438381473, 8.357815156369787, 6.498120288227792, 8.013845497751616, 55.39295086435475, 35.542858223546276, 22.914261916465172, 15.829087664939708, 14.948583054220851, 57.4119284443266, 1.9382079525904927, 38.68347837075397, 41.427544657389326, 100.1662841796875, 315.0024037679037, 117.73522415161133, 41.98094584147135, 101.87928746541341, 74.36122589111328, 109.81524073282877, 172.00625762939453, 162.00941111246746, 104.7405616760254, 44.481499354044594, 130.70966313680012, 95.50019989013671, 45.252423731486004, 172.0068593343099, 182.44998118082682, 70.7762446085612, 102.38918431599934, 71.21157328287761, 37.573584111531574, 86.85305226643881, 70.41919021606445, 116.69815724690756, 252.94693857828776, 133.03675867716473, 51.85478057861328, 71.89152615865072, 89.29732182820638, 64.20575040181478, 46.69040864308675, 100.4800532023112, 332.99889882405597, 120.29204368591309, 42.22139949798584, 102.97162348429362, 76.19156150817871, 111.52368125915527, 190.53668238321941, 167.6039156595866, 109.24550806681314, 43.884673500061034, 130.74426816304523, 98.05444679260253, 44.338623428344725, 167.7947914123535, 182.2012171427409, 68.91559403737386, 103.5944315592448, 72.6252488454183, 37.520247840881346, 83.96607894897461, 73.4315902709961, 117.68082796732584, 253.82371215820314, 135.27827339172364, 51.14293855031331, 71.3548786799113, 91.69127909342448, 66.56452528635661]\n",
      "----------------------------------------\n",
      "| environment/            |            |\n",
      "|    portfolio_value      | 2.75e+06   |\n",
      "|    total_cost           | 2.53e+05   |\n",
      "|    total_reward         | 1.75e+06   |\n",
      "|    total_reward_pct     | 175        |\n",
      "|    total_trades         | 70386      |\n",
      "| time/                   |            |\n",
      "|    fps                  | 150        |\n",
      "|    iterations           | 15         |\n",
      "|    time_elapsed         | 204        |\n",
      "|    total_timesteps      | 30720      |\n",
      "| train/                  |            |\n",
      "|    approx_kl            | 0.02329928 |\n",
      "|    clip_fraction        | 0.167      |\n",
      "|    clip_range           | 0.2        |\n",
      "|    entropy_loss         | -43.1      |\n",
      "|    explained_variance   | -0.0266    |\n",
      "|    learning_rate        | 0.00025    |\n",
      "|    loss                 | 18.7       |\n",
      "|    n_updates            | 140        |\n",
      "|    policy_gradient_loss | -0.0129    |\n",
      "|    std                  | 1.02       |\n",
      "|    value_loss           | 38.3       |\n",
      "----------------------------------------\n",
      "[1000000, 38.39591979980469, 91.69662475585938, 313.3722229003906, 118.78218841552734, 40.123985290527344, 97.55754852294922, 72.68486785888672, 108.32612609863281, 159.20101928710938, 162.39141845703125, 100.57974243164062, 44.13541793823242, 121.43285369873047, 90.1629638671875, 44.01080322265625, 168.1305389404297, 176.2595672607422, 71.46668243408203, 98.81327819824219, 72.5230484008789, 37.58075714111328, 86.1761703491211, 63.318092346191406, 113.30058288574219, 240.15750122070312, 129.90611267089844, 50.585201263427734, 62.84025573730469, 89.07861328125, 58.40364074707031, 0, 0, 0, 0, 0, 0, 0, 0, 0, 0, 0, 0, 0, 0, 0, 0, 0, 0, 0, 0, 0, 0, 0, 0, 0, 0, 0, 0, 0, 0, -2.141041777965299, -3.552996723704098, -6.5322711673567255, -0.8822167825157834, -0.9799449674846201, -2.1934933168446946, -1.5881746002519037, -1.8656878145195321, -9.081052234113486, -2.2328399684980695, -2.5064249292951075, -0.32983955379442875, -4.102228793422313, -2.889179649527293, -0.37578329318664316, -1.5821942612953137, -3.034807609728148, -0.045701227715255754, -1.989642958275212, -0.4748045008294781, -0.31164924659512394, -0.15894413380489425, -3.133430619057208, -2.131574045626138, -6.482025623390342, -2.418196932413707, -0.7203707316276251, -3.300559169558241, -1.471619326161104, -2.482863766377193, 44.89222937062273, 111.36300186108039, 342.3288102466892, 126.67958024706634, 46.44073180391163, 109.87818312548369, 79.24678590247271, 116.00920992712938, 183.72168296997975, 172.42401221239166, 112.84118430770924, 47.093767508572306, 146.13142281352663, 102.46208811195226, 47.241389960329904, 180.68020637252235, 194.97220106715525, 74.8504874798056, 111.03721923065173, 76.32536173026364, 40.01830623171267, 90.78252295363133, 76.30022868521357, 122.41246286212751, 280.59340399289977, 143.4834898780203, 54.110994390695964, 82.90719216847779, 94.16250629297969, 71.25044242697746, 35.42519998118391, 84.31483017016961, 286.26962725331083, 108.34965101514068, 36.98808708952099, 90.85056977368625, 66.18410704186323, 101.20333890099562, 146.34521766478585, 150.74925286329196, 95.16874611221265, 41.39900478451852, 110.47156562031124, 83.03143300621181, 42.87990406127654, 161.07342979691126, 165.57457627659477, 67.03753360784088, 92.71542816925061, 66.07668294747074, 34.95035793759885, 82.91795693528469, 59.85034428231572, 106.4833669108217, 220.07980462526427, 120.76131984488012, 47.78192667558821, 57.18987165903686, 82.19729747899297, 54.73835189980477, 37.75982395986877, 40.71624994037739, 46.64540885675644, 48.70144022030136, 45.64467817344928, 44.26132208143357, 44.25409807748751, 47.83996928295028, 35.63770200737305, 46.11224841619744, 40.96224776697351, 49.89366863333349, 41.26482814247898, 40.52048034036802, 48.47799005016877, 50.88586612857365, 45.978325437708534, 55.80481396385381, 46.14623869121712, 49.76676606841861, 51.63699466969182, 53.62612687484355, 34.35809840118678, 45.04135387279997, 44.5684146391877, 46.509202260278585, 49.63783502247345, 38.307205284058206, 48.35169659019782, 36.543217733002415, -91.67054593629385, -109.8383479335725, -17.475572612221523, 12.329529747675878, -77.47324681094723, -77.33962585106755, -42.732092003419446, -58.14510275151008, -84.41152060393719, 4.262368100547874, -97.52338683742417, -24.206099345364137, -89.21712725299025, -72.56607081986824, -120.16042968973726, -88.61097854653455, -82.70331590720775, 18.678406608105853, -71.4198239196824, 50.30535743909069, -8.022870249083393, -49.06712720073598, -130.13339802496432, -66.78446212683663, -82.54308811269033, -59.798289371470325, -70.49851911199754, -124.28460705024102, -17.69249758632144, -120.07785559844123, 39.21273713115692, 30.453011992404555, 9.047314956629457, 5.499285014878643, 24.349465497595983, 18.674706573890372, 0.5037544821377812, 13.997383580478868, 29.32770159143419, 1.9913665820095818, 28.430069581600943, 1.8729404826432607, 38.63512730261832, 22.315559742186643, 13.005381083863785, 19.81702222548818, 15.178812041846507, 0.6113816125882416, 16.71149438381473, 8.357815156369787, 6.498120288227792, 8.013845497751616, 55.39295086435475, 35.542858223546276, 22.914261916465172, 15.829087664939708, 14.948583054220851, 57.4119284443266, 1.9382079525904927, 38.68347837075397, 41.427544657389326, 100.1662841796875, 315.0024037679037, 117.73522415161133, 41.98094584147135, 101.87928746541341, 74.36122589111328, 109.81524073282877, 172.00625762939453, 162.00941111246746, 104.7405616760254, 44.481499354044594, 130.70966313680012, 95.50019989013671, 45.252423731486004, 172.0068593343099, 182.44998118082682, 70.7762446085612, 102.38918431599934, 71.21157328287761, 37.573584111531574, 86.85305226643881, 70.41919021606445, 116.69815724690756, 252.94693857828776, 133.03675867716473, 51.85478057861328, 71.89152615865072, 89.29732182820638, 64.20575040181478, 46.69040864308675, 100.4800532023112, 332.99889882405597, 120.29204368591309, 42.22139949798584, 102.97162348429362, 76.19156150817871, 111.52368125915527, 190.53668238321941, 167.6039156595866, 109.24550806681314, 43.884673500061034, 130.74426816304523, 98.05444679260253, 44.338623428344725, 167.7947914123535, 182.2012171427409, 68.91559403737386, 103.5944315592448, 72.6252488454183, 37.520247840881346, 83.96607894897461, 73.4315902709961, 117.68082796732584, 253.82371215820314, 135.27827339172364, 51.14293855031331, 71.3548786799113, 91.69127909342448, 66.56452528635661]\n"
     ]
    },
    {
     "name": "stdout",
     "output_type": "stream",
     "text": [
      "----------------------------------------\n",
      "| environment/            |            |\n",
      "|    portfolio_value      | 3.05e+06   |\n",
      "|    total_cost           | 2.63e+05   |\n",
      "|    total_reward         | 2.05e+06   |\n",
      "|    total_reward_pct     | 205        |\n",
      "|    total_trades         | 71392      |\n",
      "| time/                   |            |\n",
      "|    fps                  | 150        |\n",
      "|    iterations           | 16         |\n",
      "|    time_elapsed         | 217        |\n",
      "|    total_timesteps      | 32768      |\n",
      "| train/                  |            |\n",
      "|    approx_kl            | 0.03348986 |\n",
      "|    clip_fraction        | 0.242      |\n",
      "|    clip_range           | 0.2        |\n",
      "|    entropy_loss         | -43.1      |\n",
      "|    explained_variance   | 0.00483    |\n",
      "|    learning_rate        | 0.00025    |\n",
      "|    loss                 | 8.57       |\n",
      "|    n_updates            | 150        |\n",
      "|    policy_gradient_loss | -0.0167    |\n",
      "|    std                  | 1.02       |\n",
      "|    value_loss           | 17.5       |\n",
      "----------------------------------------\n",
      "----------------------------------------\n",
      "| time/                   |            |\n",
      "|    fps                  | 149        |\n",
      "|    iterations           | 17         |\n",
      "|    time_elapsed         | 232        |\n",
      "|    total_timesteps      | 34816      |\n",
      "| train/                  |            |\n",
      "|    approx_kl            | 0.02331462 |\n",
      "|    clip_fraction        | 0.285      |\n",
      "|    clip_range           | 0.2        |\n",
      "|    entropy_loss         | -43.2      |\n",
      "|    explained_variance   | 0.016      |\n",
      "|    learning_rate        | 0.00025    |\n",
      "|    loss                 | 12         |\n",
      "|    n_updates            | 160        |\n",
      "|    policy_gradient_loss | -0.016     |\n",
      "|    std                  | 1.02       |\n",
      "|    value_loss           | 22         |\n",
      "----------------------------------------\n",
      "[1000000, 38.39591979980469, 91.69662475585938, 313.3722229003906, 118.78218841552734, 40.123985290527344, 97.55754852294922, 72.68486785888672, 108.32612609863281, 159.20101928710938, 162.39141845703125, 100.57974243164062, 44.13541793823242, 121.43285369873047, 90.1629638671875, 44.01080322265625, 168.1305389404297, 176.2595672607422, 71.46668243408203, 98.81327819824219, 72.5230484008789, 37.58075714111328, 86.1761703491211, 63.318092346191406, 113.30058288574219, 240.15750122070312, 129.90611267089844, 50.585201263427734, 62.84025573730469, 89.07861328125, 58.40364074707031, 0, 0, 0, 0, 0, 0, 0, 0, 0, 0, 0, 0, 0, 0, 0, 0, 0, 0, 0, 0, 0, 0, 0, 0, 0, 0, 0, 0, 0, 0, -2.141041777965299, -3.552996723704098, -6.5322711673567255, -0.8822167825157834, -0.9799449674846201, -2.1934933168446946, -1.5881746002519037, -1.8656878145195321, -9.081052234113486, -2.2328399684980695, -2.5064249292951075, -0.32983955379442875, -4.102228793422313, -2.889179649527293, -0.37578329318664316, -1.5821942612953137, -3.034807609728148, -0.045701227715255754, -1.989642958275212, -0.4748045008294781, -0.31164924659512394, -0.15894413380489425, -3.133430619057208, -2.131574045626138, -6.482025623390342, -2.418196932413707, -0.7203707316276251, -3.300559169558241, -1.471619326161104, -2.482863766377193, 44.89222937062273, 111.36300186108039, 342.3288102466892, 126.67958024706634, 46.44073180391163, 109.87818312548369, 79.24678590247271, 116.00920992712938, 183.72168296997975, 172.42401221239166, 112.84118430770924, 47.093767508572306, 146.13142281352663, 102.46208811195226, 47.241389960329904, 180.68020637252235, 194.97220106715525, 74.8504874798056, 111.03721923065173, 76.32536173026364, 40.01830623171267, 90.78252295363133, 76.30022868521357, 122.41246286212751, 280.59340399289977, 143.4834898780203, 54.110994390695964, 82.90719216847779, 94.16250629297969, 71.25044242697746, 35.42519998118391, 84.31483017016961, 286.26962725331083, 108.34965101514068, 36.98808708952099, 90.85056977368625, 66.18410704186323, 101.20333890099562, 146.34521766478585, 150.74925286329196, 95.16874611221265, 41.39900478451852, 110.47156562031124, 83.03143300621181, 42.87990406127654, 161.07342979691126, 165.57457627659477, 67.03753360784088, 92.71542816925061, 66.07668294747074, 34.95035793759885, 82.91795693528469, 59.85034428231572, 106.4833669108217, 220.07980462526427, 120.76131984488012, 47.78192667558821, 57.18987165903686, 82.19729747899297, 54.73835189980477, 37.75982395986877, 40.71624994037739, 46.64540885675644, 48.70144022030136, 45.64467817344928, 44.26132208143357, 44.25409807748751, 47.83996928295028, 35.63770200737305, 46.11224841619744, 40.96224776697351, 49.89366863333349, 41.26482814247898, 40.52048034036802, 48.47799005016877, 50.88586612857365, 45.978325437708534, 55.80481396385381, 46.14623869121712, 49.76676606841861, 51.63699466969182, 53.62612687484355, 34.35809840118678, 45.04135387279997, 44.5684146391877, 46.509202260278585, 49.63783502247345, 38.307205284058206, 48.35169659019782, 36.543217733002415, -91.67054593629385, -109.8383479335725, -17.475572612221523, 12.329529747675878, -77.47324681094723, -77.33962585106755, -42.732092003419446, -58.14510275151008, -84.41152060393719, 4.262368100547874, -97.52338683742417, -24.206099345364137, -89.21712725299025, -72.56607081986824, -120.16042968973726, -88.61097854653455, -82.70331590720775, 18.678406608105853, -71.4198239196824, 50.30535743909069, -8.022870249083393, -49.06712720073598, -130.13339802496432, -66.78446212683663, -82.54308811269033, -59.798289371470325, -70.49851911199754, -124.28460705024102, -17.69249758632144, -120.07785559844123, 39.21273713115692, 30.453011992404555, 9.047314956629457, 5.499285014878643, 24.349465497595983, 18.674706573890372, 0.5037544821377812, 13.997383580478868, 29.32770159143419, 1.9913665820095818, 28.430069581600943, 1.8729404826432607, 38.63512730261832, 22.315559742186643, 13.005381083863785, 19.81702222548818, 15.178812041846507, 0.6113816125882416, 16.71149438381473, 8.357815156369787, 6.498120288227792, 8.013845497751616, 55.39295086435475, 35.542858223546276, 22.914261916465172, 15.829087664939708, 14.948583054220851, 57.4119284443266, 1.9382079525904927, 38.68347837075397, 41.427544657389326, 100.1662841796875, 315.0024037679037, 117.73522415161133, 41.98094584147135, 101.87928746541341, 74.36122589111328, 109.81524073282877, 172.00625762939453, 162.00941111246746, 104.7405616760254, 44.481499354044594, 130.70966313680012, 95.50019989013671, 45.252423731486004, 172.0068593343099, 182.44998118082682, 70.7762446085612, 102.38918431599934, 71.21157328287761, 37.573584111531574, 86.85305226643881, 70.41919021606445, 116.69815724690756, 252.94693857828776, 133.03675867716473, 51.85478057861328, 71.89152615865072, 89.29732182820638, 64.20575040181478, 46.69040864308675, 100.4800532023112, 332.99889882405597, 120.29204368591309, 42.22139949798584, 102.97162348429362, 76.19156150817871, 111.52368125915527, 190.53668238321941, 167.6039156595866, 109.24550806681314, 43.884673500061034, 130.74426816304523, 98.05444679260253, 44.338623428344725, 167.7947914123535, 182.2012171427409, 68.91559403737386, 103.5944315592448, 72.6252488454183, 37.520247840881346, 83.96607894897461, 73.4315902709961, 117.68082796732584, 253.82371215820314, 135.27827339172364, 51.14293855031331, 71.3548786799113, 91.69127909342448, 66.56452528635661]\n",
      "-----------------------------------------\n",
      "| environment/            |             |\n",
      "|    portfolio_value      | 2.65e+06    |\n",
      "|    total_cost           | 2.61e+05    |\n",
      "|    total_reward         | 1.65e+06    |\n",
      "|    total_reward_pct     | 165         |\n",
      "|    total_trades         | 71028       |\n",
      "| time/                   |             |\n",
      "|    fps                  | 149         |\n",
      "|    iterations           | 18          |\n",
      "|    time_elapsed         | 246         |\n",
      "|    total_timesteps      | 36864       |\n",
      "| train/                  |             |\n",
      "|    approx_kl            | 0.014488056 |\n",
      "|    clip_fraction        | 0.285       |\n",
      "|    clip_range           | 0.2         |\n",
      "|    entropy_loss         | -43.2       |\n",
      "|    explained_variance   | 0.000973    |\n",
      "|    learning_rate        | 0.00025     |\n",
      "|    loss                 | 6.72        |\n",
      "|    n_updates            | 170         |\n",
      "|    policy_gradient_loss | -0.0208     |\n",
      "|    std                  | 1.02        |\n",
      "|    value_loss           | 13.1        |\n",
      "-----------------------------------------\n"
     ]
    },
    {
     "name": "stdout",
     "output_type": "stream",
     "text": [
      "[1000000, 38.39591979980469, 91.69662475585938, 313.3722229003906, 118.78218841552734, 40.123985290527344, 97.55754852294922, 72.68486785888672, 108.32612609863281, 159.20101928710938, 162.39141845703125, 100.57974243164062, 44.13541793823242, 121.43285369873047, 90.1629638671875, 44.01080322265625, 168.1305389404297, 176.2595672607422, 71.46668243408203, 98.81327819824219, 72.5230484008789, 37.58075714111328, 86.1761703491211, 63.318092346191406, 113.30058288574219, 240.15750122070312, 129.90611267089844, 50.585201263427734, 62.84025573730469, 89.07861328125, 58.40364074707031, 0, 0, 0, 0, 0, 0, 0, 0, 0, 0, 0, 0, 0, 0, 0, 0, 0, 0, 0, 0, 0, 0, 0, 0, 0, 0, 0, 0, 0, 0, -2.141041777965299, -3.552996723704098, -6.5322711673567255, -0.8822167825157834, -0.9799449674846201, -2.1934933168446946, -1.5881746002519037, -1.8656878145195321, -9.081052234113486, -2.2328399684980695, -2.5064249292951075, -0.32983955379442875, -4.102228793422313, -2.889179649527293, -0.37578329318664316, -1.5821942612953137, -3.034807609728148, -0.045701227715255754, -1.989642958275212, -0.4748045008294781, -0.31164924659512394, -0.15894413380489425, -3.133430619057208, -2.131574045626138, -6.482025623390342, -2.418196932413707, -0.7203707316276251, -3.300559169558241, -1.471619326161104, -2.482863766377193, 44.89222937062273, 111.36300186108039, 342.3288102466892, 126.67958024706634, 46.44073180391163, 109.87818312548369, 79.24678590247271, 116.00920992712938, 183.72168296997975, 172.42401221239166, 112.84118430770924, 47.093767508572306, 146.13142281352663, 102.46208811195226, 47.241389960329904, 180.68020637252235, 194.97220106715525, 74.8504874798056, 111.03721923065173, 76.32536173026364, 40.01830623171267, 90.78252295363133, 76.30022868521357, 122.41246286212751, 280.59340399289977, 143.4834898780203, 54.110994390695964, 82.90719216847779, 94.16250629297969, 71.25044242697746, 35.42519998118391, 84.31483017016961, 286.26962725331083, 108.34965101514068, 36.98808708952099, 90.85056977368625, 66.18410704186323, 101.20333890099562, 146.34521766478585, 150.74925286329196, 95.16874611221265, 41.39900478451852, 110.47156562031124, 83.03143300621181, 42.87990406127654, 161.07342979691126, 165.57457627659477, 67.03753360784088, 92.71542816925061, 66.07668294747074, 34.95035793759885, 82.91795693528469, 59.85034428231572, 106.4833669108217, 220.07980462526427, 120.76131984488012, 47.78192667558821, 57.18987165903686, 82.19729747899297, 54.73835189980477, 37.75982395986877, 40.71624994037739, 46.64540885675644, 48.70144022030136, 45.64467817344928, 44.26132208143357, 44.25409807748751, 47.83996928295028, 35.63770200737305, 46.11224841619744, 40.96224776697351, 49.89366863333349, 41.26482814247898, 40.52048034036802, 48.47799005016877, 50.88586612857365, 45.978325437708534, 55.80481396385381, 46.14623869121712, 49.76676606841861, 51.63699466969182, 53.62612687484355, 34.35809840118678, 45.04135387279997, 44.5684146391877, 46.509202260278585, 49.63783502247345, 38.307205284058206, 48.35169659019782, 36.543217733002415, -91.67054593629385, -109.8383479335725, -17.475572612221523, 12.329529747675878, -77.47324681094723, -77.33962585106755, -42.732092003419446, -58.14510275151008, -84.41152060393719, 4.262368100547874, -97.52338683742417, -24.206099345364137, -89.21712725299025, -72.56607081986824, -120.16042968973726, -88.61097854653455, -82.70331590720775, 18.678406608105853, -71.4198239196824, 50.30535743909069, -8.022870249083393, -49.06712720073598, -130.13339802496432, -66.78446212683663, -82.54308811269033, -59.798289371470325, -70.49851911199754, -124.28460705024102, -17.69249758632144, -120.07785559844123, 39.21273713115692, 30.453011992404555, 9.047314956629457, 5.499285014878643, 24.349465497595983, 18.674706573890372, 0.5037544821377812, 13.997383580478868, 29.32770159143419, 1.9913665820095818, 28.430069581600943, 1.8729404826432607, 38.63512730261832, 22.315559742186643, 13.005381083863785, 19.81702222548818, 15.178812041846507, 0.6113816125882416, 16.71149438381473, 8.357815156369787, 6.498120288227792, 8.013845497751616, 55.39295086435475, 35.542858223546276, 22.914261916465172, 15.829087664939708, 14.948583054220851, 57.4119284443266, 1.9382079525904927, 38.68347837075397, 41.427544657389326, 100.1662841796875, 315.0024037679037, 117.73522415161133, 41.98094584147135, 101.87928746541341, 74.36122589111328, 109.81524073282877, 172.00625762939453, 162.00941111246746, 104.7405616760254, 44.481499354044594, 130.70966313680012, 95.50019989013671, 45.252423731486004, 172.0068593343099, 182.44998118082682, 70.7762446085612, 102.38918431599934, 71.21157328287761, 37.573584111531574, 86.85305226643881, 70.41919021606445, 116.69815724690756, 252.94693857828776, 133.03675867716473, 51.85478057861328, 71.89152615865072, 89.29732182820638, 64.20575040181478, 46.69040864308675, 100.4800532023112, 332.99889882405597, 120.29204368591309, 42.22139949798584, 102.97162348429362, 76.19156150817871, 111.52368125915527, 190.53668238321941, 167.6039156595866, 109.24550806681314, 43.884673500061034, 130.74426816304523, 98.05444679260253, 44.338623428344725, 167.7947914123535, 182.2012171427409, 68.91559403737386, 103.5944315592448, 72.6252488454183, 37.520247840881346, 83.96607894897461, 73.4315902709961, 117.68082796732584, 253.82371215820314, 135.27827339172364, 51.14293855031331, 71.3548786799113, 91.69127909342448, 66.56452528635661]\n",
      "-----------------------------------------\n",
      "| environment/            |             |\n",
      "|    portfolio_value      | 2.19e+06    |\n",
      "|    total_cost           | 2.55e+05    |\n",
      "|    total_reward         | 1.19e+06    |\n",
      "|    total_reward_pct     | 119         |\n",
      "|    total_trades         | 70402       |\n",
      "| time/                   |             |\n",
      "|    fps                  | 149         |\n",
      "|    iterations           | 19          |\n",
      "|    time_elapsed         | 260         |\n",
      "|    total_timesteps      | 38912       |\n",
      "| train/                  |             |\n",
      "|    approx_kl            | 0.031216804 |\n",
      "|    clip_fraction        | 0.255       |\n",
      "|    clip_range           | 0.2         |\n",
      "|    entropy_loss         | -43.3       |\n",
      "|    explained_variance   | 0.0257      |\n",
      "|    learning_rate        | 0.00025     |\n",
      "|    loss                 | 7.8         |\n",
      "|    n_updates            | 180         |\n",
      "|    policy_gradient_loss | -0.0194     |\n",
      "|    std                  | 1.03        |\n",
      "|    value_loss           | 15.3        |\n",
      "-----------------------------------------\n",
      "[1000000, 38.39591979980469, 91.69662475585938, 313.3722229003906, 118.78218841552734, 40.123985290527344, 97.55754852294922, 72.68486785888672, 108.32612609863281, 159.20101928710938, 162.39141845703125, 100.57974243164062, 44.13541793823242, 121.43285369873047, 90.1629638671875, 44.01080322265625, 168.1305389404297, 176.2595672607422, 71.46668243408203, 98.81327819824219, 72.5230484008789, 37.58075714111328, 86.1761703491211, 63.318092346191406, 113.30058288574219, 240.15750122070312, 129.90611267089844, 50.585201263427734, 62.84025573730469, 89.07861328125, 58.40364074707031, 0, 0, 0, 0, 0, 0, 0, 0, 0, 0, 0, 0, 0, 0, 0, 0, 0, 0, 0, 0, 0, 0, 0, 0, 0, 0, 0, 0, 0, 0, -2.141041777965299, -3.552996723704098, -6.5322711673567255, -0.8822167825157834, -0.9799449674846201, -2.1934933168446946, -1.5881746002519037, -1.8656878145195321, -9.081052234113486, -2.2328399684980695, -2.5064249292951075, -0.32983955379442875, -4.102228793422313, -2.889179649527293, -0.37578329318664316, -1.5821942612953137, -3.034807609728148, -0.045701227715255754, -1.989642958275212, -0.4748045008294781, -0.31164924659512394, -0.15894413380489425, -3.133430619057208, -2.131574045626138, -6.482025623390342, -2.418196932413707, -0.7203707316276251, -3.300559169558241, -1.471619326161104, -2.482863766377193, 44.89222937062273, 111.36300186108039, 342.3288102466892, 126.67958024706634, 46.44073180391163, 109.87818312548369, 79.24678590247271, 116.00920992712938, 183.72168296997975, 172.42401221239166, 112.84118430770924, 47.093767508572306, 146.13142281352663, 102.46208811195226, 47.241389960329904, 180.68020637252235, 194.97220106715525, 74.8504874798056, 111.03721923065173, 76.32536173026364, 40.01830623171267, 90.78252295363133, 76.30022868521357, 122.41246286212751, 280.59340399289977, 143.4834898780203, 54.110994390695964, 82.90719216847779, 94.16250629297969, 71.25044242697746, 35.42519998118391, 84.31483017016961, 286.26962725331083, 108.34965101514068, 36.98808708952099, 90.85056977368625, 66.18410704186323, 101.20333890099562, 146.34521766478585, 150.74925286329196, 95.16874611221265, 41.39900478451852, 110.47156562031124, 83.03143300621181, 42.87990406127654, 161.07342979691126, 165.57457627659477, 67.03753360784088, 92.71542816925061, 66.07668294747074, 34.95035793759885, 82.91795693528469, 59.85034428231572, 106.4833669108217, 220.07980462526427, 120.76131984488012, 47.78192667558821, 57.18987165903686, 82.19729747899297, 54.73835189980477, 37.75982395986877, 40.71624994037739, 46.64540885675644, 48.70144022030136, 45.64467817344928, 44.26132208143357, 44.25409807748751, 47.83996928295028, 35.63770200737305, 46.11224841619744, 40.96224776697351, 49.89366863333349, 41.26482814247898, 40.52048034036802, 48.47799005016877, 50.88586612857365, 45.978325437708534, 55.80481396385381, 46.14623869121712, 49.76676606841861, 51.63699466969182, 53.62612687484355, 34.35809840118678, 45.04135387279997, 44.5684146391877, 46.509202260278585, 49.63783502247345, 38.307205284058206, 48.35169659019782, 36.543217733002415, -91.67054593629385, -109.8383479335725, -17.475572612221523, 12.329529747675878, -77.47324681094723, -77.33962585106755, -42.732092003419446, -58.14510275151008, -84.41152060393719, 4.262368100547874, -97.52338683742417, -24.206099345364137, -89.21712725299025, -72.56607081986824, -120.16042968973726, -88.61097854653455, -82.70331590720775, 18.678406608105853, -71.4198239196824, 50.30535743909069, -8.022870249083393, -49.06712720073598, -130.13339802496432, -66.78446212683663, -82.54308811269033, -59.798289371470325, -70.49851911199754, -124.28460705024102, -17.69249758632144, -120.07785559844123, 39.21273713115692, 30.453011992404555, 9.047314956629457, 5.499285014878643, 24.349465497595983, 18.674706573890372, 0.5037544821377812, 13.997383580478868, 29.32770159143419, 1.9913665820095818, 28.430069581600943, 1.8729404826432607, 38.63512730261832, 22.315559742186643, 13.005381083863785, 19.81702222548818, 15.178812041846507, 0.6113816125882416, 16.71149438381473, 8.357815156369787, 6.498120288227792, 8.013845497751616, 55.39295086435475, 35.542858223546276, 22.914261916465172, 15.829087664939708, 14.948583054220851, 57.4119284443266, 1.9382079525904927, 38.68347837075397, 41.427544657389326, 100.1662841796875, 315.0024037679037, 117.73522415161133, 41.98094584147135, 101.87928746541341, 74.36122589111328, 109.81524073282877, 172.00625762939453, 162.00941111246746, 104.7405616760254, 44.481499354044594, 130.70966313680012, 95.50019989013671, 45.252423731486004, 172.0068593343099, 182.44998118082682, 70.7762446085612, 102.38918431599934, 71.21157328287761, 37.573584111531574, 86.85305226643881, 70.41919021606445, 116.69815724690756, 252.94693857828776, 133.03675867716473, 51.85478057861328, 71.89152615865072, 89.29732182820638, 64.20575040181478, 46.69040864308675, 100.4800532023112, 332.99889882405597, 120.29204368591309, 42.22139949798584, 102.97162348429362, 76.19156150817871, 111.52368125915527, 190.53668238321941, 167.6039156595866, 109.24550806681314, 43.884673500061034, 130.74426816304523, 98.05444679260253, 44.338623428344725, 167.7947914123535, 182.2012171427409, 68.91559403737386, 103.5944315592448, 72.6252488454183, 37.520247840881346, 83.96607894897461, 73.4315902709961, 117.68082796732584, 253.82371215820314, 135.27827339172364, 51.14293855031331, 71.3548786799113, 91.69127909342448, 66.56452528635661]\n"
     ]
    },
    {
     "name": "stdout",
     "output_type": "stream",
     "text": [
      "-----------------------------------------\n",
      "| environment/            |             |\n",
      "|    portfolio_value      | 2.88e+06    |\n",
      "|    total_cost           | 2.53e+05    |\n",
      "|    total_reward         | 1.88e+06    |\n",
      "|    total_reward_pct     | 188         |\n",
      "|    total_trades         | 70189       |\n",
      "| time/                   |             |\n",
      "|    fps                  | 149         |\n",
      "|    iterations           | 20          |\n",
      "|    time_elapsed         | 273         |\n",
      "|    total_timesteps      | 40960       |\n",
      "| train/                  |             |\n",
      "|    approx_kl            | 0.027499339 |\n",
      "|    clip_fraction        | 0.255       |\n",
      "|    clip_range           | 0.2         |\n",
      "|    entropy_loss         | -43.3       |\n",
      "|    explained_variance   | 0.00184     |\n",
      "|    learning_rate        | 0.00025     |\n",
      "|    loss                 | 9.09        |\n",
      "|    n_updates            | 190         |\n",
      "|    policy_gradient_loss | -0.0175     |\n",
      "|    std                  | 1.03        |\n",
      "|    value_loss           | 24          |\n",
      "-----------------------------------------\n",
      "day: 2515, episode: 40\n",
      "begin_total_asset: 1000000.00\n",
      "end_total_asset: 2055215.64\n",
      "total_reward: 1055215.64\n",
      "total_cost: 257729.91\n",
      "total_trades: 70746\n",
      "Sharpe: 0.521\n",
      "=================================\n",
      "[1000000, 38.39591979980469, 91.69662475585938, 313.3722229003906, 118.78218841552734, 40.123985290527344, 97.55754852294922, 72.68486785888672, 108.32612609863281, 159.20101928710938, 162.39141845703125, 100.57974243164062, 44.13541793823242, 121.43285369873047, 90.1629638671875, 44.01080322265625, 168.1305389404297, 176.2595672607422, 71.46668243408203, 98.81327819824219, 72.5230484008789, 37.58075714111328, 86.1761703491211, 63.318092346191406, 113.30058288574219, 240.15750122070312, 129.90611267089844, 50.585201263427734, 62.84025573730469, 89.07861328125, 58.40364074707031, 0, 0, 0, 0, 0, 0, 0, 0, 0, 0, 0, 0, 0, 0, 0, 0, 0, 0, 0, 0, 0, 0, 0, 0, 0, 0, 0, 0, 0, 0, -2.141041777965299, -3.552996723704098, -6.5322711673567255, -0.8822167825157834, -0.9799449674846201, -2.1934933168446946, -1.5881746002519037, -1.8656878145195321, -9.081052234113486, -2.2328399684980695, -2.5064249292951075, -0.32983955379442875, -4.102228793422313, -2.889179649527293, -0.37578329318664316, -1.5821942612953137, -3.034807609728148, -0.045701227715255754, -1.989642958275212, -0.4748045008294781, -0.31164924659512394, -0.15894413380489425, -3.133430619057208, -2.131574045626138, -6.482025623390342, -2.418196932413707, -0.7203707316276251, -3.300559169558241, -1.471619326161104, -2.482863766377193, 44.89222937062273, 111.36300186108039, 342.3288102466892, 126.67958024706634, 46.44073180391163, 109.87818312548369, 79.24678590247271, 116.00920992712938, 183.72168296997975, 172.42401221239166, 112.84118430770924, 47.093767508572306, 146.13142281352663, 102.46208811195226, 47.241389960329904, 180.68020637252235, 194.97220106715525, 74.8504874798056, 111.03721923065173, 76.32536173026364, 40.01830623171267, 90.78252295363133, 76.30022868521357, 122.41246286212751, 280.59340399289977, 143.4834898780203, 54.110994390695964, 82.90719216847779, 94.16250629297969, 71.25044242697746, 35.42519998118391, 84.31483017016961, 286.26962725331083, 108.34965101514068, 36.98808708952099, 90.85056977368625, 66.18410704186323, 101.20333890099562, 146.34521766478585, 150.74925286329196, 95.16874611221265, 41.39900478451852, 110.47156562031124, 83.03143300621181, 42.87990406127654, 161.07342979691126, 165.57457627659477, 67.03753360784088, 92.71542816925061, 66.07668294747074, 34.95035793759885, 82.91795693528469, 59.85034428231572, 106.4833669108217, 220.07980462526427, 120.76131984488012, 47.78192667558821, 57.18987165903686, 82.19729747899297, 54.73835189980477, 37.75982395986877, 40.71624994037739, 46.64540885675644, 48.70144022030136, 45.64467817344928, 44.26132208143357, 44.25409807748751, 47.83996928295028, 35.63770200737305, 46.11224841619744, 40.96224776697351, 49.89366863333349, 41.26482814247898, 40.52048034036802, 48.47799005016877, 50.88586612857365, 45.978325437708534, 55.80481396385381, 46.14623869121712, 49.76676606841861, 51.63699466969182, 53.62612687484355, 34.35809840118678, 45.04135387279997, 44.5684146391877, 46.509202260278585, 49.63783502247345, 38.307205284058206, 48.35169659019782, 36.543217733002415, -91.67054593629385, -109.8383479335725, -17.475572612221523, 12.329529747675878, -77.47324681094723, -77.33962585106755, -42.732092003419446, -58.14510275151008, -84.41152060393719, 4.262368100547874, -97.52338683742417, -24.206099345364137, -89.21712725299025, -72.56607081986824, -120.16042968973726, -88.61097854653455, -82.70331590720775, 18.678406608105853, -71.4198239196824, 50.30535743909069, -8.022870249083393, -49.06712720073598, -130.13339802496432, -66.78446212683663, -82.54308811269033, -59.798289371470325, -70.49851911199754, -124.28460705024102, -17.69249758632144, -120.07785559844123, 39.21273713115692, 30.453011992404555, 9.047314956629457, 5.499285014878643, 24.349465497595983, 18.674706573890372, 0.5037544821377812, 13.997383580478868, 29.32770159143419, 1.9913665820095818, 28.430069581600943, 1.8729404826432607, 38.63512730261832, 22.315559742186643, 13.005381083863785, 19.81702222548818, 15.178812041846507, 0.6113816125882416, 16.71149438381473, 8.357815156369787, 6.498120288227792, 8.013845497751616, 55.39295086435475, 35.542858223546276, 22.914261916465172, 15.829087664939708, 14.948583054220851, 57.4119284443266, 1.9382079525904927, 38.68347837075397, 41.427544657389326, 100.1662841796875, 315.0024037679037, 117.73522415161133, 41.98094584147135, 101.87928746541341, 74.36122589111328, 109.81524073282877, 172.00625762939453, 162.00941111246746, 104.7405616760254, 44.481499354044594, 130.70966313680012, 95.50019989013671, 45.252423731486004, 172.0068593343099, 182.44998118082682, 70.7762446085612, 102.38918431599934, 71.21157328287761, 37.573584111531574, 86.85305226643881, 70.41919021606445, 116.69815724690756, 252.94693857828776, 133.03675867716473, 51.85478057861328, 71.89152615865072, 89.29732182820638, 64.20575040181478, 46.69040864308675, 100.4800532023112, 332.99889882405597, 120.29204368591309, 42.22139949798584, 102.97162348429362, 76.19156150817871, 111.52368125915527, 190.53668238321941, 167.6039156595866, 109.24550806681314, 43.884673500061034, 130.74426816304523, 98.05444679260253, 44.338623428344725, 167.7947914123535, 182.2012171427409, 68.91559403737386, 103.5944315592448, 72.6252488454183, 37.520247840881346, 83.96607894897461, 73.4315902709961, 117.68082796732584, 253.82371215820314, 135.27827339172364, 51.14293855031331, 71.3548786799113, 91.69127909342448, 66.56452528635661]\n",
      "-----------------------------------------\n",
      "| environment/            |             |\n",
      "|    portfolio_value      | 2.06e+06    |\n",
      "|    total_cost           | 2.58e+05    |\n",
      "|    total_reward         | 1.06e+06    |\n",
      "|    total_reward_pct     | 106         |\n",
      "|    total_trades         | 70746       |\n",
      "| time/                   |             |\n",
      "|    fps                  | 149         |\n",
      "|    iterations           | 21          |\n",
      "|    time_elapsed         | 287         |\n",
      "|    total_timesteps      | 43008       |\n",
      "| train/                  |             |\n",
      "|    approx_kl            | 0.030562691 |\n",
      "|    clip_fraction        | 0.215       |\n",
      "|    clip_range           | 0.2         |\n",
      "|    entropy_loss         | -43.4       |\n",
      "|    explained_variance   | -0.0152     |\n",
      "|    learning_rate        | 0.00025     |\n",
      "|    loss                 | 8.55        |\n",
      "|    n_updates            | 200         |\n",
      "|    policy_gradient_loss | -0.0192     |\n",
      "|    std                  | 1.03        |\n",
      "|    value_loss           | 20.3        |\n",
      "-----------------------------------------\n",
      "-----------------------------------------\n",
      "| time/                   |             |\n",
      "|    fps                  | 149         |\n",
      "|    iterations           | 22          |\n",
      "|    time_elapsed         | 300         |\n",
      "|    total_timesteps      | 45056       |\n",
      "| train/                  |             |\n",
      "|    approx_kl            | 0.017062146 |\n",
      "|    clip_fraction        | 0.217       |\n",
      "|    clip_range           | 0.2         |\n",
      "|    entropy_loss         | -43.4       |\n",
      "|    explained_variance   | -0.00159    |\n",
      "|    learning_rate        | 0.00025     |\n",
      "|    loss                 | 6.6         |\n",
      "|    n_updates            | 210         |\n",
      "|    policy_gradient_loss | -0.015      |\n",
      "|    std                  | 1.03        |\n",
      "|    value_loss           | 14.7        |\n",
      "-----------------------------------------\n"
     ]
    },
    {
     "name": "stdout",
     "output_type": "stream",
     "text": [
      "[1000000, 38.39591979980469, 91.69662475585938, 313.3722229003906, 118.78218841552734, 40.123985290527344, 97.55754852294922, 72.68486785888672, 108.32612609863281, 159.20101928710938, 162.39141845703125, 100.57974243164062, 44.13541793823242, 121.43285369873047, 90.1629638671875, 44.01080322265625, 168.1305389404297, 176.2595672607422, 71.46668243408203, 98.81327819824219, 72.5230484008789, 37.58075714111328, 86.1761703491211, 63.318092346191406, 113.30058288574219, 240.15750122070312, 129.90611267089844, 50.585201263427734, 62.84025573730469, 89.07861328125, 58.40364074707031, 0, 0, 0, 0, 0, 0, 0, 0, 0, 0, 0, 0, 0, 0, 0, 0, 0, 0, 0, 0, 0, 0, 0, 0, 0, 0, 0, 0, 0, 0, -2.141041777965299, -3.552996723704098, -6.5322711673567255, -0.8822167825157834, -0.9799449674846201, -2.1934933168446946, -1.5881746002519037, -1.8656878145195321, -9.081052234113486, -2.2328399684980695, -2.5064249292951075, -0.32983955379442875, -4.102228793422313, -2.889179649527293, -0.37578329318664316, -1.5821942612953137, -3.034807609728148, -0.045701227715255754, -1.989642958275212, -0.4748045008294781, -0.31164924659512394, -0.15894413380489425, -3.133430619057208, -2.131574045626138, -6.482025623390342, -2.418196932413707, -0.7203707316276251, -3.300559169558241, -1.471619326161104, -2.482863766377193, 44.89222937062273, 111.36300186108039, 342.3288102466892, 126.67958024706634, 46.44073180391163, 109.87818312548369, 79.24678590247271, 116.00920992712938, 183.72168296997975, 172.42401221239166, 112.84118430770924, 47.093767508572306, 146.13142281352663, 102.46208811195226, 47.241389960329904, 180.68020637252235, 194.97220106715525, 74.8504874798056, 111.03721923065173, 76.32536173026364, 40.01830623171267, 90.78252295363133, 76.30022868521357, 122.41246286212751, 280.59340399289977, 143.4834898780203, 54.110994390695964, 82.90719216847779, 94.16250629297969, 71.25044242697746, 35.42519998118391, 84.31483017016961, 286.26962725331083, 108.34965101514068, 36.98808708952099, 90.85056977368625, 66.18410704186323, 101.20333890099562, 146.34521766478585, 150.74925286329196, 95.16874611221265, 41.39900478451852, 110.47156562031124, 83.03143300621181, 42.87990406127654, 161.07342979691126, 165.57457627659477, 67.03753360784088, 92.71542816925061, 66.07668294747074, 34.95035793759885, 82.91795693528469, 59.85034428231572, 106.4833669108217, 220.07980462526427, 120.76131984488012, 47.78192667558821, 57.18987165903686, 82.19729747899297, 54.73835189980477, 37.75982395986877, 40.71624994037739, 46.64540885675644, 48.70144022030136, 45.64467817344928, 44.26132208143357, 44.25409807748751, 47.83996928295028, 35.63770200737305, 46.11224841619744, 40.96224776697351, 49.89366863333349, 41.26482814247898, 40.52048034036802, 48.47799005016877, 50.88586612857365, 45.978325437708534, 55.80481396385381, 46.14623869121712, 49.76676606841861, 51.63699466969182, 53.62612687484355, 34.35809840118678, 45.04135387279997, 44.5684146391877, 46.509202260278585, 49.63783502247345, 38.307205284058206, 48.35169659019782, 36.543217733002415, -91.67054593629385, -109.8383479335725, -17.475572612221523, 12.329529747675878, -77.47324681094723, -77.33962585106755, -42.732092003419446, -58.14510275151008, -84.41152060393719, 4.262368100547874, -97.52338683742417, -24.206099345364137, -89.21712725299025, -72.56607081986824, -120.16042968973726, -88.61097854653455, -82.70331590720775, 18.678406608105853, -71.4198239196824, 50.30535743909069, -8.022870249083393, -49.06712720073598, -130.13339802496432, -66.78446212683663, -82.54308811269033, -59.798289371470325, -70.49851911199754, -124.28460705024102, -17.69249758632144, -120.07785559844123, 39.21273713115692, 30.453011992404555, 9.047314956629457, 5.499285014878643, 24.349465497595983, 18.674706573890372, 0.5037544821377812, 13.997383580478868, 29.32770159143419, 1.9913665820095818, 28.430069581600943, 1.8729404826432607, 38.63512730261832, 22.315559742186643, 13.005381083863785, 19.81702222548818, 15.178812041846507, 0.6113816125882416, 16.71149438381473, 8.357815156369787, 6.498120288227792, 8.013845497751616, 55.39295086435475, 35.542858223546276, 22.914261916465172, 15.829087664939708, 14.948583054220851, 57.4119284443266, 1.9382079525904927, 38.68347837075397, 41.427544657389326, 100.1662841796875, 315.0024037679037, 117.73522415161133, 41.98094584147135, 101.87928746541341, 74.36122589111328, 109.81524073282877, 172.00625762939453, 162.00941111246746, 104.7405616760254, 44.481499354044594, 130.70966313680012, 95.50019989013671, 45.252423731486004, 172.0068593343099, 182.44998118082682, 70.7762446085612, 102.38918431599934, 71.21157328287761, 37.573584111531574, 86.85305226643881, 70.41919021606445, 116.69815724690756, 252.94693857828776, 133.03675867716473, 51.85478057861328, 71.89152615865072, 89.29732182820638, 64.20575040181478, 46.69040864308675, 100.4800532023112, 332.99889882405597, 120.29204368591309, 42.22139949798584, 102.97162348429362, 76.19156150817871, 111.52368125915527, 190.53668238321941, 167.6039156595866, 109.24550806681314, 43.884673500061034, 130.74426816304523, 98.05444679260253, 44.338623428344725, 167.7947914123535, 182.2012171427409, 68.91559403737386, 103.5944315592448, 72.6252488454183, 37.520247840881346, 83.96607894897461, 73.4315902709961, 117.68082796732584, 253.82371215820314, 135.27827339172364, 51.14293855031331, 71.3548786799113, 91.69127909342448, 66.56452528635661]\n",
      "-----------------------------------------\n",
      "| environment/            |             |\n",
      "|    portfolio_value      | 2.95e+06    |\n",
      "|    total_cost           | 2.63e+05    |\n",
      "|    total_reward         | 1.95e+06    |\n",
      "|    total_reward_pct     | 195         |\n",
      "|    total_trades         | 70909       |\n",
      "| time/                   |             |\n",
      "|    fps                  | 149         |\n",
      "|    iterations           | 23          |\n",
      "|    time_elapsed         | 314         |\n",
      "|    total_timesteps      | 47104       |\n",
      "| train/                  |             |\n",
      "|    approx_kl            | 0.016978161 |\n",
      "|    clip_fraction        | 0.258       |\n",
      "|    clip_range           | 0.2         |\n",
      "|    entropy_loss         | -43.5       |\n",
      "|    explained_variance   | -0.0452     |\n",
      "|    learning_rate        | 0.00025     |\n",
      "|    loss                 | 5.98        |\n",
      "|    n_updates            | 220         |\n",
      "|    policy_gradient_loss | -0.0196     |\n",
      "|    std                  | 1.03        |\n",
      "|    value_loss           | 17.8        |\n",
      "-----------------------------------------\n",
      "[1000000, 38.39591979980469, 91.69662475585938, 313.3722229003906, 118.78218841552734, 40.123985290527344, 97.55754852294922, 72.68486785888672, 108.32612609863281, 159.20101928710938, 162.39141845703125, 100.57974243164062, 44.13541793823242, 121.43285369873047, 90.1629638671875, 44.01080322265625, 168.1305389404297, 176.2595672607422, 71.46668243408203, 98.81327819824219, 72.5230484008789, 37.58075714111328, 86.1761703491211, 63.318092346191406, 113.30058288574219, 240.15750122070312, 129.90611267089844, 50.585201263427734, 62.84025573730469, 89.07861328125, 58.40364074707031, 0, 0, 0, 0, 0, 0, 0, 0, 0, 0, 0, 0, 0, 0, 0, 0, 0, 0, 0, 0, 0, 0, 0, 0, 0, 0, 0, 0, 0, 0, -2.141041777965299, -3.552996723704098, -6.5322711673567255, -0.8822167825157834, -0.9799449674846201, -2.1934933168446946, -1.5881746002519037, -1.8656878145195321, -9.081052234113486, -2.2328399684980695, -2.5064249292951075, -0.32983955379442875, -4.102228793422313, -2.889179649527293, -0.37578329318664316, -1.5821942612953137, -3.034807609728148, -0.045701227715255754, -1.989642958275212, -0.4748045008294781, -0.31164924659512394, -0.15894413380489425, -3.133430619057208, -2.131574045626138, -6.482025623390342, -2.418196932413707, -0.7203707316276251, -3.300559169558241, -1.471619326161104, -2.482863766377193, 44.89222937062273, 111.36300186108039, 342.3288102466892, 126.67958024706634, 46.44073180391163, 109.87818312548369, 79.24678590247271, 116.00920992712938, 183.72168296997975, 172.42401221239166, 112.84118430770924, 47.093767508572306, 146.13142281352663, 102.46208811195226, 47.241389960329904, 180.68020637252235, 194.97220106715525, 74.8504874798056, 111.03721923065173, 76.32536173026364, 40.01830623171267, 90.78252295363133, 76.30022868521357, 122.41246286212751, 280.59340399289977, 143.4834898780203, 54.110994390695964, 82.90719216847779, 94.16250629297969, 71.25044242697746, 35.42519998118391, 84.31483017016961, 286.26962725331083, 108.34965101514068, 36.98808708952099, 90.85056977368625, 66.18410704186323, 101.20333890099562, 146.34521766478585, 150.74925286329196, 95.16874611221265, 41.39900478451852, 110.47156562031124, 83.03143300621181, 42.87990406127654, 161.07342979691126, 165.57457627659477, 67.03753360784088, 92.71542816925061, 66.07668294747074, 34.95035793759885, 82.91795693528469, 59.85034428231572, 106.4833669108217, 220.07980462526427, 120.76131984488012, 47.78192667558821, 57.18987165903686, 82.19729747899297, 54.73835189980477, 37.75982395986877, 40.71624994037739, 46.64540885675644, 48.70144022030136, 45.64467817344928, 44.26132208143357, 44.25409807748751, 47.83996928295028, 35.63770200737305, 46.11224841619744, 40.96224776697351, 49.89366863333349, 41.26482814247898, 40.52048034036802, 48.47799005016877, 50.88586612857365, 45.978325437708534, 55.80481396385381, 46.14623869121712, 49.76676606841861, 51.63699466969182, 53.62612687484355, 34.35809840118678, 45.04135387279997, 44.5684146391877, 46.509202260278585, 49.63783502247345, 38.307205284058206, 48.35169659019782, 36.543217733002415, -91.67054593629385, -109.8383479335725, -17.475572612221523, 12.329529747675878, -77.47324681094723, -77.33962585106755, -42.732092003419446, -58.14510275151008, -84.41152060393719, 4.262368100547874, -97.52338683742417, -24.206099345364137, -89.21712725299025, -72.56607081986824, -120.16042968973726, -88.61097854653455, -82.70331590720775, 18.678406608105853, -71.4198239196824, 50.30535743909069, -8.022870249083393, -49.06712720073598, -130.13339802496432, -66.78446212683663, -82.54308811269033, -59.798289371470325, -70.49851911199754, -124.28460705024102, -17.69249758632144, -120.07785559844123, 39.21273713115692, 30.453011992404555, 9.047314956629457, 5.499285014878643, 24.349465497595983, 18.674706573890372, 0.5037544821377812, 13.997383580478868, 29.32770159143419, 1.9913665820095818, 28.430069581600943, 1.8729404826432607, 38.63512730261832, 22.315559742186643, 13.005381083863785, 19.81702222548818, 15.178812041846507, 0.6113816125882416, 16.71149438381473, 8.357815156369787, 6.498120288227792, 8.013845497751616, 55.39295086435475, 35.542858223546276, 22.914261916465172, 15.829087664939708, 14.948583054220851, 57.4119284443266, 1.9382079525904927, 38.68347837075397, 41.427544657389326, 100.1662841796875, 315.0024037679037, 117.73522415161133, 41.98094584147135, 101.87928746541341, 74.36122589111328, 109.81524073282877, 172.00625762939453, 162.00941111246746, 104.7405616760254, 44.481499354044594, 130.70966313680012, 95.50019989013671, 45.252423731486004, 172.0068593343099, 182.44998118082682, 70.7762446085612, 102.38918431599934, 71.21157328287761, 37.573584111531574, 86.85305226643881, 70.41919021606445, 116.69815724690756, 252.94693857828776, 133.03675867716473, 51.85478057861328, 71.89152615865072, 89.29732182820638, 64.20575040181478, 46.69040864308675, 100.4800532023112, 332.99889882405597, 120.29204368591309, 42.22139949798584, 102.97162348429362, 76.19156150817871, 111.52368125915527, 190.53668238321941, 167.6039156595866, 109.24550806681314, 43.884673500061034, 130.74426816304523, 98.05444679260253, 44.338623428344725, 167.7947914123535, 182.2012171427409, 68.91559403737386, 103.5944315592448, 72.6252488454183, 37.520247840881346, 83.96607894897461, 73.4315902709961, 117.68082796732584, 253.82371215820314, 135.27827339172364, 51.14293855031331, 71.3548786799113, 91.69127909342448, 66.56452528635661]\n"
     ]
    },
    {
     "name": "stdout",
     "output_type": "stream",
     "text": [
      "-----------------------------------------\n",
      "| environment/            |             |\n",
      "|    portfolio_value      | 2.28e+06    |\n",
      "|    total_cost           | 2.57e+05    |\n",
      "|    total_reward         | 1.28e+06    |\n",
      "|    total_reward_pct     | 128         |\n",
      "|    total_trades         | 70530       |\n",
      "| time/                   |             |\n",
      "|    fps                  | 149         |\n",
      "|    iterations           | 24          |\n",
      "|    time_elapsed         | 328         |\n",
      "|    total_timesteps      | 49152       |\n",
      "| train/                  |             |\n",
      "|    approx_kl            | 0.028221237 |\n",
      "|    clip_fraction        | 0.26        |\n",
      "|    clip_range           | 0.2         |\n",
      "|    entropy_loss         | -43.5       |\n",
      "|    explained_variance   | -0.0545     |\n",
      "|    learning_rate        | 0.00025     |\n",
      "|    loss                 | 9.61        |\n",
      "|    n_updates            | 230         |\n",
      "|    policy_gradient_loss | -0.0219     |\n",
      "|    std                  | 1.03        |\n",
      "|    value_loss           | 22.7        |\n",
      "-----------------------------------------\n",
      "[1000000, 38.39591979980469, 91.69662475585938, 313.3722229003906, 118.78218841552734, 40.123985290527344, 97.55754852294922, 72.68486785888672, 108.32612609863281, 159.20101928710938, 162.39141845703125, 100.57974243164062, 44.13541793823242, 121.43285369873047, 90.1629638671875, 44.01080322265625, 168.1305389404297, 176.2595672607422, 71.46668243408203, 98.81327819824219, 72.5230484008789, 37.58075714111328, 86.1761703491211, 63.318092346191406, 113.30058288574219, 240.15750122070312, 129.90611267089844, 50.585201263427734, 62.84025573730469, 89.07861328125, 58.40364074707031, 0, 0, 0, 0, 0, 0, 0, 0, 0, 0, 0, 0, 0, 0, 0, 0, 0, 0, 0, 0, 0, 0, 0, 0, 0, 0, 0, 0, 0, 0, -2.141041777965299, -3.552996723704098, -6.5322711673567255, -0.8822167825157834, -0.9799449674846201, -2.1934933168446946, -1.5881746002519037, -1.8656878145195321, -9.081052234113486, -2.2328399684980695, -2.5064249292951075, -0.32983955379442875, -4.102228793422313, -2.889179649527293, -0.37578329318664316, -1.5821942612953137, -3.034807609728148, -0.045701227715255754, -1.989642958275212, -0.4748045008294781, -0.31164924659512394, -0.15894413380489425, -3.133430619057208, -2.131574045626138, -6.482025623390342, -2.418196932413707, -0.7203707316276251, -3.300559169558241, -1.471619326161104, -2.482863766377193, 44.89222937062273, 111.36300186108039, 342.3288102466892, 126.67958024706634, 46.44073180391163, 109.87818312548369, 79.24678590247271, 116.00920992712938, 183.72168296997975, 172.42401221239166, 112.84118430770924, 47.093767508572306, 146.13142281352663, 102.46208811195226, 47.241389960329904, 180.68020637252235, 194.97220106715525, 74.8504874798056, 111.03721923065173, 76.32536173026364, 40.01830623171267, 90.78252295363133, 76.30022868521357, 122.41246286212751, 280.59340399289977, 143.4834898780203, 54.110994390695964, 82.90719216847779, 94.16250629297969, 71.25044242697746, 35.42519998118391, 84.31483017016961, 286.26962725331083, 108.34965101514068, 36.98808708952099, 90.85056977368625, 66.18410704186323, 101.20333890099562, 146.34521766478585, 150.74925286329196, 95.16874611221265, 41.39900478451852, 110.47156562031124, 83.03143300621181, 42.87990406127654, 161.07342979691126, 165.57457627659477, 67.03753360784088, 92.71542816925061, 66.07668294747074, 34.95035793759885, 82.91795693528469, 59.85034428231572, 106.4833669108217, 220.07980462526427, 120.76131984488012, 47.78192667558821, 57.18987165903686, 82.19729747899297, 54.73835189980477, 37.75982395986877, 40.71624994037739, 46.64540885675644, 48.70144022030136, 45.64467817344928, 44.26132208143357, 44.25409807748751, 47.83996928295028, 35.63770200737305, 46.11224841619744, 40.96224776697351, 49.89366863333349, 41.26482814247898, 40.52048034036802, 48.47799005016877, 50.88586612857365, 45.978325437708534, 55.80481396385381, 46.14623869121712, 49.76676606841861, 51.63699466969182, 53.62612687484355, 34.35809840118678, 45.04135387279997, 44.5684146391877, 46.509202260278585, 49.63783502247345, 38.307205284058206, 48.35169659019782, 36.543217733002415, -91.67054593629385, -109.8383479335725, -17.475572612221523, 12.329529747675878, -77.47324681094723, -77.33962585106755, -42.732092003419446, -58.14510275151008, -84.41152060393719, 4.262368100547874, -97.52338683742417, -24.206099345364137, -89.21712725299025, -72.56607081986824, -120.16042968973726, -88.61097854653455, -82.70331590720775, 18.678406608105853, -71.4198239196824, 50.30535743909069, -8.022870249083393, -49.06712720073598, -130.13339802496432, -66.78446212683663, -82.54308811269033, -59.798289371470325, -70.49851911199754, -124.28460705024102, -17.69249758632144, -120.07785559844123, 39.21273713115692, 30.453011992404555, 9.047314956629457, 5.499285014878643, 24.349465497595983, 18.674706573890372, 0.5037544821377812, 13.997383580478868, 29.32770159143419, 1.9913665820095818, 28.430069581600943, 1.8729404826432607, 38.63512730261832, 22.315559742186643, 13.005381083863785, 19.81702222548818, 15.178812041846507, 0.6113816125882416, 16.71149438381473, 8.357815156369787, 6.498120288227792, 8.013845497751616, 55.39295086435475, 35.542858223546276, 22.914261916465172, 15.829087664939708, 14.948583054220851, 57.4119284443266, 1.9382079525904927, 38.68347837075397, 41.427544657389326, 100.1662841796875, 315.0024037679037, 117.73522415161133, 41.98094584147135, 101.87928746541341, 74.36122589111328, 109.81524073282877, 172.00625762939453, 162.00941111246746, 104.7405616760254, 44.481499354044594, 130.70966313680012, 95.50019989013671, 45.252423731486004, 172.0068593343099, 182.44998118082682, 70.7762446085612, 102.38918431599934, 71.21157328287761, 37.573584111531574, 86.85305226643881, 70.41919021606445, 116.69815724690756, 252.94693857828776, 133.03675867716473, 51.85478057861328, 71.89152615865072, 89.29732182820638, 64.20575040181478, 46.69040864308675, 100.4800532023112, 332.99889882405597, 120.29204368591309, 42.22139949798584, 102.97162348429362, 76.19156150817871, 111.52368125915527, 190.53668238321941, 167.6039156595866, 109.24550806681314, 43.884673500061034, 130.74426816304523, 98.05444679260253, 44.338623428344725, 167.7947914123535, 182.2012171427409, 68.91559403737386, 103.5944315592448, 72.6252488454183, 37.520247840881346, 83.96607894897461, 73.4315902709961, 117.68082796732584, 253.82371215820314, 135.27827339172364, 51.14293855031331, 71.3548786799113, 91.69127909342448, 66.56452528635661]\n",
      "-----------------------------------------\n",
      "| environment/            |             |\n",
      "|    portfolio_value      | 2.62e+06    |\n",
      "|    total_cost           | 2.54e+05    |\n",
      "|    total_reward         | 1.62e+06    |\n",
      "|    total_reward_pct     | 162         |\n",
      "|    total_trades         | 70340       |\n",
      "| time/                   |             |\n",
      "|    fps                  | 149         |\n",
      "|    iterations           | 25          |\n",
      "|    time_elapsed         | 342         |\n",
      "|    total_timesteps      | 51200       |\n",
      "| train/                  |             |\n",
      "|    approx_kl            | 0.027703207 |\n",
      "|    clip_fraction        | 0.288       |\n",
      "|    clip_range           | 0.2         |\n",
      "|    entropy_loss         | -43.5       |\n",
      "|    explained_variance   | 0.00223     |\n",
      "|    learning_rate        | 0.00025     |\n",
      "|    loss                 | 8.12        |\n",
      "|    n_updates            | 240         |\n",
      "|    policy_gradient_loss | -0.0237     |\n",
      "|    std                  | 1.04        |\n",
      "|    value_loss           | 13.5        |\n",
      "-----------------------------------------\n"
     ]
    }
   ],
   "source": [
    "trained_ppo = agent.train_model(model=model_ppo, \n",
    "                             tb_log_name='ppo',\n",
    "                             total_timesteps=50000)"
   ]
  },
  {
   "cell_type": "markdown",
   "metadata": {
    "id": "3Zpv4S0-fDBv"
   },
   "source": [
    "### Model 4: TD3"
   ]
  },
  {
   "cell_type": "code",
   "execution_count": 35,
   "metadata": {
    "colab": {
     "base_uri": "https://localhost:8080/"
    },
    "id": "JSAHhV4Xc-bh",
    "outputId": "e531db14-aab4-47d1-cc15-02c893ec66c9"
   },
   "outputs": [
    {
     "name": "stdout",
     "output_type": "stream",
     "text": [
      "{'batch_size': 100, 'buffer_size': 1000000, 'learning_rate': 0.001}\n",
      "Using cpu device\n"
     ]
    }
   ],
   "source": [
    "agent = DRLAgent(env = env_train)\n",
    "TD3_PARAMS = {\"batch_size\": 100, \n",
    "              \"buffer_size\": 1000000, \n",
    "              \"learning_rate\": 0.001}\n",
    "\n",
    "model_td3 = agent.get_model(\"td3\",model_kwargs = TD3_PARAMS)"
   ]
  },
  {
   "cell_type": "code",
   "execution_count": 36,
   "metadata": {
    "colab": {
     "base_uri": "https://localhost:8080/"
    },
    "id": "OSRxNYAxdKpU",
    "outputId": "ddc4193c-884b-4a2c-9e49-31397e2cfbec"
   },
   "outputs": [
    {
     "name": "stdout",
     "output_type": "stream",
     "text": [
      "[1000000, 17.935117721557617, 50.988304138183594, 61.513343811035156, 65.38973999023438, 12.984989166259766, 73.7756118774414, 34.809871673583984, 43.42416763305664, 83.53462219238281, 43.64031982421875, 141.16954040527344, 20.43437957763672, 52.85589599609375, 27.817968368530273, 29.65427017211914, 68.79739379882812, 70.55941009521484, 31.62615394592285, 25.23847007751465, 19.80267906188965, 15.745709419250488, 46.61450958251953, 38.54338455200195, 51.902278900146484, 50.927310943603516, 29.01645851135254, 29.77606964111328, 23.699634552001953, 56.53315353393555, 59.16899871826172, 0, 0, 0, 0, 0, 0, 0, 0, 0, 0, 0, 0, 0, 0, 0, 0, 0, 0, 0, 0, 0, 0, 0, 0, 0, 0, 0, 0, 0, 0, 0.048914665320310746, 0.1492300754165683, 0.22427827362162844, -1.7378322917263773, -0.07238045700446705, 0.4739803415935455, -0.04486043243978344, 0.7491596831102143, -1.3622740921689882, 0.48416460733987776, -0.6495137919078786, -0.04034402844369822, 0.8152996071794831, 0.052010051080728203, 0.21119042031527968, -0.4299168253055683, 0.4632421025810487, 0.6348248129269685, 0.1065396536842016, -0.762231667230477, 0.09603332221649907, -0.6255536194259292, -0.1459395847563485, 0.22870419078185478, 0.6292642931225387, 0.3649739494210067, 0.5110089036762773, -0.5769917260701796, 1.1192537366815714, 0.3556321089093899, 18.09736253711155, 50.9857806505401, 61.79764992096878, 68.69204380607209, 13.248692138262266, 74.15651407650458, 37.022104313873264, 43.77654596530674, 84.5406394255391, 44.341533292319745, 144.42480907724917, 21.365920879663424, 53.984849594072195, 29.312606300723996, 29.427419631565954, 70.3776149253143, 70.56818187472248, 31.431763947283383, 25.695061516594656, 25.19444265280577, 15.833781575007851, 48.76682933056606, 39.32134702148109, 52.449316853653386, 53.04324394356747, 29.58104109946132, 30.16741511829899, 25.95736649539316, 56.56096726158794, 59.46654644579049, 17.234876804624292, 47.054363316134705, 56.05213493010544, 62.74664561653532, 12.177536480359562, 67.40172795840752, 33.062063166595486, 39.91391500271084, 78.82502601025192, 40.607625185463455, 135.88962421132504, 19.214531085668607, 47.84180674748054, 24.446228347408326, 27.52581942788229, 66.95451626975407, 65.33581287625407, 27.64996823045099, 23.38258588330769, 20.673860646144426, 14.783409739689414, 44.71941296374546, 36.45955927429527, 48.99371026121477, 48.34644187796574, 26.336949775782823, 27.588387608446617, 22.684575719572663, 53.06973151465717, 53.722782701548375, 53.55475665119493, 54.80535911994857, 55.08247240900027, 40.99768600722234, 46.57524775305082, 55.41582934217288, 48.58732609983501, 64.04080415891036, 44.81474899081546, 57.781080338082326, 48.94998688115784, 49.90306938325243, 64.39914615831293, 47.33758915215317, 62.75817067496382, 43.83751630914674, 58.82132592284495, 70.66544685895798, 52.36030933404696, 30.51995805460173, 59.72354360239829, 43.56864004796379, 49.03528160565133, 56.39064841954453, 54.19610366278479, 55.72175588874512, 68.51978209073278, 40.96053509612517, 67.5285061830896, 56.38025545540942, 89.55133648345398, 208.5140138360187, 159.10324969808636, -67.25042940756356, 80.9236046499693, 182.63134800642177, -14.279535595430312, 145.54912912585692, 42.030740061380065, 91.90548462174245, 4.602913898665535, 34.887424683537375, 120.46849891368481, 104.3071939262458, 271.37423850430974, -21.78095802693571, 178.49671887159656, 198.12634398548852, 118.99788542244212, -265.1540067580053, 132.50892591591312, -50.6873495485575, 68.02642230103784, 144.10797205527845, 75.51669992203955, 117.13002226999748, 126.67125610972954, -96.77381686820324, 120.64492054482724, 169.0532190010443, 4.496584838029465, 16.656168695663972, 21.522016816268767, 11.396288786765938, 4.74564410168219, 24.74290865458426, 11.996617397826057, 42.20851980913755, 10.508290969222756, 14.107896562460626, 8.260629996377299, 11.83925095392684, 42.135889019498215, 9.234910357448737, 35.091926584778676, 6.783988272085488, 21.17783079522266, 70.01972724900448, 3.1003038738267708, 66.31991021827407, 3.736972157540721, 10.518146455780068, 3.0026655851526822, 21.538854961908882, 18.12952378167024, 4.355081866079655, 47.98262692467153, 27.786409137061323, 46.45360944974987, 13.35297682597409, 17.547934659322102, 48.95729764302572, 58.65651295979818, 66.96280975341797, 12.623497263590496, 70.21572570800781, 34.60768508911133, 41.22341435750325, 82.31680730183919, 41.65511754353841, 140.3536641438802, 20.128182284037273, 50.26175359090169, 26.572275416056314, 28.35676097869873, 69.03696416219076, 67.45876388549804, 29.063449096679687, 24.405164655049642, 23.368380991617837, 15.261928494771322, 47.05845120747884, 37.77231737772624, 50.60901819864909, 49.87398885091146, 27.798887379964192, 28.503242174784344, 24.514462089538576, 54.02165412902832, 56.410043462117514, 17.779729143778482, 50.13630898793539, 59.876206652323404, 72.50354347229003, 13.530505386988322, 70.91273078918456, 35.40087623596192, 39.9684419631958, 89.44553070068359, 41.666617965698244, 143.17978286743164, 20.670671971639, 50.042900276184085, 29.55533021291097, 28.32956819534302, 71.2930679321289, 67.88208567301432, 28.946831862131756, 24.991324456532798, 23.9912078221639, 15.263263400395711, 48.307173093159996, 39.02268861134847, 50.478233909606935, 49.661285718282066, 27.916695467631023, 27.444596640268962, 25.789000479380288, 51.09856313069661, 57.22946236928304]\n",
      "Logging to tensorboard_log/td3\\td3_1\n",
      "[1000000, 38.39591979980469, 91.69662475585938, 313.3722229003906, 118.78218841552734, 40.123985290527344, 97.55754852294922, 72.68486785888672, 108.32612609863281, 159.20101928710938, 162.39141845703125, 100.57974243164062, 44.13541793823242, 121.43285369873047, 90.1629638671875, 44.01080322265625, 168.1305389404297, 176.2595672607422, 71.46668243408203, 98.81327819824219, 72.5230484008789, 37.58075714111328, 86.1761703491211, 63.318092346191406, 113.30058288574219, 240.15750122070312, 129.90611267089844, 50.585201263427734, 62.84025573730469, 89.07861328125, 58.40364074707031, 0, 0, 0, 0, 0, 0, 0, 0, 0, 0, 0, 0, 0, 0, 0, 0, 0, 0, 0, 0, 0, 0, 0, 0, 0, 0, 0, 0, 0, 0, -2.141041777965299, -3.552996723704098, -6.5322711673567255, -0.8822167825157834, -0.9799449674846201, -2.1934933168446946, -1.5881746002519037, -1.8656878145195321, -9.081052234113486, -2.2328399684980695, -2.5064249292951075, -0.32983955379442875, -4.102228793422313, -2.889179649527293, -0.37578329318664316, -1.5821942612953137, -3.034807609728148, -0.045701227715255754, -1.989642958275212, -0.4748045008294781, -0.31164924659512394, -0.15894413380489425, -3.133430619057208, -2.131574045626138, -6.482025623390342, -2.418196932413707, -0.7203707316276251, -3.300559169558241, -1.471619326161104, -2.482863766377193, 44.89222937062273, 111.36300186108039, 342.3288102466892, 126.67958024706634, 46.44073180391163, 109.87818312548369, 79.24678590247271, 116.00920992712938, 183.72168296997975, 172.42401221239166, 112.84118430770924, 47.093767508572306, 146.13142281352663, 102.46208811195226, 47.241389960329904, 180.68020637252235, 194.97220106715525, 74.8504874798056, 111.03721923065173, 76.32536173026364, 40.01830623171267, 90.78252295363133, 76.30022868521357, 122.41246286212751, 280.59340399289977, 143.4834898780203, 54.110994390695964, 82.90719216847779, 94.16250629297969, 71.25044242697746, 35.42519998118391, 84.31483017016961, 286.26962725331083, 108.34965101514068, 36.98808708952099, 90.85056977368625, 66.18410704186323, 101.20333890099562, 146.34521766478585, 150.74925286329196, 95.16874611221265, 41.39900478451852, 110.47156562031124, 83.03143300621181, 42.87990406127654, 161.07342979691126, 165.57457627659477, 67.03753360784088, 92.71542816925061, 66.07668294747074, 34.95035793759885, 82.91795693528469, 59.85034428231572, 106.4833669108217, 220.07980462526427, 120.76131984488012, 47.78192667558821, 57.18987165903686, 82.19729747899297, 54.73835189980477, 37.75982395986877, 40.71624994037739, 46.64540885675644, 48.70144022030136, 45.64467817344928, 44.26132208143357, 44.25409807748751, 47.83996928295028, 35.63770200737305, 46.11224841619744, 40.96224776697351, 49.89366863333349, 41.26482814247898, 40.52048034036802, 48.47799005016877, 50.88586612857365, 45.978325437708534, 55.80481396385381, 46.14623869121712, 49.76676606841861, 51.63699466969182, 53.62612687484355, 34.35809840118678, 45.04135387279997, 44.5684146391877, 46.509202260278585, 49.63783502247345, 38.307205284058206, 48.35169659019782, 36.543217733002415, -91.67054593629385, -109.8383479335725, -17.475572612221523, 12.329529747675878, -77.47324681094723, -77.33962585106755, -42.732092003419446, -58.14510275151008, -84.41152060393719, 4.262368100547874, -97.52338683742417, -24.206099345364137, -89.21712725299025, -72.56607081986824, -120.16042968973726, -88.61097854653455, -82.70331590720775, 18.678406608105853, -71.4198239196824, 50.30535743909069, -8.022870249083393, -49.06712720073598, -130.13339802496432, -66.78446212683663, -82.54308811269033, -59.798289371470325, -70.49851911199754, -124.28460705024102, -17.69249758632144, -120.07785559844123, 39.21273713115692, 30.453011992404555, 9.047314956629457, 5.499285014878643, 24.349465497595983, 18.674706573890372, 0.5037544821377812, 13.997383580478868, 29.32770159143419, 1.9913665820095818, 28.430069581600943, 1.8729404826432607, 38.63512730261832, 22.315559742186643, 13.005381083863785, 19.81702222548818, 15.178812041846507, 0.6113816125882416, 16.71149438381473, 8.357815156369787, 6.498120288227792, 8.013845497751616, 55.39295086435475, 35.542858223546276, 22.914261916465172, 15.829087664939708, 14.948583054220851, 57.4119284443266, 1.9382079525904927, 38.68347837075397, 41.427544657389326, 100.1662841796875, 315.0024037679037, 117.73522415161133, 41.98094584147135, 101.87928746541341, 74.36122589111328, 109.81524073282877, 172.00625762939453, 162.00941111246746, 104.7405616760254, 44.481499354044594, 130.70966313680012, 95.50019989013671, 45.252423731486004, 172.0068593343099, 182.44998118082682, 70.7762446085612, 102.38918431599934, 71.21157328287761, 37.573584111531574, 86.85305226643881, 70.41919021606445, 116.69815724690756, 252.94693857828776, 133.03675867716473, 51.85478057861328, 71.89152615865072, 89.29732182820638, 64.20575040181478, 46.69040864308675, 100.4800532023112, 332.99889882405597, 120.29204368591309, 42.22139949798584, 102.97162348429362, 76.19156150817871, 111.52368125915527, 190.53668238321941, 167.6039156595866, 109.24550806681314, 43.884673500061034, 130.74426816304523, 98.05444679260253, 44.338623428344725, 167.7947914123535, 182.2012171427409, 68.91559403737386, 103.5944315592448, 72.6252488454183, 37.520247840881346, 83.96607894897461, 73.4315902709961, 117.68082796732584, 253.82371215820314, 135.27827339172364, 51.14293855031331, 71.3548786799113, 91.69127909342448, 66.56452528635661]\n"
     ]
    },
    {
     "name": "stdout",
     "output_type": "stream",
     "text": [
      "[1000000, 38.39591979980469, 91.69662475585938, 313.3722229003906, 118.78218841552734, 40.123985290527344, 97.55754852294922, 72.68486785888672, 108.32612609863281, 159.20101928710938, 162.39141845703125, 100.57974243164062, 44.13541793823242, 121.43285369873047, 90.1629638671875, 44.01080322265625, 168.1305389404297, 176.2595672607422, 71.46668243408203, 98.81327819824219, 72.5230484008789, 37.58075714111328, 86.1761703491211, 63.318092346191406, 113.30058288574219, 240.15750122070312, 129.90611267089844, 50.585201263427734, 62.84025573730469, 89.07861328125, 58.40364074707031, 0, 0, 0, 0, 0, 0, 0, 0, 0, 0, 0, 0, 0, 0, 0, 0, 0, 0, 0, 0, 0, 0, 0, 0, 0, 0, 0, 0, 0, 0, -2.141041777965299, -3.552996723704098, -6.5322711673567255, -0.8822167825157834, -0.9799449674846201, -2.1934933168446946, -1.5881746002519037, -1.8656878145195321, -9.081052234113486, -2.2328399684980695, -2.5064249292951075, -0.32983955379442875, -4.102228793422313, -2.889179649527293, -0.37578329318664316, -1.5821942612953137, -3.034807609728148, -0.045701227715255754, -1.989642958275212, -0.4748045008294781, -0.31164924659512394, -0.15894413380489425, -3.133430619057208, -2.131574045626138, -6.482025623390342, -2.418196932413707, -0.7203707316276251, -3.300559169558241, -1.471619326161104, -2.482863766377193, 44.89222937062273, 111.36300186108039, 342.3288102466892, 126.67958024706634, 46.44073180391163, 109.87818312548369, 79.24678590247271, 116.00920992712938, 183.72168296997975, 172.42401221239166, 112.84118430770924, 47.093767508572306, 146.13142281352663, 102.46208811195226, 47.241389960329904, 180.68020637252235, 194.97220106715525, 74.8504874798056, 111.03721923065173, 76.32536173026364, 40.01830623171267, 90.78252295363133, 76.30022868521357, 122.41246286212751, 280.59340399289977, 143.4834898780203, 54.110994390695964, 82.90719216847779, 94.16250629297969, 71.25044242697746, 35.42519998118391, 84.31483017016961, 286.26962725331083, 108.34965101514068, 36.98808708952099, 90.85056977368625, 66.18410704186323, 101.20333890099562, 146.34521766478585, 150.74925286329196, 95.16874611221265, 41.39900478451852, 110.47156562031124, 83.03143300621181, 42.87990406127654, 161.07342979691126, 165.57457627659477, 67.03753360784088, 92.71542816925061, 66.07668294747074, 34.95035793759885, 82.91795693528469, 59.85034428231572, 106.4833669108217, 220.07980462526427, 120.76131984488012, 47.78192667558821, 57.18987165903686, 82.19729747899297, 54.73835189980477, 37.75982395986877, 40.71624994037739, 46.64540885675644, 48.70144022030136, 45.64467817344928, 44.26132208143357, 44.25409807748751, 47.83996928295028, 35.63770200737305, 46.11224841619744, 40.96224776697351, 49.89366863333349, 41.26482814247898, 40.52048034036802, 48.47799005016877, 50.88586612857365, 45.978325437708534, 55.80481396385381, 46.14623869121712, 49.76676606841861, 51.63699466969182, 53.62612687484355, 34.35809840118678, 45.04135387279997, 44.5684146391877, 46.509202260278585, 49.63783502247345, 38.307205284058206, 48.35169659019782, 36.543217733002415, -91.67054593629385, -109.8383479335725, -17.475572612221523, 12.329529747675878, -77.47324681094723, -77.33962585106755, -42.732092003419446, -58.14510275151008, -84.41152060393719, 4.262368100547874, -97.52338683742417, -24.206099345364137, -89.21712725299025, -72.56607081986824, -120.16042968973726, -88.61097854653455, -82.70331590720775, 18.678406608105853, -71.4198239196824, 50.30535743909069, -8.022870249083393, -49.06712720073598, -130.13339802496432, -66.78446212683663, -82.54308811269033, -59.798289371470325, -70.49851911199754, -124.28460705024102, -17.69249758632144, -120.07785559844123, 39.21273713115692, 30.453011992404555, 9.047314956629457, 5.499285014878643, 24.349465497595983, 18.674706573890372, 0.5037544821377812, 13.997383580478868, 29.32770159143419, 1.9913665820095818, 28.430069581600943, 1.8729404826432607, 38.63512730261832, 22.315559742186643, 13.005381083863785, 19.81702222548818, 15.178812041846507, 0.6113816125882416, 16.71149438381473, 8.357815156369787, 6.498120288227792, 8.013845497751616, 55.39295086435475, 35.542858223546276, 22.914261916465172, 15.829087664939708, 14.948583054220851, 57.4119284443266, 1.9382079525904927, 38.68347837075397, 41.427544657389326, 100.1662841796875, 315.0024037679037, 117.73522415161133, 41.98094584147135, 101.87928746541341, 74.36122589111328, 109.81524073282877, 172.00625762939453, 162.00941111246746, 104.7405616760254, 44.481499354044594, 130.70966313680012, 95.50019989013671, 45.252423731486004, 172.0068593343099, 182.44998118082682, 70.7762446085612, 102.38918431599934, 71.21157328287761, 37.573584111531574, 86.85305226643881, 70.41919021606445, 116.69815724690756, 252.94693857828776, 133.03675867716473, 51.85478057861328, 71.89152615865072, 89.29732182820638, 64.20575040181478, 46.69040864308675, 100.4800532023112, 332.99889882405597, 120.29204368591309, 42.22139949798584, 102.97162348429362, 76.19156150817871, 111.52368125915527, 190.53668238321941, 167.6039156595866, 109.24550806681314, 43.884673500061034, 130.74426816304523, 98.05444679260253, 44.338623428344725, 167.7947914123535, 182.2012171427409, 68.91559403737386, 103.5944315592448, 72.6252488454183, 37.520247840881346, 83.96607894897461, 73.4315902709961, 117.68082796732584, 253.82371215820314, 135.27827339172364, 51.14293855031331, 71.3548786799113, 91.69127909342448, 66.56452528635661]\n",
      "[1000000, 38.39591979980469, 91.69662475585938, 313.3722229003906, 118.78218841552734, 40.123985290527344, 97.55754852294922, 72.68486785888672, 108.32612609863281, 159.20101928710938, 162.39141845703125, 100.57974243164062, 44.13541793823242, 121.43285369873047, 90.1629638671875, 44.01080322265625, 168.1305389404297, 176.2595672607422, 71.46668243408203, 98.81327819824219, 72.5230484008789, 37.58075714111328, 86.1761703491211, 63.318092346191406, 113.30058288574219, 240.15750122070312, 129.90611267089844, 50.585201263427734, 62.84025573730469, 89.07861328125, 58.40364074707031, 0, 0, 0, 0, 0, 0, 0, 0, 0, 0, 0, 0, 0, 0, 0, 0, 0, 0, 0, 0, 0, 0, 0, 0, 0, 0, 0, 0, 0, 0, -2.141041777965299, -3.552996723704098, -6.5322711673567255, -0.8822167825157834, -0.9799449674846201, -2.1934933168446946, -1.5881746002519037, -1.8656878145195321, -9.081052234113486, -2.2328399684980695, -2.5064249292951075, -0.32983955379442875, -4.102228793422313, -2.889179649527293, -0.37578329318664316, -1.5821942612953137, -3.034807609728148, -0.045701227715255754, -1.989642958275212, -0.4748045008294781, -0.31164924659512394, -0.15894413380489425, -3.133430619057208, -2.131574045626138, -6.482025623390342, -2.418196932413707, -0.7203707316276251, -3.300559169558241, -1.471619326161104, -2.482863766377193, 44.89222937062273, 111.36300186108039, 342.3288102466892, 126.67958024706634, 46.44073180391163, 109.87818312548369, 79.24678590247271, 116.00920992712938, 183.72168296997975, 172.42401221239166, 112.84118430770924, 47.093767508572306, 146.13142281352663, 102.46208811195226, 47.241389960329904, 180.68020637252235, 194.97220106715525, 74.8504874798056, 111.03721923065173, 76.32536173026364, 40.01830623171267, 90.78252295363133, 76.30022868521357, 122.41246286212751, 280.59340399289977, 143.4834898780203, 54.110994390695964, 82.90719216847779, 94.16250629297969, 71.25044242697746, 35.42519998118391, 84.31483017016961, 286.26962725331083, 108.34965101514068, 36.98808708952099, 90.85056977368625, 66.18410704186323, 101.20333890099562, 146.34521766478585, 150.74925286329196, 95.16874611221265, 41.39900478451852, 110.47156562031124, 83.03143300621181, 42.87990406127654, 161.07342979691126, 165.57457627659477, 67.03753360784088, 92.71542816925061, 66.07668294747074, 34.95035793759885, 82.91795693528469, 59.85034428231572, 106.4833669108217, 220.07980462526427, 120.76131984488012, 47.78192667558821, 57.18987165903686, 82.19729747899297, 54.73835189980477, 37.75982395986877, 40.71624994037739, 46.64540885675644, 48.70144022030136, 45.64467817344928, 44.26132208143357, 44.25409807748751, 47.83996928295028, 35.63770200737305, 46.11224841619744, 40.96224776697351, 49.89366863333349, 41.26482814247898, 40.52048034036802, 48.47799005016877, 50.88586612857365, 45.978325437708534, 55.80481396385381, 46.14623869121712, 49.76676606841861, 51.63699466969182, 53.62612687484355, 34.35809840118678, 45.04135387279997, 44.5684146391877, 46.509202260278585, 49.63783502247345, 38.307205284058206, 48.35169659019782, 36.543217733002415, -91.67054593629385, -109.8383479335725, -17.475572612221523, 12.329529747675878, -77.47324681094723, -77.33962585106755, -42.732092003419446, -58.14510275151008, -84.41152060393719, 4.262368100547874, -97.52338683742417, -24.206099345364137, -89.21712725299025, -72.56607081986824, -120.16042968973726, -88.61097854653455, -82.70331590720775, 18.678406608105853, -71.4198239196824, 50.30535743909069, -8.022870249083393, -49.06712720073598, -130.13339802496432, -66.78446212683663, -82.54308811269033, -59.798289371470325, -70.49851911199754, -124.28460705024102, -17.69249758632144, -120.07785559844123, 39.21273713115692, 30.453011992404555, 9.047314956629457, 5.499285014878643, 24.349465497595983, 18.674706573890372, 0.5037544821377812, 13.997383580478868, 29.32770159143419, 1.9913665820095818, 28.430069581600943, 1.8729404826432607, 38.63512730261832, 22.315559742186643, 13.005381083863785, 19.81702222548818, 15.178812041846507, 0.6113816125882416, 16.71149438381473, 8.357815156369787, 6.498120288227792, 8.013845497751616, 55.39295086435475, 35.542858223546276, 22.914261916465172, 15.829087664939708, 14.948583054220851, 57.4119284443266, 1.9382079525904927, 38.68347837075397, 41.427544657389326, 100.1662841796875, 315.0024037679037, 117.73522415161133, 41.98094584147135, 101.87928746541341, 74.36122589111328, 109.81524073282877, 172.00625762939453, 162.00941111246746, 104.7405616760254, 44.481499354044594, 130.70966313680012, 95.50019989013671, 45.252423731486004, 172.0068593343099, 182.44998118082682, 70.7762446085612, 102.38918431599934, 71.21157328287761, 37.573584111531574, 86.85305226643881, 70.41919021606445, 116.69815724690756, 252.94693857828776, 133.03675867716473, 51.85478057861328, 71.89152615865072, 89.29732182820638, 64.20575040181478, 46.69040864308675, 100.4800532023112, 332.99889882405597, 120.29204368591309, 42.22139949798584, 102.97162348429362, 76.19156150817871, 111.52368125915527, 190.53668238321941, 167.6039156595866, 109.24550806681314, 43.884673500061034, 130.74426816304523, 98.05444679260253, 44.338623428344725, 167.7947914123535, 182.2012171427409, 68.91559403737386, 103.5944315592448, 72.6252488454183, 37.520247840881346, 83.96607894897461, 73.4315902709961, 117.68082796732584, 253.82371215820314, 135.27827339172364, 51.14293855031331, 71.3548786799113, 91.69127909342448, 66.56452528635661]\n"
     ]
    },
    {
     "name": "stdout",
     "output_type": "stream",
     "text": [
      "[1000000, 38.39591979980469, 91.69662475585938, 313.3722229003906, 118.78218841552734, 40.123985290527344, 97.55754852294922, 72.68486785888672, 108.32612609863281, 159.20101928710938, 162.39141845703125, 100.57974243164062, 44.13541793823242, 121.43285369873047, 90.1629638671875, 44.01080322265625, 168.1305389404297, 176.2595672607422, 71.46668243408203, 98.81327819824219, 72.5230484008789, 37.58075714111328, 86.1761703491211, 63.318092346191406, 113.30058288574219, 240.15750122070312, 129.90611267089844, 50.585201263427734, 62.84025573730469, 89.07861328125, 58.40364074707031, 0, 0, 0, 0, 0, 0, 0, 0, 0, 0, 0, 0, 0, 0, 0, 0, 0, 0, 0, 0, 0, 0, 0, 0, 0, 0, 0, 0, 0, 0, -2.141041777965299, -3.552996723704098, -6.5322711673567255, -0.8822167825157834, -0.9799449674846201, -2.1934933168446946, -1.5881746002519037, -1.8656878145195321, -9.081052234113486, -2.2328399684980695, -2.5064249292951075, -0.32983955379442875, -4.102228793422313, -2.889179649527293, -0.37578329318664316, -1.5821942612953137, -3.034807609728148, -0.045701227715255754, -1.989642958275212, -0.4748045008294781, -0.31164924659512394, -0.15894413380489425, -3.133430619057208, -2.131574045626138, -6.482025623390342, -2.418196932413707, -0.7203707316276251, -3.300559169558241, -1.471619326161104, -2.482863766377193, 44.89222937062273, 111.36300186108039, 342.3288102466892, 126.67958024706634, 46.44073180391163, 109.87818312548369, 79.24678590247271, 116.00920992712938, 183.72168296997975, 172.42401221239166, 112.84118430770924, 47.093767508572306, 146.13142281352663, 102.46208811195226, 47.241389960329904, 180.68020637252235, 194.97220106715525, 74.8504874798056, 111.03721923065173, 76.32536173026364, 40.01830623171267, 90.78252295363133, 76.30022868521357, 122.41246286212751, 280.59340399289977, 143.4834898780203, 54.110994390695964, 82.90719216847779, 94.16250629297969, 71.25044242697746, 35.42519998118391, 84.31483017016961, 286.26962725331083, 108.34965101514068, 36.98808708952099, 90.85056977368625, 66.18410704186323, 101.20333890099562, 146.34521766478585, 150.74925286329196, 95.16874611221265, 41.39900478451852, 110.47156562031124, 83.03143300621181, 42.87990406127654, 161.07342979691126, 165.57457627659477, 67.03753360784088, 92.71542816925061, 66.07668294747074, 34.95035793759885, 82.91795693528469, 59.85034428231572, 106.4833669108217, 220.07980462526427, 120.76131984488012, 47.78192667558821, 57.18987165903686, 82.19729747899297, 54.73835189980477, 37.75982395986877, 40.71624994037739, 46.64540885675644, 48.70144022030136, 45.64467817344928, 44.26132208143357, 44.25409807748751, 47.83996928295028, 35.63770200737305, 46.11224841619744, 40.96224776697351, 49.89366863333349, 41.26482814247898, 40.52048034036802, 48.47799005016877, 50.88586612857365, 45.978325437708534, 55.80481396385381, 46.14623869121712, 49.76676606841861, 51.63699466969182, 53.62612687484355, 34.35809840118678, 45.04135387279997, 44.5684146391877, 46.509202260278585, 49.63783502247345, 38.307205284058206, 48.35169659019782, 36.543217733002415, -91.67054593629385, -109.8383479335725, -17.475572612221523, 12.329529747675878, -77.47324681094723, -77.33962585106755, -42.732092003419446, -58.14510275151008, -84.41152060393719, 4.262368100547874, -97.52338683742417, -24.206099345364137, -89.21712725299025, -72.56607081986824, -120.16042968973726, -88.61097854653455, -82.70331590720775, 18.678406608105853, -71.4198239196824, 50.30535743909069, -8.022870249083393, -49.06712720073598, -130.13339802496432, -66.78446212683663, -82.54308811269033, -59.798289371470325, -70.49851911199754, -124.28460705024102, -17.69249758632144, -120.07785559844123, 39.21273713115692, 30.453011992404555, 9.047314956629457, 5.499285014878643, 24.349465497595983, 18.674706573890372, 0.5037544821377812, 13.997383580478868, 29.32770159143419, 1.9913665820095818, 28.430069581600943, 1.8729404826432607, 38.63512730261832, 22.315559742186643, 13.005381083863785, 19.81702222548818, 15.178812041846507, 0.6113816125882416, 16.71149438381473, 8.357815156369787, 6.498120288227792, 8.013845497751616, 55.39295086435475, 35.542858223546276, 22.914261916465172, 15.829087664939708, 14.948583054220851, 57.4119284443266, 1.9382079525904927, 38.68347837075397, 41.427544657389326, 100.1662841796875, 315.0024037679037, 117.73522415161133, 41.98094584147135, 101.87928746541341, 74.36122589111328, 109.81524073282877, 172.00625762939453, 162.00941111246746, 104.7405616760254, 44.481499354044594, 130.70966313680012, 95.50019989013671, 45.252423731486004, 172.0068593343099, 182.44998118082682, 70.7762446085612, 102.38918431599934, 71.21157328287761, 37.573584111531574, 86.85305226643881, 70.41919021606445, 116.69815724690756, 252.94693857828776, 133.03675867716473, 51.85478057861328, 71.89152615865072, 89.29732182820638, 64.20575040181478, 46.69040864308675, 100.4800532023112, 332.99889882405597, 120.29204368591309, 42.22139949798584, 102.97162348429362, 76.19156150817871, 111.52368125915527, 190.53668238321941, 167.6039156595866, 109.24550806681314, 43.884673500061034, 130.74426816304523, 98.05444679260253, 44.338623428344725, 167.7947914123535, 182.2012171427409, 68.91559403737386, 103.5944315592448, 72.6252488454183, 37.520247840881346, 83.96607894897461, 73.4315902709961, 117.68082796732584, 253.82371215820314, 135.27827339172364, 51.14293855031331, 71.3548786799113, 91.69127909342448, 66.56452528635661]\n",
      "----------------------------------\n",
      "| environment/        |          |\n",
      "|    portfolio_value  | 3.79e+06 |\n",
      "|    total_cost       | 999      |\n",
      "|    total_reward     | 2.79e+06 |\n",
      "|    total_reward_pct | 279      |\n",
      "|    total_trades     | 42755    |\n",
      "| time/               |          |\n",
      "|    episodes         | 4        |\n",
      "|    fps              | 60       |\n",
      "|    time_elapsed     | 165      |\n",
      "|    total timesteps  | 10064    |\n",
      "| train/              |          |\n",
      "|    actor_loss       | 86.3     |\n",
      "|    critic_loss      | 769      |\n",
      "|    learning_rate    | 0.001    |\n",
      "|    n_updates        | 7548     |\n",
      "----------------------------------\n",
      "[1000000, 38.39591979980469, 91.69662475585938, 313.3722229003906, 118.78218841552734, 40.123985290527344, 97.55754852294922, 72.68486785888672, 108.32612609863281, 159.20101928710938, 162.39141845703125, 100.57974243164062, 44.13541793823242, 121.43285369873047, 90.1629638671875, 44.01080322265625, 168.1305389404297, 176.2595672607422, 71.46668243408203, 98.81327819824219, 72.5230484008789, 37.58075714111328, 86.1761703491211, 63.318092346191406, 113.30058288574219, 240.15750122070312, 129.90611267089844, 50.585201263427734, 62.84025573730469, 89.07861328125, 58.40364074707031, 0, 0, 0, 0, 0, 0, 0, 0, 0, 0, 0, 0, 0, 0, 0, 0, 0, 0, 0, 0, 0, 0, 0, 0, 0, 0, 0, 0, 0, 0, -2.141041777965299, -3.552996723704098, -6.5322711673567255, -0.8822167825157834, -0.9799449674846201, -2.1934933168446946, -1.5881746002519037, -1.8656878145195321, -9.081052234113486, -2.2328399684980695, -2.5064249292951075, -0.32983955379442875, -4.102228793422313, -2.889179649527293, -0.37578329318664316, -1.5821942612953137, -3.034807609728148, -0.045701227715255754, -1.989642958275212, -0.4748045008294781, -0.31164924659512394, -0.15894413380489425, -3.133430619057208, -2.131574045626138, -6.482025623390342, -2.418196932413707, -0.7203707316276251, -3.300559169558241, -1.471619326161104, -2.482863766377193, 44.89222937062273, 111.36300186108039, 342.3288102466892, 126.67958024706634, 46.44073180391163, 109.87818312548369, 79.24678590247271, 116.00920992712938, 183.72168296997975, 172.42401221239166, 112.84118430770924, 47.093767508572306, 146.13142281352663, 102.46208811195226, 47.241389960329904, 180.68020637252235, 194.97220106715525, 74.8504874798056, 111.03721923065173, 76.32536173026364, 40.01830623171267, 90.78252295363133, 76.30022868521357, 122.41246286212751, 280.59340399289977, 143.4834898780203, 54.110994390695964, 82.90719216847779, 94.16250629297969, 71.25044242697746, 35.42519998118391, 84.31483017016961, 286.26962725331083, 108.34965101514068, 36.98808708952099, 90.85056977368625, 66.18410704186323, 101.20333890099562, 146.34521766478585, 150.74925286329196, 95.16874611221265, 41.39900478451852, 110.47156562031124, 83.03143300621181, 42.87990406127654, 161.07342979691126, 165.57457627659477, 67.03753360784088, 92.71542816925061, 66.07668294747074, 34.95035793759885, 82.91795693528469, 59.85034428231572, 106.4833669108217, 220.07980462526427, 120.76131984488012, 47.78192667558821, 57.18987165903686, 82.19729747899297, 54.73835189980477, 37.75982395986877, 40.71624994037739, 46.64540885675644, 48.70144022030136, 45.64467817344928, 44.26132208143357, 44.25409807748751, 47.83996928295028, 35.63770200737305, 46.11224841619744, 40.96224776697351, 49.89366863333349, 41.26482814247898, 40.52048034036802, 48.47799005016877, 50.88586612857365, 45.978325437708534, 55.80481396385381, 46.14623869121712, 49.76676606841861, 51.63699466969182, 53.62612687484355, 34.35809840118678, 45.04135387279997, 44.5684146391877, 46.509202260278585, 49.63783502247345, 38.307205284058206, 48.35169659019782, 36.543217733002415, -91.67054593629385, -109.8383479335725, -17.475572612221523, 12.329529747675878, -77.47324681094723, -77.33962585106755, -42.732092003419446, -58.14510275151008, -84.41152060393719, 4.262368100547874, -97.52338683742417, -24.206099345364137, -89.21712725299025, -72.56607081986824, -120.16042968973726, -88.61097854653455, -82.70331590720775, 18.678406608105853, -71.4198239196824, 50.30535743909069, -8.022870249083393, -49.06712720073598, -130.13339802496432, -66.78446212683663, -82.54308811269033, -59.798289371470325, -70.49851911199754, -124.28460705024102, -17.69249758632144, -120.07785559844123, 39.21273713115692, 30.453011992404555, 9.047314956629457, 5.499285014878643, 24.349465497595983, 18.674706573890372, 0.5037544821377812, 13.997383580478868, 29.32770159143419, 1.9913665820095818, 28.430069581600943, 1.8729404826432607, 38.63512730261832, 22.315559742186643, 13.005381083863785, 19.81702222548818, 15.178812041846507, 0.6113816125882416, 16.71149438381473, 8.357815156369787, 6.498120288227792, 8.013845497751616, 55.39295086435475, 35.542858223546276, 22.914261916465172, 15.829087664939708, 14.948583054220851, 57.4119284443266, 1.9382079525904927, 38.68347837075397, 41.427544657389326, 100.1662841796875, 315.0024037679037, 117.73522415161133, 41.98094584147135, 101.87928746541341, 74.36122589111328, 109.81524073282877, 172.00625762939453, 162.00941111246746, 104.7405616760254, 44.481499354044594, 130.70966313680012, 95.50019989013671, 45.252423731486004, 172.0068593343099, 182.44998118082682, 70.7762446085612, 102.38918431599934, 71.21157328287761, 37.573584111531574, 86.85305226643881, 70.41919021606445, 116.69815724690756, 252.94693857828776, 133.03675867716473, 51.85478057861328, 71.89152615865072, 89.29732182820638, 64.20575040181478, 46.69040864308675, 100.4800532023112, 332.99889882405597, 120.29204368591309, 42.22139949798584, 102.97162348429362, 76.19156150817871, 111.52368125915527, 190.53668238321941, 167.6039156595866, 109.24550806681314, 43.884673500061034, 130.74426816304523, 98.05444679260253, 44.338623428344725, 167.7947914123535, 182.2012171427409, 68.91559403737386, 103.5944315592448, 72.6252488454183, 37.520247840881346, 83.96607894897461, 73.4315902709961, 117.68082796732584, 253.82371215820314, 135.27827339172364, 51.14293855031331, 71.3548786799113, 91.69127909342448, 66.56452528635661]\n"
     ]
    },
    {
     "name": "stdout",
     "output_type": "stream",
     "text": [
      "day: 2515, episode: 50\n",
      "begin_total_asset: 1000000.00\n",
      "end_total_asset: 3787567.16\n",
      "total_reward: 2787567.16\n",
      "total_cost: 999.00\n",
      "total_trades: 42755\n",
      "Sharpe: 0.808\n",
      "=================================\n",
      "[1000000, 38.39591979980469, 91.69662475585938, 313.3722229003906, 118.78218841552734, 40.123985290527344, 97.55754852294922, 72.68486785888672, 108.32612609863281, 159.20101928710938, 162.39141845703125, 100.57974243164062, 44.13541793823242, 121.43285369873047, 90.1629638671875, 44.01080322265625, 168.1305389404297, 176.2595672607422, 71.46668243408203, 98.81327819824219, 72.5230484008789, 37.58075714111328, 86.1761703491211, 63.318092346191406, 113.30058288574219, 240.15750122070312, 129.90611267089844, 50.585201263427734, 62.84025573730469, 89.07861328125, 58.40364074707031, 0, 0, 0, 0, 0, 0, 0, 0, 0, 0, 0, 0, 0, 0, 0, 0, 0, 0, 0, 0, 0, 0, 0, 0, 0, 0, 0, 0, 0, 0, -2.141041777965299, -3.552996723704098, -6.5322711673567255, -0.8822167825157834, -0.9799449674846201, -2.1934933168446946, -1.5881746002519037, -1.8656878145195321, -9.081052234113486, -2.2328399684980695, -2.5064249292951075, -0.32983955379442875, -4.102228793422313, -2.889179649527293, -0.37578329318664316, -1.5821942612953137, -3.034807609728148, -0.045701227715255754, -1.989642958275212, -0.4748045008294781, -0.31164924659512394, -0.15894413380489425, -3.133430619057208, -2.131574045626138, -6.482025623390342, -2.418196932413707, -0.7203707316276251, -3.300559169558241, -1.471619326161104, -2.482863766377193, 44.89222937062273, 111.36300186108039, 342.3288102466892, 126.67958024706634, 46.44073180391163, 109.87818312548369, 79.24678590247271, 116.00920992712938, 183.72168296997975, 172.42401221239166, 112.84118430770924, 47.093767508572306, 146.13142281352663, 102.46208811195226, 47.241389960329904, 180.68020637252235, 194.97220106715525, 74.8504874798056, 111.03721923065173, 76.32536173026364, 40.01830623171267, 90.78252295363133, 76.30022868521357, 122.41246286212751, 280.59340399289977, 143.4834898780203, 54.110994390695964, 82.90719216847779, 94.16250629297969, 71.25044242697746, 35.42519998118391, 84.31483017016961, 286.26962725331083, 108.34965101514068, 36.98808708952099, 90.85056977368625, 66.18410704186323, 101.20333890099562, 146.34521766478585, 150.74925286329196, 95.16874611221265, 41.39900478451852, 110.47156562031124, 83.03143300621181, 42.87990406127654, 161.07342979691126, 165.57457627659477, 67.03753360784088, 92.71542816925061, 66.07668294747074, 34.95035793759885, 82.91795693528469, 59.85034428231572, 106.4833669108217, 220.07980462526427, 120.76131984488012, 47.78192667558821, 57.18987165903686, 82.19729747899297, 54.73835189980477, 37.75982395986877, 40.71624994037739, 46.64540885675644, 48.70144022030136, 45.64467817344928, 44.26132208143357, 44.25409807748751, 47.83996928295028, 35.63770200737305, 46.11224841619744, 40.96224776697351, 49.89366863333349, 41.26482814247898, 40.52048034036802, 48.47799005016877, 50.88586612857365, 45.978325437708534, 55.80481396385381, 46.14623869121712, 49.76676606841861, 51.63699466969182, 53.62612687484355, 34.35809840118678, 45.04135387279997, 44.5684146391877, 46.509202260278585, 49.63783502247345, 38.307205284058206, 48.35169659019782, 36.543217733002415, -91.67054593629385, -109.8383479335725, -17.475572612221523, 12.329529747675878, -77.47324681094723, -77.33962585106755, -42.732092003419446, -58.14510275151008, -84.41152060393719, 4.262368100547874, -97.52338683742417, -24.206099345364137, -89.21712725299025, -72.56607081986824, -120.16042968973726, -88.61097854653455, -82.70331590720775, 18.678406608105853, -71.4198239196824, 50.30535743909069, -8.022870249083393, -49.06712720073598, -130.13339802496432, -66.78446212683663, -82.54308811269033, -59.798289371470325, -70.49851911199754, -124.28460705024102, -17.69249758632144, -120.07785559844123, 39.21273713115692, 30.453011992404555, 9.047314956629457, 5.499285014878643, 24.349465497595983, 18.674706573890372, 0.5037544821377812, 13.997383580478868, 29.32770159143419, 1.9913665820095818, 28.430069581600943, 1.8729404826432607, 38.63512730261832, 22.315559742186643, 13.005381083863785, 19.81702222548818, 15.178812041846507, 0.6113816125882416, 16.71149438381473, 8.357815156369787, 6.498120288227792, 8.013845497751616, 55.39295086435475, 35.542858223546276, 22.914261916465172, 15.829087664939708, 14.948583054220851, 57.4119284443266, 1.9382079525904927, 38.68347837075397, 41.427544657389326, 100.1662841796875, 315.0024037679037, 117.73522415161133, 41.98094584147135, 101.87928746541341, 74.36122589111328, 109.81524073282877, 172.00625762939453, 162.00941111246746, 104.7405616760254, 44.481499354044594, 130.70966313680012, 95.50019989013671, 45.252423731486004, 172.0068593343099, 182.44998118082682, 70.7762446085612, 102.38918431599934, 71.21157328287761, 37.573584111531574, 86.85305226643881, 70.41919021606445, 116.69815724690756, 252.94693857828776, 133.03675867716473, 51.85478057861328, 71.89152615865072, 89.29732182820638, 64.20575040181478, 46.69040864308675, 100.4800532023112, 332.99889882405597, 120.29204368591309, 42.22139949798584, 102.97162348429362, 76.19156150817871, 111.52368125915527, 190.53668238321941, 167.6039156595866, 109.24550806681314, 43.884673500061034, 130.74426816304523, 98.05444679260253, 44.338623428344725, 167.7947914123535, 182.2012171427409, 68.91559403737386, 103.5944315592448, 72.6252488454183, 37.520247840881346, 83.96607894897461, 73.4315902709961, 117.68082796732584, 253.82371215820314, 135.27827339172364, 51.14293855031331, 71.3548786799113, 91.69127909342448, 66.56452528635661]\n",
      "[1000000, 38.39591979980469, 91.69662475585938, 313.3722229003906, 118.78218841552734, 40.123985290527344, 97.55754852294922, 72.68486785888672, 108.32612609863281, 159.20101928710938, 162.39141845703125, 100.57974243164062, 44.13541793823242, 121.43285369873047, 90.1629638671875, 44.01080322265625, 168.1305389404297, 176.2595672607422, 71.46668243408203, 98.81327819824219, 72.5230484008789, 37.58075714111328, 86.1761703491211, 63.318092346191406, 113.30058288574219, 240.15750122070312, 129.90611267089844, 50.585201263427734, 62.84025573730469, 89.07861328125, 58.40364074707031, 0, 0, 0, 0, 0, 0, 0, 0, 0, 0, 0, 0, 0, 0, 0, 0, 0, 0, 0, 0, 0, 0, 0, 0, 0, 0, 0, 0, 0, 0, -2.141041777965299, -3.552996723704098, -6.5322711673567255, -0.8822167825157834, -0.9799449674846201, -2.1934933168446946, -1.5881746002519037, -1.8656878145195321, -9.081052234113486, -2.2328399684980695, -2.5064249292951075, -0.32983955379442875, -4.102228793422313, -2.889179649527293, -0.37578329318664316, -1.5821942612953137, -3.034807609728148, -0.045701227715255754, -1.989642958275212, -0.4748045008294781, -0.31164924659512394, -0.15894413380489425, -3.133430619057208, -2.131574045626138, -6.482025623390342, -2.418196932413707, -0.7203707316276251, -3.300559169558241, -1.471619326161104, -2.482863766377193, 44.89222937062273, 111.36300186108039, 342.3288102466892, 126.67958024706634, 46.44073180391163, 109.87818312548369, 79.24678590247271, 116.00920992712938, 183.72168296997975, 172.42401221239166, 112.84118430770924, 47.093767508572306, 146.13142281352663, 102.46208811195226, 47.241389960329904, 180.68020637252235, 194.97220106715525, 74.8504874798056, 111.03721923065173, 76.32536173026364, 40.01830623171267, 90.78252295363133, 76.30022868521357, 122.41246286212751, 280.59340399289977, 143.4834898780203, 54.110994390695964, 82.90719216847779, 94.16250629297969, 71.25044242697746, 35.42519998118391, 84.31483017016961, 286.26962725331083, 108.34965101514068, 36.98808708952099, 90.85056977368625, 66.18410704186323, 101.20333890099562, 146.34521766478585, 150.74925286329196, 95.16874611221265, 41.39900478451852, 110.47156562031124, 83.03143300621181, 42.87990406127654, 161.07342979691126, 165.57457627659477, 67.03753360784088, 92.71542816925061, 66.07668294747074, 34.95035793759885, 82.91795693528469, 59.85034428231572, 106.4833669108217, 220.07980462526427, 120.76131984488012, 47.78192667558821, 57.18987165903686, 82.19729747899297, 54.73835189980477, 37.75982395986877, 40.71624994037739, 46.64540885675644, 48.70144022030136, 45.64467817344928, 44.26132208143357, 44.25409807748751, 47.83996928295028, 35.63770200737305, 46.11224841619744, 40.96224776697351, 49.89366863333349, 41.26482814247898, 40.52048034036802, 48.47799005016877, 50.88586612857365, 45.978325437708534, 55.80481396385381, 46.14623869121712, 49.76676606841861, 51.63699466969182, 53.62612687484355, 34.35809840118678, 45.04135387279997, 44.5684146391877, 46.509202260278585, 49.63783502247345, 38.307205284058206, 48.35169659019782, 36.543217733002415, -91.67054593629385, -109.8383479335725, -17.475572612221523, 12.329529747675878, -77.47324681094723, -77.33962585106755, -42.732092003419446, -58.14510275151008, -84.41152060393719, 4.262368100547874, -97.52338683742417, -24.206099345364137, -89.21712725299025, -72.56607081986824, -120.16042968973726, -88.61097854653455, -82.70331590720775, 18.678406608105853, -71.4198239196824, 50.30535743909069, -8.022870249083393, -49.06712720073598, -130.13339802496432, -66.78446212683663, -82.54308811269033, -59.798289371470325, -70.49851911199754, -124.28460705024102, -17.69249758632144, -120.07785559844123, 39.21273713115692, 30.453011992404555, 9.047314956629457, 5.499285014878643, 24.349465497595983, 18.674706573890372, 0.5037544821377812, 13.997383580478868, 29.32770159143419, 1.9913665820095818, 28.430069581600943, 1.8729404826432607, 38.63512730261832, 22.315559742186643, 13.005381083863785, 19.81702222548818, 15.178812041846507, 0.6113816125882416, 16.71149438381473, 8.357815156369787, 6.498120288227792, 8.013845497751616, 55.39295086435475, 35.542858223546276, 22.914261916465172, 15.829087664939708, 14.948583054220851, 57.4119284443266, 1.9382079525904927, 38.68347837075397, 41.427544657389326, 100.1662841796875, 315.0024037679037, 117.73522415161133, 41.98094584147135, 101.87928746541341, 74.36122589111328, 109.81524073282877, 172.00625762939453, 162.00941111246746, 104.7405616760254, 44.481499354044594, 130.70966313680012, 95.50019989013671, 45.252423731486004, 172.0068593343099, 182.44998118082682, 70.7762446085612, 102.38918431599934, 71.21157328287761, 37.573584111531574, 86.85305226643881, 70.41919021606445, 116.69815724690756, 252.94693857828776, 133.03675867716473, 51.85478057861328, 71.89152615865072, 89.29732182820638, 64.20575040181478, 46.69040864308675, 100.4800532023112, 332.99889882405597, 120.29204368591309, 42.22139949798584, 102.97162348429362, 76.19156150817871, 111.52368125915527, 190.53668238321941, 167.6039156595866, 109.24550806681314, 43.884673500061034, 130.74426816304523, 98.05444679260253, 44.338623428344725, 167.7947914123535, 182.2012171427409, 68.91559403737386, 103.5944315592448, 72.6252488454183, 37.520247840881346, 83.96607894897461, 73.4315902709961, 117.68082796732584, 253.82371215820314, 135.27827339172364, 51.14293855031331, 71.3548786799113, 91.69127909342448, 66.56452528635661]\n"
     ]
    },
    {
     "name": "stdout",
     "output_type": "stream",
     "text": [
      "[1000000, 38.39591979980469, 91.69662475585938, 313.3722229003906, 118.78218841552734, 40.123985290527344, 97.55754852294922, 72.68486785888672, 108.32612609863281, 159.20101928710938, 162.39141845703125, 100.57974243164062, 44.13541793823242, 121.43285369873047, 90.1629638671875, 44.01080322265625, 168.1305389404297, 176.2595672607422, 71.46668243408203, 98.81327819824219, 72.5230484008789, 37.58075714111328, 86.1761703491211, 63.318092346191406, 113.30058288574219, 240.15750122070312, 129.90611267089844, 50.585201263427734, 62.84025573730469, 89.07861328125, 58.40364074707031, 0, 0, 0, 0, 0, 0, 0, 0, 0, 0, 0, 0, 0, 0, 0, 0, 0, 0, 0, 0, 0, 0, 0, 0, 0, 0, 0, 0, 0, 0, -2.141041777965299, -3.552996723704098, -6.5322711673567255, -0.8822167825157834, -0.9799449674846201, -2.1934933168446946, -1.5881746002519037, -1.8656878145195321, -9.081052234113486, -2.2328399684980695, -2.5064249292951075, -0.32983955379442875, -4.102228793422313, -2.889179649527293, -0.37578329318664316, -1.5821942612953137, -3.034807609728148, -0.045701227715255754, -1.989642958275212, -0.4748045008294781, -0.31164924659512394, -0.15894413380489425, -3.133430619057208, -2.131574045626138, -6.482025623390342, -2.418196932413707, -0.7203707316276251, -3.300559169558241, -1.471619326161104, -2.482863766377193, 44.89222937062273, 111.36300186108039, 342.3288102466892, 126.67958024706634, 46.44073180391163, 109.87818312548369, 79.24678590247271, 116.00920992712938, 183.72168296997975, 172.42401221239166, 112.84118430770924, 47.093767508572306, 146.13142281352663, 102.46208811195226, 47.241389960329904, 180.68020637252235, 194.97220106715525, 74.8504874798056, 111.03721923065173, 76.32536173026364, 40.01830623171267, 90.78252295363133, 76.30022868521357, 122.41246286212751, 280.59340399289977, 143.4834898780203, 54.110994390695964, 82.90719216847779, 94.16250629297969, 71.25044242697746, 35.42519998118391, 84.31483017016961, 286.26962725331083, 108.34965101514068, 36.98808708952099, 90.85056977368625, 66.18410704186323, 101.20333890099562, 146.34521766478585, 150.74925286329196, 95.16874611221265, 41.39900478451852, 110.47156562031124, 83.03143300621181, 42.87990406127654, 161.07342979691126, 165.57457627659477, 67.03753360784088, 92.71542816925061, 66.07668294747074, 34.95035793759885, 82.91795693528469, 59.85034428231572, 106.4833669108217, 220.07980462526427, 120.76131984488012, 47.78192667558821, 57.18987165903686, 82.19729747899297, 54.73835189980477, 37.75982395986877, 40.71624994037739, 46.64540885675644, 48.70144022030136, 45.64467817344928, 44.26132208143357, 44.25409807748751, 47.83996928295028, 35.63770200737305, 46.11224841619744, 40.96224776697351, 49.89366863333349, 41.26482814247898, 40.52048034036802, 48.47799005016877, 50.88586612857365, 45.978325437708534, 55.80481396385381, 46.14623869121712, 49.76676606841861, 51.63699466969182, 53.62612687484355, 34.35809840118678, 45.04135387279997, 44.5684146391877, 46.509202260278585, 49.63783502247345, 38.307205284058206, 48.35169659019782, 36.543217733002415, -91.67054593629385, -109.8383479335725, -17.475572612221523, 12.329529747675878, -77.47324681094723, -77.33962585106755, -42.732092003419446, -58.14510275151008, -84.41152060393719, 4.262368100547874, -97.52338683742417, -24.206099345364137, -89.21712725299025, -72.56607081986824, -120.16042968973726, -88.61097854653455, -82.70331590720775, 18.678406608105853, -71.4198239196824, 50.30535743909069, -8.022870249083393, -49.06712720073598, -130.13339802496432, -66.78446212683663, -82.54308811269033, -59.798289371470325, -70.49851911199754, -124.28460705024102, -17.69249758632144, -120.07785559844123, 39.21273713115692, 30.453011992404555, 9.047314956629457, 5.499285014878643, 24.349465497595983, 18.674706573890372, 0.5037544821377812, 13.997383580478868, 29.32770159143419, 1.9913665820095818, 28.430069581600943, 1.8729404826432607, 38.63512730261832, 22.315559742186643, 13.005381083863785, 19.81702222548818, 15.178812041846507, 0.6113816125882416, 16.71149438381473, 8.357815156369787, 6.498120288227792, 8.013845497751616, 55.39295086435475, 35.542858223546276, 22.914261916465172, 15.829087664939708, 14.948583054220851, 57.4119284443266, 1.9382079525904927, 38.68347837075397, 41.427544657389326, 100.1662841796875, 315.0024037679037, 117.73522415161133, 41.98094584147135, 101.87928746541341, 74.36122589111328, 109.81524073282877, 172.00625762939453, 162.00941111246746, 104.7405616760254, 44.481499354044594, 130.70966313680012, 95.50019989013671, 45.252423731486004, 172.0068593343099, 182.44998118082682, 70.7762446085612, 102.38918431599934, 71.21157328287761, 37.573584111531574, 86.85305226643881, 70.41919021606445, 116.69815724690756, 252.94693857828776, 133.03675867716473, 51.85478057861328, 71.89152615865072, 89.29732182820638, 64.20575040181478, 46.69040864308675, 100.4800532023112, 332.99889882405597, 120.29204368591309, 42.22139949798584, 102.97162348429362, 76.19156150817871, 111.52368125915527, 190.53668238321941, 167.6039156595866, 109.24550806681314, 43.884673500061034, 130.74426816304523, 98.05444679260253, 44.338623428344725, 167.7947914123535, 182.2012171427409, 68.91559403737386, 103.5944315592448, 72.6252488454183, 37.520247840881346, 83.96607894897461, 73.4315902709961, 117.68082796732584, 253.82371215820314, 135.27827339172364, 51.14293855031331, 71.3548786799113, 91.69127909342448, 66.56452528635661]\n",
      "----------------------------------\n",
      "| environment/        |          |\n",
      "|    portfolio_value  | 3.79e+06 |\n",
      "|    total_cost       | 999      |\n",
      "|    total_reward     | 2.79e+06 |\n",
      "|    total_reward_pct | 279      |\n",
      "|    total_trades     | 42755    |\n",
      "| time/               |          |\n",
      "|    episodes         | 8        |\n",
      "|    fps              | 54       |\n",
      "|    time_elapsed     | 372      |\n",
      "|    total timesteps  | 20128    |\n",
      "| train/              |          |\n",
      "|    actor_loss       | 65.9     |\n",
      "|    critic_loss      | 345      |\n",
      "|    learning_rate    | 0.001    |\n",
      "|    n_updates        | 17612    |\n",
      "----------------------------------\n",
      "[1000000, 38.39591979980469, 91.69662475585938, 313.3722229003906, 118.78218841552734, 40.123985290527344, 97.55754852294922, 72.68486785888672, 108.32612609863281, 159.20101928710938, 162.39141845703125, 100.57974243164062, 44.13541793823242, 121.43285369873047, 90.1629638671875, 44.01080322265625, 168.1305389404297, 176.2595672607422, 71.46668243408203, 98.81327819824219, 72.5230484008789, 37.58075714111328, 86.1761703491211, 63.318092346191406, 113.30058288574219, 240.15750122070312, 129.90611267089844, 50.585201263427734, 62.84025573730469, 89.07861328125, 58.40364074707031, 0, 0, 0, 0, 0, 0, 0, 0, 0, 0, 0, 0, 0, 0, 0, 0, 0, 0, 0, 0, 0, 0, 0, 0, 0, 0, 0, 0, 0, 0, -2.141041777965299, -3.552996723704098, -6.5322711673567255, -0.8822167825157834, -0.9799449674846201, -2.1934933168446946, -1.5881746002519037, -1.8656878145195321, -9.081052234113486, -2.2328399684980695, -2.5064249292951075, -0.32983955379442875, -4.102228793422313, -2.889179649527293, -0.37578329318664316, -1.5821942612953137, -3.034807609728148, -0.045701227715255754, -1.989642958275212, -0.4748045008294781, -0.31164924659512394, -0.15894413380489425, -3.133430619057208, -2.131574045626138, -6.482025623390342, -2.418196932413707, -0.7203707316276251, -3.300559169558241, -1.471619326161104, -2.482863766377193, 44.89222937062273, 111.36300186108039, 342.3288102466892, 126.67958024706634, 46.44073180391163, 109.87818312548369, 79.24678590247271, 116.00920992712938, 183.72168296997975, 172.42401221239166, 112.84118430770924, 47.093767508572306, 146.13142281352663, 102.46208811195226, 47.241389960329904, 180.68020637252235, 194.97220106715525, 74.8504874798056, 111.03721923065173, 76.32536173026364, 40.01830623171267, 90.78252295363133, 76.30022868521357, 122.41246286212751, 280.59340399289977, 143.4834898780203, 54.110994390695964, 82.90719216847779, 94.16250629297969, 71.25044242697746, 35.42519998118391, 84.31483017016961, 286.26962725331083, 108.34965101514068, 36.98808708952099, 90.85056977368625, 66.18410704186323, 101.20333890099562, 146.34521766478585, 150.74925286329196, 95.16874611221265, 41.39900478451852, 110.47156562031124, 83.03143300621181, 42.87990406127654, 161.07342979691126, 165.57457627659477, 67.03753360784088, 92.71542816925061, 66.07668294747074, 34.95035793759885, 82.91795693528469, 59.85034428231572, 106.4833669108217, 220.07980462526427, 120.76131984488012, 47.78192667558821, 57.18987165903686, 82.19729747899297, 54.73835189980477, 37.75982395986877, 40.71624994037739, 46.64540885675644, 48.70144022030136, 45.64467817344928, 44.26132208143357, 44.25409807748751, 47.83996928295028, 35.63770200737305, 46.11224841619744, 40.96224776697351, 49.89366863333349, 41.26482814247898, 40.52048034036802, 48.47799005016877, 50.88586612857365, 45.978325437708534, 55.80481396385381, 46.14623869121712, 49.76676606841861, 51.63699466969182, 53.62612687484355, 34.35809840118678, 45.04135387279997, 44.5684146391877, 46.509202260278585, 49.63783502247345, 38.307205284058206, 48.35169659019782, 36.543217733002415, -91.67054593629385, -109.8383479335725, -17.475572612221523, 12.329529747675878, -77.47324681094723, -77.33962585106755, -42.732092003419446, -58.14510275151008, -84.41152060393719, 4.262368100547874, -97.52338683742417, -24.206099345364137, -89.21712725299025, -72.56607081986824, -120.16042968973726, -88.61097854653455, -82.70331590720775, 18.678406608105853, -71.4198239196824, 50.30535743909069, -8.022870249083393, -49.06712720073598, -130.13339802496432, -66.78446212683663, -82.54308811269033, -59.798289371470325, -70.49851911199754, -124.28460705024102, -17.69249758632144, -120.07785559844123, 39.21273713115692, 30.453011992404555, 9.047314956629457, 5.499285014878643, 24.349465497595983, 18.674706573890372, 0.5037544821377812, 13.997383580478868, 29.32770159143419, 1.9913665820095818, 28.430069581600943, 1.8729404826432607, 38.63512730261832, 22.315559742186643, 13.005381083863785, 19.81702222548818, 15.178812041846507, 0.6113816125882416, 16.71149438381473, 8.357815156369787, 6.498120288227792, 8.013845497751616, 55.39295086435475, 35.542858223546276, 22.914261916465172, 15.829087664939708, 14.948583054220851, 57.4119284443266, 1.9382079525904927, 38.68347837075397, 41.427544657389326, 100.1662841796875, 315.0024037679037, 117.73522415161133, 41.98094584147135, 101.87928746541341, 74.36122589111328, 109.81524073282877, 172.00625762939453, 162.00941111246746, 104.7405616760254, 44.481499354044594, 130.70966313680012, 95.50019989013671, 45.252423731486004, 172.0068593343099, 182.44998118082682, 70.7762446085612, 102.38918431599934, 71.21157328287761, 37.573584111531574, 86.85305226643881, 70.41919021606445, 116.69815724690756, 252.94693857828776, 133.03675867716473, 51.85478057861328, 71.89152615865072, 89.29732182820638, 64.20575040181478, 46.69040864308675, 100.4800532023112, 332.99889882405597, 120.29204368591309, 42.22139949798584, 102.97162348429362, 76.19156150817871, 111.52368125915527, 190.53668238321941, 167.6039156595866, 109.24550806681314, 43.884673500061034, 130.74426816304523, 98.05444679260253, 44.338623428344725, 167.7947914123535, 182.2012171427409, 68.91559403737386, 103.5944315592448, 72.6252488454183, 37.520247840881346, 83.96607894897461, 73.4315902709961, 117.68082796732584, 253.82371215820314, 135.27827339172364, 51.14293855031331, 71.3548786799113, 91.69127909342448, 66.56452528635661]\n"
     ]
    },
    {
     "name": "stdout",
     "output_type": "stream",
     "text": [
      "[1000000, 38.39591979980469, 91.69662475585938, 313.3722229003906, 118.78218841552734, 40.123985290527344, 97.55754852294922, 72.68486785888672, 108.32612609863281, 159.20101928710938, 162.39141845703125, 100.57974243164062, 44.13541793823242, 121.43285369873047, 90.1629638671875, 44.01080322265625, 168.1305389404297, 176.2595672607422, 71.46668243408203, 98.81327819824219, 72.5230484008789, 37.58075714111328, 86.1761703491211, 63.318092346191406, 113.30058288574219, 240.15750122070312, 129.90611267089844, 50.585201263427734, 62.84025573730469, 89.07861328125, 58.40364074707031, 0, 0, 0, 0, 0, 0, 0, 0, 0, 0, 0, 0, 0, 0, 0, 0, 0, 0, 0, 0, 0, 0, 0, 0, 0, 0, 0, 0, 0, 0, -2.141041777965299, -3.552996723704098, -6.5322711673567255, -0.8822167825157834, -0.9799449674846201, -2.1934933168446946, -1.5881746002519037, -1.8656878145195321, -9.081052234113486, -2.2328399684980695, -2.5064249292951075, -0.32983955379442875, -4.102228793422313, -2.889179649527293, -0.37578329318664316, -1.5821942612953137, -3.034807609728148, -0.045701227715255754, -1.989642958275212, -0.4748045008294781, -0.31164924659512394, -0.15894413380489425, -3.133430619057208, -2.131574045626138, -6.482025623390342, -2.418196932413707, -0.7203707316276251, -3.300559169558241, -1.471619326161104, -2.482863766377193, 44.89222937062273, 111.36300186108039, 342.3288102466892, 126.67958024706634, 46.44073180391163, 109.87818312548369, 79.24678590247271, 116.00920992712938, 183.72168296997975, 172.42401221239166, 112.84118430770924, 47.093767508572306, 146.13142281352663, 102.46208811195226, 47.241389960329904, 180.68020637252235, 194.97220106715525, 74.8504874798056, 111.03721923065173, 76.32536173026364, 40.01830623171267, 90.78252295363133, 76.30022868521357, 122.41246286212751, 280.59340399289977, 143.4834898780203, 54.110994390695964, 82.90719216847779, 94.16250629297969, 71.25044242697746, 35.42519998118391, 84.31483017016961, 286.26962725331083, 108.34965101514068, 36.98808708952099, 90.85056977368625, 66.18410704186323, 101.20333890099562, 146.34521766478585, 150.74925286329196, 95.16874611221265, 41.39900478451852, 110.47156562031124, 83.03143300621181, 42.87990406127654, 161.07342979691126, 165.57457627659477, 67.03753360784088, 92.71542816925061, 66.07668294747074, 34.95035793759885, 82.91795693528469, 59.85034428231572, 106.4833669108217, 220.07980462526427, 120.76131984488012, 47.78192667558821, 57.18987165903686, 82.19729747899297, 54.73835189980477, 37.75982395986877, 40.71624994037739, 46.64540885675644, 48.70144022030136, 45.64467817344928, 44.26132208143357, 44.25409807748751, 47.83996928295028, 35.63770200737305, 46.11224841619744, 40.96224776697351, 49.89366863333349, 41.26482814247898, 40.52048034036802, 48.47799005016877, 50.88586612857365, 45.978325437708534, 55.80481396385381, 46.14623869121712, 49.76676606841861, 51.63699466969182, 53.62612687484355, 34.35809840118678, 45.04135387279997, 44.5684146391877, 46.509202260278585, 49.63783502247345, 38.307205284058206, 48.35169659019782, 36.543217733002415, -91.67054593629385, -109.8383479335725, -17.475572612221523, 12.329529747675878, -77.47324681094723, -77.33962585106755, -42.732092003419446, -58.14510275151008, -84.41152060393719, 4.262368100547874, -97.52338683742417, -24.206099345364137, -89.21712725299025, -72.56607081986824, -120.16042968973726, -88.61097854653455, -82.70331590720775, 18.678406608105853, -71.4198239196824, 50.30535743909069, -8.022870249083393, -49.06712720073598, -130.13339802496432, -66.78446212683663, -82.54308811269033, -59.798289371470325, -70.49851911199754, -124.28460705024102, -17.69249758632144, -120.07785559844123, 39.21273713115692, 30.453011992404555, 9.047314956629457, 5.499285014878643, 24.349465497595983, 18.674706573890372, 0.5037544821377812, 13.997383580478868, 29.32770159143419, 1.9913665820095818, 28.430069581600943, 1.8729404826432607, 38.63512730261832, 22.315559742186643, 13.005381083863785, 19.81702222548818, 15.178812041846507, 0.6113816125882416, 16.71149438381473, 8.357815156369787, 6.498120288227792, 8.013845497751616, 55.39295086435475, 35.542858223546276, 22.914261916465172, 15.829087664939708, 14.948583054220851, 57.4119284443266, 1.9382079525904927, 38.68347837075397, 41.427544657389326, 100.1662841796875, 315.0024037679037, 117.73522415161133, 41.98094584147135, 101.87928746541341, 74.36122589111328, 109.81524073282877, 172.00625762939453, 162.00941111246746, 104.7405616760254, 44.481499354044594, 130.70966313680012, 95.50019989013671, 45.252423731486004, 172.0068593343099, 182.44998118082682, 70.7762446085612, 102.38918431599934, 71.21157328287761, 37.573584111531574, 86.85305226643881, 70.41919021606445, 116.69815724690756, 252.94693857828776, 133.03675867716473, 51.85478057861328, 71.89152615865072, 89.29732182820638, 64.20575040181478, 46.69040864308675, 100.4800532023112, 332.99889882405597, 120.29204368591309, 42.22139949798584, 102.97162348429362, 76.19156150817871, 111.52368125915527, 190.53668238321941, 167.6039156595866, 109.24550806681314, 43.884673500061034, 130.74426816304523, 98.05444679260253, 44.338623428344725, 167.7947914123535, 182.2012171427409, 68.91559403737386, 103.5944315592448, 72.6252488454183, 37.520247840881346, 83.96607894897461, 73.4315902709961, 117.68082796732584, 253.82371215820314, 135.27827339172364, 51.14293855031331, 71.3548786799113, 91.69127909342448, 66.56452528635661]\n",
      "[1000000, 38.39591979980469, 91.69662475585938, 313.3722229003906, 118.78218841552734, 40.123985290527344, 97.55754852294922, 72.68486785888672, 108.32612609863281, 159.20101928710938, 162.39141845703125, 100.57974243164062, 44.13541793823242, 121.43285369873047, 90.1629638671875, 44.01080322265625, 168.1305389404297, 176.2595672607422, 71.46668243408203, 98.81327819824219, 72.5230484008789, 37.58075714111328, 86.1761703491211, 63.318092346191406, 113.30058288574219, 240.15750122070312, 129.90611267089844, 50.585201263427734, 62.84025573730469, 89.07861328125, 58.40364074707031, 0, 0, 0, 0, 0, 0, 0, 0, 0, 0, 0, 0, 0, 0, 0, 0, 0, 0, 0, 0, 0, 0, 0, 0, 0, 0, 0, 0, 0, 0, -2.141041777965299, -3.552996723704098, -6.5322711673567255, -0.8822167825157834, -0.9799449674846201, -2.1934933168446946, -1.5881746002519037, -1.8656878145195321, -9.081052234113486, -2.2328399684980695, -2.5064249292951075, -0.32983955379442875, -4.102228793422313, -2.889179649527293, -0.37578329318664316, -1.5821942612953137, -3.034807609728148, -0.045701227715255754, -1.989642958275212, -0.4748045008294781, -0.31164924659512394, -0.15894413380489425, -3.133430619057208, -2.131574045626138, -6.482025623390342, -2.418196932413707, -0.7203707316276251, -3.300559169558241, -1.471619326161104, -2.482863766377193, 44.89222937062273, 111.36300186108039, 342.3288102466892, 126.67958024706634, 46.44073180391163, 109.87818312548369, 79.24678590247271, 116.00920992712938, 183.72168296997975, 172.42401221239166, 112.84118430770924, 47.093767508572306, 146.13142281352663, 102.46208811195226, 47.241389960329904, 180.68020637252235, 194.97220106715525, 74.8504874798056, 111.03721923065173, 76.32536173026364, 40.01830623171267, 90.78252295363133, 76.30022868521357, 122.41246286212751, 280.59340399289977, 143.4834898780203, 54.110994390695964, 82.90719216847779, 94.16250629297969, 71.25044242697746, 35.42519998118391, 84.31483017016961, 286.26962725331083, 108.34965101514068, 36.98808708952099, 90.85056977368625, 66.18410704186323, 101.20333890099562, 146.34521766478585, 150.74925286329196, 95.16874611221265, 41.39900478451852, 110.47156562031124, 83.03143300621181, 42.87990406127654, 161.07342979691126, 165.57457627659477, 67.03753360784088, 92.71542816925061, 66.07668294747074, 34.95035793759885, 82.91795693528469, 59.85034428231572, 106.4833669108217, 220.07980462526427, 120.76131984488012, 47.78192667558821, 57.18987165903686, 82.19729747899297, 54.73835189980477, 37.75982395986877, 40.71624994037739, 46.64540885675644, 48.70144022030136, 45.64467817344928, 44.26132208143357, 44.25409807748751, 47.83996928295028, 35.63770200737305, 46.11224841619744, 40.96224776697351, 49.89366863333349, 41.26482814247898, 40.52048034036802, 48.47799005016877, 50.88586612857365, 45.978325437708534, 55.80481396385381, 46.14623869121712, 49.76676606841861, 51.63699466969182, 53.62612687484355, 34.35809840118678, 45.04135387279997, 44.5684146391877, 46.509202260278585, 49.63783502247345, 38.307205284058206, 48.35169659019782, 36.543217733002415, -91.67054593629385, -109.8383479335725, -17.475572612221523, 12.329529747675878, -77.47324681094723, -77.33962585106755, -42.732092003419446, -58.14510275151008, -84.41152060393719, 4.262368100547874, -97.52338683742417, -24.206099345364137, -89.21712725299025, -72.56607081986824, -120.16042968973726, -88.61097854653455, -82.70331590720775, 18.678406608105853, -71.4198239196824, 50.30535743909069, -8.022870249083393, -49.06712720073598, -130.13339802496432, -66.78446212683663, -82.54308811269033, -59.798289371470325, -70.49851911199754, -124.28460705024102, -17.69249758632144, -120.07785559844123, 39.21273713115692, 30.453011992404555, 9.047314956629457, 5.499285014878643, 24.349465497595983, 18.674706573890372, 0.5037544821377812, 13.997383580478868, 29.32770159143419, 1.9913665820095818, 28.430069581600943, 1.8729404826432607, 38.63512730261832, 22.315559742186643, 13.005381083863785, 19.81702222548818, 15.178812041846507, 0.6113816125882416, 16.71149438381473, 8.357815156369787, 6.498120288227792, 8.013845497751616, 55.39295086435475, 35.542858223546276, 22.914261916465172, 15.829087664939708, 14.948583054220851, 57.4119284443266, 1.9382079525904927, 38.68347837075397, 41.427544657389326, 100.1662841796875, 315.0024037679037, 117.73522415161133, 41.98094584147135, 101.87928746541341, 74.36122589111328, 109.81524073282877, 172.00625762939453, 162.00941111246746, 104.7405616760254, 44.481499354044594, 130.70966313680012, 95.50019989013671, 45.252423731486004, 172.0068593343099, 182.44998118082682, 70.7762446085612, 102.38918431599934, 71.21157328287761, 37.573584111531574, 86.85305226643881, 70.41919021606445, 116.69815724690756, 252.94693857828776, 133.03675867716473, 51.85478057861328, 71.89152615865072, 89.29732182820638, 64.20575040181478, 46.69040864308675, 100.4800532023112, 332.99889882405597, 120.29204368591309, 42.22139949798584, 102.97162348429362, 76.19156150817871, 111.52368125915527, 190.53668238321941, 167.6039156595866, 109.24550806681314, 43.884673500061034, 130.74426816304523, 98.05444679260253, 44.338623428344725, 167.7947914123535, 182.2012171427409, 68.91559403737386, 103.5944315592448, 72.6252488454183, 37.520247840881346, 83.96607894897461, 73.4315902709961, 117.68082796732584, 253.82371215820314, 135.27827339172364, 51.14293855031331, 71.3548786799113, 91.69127909342448, 66.56452528635661]\n"
     ]
    },
    {
     "name": "stdout",
     "output_type": "stream",
     "text": [
      "[1000000, 38.39591979980469, 91.69662475585938, 313.3722229003906, 118.78218841552734, 40.123985290527344, 97.55754852294922, 72.68486785888672, 108.32612609863281, 159.20101928710938, 162.39141845703125, 100.57974243164062, 44.13541793823242, 121.43285369873047, 90.1629638671875, 44.01080322265625, 168.1305389404297, 176.2595672607422, 71.46668243408203, 98.81327819824219, 72.5230484008789, 37.58075714111328, 86.1761703491211, 63.318092346191406, 113.30058288574219, 240.15750122070312, 129.90611267089844, 50.585201263427734, 62.84025573730469, 89.07861328125, 58.40364074707031, 0, 0, 0, 0, 0, 0, 0, 0, 0, 0, 0, 0, 0, 0, 0, 0, 0, 0, 0, 0, 0, 0, 0, 0, 0, 0, 0, 0, 0, 0, -2.141041777965299, -3.552996723704098, -6.5322711673567255, -0.8822167825157834, -0.9799449674846201, -2.1934933168446946, -1.5881746002519037, -1.8656878145195321, -9.081052234113486, -2.2328399684980695, -2.5064249292951075, -0.32983955379442875, -4.102228793422313, -2.889179649527293, -0.37578329318664316, -1.5821942612953137, -3.034807609728148, -0.045701227715255754, -1.989642958275212, -0.4748045008294781, -0.31164924659512394, -0.15894413380489425, -3.133430619057208, -2.131574045626138, -6.482025623390342, -2.418196932413707, -0.7203707316276251, -3.300559169558241, -1.471619326161104, -2.482863766377193, 44.89222937062273, 111.36300186108039, 342.3288102466892, 126.67958024706634, 46.44073180391163, 109.87818312548369, 79.24678590247271, 116.00920992712938, 183.72168296997975, 172.42401221239166, 112.84118430770924, 47.093767508572306, 146.13142281352663, 102.46208811195226, 47.241389960329904, 180.68020637252235, 194.97220106715525, 74.8504874798056, 111.03721923065173, 76.32536173026364, 40.01830623171267, 90.78252295363133, 76.30022868521357, 122.41246286212751, 280.59340399289977, 143.4834898780203, 54.110994390695964, 82.90719216847779, 94.16250629297969, 71.25044242697746, 35.42519998118391, 84.31483017016961, 286.26962725331083, 108.34965101514068, 36.98808708952099, 90.85056977368625, 66.18410704186323, 101.20333890099562, 146.34521766478585, 150.74925286329196, 95.16874611221265, 41.39900478451852, 110.47156562031124, 83.03143300621181, 42.87990406127654, 161.07342979691126, 165.57457627659477, 67.03753360784088, 92.71542816925061, 66.07668294747074, 34.95035793759885, 82.91795693528469, 59.85034428231572, 106.4833669108217, 220.07980462526427, 120.76131984488012, 47.78192667558821, 57.18987165903686, 82.19729747899297, 54.73835189980477, 37.75982395986877, 40.71624994037739, 46.64540885675644, 48.70144022030136, 45.64467817344928, 44.26132208143357, 44.25409807748751, 47.83996928295028, 35.63770200737305, 46.11224841619744, 40.96224776697351, 49.89366863333349, 41.26482814247898, 40.52048034036802, 48.47799005016877, 50.88586612857365, 45.978325437708534, 55.80481396385381, 46.14623869121712, 49.76676606841861, 51.63699466969182, 53.62612687484355, 34.35809840118678, 45.04135387279997, 44.5684146391877, 46.509202260278585, 49.63783502247345, 38.307205284058206, 48.35169659019782, 36.543217733002415, -91.67054593629385, -109.8383479335725, -17.475572612221523, 12.329529747675878, -77.47324681094723, -77.33962585106755, -42.732092003419446, -58.14510275151008, -84.41152060393719, 4.262368100547874, -97.52338683742417, -24.206099345364137, -89.21712725299025, -72.56607081986824, -120.16042968973726, -88.61097854653455, -82.70331590720775, 18.678406608105853, -71.4198239196824, 50.30535743909069, -8.022870249083393, -49.06712720073598, -130.13339802496432, -66.78446212683663, -82.54308811269033, -59.798289371470325, -70.49851911199754, -124.28460705024102, -17.69249758632144, -120.07785559844123, 39.21273713115692, 30.453011992404555, 9.047314956629457, 5.499285014878643, 24.349465497595983, 18.674706573890372, 0.5037544821377812, 13.997383580478868, 29.32770159143419, 1.9913665820095818, 28.430069581600943, 1.8729404826432607, 38.63512730261832, 22.315559742186643, 13.005381083863785, 19.81702222548818, 15.178812041846507, 0.6113816125882416, 16.71149438381473, 8.357815156369787, 6.498120288227792, 8.013845497751616, 55.39295086435475, 35.542858223546276, 22.914261916465172, 15.829087664939708, 14.948583054220851, 57.4119284443266, 1.9382079525904927, 38.68347837075397, 41.427544657389326, 100.1662841796875, 315.0024037679037, 117.73522415161133, 41.98094584147135, 101.87928746541341, 74.36122589111328, 109.81524073282877, 172.00625762939453, 162.00941111246746, 104.7405616760254, 44.481499354044594, 130.70966313680012, 95.50019989013671, 45.252423731486004, 172.0068593343099, 182.44998118082682, 70.7762446085612, 102.38918431599934, 71.21157328287761, 37.573584111531574, 86.85305226643881, 70.41919021606445, 116.69815724690756, 252.94693857828776, 133.03675867716473, 51.85478057861328, 71.89152615865072, 89.29732182820638, 64.20575040181478, 46.69040864308675, 100.4800532023112, 332.99889882405597, 120.29204368591309, 42.22139949798584, 102.97162348429362, 76.19156150817871, 111.52368125915527, 190.53668238321941, 167.6039156595866, 109.24550806681314, 43.884673500061034, 130.74426816304523, 98.05444679260253, 44.338623428344725, 167.7947914123535, 182.2012171427409, 68.91559403737386, 103.5944315592448, 72.6252488454183, 37.520247840881346, 83.96607894897461, 73.4315902709961, 117.68082796732584, 253.82371215820314, 135.27827339172364, 51.14293855031331, 71.3548786799113, 91.69127909342448, 66.56452528635661]\n",
      "----------------------------------\n",
      "| environment/        |          |\n",
      "|    portfolio_value  | 3.79e+06 |\n",
      "|    total_cost       | 999      |\n",
      "|    total_reward     | 2.79e+06 |\n",
      "|    total_reward_pct | 279      |\n",
      "|    total_trades     | 42755    |\n",
      "| time/               |          |\n",
      "|    episodes         | 12       |\n",
      "|    fps              | 50       |\n",
      "|    time_elapsed     | 599      |\n",
      "|    total timesteps  | 30192    |\n",
      "| train/              |          |\n",
      "|    actor_loss       | 55.6     |\n",
      "|    critic_loss      | 30.5     |\n",
      "|    learning_rate    | 0.001    |\n",
      "|    n_updates        | 27676    |\n",
      "----------------------------------\n"
     ]
    }
   ],
   "source": [
    "trained_td3 = agent.train_model(model=model_td3, \n",
    "                             tb_log_name='td3',\n",
    "                             total_timesteps=30000)"
   ]
  },
  {
   "cell_type": "markdown",
   "metadata": {
    "id": "Dr49PotrfG01"
   },
   "source": [
    "### Model 5: SAC"
   ]
  },
  {
   "cell_type": "code",
   "execution_count": 37,
   "metadata": {
    "colab": {
     "base_uri": "https://localhost:8080/"
    },
    "id": "xwOhVjqRkCdM",
    "outputId": "44fcd5ee-7ce3-4c21-b2c8-131b7bba8127"
   },
   "outputs": [
    {
     "name": "stdout",
     "output_type": "stream",
     "text": [
      "{'batch_size': 128, 'buffer_size': 1000000, 'learning_rate': 0.0001, 'learning_starts': 100, 'ent_coef': 'auto_0.1'}\n",
      "Using cpu device\n"
     ]
    }
   ],
   "source": [
    "agent = DRLAgent(env = env_train)\n",
    "SAC_PARAMS = {\n",
    "    \"batch_size\": 128,\n",
    "    \"buffer_size\": 1000000,\n",
    "    \"learning_rate\": 0.0001,\n",
    "    \"learning_starts\": 100,\n",
    "    \"ent_coef\": \"auto_0.1\",\n",
    "}\n",
    "\n",
    "model_sac = agent.get_model(\"sac\",model_kwargs = SAC_PARAMS)"
   ]
  },
  {
   "cell_type": "code",
   "execution_count": null,
   "metadata": {
    "colab": {
     "base_uri": "https://localhost:8080/"
    },
    "id": "K8RSdKCckJyH",
    "outputId": "89e2ae3c-2559-4f93-82d4-168f9853db9e"
   },
   "outputs": [
    {
     "name": "stdout",
     "output_type": "stream",
     "text": [
      "[1000000, 2.78700590133667, 15.698216438293457, 33.94110107421875, 32.830360412597656, 12.59294605255127, 47.37364196777344, 15.336649894714355, 20.597496032714844, 72.55945587158203, 17.797922134399414, 59.18025588989258, 10.399736404418945, 42.00360870361328, 23.343862533569336, 15.628469467163086, 44.31218719482422, 42.266517639160156, 19.942874908447266, 15.435609817504883, 11.325711250305176, 10.71481990814209, 42.82729721069336, 25.695541381835938, 33.274017333984375, 23.23461151123047, 12.23261833190918, 17.803312301635742, 19.09723472595215, 42.599510192871094, 51.8355827331543, 0, 0, 0, 0, 0, 0, 0, 0, 0, 0, 0, 0, 0, 0, 0, 0, 0, 0, 0, 0, 0, 0, 0, 0, 0, 0, 0, 0, 0, 0, 0.0, 0.0, 0.0, 0.0, 0.0, 0.0, 0.0, 0.0, 0.0, 0.0, 0.0, 0.0, 0.0, 0.0, 0.0, 0.0, 0.0, 0.0, 0.0, 0.0, 0.0, 0.0, 0.0, 0.0, 0.0, 0.0, 0.0, 0.0, 0.0, 0.0, 3.0121616168871115, 3.0121616168871115, 3.0121616168871115, 3.0121616168871115, 3.0121616168871115, 3.0121616168871115, 3.0121616168871115, 3.0121616168871115, 3.0121616168871115, 3.0121616168871115, 3.0121616168871115, 3.0121616168871115, 3.0121616168871115, 3.0121616168871115, 3.0121616168871115, 3.0121616168871115, 3.0121616168871115, 3.0121616168871115, 3.0121616168871115, 3.0121616168871115, 3.0121616168871115, 3.0121616168871115, 3.0121616168871115, 3.0121616168871115, 3.0121616168871115, 3.0121616168871115, 3.0121616168871115, 3.0121616168871115, 3.0121616168871115, 3.0121616168871115, 2.679473276530247, 2.679473276530247, 2.679473276530247, 2.679473276530247, 2.679473276530247, 2.679473276530247, 2.679473276530247, 2.679473276530247, 2.679473276530247, 2.679473276530247, 2.679473276530247, 2.679473276530247, 2.679473276530247, 2.679473276530247, 2.679473276530247, 2.679473276530247, 2.679473276530247, 2.679473276530247, 2.679473276530247, 2.679473276530247, 2.679473276530247, 2.679473276530247, 2.679473276530247, 2.679473276530247, 2.679473276530247, 2.679473276530247, 2.679473276530247, 2.679473276530247, 2.679473276530247, 2.679473276530247, 100.0, 100.0, 100.0, 100.0, 100.0, 100.0, 100.0, 100.0, 100.0, 100.0, 100.0, 100.0, 100.0, 100.0, 100.0, 100.0, 100.0, 100.0, 100.0, 100.0, 100.0, 100.0, 100.0, 100.0, 100.0, 100.0, 100.0, 100.0, 100.0, 100.0, 66.66666666666652, 66.66666666666652, 66.66666666666652, 66.66666666666652, 66.66666666666652, 66.66666666666652, 66.66666666666652, 66.66666666666652, 66.66666666666652, 66.66666666666652, 66.66666666666652, 66.66666666666652, 66.66666666666652, 66.66666666666652, 66.66666666666652, 66.66666666666652, 66.66666666666652, 66.66666666666652, 66.66666666666652, 66.66666666666652, 66.66666666666652, 66.66666666666652, 66.66666666666652, 66.66666666666652, 66.66666666666652, 66.66666666666652, 66.66666666666652, 66.66666666666652, 66.66666666666652, 66.66666666666652, 100.0, 100.0, 100.0, 100.0, 100.0, 100.0, 100.0, 100.0, 100.0, 100.0, 100.0, 100.0, 100.0, 100.0, 100.0, 100.0, 100.0, 100.0, 100.0, 100.0, 100.0, 100.0, 100.0, 100.0, 100.0, 100.0, 100.0, 100.0, 100.0, 100.0, 2.78700590133667, 15.698216438293457, 33.94110107421875, 32.830360412597656, 12.59294605255127, 47.37364196777344, 15.336649894714355, 20.597496032714844, 72.55945587158203, 17.797922134399414, 59.18025588989258, 10.399736404418945, 42.00360870361328, 23.343862533569336, 15.628469467163086, 44.31218719482422, 42.266517639160156, 19.942874908447266, 15.435609817504883, 11.325711250305176, 10.71481990814209, 42.82729721069336, 25.695541381835938, 33.274017333984375, 23.23461151123047, 12.23261833190918, 17.803312301635742, 19.09723472595215, 42.599510192871094, 51.8355827331543, 2.78700590133667, 15.698216438293457, 33.94110107421875, 32.830360412597656, 12.59294605255127, 47.37364196777344, 15.336649894714355, 20.597496032714844, 72.55945587158203, 17.797922134399414, 59.18025588989258, 10.399736404418945, 42.00360870361328, 23.343862533569336, 15.628469467163086, 44.31218719482422, 42.266517639160156, 19.942874908447266, 15.435609817504883, 11.325711250305176, 10.71481990814209, 42.82729721069336, 25.695541381835938, 33.274017333984375, 23.23461151123047, 12.23261833190918, 17.803312301635742, 19.09723472595215, 42.599510192871094, 51.8355827331543]\n",
      "Logging to tensorboard_log/sac\\sac_1\n",
      "[1000000, 38.39591979980469, 91.69662475585938, 313.3722229003906, 118.78218841552734, 40.123985290527344, 97.55754852294922, 72.68486785888672, 108.32612609863281, 159.20101928710938, 162.39141845703125, 100.57974243164062, 44.13541793823242, 121.43285369873047, 90.1629638671875, 44.01080322265625, 168.1305389404297, 176.2595672607422, 71.46668243408203, 98.81327819824219, 72.5230484008789, 37.58075714111328, 86.1761703491211, 63.318092346191406, 113.30058288574219, 240.15750122070312, 129.90611267089844, 50.585201263427734, 62.84025573730469, 89.07861328125, 58.40364074707031, 0, 0, 0, 0, 0, 0, 0, 0, 0, 0, 0, 0, 0, 0, 0, 0, 0, 0, 0, 0, 0, 0, 0, 0, 0, 0, 0, 0, 0, 0, -2.141041777965299, -3.552996723704098, -6.5322711673567255, -0.8822167825157834, -0.9799449674846201, -2.1934933168446946, -1.5881746002519037, -1.8656878145195321, -9.081052234113486, -2.2328399684980695, -2.5064249292951075, -0.32983955379442875, -4.102228793422313, -2.889179649527293, -0.37578329318664316, -1.5821942612953137, -3.034807609728148, -0.045701227715255754, -1.989642958275212, -0.4748045008294781, -0.31164924659512394, -0.15894413380489425, -3.133430619057208, -2.131574045626138, -6.482025623390342, -2.418196932413707, -0.7203707316276251, -3.300559169558241, -1.471619326161104, -2.482863766377193, 44.89222937062273, 111.36300186108039, 342.3288102466892, 126.67958024706634, 46.44073180391163, 109.87818312548369, 79.24678590247271, 116.00920992712938, 183.72168296997975, 172.42401221239166, 112.84118430770924, 47.093767508572306, 146.13142281352663, 102.46208811195226, 47.241389960329904, 180.68020637252235, 194.97220106715525, 74.8504874798056, 111.03721923065173, 76.32536173026364, 40.01830623171267, 90.78252295363133, 76.30022868521357, 122.41246286212751, 280.59340399289977, 143.4834898780203, 54.110994390695964, 82.90719216847779, 94.16250629297969, 71.25044242697746, 35.42519998118391, 84.31483017016961, 286.26962725331083, 108.34965101514068, 36.98808708952099, 90.85056977368625, 66.18410704186323, 101.20333890099562, 146.34521766478585, 150.74925286329196, 95.16874611221265, 41.39900478451852, 110.47156562031124, 83.03143300621181, 42.87990406127654, 161.07342979691126, 165.57457627659477, 67.03753360784088, 92.71542816925061, 66.07668294747074, 34.95035793759885, 82.91795693528469, 59.85034428231572, 106.4833669108217, 220.07980462526427, 120.76131984488012, 47.78192667558821, 57.18987165903686, 82.19729747899297, 54.73835189980477, 37.75982395986877, 40.71624994037739, 46.64540885675644, 48.70144022030136, 45.64467817344928, 44.26132208143357, 44.25409807748751, 47.83996928295028, 35.63770200737305, 46.11224841619744, 40.96224776697351, 49.89366863333349, 41.26482814247898, 40.52048034036802, 48.47799005016877, 50.88586612857365, 45.978325437708534, 55.80481396385381, 46.14623869121712, 49.76676606841861, 51.63699466969182, 53.62612687484355, 34.35809840118678, 45.04135387279997, 44.5684146391877, 46.509202260278585, 49.63783502247345, 38.307205284058206, 48.35169659019782, 36.543217733002415, -91.67054593629385, -109.8383479335725, -17.475572612221523, 12.329529747675878, -77.47324681094723, -77.33962585106755, -42.732092003419446, -58.14510275151008, -84.41152060393719, 4.262368100547874, -97.52338683742417, -24.206099345364137, -89.21712725299025, -72.56607081986824, -120.16042968973726, -88.61097854653455, -82.70331590720775, 18.678406608105853, -71.4198239196824, 50.30535743909069, -8.022870249083393, -49.06712720073598, -130.13339802496432, -66.78446212683663, -82.54308811269033, -59.798289371470325, -70.49851911199754, -124.28460705024102, -17.69249758632144, -120.07785559844123, 39.21273713115692, 30.453011992404555, 9.047314956629457, 5.499285014878643, 24.349465497595983, 18.674706573890372, 0.5037544821377812, 13.997383580478868, 29.32770159143419, 1.9913665820095818, 28.430069581600943, 1.8729404826432607, 38.63512730261832, 22.315559742186643, 13.005381083863785, 19.81702222548818, 15.178812041846507, 0.6113816125882416, 16.71149438381473, 8.357815156369787, 6.498120288227792, 8.013845497751616, 55.39295086435475, 35.542858223546276, 22.914261916465172, 15.829087664939708, 14.948583054220851, 57.4119284443266, 1.9382079525904927, 38.68347837075397, 41.427544657389326, 100.1662841796875, 315.0024037679037, 117.73522415161133, 41.98094584147135, 101.87928746541341, 74.36122589111328, 109.81524073282877, 172.00625762939453, 162.00941111246746, 104.7405616760254, 44.481499354044594, 130.70966313680012, 95.50019989013671, 45.252423731486004, 172.0068593343099, 182.44998118082682, 70.7762446085612, 102.38918431599934, 71.21157328287761, 37.573584111531574, 86.85305226643881, 70.41919021606445, 116.69815724690756, 252.94693857828776, 133.03675867716473, 51.85478057861328, 71.89152615865072, 89.29732182820638, 64.20575040181478, 46.69040864308675, 100.4800532023112, 332.99889882405597, 120.29204368591309, 42.22139949798584, 102.97162348429362, 76.19156150817871, 111.52368125915527, 190.53668238321941, 167.6039156595866, 109.24550806681314, 43.884673500061034, 130.74426816304523, 98.05444679260253, 44.338623428344725, 167.7947914123535, 182.2012171427409, 68.91559403737386, 103.5944315592448, 72.6252488454183, 37.520247840881346, 83.96607894897461, 73.4315902709961, 117.68082796732584, 253.82371215820314, 135.27827339172364, 51.14293855031331, 71.3548786799113, 91.69127909342448, 66.56452528635661]\n"
     ]
    },
    {
     "name": "stdout",
     "output_type": "stream",
     "text": [
      "[1000000, 38.39591979980469, 91.69662475585938, 313.3722229003906, 118.78218841552734, 40.123985290527344, 97.55754852294922, 72.68486785888672, 108.32612609863281, 159.20101928710938, 162.39141845703125, 100.57974243164062, 44.13541793823242, 121.43285369873047, 90.1629638671875, 44.01080322265625, 168.1305389404297, 176.2595672607422, 71.46668243408203, 98.81327819824219, 72.5230484008789, 37.58075714111328, 86.1761703491211, 63.318092346191406, 113.30058288574219, 240.15750122070312, 129.90611267089844, 50.585201263427734, 62.84025573730469, 89.07861328125, 58.40364074707031, 0, 0, 0, 0, 0, 0, 0, 0, 0, 0, 0, 0, 0, 0, 0, 0, 0, 0, 0, 0, 0, 0, 0, 0, 0, 0, 0, 0, 0, 0, -2.141041777965299, -3.552996723704098, -6.5322711673567255, -0.8822167825157834, -0.9799449674846201, -2.1934933168446946, -1.5881746002519037, -1.8656878145195321, -9.081052234113486, -2.2328399684980695, -2.5064249292951075, -0.32983955379442875, -4.102228793422313, -2.889179649527293, -0.37578329318664316, -1.5821942612953137, -3.034807609728148, -0.045701227715255754, -1.989642958275212, -0.4748045008294781, -0.31164924659512394, -0.15894413380489425, -3.133430619057208, -2.131574045626138, -6.482025623390342, -2.418196932413707, -0.7203707316276251, -3.300559169558241, -1.471619326161104, -2.482863766377193, 44.89222937062273, 111.36300186108039, 342.3288102466892, 126.67958024706634, 46.44073180391163, 109.87818312548369, 79.24678590247271, 116.00920992712938, 183.72168296997975, 172.42401221239166, 112.84118430770924, 47.093767508572306, 146.13142281352663, 102.46208811195226, 47.241389960329904, 180.68020637252235, 194.97220106715525, 74.8504874798056, 111.03721923065173, 76.32536173026364, 40.01830623171267, 90.78252295363133, 76.30022868521357, 122.41246286212751, 280.59340399289977, 143.4834898780203, 54.110994390695964, 82.90719216847779, 94.16250629297969, 71.25044242697746, 35.42519998118391, 84.31483017016961, 286.26962725331083, 108.34965101514068, 36.98808708952099, 90.85056977368625, 66.18410704186323, 101.20333890099562, 146.34521766478585, 150.74925286329196, 95.16874611221265, 41.39900478451852, 110.47156562031124, 83.03143300621181, 42.87990406127654, 161.07342979691126, 165.57457627659477, 67.03753360784088, 92.71542816925061, 66.07668294747074, 34.95035793759885, 82.91795693528469, 59.85034428231572, 106.4833669108217, 220.07980462526427, 120.76131984488012, 47.78192667558821, 57.18987165903686, 82.19729747899297, 54.73835189980477, 37.75982395986877, 40.71624994037739, 46.64540885675644, 48.70144022030136, 45.64467817344928, 44.26132208143357, 44.25409807748751, 47.83996928295028, 35.63770200737305, 46.11224841619744, 40.96224776697351, 49.89366863333349, 41.26482814247898, 40.52048034036802, 48.47799005016877, 50.88586612857365, 45.978325437708534, 55.80481396385381, 46.14623869121712, 49.76676606841861, 51.63699466969182, 53.62612687484355, 34.35809840118678, 45.04135387279997, 44.5684146391877, 46.509202260278585, 49.63783502247345, 38.307205284058206, 48.35169659019782, 36.543217733002415, -91.67054593629385, -109.8383479335725, -17.475572612221523, 12.329529747675878, -77.47324681094723, -77.33962585106755, -42.732092003419446, -58.14510275151008, -84.41152060393719, 4.262368100547874, -97.52338683742417, -24.206099345364137, -89.21712725299025, -72.56607081986824, -120.16042968973726, -88.61097854653455, -82.70331590720775, 18.678406608105853, -71.4198239196824, 50.30535743909069, -8.022870249083393, -49.06712720073598, -130.13339802496432, -66.78446212683663, -82.54308811269033, -59.798289371470325, -70.49851911199754, -124.28460705024102, -17.69249758632144, -120.07785559844123, 39.21273713115692, 30.453011992404555, 9.047314956629457, 5.499285014878643, 24.349465497595983, 18.674706573890372, 0.5037544821377812, 13.997383580478868, 29.32770159143419, 1.9913665820095818, 28.430069581600943, 1.8729404826432607, 38.63512730261832, 22.315559742186643, 13.005381083863785, 19.81702222548818, 15.178812041846507, 0.6113816125882416, 16.71149438381473, 8.357815156369787, 6.498120288227792, 8.013845497751616, 55.39295086435475, 35.542858223546276, 22.914261916465172, 15.829087664939708, 14.948583054220851, 57.4119284443266, 1.9382079525904927, 38.68347837075397, 41.427544657389326, 100.1662841796875, 315.0024037679037, 117.73522415161133, 41.98094584147135, 101.87928746541341, 74.36122589111328, 109.81524073282877, 172.00625762939453, 162.00941111246746, 104.7405616760254, 44.481499354044594, 130.70966313680012, 95.50019989013671, 45.252423731486004, 172.0068593343099, 182.44998118082682, 70.7762446085612, 102.38918431599934, 71.21157328287761, 37.573584111531574, 86.85305226643881, 70.41919021606445, 116.69815724690756, 252.94693857828776, 133.03675867716473, 51.85478057861328, 71.89152615865072, 89.29732182820638, 64.20575040181478, 46.69040864308675, 100.4800532023112, 332.99889882405597, 120.29204368591309, 42.22139949798584, 102.97162348429362, 76.19156150817871, 111.52368125915527, 190.53668238321941, 167.6039156595866, 109.24550806681314, 43.884673500061034, 130.74426816304523, 98.05444679260253, 44.338623428344725, 167.7947914123535, 182.2012171427409, 68.91559403737386, 103.5944315592448, 72.6252488454183, 37.520247840881346, 83.96607894897461, 73.4315902709961, 117.68082796732584, 253.82371215820314, 135.27827339172364, 51.14293855031331, 71.3548786799113, 91.69127909342448, 66.56452528635661]\n",
      "day: 2515, episode: 60\n",
      "begin_total_asset: 1000000.00\n",
      "end_total_asset: 2132707.94\n",
      "total_reward: 1132707.94\n",
      "total_cost: 112354.07\n",
      "total_trades: 63522\n",
      "Sharpe: 0.498\n",
      "=================================\n",
      "[1000000, 38.39591979980469, 91.69662475585938, 313.3722229003906, 118.78218841552734, 40.123985290527344, 97.55754852294922, 72.68486785888672, 108.32612609863281, 159.20101928710938, 162.39141845703125, 100.57974243164062, 44.13541793823242, 121.43285369873047, 90.1629638671875, 44.01080322265625, 168.1305389404297, 176.2595672607422, 71.46668243408203, 98.81327819824219, 72.5230484008789, 37.58075714111328, 86.1761703491211, 63.318092346191406, 113.30058288574219, 240.15750122070312, 129.90611267089844, 50.585201263427734, 62.84025573730469, 89.07861328125, 58.40364074707031, 0, 0, 0, 0, 0, 0, 0, 0, 0, 0, 0, 0, 0, 0, 0, 0, 0, 0, 0, 0, 0, 0, 0, 0, 0, 0, 0, 0, 0, 0, -2.141041777965299, -3.552996723704098, -6.5322711673567255, -0.8822167825157834, -0.9799449674846201, -2.1934933168446946, -1.5881746002519037, -1.8656878145195321, -9.081052234113486, -2.2328399684980695, -2.5064249292951075, -0.32983955379442875, -4.102228793422313, -2.889179649527293, -0.37578329318664316, -1.5821942612953137, -3.034807609728148, -0.045701227715255754, -1.989642958275212, -0.4748045008294781, -0.31164924659512394, -0.15894413380489425, -3.133430619057208, -2.131574045626138, -6.482025623390342, -2.418196932413707, -0.7203707316276251, -3.300559169558241, -1.471619326161104, -2.482863766377193, 44.89222937062273, 111.36300186108039, 342.3288102466892, 126.67958024706634, 46.44073180391163, 109.87818312548369, 79.24678590247271, 116.00920992712938, 183.72168296997975, 172.42401221239166, 112.84118430770924, 47.093767508572306, 146.13142281352663, 102.46208811195226, 47.241389960329904, 180.68020637252235, 194.97220106715525, 74.8504874798056, 111.03721923065173, 76.32536173026364, 40.01830623171267, 90.78252295363133, 76.30022868521357, 122.41246286212751, 280.59340399289977, 143.4834898780203, 54.110994390695964, 82.90719216847779, 94.16250629297969, 71.25044242697746, 35.42519998118391, 84.31483017016961, 286.26962725331083, 108.34965101514068, 36.98808708952099, 90.85056977368625, 66.18410704186323, 101.20333890099562, 146.34521766478585, 150.74925286329196, 95.16874611221265, 41.39900478451852, 110.47156562031124, 83.03143300621181, 42.87990406127654, 161.07342979691126, 165.57457627659477, 67.03753360784088, 92.71542816925061, 66.07668294747074, 34.95035793759885, 82.91795693528469, 59.85034428231572, 106.4833669108217, 220.07980462526427, 120.76131984488012, 47.78192667558821, 57.18987165903686, 82.19729747899297, 54.73835189980477, 37.75982395986877, 40.71624994037739, 46.64540885675644, 48.70144022030136, 45.64467817344928, 44.26132208143357, 44.25409807748751, 47.83996928295028, 35.63770200737305, 46.11224841619744, 40.96224776697351, 49.89366863333349, 41.26482814247898, 40.52048034036802, 48.47799005016877, 50.88586612857365, 45.978325437708534, 55.80481396385381, 46.14623869121712, 49.76676606841861, 51.63699466969182, 53.62612687484355, 34.35809840118678, 45.04135387279997, 44.5684146391877, 46.509202260278585, 49.63783502247345, 38.307205284058206, 48.35169659019782, 36.543217733002415, -91.67054593629385, -109.8383479335725, -17.475572612221523, 12.329529747675878, -77.47324681094723, -77.33962585106755, -42.732092003419446, -58.14510275151008, -84.41152060393719, 4.262368100547874, -97.52338683742417, -24.206099345364137, -89.21712725299025, -72.56607081986824, -120.16042968973726, -88.61097854653455, -82.70331590720775, 18.678406608105853, -71.4198239196824, 50.30535743909069, -8.022870249083393, -49.06712720073598, -130.13339802496432, -66.78446212683663, -82.54308811269033, -59.798289371470325, -70.49851911199754, -124.28460705024102, -17.69249758632144, -120.07785559844123, 39.21273713115692, 30.453011992404555, 9.047314956629457, 5.499285014878643, 24.349465497595983, 18.674706573890372, 0.5037544821377812, 13.997383580478868, 29.32770159143419, 1.9913665820095818, 28.430069581600943, 1.8729404826432607, 38.63512730261832, 22.315559742186643, 13.005381083863785, 19.81702222548818, 15.178812041846507, 0.6113816125882416, 16.71149438381473, 8.357815156369787, 6.498120288227792, 8.013845497751616, 55.39295086435475, 35.542858223546276, 22.914261916465172, 15.829087664939708, 14.948583054220851, 57.4119284443266, 1.9382079525904927, 38.68347837075397, 41.427544657389326, 100.1662841796875, 315.0024037679037, 117.73522415161133, 41.98094584147135, 101.87928746541341, 74.36122589111328, 109.81524073282877, 172.00625762939453, 162.00941111246746, 104.7405616760254, 44.481499354044594, 130.70966313680012, 95.50019989013671, 45.252423731486004, 172.0068593343099, 182.44998118082682, 70.7762446085612, 102.38918431599934, 71.21157328287761, 37.573584111531574, 86.85305226643881, 70.41919021606445, 116.69815724690756, 252.94693857828776, 133.03675867716473, 51.85478057861328, 71.89152615865072, 89.29732182820638, 64.20575040181478, 46.69040864308675, 100.4800532023112, 332.99889882405597, 120.29204368591309, 42.22139949798584, 102.97162348429362, 76.19156150817871, 111.52368125915527, 190.53668238321941, 167.6039156595866, 109.24550806681314, 43.884673500061034, 130.74426816304523, 98.05444679260253, 44.338623428344725, 167.7947914123535, 182.2012171427409, 68.91559403737386, 103.5944315592448, 72.6252488454183, 37.520247840881346, 83.96607894897461, 73.4315902709961, 117.68082796732584, 253.82371215820314, 135.27827339172364, 51.14293855031331, 71.3548786799113, 91.69127909342448, 66.56452528635661]\n"
     ]
    },
    {
     "name": "stdout",
     "output_type": "stream",
     "text": [
      "[1000000, 38.39591979980469, 91.69662475585938, 313.3722229003906, 118.78218841552734, 40.123985290527344, 97.55754852294922, 72.68486785888672, 108.32612609863281, 159.20101928710938, 162.39141845703125, 100.57974243164062, 44.13541793823242, 121.43285369873047, 90.1629638671875, 44.01080322265625, 168.1305389404297, 176.2595672607422, 71.46668243408203, 98.81327819824219, 72.5230484008789, 37.58075714111328, 86.1761703491211, 63.318092346191406, 113.30058288574219, 240.15750122070312, 129.90611267089844, 50.585201263427734, 62.84025573730469, 89.07861328125, 58.40364074707031, 0, 0, 0, 0, 0, 0, 0, 0, 0, 0, 0, 0, 0, 0, 0, 0, 0, 0, 0, 0, 0, 0, 0, 0, 0, 0, 0, 0, 0, 0, -2.141041777965299, -3.552996723704098, -6.5322711673567255, -0.8822167825157834, -0.9799449674846201, -2.1934933168446946, -1.5881746002519037, -1.8656878145195321, -9.081052234113486, -2.2328399684980695, -2.5064249292951075, -0.32983955379442875, -4.102228793422313, -2.889179649527293, -0.37578329318664316, -1.5821942612953137, -3.034807609728148, -0.045701227715255754, -1.989642958275212, -0.4748045008294781, -0.31164924659512394, -0.15894413380489425, -3.133430619057208, -2.131574045626138, -6.482025623390342, -2.418196932413707, -0.7203707316276251, -3.300559169558241, -1.471619326161104, -2.482863766377193, 44.89222937062273, 111.36300186108039, 342.3288102466892, 126.67958024706634, 46.44073180391163, 109.87818312548369, 79.24678590247271, 116.00920992712938, 183.72168296997975, 172.42401221239166, 112.84118430770924, 47.093767508572306, 146.13142281352663, 102.46208811195226, 47.241389960329904, 180.68020637252235, 194.97220106715525, 74.8504874798056, 111.03721923065173, 76.32536173026364, 40.01830623171267, 90.78252295363133, 76.30022868521357, 122.41246286212751, 280.59340399289977, 143.4834898780203, 54.110994390695964, 82.90719216847779, 94.16250629297969, 71.25044242697746, 35.42519998118391, 84.31483017016961, 286.26962725331083, 108.34965101514068, 36.98808708952099, 90.85056977368625, 66.18410704186323, 101.20333890099562, 146.34521766478585, 150.74925286329196, 95.16874611221265, 41.39900478451852, 110.47156562031124, 83.03143300621181, 42.87990406127654, 161.07342979691126, 165.57457627659477, 67.03753360784088, 92.71542816925061, 66.07668294747074, 34.95035793759885, 82.91795693528469, 59.85034428231572, 106.4833669108217, 220.07980462526427, 120.76131984488012, 47.78192667558821, 57.18987165903686, 82.19729747899297, 54.73835189980477, 37.75982395986877, 40.71624994037739, 46.64540885675644, 48.70144022030136, 45.64467817344928, 44.26132208143357, 44.25409807748751, 47.83996928295028, 35.63770200737305, 46.11224841619744, 40.96224776697351, 49.89366863333349, 41.26482814247898, 40.52048034036802, 48.47799005016877, 50.88586612857365, 45.978325437708534, 55.80481396385381, 46.14623869121712, 49.76676606841861, 51.63699466969182, 53.62612687484355, 34.35809840118678, 45.04135387279997, 44.5684146391877, 46.509202260278585, 49.63783502247345, 38.307205284058206, 48.35169659019782, 36.543217733002415, -91.67054593629385, -109.8383479335725, -17.475572612221523, 12.329529747675878, -77.47324681094723, -77.33962585106755, -42.732092003419446, -58.14510275151008, -84.41152060393719, 4.262368100547874, -97.52338683742417, -24.206099345364137, -89.21712725299025, -72.56607081986824, -120.16042968973726, -88.61097854653455, -82.70331590720775, 18.678406608105853, -71.4198239196824, 50.30535743909069, -8.022870249083393, -49.06712720073598, -130.13339802496432, -66.78446212683663, -82.54308811269033, -59.798289371470325, -70.49851911199754, -124.28460705024102, -17.69249758632144, -120.07785559844123, 39.21273713115692, 30.453011992404555, 9.047314956629457, 5.499285014878643, 24.349465497595983, 18.674706573890372, 0.5037544821377812, 13.997383580478868, 29.32770159143419, 1.9913665820095818, 28.430069581600943, 1.8729404826432607, 38.63512730261832, 22.315559742186643, 13.005381083863785, 19.81702222548818, 15.178812041846507, 0.6113816125882416, 16.71149438381473, 8.357815156369787, 6.498120288227792, 8.013845497751616, 55.39295086435475, 35.542858223546276, 22.914261916465172, 15.829087664939708, 14.948583054220851, 57.4119284443266, 1.9382079525904927, 38.68347837075397, 41.427544657389326, 100.1662841796875, 315.0024037679037, 117.73522415161133, 41.98094584147135, 101.87928746541341, 74.36122589111328, 109.81524073282877, 172.00625762939453, 162.00941111246746, 104.7405616760254, 44.481499354044594, 130.70966313680012, 95.50019989013671, 45.252423731486004, 172.0068593343099, 182.44998118082682, 70.7762446085612, 102.38918431599934, 71.21157328287761, 37.573584111531574, 86.85305226643881, 70.41919021606445, 116.69815724690756, 252.94693857828776, 133.03675867716473, 51.85478057861328, 71.89152615865072, 89.29732182820638, 64.20575040181478, 46.69040864308675, 100.4800532023112, 332.99889882405597, 120.29204368591309, 42.22139949798584, 102.97162348429362, 76.19156150817871, 111.52368125915527, 190.53668238321941, 167.6039156595866, 109.24550806681314, 43.884673500061034, 130.74426816304523, 98.05444679260253, 44.338623428344725, 167.7947914123535, 182.2012171427409, 68.91559403737386, 103.5944315592448, 72.6252488454183, 37.520247840881346, 83.96607894897461, 73.4315902709961, 117.68082796732584, 253.82371215820314, 135.27827339172364, 51.14293855031331, 71.3548786799113, 91.69127909342448, 66.56452528635661]\n",
      "----------------------------------\n",
      "| environment/        |          |\n",
      "|    portfolio_value  | 3.36e+06 |\n",
      "|    total_cost       | 6.02e+04 |\n",
      "|    total_reward     | 2.36e+06 |\n",
      "|    total_reward_pct | 236      |\n",
      "|    total_trades     | 57481    |\n",
      "| time/               |          |\n",
      "|    episodes         | 4        |\n",
      "|    fps              | 41       |\n",
      "|    time_elapsed     | 241      |\n",
      "|    total timesteps  | 10064    |\n",
      "| train/              |          |\n",
      "|    actor_loss       | 248      |\n",
      "|    critic_loss      | 296      |\n",
      "|    ent_coef         | 0.0822   |\n",
      "|    ent_coef_loss    | -117     |\n",
      "|    learning_rate    | 0.0001   |\n",
      "|    n_updates        | 9963     |\n",
      "----------------------------------\n",
      "[1000000, 38.39591979980469, 91.69662475585938, 313.3722229003906, 118.78218841552734, 40.123985290527344, 97.55754852294922, 72.68486785888672, 108.32612609863281, 159.20101928710938, 162.39141845703125, 100.57974243164062, 44.13541793823242, 121.43285369873047, 90.1629638671875, 44.01080322265625, 168.1305389404297, 176.2595672607422, 71.46668243408203, 98.81327819824219, 72.5230484008789, 37.58075714111328, 86.1761703491211, 63.318092346191406, 113.30058288574219, 240.15750122070312, 129.90611267089844, 50.585201263427734, 62.84025573730469, 89.07861328125, 58.40364074707031, 0, 0, 0, 0, 0, 0, 0, 0, 0, 0, 0, 0, 0, 0, 0, 0, 0, 0, 0, 0, 0, 0, 0, 0, 0, 0, 0, 0, 0, 0, -2.141041777965299, -3.552996723704098, -6.5322711673567255, -0.8822167825157834, -0.9799449674846201, -2.1934933168446946, -1.5881746002519037, -1.8656878145195321, -9.081052234113486, -2.2328399684980695, -2.5064249292951075, -0.32983955379442875, -4.102228793422313, -2.889179649527293, -0.37578329318664316, -1.5821942612953137, -3.034807609728148, -0.045701227715255754, -1.989642958275212, -0.4748045008294781, -0.31164924659512394, -0.15894413380489425, -3.133430619057208, -2.131574045626138, -6.482025623390342, -2.418196932413707, -0.7203707316276251, -3.300559169558241, -1.471619326161104, -2.482863766377193, 44.89222937062273, 111.36300186108039, 342.3288102466892, 126.67958024706634, 46.44073180391163, 109.87818312548369, 79.24678590247271, 116.00920992712938, 183.72168296997975, 172.42401221239166, 112.84118430770924, 47.093767508572306, 146.13142281352663, 102.46208811195226, 47.241389960329904, 180.68020637252235, 194.97220106715525, 74.8504874798056, 111.03721923065173, 76.32536173026364, 40.01830623171267, 90.78252295363133, 76.30022868521357, 122.41246286212751, 280.59340399289977, 143.4834898780203, 54.110994390695964, 82.90719216847779, 94.16250629297969, 71.25044242697746, 35.42519998118391, 84.31483017016961, 286.26962725331083, 108.34965101514068, 36.98808708952099, 90.85056977368625, 66.18410704186323, 101.20333890099562, 146.34521766478585, 150.74925286329196, 95.16874611221265, 41.39900478451852, 110.47156562031124, 83.03143300621181, 42.87990406127654, 161.07342979691126, 165.57457627659477, 67.03753360784088, 92.71542816925061, 66.07668294747074, 34.95035793759885, 82.91795693528469, 59.85034428231572, 106.4833669108217, 220.07980462526427, 120.76131984488012, 47.78192667558821, 57.18987165903686, 82.19729747899297, 54.73835189980477, 37.75982395986877, 40.71624994037739, 46.64540885675644, 48.70144022030136, 45.64467817344928, 44.26132208143357, 44.25409807748751, 47.83996928295028, 35.63770200737305, 46.11224841619744, 40.96224776697351, 49.89366863333349, 41.26482814247898, 40.52048034036802, 48.47799005016877, 50.88586612857365, 45.978325437708534, 55.80481396385381, 46.14623869121712, 49.76676606841861, 51.63699466969182, 53.62612687484355, 34.35809840118678, 45.04135387279997, 44.5684146391877, 46.509202260278585, 49.63783502247345, 38.307205284058206, 48.35169659019782, 36.543217733002415, -91.67054593629385, -109.8383479335725, -17.475572612221523, 12.329529747675878, -77.47324681094723, -77.33962585106755, -42.732092003419446, -58.14510275151008, -84.41152060393719, 4.262368100547874, -97.52338683742417, -24.206099345364137, -89.21712725299025, -72.56607081986824, -120.16042968973726, -88.61097854653455, -82.70331590720775, 18.678406608105853, -71.4198239196824, 50.30535743909069, -8.022870249083393, -49.06712720073598, -130.13339802496432, -66.78446212683663, -82.54308811269033, -59.798289371470325, -70.49851911199754, -124.28460705024102, -17.69249758632144, -120.07785559844123, 39.21273713115692, 30.453011992404555, 9.047314956629457, 5.499285014878643, 24.349465497595983, 18.674706573890372, 0.5037544821377812, 13.997383580478868, 29.32770159143419, 1.9913665820095818, 28.430069581600943, 1.8729404826432607, 38.63512730261832, 22.315559742186643, 13.005381083863785, 19.81702222548818, 15.178812041846507, 0.6113816125882416, 16.71149438381473, 8.357815156369787, 6.498120288227792, 8.013845497751616, 55.39295086435475, 35.542858223546276, 22.914261916465172, 15.829087664939708, 14.948583054220851, 57.4119284443266, 1.9382079525904927, 38.68347837075397, 41.427544657389326, 100.1662841796875, 315.0024037679037, 117.73522415161133, 41.98094584147135, 101.87928746541341, 74.36122589111328, 109.81524073282877, 172.00625762939453, 162.00941111246746, 104.7405616760254, 44.481499354044594, 130.70966313680012, 95.50019989013671, 45.252423731486004, 172.0068593343099, 182.44998118082682, 70.7762446085612, 102.38918431599934, 71.21157328287761, 37.573584111531574, 86.85305226643881, 70.41919021606445, 116.69815724690756, 252.94693857828776, 133.03675867716473, 51.85478057861328, 71.89152615865072, 89.29732182820638, 64.20575040181478, 46.69040864308675, 100.4800532023112, 332.99889882405597, 120.29204368591309, 42.22139949798584, 102.97162348429362, 76.19156150817871, 111.52368125915527, 190.53668238321941, 167.6039156595866, 109.24550806681314, 43.884673500061034, 130.74426816304523, 98.05444679260253, 44.338623428344725, 167.7947914123535, 182.2012171427409, 68.91559403737386, 103.5944315592448, 72.6252488454183, 37.520247840881346, 83.96607894897461, 73.4315902709961, 117.68082796732584, 253.82371215820314, 135.27827339172364, 51.14293855031331, 71.3548786799113, 91.69127909342448, 66.56452528635661]\n"
     ]
    },
    {
     "name": "stdout",
     "output_type": "stream",
     "text": [
      "[1000000, 38.39591979980469, 91.69662475585938, 313.3722229003906, 118.78218841552734, 40.123985290527344, 97.55754852294922, 72.68486785888672, 108.32612609863281, 159.20101928710938, 162.39141845703125, 100.57974243164062, 44.13541793823242, 121.43285369873047, 90.1629638671875, 44.01080322265625, 168.1305389404297, 176.2595672607422, 71.46668243408203, 98.81327819824219, 72.5230484008789, 37.58075714111328, 86.1761703491211, 63.318092346191406, 113.30058288574219, 240.15750122070312, 129.90611267089844, 50.585201263427734, 62.84025573730469, 89.07861328125, 58.40364074707031, 0, 0, 0, 0, 0, 0, 0, 0, 0, 0, 0, 0, 0, 0, 0, 0, 0, 0, 0, 0, 0, 0, 0, 0, 0, 0, 0, 0, 0, 0, -2.141041777965299, -3.552996723704098, -6.5322711673567255, -0.8822167825157834, -0.9799449674846201, -2.1934933168446946, -1.5881746002519037, -1.8656878145195321, -9.081052234113486, -2.2328399684980695, -2.5064249292951075, -0.32983955379442875, -4.102228793422313, -2.889179649527293, -0.37578329318664316, -1.5821942612953137, -3.034807609728148, -0.045701227715255754, -1.989642958275212, -0.4748045008294781, -0.31164924659512394, -0.15894413380489425, -3.133430619057208, -2.131574045626138, -6.482025623390342, -2.418196932413707, -0.7203707316276251, -3.300559169558241, -1.471619326161104, -2.482863766377193, 44.89222937062273, 111.36300186108039, 342.3288102466892, 126.67958024706634, 46.44073180391163, 109.87818312548369, 79.24678590247271, 116.00920992712938, 183.72168296997975, 172.42401221239166, 112.84118430770924, 47.093767508572306, 146.13142281352663, 102.46208811195226, 47.241389960329904, 180.68020637252235, 194.97220106715525, 74.8504874798056, 111.03721923065173, 76.32536173026364, 40.01830623171267, 90.78252295363133, 76.30022868521357, 122.41246286212751, 280.59340399289977, 143.4834898780203, 54.110994390695964, 82.90719216847779, 94.16250629297969, 71.25044242697746, 35.42519998118391, 84.31483017016961, 286.26962725331083, 108.34965101514068, 36.98808708952099, 90.85056977368625, 66.18410704186323, 101.20333890099562, 146.34521766478585, 150.74925286329196, 95.16874611221265, 41.39900478451852, 110.47156562031124, 83.03143300621181, 42.87990406127654, 161.07342979691126, 165.57457627659477, 67.03753360784088, 92.71542816925061, 66.07668294747074, 34.95035793759885, 82.91795693528469, 59.85034428231572, 106.4833669108217, 220.07980462526427, 120.76131984488012, 47.78192667558821, 57.18987165903686, 82.19729747899297, 54.73835189980477, 37.75982395986877, 40.71624994037739, 46.64540885675644, 48.70144022030136, 45.64467817344928, 44.26132208143357, 44.25409807748751, 47.83996928295028, 35.63770200737305, 46.11224841619744, 40.96224776697351, 49.89366863333349, 41.26482814247898, 40.52048034036802, 48.47799005016877, 50.88586612857365, 45.978325437708534, 55.80481396385381, 46.14623869121712, 49.76676606841861, 51.63699466969182, 53.62612687484355, 34.35809840118678, 45.04135387279997, 44.5684146391877, 46.509202260278585, 49.63783502247345, 38.307205284058206, 48.35169659019782, 36.543217733002415, -91.67054593629385, -109.8383479335725, -17.475572612221523, 12.329529747675878, -77.47324681094723, -77.33962585106755, -42.732092003419446, -58.14510275151008, -84.41152060393719, 4.262368100547874, -97.52338683742417, -24.206099345364137, -89.21712725299025, -72.56607081986824, -120.16042968973726, -88.61097854653455, -82.70331590720775, 18.678406608105853, -71.4198239196824, 50.30535743909069, -8.022870249083393, -49.06712720073598, -130.13339802496432, -66.78446212683663, -82.54308811269033, -59.798289371470325, -70.49851911199754, -124.28460705024102, -17.69249758632144, -120.07785559844123, 39.21273713115692, 30.453011992404555, 9.047314956629457, 5.499285014878643, 24.349465497595983, 18.674706573890372, 0.5037544821377812, 13.997383580478868, 29.32770159143419, 1.9913665820095818, 28.430069581600943, 1.8729404826432607, 38.63512730261832, 22.315559742186643, 13.005381083863785, 19.81702222548818, 15.178812041846507, 0.6113816125882416, 16.71149438381473, 8.357815156369787, 6.498120288227792, 8.013845497751616, 55.39295086435475, 35.542858223546276, 22.914261916465172, 15.829087664939708, 14.948583054220851, 57.4119284443266, 1.9382079525904927, 38.68347837075397, 41.427544657389326, 100.1662841796875, 315.0024037679037, 117.73522415161133, 41.98094584147135, 101.87928746541341, 74.36122589111328, 109.81524073282877, 172.00625762939453, 162.00941111246746, 104.7405616760254, 44.481499354044594, 130.70966313680012, 95.50019989013671, 45.252423731486004, 172.0068593343099, 182.44998118082682, 70.7762446085612, 102.38918431599934, 71.21157328287761, 37.573584111531574, 86.85305226643881, 70.41919021606445, 116.69815724690756, 252.94693857828776, 133.03675867716473, 51.85478057861328, 71.89152615865072, 89.29732182820638, 64.20575040181478, 46.69040864308675, 100.4800532023112, 332.99889882405597, 120.29204368591309, 42.22139949798584, 102.97162348429362, 76.19156150817871, 111.52368125915527, 190.53668238321941, 167.6039156595866, 109.24550806681314, 43.884673500061034, 130.74426816304523, 98.05444679260253, 44.338623428344725, 167.7947914123535, 182.2012171427409, 68.91559403737386, 103.5944315592448, 72.6252488454183, 37.520247840881346, 83.96607894897461, 73.4315902709961, 117.68082796732584, 253.82371215820314, 135.27827339172364, 51.14293855031331, 71.3548786799113, 91.69127909342448, 66.56452528635661]\n",
      "[1000000, 38.39591979980469, 91.69662475585938, 313.3722229003906, 118.78218841552734, 40.123985290527344, 97.55754852294922, 72.68486785888672, 108.32612609863281, 159.20101928710938, 162.39141845703125, 100.57974243164062, 44.13541793823242, 121.43285369873047, 90.1629638671875, 44.01080322265625, 168.1305389404297, 176.2595672607422, 71.46668243408203, 98.81327819824219, 72.5230484008789, 37.58075714111328, 86.1761703491211, 63.318092346191406, 113.30058288574219, 240.15750122070312, 129.90611267089844, 50.585201263427734, 62.84025573730469, 89.07861328125, 58.40364074707031, 0, 0, 0, 0, 0, 0, 0, 0, 0, 0, 0, 0, 0, 0, 0, 0, 0, 0, 0, 0, 0, 0, 0, 0, 0, 0, 0, 0, 0, 0, -2.141041777965299, -3.552996723704098, -6.5322711673567255, -0.8822167825157834, -0.9799449674846201, -2.1934933168446946, -1.5881746002519037, -1.8656878145195321, -9.081052234113486, -2.2328399684980695, -2.5064249292951075, -0.32983955379442875, -4.102228793422313, -2.889179649527293, -0.37578329318664316, -1.5821942612953137, -3.034807609728148, -0.045701227715255754, -1.989642958275212, -0.4748045008294781, -0.31164924659512394, -0.15894413380489425, -3.133430619057208, -2.131574045626138, -6.482025623390342, -2.418196932413707, -0.7203707316276251, -3.300559169558241, -1.471619326161104, -2.482863766377193, 44.89222937062273, 111.36300186108039, 342.3288102466892, 126.67958024706634, 46.44073180391163, 109.87818312548369, 79.24678590247271, 116.00920992712938, 183.72168296997975, 172.42401221239166, 112.84118430770924, 47.093767508572306, 146.13142281352663, 102.46208811195226, 47.241389960329904, 180.68020637252235, 194.97220106715525, 74.8504874798056, 111.03721923065173, 76.32536173026364, 40.01830623171267, 90.78252295363133, 76.30022868521357, 122.41246286212751, 280.59340399289977, 143.4834898780203, 54.110994390695964, 82.90719216847779, 94.16250629297969, 71.25044242697746, 35.42519998118391, 84.31483017016961, 286.26962725331083, 108.34965101514068, 36.98808708952099, 90.85056977368625, 66.18410704186323, 101.20333890099562, 146.34521766478585, 150.74925286329196, 95.16874611221265, 41.39900478451852, 110.47156562031124, 83.03143300621181, 42.87990406127654, 161.07342979691126, 165.57457627659477, 67.03753360784088, 92.71542816925061, 66.07668294747074, 34.95035793759885, 82.91795693528469, 59.85034428231572, 106.4833669108217, 220.07980462526427, 120.76131984488012, 47.78192667558821, 57.18987165903686, 82.19729747899297, 54.73835189980477, 37.75982395986877, 40.71624994037739, 46.64540885675644, 48.70144022030136, 45.64467817344928, 44.26132208143357, 44.25409807748751, 47.83996928295028, 35.63770200737305, 46.11224841619744, 40.96224776697351, 49.89366863333349, 41.26482814247898, 40.52048034036802, 48.47799005016877, 50.88586612857365, 45.978325437708534, 55.80481396385381, 46.14623869121712, 49.76676606841861, 51.63699466969182, 53.62612687484355, 34.35809840118678, 45.04135387279997, 44.5684146391877, 46.509202260278585, 49.63783502247345, 38.307205284058206, 48.35169659019782, 36.543217733002415, -91.67054593629385, -109.8383479335725, -17.475572612221523, 12.329529747675878, -77.47324681094723, -77.33962585106755, -42.732092003419446, -58.14510275151008, -84.41152060393719, 4.262368100547874, -97.52338683742417, -24.206099345364137, -89.21712725299025, -72.56607081986824, -120.16042968973726, -88.61097854653455, -82.70331590720775, 18.678406608105853, -71.4198239196824, 50.30535743909069, -8.022870249083393, -49.06712720073598, -130.13339802496432, -66.78446212683663, -82.54308811269033, -59.798289371470325, -70.49851911199754, -124.28460705024102, -17.69249758632144, -120.07785559844123, 39.21273713115692, 30.453011992404555, 9.047314956629457, 5.499285014878643, 24.349465497595983, 18.674706573890372, 0.5037544821377812, 13.997383580478868, 29.32770159143419, 1.9913665820095818, 28.430069581600943, 1.8729404826432607, 38.63512730261832, 22.315559742186643, 13.005381083863785, 19.81702222548818, 15.178812041846507, 0.6113816125882416, 16.71149438381473, 8.357815156369787, 6.498120288227792, 8.013845497751616, 55.39295086435475, 35.542858223546276, 22.914261916465172, 15.829087664939708, 14.948583054220851, 57.4119284443266, 1.9382079525904927, 38.68347837075397, 41.427544657389326, 100.1662841796875, 315.0024037679037, 117.73522415161133, 41.98094584147135, 101.87928746541341, 74.36122589111328, 109.81524073282877, 172.00625762939453, 162.00941111246746, 104.7405616760254, 44.481499354044594, 130.70966313680012, 95.50019989013671, 45.252423731486004, 172.0068593343099, 182.44998118082682, 70.7762446085612, 102.38918431599934, 71.21157328287761, 37.573584111531574, 86.85305226643881, 70.41919021606445, 116.69815724690756, 252.94693857828776, 133.03675867716473, 51.85478057861328, 71.89152615865072, 89.29732182820638, 64.20575040181478, 46.69040864308675, 100.4800532023112, 332.99889882405597, 120.29204368591309, 42.22139949798584, 102.97162348429362, 76.19156150817871, 111.52368125915527, 190.53668238321941, 167.6039156595866, 109.24550806681314, 43.884673500061034, 130.74426816304523, 98.05444679260253, 44.338623428344725, 167.7947914123535, 182.2012171427409, 68.91559403737386, 103.5944315592448, 72.6252488454183, 37.520247840881346, 83.96607894897461, 73.4315902709961, 117.68082796732584, 253.82371215820314, 135.27827339172364, 51.14293855031331, 71.3548786799113, 91.69127909342448, 66.56452528635661]\n"
     ]
    },
    {
     "name": "stdout",
     "output_type": "stream",
     "text": [
      "[1000000, 38.39591979980469, 91.69662475585938, 313.3722229003906, 118.78218841552734, 40.123985290527344, 97.55754852294922, 72.68486785888672, 108.32612609863281, 159.20101928710938, 162.39141845703125, 100.57974243164062, 44.13541793823242, 121.43285369873047, 90.1629638671875, 44.01080322265625, 168.1305389404297, 176.2595672607422, 71.46668243408203, 98.81327819824219, 72.5230484008789, 37.58075714111328, 86.1761703491211, 63.318092346191406, 113.30058288574219, 240.15750122070312, 129.90611267089844, 50.585201263427734, 62.84025573730469, 89.07861328125, 58.40364074707031, 0, 0, 0, 0, 0, 0, 0, 0, 0, 0, 0, 0, 0, 0, 0, 0, 0, 0, 0, 0, 0, 0, 0, 0, 0, 0, 0, 0, 0, 0, -2.141041777965299, -3.552996723704098, -6.5322711673567255, -0.8822167825157834, -0.9799449674846201, -2.1934933168446946, -1.5881746002519037, -1.8656878145195321, -9.081052234113486, -2.2328399684980695, -2.5064249292951075, -0.32983955379442875, -4.102228793422313, -2.889179649527293, -0.37578329318664316, -1.5821942612953137, -3.034807609728148, -0.045701227715255754, -1.989642958275212, -0.4748045008294781, -0.31164924659512394, -0.15894413380489425, -3.133430619057208, -2.131574045626138, -6.482025623390342, -2.418196932413707, -0.7203707316276251, -3.300559169558241, -1.471619326161104, -2.482863766377193, 44.89222937062273, 111.36300186108039, 342.3288102466892, 126.67958024706634, 46.44073180391163, 109.87818312548369, 79.24678590247271, 116.00920992712938, 183.72168296997975, 172.42401221239166, 112.84118430770924, 47.093767508572306, 146.13142281352663, 102.46208811195226, 47.241389960329904, 180.68020637252235, 194.97220106715525, 74.8504874798056, 111.03721923065173, 76.32536173026364, 40.01830623171267, 90.78252295363133, 76.30022868521357, 122.41246286212751, 280.59340399289977, 143.4834898780203, 54.110994390695964, 82.90719216847779, 94.16250629297969, 71.25044242697746, 35.42519998118391, 84.31483017016961, 286.26962725331083, 108.34965101514068, 36.98808708952099, 90.85056977368625, 66.18410704186323, 101.20333890099562, 146.34521766478585, 150.74925286329196, 95.16874611221265, 41.39900478451852, 110.47156562031124, 83.03143300621181, 42.87990406127654, 161.07342979691126, 165.57457627659477, 67.03753360784088, 92.71542816925061, 66.07668294747074, 34.95035793759885, 82.91795693528469, 59.85034428231572, 106.4833669108217, 220.07980462526427, 120.76131984488012, 47.78192667558821, 57.18987165903686, 82.19729747899297, 54.73835189980477, 37.75982395986877, 40.71624994037739, 46.64540885675644, 48.70144022030136, 45.64467817344928, 44.26132208143357, 44.25409807748751, 47.83996928295028, 35.63770200737305, 46.11224841619744, 40.96224776697351, 49.89366863333349, 41.26482814247898, 40.52048034036802, 48.47799005016877, 50.88586612857365, 45.978325437708534, 55.80481396385381, 46.14623869121712, 49.76676606841861, 51.63699466969182, 53.62612687484355, 34.35809840118678, 45.04135387279997, 44.5684146391877, 46.509202260278585, 49.63783502247345, 38.307205284058206, 48.35169659019782, 36.543217733002415, -91.67054593629385, -109.8383479335725, -17.475572612221523, 12.329529747675878, -77.47324681094723, -77.33962585106755, -42.732092003419446, -58.14510275151008, -84.41152060393719, 4.262368100547874, -97.52338683742417, -24.206099345364137, -89.21712725299025, -72.56607081986824, -120.16042968973726, -88.61097854653455, -82.70331590720775, 18.678406608105853, -71.4198239196824, 50.30535743909069, -8.022870249083393, -49.06712720073598, -130.13339802496432, -66.78446212683663, -82.54308811269033, -59.798289371470325, -70.49851911199754, -124.28460705024102, -17.69249758632144, -120.07785559844123, 39.21273713115692, 30.453011992404555, 9.047314956629457, 5.499285014878643, 24.349465497595983, 18.674706573890372, 0.5037544821377812, 13.997383580478868, 29.32770159143419, 1.9913665820095818, 28.430069581600943, 1.8729404826432607, 38.63512730261832, 22.315559742186643, 13.005381083863785, 19.81702222548818, 15.178812041846507, 0.6113816125882416, 16.71149438381473, 8.357815156369787, 6.498120288227792, 8.013845497751616, 55.39295086435475, 35.542858223546276, 22.914261916465172, 15.829087664939708, 14.948583054220851, 57.4119284443266, 1.9382079525904927, 38.68347837075397, 41.427544657389326, 100.1662841796875, 315.0024037679037, 117.73522415161133, 41.98094584147135, 101.87928746541341, 74.36122589111328, 109.81524073282877, 172.00625762939453, 162.00941111246746, 104.7405616760254, 44.481499354044594, 130.70966313680012, 95.50019989013671, 45.252423731486004, 172.0068593343099, 182.44998118082682, 70.7762446085612, 102.38918431599934, 71.21157328287761, 37.573584111531574, 86.85305226643881, 70.41919021606445, 116.69815724690756, 252.94693857828776, 133.03675867716473, 51.85478057861328, 71.89152615865072, 89.29732182820638, 64.20575040181478, 46.69040864308675, 100.4800532023112, 332.99889882405597, 120.29204368591309, 42.22139949798584, 102.97162348429362, 76.19156150817871, 111.52368125915527, 190.53668238321941, 167.6039156595866, 109.24550806681314, 43.884673500061034, 130.74426816304523, 98.05444679260253, 44.338623428344725, 167.7947914123535, 182.2012171427409, 68.91559403737386, 103.5944315592448, 72.6252488454183, 37.520247840881346, 83.96607894897461, 73.4315902709961, 117.68082796732584, 253.82371215820314, 135.27827339172364, 51.14293855031331, 71.3548786799113, 91.69127909342448, 66.56452528635661]\n",
      "----------------------------------\n",
      "| environment/        |          |\n",
      "|    portfolio_value  | 3.93e+06 |\n",
      "|    total_cost       | 9.98e+03 |\n",
      "|    total_reward     | 2.93e+06 |\n",
      "|    total_reward_pct | 293      |\n",
      "|    total_trades     | 46354    |\n",
      "| time/               |          |\n",
      "|    episodes         | 8        |\n",
      "|    fps              | 40       |\n",
      "|    time_elapsed     | 500      |\n",
      "|    total timesteps  | 20128    |\n",
      "| train/              |          |\n",
      "|    actor_loss       | 77.4     |\n",
      "|    critic_loss      | 32.9     |\n",
      "|    ent_coef         | 0.0304   |\n",
      "|    ent_coef_loss    | -147     |\n",
      "|    learning_rate    | 0.0001   |\n",
      "|    n_updates        | 20027    |\n",
      "----------------------------------\n",
      "[1000000, 38.39591979980469, 91.69662475585938, 313.3722229003906, 118.78218841552734, 40.123985290527344, 97.55754852294922, 72.68486785888672, 108.32612609863281, 159.20101928710938, 162.39141845703125, 100.57974243164062, 44.13541793823242, 121.43285369873047, 90.1629638671875, 44.01080322265625, 168.1305389404297, 176.2595672607422, 71.46668243408203, 98.81327819824219, 72.5230484008789, 37.58075714111328, 86.1761703491211, 63.318092346191406, 113.30058288574219, 240.15750122070312, 129.90611267089844, 50.585201263427734, 62.84025573730469, 89.07861328125, 58.40364074707031, 0, 0, 0, 0, 0, 0, 0, 0, 0, 0, 0, 0, 0, 0, 0, 0, 0, 0, 0, 0, 0, 0, 0, 0, 0, 0, 0, 0, 0, 0, -2.141041777965299, -3.552996723704098, -6.5322711673567255, -0.8822167825157834, -0.9799449674846201, -2.1934933168446946, -1.5881746002519037, -1.8656878145195321, -9.081052234113486, -2.2328399684980695, -2.5064249292951075, -0.32983955379442875, -4.102228793422313, -2.889179649527293, -0.37578329318664316, -1.5821942612953137, -3.034807609728148, -0.045701227715255754, -1.989642958275212, -0.4748045008294781, -0.31164924659512394, -0.15894413380489425, -3.133430619057208, -2.131574045626138, -6.482025623390342, -2.418196932413707, -0.7203707316276251, -3.300559169558241, -1.471619326161104, -2.482863766377193, 44.89222937062273, 111.36300186108039, 342.3288102466892, 126.67958024706634, 46.44073180391163, 109.87818312548369, 79.24678590247271, 116.00920992712938, 183.72168296997975, 172.42401221239166, 112.84118430770924, 47.093767508572306, 146.13142281352663, 102.46208811195226, 47.241389960329904, 180.68020637252235, 194.97220106715525, 74.8504874798056, 111.03721923065173, 76.32536173026364, 40.01830623171267, 90.78252295363133, 76.30022868521357, 122.41246286212751, 280.59340399289977, 143.4834898780203, 54.110994390695964, 82.90719216847779, 94.16250629297969, 71.25044242697746, 35.42519998118391, 84.31483017016961, 286.26962725331083, 108.34965101514068, 36.98808708952099, 90.85056977368625, 66.18410704186323, 101.20333890099562, 146.34521766478585, 150.74925286329196, 95.16874611221265, 41.39900478451852, 110.47156562031124, 83.03143300621181, 42.87990406127654, 161.07342979691126, 165.57457627659477, 67.03753360784088, 92.71542816925061, 66.07668294747074, 34.95035793759885, 82.91795693528469, 59.85034428231572, 106.4833669108217, 220.07980462526427, 120.76131984488012, 47.78192667558821, 57.18987165903686, 82.19729747899297, 54.73835189980477, 37.75982395986877, 40.71624994037739, 46.64540885675644, 48.70144022030136, 45.64467817344928, 44.26132208143357, 44.25409807748751, 47.83996928295028, 35.63770200737305, 46.11224841619744, 40.96224776697351, 49.89366863333349, 41.26482814247898, 40.52048034036802, 48.47799005016877, 50.88586612857365, 45.978325437708534, 55.80481396385381, 46.14623869121712, 49.76676606841861, 51.63699466969182, 53.62612687484355, 34.35809840118678, 45.04135387279997, 44.5684146391877, 46.509202260278585, 49.63783502247345, 38.307205284058206, 48.35169659019782, 36.543217733002415, -91.67054593629385, -109.8383479335725, -17.475572612221523, 12.329529747675878, -77.47324681094723, -77.33962585106755, -42.732092003419446, -58.14510275151008, -84.41152060393719, 4.262368100547874, -97.52338683742417, -24.206099345364137, -89.21712725299025, -72.56607081986824, -120.16042968973726, -88.61097854653455, -82.70331590720775, 18.678406608105853, -71.4198239196824, 50.30535743909069, -8.022870249083393, -49.06712720073598, -130.13339802496432, -66.78446212683663, -82.54308811269033, -59.798289371470325, -70.49851911199754, -124.28460705024102, -17.69249758632144, -120.07785559844123, 39.21273713115692, 30.453011992404555, 9.047314956629457, 5.499285014878643, 24.349465497595983, 18.674706573890372, 0.5037544821377812, 13.997383580478868, 29.32770159143419, 1.9913665820095818, 28.430069581600943, 1.8729404826432607, 38.63512730261832, 22.315559742186643, 13.005381083863785, 19.81702222548818, 15.178812041846507, 0.6113816125882416, 16.71149438381473, 8.357815156369787, 6.498120288227792, 8.013845497751616, 55.39295086435475, 35.542858223546276, 22.914261916465172, 15.829087664939708, 14.948583054220851, 57.4119284443266, 1.9382079525904927, 38.68347837075397, 41.427544657389326, 100.1662841796875, 315.0024037679037, 117.73522415161133, 41.98094584147135, 101.87928746541341, 74.36122589111328, 109.81524073282877, 172.00625762939453, 162.00941111246746, 104.7405616760254, 44.481499354044594, 130.70966313680012, 95.50019989013671, 45.252423731486004, 172.0068593343099, 182.44998118082682, 70.7762446085612, 102.38918431599934, 71.21157328287761, 37.573584111531574, 86.85305226643881, 70.41919021606445, 116.69815724690756, 252.94693857828776, 133.03675867716473, 51.85478057861328, 71.89152615865072, 89.29732182820638, 64.20575040181478, 46.69040864308675, 100.4800532023112, 332.99889882405597, 120.29204368591309, 42.22139949798584, 102.97162348429362, 76.19156150817871, 111.52368125915527, 190.53668238321941, 167.6039156595866, 109.24550806681314, 43.884673500061034, 130.74426816304523, 98.05444679260253, 44.338623428344725, 167.7947914123535, 182.2012171427409, 68.91559403737386, 103.5944315592448, 72.6252488454183, 37.520247840881346, 83.96607894897461, 73.4315902709961, 117.68082796732584, 253.82371215820314, 135.27827339172364, 51.14293855031331, 71.3548786799113, 91.69127909342448, 66.56452528635661]\n"
     ]
    },
    {
     "name": "stdout",
     "output_type": "stream",
     "text": [
      "[1000000, 38.39591979980469, 91.69662475585938, 313.3722229003906, 118.78218841552734, 40.123985290527344, 97.55754852294922, 72.68486785888672, 108.32612609863281, 159.20101928710938, 162.39141845703125, 100.57974243164062, 44.13541793823242, 121.43285369873047, 90.1629638671875, 44.01080322265625, 168.1305389404297, 176.2595672607422, 71.46668243408203, 98.81327819824219, 72.5230484008789, 37.58075714111328, 86.1761703491211, 63.318092346191406, 113.30058288574219, 240.15750122070312, 129.90611267089844, 50.585201263427734, 62.84025573730469, 89.07861328125, 58.40364074707031, 0, 0, 0, 0, 0, 0, 0, 0, 0, 0, 0, 0, 0, 0, 0, 0, 0, 0, 0, 0, 0, 0, 0, 0, 0, 0, 0, 0, 0, 0, -2.141041777965299, -3.552996723704098, -6.5322711673567255, -0.8822167825157834, -0.9799449674846201, -2.1934933168446946, -1.5881746002519037, -1.8656878145195321, -9.081052234113486, -2.2328399684980695, -2.5064249292951075, -0.32983955379442875, -4.102228793422313, -2.889179649527293, -0.37578329318664316, -1.5821942612953137, -3.034807609728148, -0.045701227715255754, -1.989642958275212, -0.4748045008294781, -0.31164924659512394, -0.15894413380489425, -3.133430619057208, -2.131574045626138, -6.482025623390342, -2.418196932413707, -0.7203707316276251, -3.300559169558241, -1.471619326161104, -2.482863766377193, 44.89222937062273, 111.36300186108039, 342.3288102466892, 126.67958024706634, 46.44073180391163, 109.87818312548369, 79.24678590247271, 116.00920992712938, 183.72168296997975, 172.42401221239166, 112.84118430770924, 47.093767508572306, 146.13142281352663, 102.46208811195226, 47.241389960329904, 180.68020637252235, 194.97220106715525, 74.8504874798056, 111.03721923065173, 76.32536173026364, 40.01830623171267, 90.78252295363133, 76.30022868521357, 122.41246286212751, 280.59340399289977, 143.4834898780203, 54.110994390695964, 82.90719216847779, 94.16250629297969, 71.25044242697746, 35.42519998118391, 84.31483017016961, 286.26962725331083, 108.34965101514068, 36.98808708952099, 90.85056977368625, 66.18410704186323, 101.20333890099562, 146.34521766478585, 150.74925286329196, 95.16874611221265, 41.39900478451852, 110.47156562031124, 83.03143300621181, 42.87990406127654, 161.07342979691126, 165.57457627659477, 67.03753360784088, 92.71542816925061, 66.07668294747074, 34.95035793759885, 82.91795693528469, 59.85034428231572, 106.4833669108217, 220.07980462526427, 120.76131984488012, 47.78192667558821, 57.18987165903686, 82.19729747899297, 54.73835189980477, 37.75982395986877, 40.71624994037739, 46.64540885675644, 48.70144022030136, 45.64467817344928, 44.26132208143357, 44.25409807748751, 47.83996928295028, 35.63770200737305, 46.11224841619744, 40.96224776697351, 49.89366863333349, 41.26482814247898, 40.52048034036802, 48.47799005016877, 50.88586612857365, 45.978325437708534, 55.80481396385381, 46.14623869121712, 49.76676606841861, 51.63699466969182, 53.62612687484355, 34.35809840118678, 45.04135387279997, 44.5684146391877, 46.509202260278585, 49.63783502247345, 38.307205284058206, 48.35169659019782, 36.543217733002415, -91.67054593629385, -109.8383479335725, -17.475572612221523, 12.329529747675878, -77.47324681094723, -77.33962585106755, -42.732092003419446, -58.14510275151008, -84.41152060393719, 4.262368100547874, -97.52338683742417, -24.206099345364137, -89.21712725299025, -72.56607081986824, -120.16042968973726, -88.61097854653455, -82.70331590720775, 18.678406608105853, -71.4198239196824, 50.30535743909069, -8.022870249083393, -49.06712720073598, -130.13339802496432, -66.78446212683663, -82.54308811269033, -59.798289371470325, -70.49851911199754, -124.28460705024102, -17.69249758632144, -120.07785559844123, 39.21273713115692, 30.453011992404555, 9.047314956629457, 5.499285014878643, 24.349465497595983, 18.674706573890372, 0.5037544821377812, 13.997383580478868, 29.32770159143419, 1.9913665820095818, 28.430069581600943, 1.8729404826432607, 38.63512730261832, 22.315559742186643, 13.005381083863785, 19.81702222548818, 15.178812041846507, 0.6113816125882416, 16.71149438381473, 8.357815156369787, 6.498120288227792, 8.013845497751616, 55.39295086435475, 35.542858223546276, 22.914261916465172, 15.829087664939708, 14.948583054220851, 57.4119284443266, 1.9382079525904927, 38.68347837075397, 41.427544657389326, 100.1662841796875, 315.0024037679037, 117.73522415161133, 41.98094584147135, 101.87928746541341, 74.36122589111328, 109.81524073282877, 172.00625762939453, 162.00941111246746, 104.7405616760254, 44.481499354044594, 130.70966313680012, 95.50019989013671, 45.252423731486004, 172.0068593343099, 182.44998118082682, 70.7762446085612, 102.38918431599934, 71.21157328287761, 37.573584111531574, 86.85305226643881, 70.41919021606445, 116.69815724690756, 252.94693857828776, 133.03675867716473, 51.85478057861328, 71.89152615865072, 89.29732182820638, 64.20575040181478, 46.69040864308675, 100.4800532023112, 332.99889882405597, 120.29204368591309, 42.22139949798584, 102.97162348429362, 76.19156150817871, 111.52368125915527, 190.53668238321941, 167.6039156595866, 109.24550806681314, 43.884673500061034, 130.74426816304523, 98.05444679260253, 44.338623428344725, 167.7947914123535, 182.2012171427409, 68.91559403737386, 103.5944315592448, 72.6252488454183, 37.520247840881346, 83.96607894897461, 73.4315902709961, 117.68082796732584, 253.82371215820314, 135.27827339172364, 51.14293855031331, 71.3548786799113, 91.69127909342448, 66.56452528635661]\n",
      "[1000000, 38.39591979980469, 91.69662475585938, 313.3722229003906, 118.78218841552734, 40.123985290527344, 97.55754852294922, 72.68486785888672, 108.32612609863281, 159.20101928710938, 162.39141845703125, 100.57974243164062, 44.13541793823242, 121.43285369873047, 90.1629638671875, 44.01080322265625, 168.1305389404297, 176.2595672607422, 71.46668243408203, 98.81327819824219, 72.5230484008789, 37.58075714111328, 86.1761703491211, 63.318092346191406, 113.30058288574219, 240.15750122070312, 129.90611267089844, 50.585201263427734, 62.84025573730469, 89.07861328125, 58.40364074707031, 0, 0, 0, 0, 0, 0, 0, 0, 0, 0, 0, 0, 0, 0, 0, 0, 0, 0, 0, 0, 0, 0, 0, 0, 0, 0, 0, 0, 0, 0, -2.141041777965299, -3.552996723704098, -6.5322711673567255, -0.8822167825157834, -0.9799449674846201, -2.1934933168446946, -1.5881746002519037, -1.8656878145195321, -9.081052234113486, -2.2328399684980695, -2.5064249292951075, -0.32983955379442875, -4.102228793422313, -2.889179649527293, -0.37578329318664316, -1.5821942612953137, -3.034807609728148, -0.045701227715255754, -1.989642958275212, -0.4748045008294781, -0.31164924659512394, -0.15894413380489425, -3.133430619057208, -2.131574045626138, -6.482025623390342, -2.418196932413707, -0.7203707316276251, -3.300559169558241, -1.471619326161104, -2.482863766377193, 44.89222937062273, 111.36300186108039, 342.3288102466892, 126.67958024706634, 46.44073180391163, 109.87818312548369, 79.24678590247271, 116.00920992712938, 183.72168296997975, 172.42401221239166, 112.84118430770924, 47.093767508572306, 146.13142281352663, 102.46208811195226, 47.241389960329904, 180.68020637252235, 194.97220106715525, 74.8504874798056, 111.03721923065173, 76.32536173026364, 40.01830623171267, 90.78252295363133, 76.30022868521357, 122.41246286212751, 280.59340399289977, 143.4834898780203, 54.110994390695964, 82.90719216847779, 94.16250629297969, 71.25044242697746, 35.42519998118391, 84.31483017016961, 286.26962725331083, 108.34965101514068, 36.98808708952099, 90.85056977368625, 66.18410704186323, 101.20333890099562, 146.34521766478585, 150.74925286329196, 95.16874611221265, 41.39900478451852, 110.47156562031124, 83.03143300621181, 42.87990406127654, 161.07342979691126, 165.57457627659477, 67.03753360784088, 92.71542816925061, 66.07668294747074, 34.95035793759885, 82.91795693528469, 59.85034428231572, 106.4833669108217, 220.07980462526427, 120.76131984488012, 47.78192667558821, 57.18987165903686, 82.19729747899297, 54.73835189980477, 37.75982395986877, 40.71624994037739, 46.64540885675644, 48.70144022030136, 45.64467817344928, 44.26132208143357, 44.25409807748751, 47.83996928295028, 35.63770200737305, 46.11224841619744, 40.96224776697351, 49.89366863333349, 41.26482814247898, 40.52048034036802, 48.47799005016877, 50.88586612857365, 45.978325437708534, 55.80481396385381, 46.14623869121712, 49.76676606841861, 51.63699466969182, 53.62612687484355, 34.35809840118678, 45.04135387279997, 44.5684146391877, 46.509202260278585, 49.63783502247345, 38.307205284058206, 48.35169659019782, 36.543217733002415, -91.67054593629385, -109.8383479335725, -17.475572612221523, 12.329529747675878, -77.47324681094723, -77.33962585106755, -42.732092003419446, -58.14510275151008, -84.41152060393719, 4.262368100547874, -97.52338683742417, -24.206099345364137, -89.21712725299025, -72.56607081986824, -120.16042968973726, -88.61097854653455, -82.70331590720775, 18.678406608105853, -71.4198239196824, 50.30535743909069, -8.022870249083393, -49.06712720073598, -130.13339802496432, -66.78446212683663, -82.54308811269033, -59.798289371470325, -70.49851911199754, -124.28460705024102, -17.69249758632144, -120.07785559844123, 39.21273713115692, 30.453011992404555, 9.047314956629457, 5.499285014878643, 24.349465497595983, 18.674706573890372, 0.5037544821377812, 13.997383580478868, 29.32770159143419, 1.9913665820095818, 28.430069581600943, 1.8729404826432607, 38.63512730261832, 22.315559742186643, 13.005381083863785, 19.81702222548818, 15.178812041846507, 0.6113816125882416, 16.71149438381473, 8.357815156369787, 6.498120288227792, 8.013845497751616, 55.39295086435475, 35.542858223546276, 22.914261916465172, 15.829087664939708, 14.948583054220851, 57.4119284443266, 1.9382079525904927, 38.68347837075397, 41.427544657389326, 100.1662841796875, 315.0024037679037, 117.73522415161133, 41.98094584147135, 101.87928746541341, 74.36122589111328, 109.81524073282877, 172.00625762939453, 162.00941111246746, 104.7405616760254, 44.481499354044594, 130.70966313680012, 95.50019989013671, 45.252423731486004, 172.0068593343099, 182.44998118082682, 70.7762446085612, 102.38918431599934, 71.21157328287761, 37.573584111531574, 86.85305226643881, 70.41919021606445, 116.69815724690756, 252.94693857828776, 133.03675867716473, 51.85478057861328, 71.89152615865072, 89.29732182820638, 64.20575040181478, 46.69040864308675, 100.4800532023112, 332.99889882405597, 120.29204368591309, 42.22139949798584, 102.97162348429362, 76.19156150817871, 111.52368125915527, 190.53668238321941, 167.6039156595866, 109.24550806681314, 43.884673500061034, 130.74426816304523, 98.05444679260253, 44.338623428344725, 167.7947914123535, 182.2012171427409, 68.91559403737386, 103.5944315592448, 72.6252488454183, 37.520247840881346, 83.96607894897461, 73.4315902709961, 117.68082796732584, 253.82371215820314, 135.27827339172364, 51.14293855031331, 71.3548786799113, 91.69127909342448, 66.56452528635661]\n"
     ]
    },
    {
     "name": "stdout",
     "output_type": "stream",
     "text": [
      "[1000000, 38.39591979980469, 91.69662475585938, 313.3722229003906, 118.78218841552734, 40.123985290527344, 97.55754852294922, 72.68486785888672, 108.32612609863281, 159.20101928710938, 162.39141845703125, 100.57974243164062, 44.13541793823242, 121.43285369873047, 90.1629638671875, 44.01080322265625, 168.1305389404297, 176.2595672607422, 71.46668243408203, 98.81327819824219, 72.5230484008789, 37.58075714111328, 86.1761703491211, 63.318092346191406, 113.30058288574219, 240.15750122070312, 129.90611267089844, 50.585201263427734, 62.84025573730469, 89.07861328125, 58.40364074707031, 0, 0, 0, 0, 0, 0, 0, 0, 0, 0, 0, 0, 0, 0, 0, 0, 0, 0, 0, 0, 0, 0, 0, 0, 0, 0, 0, 0, 0, 0, -2.141041777965299, -3.552996723704098, -6.5322711673567255, -0.8822167825157834, -0.9799449674846201, -2.1934933168446946, -1.5881746002519037, -1.8656878145195321, -9.081052234113486, -2.2328399684980695, -2.5064249292951075, -0.32983955379442875, -4.102228793422313, -2.889179649527293, -0.37578329318664316, -1.5821942612953137, -3.034807609728148, -0.045701227715255754, -1.989642958275212, -0.4748045008294781, -0.31164924659512394, -0.15894413380489425, -3.133430619057208, -2.131574045626138, -6.482025623390342, -2.418196932413707, -0.7203707316276251, -3.300559169558241, -1.471619326161104, -2.482863766377193, 44.89222937062273, 111.36300186108039, 342.3288102466892, 126.67958024706634, 46.44073180391163, 109.87818312548369, 79.24678590247271, 116.00920992712938, 183.72168296997975, 172.42401221239166, 112.84118430770924, 47.093767508572306, 146.13142281352663, 102.46208811195226, 47.241389960329904, 180.68020637252235, 194.97220106715525, 74.8504874798056, 111.03721923065173, 76.32536173026364, 40.01830623171267, 90.78252295363133, 76.30022868521357, 122.41246286212751, 280.59340399289977, 143.4834898780203, 54.110994390695964, 82.90719216847779, 94.16250629297969, 71.25044242697746, 35.42519998118391, 84.31483017016961, 286.26962725331083, 108.34965101514068, 36.98808708952099, 90.85056977368625, 66.18410704186323, 101.20333890099562, 146.34521766478585, 150.74925286329196, 95.16874611221265, 41.39900478451852, 110.47156562031124, 83.03143300621181, 42.87990406127654, 161.07342979691126, 165.57457627659477, 67.03753360784088, 92.71542816925061, 66.07668294747074, 34.95035793759885, 82.91795693528469, 59.85034428231572, 106.4833669108217, 220.07980462526427, 120.76131984488012, 47.78192667558821, 57.18987165903686, 82.19729747899297, 54.73835189980477, 37.75982395986877, 40.71624994037739, 46.64540885675644, 48.70144022030136, 45.64467817344928, 44.26132208143357, 44.25409807748751, 47.83996928295028, 35.63770200737305, 46.11224841619744, 40.96224776697351, 49.89366863333349, 41.26482814247898, 40.52048034036802, 48.47799005016877, 50.88586612857365, 45.978325437708534, 55.80481396385381, 46.14623869121712, 49.76676606841861, 51.63699466969182, 53.62612687484355, 34.35809840118678, 45.04135387279997, 44.5684146391877, 46.509202260278585, 49.63783502247345, 38.307205284058206, 48.35169659019782, 36.543217733002415, -91.67054593629385, -109.8383479335725, -17.475572612221523, 12.329529747675878, -77.47324681094723, -77.33962585106755, -42.732092003419446, -58.14510275151008, -84.41152060393719, 4.262368100547874, -97.52338683742417, -24.206099345364137, -89.21712725299025, -72.56607081986824, -120.16042968973726, -88.61097854653455, -82.70331590720775, 18.678406608105853, -71.4198239196824, 50.30535743909069, -8.022870249083393, -49.06712720073598, -130.13339802496432, -66.78446212683663, -82.54308811269033, -59.798289371470325, -70.49851911199754, -124.28460705024102, -17.69249758632144, -120.07785559844123, 39.21273713115692, 30.453011992404555, 9.047314956629457, 5.499285014878643, 24.349465497595983, 18.674706573890372, 0.5037544821377812, 13.997383580478868, 29.32770159143419, 1.9913665820095818, 28.430069581600943, 1.8729404826432607, 38.63512730261832, 22.315559742186643, 13.005381083863785, 19.81702222548818, 15.178812041846507, 0.6113816125882416, 16.71149438381473, 8.357815156369787, 6.498120288227792, 8.013845497751616, 55.39295086435475, 35.542858223546276, 22.914261916465172, 15.829087664939708, 14.948583054220851, 57.4119284443266, 1.9382079525904927, 38.68347837075397, 41.427544657389326, 100.1662841796875, 315.0024037679037, 117.73522415161133, 41.98094584147135, 101.87928746541341, 74.36122589111328, 109.81524073282877, 172.00625762939453, 162.00941111246746, 104.7405616760254, 44.481499354044594, 130.70966313680012, 95.50019989013671, 45.252423731486004, 172.0068593343099, 182.44998118082682, 70.7762446085612, 102.38918431599934, 71.21157328287761, 37.573584111531574, 86.85305226643881, 70.41919021606445, 116.69815724690756, 252.94693857828776, 133.03675867716473, 51.85478057861328, 71.89152615865072, 89.29732182820638, 64.20575040181478, 46.69040864308675, 100.4800532023112, 332.99889882405597, 120.29204368591309, 42.22139949798584, 102.97162348429362, 76.19156150817871, 111.52368125915527, 190.53668238321941, 167.6039156595866, 109.24550806681314, 43.884673500061034, 130.74426816304523, 98.05444679260253, 44.338623428344725, 167.7947914123535, 182.2012171427409, 68.91559403737386, 103.5944315592448, 72.6252488454183, 37.520247840881346, 83.96607894897461, 73.4315902709961, 117.68082796732584, 253.82371215820314, 135.27827339172364, 51.14293855031331, 71.3548786799113, 91.69127909342448, 66.56452528635661]\n",
      "----------------------------------\n",
      "| environment/        |          |\n",
      "|    portfolio_value  | 3.6e+06  |\n",
      "|    total_cost       | 4.38e+03 |\n",
      "|    total_reward     | 2.6e+06  |\n",
      "|    total_reward_pct | 260      |\n",
      "|    total_trades     | 44060    |\n",
      "| time/               |          |\n",
      "|    episodes         | 12       |\n",
      "|    fps              | 40       |\n",
      "|    time_elapsed     | 747      |\n",
      "|    total timesteps  | 30192    |\n",
      "| train/              |          |\n",
      "|    actor_loss       | 37.6     |\n",
      "|    critic_loss      | 4.16     |\n",
      "|    ent_coef         | 0.0113   |\n",
      "|    ent_coef_loss    | -153     |\n",
      "|    learning_rate    | 0.0001   |\n",
      "|    n_updates        | 30091    |\n",
      "----------------------------------\n",
      "day: 2515, episode: 70\n",
      "begin_total_asset: 1000000.00\n",
      "end_total_asset: 3438157.57\n",
      "total_reward: 2438157.57\n",
      "total_cost: 3944.89\n",
      "total_trades: 44089\n",
      "Sharpe: 0.792\n",
      "=================================\n",
      "[1000000, 38.39591979980469, 91.69662475585938, 313.3722229003906, 118.78218841552734, 40.123985290527344, 97.55754852294922, 72.68486785888672, 108.32612609863281, 159.20101928710938, 162.39141845703125, 100.57974243164062, 44.13541793823242, 121.43285369873047, 90.1629638671875, 44.01080322265625, 168.1305389404297, 176.2595672607422, 71.46668243408203, 98.81327819824219, 72.5230484008789, 37.58075714111328, 86.1761703491211, 63.318092346191406, 113.30058288574219, 240.15750122070312, 129.90611267089844, 50.585201263427734, 62.84025573730469, 89.07861328125, 58.40364074707031, 0, 0, 0, 0, 0, 0, 0, 0, 0, 0, 0, 0, 0, 0, 0, 0, 0, 0, 0, 0, 0, 0, 0, 0, 0, 0, 0, 0, 0, 0, -2.141041777965299, -3.552996723704098, -6.5322711673567255, -0.8822167825157834, -0.9799449674846201, -2.1934933168446946, -1.5881746002519037, -1.8656878145195321, -9.081052234113486, -2.2328399684980695, -2.5064249292951075, -0.32983955379442875, -4.102228793422313, -2.889179649527293, -0.37578329318664316, -1.5821942612953137, -3.034807609728148, -0.045701227715255754, -1.989642958275212, -0.4748045008294781, -0.31164924659512394, -0.15894413380489425, -3.133430619057208, -2.131574045626138, -6.482025623390342, -2.418196932413707, -0.7203707316276251, -3.300559169558241, -1.471619326161104, -2.482863766377193, 44.89222937062273, 111.36300186108039, 342.3288102466892, 126.67958024706634, 46.44073180391163, 109.87818312548369, 79.24678590247271, 116.00920992712938, 183.72168296997975, 172.42401221239166, 112.84118430770924, 47.093767508572306, 146.13142281352663, 102.46208811195226, 47.241389960329904, 180.68020637252235, 194.97220106715525, 74.8504874798056, 111.03721923065173, 76.32536173026364, 40.01830623171267, 90.78252295363133, 76.30022868521357, 122.41246286212751, 280.59340399289977, 143.4834898780203, 54.110994390695964, 82.90719216847779, 94.16250629297969, 71.25044242697746, 35.42519998118391, 84.31483017016961, 286.26962725331083, 108.34965101514068, 36.98808708952099, 90.85056977368625, 66.18410704186323, 101.20333890099562, 146.34521766478585, 150.74925286329196, 95.16874611221265, 41.39900478451852, 110.47156562031124, 83.03143300621181, 42.87990406127654, 161.07342979691126, 165.57457627659477, 67.03753360784088, 92.71542816925061, 66.07668294747074, 34.95035793759885, 82.91795693528469, 59.85034428231572, 106.4833669108217, 220.07980462526427, 120.76131984488012, 47.78192667558821, 57.18987165903686, 82.19729747899297, 54.73835189980477, 37.75982395986877, 40.71624994037739, 46.64540885675644, 48.70144022030136, 45.64467817344928, 44.26132208143357, 44.25409807748751, 47.83996928295028, 35.63770200737305, 46.11224841619744, 40.96224776697351, 49.89366863333349, 41.26482814247898, 40.52048034036802, 48.47799005016877, 50.88586612857365, 45.978325437708534, 55.80481396385381, 46.14623869121712, 49.76676606841861, 51.63699466969182, 53.62612687484355, 34.35809840118678, 45.04135387279997, 44.5684146391877, 46.509202260278585, 49.63783502247345, 38.307205284058206, 48.35169659019782, 36.543217733002415, -91.67054593629385, -109.8383479335725, -17.475572612221523, 12.329529747675878, -77.47324681094723, -77.33962585106755, -42.732092003419446, -58.14510275151008, -84.41152060393719, 4.262368100547874, -97.52338683742417, -24.206099345364137, -89.21712725299025, -72.56607081986824, -120.16042968973726, -88.61097854653455, -82.70331590720775, 18.678406608105853, -71.4198239196824, 50.30535743909069, -8.022870249083393, -49.06712720073598, -130.13339802496432, -66.78446212683663, -82.54308811269033, -59.798289371470325, -70.49851911199754, -124.28460705024102, -17.69249758632144, -120.07785559844123, 39.21273713115692, 30.453011992404555, 9.047314956629457, 5.499285014878643, 24.349465497595983, 18.674706573890372, 0.5037544821377812, 13.997383580478868, 29.32770159143419, 1.9913665820095818, 28.430069581600943, 1.8729404826432607, 38.63512730261832, 22.315559742186643, 13.005381083863785, 19.81702222548818, 15.178812041846507, 0.6113816125882416, 16.71149438381473, 8.357815156369787, 6.498120288227792, 8.013845497751616, 55.39295086435475, 35.542858223546276, 22.914261916465172, 15.829087664939708, 14.948583054220851, 57.4119284443266, 1.9382079525904927, 38.68347837075397, 41.427544657389326, 100.1662841796875, 315.0024037679037, 117.73522415161133, 41.98094584147135, 101.87928746541341, 74.36122589111328, 109.81524073282877, 172.00625762939453, 162.00941111246746, 104.7405616760254, 44.481499354044594, 130.70966313680012, 95.50019989013671, 45.252423731486004, 172.0068593343099, 182.44998118082682, 70.7762446085612, 102.38918431599934, 71.21157328287761, 37.573584111531574, 86.85305226643881, 70.41919021606445, 116.69815724690756, 252.94693857828776, 133.03675867716473, 51.85478057861328, 71.89152615865072, 89.29732182820638, 64.20575040181478, 46.69040864308675, 100.4800532023112, 332.99889882405597, 120.29204368591309, 42.22139949798584, 102.97162348429362, 76.19156150817871, 111.52368125915527, 190.53668238321941, 167.6039156595866, 109.24550806681314, 43.884673500061034, 130.74426816304523, 98.05444679260253, 44.338623428344725, 167.7947914123535, 182.2012171427409, 68.91559403737386, 103.5944315592448, 72.6252488454183, 37.520247840881346, 83.96607894897461, 73.4315902709961, 117.68082796732584, 253.82371215820314, 135.27827339172364, 51.14293855031331, 71.3548786799113, 91.69127909342448, 66.56452528635661]\n"
     ]
    },
    {
     "name": "stdout",
     "output_type": "stream",
     "text": [
      "[1000000, 38.39591979980469, 91.69662475585938, 313.3722229003906, 118.78218841552734, 40.123985290527344, 97.55754852294922, 72.68486785888672, 108.32612609863281, 159.20101928710938, 162.39141845703125, 100.57974243164062, 44.13541793823242, 121.43285369873047, 90.1629638671875, 44.01080322265625, 168.1305389404297, 176.2595672607422, 71.46668243408203, 98.81327819824219, 72.5230484008789, 37.58075714111328, 86.1761703491211, 63.318092346191406, 113.30058288574219, 240.15750122070312, 129.90611267089844, 50.585201263427734, 62.84025573730469, 89.07861328125, 58.40364074707031, 0, 0, 0, 0, 0, 0, 0, 0, 0, 0, 0, 0, 0, 0, 0, 0, 0, 0, 0, 0, 0, 0, 0, 0, 0, 0, 0, 0, 0, 0, -2.141041777965299, -3.552996723704098, -6.5322711673567255, -0.8822167825157834, -0.9799449674846201, -2.1934933168446946, -1.5881746002519037, -1.8656878145195321, -9.081052234113486, -2.2328399684980695, -2.5064249292951075, -0.32983955379442875, -4.102228793422313, -2.889179649527293, -0.37578329318664316, -1.5821942612953137, -3.034807609728148, -0.045701227715255754, -1.989642958275212, -0.4748045008294781, -0.31164924659512394, -0.15894413380489425, -3.133430619057208, -2.131574045626138, -6.482025623390342, -2.418196932413707, -0.7203707316276251, -3.300559169558241, -1.471619326161104, -2.482863766377193, 44.89222937062273, 111.36300186108039, 342.3288102466892, 126.67958024706634, 46.44073180391163, 109.87818312548369, 79.24678590247271, 116.00920992712938, 183.72168296997975, 172.42401221239166, 112.84118430770924, 47.093767508572306, 146.13142281352663, 102.46208811195226, 47.241389960329904, 180.68020637252235, 194.97220106715525, 74.8504874798056, 111.03721923065173, 76.32536173026364, 40.01830623171267, 90.78252295363133, 76.30022868521357, 122.41246286212751, 280.59340399289977, 143.4834898780203, 54.110994390695964, 82.90719216847779, 94.16250629297969, 71.25044242697746, 35.42519998118391, 84.31483017016961, 286.26962725331083, 108.34965101514068, 36.98808708952099, 90.85056977368625, 66.18410704186323, 101.20333890099562, 146.34521766478585, 150.74925286329196, 95.16874611221265, 41.39900478451852, 110.47156562031124, 83.03143300621181, 42.87990406127654, 161.07342979691126, 165.57457627659477, 67.03753360784088, 92.71542816925061, 66.07668294747074, 34.95035793759885, 82.91795693528469, 59.85034428231572, 106.4833669108217, 220.07980462526427, 120.76131984488012, 47.78192667558821, 57.18987165903686, 82.19729747899297, 54.73835189980477, 37.75982395986877, 40.71624994037739, 46.64540885675644, 48.70144022030136, 45.64467817344928, 44.26132208143357, 44.25409807748751, 47.83996928295028, 35.63770200737305, 46.11224841619744, 40.96224776697351, 49.89366863333349, 41.26482814247898, 40.52048034036802, 48.47799005016877, 50.88586612857365, 45.978325437708534, 55.80481396385381, 46.14623869121712, 49.76676606841861, 51.63699466969182, 53.62612687484355, 34.35809840118678, 45.04135387279997, 44.5684146391877, 46.509202260278585, 49.63783502247345, 38.307205284058206, 48.35169659019782, 36.543217733002415, -91.67054593629385, -109.8383479335725, -17.475572612221523, 12.329529747675878, -77.47324681094723, -77.33962585106755, -42.732092003419446, -58.14510275151008, -84.41152060393719, 4.262368100547874, -97.52338683742417, -24.206099345364137, -89.21712725299025, -72.56607081986824, -120.16042968973726, -88.61097854653455, -82.70331590720775, 18.678406608105853, -71.4198239196824, 50.30535743909069, -8.022870249083393, -49.06712720073598, -130.13339802496432, -66.78446212683663, -82.54308811269033, -59.798289371470325, -70.49851911199754, -124.28460705024102, -17.69249758632144, -120.07785559844123, 39.21273713115692, 30.453011992404555, 9.047314956629457, 5.499285014878643, 24.349465497595983, 18.674706573890372, 0.5037544821377812, 13.997383580478868, 29.32770159143419, 1.9913665820095818, 28.430069581600943, 1.8729404826432607, 38.63512730261832, 22.315559742186643, 13.005381083863785, 19.81702222548818, 15.178812041846507, 0.6113816125882416, 16.71149438381473, 8.357815156369787, 6.498120288227792, 8.013845497751616, 55.39295086435475, 35.542858223546276, 22.914261916465172, 15.829087664939708, 14.948583054220851, 57.4119284443266, 1.9382079525904927, 38.68347837075397, 41.427544657389326, 100.1662841796875, 315.0024037679037, 117.73522415161133, 41.98094584147135, 101.87928746541341, 74.36122589111328, 109.81524073282877, 172.00625762939453, 162.00941111246746, 104.7405616760254, 44.481499354044594, 130.70966313680012, 95.50019989013671, 45.252423731486004, 172.0068593343099, 182.44998118082682, 70.7762446085612, 102.38918431599934, 71.21157328287761, 37.573584111531574, 86.85305226643881, 70.41919021606445, 116.69815724690756, 252.94693857828776, 133.03675867716473, 51.85478057861328, 71.89152615865072, 89.29732182820638, 64.20575040181478, 46.69040864308675, 100.4800532023112, 332.99889882405597, 120.29204368591309, 42.22139949798584, 102.97162348429362, 76.19156150817871, 111.52368125915527, 190.53668238321941, 167.6039156595866, 109.24550806681314, 43.884673500061034, 130.74426816304523, 98.05444679260253, 44.338623428344725, 167.7947914123535, 182.2012171427409, 68.91559403737386, 103.5944315592448, 72.6252488454183, 37.520247840881346, 83.96607894897461, 73.4315902709961, 117.68082796732584, 253.82371215820314, 135.27827339172364, 51.14293855031331, 71.3548786799113, 91.69127909342448, 66.56452528635661]\n",
      "[1000000, 38.39591979980469, 91.69662475585938, 313.3722229003906, 118.78218841552734, 40.123985290527344, 97.55754852294922, 72.68486785888672, 108.32612609863281, 159.20101928710938, 162.39141845703125, 100.57974243164062, 44.13541793823242, 121.43285369873047, 90.1629638671875, 44.01080322265625, 168.1305389404297, 176.2595672607422, 71.46668243408203, 98.81327819824219, 72.5230484008789, 37.58075714111328, 86.1761703491211, 63.318092346191406, 113.30058288574219, 240.15750122070312, 129.90611267089844, 50.585201263427734, 62.84025573730469, 89.07861328125, 58.40364074707031, 0, 0, 0, 0, 0, 0, 0, 0, 0, 0, 0, 0, 0, 0, 0, 0, 0, 0, 0, 0, 0, 0, 0, 0, 0, 0, 0, 0, 0, 0, -2.141041777965299, -3.552996723704098, -6.5322711673567255, -0.8822167825157834, -0.9799449674846201, -2.1934933168446946, -1.5881746002519037, -1.8656878145195321, -9.081052234113486, -2.2328399684980695, -2.5064249292951075, -0.32983955379442875, -4.102228793422313, -2.889179649527293, -0.37578329318664316, -1.5821942612953137, -3.034807609728148, -0.045701227715255754, -1.989642958275212, -0.4748045008294781, -0.31164924659512394, -0.15894413380489425, -3.133430619057208, -2.131574045626138, -6.482025623390342, -2.418196932413707, -0.7203707316276251, -3.300559169558241, -1.471619326161104, -2.482863766377193, 44.89222937062273, 111.36300186108039, 342.3288102466892, 126.67958024706634, 46.44073180391163, 109.87818312548369, 79.24678590247271, 116.00920992712938, 183.72168296997975, 172.42401221239166, 112.84118430770924, 47.093767508572306, 146.13142281352663, 102.46208811195226, 47.241389960329904, 180.68020637252235, 194.97220106715525, 74.8504874798056, 111.03721923065173, 76.32536173026364, 40.01830623171267, 90.78252295363133, 76.30022868521357, 122.41246286212751, 280.59340399289977, 143.4834898780203, 54.110994390695964, 82.90719216847779, 94.16250629297969, 71.25044242697746, 35.42519998118391, 84.31483017016961, 286.26962725331083, 108.34965101514068, 36.98808708952099, 90.85056977368625, 66.18410704186323, 101.20333890099562, 146.34521766478585, 150.74925286329196, 95.16874611221265, 41.39900478451852, 110.47156562031124, 83.03143300621181, 42.87990406127654, 161.07342979691126, 165.57457627659477, 67.03753360784088, 92.71542816925061, 66.07668294747074, 34.95035793759885, 82.91795693528469, 59.85034428231572, 106.4833669108217, 220.07980462526427, 120.76131984488012, 47.78192667558821, 57.18987165903686, 82.19729747899297, 54.73835189980477, 37.75982395986877, 40.71624994037739, 46.64540885675644, 48.70144022030136, 45.64467817344928, 44.26132208143357, 44.25409807748751, 47.83996928295028, 35.63770200737305, 46.11224841619744, 40.96224776697351, 49.89366863333349, 41.26482814247898, 40.52048034036802, 48.47799005016877, 50.88586612857365, 45.978325437708534, 55.80481396385381, 46.14623869121712, 49.76676606841861, 51.63699466969182, 53.62612687484355, 34.35809840118678, 45.04135387279997, 44.5684146391877, 46.509202260278585, 49.63783502247345, 38.307205284058206, 48.35169659019782, 36.543217733002415, -91.67054593629385, -109.8383479335725, -17.475572612221523, 12.329529747675878, -77.47324681094723, -77.33962585106755, -42.732092003419446, -58.14510275151008, -84.41152060393719, 4.262368100547874, -97.52338683742417, -24.206099345364137, -89.21712725299025, -72.56607081986824, -120.16042968973726, -88.61097854653455, -82.70331590720775, 18.678406608105853, -71.4198239196824, 50.30535743909069, -8.022870249083393, -49.06712720073598, -130.13339802496432, -66.78446212683663, -82.54308811269033, -59.798289371470325, -70.49851911199754, -124.28460705024102, -17.69249758632144, -120.07785559844123, 39.21273713115692, 30.453011992404555, 9.047314956629457, 5.499285014878643, 24.349465497595983, 18.674706573890372, 0.5037544821377812, 13.997383580478868, 29.32770159143419, 1.9913665820095818, 28.430069581600943, 1.8729404826432607, 38.63512730261832, 22.315559742186643, 13.005381083863785, 19.81702222548818, 15.178812041846507, 0.6113816125882416, 16.71149438381473, 8.357815156369787, 6.498120288227792, 8.013845497751616, 55.39295086435475, 35.542858223546276, 22.914261916465172, 15.829087664939708, 14.948583054220851, 57.4119284443266, 1.9382079525904927, 38.68347837075397, 41.427544657389326, 100.1662841796875, 315.0024037679037, 117.73522415161133, 41.98094584147135, 101.87928746541341, 74.36122589111328, 109.81524073282877, 172.00625762939453, 162.00941111246746, 104.7405616760254, 44.481499354044594, 130.70966313680012, 95.50019989013671, 45.252423731486004, 172.0068593343099, 182.44998118082682, 70.7762446085612, 102.38918431599934, 71.21157328287761, 37.573584111531574, 86.85305226643881, 70.41919021606445, 116.69815724690756, 252.94693857828776, 133.03675867716473, 51.85478057861328, 71.89152615865072, 89.29732182820638, 64.20575040181478, 46.69040864308675, 100.4800532023112, 332.99889882405597, 120.29204368591309, 42.22139949798584, 102.97162348429362, 76.19156150817871, 111.52368125915527, 190.53668238321941, 167.6039156595866, 109.24550806681314, 43.884673500061034, 130.74426816304523, 98.05444679260253, 44.338623428344725, 167.7947914123535, 182.2012171427409, 68.91559403737386, 103.5944315592448, 72.6252488454183, 37.520247840881346, 83.96607894897461, 73.4315902709961, 117.68082796732584, 253.82371215820314, 135.27827339172364, 51.14293855031331, 71.3548786799113, 91.69127909342448, 66.56452528635661]\n"
     ]
    },
    {
     "name": "stdout",
     "output_type": "stream",
     "text": [
      "[1000000, 38.39591979980469, 91.69662475585938, 313.3722229003906, 118.78218841552734, 40.123985290527344, 97.55754852294922, 72.68486785888672, 108.32612609863281, 159.20101928710938, 162.39141845703125, 100.57974243164062, 44.13541793823242, 121.43285369873047, 90.1629638671875, 44.01080322265625, 168.1305389404297, 176.2595672607422, 71.46668243408203, 98.81327819824219, 72.5230484008789, 37.58075714111328, 86.1761703491211, 63.318092346191406, 113.30058288574219, 240.15750122070312, 129.90611267089844, 50.585201263427734, 62.84025573730469, 89.07861328125, 58.40364074707031, 0, 0, 0, 0, 0, 0, 0, 0, 0, 0, 0, 0, 0, 0, 0, 0, 0, 0, 0, 0, 0, 0, 0, 0, 0, 0, 0, 0, 0, 0, -2.141041777965299, -3.552996723704098, -6.5322711673567255, -0.8822167825157834, -0.9799449674846201, -2.1934933168446946, -1.5881746002519037, -1.8656878145195321, -9.081052234113486, -2.2328399684980695, -2.5064249292951075, -0.32983955379442875, -4.102228793422313, -2.889179649527293, -0.37578329318664316, -1.5821942612953137, -3.034807609728148, -0.045701227715255754, -1.989642958275212, -0.4748045008294781, -0.31164924659512394, -0.15894413380489425, -3.133430619057208, -2.131574045626138, -6.482025623390342, -2.418196932413707, -0.7203707316276251, -3.300559169558241, -1.471619326161104, -2.482863766377193, 44.89222937062273, 111.36300186108039, 342.3288102466892, 126.67958024706634, 46.44073180391163, 109.87818312548369, 79.24678590247271, 116.00920992712938, 183.72168296997975, 172.42401221239166, 112.84118430770924, 47.093767508572306, 146.13142281352663, 102.46208811195226, 47.241389960329904, 180.68020637252235, 194.97220106715525, 74.8504874798056, 111.03721923065173, 76.32536173026364, 40.01830623171267, 90.78252295363133, 76.30022868521357, 122.41246286212751, 280.59340399289977, 143.4834898780203, 54.110994390695964, 82.90719216847779, 94.16250629297969, 71.25044242697746, 35.42519998118391, 84.31483017016961, 286.26962725331083, 108.34965101514068, 36.98808708952099, 90.85056977368625, 66.18410704186323, 101.20333890099562, 146.34521766478585, 150.74925286329196, 95.16874611221265, 41.39900478451852, 110.47156562031124, 83.03143300621181, 42.87990406127654, 161.07342979691126, 165.57457627659477, 67.03753360784088, 92.71542816925061, 66.07668294747074, 34.95035793759885, 82.91795693528469, 59.85034428231572, 106.4833669108217, 220.07980462526427, 120.76131984488012, 47.78192667558821, 57.18987165903686, 82.19729747899297, 54.73835189980477, 37.75982395986877, 40.71624994037739, 46.64540885675644, 48.70144022030136, 45.64467817344928, 44.26132208143357, 44.25409807748751, 47.83996928295028, 35.63770200737305, 46.11224841619744, 40.96224776697351, 49.89366863333349, 41.26482814247898, 40.52048034036802, 48.47799005016877, 50.88586612857365, 45.978325437708534, 55.80481396385381, 46.14623869121712, 49.76676606841861, 51.63699466969182, 53.62612687484355, 34.35809840118678, 45.04135387279997, 44.5684146391877, 46.509202260278585, 49.63783502247345, 38.307205284058206, 48.35169659019782, 36.543217733002415, -91.67054593629385, -109.8383479335725, -17.475572612221523, 12.329529747675878, -77.47324681094723, -77.33962585106755, -42.732092003419446, -58.14510275151008, -84.41152060393719, 4.262368100547874, -97.52338683742417, -24.206099345364137, -89.21712725299025, -72.56607081986824, -120.16042968973726, -88.61097854653455, -82.70331590720775, 18.678406608105853, -71.4198239196824, 50.30535743909069, -8.022870249083393, -49.06712720073598, -130.13339802496432, -66.78446212683663, -82.54308811269033, -59.798289371470325, -70.49851911199754, -124.28460705024102, -17.69249758632144, -120.07785559844123, 39.21273713115692, 30.453011992404555, 9.047314956629457, 5.499285014878643, 24.349465497595983, 18.674706573890372, 0.5037544821377812, 13.997383580478868, 29.32770159143419, 1.9913665820095818, 28.430069581600943, 1.8729404826432607, 38.63512730261832, 22.315559742186643, 13.005381083863785, 19.81702222548818, 15.178812041846507, 0.6113816125882416, 16.71149438381473, 8.357815156369787, 6.498120288227792, 8.013845497751616, 55.39295086435475, 35.542858223546276, 22.914261916465172, 15.829087664939708, 14.948583054220851, 57.4119284443266, 1.9382079525904927, 38.68347837075397, 41.427544657389326, 100.1662841796875, 315.0024037679037, 117.73522415161133, 41.98094584147135, 101.87928746541341, 74.36122589111328, 109.81524073282877, 172.00625762939453, 162.00941111246746, 104.7405616760254, 44.481499354044594, 130.70966313680012, 95.50019989013671, 45.252423731486004, 172.0068593343099, 182.44998118082682, 70.7762446085612, 102.38918431599934, 71.21157328287761, 37.573584111531574, 86.85305226643881, 70.41919021606445, 116.69815724690756, 252.94693857828776, 133.03675867716473, 51.85478057861328, 71.89152615865072, 89.29732182820638, 64.20575040181478, 46.69040864308675, 100.4800532023112, 332.99889882405597, 120.29204368591309, 42.22139949798584, 102.97162348429362, 76.19156150817871, 111.52368125915527, 190.53668238321941, 167.6039156595866, 109.24550806681314, 43.884673500061034, 130.74426816304523, 98.05444679260253, 44.338623428344725, 167.7947914123535, 182.2012171427409, 68.91559403737386, 103.5944315592448, 72.6252488454183, 37.520247840881346, 83.96607894897461, 73.4315902709961, 117.68082796732584, 253.82371215820314, 135.27827339172364, 51.14293855031331, 71.3548786799113, 91.69127909342448, 66.56452528635661]\n",
      "----------------------------------\n",
      "| environment/        |          |\n",
      "|    portfolio_value  | 3.32e+06 |\n",
      "|    total_cost       | 3.15e+03 |\n",
      "|    total_reward     | 2.32e+06 |\n",
      "|    total_reward_pct | 232      |\n",
      "|    total_trades     | 44317    |\n",
      "| time/               |          |\n",
      "|    episodes         | 16       |\n",
      "|    fps              | 39       |\n",
      "|    time_elapsed     | 1009     |\n",
      "|    total timesteps  | 40256    |\n",
      "| train/              |          |\n",
      "|    actor_loss       | 24.3     |\n",
      "|    critic_loss      | 6.04     |\n",
      "|    ent_coef         | 0.00434  |\n",
      "|    ent_coef_loss    | -111     |\n",
      "|    learning_rate    | 0.0001   |\n",
      "|    n_updates        | 40155    |\n",
      "----------------------------------\n",
      "[1000000, 38.39591979980469, 91.69662475585938, 313.3722229003906, 118.78218841552734, 40.123985290527344, 97.55754852294922, 72.68486785888672, 108.32612609863281, 159.20101928710938, 162.39141845703125, 100.57974243164062, 44.13541793823242, 121.43285369873047, 90.1629638671875, 44.01080322265625, 168.1305389404297, 176.2595672607422, 71.46668243408203, 98.81327819824219, 72.5230484008789, 37.58075714111328, 86.1761703491211, 63.318092346191406, 113.30058288574219, 240.15750122070312, 129.90611267089844, 50.585201263427734, 62.84025573730469, 89.07861328125, 58.40364074707031, 0, 0, 0, 0, 0, 0, 0, 0, 0, 0, 0, 0, 0, 0, 0, 0, 0, 0, 0, 0, 0, 0, 0, 0, 0, 0, 0, 0, 0, 0, -2.141041777965299, -3.552996723704098, -6.5322711673567255, -0.8822167825157834, -0.9799449674846201, -2.1934933168446946, -1.5881746002519037, -1.8656878145195321, -9.081052234113486, -2.2328399684980695, -2.5064249292951075, -0.32983955379442875, -4.102228793422313, -2.889179649527293, -0.37578329318664316, -1.5821942612953137, -3.034807609728148, -0.045701227715255754, -1.989642958275212, -0.4748045008294781, -0.31164924659512394, -0.15894413380489425, -3.133430619057208, -2.131574045626138, -6.482025623390342, -2.418196932413707, -0.7203707316276251, -3.300559169558241, -1.471619326161104, -2.482863766377193, 44.89222937062273, 111.36300186108039, 342.3288102466892, 126.67958024706634, 46.44073180391163, 109.87818312548369, 79.24678590247271, 116.00920992712938, 183.72168296997975, 172.42401221239166, 112.84118430770924, 47.093767508572306, 146.13142281352663, 102.46208811195226, 47.241389960329904, 180.68020637252235, 194.97220106715525, 74.8504874798056, 111.03721923065173, 76.32536173026364, 40.01830623171267, 90.78252295363133, 76.30022868521357, 122.41246286212751, 280.59340399289977, 143.4834898780203, 54.110994390695964, 82.90719216847779, 94.16250629297969, 71.25044242697746, 35.42519998118391, 84.31483017016961, 286.26962725331083, 108.34965101514068, 36.98808708952099, 90.85056977368625, 66.18410704186323, 101.20333890099562, 146.34521766478585, 150.74925286329196, 95.16874611221265, 41.39900478451852, 110.47156562031124, 83.03143300621181, 42.87990406127654, 161.07342979691126, 165.57457627659477, 67.03753360784088, 92.71542816925061, 66.07668294747074, 34.95035793759885, 82.91795693528469, 59.85034428231572, 106.4833669108217, 220.07980462526427, 120.76131984488012, 47.78192667558821, 57.18987165903686, 82.19729747899297, 54.73835189980477, 37.75982395986877, 40.71624994037739, 46.64540885675644, 48.70144022030136, 45.64467817344928, 44.26132208143357, 44.25409807748751, 47.83996928295028, 35.63770200737305, 46.11224841619744, 40.96224776697351, 49.89366863333349, 41.26482814247898, 40.52048034036802, 48.47799005016877, 50.88586612857365, 45.978325437708534, 55.80481396385381, 46.14623869121712, 49.76676606841861, 51.63699466969182, 53.62612687484355, 34.35809840118678, 45.04135387279997, 44.5684146391877, 46.509202260278585, 49.63783502247345, 38.307205284058206, 48.35169659019782, 36.543217733002415, -91.67054593629385, -109.8383479335725, -17.475572612221523, 12.329529747675878, -77.47324681094723, -77.33962585106755, -42.732092003419446, -58.14510275151008, -84.41152060393719, 4.262368100547874, -97.52338683742417, -24.206099345364137, -89.21712725299025, -72.56607081986824, -120.16042968973726, -88.61097854653455, -82.70331590720775, 18.678406608105853, -71.4198239196824, 50.30535743909069, -8.022870249083393, -49.06712720073598, -130.13339802496432, -66.78446212683663, -82.54308811269033, -59.798289371470325, -70.49851911199754, -124.28460705024102, -17.69249758632144, -120.07785559844123, 39.21273713115692, 30.453011992404555, 9.047314956629457, 5.499285014878643, 24.349465497595983, 18.674706573890372, 0.5037544821377812, 13.997383580478868, 29.32770159143419, 1.9913665820095818, 28.430069581600943, 1.8729404826432607, 38.63512730261832, 22.315559742186643, 13.005381083863785, 19.81702222548818, 15.178812041846507, 0.6113816125882416, 16.71149438381473, 8.357815156369787, 6.498120288227792, 8.013845497751616, 55.39295086435475, 35.542858223546276, 22.914261916465172, 15.829087664939708, 14.948583054220851, 57.4119284443266, 1.9382079525904927, 38.68347837075397, 41.427544657389326, 100.1662841796875, 315.0024037679037, 117.73522415161133, 41.98094584147135, 101.87928746541341, 74.36122589111328, 109.81524073282877, 172.00625762939453, 162.00941111246746, 104.7405616760254, 44.481499354044594, 130.70966313680012, 95.50019989013671, 45.252423731486004, 172.0068593343099, 182.44998118082682, 70.7762446085612, 102.38918431599934, 71.21157328287761, 37.573584111531574, 86.85305226643881, 70.41919021606445, 116.69815724690756, 252.94693857828776, 133.03675867716473, 51.85478057861328, 71.89152615865072, 89.29732182820638, 64.20575040181478, 46.69040864308675, 100.4800532023112, 332.99889882405597, 120.29204368591309, 42.22139949798584, 102.97162348429362, 76.19156150817871, 111.52368125915527, 190.53668238321941, 167.6039156595866, 109.24550806681314, 43.884673500061034, 130.74426816304523, 98.05444679260253, 44.338623428344725, 167.7947914123535, 182.2012171427409, 68.91559403737386, 103.5944315592448, 72.6252488454183, 37.520247840881346, 83.96607894897461, 73.4315902709961, 117.68082796732584, 253.82371215820314, 135.27827339172364, 51.14293855031331, 71.3548786799113, 91.69127909342448, 66.56452528635661]\n"
     ]
    },
    {
     "name": "stdout",
     "output_type": "stream",
     "text": [
      "[1000000, 38.39591979980469, 91.69662475585938, 313.3722229003906, 118.78218841552734, 40.123985290527344, 97.55754852294922, 72.68486785888672, 108.32612609863281, 159.20101928710938, 162.39141845703125, 100.57974243164062, 44.13541793823242, 121.43285369873047, 90.1629638671875, 44.01080322265625, 168.1305389404297, 176.2595672607422, 71.46668243408203, 98.81327819824219, 72.5230484008789, 37.58075714111328, 86.1761703491211, 63.318092346191406, 113.30058288574219, 240.15750122070312, 129.90611267089844, 50.585201263427734, 62.84025573730469, 89.07861328125, 58.40364074707031, 0, 0, 0, 0, 0, 0, 0, 0, 0, 0, 0, 0, 0, 0, 0, 0, 0, 0, 0, 0, 0, 0, 0, 0, 0, 0, 0, 0, 0, 0, -2.141041777965299, -3.552996723704098, -6.5322711673567255, -0.8822167825157834, -0.9799449674846201, -2.1934933168446946, -1.5881746002519037, -1.8656878145195321, -9.081052234113486, -2.2328399684980695, -2.5064249292951075, -0.32983955379442875, -4.102228793422313, -2.889179649527293, -0.37578329318664316, -1.5821942612953137, -3.034807609728148, -0.045701227715255754, -1.989642958275212, -0.4748045008294781, -0.31164924659512394, -0.15894413380489425, -3.133430619057208, -2.131574045626138, -6.482025623390342, -2.418196932413707, -0.7203707316276251, -3.300559169558241, -1.471619326161104, -2.482863766377193, 44.89222937062273, 111.36300186108039, 342.3288102466892, 126.67958024706634, 46.44073180391163, 109.87818312548369, 79.24678590247271, 116.00920992712938, 183.72168296997975, 172.42401221239166, 112.84118430770924, 47.093767508572306, 146.13142281352663, 102.46208811195226, 47.241389960329904, 180.68020637252235, 194.97220106715525, 74.8504874798056, 111.03721923065173, 76.32536173026364, 40.01830623171267, 90.78252295363133, 76.30022868521357, 122.41246286212751, 280.59340399289977, 143.4834898780203, 54.110994390695964, 82.90719216847779, 94.16250629297969, 71.25044242697746, 35.42519998118391, 84.31483017016961, 286.26962725331083, 108.34965101514068, 36.98808708952099, 90.85056977368625, 66.18410704186323, 101.20333890099562, 146.34521766478585, 150.74925286329196, 95.16874611221265, 41.39900478451852, 110.47156562031124, 83.03143300621181, 42.87990406127654, 161.07342979691126, 165.57457627659477, 67.03753360784088, 92.71542816925061, 66.07668294747074, 34.95035793759885, 82.91795693528469, 59.85034428231572, 106.4833669108217, 220.07980462526427, 120.76131984488012, 47.78192667558821, 57.18987165903686, 82.19729747899297, 54.73835189980477, 37.75982395986877, 40.71624994037739, 46.64540885675644, 48.70144022030136, 45.64467817344928, 44.26132208143357, 44.25409807748751, 47.83996928295028, 35.63770200737305, 46.11224841619744, 40.96224776697351, 49.89366863333349, 41.26482814247898, 40.52048034036802, 48.47799005016877, 50.88586612857365, 45.978325437708534, 55.80481396385381, 46.14623869121712, 49.76676606841861, 51.63699466969182, 53.62612687484355, 34.35809840118678, 45.04135387279997, 44.5684146391877, 46.509202260278585, 49.63783502247345, 38.307205284058206, 48.35169659019782, 36.543217733002415, -91.67054593629385, -109.8383479335725, -17.475572612221523, 12.329529747675878, -77.47324681094723, -77.33962585106755, -42.732092003419446, -58.14510275151008, -84.41152060393719, 4.262368100547874, -97.52338683742417, -24.206099345364137, -89.21712725299025, -72.56607081986824, -120.16042968973726, -88.61097854653455, -82.70331590720775, 18.678406608105853, -71.4198239196824, 50.30535743909069, -8.022870249083393, -49.06712720073598, -130.13339802496432, -66.78446212683663, -82.54308811269033, -59.798289371470325, -70.49851911199754, -124.28460705024102, -17.69249758632144, -120.07785559844123, 39.21273713115692, 30.453011992404555, 9.047314956629457, 5.499285014878643, 24.349465497595983, 18.674706573890372, 0.5037544821377812, 13.997383580478868, 29.32770159143419, 1.9913665820095818, 28.430069581600943, 1.8729404826432607, 38.63512730261832, 22.315559742186643, 13.005381083863785, 19.81702222548818, 15.178812041846507, 0.6113816125882416, 16.71149438381473, 8.357815156369787, 6.498120288227792, 8.013845497751616, 55.39295086435475, 35.542858223546276, 22.914261916465172, 15.829087664939708, 14.948583054220851, 57.4119284443266, 1.9382079525904927, 38.68347837075397, 41.427544657389326, 100.1662841796875, 315.0024037679037, 117.73522415161133, 41.98094584147135, 101.87928746541341, 74.36122589111328, 109.81524073282877, 172.00625762939453, 162.00941111246746, 104.7405616760254, 44.481499354044594, 130.70966313680012, 95.50019989013671, 45.252423731486004, 172.0068593343099, 182.44998118082682, 70.7762446085612, 102.38918431599934, 71.21157328287761, 37.573584111531574, 86.85305226643881, 70.41919021606445, 116.69815724690756, 252.94693857828776, 133.03675867716473, 51.85478057861328, 71.89152615865072, 89.29732182820638, 64.20575040181478, 46.69040864308675, 100.4800532023112, 332.99889882405597, 120.29204368591309, 42.22139949798584, 102.97162348429362, 76.19156150817871, 111.52368125915527, 190.53668238321941, 167.6039156595866, 109.24550806681314, 43.884673500061034, 130.74426816304523, 98.05444679260253, 44.338623428344725, 167.7947914123535, 182.2012171427409, 68.91559403737386, 103.5944315592448, 72.6252488454183, 37.520247840881346, 83.96607894897461, 73.4315902709961, 117.68082796732584, 253.82371215820314, 135.27827339172364, 51.14293855031331, 71.3548786799113, 91.69127909342448, 66.56452528635661]\n",
      "[1000000, 38.39591979980469, 91.69662475585938, 313.3722229003906, 118.78218841552734, 40.123985290527344, 97.55754852294922, 72.68486785888672, 108.32612609863281, 159.20101928710938, 162.39141845703125, 100.57974243164062, 44.13541793823242, 121.43285369873047, 90.1629638671875, 44.01080322265625, 168.1305389404297, 176.2595672607422, 71.46668243408203, 98.81327819824219, 72.5230484008789, 37.58075714111328, 86.1761703491211, 63.318092346191406, 113.30058288574219, 240.15750122070312, 129.90611267089844, 50.585201263427734, 62.84025573730469, 89.07861328125, 58.40364074707031, 0, 0, 0, 0, 0, 0, 0, 0, 0, 0, 0, 0, 0, 0, 0, 0, 0, 0, 0, 0, 0, 0, 0, 0, 0, 0, 0, 0, 0, 0, -2.141041777965299, -3.552996723704098, -6.5322711673567255, -0.8822167825157834, -0.9799449674846201, -2.1934933168446946, -1.5881746002519037, -1.8656878145195321, -9.081052234113486, -2.2328399684980695, -2.5064249292951075, -0.32983955379442875, -4.102228793422313, -2.889179649527293, -0.37578329318664316, -1.5821942612953137, -3.034807609728148, -0.045701227715255754, -1.989642958275212, -0.4748045008294781, -0.31164924659512394, -0.15894413380489425, -3.133430619057208, -2.131574045626138, -6.482025623390342, -2.418196932413707, -0.7203707316276251, -3.300559169558241, -1.471619326161104, -2.482863766377193, 44.89222937062273, 111.36300186108039, 342.3288102466892, 126.67958024706634, 46.44073180391163, 109.87818312548369, 79.24678590247271, 116.00920992712938, 183.72168296997975, 172.42401221239166, 112.84118430770924, 47.093767508572306, 146.13142281352663, 102.46208811195226, 47.241389960329904, 180.68020637252235, 194.97220106715525, 74.8504874798056, 111.03721923065173, 76.32536173026364, 40.01830623171267, 90.78252295363133, 76.30022868521357, 122.41246286212751, 280.59340399289977, 143.4834898780203, 54.110994390695964, 82.90719216847779, 94.16250629297969, 71.25044242697746, 35.42519998118391, 84.31483017016961, 286.26962725331083, 108.34965101514068, 36.98808708952099, 90.85056977368625, 66.18410704186323, 101.20333890099562, 146.34521766478585, 150.74925286329196, 95.16874611221265, 41.39900478451852, 110.47156562031124, 83.03143300621181, 42.87990406127654, 161.07342979691126, 165.57457627659477, 67.03753360784088, 92.71542816925061, 66.07668294747074, 34.95035793759885, 82.91795693528469, 59.85034428231572, 106.4833669108217, 220.07980462526427, 120.76131984488012, 47.78192667558821, 57.18987165903686, 82.19729747899297, 54.73835189980477, 37.75982395986877, 40.71624994037739, 46.64540885675644, 48.70144022030136, 45.64467817344928, 44.26132208143357, 44.25409807748751, 47.83996928295028, 35.63770200737305, 46.11224841619744, 40.96224776697351, 49.89366863333349, 41.26482814247898, 40.52048034036802, 48.47799005016877, 50.88586612857365, 45.978325437708534, 55.80481396385381, 46.14623869121712, 49.76676606841861, 51.63699466969182, 53.62612687484355, 34.35809840118678, 45.04135387279997, 44.5684146391877, 46.509202260278585, 49.63783502247345, 38.307205284058206, 48.35169659019782, 36.543217733002415, -91.67054593629385, -109.8383479335725, -17.475572612221523, 12.329529747675878, -77.47324681094723, -77.33962585106755, -42.732092003419446, -58.14510275151008, -84.41152060393719, 4.262368100547874, -97.52338683742417, -24.206099345364137, -89.21712725299025, -72.56607081986824, -120.16042968973726, -88.61097854653455, -82.70331590720775, 18.678406608105853, -71.4198239196824, 50.30535743909069, -8.022870249083393, -49.06712720073598, -130.13339802496432, -66.78446212683663, -82.54308811269033, -59.798289371470325, -70.49851911199754, -124.28460705024102, -17.69249758632144, -120.07785559844123, 39.21273713115692, 30.453011992404555, 9.047314956629457, 5.499285014878643, 24.349465497595983, 18.674706573890372, 0.5037544821377812, 13.997383580478868, 29.32770159143419, 1.9913665820095818, 28.430069581600943, 1.8729404826432607, 38.63512730261832, 22.315559742186643, 13.005381083863785, 19.81702222548818, 15.178812041846507, 0.6113816125882416, 16.71149438381473, 8.357815156369787, 6.498120288227792, 8.013845497751616, 55.39295086435475, 35.542858223546276, 22.914261916465172, 15.829087664939708, 14.948583054220851, 57.4119284443266, 1.9382079525904927, 38.68347837075397, 41.427544657389326, 100.1662841796875, 315.0024037679037, 117.73522415161133, 41.98094584147135, 101.87928746541341, 74.36122589111328, 109.81524073282877, 172.00625762939453, 162.00941111246746, 104.7405616760254, 44.481499354044594, 130.70966313680012, 95.50019989013671, 45.252423731486004, 172.0068593343099, 182.44998118082682, 70.7762446085612, 102.38918431599934, 71.21157328287761, 37.573584111531574, 86.85305226643881, 70.41919021606445, 116.69815724690756, 252.94693857828776, 133.03675867716473, 51.85478057861328, 71.89152615865072, 89.29732182820638, 64.20575040181478, 46.69040864308675, 100.4800532023112, 332.99889882405597, 120.29204368591309, 42.22139949798584, 102.97162348429362, 76.19156150817871, 111.52368125915527, 190.53668238321941, 167.6039156595866, 109.24550806681314, 43.884673500061034, 130.74426816304523, 98.05444679260253, 44.338623428344725, 167.7947914123535, 182.2012171427409, 68.91559403737386, 103.5944315592448, 72.6252488454183, 37.520247840881346, 83.96607894897461, 73.4315902709961, 117.68082796732584, 253.82371215820314, 135.27827339172364, 51.14293855031331, 71.3548786799113, 91.69127909342448, 66.56452528635661]\n"
     ]
    }
   ],
   "source": [
    "trained_sac = agent.train_model(model=model_sac, \n",
    "                             tb_log_name='sac',\n",
    "                             total_timesteps=80000)"
   ]
  },
  {
   "cell_type": "markdown",
   "metadata": {
    "id": "f2wZgkQXh1jE"
   },
   "source": [
    "## Trading\n",
    "Assume that we have $1,000,000 initial capital at 2019-01-01. We use the DDPG model to trade Dow jones 30 stocks."
   ]
  },
  {
   "cell_type": "markdown",
   "metadata": {
    "id": "bEv5KGC8h1jE"
   },
   "source": [
    "### Set turbulence threshold\n",
    "Set the turbulence threshold to be greater than the maximum of insample turbulence data, if current turbulence index is greater than the threshold, then we assume that the current market is volatile"
   ]
  },
  {
   "cell_type": "code",
   "execution_count": null,
   "metadata": {
    "id": "efwBi84ch1jE"
   },
   "outputs": [],
   "source": [
    "data_turbulence = processed_full[(processed_full.date<'2019-01-01') & (processed_full.date>='2009-01-01')]\n",
    "insample_turbulence = data_turbulence.drop_duplicates(subset=['date'])"
   ]
  },
  {
   "cell_type": "code",
   "execution_count": null,
   "metadata": {
    "colab": {
     "base_uri": "https://localhost:8080/"
    },
    "id": "VHZMBpSqh1jG",
    "outputId": "6dd6e5d6-38d1-4f60-ae70-1168757eb1fc"
   },
   "outputs": [],
   "source": [
    "insample_turbulence.turbulence.describe()"
   ]
  },
  {
   "cell_type": "code",
   "execution_count": null,
   "metadata": {
    "id": "yuwDPkV9h1jL"
   },
   "outputs": [],
   "source": [
    "turbulence_threshold = np.quantile(insample_turbulence.turbulence.values,1)"
   ]
  },
  {
   "cell_type": "code",
   "execution_count": null,
   "metadata": {
    "colab": {
     "base_uri": "https://localhost:8080/"
    },
    "id": "wwoz_7VSh1jO",
    "outputId": "a22d3e00-8a19-4b18-dd3e-9d072a0f6aca"
   },
   "outputs": [],
   "source": [
    "turbulence_threshold"
   ]
  },
  {
   "cell_type": "markdown",
   "metadata": {
    "id": "U5mmgQF_h1jQ"
   },
   "source": [
    "### Trade\n",
    "\n",
    "DRL model needs to update periodically in order to take full advantage of the data, ideally we need to retrain our model yearly, quarterly, or monthly. We also need to tune the parameters along the way, in this notebook I only use the in-sample data from 2009-01 to 2018-12 to tune the parameters once, so there is some alpha decay here as the length of trade date extends. \n",
    "\n",
    "Numerous hyperparameters – e.g. the learning rate, the total number of samples to train on – influence the learning process and are usually determined by testing some variations."
   ]
  },
  {
   "cell_type": "code",
   "execution_count": null,
   "metadata": {
    "id": "cIqoV0GSI52v"
   },
   "outputs": [],
   "source": [
    "trade = data_split(processed_full, '2019-01-01','2021-01-01')\n",
    "e_trade_gym = StockTradingEnv(df = trade, turbulence_threshold = 380, **env_kwargs)\n",
    "# env_trade, obs_trade = e_trade_gym.get_sb_env()"
   ]
  },
  {
   "cell_type": "code",
   "execution_count": null,
   "metadata": {
    "colab": {
     "base_uri": "https://localhost:8080/",
     "height": 309
    },
    "id": "W_XNgGsBMeVw",
    "outputId": "9bd9af7b-9e2b-4c30-bd3d-b1459d189a41"
   },
   "outputs": [],
   "source": [
    "trade.head()"
   ]
  },
  {
   "cell_type": "code",
   "execution_count": null,
   "metadata": {
    "colab": {
     "base_uri": "https://localhost:8080/"
    },
    "id": "eLOnL5eYh1jR",
    "outputId": "f9c2b3bf-cdfb-45f4-dbbf-2451163da1cc"
   },
   "outputs": [],
   "source": [
    "df_account_value, df_actions = DRLAgent.DRL_prediction(\n",
    "    model=trained_sac, \n",
    "    environment = e_trade_gym)"
   ]
  },
  {
   "cell_type": "code",
   "execution_count": null,
   "metadata": {
    "colab": {
     "base_uri": "https://localhost:8080/"
    },
    "id": "ERxw3KqLkcP4",
    "outputId": "cc31064c-cfa2-4bcc-ab3e-f7028744e506"
   },
   "outputs": [],
   "source": [
    "df_account_value.shape"
   ]
  },
  {
   "cell_type": "code",
   "execution_count": null,
   "metadata": {
    "colab": {
     "base_uri": "https://localhost:8080/",
     "height": 204
    },
    "id": "2yRkNguY5yvp",
    "outputId": "a691cfc6-75c5-4c25-9f0e-0c7ba8274e66"
   },
   "outputs": [],
   "source": [
    "df_account_value.tail()"
   ]
  },
  {
   "cell_type": "code",
   "execution_count": null,
   "metadata": {
    "colab": {
     "base_uri": "https://localhost:8080/",
     "height": 235
    },
    "id": "nFlK5hNbWVFk",
    "outputId": "cced6c73-9f91-4838-eb7d-99c9c2b8d48c"
   },
   "outputs": [],
   "source": [
    "df_actions.head()"
   ]
  },
  {
   "cell_type": "markdown",
   "metadata": {
    "id": "W6vvNSC6h1jZ"
   },
   "source": [
    "<a id='6'></a>\n",
    "# Part 7: Backtest Our Strategy\n",
    "Backtesting plays a key role in evaluating the performance of a trading strategy. Automated backtesting tool is preferred because it reduces the human error. We usually use the Quantopian pyfolio package to backtest our trading strategies. It is easy to use and consists of various individual plots that provide a comprehensive image of the performance of a trading strategy."
   ]
  },
  {
   "cell_type": "markdown",
   "metadata": {
    "id": "Lr2zX7ZxNyFQ"
   },
   "source": [
    "<a id='6.1'></a>\n",
    "## 7.1 BackTestStats\n",
    "pass in df_account_value, this information is stored in env class\n"
   ]
  },
  {
   "cell_type": "code",
   "execution_count": null,
   "metadata": {
    "colab": {
     "base_uri": "https://localhost:8080/"
    },
    "id": "Nzkr9yv-AdV_",
    "outputId": "bd56925d-7d32-479a-da1f-8606dff1b0f8"
   },
   "outputs": [],
   "source": [
    "print(\"==============Get Backtest Results===========\")\n",
    "now = datetime.datetime.now().strftime('%Y%m%d-%Hh%M')\n",
    "\n",
    "perf_stats_all = backtest_stats(account_value=df_account_value)\n",
    "perf_stats_all = pd.DataFrame(perf_stats_all)\n",
    "perf_stats_all.to_csv(\"./\"+config.RESULTS_DIR+\"/perf_stats_all_\"+now+'.csv')"
   ]
  },
  {
   "cell_type": "code",
   "execution_count": null,
   "metadata": {
    "colab": {
     "base_uri": "https://localhost:8080/"
    },
    "id": "QkV-LB66iwhD",
    "outputId": "061ac7da-3c70-4790-cd95-7627855bbe21"
   },
   "outputs": [],
   "source": [
    "#baseline stats\n",
    "print(\"==============Get Baseline Stats===========\")\n",
    "baseline_df = get_baseline(\n",
    "        ticker=\"^DJI\", \n",
    "        start = '2019-01-01',\n",
    "        end = '2021-01-01')\n",
    "\n",
    "stats = backtest_stats(baseline_df, value_col_name = 'close')\n"
   ]
  },
  {
   "cell_type": "markdown",
   "metadata": {
    "id": "9U6Suru3h1jc"
   },
   "source": [
    "<a id='6.2'></a>\n",
    "## 7.2 BackTestPlot"
   ]
  },
  {
   "cell_type": "code",
   "execution_count": null,
   "metadata": {
    "colab": {
     "base_uri": "https://localhost:8080/",
     "height": 1000
    },
    "id": "lKRGftSS7pNM",
    "outputId": "00deee41-f99f-4aaf-a389-e66315de1ff6"
   },
   "outputs": [],
   "source": [
    "print(\"==============Compare to DJIA===========\")\n",
    "%matplotlib inline\n",
    "# S&P 500: ^GSPC\n",
    "# Dow Jones Index: ^DJI\n",
    "# NASDAQ 100: ^NDX\n",
    "backtest_plot(df_account_value, \n",
    "             baseline_ticker = '^DJI', \n",
    "             baseline_start = '2019-01-01',\n",
    "             baseline_end = '2021-01-01')"
   ]
  },
  {
   "cell_type": "code",
   "execution_count": null,
   "metadata": {
    "id": "BzBaE63H3RLc"
   },
   "outputs": [],
   "source": []
  },
  {
   "cell_type": "code",
   "execution_count": null,
   "metadata": {},
   "outputs": [],
   "source": []
  },
  {
   "cell_type": "code",
   "execution_count": null,
   "metadata": {},
   "outputs": [],
   "source": []
  },
  {
   "cell_type": "code",
   "execution_count": null,
   "metadata": {},
   "outputs": [],
   "source": []
  },
  {
   "cell_type": "code",
   "execution_count": null,
   "metadata": {},
   "outputs": [],
   "source": []
  }
 ],
 "metadata": {
  "colab": {
   "collapsed_sections": [
    "uijiWgkuh1jB",
    "MRiOtrywfAo1",
    "_gDkU-j-fCmZ",
    "3Zpv4S0-fDBv"
   ],
   "include_colab_link": true,
   "name": "FinRL_stock_trading_NeurIPS_2018.ipynb",
   "provenance": [],
   "toc_visible": true
  },
  "kernelspec": {
   "display_name": "Python 3",
   "language": "python",
   "name": "python3"
  },
  "language_info": {
   "codemirror_mode": {
    "name": "ipython",
    "version": 3
   },
   "file_extension": ".py",
   "mimetype": "text/x-python",
   "name": "python",
   "nbconvert_exporter": "python",
   "pygments_lexer": "ipython3",
   "version": "3.8.8"
  },
  "pycharm": {
   "stem_cell": {
    "cell_type": "raw",
    "metadata": {
     "collapsed": false
    },
    "source": []
   }
  }
 },
 "nbformat": 4,
 "nbformat_minor": 4
}