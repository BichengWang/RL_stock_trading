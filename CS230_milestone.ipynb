{
 "cells": [
  {
   "cell_type": "markdown",
   "id": "verbal-conspiracy",
   "metadata": {},
   "source": [
    "# Deep Reinforcement Learning on S|tock Trading (CS230 Milestone)"
   ]
  },
  {
   "cell_type": "markdown",
   "id": "corporate-italy",
   "metadata": {},
   "source": [
    "## Metadata\n",
    "Author: Bicheng Wang, Xinyi Zhang   \n",
    "Email: bichengw@stanford.edu, xyzh@stanford.edu\n"
   ]
  },
  {
   "cell_type": "markdown",
   "id": "facial-curve",
   "metadata": {},
   "source": [
    "## Introdution\n"
   ]
  },
  {
   "cell_type": "markdown",
   "id": "valuable-handy",
   "metadata": {},
   "source": [
    "Profitable automated trading strategy plays a critical role to investment companies and hedge funds. Given that the stock market is dynamic and complex, it is challenging to design such a strategy. The project proposes to use a deep reinforcement learning framework to learn a profitable stock trading mechanism, with the goal to optimize the cumulative return and Alpha.\n",
    "It would select S\\&P 500 Index along with its top 20 market capitalization stocks as our trading stock pool.\n",
    "The input to our algorithm is the market price for these stocks, remaining balance, current portfolio and technical indicator statistics. The model agent output is a series of trading actions among stocks. \n",
    "The available trading action options are: sell, buy and hold. "
   ]
  },
  {
   "cell_type": "markdown",
   "id": "frank-lodging",
   "metadata": {},
   "source": [
    "## Dataset"
   ]
  },
  {
   "cell_type": "markdown",
   "id": "recorded-circulation",
   "metadata": {},
   "source": [
    "We choose S\\&P500 Index and 20 stocks with top performance in the index (exclude companies IPO after 2000) from 2000 to 2020 as our dataset. The original data is fetched from Yahoo Finance API. Each dataset row is comprised of date, open price, high price, low price, close price, volumn, ticker symbol, # day in a week and technical indicators. The technical indicators are computed using the original data, which include moving average convergence divergence, Bollinger Bands, Relative Strength Index, Commodity Channel Index , Directional Movement Index and Simple Moving Average.  The dataset has 105680 rows in total. We split the dataset into training and test on a 90/10 basis. The training set contains data ranging from 2000 to 2018, while the test set contains data ranging from 2019 to 2020."
   ]
  },
  {
   "cell_type": "markdown",
   "id": "fossil-button",
   "metadata": {},
   "source": [
    "## Model Description"
   ]
  },
  {
   "cell_type": "markdown",
   "id": "boring-router",
   "metadata": {},
   "source": [
    "### Environment"
   ]
  },
  {
   "cell_type": "markdown",
   "id": "dependent-thriller",
   "metadata": {},
   "source": [
    "#### State Space"
   ]
  },
  {
   "cell_type": "markdown",
   "id": "center-power",
   "metadata": {},
   "source": [
    "A 337-dimensional vector consists of 17 parts of information to represent the state space of multiple stocks trading environment: [b, p, s, macd, boll_ub, boll_lb, rsi_10, rsi_20, cci_10, cci_20, dx_30, close_20_sma, close_60_sma, close_120_sma, close_20_ema, close_60_ema, close_120_ema]. Each component is defined as follows:\n",
    "- b: available balance \n",
    "- p: close price of each stock\n",
    "- s: shares owned of each stock\n",
    "- macd: Moving Average Convergence Divergence of each stock\n",
    "- boll: "
   ]
  },
  {
   "cell_type": "markdown",
   "id": "environmental-architecture",
   "metadata": {},
   "source": [
    "#### Action Space"
   ]
  },
  {
   "cell_type": "markdown",
   "id": "civilian-partner",
   "metadata": {},
   "source": []
  },
  {
   "cell_type": "markdown",
   "id": "gentle-ribbon",
   "metadata": {},
   "source": [
    "## Training Strategy"
   ]
  },
  {
   "cell_type": "markdown",
   "id": "organizational-probability",
   "metadata": {},
   "source": [
    "//TODO(bicheng)"
   ]
  },
  {
   "cell_type": "markdown",
   "id": "blank-scientist",
   "metadata": {},
   "source": [
    "## Results\n"
   ]
  },
  {
   "cell_type": "markdown",
   "id": "portuguese-massachusetts",
   "metadata": {},
   "source": [
    "Add early stage results"
   ]
  },
  {
   "cell_type": "markdown",
   "id": "quantitative-opposition",
   "metadata": {},
   "source": [
    "| Method  | Training Period | Evaluation Period |\n",
    "| ------------- | ------------- | ------------- |\n",
    "| Baseline|![](img/training_spy_performance.jpg)|![](img/evaluation_spy_performance.jpg)|\n",
    "| A2C | ![](img/training_a2c_performance.jpg) | ![](img/evaluation_a2c_performance.jpg) |\n",
    "| PPO | ![](img/training_ppo_performance.jpg) | ![](img/evaluation_ppo_performance.jpg) |"
   ]
  },
  {
   "cell_type": "markdown",
   "id": "british-centre",
   "metadata": {},
   "source": [
    "| Method  | Training Period | Evaluation Period |\n",
    "| ------------- | ------------- | ------------- |\n",
    "| A2C | ![](img/training_a2c_backtest1.jpg) | ![](img/evaluation_a2c_backtest1.jpg) |\n",
    "| PPO | ![](img/training_ppo_backtest1.jpg) | ![](img/evaluation_ppo_backtest1.jpg) |"
   ]
  },
  {
   "cell_type": "markdown",
   "id": "administrative-exhibit",
   "metadata": {},
   "source": [
    "| Method  | Training Period | Evaluation Period |\n",
    "| ------------- | ------------- | ------------- |\n",
    "| A2C | ![](img/training_a2c_backtest2.jpg) | ![](img/evaluation_a2c_backtest2.jpg) |\n",
    "| PPO | ![](img/training_ppo_backtest2.jpg) | ![](img/evaluation_ppo_backtest2.jpg) |"
   ]
  },
  {
   "cell_type": "code",
   "execution_count": null,
   "id": "seasonal-trash",
   "metadata": {},
   "outputs": [],
   "source": []
  },
  {
   "cell_type": "markdown",
   "id": "endless-warren",
   "metadata": {},
   "source": [
    "## Future plan"
   ]
  },
  {
   "cell_type": "markdown",
   "id": "optimum-frost",
   "metadata": {},
   "source": [
    "Add expected improvement "
   ]
  }
 ],
 "metadata": {
  "kernelspec": {
   "display_name": "Python 3",
   "language": "python",
   "name": "python3"
  },
  "language_info": {
   "codemirror_mode": {
    "name": "ipython",
    "version": 3
   },
   "file_extension": ".py",
   "mimetype": "text/x-python",
   "name": "python",
   "nbconvert_exporter": "python",
   "pygments_lexer": "ipython3",
   "version": "3.8.8"
  }
 },
 "nbformat": 4,
 "nbformat_minor": 5
}