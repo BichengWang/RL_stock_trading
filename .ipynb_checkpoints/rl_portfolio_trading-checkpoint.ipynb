{
 "cells": [
  {
   "cell_type": "markdown",
   "metadata": {
    "id": "sApkDlD9LIZv"
   },
   "source": [
    "# Target Problem"
   ]
  },
  {
   "cell_type": "markdown",
   "metadata": {
    "id": "HjLD2TZSLKZ-"
   },
   "source": [
    "The project proposes to use a deep reinforcement learning framework to learn a profitable stock trading strategy, with the goal to optimize the cumulative return and Alpha. It would select S&P500 Index with the top 20 market capitalization stocks as our trading stock pool. The input to the algorithm is the market trend for these stocks in the last month, remaining balance, and current portfolio. The model agent output is a series of trading actions among stocks. The available trading\n",
    "action options are: sell, buy and hold. The market data in the most recent months will be used to feed\n",
    "the model performance evaluation.\n",
    "\n",
    "The algorithm is trained using Deep Reinforcement Learning (DRL) algorithms and the components of the reinforcement learning environment are:\n",
    "\n",
    "* Action: The action space describes the allowed actions that the agent interacts with the\n",
    "environment. Normally, a ∈ A includes three actions: a ∈ {−1, 0, 1}, where −1, 0, 1 represent\n",
    "selling, holding, and buying one stock. Also, an action can be carried upon multiple shares. We use\n",
    "an action space {−k, ..., −1, 0, 1, ..., k}, where k denotes the number of shares. For example, \"Buy\n",
    "10 shares of AAPL\" or \"Sell 10 shares of AAPL\" are 10 or −10, respectively\n",
    "\n",
    "* Reward function: r(s, a, s′) is the incentive mechanism for an agent to learn a better action. The change of the portfolio value when action a is taken at state s and arriving at new state s',  i.e., r(s, a, s′) = v′ − v, where v′ and v represent the portfolio\n",
    "values at state s′ and s, respectively\n",
    "\n",
    "* State: The state space describes the observations that the agent receives from the environment. Just as a human trader needs to analyze various information before executing a trade, so\n",
    "our trading agent observes many different features to better learn in an interactive environment.\n",
    "\n",
    "* Environment: SP500 top 20 companies\n",
    "\n",
    "\n",
    "The data of the single stock that we will be using for this case study is obtained from Yahoo Finance API. The data contains Open-High-Low-Close price and volume.\n"
   ]
  },
  {
   "cell_type": "markdown",
   "metadata": {},
   "source": [
    "## Environment Setup"
   ]
  },
  {
   "cell_type": "markdown",
   "metadata": {
    "id": "nGv01K8Sh1hn"
   },
   "source": [
    "### Import Packages"
   ]
  },
  {
   "cell_type": "code",
   "execution_count": 1,
   "metadata": {
    "colab": {
     "base_uri": "https://localhost:8080/"
    },
    "id": "lPqeTTwoh1hn",
    "outputId": "b5fdebb3-b7d0-4fe6-b993-fc4c1efc51ff"
   },
   "outputs": [
    {
     "name": "stderr",
     "output_type": "stream",
     "text": [
      "D:\\InstalledSoftware\\anaconda3\\envs\\py37-python-notebook\\lib\\site-packages\\pyfolio\\pos.py:26: UserWarning: Module \"zipline.assets\" not found; multipliers will not be applied to position notionals.\n",
      "  warnings.warn(\n"
     ]
    }
   ],
   "source": [
    "import pandas as pd\n",
    "import numpy as np\n",
    "import matplotlib\n",
    "import matplotlib.pyplot as plt\n",
    "import datetime\n",
    "\n",
    "%matplotlib inline\n",
    "from rl.config import config\n",
    "from rl.marketdata.yahoodownloader import YahooDownloader\n",
    "from rl.preprocessing.preprocessors import FeatureEngineer\n",
    "from rl.preprocessing.data import data_split\n",
    "from rl.env.env_stocktrading import StockTradingEnv\n",
    "from rl.model.models import DRLAgent\n",
    "from rl.trade.backtest import backtest_stats, backtest_plot, get_daily_return, get_baseline\n",
    "\n",
    "from pprint import pprint\n",
    "\n",
    "import itertools"
   ]
  },
  {
   "cell_type": "markdown",
   "metadata": {
    "id": "T2owTj985RW4"
   },
   "source": [
    "### Cache Folders"
   ]
  },
  {
   "cell_type": "code",
   "execution_count": 2,
   "metadata": {
    "id": "w9A8CN5R5PuZ"
   },
   "outputs": [],
   "source": [
    "import os\n",
    "if not os.path.exists(\"./\" + config.DATA_SAVE_DIR):\n",
    "    os.makedirs(\"./\" + config.DATA_SAVE_DIR)\n",
    "if not os.path.exists(\"./\" + config.TRAINED_MODEL_DIR):\n",
    "    os.makedirs(\"./\" + config.TRAINED_MODEL_DIR)\n",
    "if not os.path.exists(\"./\" + config.TENSORBOARD_LOG_DIR):\n",
    "    os.makedirs(\"./\" + config.TENSORBOARD_LOG_DIR)\n",
    "if not os.path.exists(\"./\" + config.RESULTS_DIR):\n",
    "    os.makedirs(\"./\" + config.RESULTS_DIR)"
   ]
  },
  {
   "cell_type": "markdown",
   "metadata": {
    "id": "A289rQWMh1hq"
   },
   "source": [
    "### Fetch Data"
   ]
  },
  {
   "cell_type": "code",
   "execution_count": 3,
   "metadata": {
    "colab": {
     "base_uri": "https://localhost:8080/",
     "height": 35
    },
    "id": "h3XJnvrbLp-C",
    "outputId": "90ad1901-fda9-46f8-80f6-083cd8d6293a"
   },
   "outputs": [
    {
     "name": "stdout",
     "output_type": "stream",
     "text": [
      "training period: 2000-01-01-2019-01-01, testing period: 2019-01-01-2021-01-01\n",
      "\n",
      "target ticker list:\n",
      " ['AAPL', 'MSFT', 'AMZN', 'BRK-B', 'JPM', 'JNJ', 'UNH', 'HD', 'PG', 'NVDA', 'DIS', 'BAC', 'CMCSA', 'XOM', 'VZ', 'T', 'ADBE', 'PFE', 'CSCO', 'INTC']\n",
      "\n",
      "tech_indicator_list:\n",
      " ['macd', 'boll_ub', 'boll_lb', 'rsi_10', 'rsi_20', 'cci_10', 'cci_20', 'dx_30', 'close_20_sma', 'close_60_sma', 'close_120_sma', 'close_20_ema', 'close_60_ema', 'close_120_ema']\n",
      "\n"
     ]
    }
   ],
   "source": [
    "# from config.py start_date is a string\n",
    "start_date = config.START_DATE\n",
    "# from config.py end_date is a string\n",
    "end_date = config.END_DATE\n",
    "# from config.py split_date is a string\n",
    "split_date = config.SPLIT_DATE\n",
    "# config target ticker\n",
    "target_ticker = config.SP500_20_TICKER\n",
    "# config tech_indicator_list\n",
    "tech_indicator_list = config.TECHNICAL_INDICATORS_LIST\n",
    "print(\"training period: {}-{}, testing period: {}-{}\\n\".format(start_date, split_date, split_date, end_date))\n",
    "print(\"target ticker list:\\n {}\\n\".format(target_ticker))\n",
    "print(\"tech_indicator_list:\\n {}\\n\".format(tech_indicator_list))"
   ]
  },
  {
   "cell_type": "code",
   "execution_count": 4,
   "metadata": {
    "colab": {
     "base_uri": "https://localhost:8080/"
    },
    "id": "yCKm4om-s9kE",
    "outputId": "2ba50005-317e-4fa0-d31a-70705b58d88a"
   },
   "outputs": [
    {
     "name": "stdout",
     "output_type": "stream",
     "text": [
      "[*********************100%***********************]  1 of 1 completed\n",
      "[*********************100%***********************]  1 of 1 completed\n",
      "[*********************100%***********************]  1 of 1 completed\n",
      "[*********************100%***********************]  1 of 1 completed\n",
      "[*********************100%***********************]  1 of 1 completed\n",
      "[*********************100%***********************]  1 of 1 completed\n",
      "[*********************100%***********************]  1 of 1 completed\n",
      "[*********************100%***********************]  1 of 1 completed\n",
      "[*********************100%***********************]  1 of 1 completed\n",
      "[*********************100%***********************]  1 of 1 completed\n",
      "[*********************100%***********************]  1 of 1 completed\n",
      "[*********************100%***********************]  1 of 1 completed\n",
      "[*********************100%***********************]  1 of 1 completed\n",
      "[*********************100%***********************]  1 of 1 completed\n",
      "[*********************100%***********************]  1 of 1 completed\n",
      "[*********************100%***********************]  1 of 1 completed\n",
      "[*********************100%***********************]  1 of 1 completed\n",
      "[*********************100%***********************]  1 of 1 completed\n",
      "[*********************100%***********************]  1 of 1 completed\n",
      "[*********************100%***********************]  1 of 1 completed\n",
      "Shape of DataFrame:  (105680, 8)\n"
     ]
    }
   ],
   "source": [
    "df = YahooDownloader(start_date = start_date,\n",
    "                     end_date = end_date,\n",
    "                     ticker_list = target_ticker).fetch_data()"
   ]
  },
  {
   "cell_type": "code",
   "execution_count": 5,
   "metadata": {
    "colab": {
     "base_uri": "https://localhost:8080/"
    },
    "id": "CV3HrZHLh1hy",
    "outputId": "a0fc1d82-5e09-4ddc-b624-24f304db7f79"
   },
   "outputs": [
    {
     "data": {
      "text/plain": [
       "(105680, 8)"
      ]
     },
     "execution_count": 5,
     "metadata": {},
     "output_type": "execute_result"
    }
   ],
   "source": [
    "df.shape"
   ]
  },
  {
   "cell_type": "code",
   "execution_count": 6,
   "metadata": {
    "colab": {
     "base_uri": "https://localhost:8080/",
     "height": 204
    },
    "id": "4hYkeaPiICHS",
    "outputId": "45c1f6a6-d7ef-4278-f0a6-1182f4c02189"
   },
   "outputs": [
    {
     "data": {
      "text/html": [
       "<div>\n",
       "<style scoped>\n",
       "    .dataframe tbody tr th:only-of-type {\n",
       "        vertical-align: middle;\n",
       "    }\n",
       "\n",
       "    .dataframe tbody tr th {\n",
       "        vertical-align: top;\n",
       "    }\n",
       "\n",
       "    .dataframe thead th {\n",
       "        text-align: right;\n",
       "    }\n",
       "</style>\n",
       "<table border=\"1\" class=\"dataframe\">\n",
       "  <thead>\n",
       "    <tr style=\"text-align: right;\">\n",
       "      <th></th>\n",
       "      <th>date</th>\n",
       "      <th>open</th>\n",
       "      <th>high</th>\n",
       "      <th>low</th>\n",
       "      <th>close</th>\n",
       "      <th>volume</th>\n",
       "      <th>tic</th>\n",
       "      <th>day</th>\n",
       "    </tr>\n",
       "  </thead>\n",
       "  <tbody>\n",
       "    <tr>\n",
       "      <th>0</th>\n",
       "      <td>2000-01-03</td>\n",
       "      <td>0.936384</td>\n",
       "      <td>1.004464</td>\n",
       "      <td>0.907924</td>\n",
       "      <td>0.859423</td>\n",
       "      <td>535796800.0</td>\n",
       "      <td>AAPL</td>\n",
       "      <td>0</td>\n",
       "    </tr>\n",
       "    <tr>\n",
       "      <th>1</th>\n",
       "      <td>2000-01-03</td>\n",
       "      <td>16.812500</td>\n",
       "      <td>16.875000</td>\n",
       "      <td>16.062500</td>\n",
       "      <td>16.274673</td>\n",
       "      <td>7384400.0</td>\n",
       "      <td>ADBE</td>\n",
       "      <td>0</td>\n",
       "    </tr>\n",
       "    <tr>\n",
       "      <th>2</th>\n",
       "      <td>2000-01-03</td>\n",
       "      <td>81.500000</td>\n",
       "      <td>89.562500</td>\n",
       "      <td>79.046875</td>\n",
       "      <td>89.375000</td>\n",
       "      <td>16117600.0</td>\n",
       "      <td>AMZN</td>\n",
       "      <td>0</td>\n",
       "    </tr>\n",
       "    <tr>\n",
       "      <th>3</th>\n",
       "      <td>2000-01-03</td>\n",
       "      <td>25.125000</td>\n",
       "      <td>25.125000</td>\n",
       "      <td>24.000000</td>\n",
       "      <td>13.952057</td>\n",
       "      <td>13705800.0</td>\n",
       "      <td>BAC</td>\n",
       "      <td>0</td>\n",
       "    </tr>\n",
       "    <tr>\n",
       "      <th>4</th>\n",
       "      <td>2000-01-03</td>\n",
       "      <td>36.500000</td>\n",
       "      <td>36.580002</td>\n",
       "      <td>34.820000</td>\n",
       "      <td>35.299999</td>\n",
       "      <td>875000.0</td>\n",
       "      <td>BRK-B</td>\n",
       "      <td>0</td>\n",
       "    </tr>\n",
       "  </tbody>\n",
       "</table>\n",
       "</div>"
      ],
      "text/plain": [
       "         date       open       high        low      close       volume    tic  \\\n",
       "0  2000-01-03   0.936384   1.004464   0.907924   0.859423  535796800.0   AAPL   \n",
       "1  2000-01-03  16.812500  16.875000  16.062500  16.274673    7384400.0   ADBE   \n",
       "2  2000-01-03  81.500000  89.562500  79.046875  89.375000   16117600.0   AMZN   \n",
       "3  2000-01-03  25.125000  25.125000  24.000000  13.952057   13705800.0    BAC   \n",
       "4  2000-01-03  36.500000  36.580002  34.820000  35.299999     875000.0  BRK-B   \n",
       "\n",
       "   day  \n",
       "0    0  \n",
       "1    0  \n",
       "2    0  \n",
       "3    0  \n",
       "4    0  "
      ]
     },
     "execution_count": 6,
     "metadata": {},
     "output_type": "execute_result"
    }
   ],
   "source": [
    "df.sort_values(['date','tic'],ignore_index=True).head()"
   ]
  },
  {
   "cell_type": "markdown",
   "metadata": {
    "id": "uqC6c40Zh1iH"
   },
   "source": [
    "## Data Preprocessing\n",
    "Data preprocessing is a crucial step for training a high quality machine learning model. We need to check for missing data and do feature engineering in order to convert the data into a model-ready state.\n",
    "* Add technical indicators. In practical trading, various information needs to be taken into account, for example the historical stock prices, current holding shares, technical indicators, etc. In this article, we demonstrate two trend-following technical indicators: MACD and RSI.\n",
    "* Add turbulence index. Risk-aversion reflects whether an investor will choose to preserve the capital. It also influences one's trading strategy when facing different market volatility level. To control the risk in a worst-case scenario, such as financial crisis of 2007–2008, FinRL employs the financial turbulence index that measures extreme asset price fluctuation."
   ]
  },
  {
   "cell_type": "markdown",
   "metadata": {},
   "source": [
    "### Feature Engineering"
   ]
  },
  {
   "cell_type": "code",
   "execution_count": 7,
   "metadata": {
    "colab": {
     "base_uri": "https://localhost:8080/"
    },
    "id": "PmKP-1ii3RLS",
    "outputId": "f04f7c44-c6ad-48db-9b9c-dbc72ce47f80",
    "pycharm": {
     "name": "#%%\n"
    }
   },
   "outputs": [
    {
     "name": "stdout",
     "output_type": "stream",
     "text": [
      "Successfully added technical indicators\n",
      "Successfully added turbulence index\n"
     ]
    }
   ],
   "source": [
    "fe = FeatureEngineer(\n",
    "                    use_technical_indicator=True,\n",
    "                    tech_indicator_list = tech_indicator_list,\n",
    "                    use_turbulence=True,\n",
    "                    user_defined_feature = False)\n",
    "\n",
    "processed = fe.preprocess_data(df)"
   ]
  },
  {
   "cell_type": "code",
   "execution_count": 8,
   "metadata": {},
   "outputs": [
    {
     "data": {
      "text/html": [
       "<div>\n",
       "<style scoped>\n",
       "    .dataframe tbody tr th:only-of-type {\n",
       "        vertical-align: middle;\n",
       "    }\n",
       "\n",
       "    .dataframe tbody tr th {\n",
       "        vertical-align: top;\n",
       "    }\n",
       "\n",
       "    .dataframe thead th {\n",
       "        text-align: right;\n",
       "    }\n",
       "</style>\n",
       "<table border=\"1\" class=\"dataframe\">\n",
       "  <thead>\n",
       "    <tr style=\"text-align: right;\">\n",
       "      <th></th>\n",
       "      <th>date</th>\n",
       "      <th>open</th>\n",
       "      <th>high</th>\n",
       "      <th>low</th>\n",
       "      <th>close</th>\n",
       "      <th>volume</th>\n",
       "      <th>tic</th>\n",
       "      <th>day</th>\n",
       "      <th>macd</th>\n",
       "      <th>boll_ub</th>\n",
       "      <th>...</th>\n",
       "      <th>cci_10</th>\n",
       "      <th>cci_20</th>\n",
       "      <th>dx_30</th>\n",
       "      <th>close_20_sma</th>\n",
       "      <th>close_60_sma</th>\n",
       "      <th>close_120_sma</th>\n",
       "      <th>close_20_ema</th>\n",
       "      <th>close_60_ema</th>\n",
       "      <th>close_120_ema</th>\n",
       "      <th>turbulence</th>\n",
       "    </tr>\n",
       "  </thead>\n",
       "  <tbody>\n",
       "    <tr>\n",
       "      <th>0</th>\n",
       "      <td>2000-01-03</td>\n",
       "      <td>0.936384</td>\n",
       "      <td>1.004464</td>\n",
       "      <td>0.907924</td>\n",
       "      <td>0.859423</td>\n",
       "      <td>535796800.0</td>\n",
       "      <td>AAPL</td>\n",
       "      <td>0</td>\n",
       "      <td>0.0</td>\n",
       "      <td>0.925665</td>\n",
       "      <td>...</td>\n",
       "      <td>-66.666667</td>\n",
       "      <td>-66.666667</td>\n",
       "      <td>100.0</td>\n",
       "      <td>0.859423</td>\n",
       "      <td>0.859423</td>\n",
       "      <td>0.859423</td>\n",
       "      <td>0.859423</td>\n",
       "      <td>0.859423</td>\n",
       "      <td>0.859423</td>\n",
       "      <td>0.0</td>\n",
       "    </tr>\n",
       "    <tr>\n",
       "      <th>1</th>\n",
       "      <td>2000-01-03</td>\n",
       "      <td>16.812500</td>\n",
       "      <td>16.875000</td>\n",
       "      <td>16.062500</td>\n",
       "      <td>16.274673</td>\n",
       "      <td>7384400.0</td>\n",
       "      <td>ADBE</td>\n",
       "      <td>0</td>\n",
       "      <td>0.0</td>\n",
       "      <td>0.925665</td>\n",
       "      <td>...</td>\n",
       "      <td>-66.666667</td>\n",
       "      <td>-66.666667</td>\n",
       "      <td>100.0</td>\n",
       "      <td>16.274673</td>\n",
       "      <td>16.274673</td>\n",
       "      <td>16.274673</td>\n",
       "      <td>16.274673</td>\n",
       "      <td>16.274673</td>\n",
       "      <td>16.274673</td>\n",
       "      <td>0.0</td>\n",
       "    </tr>\n",
       "    <tr>\n",
       "      <th>2</th>\n",
       "      <td>2000-01-03</td>\n",
       "      <td>81.500000</td>\n",
       "      <td>89.562500</td>\n",
       "      <td>79.046875</td>\n",
       "      <td>89.375000</td>\n",
       "      <td>16117600.0</td>\n",
       "      <td>AMZN</td>\n",
       "      <td>0</td>\n",
       "      <td>0.0</td>\n",
       "      <td>0.925665</td>\n",
       "      <td>...</td>\n",
       "      <td>-66.666667</td>\n",
       "      <td>-66.666667</td>\n",
       "      <td>100.0</td>\n",
       "      <td>89.375000</td>\n",
       "      <td>89.375000</td>\n",
       "      <td>89.375000</td>\n",
       "      <td>89.375000</td>\n",
       "      <td>89.375000</td>\n",
       "      <td>89.375000</td>\n",
       "      <td>0.0</td>\n",
       "    </tr>\n",
       "    <tr>\n",
       "      <th>3</th>\n",
       "      <td>2000-01-03</td>\n",
       "      <td>25.125000</td>\n",
       "      <td>25.125000</td>\n",
       "      <td>24.000000</td>\n",
       "      <td>13.952057</td>\n",
       "      <td>13705800.0</td>\n",
       "      <td>BAC</td>\n",
       "      <td>0</td>\n",
       "      <td>0.0</td>\n",
       "      <td>0.925665</td>\n",
       "      <td>...</td>\n",
       "      <td>-66.666667</td>\n",
       "      <td>-66.666667</td>\n",
       "      <td>100.0</td>\n",
       "      <td>13.952057</td>\n",
       "      <td>13.952057</td>\n",
       "      <td>13.952057</td>\n",
       "      <td>13.952057</td>\n",
       "      <td>13.952057</td>\n",
       "      <td>13.952057</td>\n",
       "      <td>0.0</td>\n",
       "    </tr>\n",
       "    <tr>\n",
       "      <th>4</th>\n",
       "      <td>2000-01-03</td>\n",
       "      <td>36.500000</td>\n",
       "      <td>36.580002</td>\n",
       "      <td>34.820000</td>\n",
       "      <td>35.299999</td>\n",
       "      <td>875000.0</td>\n",
       "      <td>BRK-B</td>\n",
       "      <td>0</td>\n",
       "      <td>0.0</td>\n",
       "      <td>0.925665</td>\n",
       "      <td>...</td>\n",
       "      <td>-66.666667</td>\n",
       "      <td>-66.666667</td>\n",
       "      <td>100.0</td>\n",
       "      <td>35.299999</td>\n",
       "      <td>35.299999</td>\n",
       "      <td>35.299999</td>\n",
       "      <td>35.299999</td>\n",
       "      <td>35.299999</td>\n",
       "      <td>35.299999</td>\n",
       "      <td>0.0</td>\n",
       "    </tr>\n",
       "  </tbody>\n",
       "</table>\n",
       "<p>5 rows × 23 columns</p>\n",
       "</div>"
      ],
      "text/plain": [
       "         date       open       high        low      close       volume    tic  \\\n",
       "0  2000-01-03   0.936384   1.004464   0.907924   0.859423  535796800.0   AAPL   \n",
       "1  2000-01-03  16.812500  16.875000  16.062500  16.274673    7384400.0   ADBE   \n",
       "2  2000-01-03  81.500000  89.562500  79.046875  89.375000   16117600.0   AMZN   \n",
       "3  2000-01-03  25.125000  25.125000  24.000000  13.952057   13705800.0    BAC   \n",
       "4  2000-01-03  36.500000  36.580002  34.820000  35.299999     875000.0  BRK-B   \n",
       "\n",
       "   day  macd   boll_ub  ...     cci_10     cci_20  dx_30  close_20_sma  \\\n",
       "0    0   0.0  0.925665  ... -66.666667 -66.666667  100.0      0.859423   \n",
       "1    0   0.0  0.925665  ... -66.666667 -66.666667  100.0     16.274673   \n",
       "2    0   0.0  0.925665  ... -66.666667 -66.666667  100.0     89.375000   \n",
       "3    0   0.0  0.925665  ... -66.666667 -66.666667  100.0     13.952057   \n",
       "4    0   0.0  0.925665  ... -66.666667 -66.666667  100.0     35.299999   \n",
       "\n",
       "   close_60_sma  close_120_sma  close_20_ema  close_60_ema  close_120_ema  \\\n",
       "0      0.859423       0.859423      0.859423      0.859423       0.859423   \n",
       "1     16.274673      16.274673     16.274673     16.274673      16.274673   \n",
       "2     89.375000      89.375000     89.375000     89.375000      89.375000   \n",
       "3     13.952057      13.952057     13.952057     13.952057      13.952057   \n",
       "4     35.299999      35.299999     35.299999     35.299999      35.299999   \n",
       "\n",
       "   turbulence  \n",
       "0         0.0  \n",
       "1         0.0  \n",
       "2         0.0  \n",
       "3         0.0  \n",
       "4         0.0  \n",
       "\n",
       "[5 rows x 23 columns]"
      ]
     },
     "execution_count": 8,
     "metadata": {},
     "output_type": "execute_result"
    }
   ],
   "source": [
    "processed.shape\n",
    "processed.head()"
   ]
  },
  {
   "cell_type": "markdown",
   "metadata": {},
   "source": [
    "### Data display"
   ]
  },
  {
   "cell_type": "code",
   "execution_count": 9,
   "metadata": {
    "id": "Kixon2tR3RLT"
   },
   "outputs": [],
   "source": [
    "list_ticker = processed[\"tic\"].unique().tolist()\n",
    "list_date = list(pd.date_range(processed['date'].min(),processed['date'].max()).astype(str))\n",
    "combination = list(itertools.product(list_date,list_ticker))\n",
    "\n",
    "processed_full = pd.DataFrame(combination,columns=[\"date\",\"tic\"]).merge(processed,on=[\"date\",\"tic\"],how=\"left\")\n",
    "processed_full = processed_full[processed_full['date'].isin(processed['date'])]\n",
    "processed_full = processed_full.sort_values(['date','tic'])\n",
    "processed_full = processed_full.fillna(0)"
   ]
  },
  {
   "cell_type": "code",
   "execution_count": 10,
   "metadata": {
    "colab": {
     "base_uri": "https://localhost:8080/",
     "height": 549
    },
    "id": "grvhGJJII3Xn",
    "outputId": "0523691f-99d7-4f11-d72f-cf20622f5f28"
   },
   "outputs": [
    {
     "data": {
      "text/html": [
       "<div>\n",
       "<style scoped>\n",
       "    .dataframe tbody tr th:only-of-type {\n",
       "        vertical-align: middle;\n",
       "    }\n",
       "\n",
       "    .dataframe tbody tr th {\n",
       "        vertical-align: top;\n",
       "    }\n",
       "\n",
       "    .dataframe thead th {\n",
       "        text-align: right;\n",
       "    }\n",
       "</style>\n",
       "<table border=\"1\" class=\"dataframe\">\n",
       "  <thead>\n",
       "    <tr style=\"text-align: right;\">\n",
       "      <th></th>\n",
       "      <th>date</th>\n",
       "      <th>tic</th>\n",
       "      <th>open</th>\n",
       "      <th>high</th>\n",
       "      <th>low</th>\n",
       "      <th>close</th>\n",
       "      <th>volume</th>\n",
       "      <th>day</th>\n",
       "      <th>macd</th>\n",
       "      <th>boll_ub</th>\n",
       "      <th>...</th>\n",
       "      <th>cci_10</th>\n",
       "      <th>cci_20</th>\n",
       "      <th>dx_30</th>\n",
       "      <th>close_20_sma</th>\n",
       "      <th>close_60_sma</th>\n",
       "      <th>close_120_sma</th>\n",
       "      <th>close_20_ema</th>\n",
       "      <th>close_60_ema</th>\n",
       "      <th>close_120_ema</th>\n",
       "      <th>turbulence</th>\n",
       "    </tr>\n",
       "  </thead>\n",
       "  <tbody>\n",
       "    <tr>\n",
       "      <th>0</th>\n",
       "      <td>2000-01-03</td>\n",
       "      <td>AAPL</td>\n",
       "      <td>0.936384</td>\n",
       "      <td>1.004464</td>\n",
       "      <td>0.907924</td>\n",
       "      <td>0.859423</td>\n",
       "      <td>535796800.0</td>\n",
       "      <td>0.0</td>\n",
       "      <td>0.0</td>\n",
       "      <td>0.925665</td>\n",
       "      <td>...</td>\n",
       "      <td>-66.666667</td>\n",
       "      <td>-66.666667</td>\n",
       "      <td>100.0</td>\n",
       "      <td>0.859423</td>\n",
       "      <td>0.859423</td>\n",
       "      <td>0.859423</td>\n",
       "      <td>0.859423</td>\n",
       "      <td>0.859423</td>\n",
       "      <td>0.859423</td>\n",
       "      <td>0.0</td>\n",
       "    </tr>\n",
       "    <tr>\n",
       "      <th>1</th>\n",
       "      <td>2000-01-03</td>\n",
       "      <td>ADBE</td>\n",
       "      <td>16.812500</td>\n",
       "      <td>16.875000</td>\n",
       "      <td>16.062500</td>\n",
       "      <td>16.274673</td>\n",
       "      <td>7384400.0</td>\n",
       "      <td>0.0</td>\n",
       "      <td>0.0</td>\n",
       "      <td>0.925665</td>\n",
       "      <td>...</td>\n",
       "      <td>-66.666667</td>\n",
       "      <td>-66.666667</td>\n",
       "      <td>100.0</td>\n",
       "      <td>16.274673</td>\n",
       "      <td>16.274673</td>\n",
       "      <td>16.274673</td>\n",
       "      <td>16.274673</td>\n",
       "      <td>16.274673</td>\n",
       "      <td>16.274673</td>\n",
       "      <td>0.0</td>\n",
       "    </tr>\n",
       "    <tr>\n",
       "      <th>2</th>\n",
       "      <td>2000-01-03</td>\n",
       "      <td>AMZN</td>\n",
       "      <td>81.500000</td>\n",
       "      <td>89.562500</td>\n",
       "      <td>79.046875</td>\n",
       "      <td>89.375000</td>\n",
       "      <td>16117600.0</td>\n",
       "      <td>0.0</td>\n",
       "      <td>0.0</td>\n",
       "      <td>0.925665</td>\n",
       "      <td>...</td>\n",
       "      <td>-66.666667</td>\n",
       "      <td>-66.666667</td>\n",
       "      <td>100.0</td>\n",
       "      <td>89.375000</td>\n",
       "      <td>89.375000</td>\n",
       "      <td>89.375000</td>\n",
       "      <td>89.375000</td>\n",
       "      <td>89.375000</td>\n",
       "      <td>89.375000</td>\n",
       "      <td>0.0</td>\n",
       "    </tr>\n",
       "    <tr>\n",
       "      <th>3</th>\n",
       "      <td>2000-01-03</td>\n",
       "      <td>BAC</td>\n",
       "      <td>25.125000</td>\n",
       "      <td>25.125000</td>\n",
       "      <td>24.000000</td>\n",
       "      <td>13.952057</td>\n",
       "      <td>13705800.0</td>\n",
       "      <td>0.0</td>\n",
       "      <td>0.0</td>\n",
       "      <td>0.925665</td>\n",
       "      <td>...</td>\n",
       "      <td>-66.666667</td>\n",
       "      <td>-66.666667</td>\n",
       "      <td>100.0</td>\n",
       "      <td>13.952057</td>\n",
       "      <td>13.952057</td>\n",
       "      <td>13.952057</td>\n",
       "      <td>13.952057</td>\n",
       "      <td>13.952057</td>\n",
       "      <td>13.952057</td>\n",
       "      <td>0.0</td>\n",
       "    </tr>\n",
       "    <tr>\n",
       "      <th>4</th>\n",
       "      <td>2000-01-03</td>\n",
       "      <td>BRK-B</td>\n",
       "      <td>36.500000</td>\n",
       "      <td>36.580002</td>\n",
       "      <td>34.820000</td>\n",
       "      <td>35.299999</td>\n",
       "      <td>875000.0</td>\n",
       "      <td>0.0</td>\n",
       "      <td>0.0</td>\n",
       "      <td>0.925665</td>\n",
       "      <td>...</td>\n",
       "      <td>-66.666667</td>\n",
       "      <td>-66.666667</td>\n",
       "      <td>100.0</td>\n",
       "      <td>35.299999</td>\n",
       "      <td>35.299999</td>\n",
       "      <td>35.299999</td>\n",
       "      <td>35.299999</td>\n",
       "      <td>35.299999</td>\n",
       "      <td>35.299999</td>\n",
       "      <td>0.0</td>\n",
       "    </tr>\n",
       "    <tr>\n",
       "      <th>5</th>\n",
       "      <td>2000-01-03</td>\n",
       "      <td>CMCSA</td>\n",
       "      <td>16.145832</td>\n",
       "      <td>16.333332</td>\n",
       "      <td>15.062500</td>\n",
       "      <td>12.189544</td>\n",
       "      <td>2333700.0</td>\n",
       "      <td>0.0</td>\n",
       "      <td>0.0</td>\n",
       "      <td>0.925665</td>\n",
       "      <td>...</td>\n",
       "      <td>-66.666667</td>\n",
       "      <td>-66.666667</td>\n",
       "      <td>100.0</td>\n",
       "      <td>12.189544</td>\n",
       "      <td>12.189544</td>\n",
       "      <td>12.189544</td>\n",
       "      <td>12.189544</td>\n",
       "      <td>12.189544</td>\n",
       "      <td>12.189544</td>\n",
       "      <td>0.0</td>\n",
       "    </tr>\n",
       "    <tr>\n",
       "      <th>6</th>\n",
       "      <td>2000-01-03</td>\n",
       "      <td>CSCO</td>\n",
       "      <td>54.968750</td>\n",
       "      <td>55.125000</td>\n",
       "      <td>51.781250</td>\n",
       "      <td>40.118656</td>\n",
       "      <td>53076000.0</td>\n",
       "      <td>0.0</td>\n",
       "      <td>0.0</td>\n",
       "      <td>0.925665</td>\n",
       "      <td>...</td>\n",
       "      <td>-66.666667</td>\n",
       "      <td>-66.666667</td>\n",
       "      <td>100.0</td>\n",
       "      <td>40.118656</td>\n",
       "      <td>40.118656</td>\n",
       "      <td>40.118656</td>\n",
       "      <td>40.118656</td>\n",
       "      <td>40.118656</td>\n",
       "      <td>40.118656</td>\n",
       "      <td>0.0</td>\n",
       "    </tr>\n",
       "    <tr>\n",
       "      <th>7</th>\n",
       "      <td>2000-01-03</td>\n",
       "      <td>DIS</td>\n",
       "      <td>28.855125</td>\n",
       "      <td>29.533344</td>\n",
       "      <td>28.361876</td>\n",
       "      <td>23.115248</td>\n",
       "      <td>8402230.0</td>\n",
       "      <td>0.0</td>\n",
       "      <td>0.0</td>\n",
       "      <td>0.925665</td>\n",
       "      <td>...</td>\n",
       "      <td>-66.666667</td>\n",
       "      <td>-66.666667</td>\n",
       "      <td>100.0</td>\n",
       "      <td>23.115248</td>\n",
       "      <td>23.115248</td>\n",
       "      <td>23.115248</td>\n",
       "      <td>23.115248</td>\n",
       "      <td>23.115248</td>\n",
       "      <td>23.115248</td>\n",
       "      <td>0.0</td>\n",
       "    </tr>\n",
       "    <tr>\n",
       "      <th>8</th>\n",
       "      <td>2000-01-03</td>\n",
       "      <td>HD</td>\n",
       "      <td>68.625000</td>\n",
       "      <td>69.187500</td>\n",
       "      <td>63.812500</td>\n",
       "      <td>42.563168</td>\n",
       "      <td>12030800.0</td>\n",
       "      <td>0.0</td>\n",
       "      <td>0.0</td>\n",
       "      <td>0.925665</td>\n",
       "      <td>...</td>\n",
       "      <td>-66.666667</td>\n",
       "      <td>-66.666667</td>\n",
       "      <td>100.0</td>\n",
       "      <td>42.563168</td>\n",
       "      <td>42.563168</td>\n",
       "      <td>42.563168</td>\n",
       "      <td>42.563168</td>\n",
       "      <td>42.563168</td>\n",
       "      <td>42.563168</td>\n",
       "      <td>0.0</td>\n",
       "    </tr>\n",
       "    <tr>\n",
       "      <th>9</th>\n",
       "      <td>2000-01-03</td>\n",
       "      <td>INTC</td>\n",
       "      <td>41.632812</td>\n",
       "      <td>43.687500</td>\n",
       "      <td>41.625000</td>\n",
       "      <td>27.002798</td>\n",
       "      <td>57710200.0</td>\n",
       "      <td>0.0</td>\n",
       "      <td>0.0</td>\n",
       "      <td>0.925665</td>\n",
       "      <td>...</td>\n",
       "      <td>-66.666667</td>\n",
       "      <td>-66.666667</td>\n",
       "      <td>100.0</td>\n",
       "      <td>27.002798</td>\n",
       "      <td>27.002798</td>\n",
       "      <td>27.002798</td>\n",
       "      <td>27.002798</td>\n",
       "      <td>27.002798</td>\n",
       "      <td>27.002798</td>\n",
       "      <td>0.0</td>\n",
       "    </tr>\n",
       "  </tbody>\n",
       "</table>\n",
       "<p>10 rows × 23 columns</p>\n",
       "</div>"
      ],
      "text/plain": [
       "         date    tic       open       high        low      close       volume  \\\n",
       "0  2000-01-03   AAPL   0.936384   1.004464   0.907924   0.859423  535796800.0   \n",
       "1  2000-01-03   ADBE  16.812500  16.875000  16.062500  16.274673    7384400.0   \n",
       "2  2000-01-03   AMZN  81.500000  89.562500  79.046875  89.375000   16117600.0   \n",
       "3  2000-01-03    BAC  25.125000  25.125000  24.000000  13.952057   13705800.0   \n",
       "4  2000-01-03  BRK-B  36.500000  36.580002  34.820000  35.299999     875000.0   \n",
       "5  2000-01-03  CMCSA  16.145832  16.333332  15.062500  12.189544    2333700.0   \n",
       "6  2000-01-03   CSCO  54.968750  55.125000  51.781250  40.118656   53076000.0   \n",
       "7  2000-01-03    DIS  28.855125  29.533344  28.361876  23.115248    8402230.0   \n",
       "8  2000-01-03     HD  68.625000  69.187500  63.812500  42.563168   12030800.0   \n",
       "9  2000-01-03   INTC  41.632812  43.687500  41.625000  27.002798   57710200.0   \n",
       "\n",
       "   day  macd   boll_ub  ...     cci_10     cci_20  dx_30  close_20_sma  \\\n",
       "0  0.0   0.0  0.925665  ... -66.666667 -66.666667  100.0      0.859423   \n",
       "1  0.0   0.0  0.925665  ... -66.666667 -66.666667  100.0     16.274673   \n",
       "2  0.0   0.0  0.925665  ... -66.666667 -66.666667  100.0     89.375000   \n",
       "3  0.0   0.0  0.925665  ... -66.666667 -66.666667  100.0     13.952057   \n",
       "4  0.0   0.0  0.925665  ... -66.666667 -66.666667  100.0     35.299999   \n",
       "5  0.0   0.0  0.925665  ... -66.666667 -66.666667  100.0     12.189544   \n",
       "6  0.0   0.0  0.925665  ... -66.666667 -66.666667  100.0     40.118656   \n",
       "7  0.0   0.0  0.925665  ... -66.666667 -66.666667  100.0     23.115248   \n",
       "8  0.0   0.0  0.925665  ... -66.666667 -66.666667  100.0     42.563168   \n",
       "9  0.0   0.0  0.925665  ... -66.666667 -66.666667  100.0     27.002798   \n",
       "\n",
       "   close_60_sma  close_120_sma  close_20_ema  close_60_ema  close_120_ema  \\\n",
       "0      0.859423       0.859423      0.859423      0.859423       0.859423   \n",
       "1     16.274673      16.274673     16.274673     16.274673      16.274673   \n",
       "2     89.375000      89.375000     89.375000     89.375000      89.375000   \n",
       "3     13.952057      13.952057     13.952057     13.952057      13.952057   \n",
       "4     35.299999      35.299999     35.299999     35.299999      35.299999   \n",
       "5     12.189544      12.189544     12.189544     12.189544      12.189544   \n",
       "6     40.118656      40.118656     40.118656     40.118656      40.118656   \n",
       "7     23.115248      23.115248     23.115248     23.115248      23.115248   \n",
       "8     42.563168      42.563168     42.563168     42.563168      42.563168   \n",
       "9     27.002798      27.002798     27.002798     27.002798      27.002798   \n",
       "\n",
       "   turbulence  \n",
       "0         0.0  \n",
       "1         0.0  \n",
       "2         0.0  \n",
       "3         0.0  \n",
       "4         0.0  \n",
       "5         0.0  \n",
       "6         0.0  \n",
       "7         0.0  \n",
       "8         0.0  \n",
       "9         0.0  \n",
       "\n",
       "[10 rows x 23 columns]"
      ]
     },
     "execution_count": 10,
     "metadata": {},
     "output_type": "execute_result"
    }
   ],
   "source": [
    "processed_full.sort_values(['date','tic'],ignore_index=True).head(10)"
   ]
  },
  {
   "cell_type": "markdown",
   "metadata": {},
   "source": [
    "### Data Split"
   ]
  },
  {
   "cell_type": "code",
   "execution_count": 11,
   "metadata": {},
   "outputs": [
    {
     "name": "stdout",
     "output_type": "stream",
     "text": [
      "(95580, 23)\n",
      "(10100, 23)\n"
     ]
    }
   ],
   "source": [
    "train = data_split(processed_full, start_date, split_date)\n",
    "evaluate = data_split(processed_full, split_date, end_date)\n",
    "print(train.shape)\n",
    "print(evaluate.shape)"
   ]
  },
  {
   "cell_type": "markdown",
   "metadata": {
    "id": "-QsYaY0Dh1iw"
   },
   "source": [
    "## RL Environment\n",
    "Considering the stochastic and interactive nature of the automated stock trading tasks, a financial task is modeled as a **Markov Decision Process (MDP)** problem. The training process involves observing stock price change, taking an action and reward's calculation to have the agent adjusting its strategy accordingly. By interacting with the environment, the trading agent will derive a trading strategy with the maximized rewards as time proceeds.\n",
    "\n",
    "Our trading environments, based on OpenAI Gym framework, simulate live stock markets with real market data according to the principle of time-driven simulation.\n",
    "\n",
    "The action space describes the allowed actions that the agent interacts with the environment. Normally, action a includes three actions: {-1, 0, 1}, where -1, 0, 1 represent selling, holding, and buying one share. Also, an action can be carried upon multiple shares. We use an action space {-k,…,-1, 0, 1, …, k}, where k denotes the number of shares to buy and -k denotes the number of shares to sell. For example, \"Buy 10 shares of AAPL\" or \"Sell 10 shares of AAPL\" are 10 or -10, respectively. The continuous action space needs to be normalized to [-1, 1], since the policy is defined on a Gaussian distribution, which needs to be normalized and symmetric."
   ]
  },
  {
   "cell_type": "code",
   "execution_count": 12,
   "metadata": {
    "colab": {
     "base_uri": "https://localhost:8080/",
     "height": 309
    },
    "id": "p52zNCOhTtLR",
    "outputId": "ef026856-f15e-49e3-d3d9-b45eaed9f3bb"
   },
   "outputs": [
    {
     "name": "stdout",
     "output_type": "stream",
     "text": [
      "         date    tic       open       high        low      close       volume  \\\n",
      "0  2000-01-03   AAPL   0.936384   1.004464   0.907924   0.859423  535796800.0   \n",
      "0  2000-01-03   ADBE  16.812500  16.875000  16.062500  16.274673    7384400.0   \n",
      "0  2000-01-03   AMZN  81.500000  89.562500  79.046875  89.375000   16117600.0   \n",
      "0  2000-01-03    BAC  25.125000  25.125000  24.000000  13.952057   13705800.0   \n",
      "0  2000-01-03  BRK-B  36.500000  36.580002  34.820000  35.299999     875000.0   \n",
      "0  2000-01-03  CMCSA  16.145832  16.333332  15.062500  12.189544    2333700.0   \n",
      "0  2000-01-03   CSCO  54.968750  55.125000  51.781250  40.118656   53076000.0   \n",
      "0  2000-01-03    DIS  28.855125  29.533344  28.361876  23.115248    8402230.0   \n",
      "0  2000-01-03     HD  68.625000  69.187500  63.812500  42.563168   12030800.0   \n",
      "0  2000-01-03   INTC  41.632812  43.687500  41.625000  27.002798   57710200.0   \n",
      "0  2000-01-03    JNJ  46.562500  46.875000  45.781250  26.644770    4642400.0   \n",
      "0  2000-01-03    JPM  49.833332  50.250000  48.083332  25.863813   12019200.0   \n",
      "0  2000-01-03   MSFT  58.687500  59.312500  56.000000  36.932102   53228400.0   \n",
      "0  2000-01-03   NVDA   3.937500   3.968750   3.677083   3.585430    7522800.0   \n",
      "0  2000-01-03    PFE  30.419828  30.716318  30.004744  14.565584   12873345.0   \n",
      "0  2000-01-03     PG  53.906250  53.968750  52.843750  30.248369    4275000.0   \n",
      "0  2000-01-03      T  48.562500  49.000000  46.625000  15.941188    5791900.0   \n",
      "0  2000-01-03    UNH   6.640625   6.757813   6.617188   5.632354    3431200.0   \n",
      "0  2000-01-03     VZ  54.521442  55.420765  53.622120  20.573511    4663843.0   \n",
      "0  2000-01-03    XOM  39.750000  40.375000  38.937500  20.461939   13458200.0   \n",
      "\n",
      "   day  macd   boll_ub  ...     cci_10     cci_20  dx_30  close_20_sma  \\\n",
      "0  0.0   0.0  0.925665  ... -66.666667 -66.666667  100.0      0.859423   \n",
      "0  0.0   0.0  0.925665  ... -66.666667 -66.666667  100.0     16.274673   \n",
      "0  0.0   0.0  0.925665  ... -66.666667 -66.666667  100.0     89.375000   \n",
      "0  0.0   0.0  0.925665  ... -66.666667 -66.666667  100.0     13.952057   \n",
      "0  0.0   0.0  0.925665  ... -66.666667 -66.666667  100.0     35.299999   \n",
      "0  0.0   0.0  0.925665  ... -66.666667 -66.666667  100.0     12.189544   \n",
      "0  0.0   0.0  0.925665  ... -66.666667 -66.666667  100.0     40.118656   \n",
      "0  0.0   0.0  0.925665  ... -66.666667 -66.666667  100.0     23.115248   \n",
      "0  0.0   0.0  0.925665  ... -66.666667 -66.666667  100.0     42.563168   \n",
      "0  0.0   0.0  0.925665  ... -66.666667 -66.666667  100.0     27.002798   \n",
      "0  0.0   0.0  0.925665  ... -66.666667 -66.666667  100.0     26.644770   \n",
      "0  0.0   0.0  0.925665  ... -66.666667 -66.666667  100.0     25.863813   \n",
      "0  0.0   0.0  0.925665  ... -66.666667 -66.666667  100.0     36.932102   \n",
      "0  0.0   0.0  0.925665  ... -66.666667 -66.666667  100.0      3.585430   \n",
      "0  0.0   0.0  0.925665  ... -66.666667 -66.666667  100.0     14.565584   \n",
      "0  0.0   0.0  0.925665  ... -66.666667 -66.666667  100.0     30.248369   \n",
      "0  0.0   0.0  0.925665  ... -66.666667 -66.666667  100.0     15.941188   \n",
      "0  0.0   0.0  0.925665  ... -66.666667 -66.666667  100.0      5.632354   \n",
      "0  0.0   0.0  0.925665  ... -66.666667 -66.666667  100.0     20.573511   \n",
      "0  0.0   0.0  0.925665  ... -66.666667 -66.666667  100.0     20.461939   \n",
      "\n",
      "   close_60_sma  close_120_sma  close_20_ema  close_60_ema  close_120_ema  \\\n",
      "0      0.859423       0.859423      0.859423      0.859423       0.859423   \n",
      "0     16.274673      16.274673     16.274673     16.274673      16.274673   \n",
      "0     89.375000      89.375000     89.375000     89.375000      89.375000   \n",
      "0     13.952057      13.952057     13.952057     13.952057      13.952057   \n",
      "0     35.299999      35.299999     35.299999     35.299999      35.299999   \n",
      "0     12.189544      12.189544     12.189544     12.189544      12.189544   \n",
      "0     40.118656      40.118656     40.118656     40.118656      40.118656   \n",
      "0     23.115248      23.115248     23.115248     23.115248      23.115248   \n",
      "0     42.563168      42.563168     42.563168     42.563168      42.563168   \n",
      "0     27.002798      27.002798     27.002798     27.002798      27.002798   \n",
      "0     26.644770      26.644770     26.644770     26.644770      26.644770   \n",
      "0     25.863813      25.863813     25.863813     25.863813      25.863813   \n",
      "0     36.932102      36.932102     36.932102     36.932102      36.932102   \n",
      "0      3.585430       3.585430      3.585430      3.585430       3.585430   \n",
      "0     14.565584      14.565584     14.565584     14.565584      14.565584   \n",
      "0     30.248369      30.248369     30.248369     30.248369      30.248369   \n",
      "0     15.941188      15.941188     15.941188     15.941188      15.941188   \n",
      "0      5.632354       5.632354      5.632354      5.632354       5.632354   \n",
      "0     20.573511      20.573511     20.573511     20.573511      20.573511   \n",
      "0     20.461939      20.461939     20.461939     20.461939      20.461939   \n",
      "\n",
      "   turbulence  \n",
      "0         0.0  \n",
      "0         0.0  \n",
      "0         0.0  \n",
      "0         0.0  \n",
      "0         0.0  \n",
      "0         0.0  \n",
      "0         0.0  \n",
      "0         0.0  \n",
      "0         0.0  \n",
      "0         0.0  \n",
      "0         0.0  \n",
      "0         0.0  \n",
      "0         0.0  \n",
      "0         0.0  \n",
      "0         0.0  \n",
      "0         0.0  \n",
      "0         0.0  \n",
      "0         0.0  \n",
      "0         0.0  \n",
      "0         0.0  \n",
      "\n",
      "[20 rows x 23 columns]\n"
     ]
    }
   ],
   "source": [
    "initialData = train.loc[0,:]\n",
    "print(initialData)"
   ]
  },
  {
   "cell_type": "code",
   "execution_count": 13,
   "metadata": {
    "colab": {
     "base_uri": "https://localhost:8080/",
     "height": 309
    },
    "id": "k9zU9YaTTvFq",
    "outputId": "a449c5b4-b244-44b8-b756-10c82fe9546b"
   },
   "outputs": [
    {
     "data": {
      "text/html": [
       "<div>\n",
       "<style scoped>\n",
       "    .dataframe tbody tr th:only-of-type {\n",
       "        vertical-align: middle;\n",
       "    }\n",
       "\n",
       "    .dataframe tbody tr th {\n",
       "        vertical-align: top;\n",
       "    }\n",
       "\n",
       "    .dataframe thead th {\n",
       "        text-align: right;\n",
       "    }\n",
       "</style>\n",
       "<table border=\"1\" class=\"dataframe\">\n",
       "  <thead>\n",
       "    <tr style=\"text-align: right;\">\n",
       "      <th></th>\n",
       "      <th>date</th>\n",
       "      <th>tic</th>\n",
       "      <th>open</th>\n",
       "      <th>high</th>\n",
       "      <th>low</th>\n",
       "      <th>close</th>\n",
       "      <th>volume</th>\n",
       "      <th>day</th>\n",
       "      <th>macd</th>\n",
       "      <th>boll_ub</th>\n",
       "      <th>...</th>\n",
       "      <th>cci_10</th>\n",
       "      <th>cci_20</th>\n",
       "      <th>dx_30</th>\n",
       "      <th>close_20_sma</th>\n",
       "      <th>close_60_sma</th>\n",
       "      <th>close_120_sma</th>\n",
       "      <th>close_20_ema</th>\n",
       "      <th>close_60_ema</th>\n",
       "      <th>close_120_ema</th>\n",
       "      <th>turbulence</th>\n",
       "    </tr>\n",
       "  </thead>\n",
       "  <tbody>\n",
       "    <tr>\n",
       "      <th>0</th>\n",
       "      <td>2019-01-02</td>\n",
       "      <td>AAPL</td>\n",
       "      <td>38.722500</td>\n",
       "      <td>39.712502</td>\n",
       "      <td>38.557499</td>\n",
       "      <td>38.439735</td>\n",
       "      <td>148158800.0</td>\n",
       "      <td>2.0</td>\n",
       "      <td>-2.013469</td>\n",
       "      <td>44.430054</td>\n",
       "      <td>...</td>\n",
       "      <td>5.338357</td>\n",
       "      <td>-62.506106</td>\n",
       "      <td>42.250808</td>\n",
       "      <td>39.907269</td>\n",
       "      <td>46.409359</td>\n",
       "      <td>48.900092</td>\n",
       "      <td>39.894455</td>\n",
       "      <td>44.458658</td>\n",
       "      <td>46.304234</td>\n",
       "      <td>40.714603</td>\n",
       "    </tr>\n",
       "    <tr>\n",
       "      <th>0</th>\n",
       "      <td>2019-01-02</td>\n",
       "      <td>ADBE</td>\n",
       "      <td>219.910004</td>\n",
       "      <td>226.169998</td>\n",
       "      <td>219.000000</td>\n",
       "      <td>224.570007</td>\n",
       "      <td>2784100.0</td>\n",
       "      <td>2.0</td>\n",
       "      <td>-5.282335</td>\n",
       "      <td>259.815658</td>\n",
       "      <td>...</td>\n",
       "      <td>42.283562</td>\n",
       "      <td>-46.078026</td>\n",
       "      <td>18.279805</td>\n",
       "      <td>231.481001</td>\n",
       "      <td>239.189334</td>\n",
       "      <td>249.605750</td>\n",
       "      <td>228.071064</td>\n",
       "      <td>238.013177</td>\n",
       "      <td>241.061149</td>\n",
       "      <td>40.714603</td>\n",
       "    </tr>\n",
       "    <tr>\n",
       "      <th>0</th>\n",
       "      <td>2019-01-02</td>\n",
       "      <td>AMZN</td>\n",
       "      <td>1465.199951</td>\n",
       "      <td>1553.359985</td>\n",
       "      <td>1460.930054</td>\n",
       "      <td>1539.130005</td>\n",
       "      <td>7983100.0</td>\n",
       "      <td>2.0</td>\n",
       "      <td>-46.142964</td>\n",
       "      <td>1783.043118</td>\n",
       "      <td>...</td>\n",
       "      <td>71.986956</td>\n",
       "      <td>-29.701621</td>\n",
       "      <td>16.053433</td>\n",
       "      <td>1558.427496</td>\n",
       "      <td>1640.886670</td>\n",
       "      <td>1772.662920</td>\n",
       "      <td>1531.028514</td>\n",
       "      <td>1632.326567</td>\n",
       "      <td>1675.234803</td>\n",
       "      <td>40.714603</td>\n",
       "    </tr>\n",
       "    <tr>\n",
       "      <th>0</th>\n",
       "      <td>2019-01-02</td>\n",
       "      <td>BAC</td>\n",
       "      <td>24.080000</td>\n",
       "      <td>25.139999</td>\n",
       "      <td>24.010000</td>\n",
       "      <td>23.649902</td>\n",
       "      <td>71836300.0</td>\n",
       "      <td>2.0</td>\n",
       "      <td>-0.669456</td>\n",
       "      <td>25.783587</td>\n",
       "      <td>...</td>\n",
       "      <td>82.345511</td>\n",
       "      <td>-11.196459</td>\n",
       "      <td>18.930726</td>\n",
       "      <td>23.473258</td>\n",
       "      <td>25.393073</td>\n",
       "      <td>27.097682</td>\n",
       "      <td>23.590685</td>\n",
       "      <td>25.158157</td>\n",
       "      <td>26.235524</td>\n",
       "      <td>40.714603</td>\n",
       "    </tr>\n",
       "    <tr>\n",
       "      <th>0</th>\n",
       "      <td>2019-01-02</td>\n",
       "      <td>BRK-B</td>\n",
       "      <td>201.729996</td>\n",
       "      <td>204.399994</td>\n",
       "      <td>201.149994</td>\n",
       "      <td>202.800003</td>\n",
       "      <td>4802100.0</td>\n",
       "      <td>2.0</td>\n",
       "      <td>-2.760708</td>\n",
       "      <td>215.345783</td>\n",
       "      <td>...</td>\n",
       "      <td>106.526697</td>\n",
       "      <td>18.020183</td>\n",
       "      <td>2.953389</td>\n",
       "      <td>201.200500</td>\n",
       "      <td>208.270668</td>\n",
       "      <td>208.078834</td>\n",
       "      <td>201.656593</td>\n",
       "      <td>206.289644</td>\n",
       "      <td>206.078162</td>\n",
       "      <td>40.714603</td>\n",
       "    </tr>\n",
       "  </tbody>\n",
       "</table>\n",
       "<p>5 rows × 23 columns</p>\n",
       "</div>"
      ],
      "text/plain": [
       "         date    tic         open         high          low        close  \\\n",
       "0  2019-01-02   AAPL    38.722500    39.712502    38.557499    38.439735   \n",
       "0  2019-01-02   ADBE   219.910004   226.169998   219.000000   224.570007   \n",
       "0  2019-01-02   AMZN  1465.199951  1553.359985  1460.930054  1539.130005   \n",
       "0  2019-01-02    BAC    24.080000    25.139999    24.010000    23.649902   \n",
       "0  2019-01-02  BRK-B   201.729996   204.399994   201.149994   202.800003   \n",
       "\n",
       "        volume  day       macd      boll_ub  ...      cci_10     cci_20  \\\n",
       "0  148158800.0  2.0  -2.013469    44.430054  ...    5.338357 -62.506106   \n",
       "0    2784100.0  2.0  -5.282335   259.815658  ...   42.283562 -46.078026   \n",
       "0    7983100.0  2.0 -46.142964  1783.043118  ...   71.986956 -29.701621   \n",
       "0   71836300.0  2.0  -0.669456    25.783587  ...   82.345511 -11.196459   \n",
       "0    4802100.0  2.0  -2.760708   215.345783  ...  106.526697  18.020183   \n",
       "\n",
       "       dx_30  close_20_sma  close_60_sma  close_120_sma  close_20_ema  \\\n",
       "0  42.250808     39.907269     46.409359      48.900092     39.894455   \n",
       "0  18.279805    231.481001    239.189334     249.605750    228.071064   \n",
       "0  16.053433   1558.427496   1640.886670    1772.662920   1531.028514   \n",
       "0  18.930726     23.473258     25.393073      27.097682     23.590685   \n",
       "0   2.953389    201.200500    208.270668     208.078834    201.656593   \n",
       "\n",
       "   close_60_ema  close_120_ema  turbulence  \n",
       "0     44.458658      46.304234   40.714603  \n",
       "0    238.013177     241.061149   40.714603  \n",
       "0   1632.326567    1675.234803   40.714603  \n",
       "0     25.158157      26.235524   40.714603  \n",
       "0    206.289644     206.078162   40.714603  \n",
       "\n",
       "[5 rows x 23 columns]"
      ]
     },
     "execution_count": 13,
     "metadata": {},
     "output_type": "execute_result"
    }
   ],
   "source": [
    "evaluate.head()"
   ]
  },
  {
   "cell_type": "code",
   "execution_count": 14,
   "metadata": {
    "colab": {
     "base_uri": "https://localhost:8080/"
    },
    "id": "Q2zqII8rMIqn",
    "outputId": "de67ad03-fec4-4d1b-fcc5-2873406dde70"
   },
   "outputs": [
    {
     "name": "stdout",
     "output_type": "stream",
     "text": [
      "Stock Dimension: 20, State Space: 321\n"
     ]
    }
   ],
   "source": [
    "stock_dimension = len(train.tic.unique())\n",
    "state_space = 1 + 2*stock_dimension + len(tech_indicator_list)*stock_dimension\n",
    "print(f\"Stock Dimension: {stock_dimension}, State Space: {state_space}\")"
   ]
  },
  {
   "cell_type": "code",
   "execution_count": 15,
   "metadata": {
    "id": "AWyp84Ltto19"
   },
   "outputs": [
    {
     "name": "stdout",
     "output_type": "stream",
     "text": [
      "[1000000, 0.859423041343689, 16.274673461914062, 89.375, 13.952056884765625, 35.29999923706055, 12.189543724060059, 40.118656158447266, 23.11524772644043, 42.563167572021484, 27.002798080444336, 26.6447696685791, 25.863813400268555, 36.93210220336914, 3.585430383682251, 14.565584182739258, 30.248369216918945, 15.941187858581543, 5.632353782653809, 20.573511123657227, 20.461938858032227, 0, 0, 0, 0, 0, 0, 0, 0, 0, 0, 0, 0, 0, 0, 0, 0, 0, 0, 0, 0, 0.0, 0.0, 0.0, 0.0, 0.0, 0.0, 0.0, 0.0, 0.0, 0.0, 0.0, 0.0, 0.0, 0.0, 0.0, 0.0, 0.0, 0.0, 0.0, 0.0, 0.925665153969376, 0.925665153969376, 0.925665153969376, 0.925665153969376, 0.925665153969376, 0.925665153969376, 0.925665153969376, 0.925665153969376, 0.925665153969376, 0.925665153969376, 0.925665153969376, 0.925665153969376, 0.925665153969376, 0.925665153969376, 0.925665153969376, 0.925665153969376, 0.925665153969376, 0.925665153969376, 0.925665153969376, 0.925665153969376, 0.720722899924667, 0.720722899924667, 0.720722899924667, 0.720722899924667, 0.720722899924667, 0.720722899924667, 0.720722899924667, 0.720722899924667, 0.720722899924667, 0.720722899924667, 0.720722899924667, 0.720722899924667, 0.720722899924667, 0.720722899924667, 0.720722899924667, 0.720722899924667, 0.720722899924667, 0.720722899924667, 0.720722899924667, 0.720722899924667, 0.0, 0.0, 0.0, 0.0, 0.0, 0.0, 0.0, 0.0, 0.0, 0.0, 0.0, 0.0, 0.0, 0.0, 0.0, 0.0, 0.0, 0.0, 0.0, 0.0, 0.0, 0.0, 0.0, 0.0, 0.0, 0.0, 0.0, 0.0, 0.0, 0.0, 0.0, 0.0, 0.0, 0.0, 0.0, 0.0, 0.0, 0.0, 0.0, 0.0, -66.6666666666669, -66.6666666666669, -66.6666666666669, -66.6666666666669, -66.6666666666669, -66.6666666666669, -66.6666666666669, -66.6666666666669, -66.6666666666669, -66.6666666666669, -66.6666666666669, -66.6666666666669, -66.6666666666669, -66.6666666666669, -66.6666666666669, -66.6666666666669, -66.6666666666669, -66.6666666666669, -66.6666666666669, -66.6666666666669, -66.6666666666669, -66.6666666666669, -66.6666666666669, -66.6666666666669, -66.6666666666669, -66.6666666666669, -66.6666666666669, -66.6666666666669, -66.6666666666669, -66.6666666666669, -66.6666666666669, -66.6666666666669, -66.6666666666669, -66.6666666666669, -66.6666666666669, -66.6666666666669, -66.6666666666669, -66.6666666666669, -66.6666666666669, -66.6666666666669, 100.0, 100.0, 100.0, 100.0, 100.0, 100.0, 100.0, 100.0, 100.0, 100.0, 100.0, 100.0, 100.0, 100.0, 100.0, 100.0, 100.0, 100.0, 100.0, 100.0, 0.859423041343689, 16.274673461914062, 89.375, 13.952056884765625, 35.29999923706055, 12.189543724060059, 40.118656158447266, 23.11524772644043, 42.563167572021484, 27.002798080444336, 26.6447696685791, 25.863813400268555, 36.93210220336914, 3.585430383682251, 14.565584182739258, 30.248369216918945, 15.941187858581543, 5.632353782653809, 20.573511123657227, 20.461938858032227, 0.859423041343689, 16.274673461914062, 89.375, 13.952056884765625, 35.29999923706055, 12.189543724060059, 40.118656158447266, 23.11524772644043, 42.563167572021484, 27.002798080444336, 26.6447696685791, 25.863813400268555, 36.93210220336914, 3.585430383682251, 14.565584182739258, 30.248369216918945, 15.941187858581543, 5.632353782653809, 20.573511123657227, 20.461938858032227, 0.859423041343689, 16.274673461914062, 89.375, 13.952056884765625, 35.29999923706055, 12.189543724060059, 40.118656158447266, 23.11524772644043, 42.563167572021484, 27.002798080444336, 26.6447696685791, 25.863813400268555, 36.93210220336914, 3.585430383682251, 14.565584182739258, 30.248369216918945, 15.941187858581543, 5.632353782653809, 20.573511123657227, 20.461938858032227, 0.859423041343689, 16.274673461914062, 89.375, 13.952056884765625, 35.29999923706055, 12.189543724060059, 40.118656158447266, 23.11524772644043, 42.563167572021484, 27.002798080444336, 26.6447696685791, 25.863813400268555, 36.93210220336914, 3.585430383682251, 14.565584182739258, 30.248369216918945, 15.941187858581543, 5.632353782653809, 20.573511123657227, 20.461938858032227, 0.859423041343689, 16.274673461914062, 89.375, 13.952056884765625, 35.29999923706055, 12.189543724060059, 40.118656158447266, 23.11524772644043, 42.563167572021484, 27.002798080444336, 26.6447696685791, 25.863813400268555, 36.93210220336914, 3.585430383682251, 14.565584182739258, 30.248369216918945, 15.941187858581543, 5.632353782653809, 20.573511123657227, 20.461938858032227, 0.859423041343689, 16.274673461914062, 89.375, 13.952056884765625, 35.29999923706055, 12.189543724060059, 40.118656158447266, 23.11524772644043, 42.563167572021484, 27.002798080444336, 26.6447696685791, 25.863813400268555, 36.93210220336914, 3.585430383682251, 14.565584182739258, 30.248369216918945, 15.941187858581543, 5.632353782653809, 20.573511123657227, 20.461938858032227]\n"
     ]
    }
   ],
   "source": [
    "env_params = {\n",
    "    \"hmax\": 100, \n",
    "    \"initial_amount\": 1000000, \n",
    "    \"buy_cost_pct\": 0.001,\n",
    "    \"sell_cost_pct\": 0.001,\n",
    "    \"state_space\": state_space, \n",
    "    \"stock_dim\": stock_dimension, \n",
    "    \"tech_indicator_list\": tech_indicator_list, \n",
    "    \"action_space\": stock_dimension, \n",
    "    \"reward_scaling\": 1e-6\n",
    "}\n",
    "\n",
    "e_train_gym = StockTradingEnv(df = train, **env_params)"
   ]
  },
  {
   "cell_type": "markdown",
   "metadata": {
    "id": "64EoqOrQjiVf"
   },
   "source": [
    "## Environment for Training\n",
    "\n"
   ]
  },
  {
   "cell_type": "code",
   "execution_count": 16,
   "metadata": {
    "colab": {
     "base_uri": "https://localhost:8080/"
    },
    "id": "xwSvvPjutpqS",
    "outputId": "259bc17b-f03a-498e-87f5-ab3406413096"
   },
   "outputs": [
    {
     "name": "stdout",
     "output_type": "stream",
     "text": [
      "[1000000, 0.859423041343689, 16.274673461914062, 89.375, 13.952056884765625, 35.29999923706055, 12.189543724060059, 40.118656158447266, 23.11524772644043, 42.563167572021484, 27.002798080444336, 26.6447696685791, 25.863813400268555, 36.93210220336914, 3.585430383682251, 14.565584182739258, 30.248369216918945, 15.941187858581543, 5.632353782653809, 20.573511123657227, 20.461938858032227, 0, 0, 0, 0, 0, 0, 0, 0, 0, 0, 0, 0, 0, 0, 0, 0, 0, 0, 0, 0, 0.0, 0.0, 0.0, 0.0, 0.0, 0.0, 0.0, 0.0, 0.0, 0.0, 0.0, 0.0, 0.0, 0.0, 0.0, 0.0, 0.0, 0.0, 0.0, 0.0, 0.925665153969376, 0.925665153969376, 0.925665153969376, 0.925665153969376, 0.925665153969376, 0.925665153969376, 0.925665153969376, 0.925665153969376, 0.925665153969376, 0.925665153969376, 0.925665153969376, 0.925665153969376, 0.925665153969376, 0.925665153969376, 0.925665153969376, 0.925665153969376, 0.925665153969376, 0.925665153969376, 0.925665153969376, 0.925665153969376, 0.720722899924667, 0.720722899924667, 0.720722899924667, 0.720722899924667, 0.720722899924667, 0.720722899924667, 0.720722899924667, 0.720722899924667, 0.720722899924667, 0.720722899924667, 0.720722899924667, 0.720722899924667, 0.720722899924667, 0.720722899924667, 0.720722899924667, 0.720722899924667, 0.720722899924667, 0.720722899924667, 0.720722899924667, 0.720722899924667, 0.0, 0.0, 0.0, 0.0, 0.0, 0.0, 0.0, 0.0, 0.0, 0.0, 0.0, 0.0, 0.0, 0.0, 0.0, 0.0, 0.0, 0.0, 0.0, 0.0, 0.0, 0.0, 0.0, 0.0, 0.0, 0.0, 0.0, 0.0, 0.0, 0.0, 0.0, 0.0, 0.0, 0.0, 0.0, 0.0, 0.0, 0.0, 0.0, 0.0, -66.6666666666669, -66.6666666666669, -66.6666666666669, -66.6666666666669, -66.6666666666669, -66.6666666666669, -66.6666666666669, -66.6666666666669, -66.6666666666669, -66.6666666666669, -66.6666666666669, -66.6666666666669, -66.6666666666669, -66.6666666666669, -66.6666666666669, -66.6666666666669, -66.6666666666669, -66.6666666666669, -66.6666666666669, -66.6666666666669, -66.6666666666669, -66.6666666666669, -66.6666666666669, -66.6666666666669, -66.6666666666669, -66.6666666666669, -66.6666666666669, -66.6666666666669, -66.6666666666669, -66.6666666666669, -66.6666666666669, -66.6666666666669, -66.6666666666669, -66.6666666666669, -66.6666666666669, -66.6666666666669, -66.6666666666669, -66.6666666666669, -66.6666666666669, -66.6666666666669, 100.0, 100.0, 100.0, 100.0, 100.0, 100.0, 100.0, 100.0, 100.0, 100.0, 100.0, 100.0, 100.0, 100.0, 100.0, 100.0, 100.0, 100.0, 100.0, 100.0, 0.859423041343689, 16.274673461914062, 89.375, 13.952056884765625, 35.29999923706055, 12.189543724060059, 40.118656158447266, 23.11524772644043, 42.563167572021484, 27.002798080444336, 26.6447696685791, 25.863813400268555, 36.93210220336914, 3.585430383682251, 14.565584182739258, 30.248369216918945, 15.941187858581543, 5.632353782653809, 20.573511123657227, 20.461938858032227, 0.859423041343689, 16.274673461914062, 89.375, 13.952056884765625, 35.29999923706055, 12.189543724060059, 40.118656158447266, 23.11524772644043, 42.563167572021484, 27.002798080444336, 26.6447696685791, 25.863813400268555, 36.93210220336914, 3.585430383682251, 14.565584182739258, 30.248369216918945, 15.941187858581543, 5.632353782653809, 20.573511123657227, 20.461938858032227, 0.859423041343689, 16.274673461914062, 89.375, 13.952056884765625, 35.29999923706055, 12.189543724060059, 40.118656158447266, 23.11524772644043, 42.563167572021484, 27.002798080444336, 26.6447696685791, 25.863813400268555, 36.93210220336914, 3.585430383682251, 14.565584182739258, 30.248369216918945, 15.941187858581543, 5.632353782653809, 20.573511123657227, 20.461938858032227, 0.859423041343689, 16.274673461914062, 89.375, 13.952056884765625, 35.29999923706055, 12.189543724060059, 40.118656158447266, 23.11524772644043, 42.563167572021484, 27.002798080444336, 26.6447696685791, 25.863813400268555, 36.93210220336914, 3.585430383682251, 14.565584182739258, 30.248369216918945, 15.941187858581543, 5.632353782653809, 20.573511123657227, 20.461938858032227, 0.859423041343689, 16.274673461914062, 89.375, 13.952056884765625, 35.29999923706055, 12.189543724060059, 40.118656158447266, 23.11524772644043, 42.563167572021484, 27.002798080444336, 26.6447696685791, 25.863813400268555, 36.93210220336914, 3.585430383682251, 14.565584182739258, 30.248369216918945, 15.941187858581543, 5.632353782653809, 20.573511123657227, 20.461938858032227, 0.859423041343689, 16.274673461914062, 89.375, 13.952056884765625, 35.29999923706055, 12.189543724060059, 40.118656158447266, 23.11524772644043, 42.563167572021484, 27.002798080444336, 26.6447696685791, 25.863813400268555, 36.93210220336914, 3.585430383682251, 14.565584182739258, 30.248369216918945, 15.941187858581543, 5.632353782653809, 20.573511123657227, 20.461938858032227]\n",
      "<class 'stable_baselines3.common.vec_env.dummy_vec_env.DummyVecEnv'>\n"
     ]
    }
   ],
   "source": [
    "env_train, _ = e_train_gym.get_sb_env()\n",
    "print(type(env_train))"
   ]
  },
  {
   "cell_type": "markdown",
   "metadata": {
    "id": "HMNR5nHjh1iz"
   },
   "source": [
    "## RL Models Training: (A2C DDPG, PPO, TD3, SAC)\n",
    "* The implementation of the DRL algorithms are based on **OpenAI Baselines** and **Stable Baselines**. Stable Baselines is a fork of OpenAI Baselines, with a major structural refactoring, and code cleanups.\n",
    "* FinRL library includes fine-tuned standard DRL algorithms, such as DQN, DDPG,\n",
    "Multi-Agent DDPG, PPO, SAC, A2C and TD3. We also allow users to\n",
    "design their own DRL algorithms by adapting these DRL algorithms."
   ]
  },
  {
   "cell_type": "markdown",
   "metadata": {
    "id": "uijiWgkuh1jB"
   },
   "source": [
    "### Actor-Critic\n"
   ]
  },
  {
   "cell_type": "code",
   "execution_count": 17,
   "metadata": {
    "colab": {
     "base_uri": "https://localhost:8080/"
    },
    "id": "GUCnkn-HIbmj",
    "outputId": "2fdb297a-8d35-4c7e-806f-de859d70e19e"
   },
   "outputs": [
    {
     "name": "stdout",
     "output_type": "stream",
     "text": [
      "{'n_steps': 5, 'ent_coef': 0.01, 'learning_rate': 0.0007}\n",
      "Using cpu device\n"
     ]
    }
   ],
   "source": [
    "agent = DRLAgent(env = env_train)\n",
    "model_a2c = agent.get_model(\"a2c\")"
   ]
  },
  {
   "cell_type": "code",
   "execution_count": 18,
   "metadata": {
    "colab": {
     "base_uri": "https://localhost:8080/"
    },
    "id": "0GVpkWGqH4-D",
    "outputId": "9eb09ba2-fc4b-46a1-ea3d-bd9b3bfefffd",
    "scrolled": true
   },
   "outputs": [
    {
     "name": "stdout",
     "output_type": "stream",
     "text": [
      "[1000000, 0.859423041343689, 16.274673461914062, 89.375, 13.952056884765625, 35.29999923706055, 12.189543724060059, 40.118656158447266, 23.11524772644043, 42.563167572021484, 27.002798080444336, 26.6447696685791, 25.863813400268555, 36.93210220336914, 3.585430383682251, 14.565584182739258, 30.248369216918945, 15.941187858581543, 5.632353782653809, 20.573511123657227, 20.461938858032227, 0, 0, 0, 0, 0, 0, 0, 0, 0, 0, 0, 0, 0, 0, 0, 0, 0, 0, 0, 0, 0.0, 0.0, 0.0, 0.0, 0.0, 0.0, 0.0, 0.0, 0.0, 0.0, 0.0, 0.0, 0.0, 0.0, 0.0, 0.0, 0.0, 0.0, 0.0, 0.0, 0.925665153969376, 0.925665153969376, 0.925665153969376, 0.925665153969376, 0.925665153969376, 0.925665153969376, 0.925665153969376, 0.925665153969376, 0.925665153969376, 0.925665153969376, 0.925665153969376, 0.925665153969376, 0.925665153969376, 0.925665153969376, 0.925665153969376, 0.925665153969376, 0.925665153969376, 0.925665153969376, 0.925665153969376, 0.925665153969376, 0.720722899924667, 0.720722899924667, 0.720722899924667, 0.720722899924667, 0.720722899924667, 0.720722899924667, 0.720722899924667, 0.720722899924667, 0.720722899924667, 0.720722899924667, 0.720722899924667, 0.720722899924667, 0.720722899924667, 0.720722899924667, 0.720722899924667, 0.720722899924667, 0.720722899924667, 0.720722899924667, 0.720722899924667, 0.720722899924667, 0.0, 0.0, 0.0, 0.0, 0.0, 0.0, 0.0, 0.0, 0.0, 0.0, 0.0, 0.0, 0.0, 0.0, 0.0, 0.0, 0.0, 0.0, 0.0, 0.0, 0.0, 0.0, 0.0, 0.0, 0.0, 0.0, 0.0, 0.0, 0.0, 0.0, 0.0, 0.0, 0.0, 0.0, 0.0, 0.0, 0.0, 0.0, 0.0, 0.0, -66.6666666666669, -66.6666666666669, -66.6666666666669, -66.6666666666669, -66.6666666666669, -66.6666666666669, -66.6666666666669, -66.6666666666669, -66.6666666666669, -66.6666666666669, -66.6666666666669, -66.6666666666669, -66.6666666666669, -66.6666666666669, -66.6666666666669, -66.6666666666669, -66.6666666666669, -66.6666666666669, -66.6666666666669, -66.6666666666669, -66.6666666666669, -66.6666666666669, -66.6666666666669, -66.6666666666669, -66.6666666666669, -66.6666666666669, -66.6666666666669, -66.6666666666669, -66.6666666666669, -66.6666666666669, -66.6666666666669, -66.6666666666669, -66.6666666666669, -66.6666666666669, -66.6666666666669, -66.6666666666669, -66.6666666666669, -66.6666666666669, -66.6666666666669, -66.6666666666669, 100.0, 100.0, 100.0, 100.0, 100.0, 100.0, 100.0, 100.0, 100.0, 100.0, 100.0, 100.0, 100.0, 100.0, 100.0, 100.0, 100.0, 100.0, 100.0, 100.0, 0.859423041343689, 16.274673461914062, 89.375, 13.952056884765625, 35.29999923706055, 12.189543724060059, 40.118656158447266, 23.11524772644043, 42.563167572021484, 27.002798080444336, 26.6447696685791, 25.863813400268555, 36.93210220336914, 3.585430383682251, 14.565584182739258, 30.248369216918945, 15.941187858581543, 5.632353782653809, 20.573511123657227, 20.461938858032227, 0.859423041343689, 16.274673461914062, 89.375, 13.952056884765625, 35.29999923706055, 12.189543724060059, 40.118656158447266, 23.11524772644043, 42.563167572021484, 27.002798080444336, 26.6447696685791, 25.863813400268555, 36.93210220336914, 3.585430383682251, 14.565584182739258, 30.248369216918945, 15.941187858581543, 5.632353782653809, 20.573511123657227, 20.461938858032227, 0.859423041343689, 16.274673461914062, 89.375, 13.952056884765625, 35.29999923706055, 12.189543724060059, 40.118656158447266, 23.11524772644043, 42.563167572021484, 27.002798080444336, 26.6447696685791, 25.863813400268555, 36.93210220336914, 3.585430383682251, 14.565584182739258, 30.248369216918945, 15.941187858581543, 5.632353782653809, 20.573511123657227, 20.461938858032227, 0.859423041343689, 16.274673461914062, 89.375, 13.952056884765625, 35.29999923706055, 12.189543724060059, 40.118656158447266, 23.11524772644043, 42.563167572021484, 27.002798080444336, 26.6447696685791, 25.863813400268555, 36.93210220336914, 3.585430383682251, 14.565584182739258, 30.248369216918945, 15.941187858581543, 5.632353782653809, 20.573511123657227, 20.461938858032227, 0.859423041343689, 16.274673461914062, 89.375, 13.952056884765625, 35.29999923706055, 12.189543724060059, 40.118656158447266, 23.11524772644043, 42.563167572021484, 27.002798080444336, 26.6447696685791, 25.863813400268555, 36.93210220336914, 3.585430383682251, 14.565584182739258, 30.248369216918945, 15.941187858581543, 5.632353782653809, 20.573511123657227, 20.461938858032227, 0.859423041343689, 16.274673461914062, 89.375, 13.952056884765625, 35.29999923706055, 12.189543724060059, 40.118656158447266, 23.11524772644043, 42.563167572021484, 27.002798080444336, 26.6447696685791, 25.863813400268555, 36.93210220336914, 3.585430383682251, 14.565584182739258, 30.248369216918945, 15.941187858581543, 5.632353782653809, 20.573511123657227, 20.461938858032227]\n",
      "Logging to tensorboard_log/a2c\\a2c_20\n",
      "------------------------------------\n",
      "| time/                 |          |\n",
      "|    fps                | 99       |\n",
      "|    iterations         | 100      |\n",
      "|    time_elapsed       | 5        |\n",
      "|    total_timesteps    | 500      |\n",
      "| train/                |          |\n",
      "|    entropy_loss       | -29.7    |\n",
      "|    explained_variance | -87.1    |\n",
      "|    learning_rate      | 0.0007   |\n",
      "|    n_updates          | 99       |\n",
      "|    policy_loss        | 1.34     |\n",
      "|    std                | 1.07     |\n",
      "|    value_loss         | 0.0161   |\n",
      "------------------------------------\n",
      "------------------------------------\n",
      "| time/                 |          |\n",
      "|    fps                | 102      |\n",
      "|    iterations         | 200      |\n",
      "|    time_elapsed       | 9        |\n",
      "|    total_timesteps    | 1000     |\n",
      "| train/                |          |\n",
      "|    entropy_loss       | -30.5    |\n",
      "|    explained_variance | 0.55     |\n",
      "|    learning_rate      | 0.0007   |\n",
      "|    n_updates          | 199      |\n",
      "|    policy_loss        | -0.0523  |\n",
      "|    std                | 1.11     |\n",
      "|    value_loss         | 1.43e-05 |\n",
      "------------------------------------\n",
      "------------------------------------\n",
      "| time/                 |          |\n",
      "|    fps                | 104      |\n",
      "|    iterations         | 300      |\n",
      "|    time_elapsed       | 14       |\n",
      "|    total_timesteps    | 1500     |\n",
      "| train/                |          |\n",
      "|    entropy_loss       | -31.2    |\n",
      "|    explained_variance | -214     |\n",
      "|    learning_rate      | 0.0007   |\n",
      "|    n_updates          | 299      |\n",
      "|    policy_loss        | -1.04    |\n",
      "|    std                | 1.15     |\n",
      "|    value_loss         | 0.0145   |\n",
      "------------------------------------\n",
      "------------------------------------\n",
      "| time/                 |          |\n",
      "|    fps                | 105      |\n",
      "|    iterations         | 400      |\n",
      "|    time_elapsed       | 18       |\n",
      "|    total_timesteps    | 2000     |\n",
      "| train/                |          |\n",
      "|    entropy_loss       | -31.5    |\n",
      "|    explained_variance | -760     |\n",
      "|    learning_rate      | 0.0007   |\n",
      "|    n_updates          | 399      |\n",
      "|    policy_loss        | -10.4    |\n",
      "|    std                | 1.17     |\n",
      "|    value_loss         | 0.277    |\n",
      "------------------------------------\n",
      "------------------------------------\n",
      "| time/                 |          |\n",
      "|    fps                | 104      |\n",
      "|    iterations         | 500      |\n",
      "|    time_elapsed       | 23       |\n",
      "|    total_timesteps    | 2500     |\n",
      "| train/                |          |\n",
      "|    entropy_loss       | -31.9    |\n",
      "|    explained_variance | -120     |\n",
      "|    learning_rate      | 0.0007   |\n",
      "|    n_updates          | 499      |\n",
      "|    policy_loss        | -5.92    |\n",
      "|    std                | 1.19     |\n",
      "|    value_loss         | 0.0479   |\n",
      "------------------------------------\n",
      "------------------------------------\n",
      "| time/                 |          |\n",
      "|    fps                | 104      |\n",
      "|    iterations         | 600      |\n",
      "|    time_elapsed       | 28       |\n",
      "|    total_timesteps    | 3000     |\n",
      "| train/                |          |\n",
      "|    entropy_loss       | -32.2    |\n",
      "|    explained_variance | 0        |\n",
      "|    learning_rate      | 0.0007   |\n",
      "|    n_updates          | 599      |\n",
      "|    policy_loss        | 0.108    |\n",
      "|    std                | 1.21     |\n",
      "|    value_loss         | 0.000259 |\n",
      "------------------------------------\n",
      "------------------------------------\n",
      "| time/                 |          |\n",
      "|    fps                | 104      |\n",
      "|    iterations         | 700      |\n",
      "|    time_elapsed       | 33       |\n",
      "|    total_timesteps    | 3500     |\n",
      "| train/                |          |\n",
      "|    entropy_loss       | -32.7    |\n",
      "|    explained_variance | -16.5    |\n",
      "|    learning_rate      | 0.0007   |\n",
      "|    n_updates          | 699      |\n",
      "|    policy_loss        | -1.95    |\n",
      "|    std                | 1.24     |\n",
      "|    value_loss         | 0.00503  |\n",
      "------------------------------------\n"
     ]
    },
    {
     "ename": "KeyboardInterrupt",
     "evalue": "",
     "output_type": "error",
     "traceback": [
      "\u001b[1;31m---------------------------------------------------------------------------\u001b[0m",
      "\u001b[1;31mKeyboardInterrupt\u001b[0m                         Traceback (most recent call last)",
      "\u001b[1;32m<ipython-input-18-249a2f9027a4>\u001b[0m in \u001b[0;36m<module>\u001b[1;34m\u001b[0m\n\u001b[1;32m----> 1\u001b[1;33m trained_a2c = agent.train_model(\n\u001b[0m\u001b[0;32m      2\u001b[0m     \u001b[0mmodel\u001b[0m\u001b[1;33m=\u001b[0m\u001b[0mmodel_a2c\u001b[0m\u001b[1;33m,\u001b[0m\u001b[1;33m\u001b[0m\u001b[1;33m\u001b[0m\u001b[0m\n\u001b[0;32m      3\u001b[0m     \u001b[0mtb_log_name\u001b[0m\u001b[1;33m=\u001b[0m\u001b[1;34m'a2c'\u001b[0m\u001b[1;33m,\u001b[0m\u001b[1;33m\u001b[0m\u001b[1;33m\u001b[0m\u001b[0m\n\u001b[0;32m      4\u001b[0m     total_timesteps=100000)\n",
      "\u001b[1;32mD:\\codes\\python\\RL_stock_trading\\rl\\model\\models.py\u001b[0m in \u001b[0;36mtrain_model\u001b[1;34m(self, model, tb_log_name, total_timesteps)\u001b[0m\n\u001b[0;32m    122\u001b[0m \u001b[1;33m\u001b[0m\u001b[0m\n\u001b[0;32m    123\u001b[0m     \u001b[1;32mdef\u001b[0m \u001b[0mtrain_model\u001b[0m\u001b[1;33m(\u001b[0m\u001b[0mself\u001b[0m\u001b[1;33m,\u001b[0m \u001b[0mmodel\u001b[0m\u001b[1;33m,\u001b[0m \u001b[0mtb_log_name\u001b[0m\u001b[1;33m,\u001b[0m \u001b[0mtotal_timesteps\u001b[0m\u001b[1;33m=\u001b[0m\u001b[1;36m5000\u001b[0m\u001b[1;33m)\u001b[0m\u001b[1;33m:\u001b[0m\u001b[1;33m\u001b[0m\u001b[1;33m\u001b[0m\u001b[0m\n\u001b[1;32m--> 124\u001b[1;33m         \u001b[0mmodel\u001b[0m \u001b[1;33m=\u001b[0m \u001b[0mmodel\u001b[0m\u001b[1;33m.\u001b[0m\u001b[0mlearn\u001b[0m\u001b[1;33m(\u001b[0m\u001b[0mtotal_timesteps\u001b[0m\u001b[1;33m=\u001b[0m\u001b[0mtotal_timesteps\u001b[0m\u001b[1;33m,\u001b[0m \u001b[0mtb_log_name\u001b[0m\u001b[1;33m=\u001b[0m\u001b[0mtb_log_name\u001b[0m\u001b[1;33m)\u001b[0m\u001b[1;33m\u001b[0m\u001b[1;33m\u001b[0m\u001b[0m\n\u001b[0m\u001b[0;32m    125\u001b[0m         \u001b[1;32mreturn\u001b[0m \u001b[0mmodel\u001b[0m\u001b[1;33m\u001b[0m\u001b[1;33m\u001b[0m\u001b[0m\n\u001b[0;32m    126\u001b[0m \u001b[1;33m\u001b[0m\u001b[0m\n",
      "\u001b[1;32mD:\\InstalledSoftware\\anaconda3\\envs\\py37-python-notebook\\lib\\site-packages\\stable_baselines3\\a2c\\a2c.py\u001b[0m in \u001b[0;36mlearn\u001b[1;34m(self, total_timesteps, callback, log_interval, eval_env, eval_freq, n_eval_episodes, tb_log_name, eval_log_path, reset_num_timesteps)\u001b[0m\n\u001b[0;32m    188\u001b[0m     ) -> \"A2C\":\n\u001b[0;32m    189\u001b[0m \u001b[1;33m\u001b[0m\u001b[0m\n\u001b[1;32m--> 190\u001b[1;33m         return super(A2C, self).learn(\n\u001b[0m\u001b[0;32m    191\u001b[0m             \u001b[0mtotal_timesteps\u001b[0m\u001b[1;33m=\u001b[0m\u001b[0mtotal_timesteps\u001b[0m\u001b[1;33m,\u001b[0m\u001b[1;33m\u001b[0m\u001b[1;33m\u001b[0m\u001b[0m\n\u001b[0;32m    192\u001b[0m             \u001b[0mcallback\u001b[0m\u001b[1;33m=\u001b[0m\u001b[0mcallback\u001b[0m\u001b[1;33m,\u001b[0m\u001b[1;33m\u001b[0m\u001b[1;33m\u001b[0m\u001b[0m\n",
      "\u001b[1;32mD:\\InstalledSoftware\\anaconda3\\envs\\py37-python-notebook\\lib\\site-packages\\stable_baselines3\\common\\on_policy_algorithm.py\u001b[0m in \u001b[0;36mlearn\u001b[1;34m(self, total_timesteps, callback, log_interval, eval_env, eval_freq, n_eval_episodes, tb_log_name, eval_log_path, reset_num_timesteps)\u001b[0m\n\u001b[0;32m    225\u001b[0m         \u001b[1;32mwhile\u001b[0m \u001b[0mself\u001b[0m\u001b[1;33m.\u001b[0m\u001b[0mnum_timesteps\u001b[0m \u001b[1;33m<\u001b[0m \u001b[0mtotal_timesteps\u001b[0m\u001b[1;33m:\u001b[0m\u001b[1;33m\u001b[0m\u001b[1;33m\u001b[0m\u001b[0m\n\u001b[0;32m    226\u001b[0m \u001b[1;33m\u001b[0m\u001b[0m\n\u001b[1;32m--> 227\u001b[1;33m             \u001b[0mcontinue_training\u001b[0m \u001b[1;33m=\u001b[0m \u001b[0mself\u001b[0m\u001b[1;33m.\u001b[0m\u001b[0mcollect_rollouts\u001b[0m\u001b[1;33m(\u001b[0m\u001b[0mself\u001b[0m\u001b[1;33m.\u001b[0m\u001b[0menv\u001b[0m\u001b[1;33m,\u001b[0m \u001b[0mcallback\u001b[0m\u001b[1;33m,\u001b[0m \u001b[0mself\u001b[0m\u001b[1;33m.\u001b[0m\u001b[0mrollout_buffer\u001b[0m\u001b[1;33m,\u001b[0m \u001b[0mn_rollout_steps\u001b[0m\u001b[1;33m=\u001b[0m\u001b[0mself\u001b[0m\u001b[1;33m.\u001b[0m\u001b[0mn_steps\u001b[0m\u001b[1;33m)\u001b[0m\u001b[1;33m\u001b[0m\u001b[1;33m\u001b[0m\u001b[0m\n\u001b[0m\u001b[0;32m    228\u001b[0m \u001b[1;33m\u001b[0m\u001b[0m\n\u001b[0;32m    229\u001b[0m             \u001b[1;32mif\u001b[0m \u001b[0mcontinue_training\u001b[0m \u001b[1;32mis\u001b[0m \u001b[1;32mFalse\u001b[0m\u001b[1;33m:\u001b[0m\u001b[1;33m\u001b[0m\u001b[1;33m\u001b[0m\u001b[0m\n",
      "\u001b[1;32mD:\\InstalledSoftware\\anaconda3\\envs\\py37-python-notebook\\lib\\site-packages\\stable_baselines3\\common\\on_policy_algorithm.py\u001b[0m in \u001b[0;36mcollect_rollouts\u001b[1;34m(self, env, callback, rollout_buffer, n_rollout_steps)\u001b[0m\n\u001b[0;32m    166\u001b[0m                 \u001b[0mclipped_actions\u001b[0m \u001b[1;33m=\u001b[0m \u001b[0mnp\u001b[0m\u001b[1;33m.\u001b[0m\u001b[0mclip\u001b[0m\u001b[1;33m(\u001b[0m\u001b[0mactions\u001b[0m\u001b[1;33m,\u001b[0m \u001b[0mself\u001b[0m\u001b[1;33m.\u001b[0m\u001b[0maction_space\u001b[0m\u001b[1;33m.\u001b[0m\u001b[0mlow\u001b[0m\u001b[1;33m,\u001b[0m \u001b[0mself\u001b[0m\u001b[1;33m.\u001b[0m\u001b[0maction_space\u001b[0m\u001b[1;33m.\u001b[0m\u001b[0mhigh\u001b[0m\u001b[1;33m)\u001b[0m\u001b[1;33m\u001b[0m\u001b[1;33m\u001b[0m\u001b[0m\n\u001b[0;32m    167\u001b[0m \u001b[1;33m\u001b[0m\u001b[0m\n\u001b[1;32m--> 168\u001b[1;33m             \u001b[0mnew_obs\u001b[0m\u001b[1;33m,\u001b[0m \u001b[0mrewards\u001b[0m\u001b[1;33m,\u001b[0m \u001b[0mdones\u001b[0m\u001b[1;33m,\u001b[0m \u001b[0minfos\u001b[0m \u001b[1;33m=\u001b[0m \u001b[0menv\u001b[0m\u001b[1;33m.\u001b[0m\u001b[0mstep\u001b[0m\u001b[1;33m(\u001b[0m\u001b[0mclipped_actions\u001b[0m\u001b[1;33m)\u001b[0m\u001b[1;33m\u001b[0m\u001b[1;33m\u001b[0m\u001b[0m\n\u001b[0m\u001b[0;32m    169\u001b[0m \u001b[1;33m\u001b[0m\u001b[0m\n\u001b[0;32m    170\u001b[0m             \u001b[0mself\u001b[0m\u001b[1;33m.\u001b[0m\u001b[0mnum_timesteps\u001b[0m \u001b[1;33m+=\u001b[0m \u001b[0menv\u001b[0m\u001b[1;33m.\u001b[0m\u001b[0mnum_envs\u001b[0m\u001b[1;33m\u001b[0m\u001b[1;33m\u001b[0m\u001b[0m\n",
      "\u001b[1;32mD:\\InstalledSoftware\\anaconda3\\envs\\py37-python-notebook\\lib\\site-packages\\stable_baselines3\\common\\vec_env\\base_vec_env.py\u001b[0m in \u001b[0;36mstep\u001b[1;34m(self, actions)\u001b[0m\n\u001b[0;32m    161\u001b[0m         \"\"\"\n\u001b[0;32m    162\u001b[0m         \u001b[0mself\u001b[0m\u001b[1;33m.\u001b[0m\u001b[0mstep_async\u001b[0m\u001b[1;33m(\u001b[0m\u001b[0mactions\u001b[0m\u001b[1;33m)\u001b[0m\u001b[1;33m\u001b[0m\u001b[1;33m\u001b[0m\u001b[0m\n\u001b[1;32m--> 163\u001b[1;33m         \u001b[1;32mreturn\u001b[0m \u001b[0mself\u001b[0m\u001b[1;33m.\u001b[0m\u001b[0mstep_wait\u001b[0m\u001b[1;33m(\u001b[0m\u001b[1;33m)\u001b[0m\u001b[1;33m\u001b[0m\u001b[1;33m\u001b[0m\u001b[0m\n\u001b[0m\u001b[0;32m    164\u001b[0m \u001b[1;33m\u001b[0m\u001b[0m\n\u001b[0;32m    165\u001b[0m     \u001b[1;32mdef\u001b[0m \u001b[0mget_images\u001b[0m\u001b[1;33m(\u001b[0m\u001b[0mself\u001b[0m\u001b[1;33m)\u001b[0m \u001b[1;33m->\u001b[0m \u001b[0mSequence\u001b[0m\u001b[1;33m[\u001b[0m\u001b[0mnp\u001b[0m\u001b[1;33m.\u001b[0m\u001b[0mndarray\u001b[0m\u001b[1;33m]\u001b[0m\u001b[1;33m:\u001b[0m\u001b[1;33m\u001b[0m\u001b[1;33m\u001b[0m\u001b[0m\n",
      "\u001b[1;32mD:\\InstalledSoftware\\anaconda3\\envs\\py37-python-notebook\\lib\\site-packages\\stable_baselines3\\common\\vec_env\\dummy_vec_env.py\u001b[0m in \u001b[0;36mstep_wait\u001b[1;34m(self)\u001b[0m\n\u001b[0;32m     41\u001b[0m     \u001b[1;32mdef\u001b[0m \u001b[0mstep_wait\u001b[0m\u001b[1;33m(\u001b[0m\u001b[0mself\u001b[0m\u001b[1;33m)\u001b[0m \u001b[1;33m->\u001b[0m \u001b[0mVecEnvStepReturn\u001b[0m\u001b[1;33m:\u001b[0m\u001b[1;33m\u001b[0m\u001b[1;33m\u001b[0m\u001b[0m\n\u001b[0;32m     42\u001b[0m         \u001b[1;32mfor\u001b[0m \u001b[0menv_idx\u001b[0m \u001b[1;32min\u001b[0m \u001b[0mrange\u001b[0m\u001b[1;33m(\u001b[0m\u001b[0mself\u001b[0m\u001b[1;33m.\u001b[0m\u001b[0mnum_envs\u001b[0m\u001b[1;33m)\u001b[0m\u001b[1;33m:\u001b[0m\u001b[1;33m\u001b[0m\u001b[1;33m\u001b[0m\u001b[0m\n\u001b[1;32m---> 43\u001b[1;33m             obs, self.buf_rews[env_idx], self.buf_dones[env_idx], self.buf_infos[env_idx] = self.envs[env_idx].step(\n\u001b[0m\u001b[0;32m     44\u001b[0m                 \u001b[0mself\u001b[0m\u001b[1;33m.\u001b[0m\u001b[0mactions\u001b[0m\u001b[1;33m[\u001b[0m\u001b[0menv_idx\u001b[0m\u001b[1;33m]\u001b[0m\u001b[1;33m\u001b[0m\u001b[1;33m\u001b[0m\u001b[0m\n\u001b[0;32m     45\u001b[0m             )\n",
      "\u001b[1;32mD:\\codes\\python\\RL_stock_trading\\rl\\env\\env_stocktrading.py\u001b[0m in \u001b[0;36mstep\u001b[1;34m(self, actions)\u001b[0m\n\u001b[0;32m    253\u001b[0m             \u001b[0msum\u001b[0m\u001b[1;33m(\u001b[0m\u001b[0mnp\u001b[0m\u001b[1;33m.\u001b[0m\u001b[0marray\u001b[0m\u001b[1;33m(\u001b[0m\u001b[0mself\u001b[0m\u001b[1;33m.\u001b[0m\u001b[0mstate\u001b[0m\u001b[1;33m[\u001b[0m\u001b[1;36m1\u001b[0m\u001b[1;33m:\u001b[0m\u001b[1;33m(\u001b[0m\u001b[0mself\u001b[0m\u001b[1;33m.\u001b[0m\u001b[0mstock_dim\u001b[0m\u001b[1;33m+\u001b[0m\u001b[1;36m1\u001b[0m\u001b[1;33m)\u001b[0m\u001b[1;33m]\u001b[0m\u001b[1;33m)\u001b[0m\u001b[1;33m*\u001b[0m\u001b[0mnp\u001b[0m\u001b[1;33m.\u001b[0m\u001b[0marray\u001b[0m\u001b[1;33m(\u001b[0m\u001b[0mself\u001b[0m\u001b[1;33m.\u001b[0m\u001b[0mstate\u001b[0m\u001b[1;33m[\u001b[0m\u001b[1;33m(\u001b[0m\u001b[0mself\u001b[0m\u001b[1;33m.\u001b[0m\u001b[0mstock_dim\u001b[0m\u001b[1;33m+\u001b[0m\u001b[1;36m1\u001b[0m\u001b[1;33m)\u001b[0m\u001b[1;33m:\u001b[0m\u001b[1;33m(\u001b[0m\u001b[0mself\u001b[0m\u001b[1;33m.\u001b[0m\u001b[0mstock_dim\u001b[0m\u001b[1;33m*\u001b[0m\u001b[1;36m2\u001b[0m\u001b[1;33m+\u001b[0m\u001b[1;36m1\u001b[0m\u001b[1;33m)\u001b[0m\u001b[1;33m]\u001b[0m\u001b[1;33m)\u001b[0m\u001b[1;33m)\u001b[0m\u001b[1;33m\u001b[0m\u001b[1;33m\u001b[0m\u001b[0m\n\u001b[0;32m    254\u001b[0m             \u001b[0mself\u001b[0m\u001b[1;33m.\u001b[0m\u001b[0masset_memory\u001b[0m\u001b[1;33m.\u001b[0m\u001b[0mappend\u001b[0m\u001b[1;33m(\u001b[0m\u001b[0mend_total_asset\u001b[0m\u001b[1;33m)\u001b[0m\u001b[1;33m\u001b[0m\u001b[1;33m\u001b[0m\u001b[0m\n\u001b[1;32m--> 255\u001b[1;33m             \u001b[0mself\u001b[0m\u001b[1;33m.\u001b[0m\u001b[0mdate_memory\u001b[0m\u001b[1;33m.\u001b[0m\u001b[0mappend\u001b[0m\u001b[1;33m(\u001b[0m\u001b[0mself\u001b[0m\u001b[1;33m.\u001b[0m\u001b[0m_get_date\u001b[0m\u001b[1;33m(\u001b[0m\u001b[1;33m)\u001b[0m\u001b[1;33m)\u001b[0m\u001b[1;33m\u001b[0m\u001b[1;33m\u001b[0m\u001b[0m\n\u001b[0m\u001b[0;32m    256\u001b[0m             \u001b[0mself\u001b[0m\u001b[1;33m.\u001b[0m\u001b[0mreward\u001b[0m \u001b[1;33m=\u001b[0m \u001b[0mend_total_asset\u001b[0m \u001b[1;33m-\u001b[0m \u001b[0mbegin_total_asset\u001b[0m\u001b[1;33m\u001b[0m\u001b[1;33m\u001b[0m\u001b[0m\n\u001b[0;32m    257\u001b[0m             \u001b[0mself\u001b[0m\u001b[1;33m.\u001b[0m\u001b[0mrewards_memory\u001b[0m\u001b[1;33m.\u001b[0m\u001b[0mappend\u001b[0m\u001b[1;33m(\u001b[0m\u001b[0mself\u001b[0m\u001b[1;33m.\u001b[0m\u001b[0mreward\u001b[0m\u001b[1;33m)\u001b[0m\u001b[1;33m\u001b[0m\u001b[1;33m\u001b[0m\u001b[0m\n",
      "\u001b[1;32mD:\\codes\\python\\RL_stock_trading\\rl\\env\\env_stocktrading.py\u001b[0m in \u001b[0;36m_get_date\u001b[1;34m(self)\u001b[0m\n\u001b[0;32m    339\u001b[0m \u001b[1;33m\u001b[0m\u001b[0m\n\u001b[0;32m    340\u001b[0m     \u001b[1;32mdef\u001b[0m \u001b[0m_get_date\u001b[0m\u001b[1;33m(\u001b[0m\u001b[0mself\u001b[0m\u001b[1;33m)\u001b[0m\u001b[1;33m:\u001b[0m\u001b[1;33m\u001b[0m\u001b[1;33m\u001b[0m\u001b[0m\n\u001b[1;32m--> 341\u001b[1;33m         \u001b[1;32mif\u001b[0m \u001b[0mlen\u001b[0m\u001b[1;33m(\u001b[0m\u001b[0mself\u001b[0m\u001b[1;33m.\u001b[0m\u001b[0mdf\u001b[0m\u001b[1;33m.\u001b[0m\u001b[0mtic\u001b[0m\u001b[1;33m.\u001b[0m\u001b[0munique\u001b[0m\u001b[1;33m(\u001b[0m\u001b[1;33m)\u001b[0m\u001b[1;33m)\u001b[0m\u001b[1;33m>\u001b[0m\u001b[1;36m1\u001b[0m\u001b[1;33m:\u001b[0m\u001b[1;33m\u001b[0m\u001b[1;33m\u001b[0m\u001b[0m\n\u001b[0m\u001b[0;32m    342\u001b[0m             \u001b[0mdate\u001b[0m \u001b[1;33m=\u001b[0m \u001b[0mself\u001b[0m\u001b[1;33m.\u001b[0m\u001b[0mdata\u001b[0m\u001b[1;33m.\u001b[0m\u001b[0mdate\u001b[0m\u001b[1;33m.\u001b[0m\u001b[0munique\u001b[0m\u001b[1;33m(\u001b[0m\u001b[1;33m)\u001b[0m\u001b[1;33m[\u001b[0m\u001b[1;36m0\u001b[0m\u001b[1;33m]\u001b[0m\u001b[1;33m\u001b[0m\u001b[1;33m\u001b[0m\u001b[0m\n\u001b[0;32m    343\u001b[0m         \u001b[1;32melse\u001b[0m\u001b[1;33m:\u001b[0m\u001b[1;33m\u001b[0m\u001b[1;33m\u001b[0m\u001b[0m\n",
      "\u001b[1;32mD:\\InstalledSoftware\\anaconda3\\envs\\py37-python-notebook\\lib\\site-packages\\pandas\\core\\series.py\u001b[0m in \u001b[0;36munique\u001b[1;34m(self)\u001b[0m\n\u001b[0;32m   1841\u001b[0m         \u001b[0mCategories\u001b[0m \u001b[1;33m(\u001b[0m\u001b[1;36m3\u001b[0m\u001b[1;33m,\u001b[0m \u001b[0mobject\u001b[0m\u001b[1;33m)\u001b[0m\u001b[1;33m:\u001b[0m \u001b[1;33m[\u001b[0m\u001b[1;34m'a'\u001b[0m \u001b[1;33m<\u001b[0m \u001b[1;34m'b'\u001b[0m \u001b[1;33m<\u001b[0m \u001b[1;34m'c'\u001b[0m\u001b[1;33m]\u001b[0m\u001b[1;33m\u001b[0m\u001b[1;33m\u001b[0m\u001b[0m\n\u001b[0;32m   1842\u001b[0m         \"\"\"\n\u001b[1;32m-> 1843\u001b[1;33m         \u001b[0mresult\u001b[0m \u001b[1;33m=\u001b[0m \u001b[0msuper\u001b[0m\u001b[1;33m(\u001b[0m\u001b[1;33m)\u001b[0m\u001b[1;33m.\u001b[0m\u001b[0munique\u001b[0m\u001b[1;33m(\u001b[0m\u001b[1;33m)\u001b[0m\u001b[1;33m\u001b[0m\u001b[1;33m\u001b[0m\u001b[0m\n\u001b[0m\u001b[0;32m   1844\u001b[0m         \u001b[1;32mreturn\u001b[0m \u001b[0mresult\u001b[0m\u001b[1;33m\u001b[0m\u001b[1;33m\u001b[0m\u001b[0m\n\u001b[0;32m   1845\u001b[0m \u001b[1;33m\u001b[0m\u001b[0m\n",
      "\u001b[1;32mD:\\InstalledSoftware\\anaconda3\\envs\\py37-python-notebook\\lib\\site-packages\\pandas\\core\\base.py\u001b[0m in \u001b[0;36munique\u001b[1;34m(self)\u001b[0m\n\u001b[0;32m   1045\u001b[0m                     \u001b[0mresult\u001b[0m \u001b[1;33m=\u001b[0m \u001b[0mnp\u001b[0m\u001b[1;33m.\u001b[0m\u001b[0masarray\u001b[0m\u001b[1;33m(\u001b[0m\u001b[0mresult\u001b[0m\u001b[1;33m)\u001b[0m\u001b[1;33m\u001b[0m\u001b[1;33m\u001b[0m\u001b[0m\n\u001b[0;32m   1046\u001b[0m         \u001b[1;32melse\u001b[0m\u001b[1;33m:\u001b[0m\u001b[1;33m\u001b[0m\u001b[1;33m\u001b[0m\u001b[0m\n\u001b[1;32m-> 1047\u001b[1;33m             \u001b[0mresult\u001b[0m \u001b[1;33m=\u001b[0m \u001b[0munique1d\u001b[0m\u001b[1;33m(\u001b[0m\u001b[0mvalues\u001b[0m\u001b[1;33m)\u001b[0m\u001b[1;33m\u001b[0m\u001b[1;33m\u001b[0m\u001b[0m\n\u001b[0m\u001b[0;32m   1048\u001b[0m \u001b[1;33m\u001b[0m\u001b[0m\n\u001b[0;32m   1049\u001b[0m         \u001b[1;32mreturn\u001b[0m \u001b[0mresult\u001b[0m\u001b[1;33m\u001b[0m\u001b[1;33m\u001b[0m\u001b[0m\n",
      "\u001b[1;32mD:\\InstalledSoftware\\anaconda3\\envs\\py37-python-notebook\\lib\\site-packages\\pandas\\core\\algorithms.py\u001b[0m in \u001b[0;36munique\u001b[1;34m(values)\u001b[0m\n\u001b[0;32m    405\u001b[0m \u001b[1;33m\u001b[0m\u001b[0m\n\u001b[0;32m    406\u001b[0m     \u001b[0mtable\u001b[0m \u001b[1;33m=\u001b[0m \u001b[0mhtable\u001b[0m\u001b[1;33m(\u001b[0m\u001b[0mlen\u001b[0m\u001b[1;33m(\u001b[0m\u001b[0mvalues\u001b[0m\u001b[1;33m)\u001b[0m\u001b[1;33m)\u001b[0m\u001b[1;33m\u001b[0m\u001b[1;33m\u001b[0m\u001b[0m\n\u001b[1;32m--> 407\u001b[1;33m     \u001b[0muniques\u001b[0m \u001b[1;33m=\u001b[0m \u001b[0mtable\u001b[0m\u001b[1;33m.\u001b[0m\u001b[0munique\u001b[0m\u001b[1;33m(\u001b[0m\u001b[0mvalues\u001b[0m\u001b[1;33m)\u001b[0m\u001b[1;33m\u001b[0m\u001b[1;33m\u001b[0m\u001b[0m\n\u001b[0m\u001b[0;32m    408\u001b[0m     \u001b[0muniques\u001b[0m \u001b[1;33m=\u001b[0m \u001b[0m_reconstruct_data\u001b[0m\u001b[1;33m(\u001b[0m\u001b[0muniques\u001b[0m\u001b[1;33m,\u001b[0m \u001b[0moriginal\u001b[0m\u001b[1;33m.\u001b[0m\u001b[0mdtype\u001b[0m\u001b[1;33m,\u001b[0m \u001b[0moriginal\u001b[0m\u001b[1;33m)\u001b[0m\u001b[1;33m\u001b[0m\u001b[1;33m\u001b[0m\u001b[0m\n\u001b[0;32m    409\u001b[0m     \u001b[1;32mreturn\u001b[0m \u001b[0muniques\u001b[0m\u001b[1;33m\u001b[0m\u001b[1;33m\u001b[0m\u001b[0m\n",
      "\u001b[1;31mKeyboardInterrupt\u001b[0m: "
     ]
    }
   ],
   "source": [
    "trained_a2c = agent.train_model(\n",
    "    model=model_a2c, \n",
    "    tb_log_name='a2c',\n",
    "    total_timesteps=100000)"
   ]
  },
  {
   "cell_type": "markdown",
   "metadata": {
    "id": "_gDkU-j-fCmZ"
   },
   "source": [
    "### PPO"
   ]
  },
  {
   "cell_type": "code",
   "execution_count": null,
   "metadata": {
    "colab": {
     "base_uri": "https://localhost:8080/"
    },
    "id": "y5D5PFUhMzSV",
    "outputId": "1bd9a8e4-b094-4649-b0af-d6ae6562221f"
   },
   "outputs": [],
   "source": [
    "agent = DRLAgent(env = env_train)\n",
    "PPO_PARAMS = {\n",
    "    \"n_steps\": 2048,\n",
    "    \"ent_coef\": 0.01,\n",
    "    \"learning_rate\": 0.0002,\n",
    "    \"batch_size\": 128,\n",
    "}\n",
    "model_ppo = agent.get_model(\"ppo\", model_kwargs = PPO_PARAMS)"
   ]
  },
  {
   "cell_type": "code",
   "execution_count": null,
   "metadata": {
    "colab": {
     "base_uri": "https://localhost:8080/",
     "height": 477
    },
    "id": "Gt8eIQKYM4G3",
    "jupyter": {
     "outputs_hidden": true
    },
    "outputId": "f0cdbe05-8c27-4c20-bd5e-a34c7c5923b0",
    "scrolled": true
   },
   "outputs": [],
   "source": [
    "trained_ppo = agent.train_model(model=model_ppo, \n",
    "                             tb_log_name='ppo',\n",
    "                             total_timesteps=100000)"
   ]
  },
  {
   "cell_type": "markdown",
   "metadata": {},
   "source": [
    "### DDPG"
   ]
  },
  {
   "cell_type": "code",
   "execution_count": 19,
   "metadata": {},
   "outputs": [
    {
     "name": "stdout",
     "output_type": "stream",
     "text": [
      "{'batch_size': 128, 'buffer_size': 50000, 'learning_rate': 0.001}\n",
      "Using cpu device\n"
     ]
    }
   ],
   "source": [
    "agent = DRLAgent(env = env_train)\n",
    "DDPG_PARAMS = {'batch_size': 128, 'buffer_size': 50000, 'learning_rate': 0.001}\n",
    "model_ddpg = agent.get_model(\"ddpg\", model_kwargs = DDPG_PARAMS)"
   ]
  },
  {
   "cell_type": "code",
   "execution_count": 21,
   "metadata": {},
   "outputs": [
    {
     "name": "stdout",
     "output_type": "stream",
     "text": [
      "[1000000, 0.22019614279270172, 12.197761535644531, 12.930000305175781, 19.63698959350586, 42.2400016784668, 5.00097131729126, 8.77645206451416, 12.597289085388184, 19.334035873413086, 11.112929344177246, 29.6585750579834, 12.926589965820312, 14.368865013122559, 4.506631851196289, 13.811949729919434, 25.275211334228516, 9.514206886291504, 17.993507385253906, 10.745512008666992, 19.370113372802734, 0, 0, 0, 0, 0, 0, 0, 0, 0, 0, 0, 0, 0, 0, 0, 0, 0, 0, 0, 0, -0.020452493612976158, -0.8818631646522483, -0.7711820602808892, -0.9487357777998824, -1.4213703264467412, -0.4399554392486662, -0.4056826381785026, -0.9150129579846986, -1.6140696328958768, -0.5568268238565466, -1.375807958782481, -1.6406263563528594, -0.7005417623645993, -0.7588474150199653, -0.8674717169280903, -0.6434594387350785, -0.5972281163166304, -0.2971441679013189, -1.131678862951917, -0.9439967766187358, 0.30138944339220247, 14.447138495233379, 17.133536773038767, 23.873933871825848, 47.07431151863267, 6.868426718219348, 11.28962344646875, 15.926966035720671, 25.620636817589837, 12.343492806803907, 33.832253671220904, 21.02224242039371, 18.251446602681415, 6.736885894918044, 17.10943452342623, 27.9748438362078, 12.161278032864185, 20.058930569808997, 15.892500607811858, 23.918393839306336, 0.20785767484243195, 11.580562978002707, 12.65246338336382, 18.13137904779085, 40.6756880998976, 4.902629075542858, 8.679403786655028, 12.12168422901932, 16.722217682227058, 10.369057642567432, 25.618236135908, 11.880562907975433, 13.726952769419416, 4.377736125803392, 11.522929845012493, 22.585518407444543, 8.520555520450024, 17.551554697830166, 9.773107702887604, 16.4889172187381, 31.49606585743598, 40.75787266598547, 31.515837137130788, 38.268146188583636, 39.63654345141928, 29.353244077331127, 34.172206451642936, 31.193525933689585, 39.279383962562555, 43.939457146361555, 50.45942025976826, 28.811061359522768, 38.473466881097494, 29.187672047437303, 47.575054630140535, 51.526147002283956, 40.03236282197794, 42.127078471619505, 27.39301069855594, 47.26080885927763, 33.92459397290857, 38.74045461843595, 37.55881892289913, 37.991730632843264, 38.464007330807306, 33.26490853653205, 38.77613401406361, 32.164482438399105, 37.05564486450191, 41.78479242282245, 44.7471150975449, 31.170870241362763, 40.193554275159165, 31.966109446404758, 43.3067882904827, 47.17198429568016, 38.92199020363709, 44.681466064283406, 30.290911598349325, 43.056371778960596, -80.8536224055607, -75.65422607920051, -127.14268255261462, -30.409184139503896, -41.03398101943082, -86.72584704930689, -117.00780481419282, -49.04010626546981, -53.61378773347903, -119.32591551345733, 46.027668919136964, -79.24987671463666, -73.46901235844958, -106.88527950447616, 82.71274259340481, 134.5406311387055, -17.244016078150157, -60.40246610568071, -66.36141912834123, 38.09238567828317, -113.94835115159395, -113.49195076434613, -163.9730827555351, -85.61580405562789, -103.76164343640589, -165.1647079640629, -167.42339042324502, -104.25161561240574, -72.01000963971272, -69.94568671067161, -13.005693571454806, -131.62925859549833, -135.88968386783722, -139.61181881363342, -38.88008997415569, -5.44953716889598, -75.49956236734423, -115.10779216500488, -125.41498792646985, -46.68590815739976, 57.91550111706303, 35.06094609860791, 41.51197050597828, 49.38853415190323, 44.19302076358617, 49.11600983397038, 44.87515851123151, 52.29831071936057, 25.236901507070712, 42.501638984824986, 20.442329934901174, 54.95029910028892, 58.12581965209153, 44.16902136032771, 33.6613057103865, 26.378651481082944, 32.63370341221, 2.0722375627135596, 65.25619909924198, 25.507009310819935, 0.2546235591173172, 13.013850736618043, 14.893000078201293, 21.00265645980835, 43.874999809265134, 5.885527896881103, 9.98451361656189, 14.024325132369995, 21.171427249908447, 11.35627522468567, 29.72524490356445, 16.45140266418457, 15.989199686050416, 5.557311010360718, 14.316182184219361, 25.28018112182617, 10.340916776657105, 18.80524263381958, 12.83280415534973, 20.203655529022218, 0.310084622601668, 16.112021859486898, 16.854166634877522, 22.50246524810791, 47.62249984741211, 6.949038036664327, 10.877751445770263, 16.40534397761027, 25.39860143661499, 14.321387275060017, 33.493645985921226, 18.981015745798747, 16.52429674466451, 8.270940367380778, 15.886160278320313, 26.56371898651123, 11.285845200220743, 18.99053560892741, 14.522728331883748, 21.34872843424479, 0.3408325341840585, 17.493367290496828, 15.636249987284343, 21.792798550923667, 47.806083329518636, 7.718608713150024, 11.40808825492859, 17.507803853352865, 28.91669003168742, 16.765136949221294, 35.22534624735514, 19.07748425801595, 17.5707790295283, 11.530921204884846, 17.21947333017985, 26.20054093996684, 12.125670377413432, 17.534190901120503, 15.520756713549297, 22.111502170562744, 0.2511169657351134, 13.084344112303098, 15.019123055742405, 20.617877991127415, 43.87818052970424, 5.8317107112751385, 9.950942391906539, 13.935939153618161, 20.921733138634206, 11.672446971797267, 29.67425775924171, 15.835884119455354, 15.649851636989121, 5.7771430476194325, 14.087364880569625, 25.16779131799461, 10.121600926078154, 18.676196070635402, 12.450402097566485, 19.714263964237087, 0.2940956395139025, 15.207851459082415, 15.850249885045015, 21.717709836240175, 46.239513389796834, 6.712403943049436, 10.684088889990543, 15.716951721625842, 24.528629628481806, 13.751531166584853, 32.51116468098689, 18.049378718664876, 16.57557431597955, 8.015659121245362, 15.606950631643006, 26.007940592021708, 11.100401774233601, 18.596707259696448, 14.107919922123687, 21.043271737127185, 0.31709728823244976, 16.418283556257418, 15.317153071835808, 21.536128992015755, 47.10858407911624, 7.4860229222101315, 11.409700590811667, 16.6995307713312, 27.051339335715575, 15.604686021393283, 33.84204074057767, 19.04262018097883, 17.41433182350244, 10.329409116144056, 16.689844066422083, 25.70387658877824, 11.885115692599125, 17.742042361104158, 15.200961807646857, 21.57409019277752]\n",
      "Logging to tensorboard_log/ddpg\\ppo_2\n",
      "[1000000, 38.39591979980469, 226.24000549316406, 1501.969970703125, 23.346698760986328, 204.17999267578125, 32.51496124267578, 40.123985290527344, 108.32612609863281, 162.39141845703125, 44.13541793823242, 120.67992401123047, 90.1629638671875, 98.58563232421875, 132.7157745361328, 37.58075714111328, 86.1761703491211, 24.279356002807617, 240.15750122070312, 50.585201263427734, 58.40364074707031, 0, 0, 0, 0, 0, 0, 0, 0, 0, 0, 0, 0, 0, 0, 0, 0, 0, 0, 0, 0, -2.141041777965299, -5.676368887152876, -53.443770397858316, -0.7670631267137757, -3.2557177528346415, -0.8954391581344154, -0.9799449674846201, -1.8656878145195321, -2.2328399684980695, -0.32983955379442875, -4.076795703828779, -2.889179649527293, -1.9850592357367844, -12.202282769826184, -0.31164924659512394, -0.15894413380489425, -0.5432299344854066, -6.482025623390342, -0.7203707316276251, -2.482863766377193, 44.89222937062556, 262.20470153717605, 1797.9009431978748, 26.367951753238582, 218.04005191465728, 37.59954298378438, 46.440731803909486, 116.00920992712996, 172.4240122123915, 47.093767508572164, 145.22536353340837, 102.4620881119523, 110.78141739278493, 167.42572905088437, 40.01830623171273, 90.78252295362708, 27.100204085520716, 280.5934039928997, 54.11099439069579, 71.25044242697712, 35.42519998118108, 203.38929870696455, 1334.0580533841567, 20.889554426570985, 185.90494778016694, 30.878679672465616, 36.988087089523134, 101.20333890099504, 150.74925286329213, 41.39900478451866, 109.78661232718733, 83.03143300621177, 92.50183456034006, 120.17183946107852, 34.950357937598795, 82.91795693528894, 23.196514511891394, 220.07980462526433, 47.78192667558839, 54.73835189980511, 40.05198399598473, 48.288588746884116, 46.829502948154214, 47.234502689961225, 55.799454763083375, 34.370129270336946, 44.81420269655638, 51.790523925945735, 53.85213516908239, 51.77098906543078, 38.58482885384743, 42.286536819060096, 45.923415125765295, 36.319803383522526, 55.204917482069284, 50.10102071902688, 40.94730582128145, 43.38843054022748, 50.05479021363582, 32.28444716063369, 37.07286549608894, 46.33041882455676, 44.626806706311214, 41.58036500068466, 49.2686391729418, 38.8964314055458, 44.646069090088126, 47.92390439089763, 47.997120064336194, 50.15356817762445, 38.911179232144015, 39.77012331371225, 45.51118325534088, 35.30789071251458, 51.59010955435106, 51.770600831110286, 41.000698401214294, 43.20581299345294, 48.31562910418155, 34.32998372216943, 5.376829070193473, 72.40890246367468, 47.59956158333815, 82.5502547933921, 138.35683718532644, -54.343674507391995, 31.75048050669081, 50.42892778615316, 95.42266448759226, 59.90835424393008, 39.981918066524244, 41.720259006937965, 22.49100871230731, -17.672433583353193, 119.28707725417543, 26.167395809780924, -26.832304995255438, 29.803305900835014, 59.87127372062796, -37.01761359053224, -62.95402120841412, -39.07871545940025, -43.679125415314054, -21.8402469393639, 14.191908727189675, -93.41973481831094, -54.40201469236847, -26.085081965271012, 12.183516888818977, -7.818419134460305, -59.12364659523848, -49.2665758913971, -55.228662702649636, -74.92470938728889, -2.876134446130364, -39.47713636396225, -81.19678289020378, -53.841647686680204, -37.50901075535942, -82.83515907480984, 39.21273713115692, 12.994838898480712, 22.696715415975007, 13.736555054328514, 2.953389122200213, 27.902797812511558, 24.349465497595983, 13.997383580478868, 1.9913665820095818, 1.8729404826432607, 38.63512730261832, 22.315559742186643, 16.71149438381473, 36.01614788564214, 6.498120288227792, 8.013845497751616, 28.007606988279743, 22.914261916465172, 14.948583054220851, 38.68347837075397, 40.15871467590332, 232.7970001220703, 1565.9794982910157, 23.628753089904784, 201.9724998474121, 34.239111328125, 41.71440944671631, 108.6062744140625, 161.5866325378418, 44.24638614654541, 127.50598793029785, 92.74676055908203, 101.6416259765625, 143.79878425598145, 37.48433208465576, 86.85023994445801, 25.148359298706055, 250.33660430908202, 50.94646053314209, 62.99439716339111, 46.69040864308675, 239.84166666666667, 1647.0581705729167, 25.476784006754556, 208.54016749064127, 34.721071529388425, 42.22139949798584, 111.52368125915527, 167.6039156595866, 43.884673500061034, 129.9336203257243, 98.05444679260253, 103.3557736714681, 185.31762631734213, 37.520247840881346, 83.96607894897461, 26.073816363016764, 253.82371215820314, 51.14293855031331, 66.56452528635661, 48.9582116762797, 249.80199966430663, 1774.4618367513021, 27.12471292813619, 207.97141749064127, 34.17932292620341, 41.99293937683105, 110.75350697835286, 178.4878739674886, 44.509608364105226, 127.02341302235921, 101.48819834391276, 104.52121550242106, 223.2016009648641, 36.29720401763916, 80.13823388417562, 26.656192938486736, 252.29484774271648, 49.23769283294678, 67.87399905522665, 40.04758354386593, 228.4395965660175, 1530.1757258368561, 23.584451065658556, 201.53623367075622, 33.7751012123848, 40.90850118827689, 107.89340959351534, 160.77742476045518, 43.90578047353723, 124.89444206500912, 92.12981895486607, 100.23023825071512, 143.33452181791458, 37.115808254214336, 86.1611926561447, 24.8584039250003, 245.46322110733476, 50.62885599002832, 61.816170159753376, 44.66268963472359, 238.46887726826367, 1635.485772954585, 25.209284753779816, 206.4079366520924, 34.448059623441615, 41.910842118772045, 110.05344598439336, 167.70998042141247, 44.19126502623335, 128.2306088403867, 96.95326635447339, 102.69312859190937, 177.7651095381264, 37.132954335438555, 84.24098365612112, 25.801779436120466, 251.4370629888189, 50.68441156962193, 65.38410172248817, 46.436410821906605, 241.3383112213541, 1677.5222787731277, 26.27897972405847, 206.13325673848735, 34.1497723695985, 41.651466900995025, 109.35324194651628, 172.59762516992996, 44.56612541367987, 126.81120186731206, 99.08638449002554, 102.06493251079857, 203.27407734489086, 36.07251721804503, 81.23024704486006, 26.458372649521234, 248.95207274534806, 49.26067608982605, 66.71880747623682]\n"
     ]
    },
    {
     "name": "stdout",
     "output_type": "stream",
     "text": [
      "[1000000, 38.39591979980469, 226.24000549316406, 1501.969970703125, 23.346698760986328, 204.17999267578125, 32.51496124267578, 40.123985290527344, 108.32612609863281, 162.39141845703125, 44.13541793823242, 120.67992401123047, 90.1629638671875, 98.58563232421875, 132.7157745361328, 37.58075714111328, 86.1761703491211, 24.279356002807617, 240.15750122070312, 50.585201263427734, 58.40364074707031, 0, 0, 0, 0, 0, 0, 0, 0, 0, 0, 0, 0, 0, 0, 0, 0, 0, 0, 0, 0, -2.141041777965299, -5.676368887152876, -53.443770397858316, -0.7670631267137757, -3.2557177528346415, -0.8954391581344154, -0.9799449674846201, -1.8656878145195321, -2.2328399684980695, -0.32983955379442875, -4.076795703828779, -2.889179649527293, -1.9850592357367844, -12.202282769826184, -0.31164924659512394, -0.15894413380489425, -0.5432299344854066, -6.482025623390342, -0.7203707316276251, -2.482863766377193, 44.89222937062556, 262.20470153717605, 1797.9009431978748, 26.367951753238582, 218.04005191465728, 37.59954298378438, 46.440731803909486, 116.00920992712996, 172.4240122123915, 47.093767508572164, 145.22536353340837, 102.4620881119523, 110.78141739278493, 167.42572905088437, 40.01830623171273, 90.78252295362708, 27.100204085520716, 280.5934039928997, 54.11099439069579, 71.25044242697712, 35.42519998118108, 203.38929870696455, 1334.0580533841567, 20.889554426570985, 185.90494778016694, 30.878679672465616, 36.988087089523134, 101.20333890099504, 150.74925286329213, 41.39900478451866, 109.78661232718733, 83.03143300621177, 92.50183456034006, 120.17183946107852, 34.950357937598795, 82.91795693528894, 23.196514511891394, 220.07980462526433, 47.78192667558839, 54.73835189980511, 40.05198399598473, 48.288588746884116, 46.829502948154214, 47.234502689961225, 55.799454763083375, 34.370129270336946, 44.81420269655638, 51.790523925945735, 53.85213516908239, 51.77098906543078, 38.58482885384743, 42.286536819060096, 45.923415125765295, 36.319803383522526, 55.204917482069284, 50.10102071902688, 40.94730582128145, 43.38843054022748, 50.05479021363582, 32.28444716063369, 37.07286549608894, 46.33041882455676, 44.626806706311214, 41.58036500068466, 49.2686391729418, 38.8964314055458, 44.646069090088126, 47.92390439089763, 47.997120064336194, 50.15356817762445, 38.911179232144015, 39.77012331371225, 45.51118325534088, 35.30789071251458, 51.59010955435106, 51.770600831110286, 41.000698401214294, 43.20581299345294, 48.31562910418155, 34.32998372216943, 5.376829070193473, 72.40890246367468, 47.59956158333815, 82.5502547933921, 138.35683718532644, -54.343674507391995, 31.75048050669081, 50.42892778615316, 95.42266448759226, 59.90835424393008, 39.981918066524244, 41.720259006937965, 22.49100871230731, -17.672433583353193, 119.28707725417543, 26.167395809780924, -26.832304995255438, 29.803305900835014, 59.87127372062796, -37.01761359053224, -62.95402120841412, -39.07871545940025, -43.679125415314054, -21.8402469393639, 14.191908727189675, -93.41973481831094, -54.40201469236847, -26.085081965271012, 12.183516888818977, -7.818419134460305, -59.12364659523848, -49.2665758913971, -55.228662702649636, -74.92470938728889, -2.876134446130364, -39.47713636396225, -81.19678289020378, -53.841647686680204, -37.50901075535942, -82.83515907480984, 39.21273713115692, 12.994838898480712, 22.696715415975007, 13.736555054328514, 2.953389122200213, 27.902797812511558, 24.349465497595983, 13.997383580478868, 1.9913665820095818, 1.8729404826432607, 38.63512730261832, 22.315559742186643, 16.71149438381473, 36.01614788564214, 6.498120288227792, 8.013845497751616, 28.007606988279743, 22.914261916465172, 14.948583054220851, 38.68347837075397, 40.15871467590332, 232.7970001220703, 1565.9794982910157, 23.628753089904784, 201.9724998474121, 34.239111328125, 41.71440944671631, 108.6062744140625, 161.5866325378418, 44.24638614654541, 127.50598793029785, 92.74676055908203, 101.6416259765625, 143.79878425598145, 37.48433208465576, 86.85023994445801, 25.148359298706055, 250.33660430908202, 50.94646053314209, 62.99439716339111, 46.69040864308675, 239.84166666666667, 1647.0581705729167, 25.476784006754556, 208.54016749064127, 34.721071529388425, 42.22139949798584, 111.52368125915527, 167.6039156595866, 43.884673500061034, 129.9336203257243, 98.05444679260253, 103.3557736714681, 185.31762631734213, 37.520247840881346, 83.96607894897461, 26.073816363016764, 253.82371215820314, 51.14293855031331, 66.56452528635661, 48.9582116762797, 249.80199966430663, 1774.4618367513021, 27.12471292813619, 207.97141749064127, 34.17932292620341, 41.99293937683105, 110.75350697835286, 178.4878739674886, 44.509608364105226, 127.02341302235921, 101.48819834391276, 104.52121550242106, 223.2016009648641, 36.29720401763916, 80.13823388417562, 26.656192938486736, 252.29484774271648, 49.23769283294678, 67.87399905522665, 40.04758354386593, 228.4395965660175, 1530.1757258368561, 23.584451065658556, 201.53623367075622, 33.7751012123848, 40.90850118827689, 107.89340959351534, 160.77742476045518, 43.90578047353723, 124.89444206500912, 92.12981895486607, 100.23023825071512, 143.33452181791458, 37.115808254214336, 86.1611926561447, 24.8584039250003, 245.46322110733476, 50.62885599002832, 61.816170159753376, 44.66268963472359, 238.46887726826367, 1635.485772954585, 25.209284753779816, 206.4079366520924, 34.448059623441615, 41.910842118772045, 110.05344598439336, 167.70998042141247, 44.19126502623335, 128.2306088403867, 96.95326635447339, 102.69312859190937, 177.7651095381264, 37.132954335438555, 84.24098365612112, 25.801779436120466, 251.4370629888189, 50.68441156962193, 65.38410172248817, 46.436410821906605, 241.3383112213541, 1677.5222787731277, 26.27897972405847, 206.13325673848735, 34.1497723695985, 41.651466900995025, 109.35324194651628, 172.59762516992996, 44.56612541367987, 126.81120186731206, 99.08638449002554, 102.06493251079857, 203.27407734489086, 36.07251721804503, 81.23024704486006, 26.458372649521234, 248.95207274534806, 49.26067608982605, 66.71880747623682]\n",
      "[1000000, 38.39591979980469, 226.24000549316406, 1501.969970703125, 23.346698760986328, 204.17999267578125, 32.51496124267578, 40.123985290527344, 108.32612609863281, 162.39141845703125, 44.13541793823242, 120.67992401123047, 90.1629638671875, 98.58563232421875, 132.7157745361328, 37.58075714111328, 86.1761703491211, 24.279356002807617, 240.15750122070312, 50.585201263427734, 58.40364074707031, 0, 0, 0, 0, 0, 0, 0, 0, 0, 0, 0, 0, 0, 0, 0, 0, 0, 0, 0, 0, -2.141041777965299, -5.676368887152876, -53.443770397858316, -0.7670631267137757, -3.2557177528346415, -0.8954391581344154, -0.9799449674846201, -1.8656878145195321, -2.2328399684980695, -0.32983955379442875, -4.076795703828779, -2.889179649527293, -1.9850592357367844, -12.202282769826184, -0.31164924659512394, -0.15894413380489425, -0.5432299344854066, -6.482025623390342, -0.7203707316276251, -2.482863766377193, 44.89222937062556, 262.20470153717605, 1797.9009431978748, 26.367951753238582, 218.04005191465728, 37.59954298378438, 46.440731803909486, 116.00920992712996, 172.4240122123915, 47.093767508572164, 145.22536353340837, 102.4620881119523, 110.78141739278493, 167.42572905088437, 40.01830623171273, 90.78252295362708, 27.100204085520716, 280.5934039928997, 54.11099439069579, 71.25044242697712, 35.42519998118108, 203.38929870696455, 1334.0580533841567, 20.889554426570985, 185.90494778016694, 30.878679672465616, 36.988087089523134, 101.20333890099504, 150.74925286329213, 41.39900478451866, 109.78661232718733, 83.03143300621177, 92.50183456034006, 120.17183946107852, 34.950357937598795, 82.91795693528894, 23.196514511891394, 220.07980462526433, 47.78192667558839, 54.73835189980511, 40.05198399598473, 48.288588746884116, 46.829502948154214, 47.234502689961225, 55.799454763083375, 34.370129270336946, 44.81420269655638, 51.790523925945735, 53.85213516908239, 51.77098906543078, 38.58482885384743, 42.286536819060096, 45.923415125765295, 36.319803383522526, 55.204917482069284, 50.10102071902688, 40.94730582128145, 43.38843054022748, 50.05479021363582, 32.28444716063369, 37.07286549608894, 46.33041882455676, 44.626806706311214, 41.58036500068466, 49.2686391729418, 38.8964314055458, 44.646069090088126, 47.92390439089763, 47.997120064336194, 50.15356817762445, 38.911179232144015, 39.77012331371225, 45.51118325534088, 35.30789071251458, 51.59010955435106, 51.770600831110286, 41.000698401214294, 43.20581299345294, 48.31562910418155, 34.32998372216943, 5.376829070193473, 72.40890246367468, 47.59956158333815, 82.5502547933921, 138.35683718532644, -54.343674507391995, 31.75048050669081, 50.42892778615316, 95.42266448759226, 59.90835424393008, 39.981918066524244, 41.720259006937965, 22.49100871230731, -17.672433583353193, 119.28707725417543, 26.167395809780924, -26.832304995255438, 29.803305900835014, 59.87127372062796, -37.01761359053224, -62.95402120841412, -39.07871545940025, -43.679125415314054, -21.8402469393639, 14.191908727189675, -93.41973481831094, -54.40201469236847, -26.085081965271012, 12.183516888818977, -7.818419134460305, -59.12364659523848, -49.2665758913971, -55.228662702649636, -74.92470938728889, -2.876134446130364, -39.47713636396225, -81.19678289020378, -53.841647686680204, -37.50901075535942, -82.83515907480984, 39.21273713115692, 12.994838898480712, 22.696715415975007, 13.736555054328514, 2.953389122200213, 27.902797812511558, 24.349465497595983, 13.997383580478868, 1.9913665820095818, 1.8729404826432607, 38.63512730261832, 22.315559742186643, 16.71149438381473, 36.01614788564214, 6.498120288227792, 8.013845497751616, 28.007606988279743, 22.914261916465172, 14.948583054220851, 38.68347837075397, 40.15871467590332, 232.7970001220703, 1565.9794982910157, 23.628753089904784, 201.9724998474121, 34.239111328125, 41.71440944671631, 108.6062744140625, 161.5866325378418, 44.24638614654541, 127.50598793029785, 92.74676055908203, 101.6416259765625, 143.79878425598145, 37.48433208465576, 86.85023994445801, 25.148359298706055, 250.33660430908202, 50.94646053314209, 62.99439716339111, 46.69040864308675, 239.84166666666667, 1647.0581705729167, 25.476784006754556, 208.54016749064127, 34.721071529388425, 42.22139949798584, 111.52368125915527, 167.6039156595866, 43.884673500061034, 129.9336203257243, 98.05444679260253, 103.3557736714681, 185.31762631734213, 37.520247840881346, 83.96607894897461, 26.073816363016764, 253.82371215820314, 51.14293855031331, 66.56452528635661, 48.9582116762797, 249.80199966430663, 1774.4618367513021, 27.12471292813619, 207.97141749064127, 34.17932292620341, 41.99293937683105, 110.75350697835286, 178.4878739674886, 44.509608364105226, 127.02341302235921, 101.48819834391276, 104.52121550242106, 223.2016009648641, 36.29720401763916, 80.13823388417562, 26.656192938486736, 252.29484774271648, 49.23769283294678, 67.87399905522665, 40.04758354386593, 228.4395965660175, 1530.1757258368561, 23.584451065658556, 201.53623367075622, 33.7751012123848, 40.90850118827689, 107.89340959351534, 160.77742476045518, 43.90578047353723, 124.89444206500912, 92.12981895486607, 100.23023825071512, 143.33452181791458, 37.115808254214336, 86.1611926561447, 24.8584039250003, 245.46322110733476, 50.62885599002832, 61.816170159753376, 44.66268963472359, 238.46887726826367, 1635.485772954585, 25.209284753779816, 206.4079366520924, 34.448059623441615, 41.910842118772045, 110.05344598439336, 167.70998042141247, 44.19126502623335, 128.2306088403867, 96.95326635447339, 102.69312859190937, 177.7651095381264, 37.132954335438555, 84.24098365612112, 25.801779436120466, 251.4370629888189, 50.68441156962193, 65.38410172248817, 46.436410821906605, 241.3383112213541, 1677.5222787731277, 26.27897972405847, 206.13325673848735, 34.1497723695985, 41.651466900995025, 109.35324194651628, 172.59762516992996, 44.56612541367987, 126.81120186731206, 99.08638449002554, 102.06493251079857, 203.27407734489086, 36.07251721804503, 81.23024704486006, 26.458372649521234, 248.95207274534806, 49.26067608982605, 66.71880747623682]\n"
     ]
    }
   ],
   "source": [
    "trained_ddpg  = agent.train_model(model=model_ddpg, \n",
    "                             tb_log_name='ppo',\n",
    "                             total_timesteps=10000)"
   ]
  },
  {
   "cell_type": "markdown",
   "metadata": {},
   "source": [
    "### TD3"
   ]
  },
  {
   "cell_type": "code",
   "execution_count": 23,
   "metadata": {},
   "outputs": [
    {
     "name": "stdout",
     "output_type": "stream",
     "text": [
      "{'batch_size': 100, 'buffer_size': 100000, 'learning_rate': 0.001}\n",
      "Using cpu device\n"
     ]
    },
    {
     "ename": "MemoryError",
     "evalue": "Unable to allocate 122. MiB for an array with shape (100000, 1, 321) and data type float32",
     "output_type": "error",
     "traceback": [
      "\u001b[1;31m---------------------------------------------------------------------------\u001b[0m",
      "\u001b[1;31mMemoryError\u001b[0m                               Traceback (most recent call last)",
      "\u001b[1;32m<ipython-input-23-a070b1919d7c>\u001b[0m in \u001b[0;36m<module>\u001b[1;34m\u001b[0m\n\u001b[0;32m      4\u001b[0m               \"learning_rate\": 0.001}\n\u001b[0;32m      5\u001b[0m \u001b[1;33m\u001b[0m\u001b[0m\n\u001b[1;32m----> 6\u001b[1;33m \u001b[0mmodel_td3\u001b[0m \u001b[1;33m=\u001b[0m \u001b[0magent\u001b[0m\u001b[1;33m.\u001b[0m\u001b[0mget_model\u001b[0m\u001b[1;33m(\u001b[0m\u001b[1;34m\"td3\"\u001b[0m\u001b[1;33m,\u001b[0m\u001b[0mmodel_kwargs\u001b[0m \u001b[1;33m=\u001b[0m \u001b[0mTD3_PARAMS\u001b[0m\u001b[1;33m)\u001b[0m\u001b[1;33m\u001b[0m\u001b[1;33m\u001b[0m\u001b[0m\n\u001b[0m",
      "\u001b[1;32mD:\\codes\\python\\RL_stock_trading\\rl\\model\\models.py\u001b[0m in \u001b[0;36mget_model\u001b[1;34m(self, model_name, policy, policy_kwargs, model_kwargs, verbose)\u001b[0m\n\u001b[0;32m    111\u001b[0m             )\n\u001b[0;32m    112\u001b[0m         \u001b[0mprint\u001b[0m\u001b[1;33m(\u001b[0m\u001b[0mmodel_kwargs\u001b[0m\u001b[1;33m)\u001b[0m\u001b[1;33m\u001b[0m\u001b[1;33m\u001b[0m\u001b[0m\n\u001b[1;32m--> 113\u001b[1;33m         model = MODELS[model_name](\n\u001b[0m\u001b[0;32m    114\u001b[0m             \u001b[0mpolicy\u001b[0m\u001b[1;33m=\u001b[0m\u001b[0mpolicy\u001b[0m\u001b[1;33m,\u001b[0m\u001b[1;33m\u001b[0m\u001b[1;33m\u001b[0m\u001b[0m\n\u001b[0;32m    115\u001b[0m             \u001b[0menv\u001b[0m\u001b[1;33m=\u001b[0m\u001b[0mself\u001b[0m\u001b[1;33m.\u001b[0m\u001b[0menv\u001b[0m\u001b[1;33m,\u001b[0m\u001b[1;33m\u001b[0m\u001b[1;33m\u001b[0m\u001b[0m\n",
      "\u001b[1;32mD:\\InstalledSoftware\\anaconda3\\envs\\py37-python-notebook\\lib\\site-packages\\stable_baselines3\\td3\\td3.py\u001b[0m in \u001b[0;36m__init__\u001b[1;34m(self, policy, env, learning_rate, buffer_size, learning_starts, batch_size, tau, gamma, train_freq, gradient_steps, action_noise, optimize_memory_usage, policy_delay, target_policy_noise, target_noise_clip, tensorboard_log, create_eval_env, policy_kwargs, verbose, seed, device, _init_setup_model)\u001b[0m\n\u001b[0;32m    113\u001b[0m \u001b[1;33m\u001b[0m\u001b[0m\n\u001b[0;32m    114\u001b[0m         \u001b[1;32mif\u001b[0m \u001b[0m_init_setup_model\u001b[0m\u001b[1;33m:\u001b[0m\u001b[1;33m\u001b[0m\u001b[1;33m\u001b[0m\u001b[0m\n\u001b[1;32m--> 115\u001b[1;33m             \u001b[0mself\u001b[0m\u001b[1;33m.\u001b[0m\u001b[0m_setup_model\u001b[0m\u001b[1;33m(\u001b[0m\u001b[1;33m)\u001b[0m\u001b[1;33m\u001b[0m\u001b[1;33m\u001b[0m\u001b[0m\n\u001b[0m\u001b[0;32m    116\u001b[0m \u001b[1;33m\u001b[0m\u001b[0m\n\u001b[0;32m    117\u001b[0m     \u001b[1;32mdef\u001b[0m \u001b[0m_setup_model\u001b[0m\u001b[1;33m(\u001b[0m\u001b[0mself\u001b[0m\u001b[1;33m)\u001b[0m \u001b[1;33m->\u001b[0m \u001b[1;32mNone\u001b[0m\u001b[1;33m:\u001b[0m\u001b[1;33m\u001b[0m\u001b[1;33m\u001b[0m\u001b[0m\n",
      "\u001b[1;32mD:\\InstalledSoftware\\anaconda3\\envs\\py37-python-notebook\\lib\\site-packages\\stable_baselines3\\td3\\td3.py\u001b[0m in \u001b[0;36m_setup_model\u001b[1;34m(self)\u001b[0m\n\u001b[0;32m    116\u001b[0m \u001b[1;33m\u001b[0m\u001b[0m\n\u001b[0;32m    117\u001b[0m     \u001b[1;32mdef\u001b[0m \u001b[0m_setup_model\u001b[0m\u001b[1;33m(\u001b[0m\u001b[0mself\u001b[0m\u001b[1;33m)\u001b[0m \u001b[1;33m->\u001b[0m \u001b[1;32mNone\u001b[0m\u001b[1;33m:\u001b[0m\u001b[1;33m\u001b[0m\u001b[1;33m\u001b[0m\u001b[0m\n\u001b[1;32m--> 118\u001b[1;33m         \u001b[0msuper\u001b[0m\u001b[1;33m(\u001b[0m\u001b[0mTD3\u001b[0m\u001b[1;33m,\u001b[0m \u001b[0mself\u001b[0m\u001b[1;33m)\u001b[0m\u001b[1;33m.\u001b[0m\u001b[0m_setup_model\u001b[0m\u001b[1;33m(\u001b[0m\u001b[1;33m)\u001b[0m\u001b[1;33m\u001b[0m\u001b[1;33m\u001b[0m\u001b[0m\n\u001b[0m\u001b[0;32m    119\u001b[0m         \u001b[0mself\u001b[0m\u001b[1;33m.\u001b[0m\u001b[0m_create_aliases\u001b[0m\u001b[1;33m(\u001b[0m\u001b[1;33m)\u001b[0m\u001b[1;33m\u001b[0m\u001b[1;33m\u001b[0m\u001b[0m\n\u001b[0;32m    120\u001b[0m \u001b[1;33m\u001b[0m\u001b[0m\n",
      "\u001b[1;32mD:\\InstalledSoftware\\anaconda3\\envs\\py37-python-notebook\\lib\\site-packages\\stable_baselines3\\common\\off_policy_algorithm.py\u001b[0m in \u001b[0;36m_setup_model\u001b[1;34m(self)\u001b[0m\n\u001b[0;32m    168\u001b[0m         \u001b[0mself\u001b[0m\u001b[1;33m.\u001b[0m\u001b[0m_setup_lr_schedule\u001b[0m\u001b[1;33m(\u001b[0m\u001b[1;33m)\u001b[0m\u001b[1;33m\u001b[0m\u001b[1;33m\u001b[0m\u001b[0m\n\u001b[0;32m    169\u001b[0m         \u001b[0mself\u001b[0m\u001b[1;33m.\u001b[0m\u001b[0mset_random_seed\u001b[0m\u001b[1;33m(\u001b[0m\u001b[0mself\u001b[0m\u001b[1;33m.\u001b[0m\u001b[0mseed\u001b[0m\u001b[1;33m)\u001b[0m\u001b[1;33m\u001b[0m\u001b[1;33m\u001b[0m\u001b[0m\n\u001b[1;32m--> 170\u001b[1;33m         self.replay_buffer = ReplayBuffer(\n\u001b[0m\u001b[0;32m    171\u001b[0m             \u001b[0mself\u001b[0m\u001b[1;33m.\u001b[0m\u001b[0mbuffer_size\u001b[0m\u001b[1;33m,\u001b[0m\u001b[1;33m\u001b[0m\u001b[1;33m\u001b[0m\u001b[0m\n\u001b[0;32m    172\u001b[0m             \u001b[0mself\u001b[0m\u001b[1;33m.\u001b[0m\u001b[0mobservation_space\u001b[0m\u001b[1;33m,\u001b[0m\u001b[1;33m\u001b[0m\u001b[1;33m\u001b[0m\u001b[0m\n",
      "\u001b[1;32mD:\\InstalledSoftware\\anaconda3\\envs\\py37-python-notebook\\lib\\site-packages\\stable_baselines3\\common\\buffers.py\u001b[0m in \u001b[0;36m__init__\u001b[1;34m(self, buffer_size, observation_space, action_space, device, n_envs, optimize_memory_usage)\u001b[0m\n\u001b[0;32m    183\u001b[0m             \u001b[0mself\u001b[0m\u001b[1;33m.\u001b[0m\u001b[0mnext_observations\u001b[0m \u001b[1;33m=\u001b[0m \u001b[1;32mNone\u001b[0m\u001b[1;33m\u001b[0m\u001b[1;33m\u001b[0m\u001b[0m\n\u001b[0;32m    184\u001b[0m         \u001b[1;32melse\u001b[0m\u001b[1;33m:\u001b[0m\u001b[1;33m\u001b[0m\u001b[1;33m\u001b[0m\u001b[0m\n\u001b[1;32m--> 185\u001b[1;33m             \u001b[0mself\u001b[0m\u001b[1;33m.\u001b[0m\u001b[0mnext_observations\u001b[0m \u001b[1;33m=\u001b[0m \u001b[0mnp\u001b[0m\u001b[1;33m.\u001b[0m\u001b[0mzeros\u001b[0m\u001b[1;33m(\u001b[0m\u001b[1;33m(\u001b[0m\u001b[0mself\u001b[0m\u001b[1;33m.\u001b[0m\u001b[0mbuffer_size\u001b[0m\u001b[1;33m,\u001b[0m \u001b[0mself\u001b[0m\u001b[1;33m.\u001b[0m\u001b[0mn_envs\u001b[0m\u001b[1;33m)\u001b[0m \u001b[1;33m+\u001b[0m \u001b[0mself\u001b[0m\u001b[1;33m.\u001b[0m\u001b[0mobs_shape\u001b[0m\u001b[1;33m,\u001b[0m \u001b[0mdtype\u001b[0m\u001b[1;33m=\u001b[0m\u001b[0mobservation_space\u001b[0m\u001b[1;33m.\u001b[0m\u001b[0mdtype\u001b[0m\u001b[1;33m)\u001b[0m\u001b[1;33m\u001b[0m\u001b[1;33m\u001b[0m\u001b[0m\n\u001b[0m\u001b[0;32m    186\u001b[0m         \u001b[0mself\u001b[0m\u001b[1;33m.\u001b[0m\u001b[0mactions\u001b[0m \u001b[1;33m=\u001b[0m \u001b[0mnp\u001b[0m\u001b[1;33m.\u001b[0m\u001b[0mzeros\u001b[0m\u001b[1;33m(\u001b[0m\u001b[1;33m(\u001b[0m\u001b[0mself\u001b[0m\u001b[1;33m.\u001b[0m\u001b[0mbuffer_size\u001b[0m\u001b[1;33m,\u001b[0m \u001b[0mself\u001b[0m\u001b[1;33m.\u001b[0m\u001b[0mn_envs\u001b[0m\u001b[1;33m,\u001b[0m \u001b[0mself\u001b[0m\u001b[1;33m.\u001b[0m\u001b[0maction_dim\u001b[0m\u001b[1;33m)\u001b[0m\u001b[1;33m,\u001b[0m \u001b[0mdtype\u001b[0m\u001b[1;33m=\u001b[0m\u001b[0maction_space\u001b[0m\u001b[1;33m.\u001b[0m\u001b[0mdtype\u001b[0m\u001b[1;33m)\u001b[0m\u001b[1;33m\u001b[0m\u001b[1;33m\u001b[0m\u001b[0m\n\u001b[0;32m    187\u001b[0m         \u001b[0mself\u001b[0m\u001b[1;33m.\u001b[0m\u001b[0mrewards\u001b[0m \u001b[1;33m=\u001b[0m \u001b[0mnp\u001b[0m\u001b[1;33m.\u001b[0m\u001b[0mzeros\u001b[0m\u001b[1;33m(\u001b[0m\u001b[1;33m(\u001b[0m\u001b[0mself\u001b[0m\u001b[1;33m.\u001b[0m\u001b[0mbuffer_size\u001b[0m\u001b[1;33m,\u001b[0m \u001b[0mself\u001b[0m\u001b[1;33m.\u001b[0m\u001b[0mn_envs\u001b[0m\u001b[1;33m)\u001b[0m\u001b[1;33m,\u001b[0m \u001b[0mdtype\u001b[0m\u001b[1;33m=\u001b[0m\u001b[0mnp\u001b[0m\u001b[1;33m.\u001b[0m\u001b[0mfloat32\u001b[0m\u001b[1;33m)\u001b[0m\u001b[1;33m\u001b[0m\u001b[1;33m\u001b[0m\u001b[0m\n",
      "\u001b[1;31mMemoryError\u001b[0m: Unable to allocate 122. MiB for an array with shape (100000, 1, 321) and data type float32"
     ]
    }
   ],
   "source": [
    "agent = DRLAgent(env = env_train)\n",
    "TD3_PARAMS = {\"batch_size\": 100, \n",
    "              \"buffer_size\": 100000, \n",
    "              \"learning_rate\": 0.001}\n",
    "\n",
    "model_td3 = agent.get_model(\"td3\",model_kwargs = TD3_PARAMS)"
   ]
  },
  {
   "cell_type": "code",
   "execution_count": null,
   "metadata": {},
   "outputs": [],
   "source": [
    "trained_td3 = agent.train_model(model=model_td3, \n",
    "                             tb_log_name='td3',\n",
    "                             total_timesteps=10000)"
   ]
  },
  {
   "cell_type": "markdown",
   "metadata": {},
   "source": [
    "### SAC"
   ]
  },
  {
   "cell_type": "code",
   "execution_count": null,
   "metadata": {},
   "outputs": [],
   "source": [
    "agent = DRLAgent(env = env_train)\n",
    "SAC_PARAMS = {\n",
    "    \"batch_size\": 128,\n",
    "    \"buffer_size\": 1000000,\n",
    "    \"learning_rate\": 0.0001,\n",
    "    \"learning_starts\": 100,\n",
    "    \"ent_coef\": \"auto_0.1\",\n",
    "}\n",
    "\n",
    "model_sac = agent.get_model(\"sac\",model_kwargs = SAC_PARAMS)"
   ]
  },
  {
   "cell_type": "code",
   "execution_count": null,
   "metadata": {},
   "outputs": [],
   "source": [
    "trained_sac = agent.train_model(model=model_sac, \n",
    "                             tb_log_name='sac',\n",
    "                             total_timesteps=10000)"
   ]
  },
  {
   "cell_type": "markdown",
   "metadata": {
    "id": "f2wZgkQXh1jE"
   },
   "source": [
    "## Evaluation"
   ]
  },
  {
   "cell_type": "markdown",
   "metadata": {
    "id": "U5mmgQF_h1jQ"
   },
   "source": [
    "### Build Evaluation Env\n",
    "\n",
    "DRL model needs to update periodically in order to take full advantage of the data, ideally we need to retrain our model yearly, quarterly, or monthly. We also need to tune the parameters along the way, in this notebook I only use the in-sample data from 2009-01 to 2018-12 to tune the parameters once, so there is some alpha decay here as the length of trade date extends. \n",
    "\n",
    "Numerous hyperparameters – e.g. the learning rate, the total number of samples to train on – influence the learning process and are usually determined by testing some variations."
   ]
  },
  {
   "cell_type": "code",
   "execution_count": null,
   "metadata": {
    "id": "cIqoV0GSI52v"
   },
   "outputs": [],
   "source": [
    "training_gym = StockTradingEnv(df=train, **env_params)\n",
    "evaluation_gym = StockTradingEnv(df=evaluate, **env_params)"
   ]
  },
  {
   "cell_type": "markdown",
   "metadata": {},
   "source": [
    "### Prediction"
   ]
  },
  {
   "cell_type": "code",
   "execution_count": null,
   "metadata": {
    "colab": {
     "base_uri": "https://localhost:8080/"
    },
    "id": "eLOnL5eYh1jR",
    "outputId": "f9c2b3bf-cdfb-45f4-dbbf-2451163da1cc",
    "scrolled": true
   },
   "outputs": [],
   "source": [
    "df_value, df_actions = dict(), dict()\n",
    "df_value['training_a2c'], df_actions['training_a2c'] = DRLAgent.DRL_prediction(trained_a2c, training_gym)\n",
    "df_value['training_ppo'], df_actions['training_ppo'] = DRLAgent.DRL_prediction(trained_ppo, training_gym)\n",
    "df_value['training_ddpg'], df_actions['training_ddpg'] = DRLAgent.DRL_prediction(trained_ddpg, training_gym)\n",
    "df_value['evaluation_a2c'], df_actions['evaluation_a2c'] = DRLAgent.DRL_prediction(trained_a2c, evaluation_gym)\n",
    "df_value['evaluation_ppo'], df_actions['evaluation_ppo'] = DRLAgent.DRL_prediction(trained_ppo, evaluation_gym)\n",
    "df_value['evaluation_ddpg'], df_actions['evaluation_ddpg'] = DRLAgent.DRL_prediction(trained_ddpg, evaluation_gym)"
   ]
  },
  {
   "cell_type": "code",
   "execution_count": null,
   "metadata": {},
   "outputs": [],
   "source": [
    "df_value['evaluation_a2c'].tail()\n",
    "df_actions['evaluation_a2c'].tail()"
   ]
  },
  {
   "cell_type": "markdown",
   "metadata": {
    "id": "W6vvNSC6h1jZ"
   },
   "source": [
    "### Evaluation\n",
    "Backtesting plays a key role in evaluating the performance of a trading strategy. Automated backtesting tool is preferred because it reduces the human error. We usually use the Quantopian pyfolio package to backtest our trading strategies. It is easy to use and consists of various individual plots that provide a comprehensive image of the performance of a trading strategy."
   ]
  },
  {
   "cell_type": "code",
   "execution_count": null,
   "metadata": {},
   "outputs": [],
   "source": [
    "training_backtesting_list=['training_a2c','training_ppo']\n",
    "evaluation_backtesting_list=['evaluation_a2c','evaluation_ppo']"
   ]
  },
  {
   "cell_type": "code",
   "execution_count": null,
   "metadata": {
    "colab": {
     "base_uri": "https://localhost:8080/"
    },
    "id": "Nzkr9yv-AdV_",
    "outputId": "bd56925d-7d32-479a-da1f-8606dff1b0f8"
   },
   "outputs": [],
   "source": [
    "local_time = datetime.datetime.now().strftime('%Y%m%d-%Hh%M')\n",
    "\n",
    "def backtest(df_value, model_name):\n",
    "    print(\"\\n{} performance backtest:\\n\".format(model_name))\n",
    "    perf_stats = backtest_stats(account_value=df_value)\n",
    "    perf_stats = pd.DataFrame(perf_stats)\n",
    "    perf_stats.to_csv(\"./\"+config.RESULTS_DIR+\"/perf_stats_\"+model_name+\"_\"+local_time+'.csv')\n",
    "    return perf_stats\n",
    "\n",
    "perf_stats_all = dict()\n",
    "\n",
    "print(\"================Training Period Perf================\")\n",
    "for model_name in training_backtesting_list:\n",
    "    perf_stats = backtest(df_value[model_name], model_name)\n",
    "    perf_stats_all[model_name] = perf_stats\n",
    "print()\n",
    "print(\"================Evaluation Period Perf================\")\n",
    "for model_name in evaluation_backtesting_list:\n",
    "    perf_stats = backtest(df_value[model_name], model_name)\n",
    "    perf_stats_all[model_name] = perf_stats"
   ]
  },
  {
   "cell_type": "code",
   "execution_count": null,
   "metadata": {
    "colab": {
     "base_uri": "https://localhost:8080/"
    },
    "id": "QkV-LB66iwhD",
    "outputId": "061ac7da-3c70-4790-cd95-7627855bbe21"
   },
   "outputs": [],
   "source": [
    "# get baseline stats\n",
    "print(\"baseline performance backtest:\")\n",
    "training_baseline_df = get_baseline(ticker=\"SPY\", start=start_date,end=split_date)\n",
    "evaluation_baseline_df = get_baseline(ticker=\"SPY\", start=split_date,end=end_date)\n",
    "\n",
    "print()\n",
    "print(\"================Training Period Perf================\")\n",
    "stats = backtest_stats(training_baseline_df, value_col_name='close')\n",
    "print()\n",
    "print(\"================Evaluation Period Perf================\")\n",
    "stats = backtest_stats(evaluation_baseline_df, value_col_name='close')"
   ]
  },
  {
   "cell_type": "markdown",
   "metadata": {
    "id": "9U6Suru3h1jc"
   },
   "source": [
    "### Backtesting Plot"
   ]
  },
  {
   "cell_type": "markdown",
   "metadata": {},
   "source": [
    "### Training Performance"
   ]
  },
  {
   "cell_type": "code",
   "execution_count": null,
   "metadata": {
    "scrolled": false
   },
   "outputs": [],
   "source": [
    "%matplotlib inline\n",
    "backtest_plot(df_value['training_a2c'], baseline_ticker = 'SPY', baseline_start = start_date, baseline_end = split_date)"
   ]
  },
  {
   "cell_type": "code",
   "execution_count": null,
   "metadata": {
    "scrolled": false
   },
   "outputs": [],
   "source": [
    "%matplotlib inline\n",
    "backtest_plot(df_value['training_ppo'], baseline_ticker = 'SPY', baseline_start = start_date, baseline_end = split_date)"
   ]
  },
  {
   "cell_type": "markdown",
   "metadata": {},
   "source": [
    "### Evaluation Performance"
   ]
  },
  {
   "cell_type": "code",
   "execution_count": null,
   "metadata": {
    "colab": {
     "base_uri": "https://localhost:8080/",
     "height": 1000
    },
    "id": "lKRGftSS7pNM",
    "outputId": "00deee41-f99f-4aaf-a389-e66315de1ff6",
    "scrolled": false
   },
   "outputs": [],
   "source": [
    "%matplotlib inline\n",
    "backtest_plot(df_value['evaluation_a2c'], baseline_ticker = 'SPY', baseline_start = split_date, baseline_end = end_date)"
   ]
  },
  {
   "cell_type": "code",
   "execution_count": null,
   "metadata": {
    "scrolled": false
   },
   "outputs": [],
   "source": [
    "%matplotlib inline\n",
    "backtest_plot(df_value['evaluation_ppo'], baseline_ticker = 'SPY', baseline_start = split_date, baseline_end = end_date)"
   ]
  }
 ],
 "metadata": {
  "colab": {
   "collapsed_sections": [
    "uijiWgkuh1jB",
    "MRiOtrywfAo1",
    "_gDkU-j-fCmZ",
    "3Zpv4S0-fDBv"
   ],
   "include_colab_link": true,
   "name": "FinRL_stock_trading_NeurIPS_2018.ipynb",
   "provenance": [],
   "toc_visible": true
  },
  "kernelspec": {
   "display_name": "Python 3",
   "language": "python",
   "name": "python3"
  },
  "language_info": {
   "codemirror_mode": {
    "name": "ipython",
    "version": 3
   },
   "file_extension": ".py",
   "mimetype": "text/x-python",
   "name": "python",
   "nbconvert_exporter": "python",
   "pygments_lexer": "ipython3",
   "version": "3.8.8"
  },
  "pycharm": {
   "stem_cell": {
    "cell_type": "raw",
    "metadata": {
     "collapsed": false
    },
    "source": []
   }
  }
 },
 "nbformat": 4,
 "nbformat_minor": 4
}
